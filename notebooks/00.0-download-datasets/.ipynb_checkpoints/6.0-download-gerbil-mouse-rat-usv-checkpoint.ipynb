{
 "cells": [
  {
   "cell_type": "markdown",
   "metadata": {},
   "source": [
    "### Download the song dataset from Tachibana et al\n",
    "- Data location: https://sites.google.com/view/rtachi/resources"
   ]
  },
  {
   "cell_type": "code",
   "execution_count": 1,
   "metadata": {
    "ExecuteTime": {
     "end_time": "2019-09-26T18:32:44.836870Z",
     "start_time": "2019-09-26T18:32:44.486584Z"
    }
   },
   "outputs": [],
   "source": [
    "%load_ext autoreload\n",
    "%autoreload 2"
   ]
  },
  {
   "cell_type": "code",
   "execution_count": 2,
   "metadata": {
    "ExecuteTime": {
     "end_time": "2019-09-26T18:32:44.977486Z",
     "start_time": "2019-09-26T18:32:44.839637Z"
    }
   },
   "outputs": [
    {
     "name": "stderr",
     "output_type": "stream",
     "text": [
      "/home/ildefonso/Documents/repos/vocalpy/avgn_paper/avgn/utils/general.py:8: TqdmWarning: IProgress not found. Please update jupyter and ipywidgets. See https://ipywidgets.readthedocs.io/en/stable/user_install.html\n",
      "  from tqdm.autonotebook import tqdm\n"
     ]
    }
   ],
   "source": [
    "from avgn.downloading.download import download_tqdm\n",
    "from avgn.utils.paths import DATA_DIR, ensure_dir"
   ]
  },
  {
   "cell_type": "code",
   "execution_count": 3,
   "metadata": {
    "ExecuteTime": {
     "end_time": "2019-09-26T18:32:45.059565Z",
     "start_time": "2019-09-26T18:32:44.979533Z"
    }
   },
   "outputs": [],
   "source": [
    "data_urls = [\n",
    "    ('https://uc68dc35c6d050a7d64baaa4c882.dl.dropboxusercontent.com/zip_by_token_key?_download_id=413374838811177760549753661066612050198028547780229057623533942578664&_notify_domain=www.dropbox.com&dl=1&key=ApTNxN2_e0rkMkgpSAsk2OJY7vCoi-P7B3i-Ygem-3lC7tZGPMklet3thNjMGAg3sH6_LHTlcMjypv8tT7BtQa6yKCTXbbGmPPQ1LVhEioGs55-BIPaGkfwku72wkm7x9o_qogtbiKyspejYi0FITw0vBJ3oYNBWa3wOF9W43fIiKPedlUHIzEylb03dDr8ZrGG2OA7O-TvGpobgbQ0Mwane', 'dataset.zip'),\n",
    "]\n",
    "output_loc = DATA_DIR/\"raw/rodent/\""
   ]
  },
  {
   "cell_type": "code",
   "execution_count": 4,
   "metadata": {
    "ExecuteTime": {
     "end_time": "2019-09-26T18:33:34.098645Z",
     "start_time": "2019-09-26T18:32:45.062068Z"
    }
   },
   "outputs": [
    {
     "name": "stderr",
     "output_type": "stream",
     "text": [
      "1.00KB [00:00, 5.70kKB/s]\n"
     ]
    }
   ],
   "source": [
    "for url, filename in data_urls:\n",
    "    download_tqdm(url, output_location=output_loc/filename)    "
   ]
  },
  {
   "cell_type": "code",
   "execution_count": 5,
   "metadata": {
    "ExecuteTime": {
     "end_time": "2019-09-26T18:45:15.475463Z",
     "start_time": "2019-09-26T18:44:50.131184Z"
    }
   },
   "outputs": [
    {
     "ename": "NameError",
     "evalue": "name 'unzip_file' is not defined",
     "output_type": "error",
     "traceback": [
      "\u001b[0;31m---------------------------------------------------------------------------\u001b[0m",
      "\u001b[0;31mNameError\u001b[0m                                 Traceback (most recent call last)",
      "Cell \u001b[0;32mIn[5], line 3\u001b[0m\n\u001b[1;32m      1\u001b[0m \u001b[38;5;66;03m# unzip\u001b[39;00m\n\u001b[1;32m      2\u001b[0m \u001b[38;5;28;01mfor\u001b[39;00m url, filename \u001b[38;5;129;01min\u001b[39;00m data_urls:\n\u001b[0;32m----> 3\u001b[0m     \u001b[43munzip_file\u001b[49m(output_loc\u001b[38;5;241m/\u001b[39mfilename, output_loc\u001b[38;5;241m/\u001b[39m\u001b[38;5;124m\"\u001b[39m\u001b[38;5;124mzip_contents\u001b[39m\u001b[38;5;124m\"\u001b[39m)\n",
      "\u001b[0;31mNameError\u001b[0m: name 'unzip_file' is not defined"
     ]
    }
   ],
   "source": [
    "# unzip\n",
    "for url, filename in data_urls:\n",
    "    unzip_file(output_loc/filename, output_loc/\"zip_contents\")"
   ]
  }
 ],
 "metadata": {
  "kernelspec": {
   "display_name": "Python 3 (ipykernel)",
   "language": "python",
   "name": "python3"
  },
  "language_info": {
   "codemirror_mode": {
    "name": "ipython",
    "version": 3
   },
   "file_extension": ".py",
   "mimetype": "text/x-python",
   "name": "python",
   "nbconvert_exporter": "python",
   "pygments_lexer": "ipython3",
   "version": "3.11.4"
  }
 },
 "nbformat": 4,
 "nbformat_minor": 4
}
