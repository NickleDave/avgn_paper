{
 "cells": [
  {
   "cell_type": "code",
   "execution_count": 1,
   "metadata": {
    "ExecuteTime": {
     "end_time": "2019-06-06T06:14:14.874143Z",
     "start_time": "2019-06-06T06:14:14.831649Z"
    }
   },
   "outputs": [
    {
     "name": "stdout",
     "output_type": "stream",
     "text": [
      "env: CUDA_VISIBLE_DEVICES=[]\n"
     ]
    }
   ],
   "source": [
    "%load_ext autoreload\n",
    "%autoreload 2\n",
    "%env CUDA_VISIBLE_DEVICES=[]"
   ]
  },
  {
   "cell_type": "markdown",
   "metadata": {},
   "source": [
    "### Zebra Finch vocalizations\n",
    "Source:\n",
    "- https://journals.plos.org/plosone/article?id=10.1371/journal.pone.0181992\n",
    "- https://osf.io/bx76r/\n",
    "- http://localhost:8186/notebooks/tsainbur/Projects/github_repos/animalvocalizationgenerativenet/notebooks/birdsong/zebra_finch/1.0-segment-song-from-wavs.ipynb\n",
    "\n",
    "This dataset is larger than the other, but only contains songs, and from fewer individuals"
   ]
  },
  {
   "cell_type": "code",
   "execution_count": 2,
   "metadata": {
    "ExecuteTime": {
     "end_time": "2019-06-06T06:14:22.868309Z",
     "start_time": "2019-06-06T06:14:15.146026Z"
    }
   },
   "outputs": [],
   "source": [
    "from pathlib2 import Path\n",
    "import numpy as np \n",
    "import pandas as pd\n",
    "import matplotlib.pyplot as plt\n",
    "import tensorflow as tf\n",
    "import re\n",
    "import IPython\n",
    "import seaborn as sns"
   ]
  },
  {
   "cell_type": "code",
   "execution_count": 3,
   "metadata": {
    "ExecuteTime": {
     "end_time": "2019-06-06T06:14:24.077565Z",
     "start_time": "2019-06-06T06:14:22.872517Z"
    }
   },
   "outputs": [],
   "source": [
    "from avgn_paper.signalprocessing import spectrogramming as sg"
   ]
  },
  {
   "cell_type": "code",
   "execution_count": 4,
   "metadata": {
    "ExecuteTime": {
     "end_time": "2019-06-06T06:14:24.151583Z",
     "start_time": "2019-06-06T06:14:24.079942Z"
    }
   },
   "outputs": [],
   "source": [
    "import pdb\n",
    "from joblib import Parallel, delayed\n",
    "n_jobs = 10\n",
    "verbosity = 5"
   ]
  },
  {
   "cell_type": "code",
   "execution_count": 5,
   "metadata": {
    "ExecuteTime": {
     "end_time": "2019-06-06T06:14:24.310186Z",
     "start_time": "2019-06-06T06:14:24.154595Z"
    }
   },
   "outputs": [
    {
     "name": "stderr",
     "output_type": "stream",
     "text": [
      "/mnt/cube/tsainbur/conda_envs/tpy3/lib/python3.6/site-packages/tqdm/autonotebook/__init__.py:14: TqdmExperimentalWarning: Using `tqdm.autonotebook.tqdm` in notebook mode. Use `tqdm.tqdm` instead to force console mode (e.g. in jupyter console)\n",
      "  \" (e.g. in jupyter console)\", TqdmExperimentalWarning)\n"
     ]
    }
   ],
   "source": [
    "from tqdm.autonotebook import tqdm\n",
    "from librosa.core.time_frequency import mel_frequencies\n",
    "from avgn_paper.signalprocessing.spectrogramming_tf import spectrogram_tensorflow\n",
    "from avgn_paper.utils.audio import load_wav, float32_to_int16, int16_to_float32, write_wav\n",
    "from avgn_paper.visualization.spectrogram import visualize_spec, plot_spec\n",
    "from avgn_paper.utils.general import HParams\n",
    "from avgn_paper.signalprocessing.filtering import butter_bandpass_filter\n",
    "from datetime import datetime"
   ]
  },
  {
   "cell_type": "markdown",
   "metadata": {},
   "source": [
    "### data locations"
   ]
  },
  {
   "cell_type": "code",
   "execution_count": 6,
   "metadata": {
    "ExecuteTime": {
     "end_time": "2019-06-06T06:14:24.397695Z",
     "start_time": "2019-06-06T06:14:24.314285Z"
    }
   },
   "outputs": [],
   "source": [
    "DSLOC = Path('/mnt/cube/Datasets/ZebraFinch/OSF-BX76R/')"
   ]
  },
  {
   "cell_type": "code",
   "execution_count": 7,
   "metadata": {
    "ExecuteTime": {
     "end_time": "2019-06-06T06:14:24.577070Z",
     "start_time": "2019-06-06T06:14:24.399977Z"
    }
   },
   "outputs": [
    {
     "data": {
      "text/plain": [
       "8"
      ]
     },
     "execution_count": 7,
     "metadata": {},
     "output_type": "execute_result"
    }
   ],
   "source": [
    "MATFILES = list(DSLOC.expanduser().glob('*/*.mat'))\n",
    "MATFILES = [i for i in MATFILES if i.stem[0]!='.']\n",
    "len(MATFILES)"
   ]
  },
  {
   "cell_type": "code",
   "execution_count": 11,
   "metadata": {
    "ExecuteTime": {
     "end_time": "2019-06-06T06:15:46.526652Z",
     "start_time": "2019-06-06T06:15:45.195723Z"
    }
   },
   "outputs": [
    {
     "data": {
      "text/plain": [
       "[PosixPath('/mnt/cube/Datasets/ZebraFinch/OSF-BX76R/lr13/song.mat'),\n",
       " PosixPath('/mnt/cube/Datasets/ZebraFinch/OSF-BX76R/lr77/song.mat'),\n",
       " PosixPath('/mnt/cube/Datasets/ZebraFinch/OSF-BX76R/lr28/song.mat'),\n",
       " PosixPath('/mnt/cube/Datasets/ZebraFinch/OSF-BX76R/lny46/song.mat'),\n",
       " PosixPath('/mnt/cube/Datasets/ZebraFinch/OSF-BX76R/lny4rb/song.mat'),\n",
       " PosixPath('/mnt/cube/Datasets/ZebraFinch/OSF-BX76R/lr12/song.mat'),\n",
       " PosixPath('/mnt/cube/Datasets/ZebraFinch/OSF-BX76R/lny64/song.mat'),\n",
       " PosixPath('/mnt/cube/Datasets/ZebraFinch/OSF-BX76R/lny42/song.mat')]"
      ]
     },
     "execution_count": 11,
     "metadata": {},
     "output_type": "execute_result"
    }
   ],
   "source": [
    "MATFILES"
   ]
  },
  {
   "cell_type": "code",
   "execution_count": 8,
   "metadata": {
    "ExecuteTime": {
     "end_time": "2019-06-06T06:14:24.641847Z",
     "start_time": "2019-06-06T06:14:24.578900Z"
    }
   },
   "outputs": [],
   "source": [
    "import h5py as h5"
   ]
  },
  {
   "cell_type": "code",
   "execution_count": 9,
   "metadata": {
    "ExecuteTime": {
     "end_time": "2019-06-06T06:14:29.532824Z",
     "start_time": "2019-06-06T06:14:24.643640Z"
    }
   },
   "outputs": [
    {
     "data": {
      "application/vnd.jupyter.widget-view+json": {
       "model_id": "117415d982044a5e852dc39f822ca5e6",
       "version_major": 2,
       "version_minor": 0
      },
      "text/plain": [
       "HBox(children=(IntProgress(value=0, max=8), HTML(value='')))"
      ]
     },
     "metadata": {},
     "output_type": "display_data"
    },
    {
     "name": "stdout",
     "output_type": "stream",
     "text": [
      "\n"
     ]
    }
   ],
   "source": [
    "for mat_file in tqdm(MATFILES):\n",
    "    indv = mat_file.parent.stem\n",
    "    # try loading the MAT file\n",
    "    try:\n",
    "        with h5.File(mat_file) as f: \n",
    "            song = f['song'].value\n",
    "            rate = f['fs'].value[0]\n",
    "    except: \n",
    "        print(indv +' failed')\n",
    "        continue\n",
    "    break"
   ]
  },
  {
   "cell_type": "code",
   "execution_count": 10,
   "metadata": {
    "ExecuteTime": {
     "end_time": "2019-06-06T06:14:29.671990Z",
     "start_time": "2019-06-06T06:14:29.537436Z"
    }
   },
   "outputs": [
    {
     "data": {
      "text/plain": [
       "(3000, 22923)"
      ]
     },
     "execution_count": 10,
     "metadata": {},
     "output_type": "execute_result"
    }
   ],
   "source": [
    "np.shape(song)"
   ]
  },
  {
   "cell_type": "code",
   "execution_count": null,
   "metadata": {},
   "outputs": [],
   "source": []
  }
 ],
 "metadata": {
  "kernelspec": {
   "display_name": "Python 3",
   "language": "python",
   "name": "python3"
  },
  "language_info": {
   "codemirror_mode": {
    "name": "ipython",
    "version": 3
   },
   "file_extension": ".py",
   "mimetype": "text/x-python",
   "name": "python",
   "nbconvert_exporter": "python",
   "pygments_lexer": "ipython3",
   "version": "3.6.8"
  }
 },
 "nbformat": 4,
 "nbformat_minor": 2
}
