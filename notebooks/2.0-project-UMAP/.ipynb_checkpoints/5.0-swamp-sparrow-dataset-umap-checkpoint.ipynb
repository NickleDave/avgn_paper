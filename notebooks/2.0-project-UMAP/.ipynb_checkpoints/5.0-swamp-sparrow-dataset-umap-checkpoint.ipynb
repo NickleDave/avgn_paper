{
 "cells": [
  {
   "cell_type": "code",
   "execution_count": 1,
   "metadata": {
    "ExecuteTime": {
     "end_time": "2019-09-29T23:09:18.819079Z",
     "start_time": "2019-09-29T23:09:18.105964Z"
    }
   },
   "outputs": [],
   "source": [
    "%load_ext autoreload\n",
    "%autoreload 2"
   ]
  },
  {
   "cell_type": "code",
   "execution_count": 2,
   "metadata": {
    "ExecuteTime": {
     "end_time": "2019-09-29T23:09:18.920022Z",
     "start_time": "2019-09-29T23:09:18.823418Z"
    }
   },
   "outputs": [
    {
     "name": "stderr",
     "output_type": "stream",
     "text": [
      "/home/AD/tsainbur/miniconda3/envs/tim_py3/lib/python3.7/site-packages/tqdm/autonotebook.py:17: TqdmExperimentalWarning: Using `tqdm.autonotebook.tqdm` in notebook mode. Use `tqdm.tqdm` instead to force console mode (e.g. in jupyter console)\n",
      "  \" (e.g. in jupyter console)\", TqdmExperimentalWarning)\n"
     ]
    }
   ],
   "source": [
    "import numpy as np\n",
    "import matplotlib.pyplot as plt\n",
    "%matplotlib inline\n",
    "from tqdm.autonotebook import tqdm\n",
    "from joblib import Parallel, delayed\n",
    "import umap\n",
    "import pandas as pd"
   ]
  },
  {
   "cell_type": "code",
   "execution_count": 3,
   "metadata": {
    "ExecuteTime": {
     "end_time": "2019-09-29T23:09:19.027578Z",
     "start_time": "2019-09-29T23:09:18.921961Z"
    }
   },
   "outputs": [],
   "source": [
    "from avgn.utils.paths import DATA_DIR, most_recent_subdirectory, ensure_dir\n",
    "from avgn.signalprocessing.create_spectrogram_dataset import flatten_spectrograms"
   ]
  },
  {
   "cell_type": "markdown",
   "metadata": {},
   "source": [
    "### Collect data"
   ]
  },
  {
   "cell_type": "code",
   "execution_count": 4,
   "metadata": {
    "ExecuteTime": {
     "end_time": "2019-09-29T23:09:19.101938Z",
     "start_time": "2019-09-29T23:09:19.030067Z"
    }
   },
   "outputs": [],
   "source": [
    "DATASET_ID = 'swamp_sparrow'"
   ]
  },
  {
   "cell_type": "code",
   "execution_count": 5,
   "metadata": {
    "ExecuteTime": {
     "end_time": "2019-09-29T23:09:19.517708Z",
     "start_time": "2019-09-29T23:09:19.457936Z"
    }
   },
   "outputs": [],
   "source": [
    "from avgn.visualization.projections import (\n",
    "    scatter_projections,\n",
    "    draw_projection_transitions,\n",
    ")"
   ]
  },
  {
   "cell_type": "code",
   "execution_count": 6,
   "metadata": {
    "ExecuteTime": {
     "end_time": "2019-09-29T23:09:19.602579Z",
     "start_time": "2019-09-29T23:09:19.521332Z"
    }
   },
   "outputs": [],
   "source": [
    "df_loc =  DATA_DIR / 'syllable_dfs' / DATASET_ID / 'swampsparrow.pickle'"
   ]
  },
  {
   "cell_type": "code",
   "execution_count": 7,
   "metadata": {
    "ExecuteTime": {
     "end_time": "2019-09-29T23:09:22.035151Z",
     "start_time": "2019-09-29T23:09:19.606336Z"
    }
   },
   "outputs": [],
   "source": [
    "syllable_df = pd.read_pickle(df_loc)"
   ]
  },
  {
   "cell_type": "code",
   "execution_count": 8,
   "metadata": {
    "ExecuteTime": {
     "end_time": "2019-09-29T23:09:22.184653Z",
     "start_time": "2019-09-29T23:09:22.082640Z"
    }
   },
   "outputs": [
    {
     "data": {
      "text/html": [
       "<div>\n",
       "<style scoped>\n",
       "    .dataframe tbody tr th:only-of-type {\n",
       "        vertical-align: middle;\n",
       "    }\n",
       "\n",
       "    .dataframe tbody tr th {\n",
       "        vertical-align: top;\n",
       "    }\n",
       "\n",
       "    .dataframe thead th {\n",
       "        text-align: right;\n",
       "    }\n",
       "</style>\n",
       "<table border=\"1\" class=\"dataframe\">\n",
       "  <thead>\n",
       "    <tr style=\"text-align: right;\">\n",
       "      <th></th>\n",
       "      <th>start_time</th>\n",
       "      <th>end_time</th>\n",
       "      <th>syllable</th>\n",
       "      <th>pos_in_syllable</th>\n",
       "      <th>indv</th>\n",
       "      <th>indvi</th>\n",
       "      <th>key</th>\n",
       "      <th>audio</th>\n",
       "      <th>rate</th>\n",
       "      <th>spectrogram</th>\n",
       "    </tr>\n",
       "  </thead>\n",
       "  <tbody>\n",
       "    <tr>\n",
       "      <td>0</td>\n",
       "      <td>0.1015</td>\n",
       "      <td>0.1160</td>\n",
       "      <td>0.0</td>\n",
       "      <td>0.0</td>\n",
       "      <td>NYMONT33</td>\n",
       "      <td>0</td>\n",
       "      <td>SWSP09MONT33P1</td>\n",
       "      <td>[0.016902675631080007, 0.01836702934042918, 0....</td>\n",
       "      <td>44100</td>\n",
       "      <td>[[0.0, 0.0, 0.0, 0.0, 0.0, 0.0, 0.0, 0.0, 0.0,...</td>\n",
       "    </tr>\n",
       "    <tr>\n",
       "      <td>1</td>\n",
       "      <td>0.1460</td>\n",
       "      <td>0.2095</td>\n",
       "      <td>0.0</td>\n",
       "      <td>1.0</td>\n",
       "      <td>NYMONT33</td>\n",
       "      <td>0</td>\n",
       "      <td>SWSP09MONT33P1</td>\n",
       "      <td>[0.024533612567214726, 0.012936161995261142, 0...</td>\n",
       "      <td>44100</td>\n",
       "      <td>[[0.0, 0.0, 0.0, 0.0, 0.0, 0.0, 0.0, 0.0, 0.0,...</td>\n",
       "    </tr>\n",
       "    <tr>\n",
       "      <td>2</td>\n",
       "      <td>0.2510</td>\n",
       "      <td>0.2620</td>\n",
       "      <td>1.0</td>\n",
       "      <td>0.0</td>\n",
       "      <td>NYMONT33</td>\n",
       "      <td>0</td>\n",
       "      <td>SWSP09MONT33P1</td>\n",
       "      <td>[0.0022063292319460365, 0.013836752170883053, ...</td>\n",
       "      <td>44100</td>\n",
       "      <td>[[0.0, 0.0, 0.0, 0.0, 0.0, 0.056673408, 0.0122...</td>\n",
       "    </tr>\n",
       "  </tbody>\n",
       "</table>\n",
       "</div>"
      ],
      "text/plain": [
       "   start_time  end_time  syllable  pos_in_syllable      indv  indvi  \\\n",
       "0      0.1015    0.1160       0.0              0.0  NYMONT33      0   \n",
       "1      0.1460    0.2095       0.0              1.0  NYMONT33      0   \n",
       "2      0.2510    0.2620       1.0              0.0  NYMONT33      0   \n",
       "\n",
       "              key                                              audio   rate  \\\n",
       "0  SWSP09MONT33P1  [0.016902675631080007, 0.01836702934042918, 0....  44100   \n",
       "1  SWSP09MONT33P1  [0.024533612567214726, 0.012936161995261142, 0...  44100   \n",
       "2  SWSP09MONT33P1  [0.0022063292319460365, 0.013836752170883053, ...  44100   \n",
       "\n",
       "                                         spectrogram  \n",
       "0  [[0.0, 0.0, 0.0, 0.0, 0.0, 0.0, 0.0, 0.0, 0.0,...  \n",
       "1  [[0.0, 0.0, 0.0, 0.0, 0.0, 0.0, 0.0, 0.0, 0.0,...  \n",
       "2  [[0.0, 0.0, 0.0, 0.0, 0.0, 0.056673408, 0.0122...  "
      ]
     },
     "execution_count": 8,
     "metadata": {},
     "output_type": "execute_result"
    }
   ],
   "source": [
    "syllable_df[:3]"
   ]
  },
  {
   "cell_type": "code",
   "execution_count": 9,
   "metadata": {
    "ExecuteTime": {
     "end_time": "2019-09-29T23:09:28.165885Z",
     "start_time": "2019-09-29T23:09:23.978052Z"
    }
   },
   "outputs": [
    {
     "data": {
      "text/html": [
       "<div>\n",
       "<style scoped>\n",
       "    .dataframe tbody tr th:only-of-type {\n",
       "        vertical-align: middle;\n",
       "    }\n",
       "\n",
       "    .dataframe tbody tr th {\n",
       "        vertical-align: top;\n",
       "    }\n",
       "\n",
       "    .dataframe thead th {\n",
       "        text-align: right;\n",
       "    }\n",
       "</style>\n",
       "<table border=\"1\" class=\"dataframe\">\n",
       "  <thead>\n",
       "    <tr style=\"text-align: right;\">\n",
       "      <th></th>\n",
       "      <th>NYMONT33</th>\n",
       "      <th>PAConneaut08-101</th>\n",
       "      <th>NYADIRAQBT01</th>\n",
       "      <th>NYHVVLY39</th>\n",
       "      <th>NYADIRAQSI17</th>\n",
       "      <th>PAConneaut08-091</th>\n",
       "      <th>NYHVTIV18</th>\n",
       "      <th>MIWAT21</th>\n",
       "      <th>PAGeneva08-62</th>\n",
       "      <th>MIWAT71</th>\n",
       "      <th>...</th>\n",
       "      <th>MIWAT45</th>\n",
       "      <th>PAWatsonRun08-47</th>\n",
       "      <th>PAGeneva08-02</th>\n",
       "      <th>PAConneaut08-023</th>\n",
       "      <th>PAConneaut08-093</th>\n",
       "      <th>MIWAT20</th>\n",
       "      <th>WIHOR79</th>\n",
       "      <th>NYMONT06</th>\n",
       "      <th>NYADIRAQSI10</th>\n",
       "      <th>PAConneaut08-017</th>\n",
       "    </tr>\n",
       "  </thead>\n",
       "  <tbody>\n",
       "    <tr>\n",
       "      <td>0</td>\n",
       "      <td>92</td>\n",
       "      <td>172</td>\n",
       "      <td>240</td>\n",
       "      <td>158</td>\n",
       "      <td>219</td>\n",
       "      <td>157</td>\n",
       "      <td>168</td>\n",
       "      <td>104</td>\n",
       "      <td>160</td>\n",
       "      <td>125</td>\n",
       "      <td>...</td>\n",
       "      <td>152</td>\n",
       "      <td>140</td>\n",
       "      <td>95</td>\n",
       "      <td>123</td>\n",
       "      <td>87</td>\n",
       "      <td>85</td>\n",
       "      <td>117</td>\n",
       "      <td>107</td>\n",
       "      <td>74</td>\n",
       "      <td>120</td>\n",
       "    </tr>\n",
       "  </tbody>\n",
       "</table>\n",
       "<p>1 rows × 615 columns</p>\n",
       "</div>"
      ],
      "text/plain": [
       "   NYMONT33  PAConneaut08-101  NYADIRAQBT01  NYHVVLY39  NYADIRAQSI17  \\\n",
       "0        92               172           240        158           219   \n",
       "\n",
       "   PAConneaut08-091  NYHVTIV18  MIWAT21  PAGeneva08-62  MIWAT71  ...  MIWAT45  \\\n",
       "0               157        168      104            160      125  ...      152   \n",
       "\n",
       "   PAWatsonRun08-47  PAGeneva08-02  PAConneaut08-023  PAConneaut08-093  \\\n",
       "0               140             95               123                87   \n",
       "\n",
       "   MIWAT20  WIHOR79  NYMONT06  NYADIRAQSI10  PAConneaut08-017  \n",
       "0       85      117       107            74               120  \n",
       "\n",
       "[1 rows x 615 columns]"
      ]
     },
     "execution_count": 9,
     "metadata": {},
     "output_type": "execute_result"
    }
   ],
   "source": [
    "pd.DataFrame({i:[np.sum(syllable_df.indv == i)] for i in syllable_df.indv.unique()})"
   ]
  },
  {
   "cell_type": "markdown",
   "metadata": {},
   "source": [
    "### subset dataframe\n",
    "- there is some noise in labelling we want to remove"
   ]
  },
  {
   "cell_type": "code",
   "execution_count": 10,
   "metadata": {
    "ExecuteTime": {
     "end_time": "2019-09-29T23:09:31.826397Z",
     "start_time": "2019-09-29T23:09:28.168053Z"
    }
   },
   "outputs": [
    {
     "data": {
      "text/plain": [
       "Text(0.5, 1.0, 'min')"
      ]
     },
     "execution_count": 10,
     "metadata": {},
     "output_type": "execute_result"
    },
    {
     "data": {
      "image/png": "[encoded data removed]",
      "text/plain": [
       "<Figure size 1728x432 with 4 Axes>"
      ]
     },
     "metadata": {
      "needs_background": "light"
     },
     "output_type": "display_data"
    }
   ],
   "source": [
    "fig, axs = plt.subplots(ncols=4, figsize=(24,6))\n",
    "axs[0].hist([np.max(i) for i in syllable_df.spectrogram.values], bins=50);axs[0].set_title('max')\n",
    "axs[1].hist([np.sum(i) for i in syllable_df.spectrogram.values], bins=50);axs[1].set_title('sum')\n",
    "axs[2].hist((syllable_df.end_time - syllable_df.start_time).values, bins = 50); axs[2].set_title('len')\n",
    "axs[3].hist([np.min(i) for i in syllable_df.spectrogram.values], bins=50);axs[0].set_title('min')"
   ]
  },
  {
   "cell_type": "code",
   "execution_count": 11,
   "metadata": {
    "ExecuteTime": {
     "end_time": "2019-09-29T23:09:42.181531Z",
     "start_time": "2019-09-29T23:09:37.887389Z"
    }
   },
   "outputs": [
    {
     "data": {
      "image/png": "[encoded data removed]",
      "text/plain": [
       "<Figure size 432x288 with 1 Axes>"
      ]
     },
     "metadata": {
      "needs_background": "light"
     },
     "output_type": "display_data"
    }
   ],
   "source": [
    "plt.hist([np.sum(syllable_df.indv == i) for i in syllable_df.indv.unique()]);"
   ]
  },
  {
   "cell_type": "code",
   "execution_count": 12,
   "metadata": {
    "ExecuteTime": {
     "end_time": "2019-09-29T23:09:46.091961Z",
     "start_time": "2019-09-29T23:09:42.183845Z"
    }
   },
   "outputs": [
    {
     "data": {
      "text/plain": [
       "['PAConneaut08-101',\n",
       " 'NYADIRAQBT01',\n",
       " 'NYHVVLY39',\n",
       " 'NYADIRAQSI17',\n",
       " 'PAConneaut08-091',\n",
       " 'NYHVTIV18',\n",
       " 'MIWAT21',\n",
       " 'PAGeneva08-62',\n",
       " 'MIWAT71',\n",
       " 'NYHVTIV26',\n",
       " 'WIHOR13',\n",
       " 'NYHVTIV23',\n",
       " 'PAConneaut08-053',\n",
       " 'NYHVTIV29',\n",
       " 'PAConneaut08-030',\n",
       " 'PAConneaut08-052',\n",
       " 'NYMONT17',\n",
       " 'NYADIRAQBT28',\n",
       " 'MIWAT57',\n",
       " 'NYHVTHO04',\n",
       " 'PAGeneva08-45',\n",
       " 'PAGeneva08-61',\n",
       " 'MIWAT63',\n",
       " 'WIHOR74',\n",
       " 'PAConneaut08-068',\n",
       " 'NYADIRAQSI16',\n",
       " 'PAConneaut08-096',\n",
       " 'MIWAT40',\n",
       " 'WIHOR19',\n",
       " 'PAWatsonRun08-34',\n",
       " 'NYADIRAQBT35',\n",
       " 'PAWatsonRun08-40',\n",
       " 'WIHOR23',\n",
       " 'NYHVVLY02',\n",
       " 'PAConneaut08-062',\n",
       " 'NYMONT68',\n",
       " 'NYADIRAQSI27',\n",
       " 'WIHOR41',\n",
       " 'NYADIRAQSI23',\n",
       " 'NYHVTHO27',\n",
       " 'PAGeneva08-39',\n",
       " 'NYMONT29',\n",
       " 'WIHOR25',\n",
       " 'NYHVTIV25',\n",
       " 'NYADIRAQBT33',\n",
       " 'NYMONT51',\n",
       " 'NYHVTIV07',\n",
       " 'NYHVTHO17',\n",
       " 'PAWatsonRun08-02',\n",
       " 'PAGeneva08-64',\n",
       " 'NYADIRAQSI15',\n",
       " 'MIWAT12',\n",
       " 'NYHVVLY28',\n",
       " 'NYHVTHO08',\n",
       " 'MIWAT44',\n",
       " 'PAGeneva08-27',\n",
       " 'NYADIRAQBT25',\n",
       " 'WIHOR12',\n",
       " 'NYADIRAQSI26',\n",
       " 'PAGeneva08-53',\n",
       " 'NYADIRAQBT38',\n",
       " 'WIHOR66',\n",
       " 'PAConneaut08-014',\n",
       " 'NYADIRAQSI01',\n",
       " 'PAGeneva08-57',\n",
       " 'WIHOR07',\n",
       " 'WIHOR14',\n",
       " 'MIWAT06',\n",
       " 'NYHVTIV24',\n",
       " 'WIHOR33',\n",
       " 'NYHVTIV05',\n",
       " 'PAWatsonRun08-11',\n",
       " 'WIHOR26',\n",
       " 'PAGeneva08-49',\n",
       " 'PAWatsonRun08-15',\n",
       " 'PAWatsonRun08-33',\n",
       " 'NYADIRAQSI07',\n",
       " 'NYMONT55',\n",
       " 'PAWatsonRun08-29',\n",
       " 'PAConneaut08-032',\n",
       " 'NYHVTHO20',\n",
       " 'PAConneaut08-058',\n",
       " 'NYMONT08',\n",
       " 'NYHVTHO29',\n",
       " 'PAGeneva08-26',\n",
       " 'WIHOR47',\n",
       " 'WIHOR17',\n",
       " 'NYADIRAQBT32',\n",
       " 'PAConneaut08-025',\n",
       " 'PAGeneva08-43',\n",
       " 'NYHVTIV08',\n",
       " 'MIWAT02',\n",
       " 'MIWAT67',\n",
       " 'NYADIRAQSI05',\n",
       " 'NYHVVLY37',\n",
       " 'NYMONT60',\n",
       " 'PAGeneva08-07',\n",
       " 'WIHOR38',\n",
       " 'MIWAT43',\n",
       " 'PAWatsonRun08-22',\n",
       " 'WIHOR01',\n",
       " 'WIHOR28',\n",
       " 'PAWatsonRun08-08',\n",
       " 'NYMONT48',\n",
       " 'WIHOR40',\n",
       " 'WIHOR10',\n",
       " 'NYMONT36',\n",
       " 'PAGeneva08-36',\n",
       " 'NYHVTHO07',\n",
       " 'MIWAT62',\n",
       " 'NYMONT39',\n",
       " 'MIWAT68',\n",
       " 'PAWatsonRun08-42',\n",
       " 'WIHOR72',\n",
       " 'WIHOR82',\n",
       " 'NYMONT52',\n",
       " 'NYADIRAQBT13',\n",
       " 'PAConneaut08-040',\n",
       " 'MIWAT61',\n",
       " 'MIWAT26',\n",
       " 'MIWAT13',\n",
       " 'MIWAT50',\n",
       " 'NYMONT12',\n",
       " 'MIWAT07',\n",
       " 'NYHVVLY14',\n",
       " 'WIHOR88',\n",
       " 'PAWatsonRun08-30',\n",
       " 'NYHVVLY09',\n",
       " 'PAGeneva08-30',\n",
       " 'PAGeneva08-55',\n",
       " 'WIHOR78',\n",
       " 'WIHOR50',\n",
       " 'WIHOR32',\n",
       " 'PAGeneva08-24',\n",
       " 'NYHVVLY07',\n",
       " 'WIHOR89',\n",
       " 'PAConneaut08-060',\n",
       " 'NYHVVLY35',\n",
       " 'WIHOR43',\n",
       " 'NYMONT34',\n",
       " 'PAGeneva08-63',\n",
       " 'NYMONT27',\n",
       " 'PAGeneva08-19',\n",
       " 'NYHVTHO09',\n",
       " 'NYADIRAQBT26',\n",
       " 'WIHOR90',\n",
       " 'PAConneaut08-092',\n",
       " 'NYADIRAQBT39',\n",
       " 'NYMONT31',\n",
       " 'MIWAT32',\n",
       " 'WIHOR04',\n",
       " 'PAWatsonRun08-28',\n",
       " 'PAGeneva08-18',\n",
       " 'NYADIRAQSI30',\n",
       " 'NYADIRAQSI04',\n",
       " 'NYADIRAQSI11',\n",
       " 'PAGeneva08-58',\n",
       " 'PAGeneva08-59',\n",
       " 'NYHVTIV06',\n",
       " 'NYMONT46',\n",
       " 'MIWAT03',\n",
       " 'NYADIRAQBT20',\n",
       " 'MIWAT05',\n",
       " 'PAWatsonRun08-48',\n",
       " 'WIHOR31',\n",
       " 'NYADIRAQSI14',\n",
       " 'PAConneaut08-021',\n",
       " 'NYHVTIV19',\n",
       " 'PAConneaut08-061',\n",
       " 'PAConneaut08-064',\n",
       " 'PAWatsonRun08-24',\n",
       " 'NYMONT13',\n",
       " 'WIHOR44',\n",
       " 'NYADIRAQBT12',\n",
       " 'PAConneaut08-081',\n",
       " 'MIWAT65',\n",
       " 'PAGeneva08-21',\n",
       " 'NYADIRAQSI20',\n",
       " 'PAConneaut08-049',\n",
       " 'NYADIRAQSI08',\n",
       " 'NYMONT63',\n",
       " 'PAConneaut08-031',\n",
       " 'WIHOR15',\n",
       " 'PAConneaut08-088',\n",
       " 'MIWAT08',\n",
       " 'NYHVTHO19',\n",
       " 'NYHVVLY40',\n",
       " 'PAWatsonRun08-43',\n",
       " 'NYADIRAQSI09',\n",
       " 'NYADIRAQSI13',\n",
       " 'MIWAT09',\n",
       " 'XXXPAWatsonRun08-39',\n",
       " 'NYADIRAQSI24',\n",
       " 'NYMONT44',\n",
       " 'NYMONT47',\n",
       " 'NYMONT09',\n",
       " 'MIWAT37',\n",
       " 'WIHOR02',\n",
       " 'NYHVTIV12',\n",
       " 'MIWAT24',\n",
       " 'MIWAT31',\n",
       " 'PAConneaut08-035',\n",
       " 'NYMONT18',\n",
       " 'NYADIRAQBT03',\n",
       " 'PAWatsonRun08-45',\n",
       " 'WIHOR37',\n",
       " 'PAConneaut08-095',\n",
       " 'NYHVVLY05',\n",
       " 'PAGeneva08-22',\n",
       " 'MIWAT70',\n",
       " 'PAConneaut08-007',\n",
       " 'NYADIRAQBT07',\n",
       " 'NYADIRAQBT31',\n",
       " 'PAConneaut08-076',\n",
       " 'NYADIRAQSI21',\n",
       " 'MIWAT15',\n",
       " 'PAConneaut08-103',\n",
       " 'NYMONT26',\n",
       " 'WIHOR21',\n",
       " 'NYHVVLY15',\n",
       " 'WIHOR35',\n",
       " 'MIWAT42',\n",
       " 'NYADIRAQBT30',\n",
       " 'PAWatsonRun08-26',\n",
       " 'NYHVTHO03',\n",
       " 'NYADIRAQBT36',\n",
       " 'NYHVTIV10',\n",
       " 'NYHVVLY04',\n",
       " 'NYHVVLY16',\n",
       " 'WIHOR30',\n",
       " 'NYHVTIV21',\n",
       " 'NYMONT24',\n",
       " 'NYHVTIV13',\n",
       " 'WIHOR56',\n",
       " 'NYHVVLY25',\n",
       " 'PAConneaut08-079',\n",
       " 'WIHOR18',\n",
       " 'NYHVVLY01',\n",
       " 'MIWAT39',\n",
       " 'PAGeneva08-56',\n",
       " 'PAWatsonRun08-37',\n",
       " 'NYHVTHO15',\n",
       " 'NYADIRAQBT17',\n",
       " 'PAGeneva08-41',\n",
       " 'NYHVVLY30',\n",
       " 'PAWatsonRun08-09',\n",
       " 'NYHVTIV03',\n",
       " 'PAGeneva08-09',\n",
       " 'NYHVTHO28',\n",
       " 'NYADIRAQSI28',\n",
       " 'NYHVVLY21',\n",
       " 'NYHVTIV17',\n",
       " 'WIHOR87',\n",
       " 'PAConneaut08-057',\n",
       " 'PAWatsonRun08-20',\n",
       " 'WIHOR22',\n",
       " 'PAGeneva08-15',\n",
       " 'PAConneaut08-024',\n",
       " 'NYHVTIV14',\n",
       " 'MIWAT53',\n",
       " 'PAGeneva08-28',\n",
       " 'PAGeneva08-44',\n",
       " 'NYADIRAQSI03',\n",
       " 'PAConneaut08-086',\n",
       " 'MIWAT56',\n",
       " 'PAGeneva08-25',\n",
       " 'NYHVTHO06',\n",
       " 'PAGeneva08-51',\n",
       " 'NYHVTIV20',\n",
       " 'NYHVTHO10',\n",
       " 'MIWAT16',\n",
       " 'NYADIRAQSI22',\n",
       " 'MIWAT19',\n",
       " 'WIHOR91',\n",
       " 'NYHVTIV27',\n",
       " 'PAConneaut08-051',\n",
       " 'PAConneaut08-020',\n",
       " 'PAWatsonRun08-16',\n",
       " 'PAConneaut08-048',\n",
       " 'PAGeneva08-35',\n",
       " 'NYADIRAQBT37',\n",
       " 'PAConneaut08-063',\n",
       " 'MIWAT52',\n",
       " 'MIWAT23',\n",
       " 'NYHVTHO30',\n",
       " 'PAConneaut08-080',\n",
       " 'PAConneaut08-004',\n",
       " 'WIHOR68',\n",
       " 'NYMONT10',\n",
       " 'PAGeneva08-50',\n",
       " 'PAGeneva08-33',\n",
       " 'PAWatsonRun08-05',\n",
       " 'WIHOR76',\n",
       " 'WIHOR80',\n",
       " 'PAConneaut08-098',\n",
       " 'WIHOR86',\n",
       " 'NYHVVLY08',\n",
       " 'PAGeneva08-47',\n",
       " 'NYHVVLY13',\n",
       " 'NYHVTHO21',\n",
       " 'NYHVTIV22',\n",
       " 'PAConneaut08-113',\n",
       " 'NYADIRAQBT21',\n",
       " 'NYHVTIV15',\n",
       " 'PAGeneva08-01',\n",
       " 'MIWAT60',\n",
       " 'PAGeneva08-40',\n",
       " 'NYADIRAQBT15',\n",
       " 'PAConneaut08-100',\n",
       " 'PAWatsonRun08-38',\n",
       " 'PAConneaut08-082',\n",
       " 'NYMONT41',\n",
       " 'MIWAT49',\n",
       " 'MIWAT46',\n",
       " 'PAConneaut08-002',\n",
       " 'PAConneaut08-105',\n",
       " 'PAGeneva08-03',\n",
       " 'NYHVTIV16',\n",
       " 'NYHVVLY06',\n",
       " 'NYADIRAQSI02',\n",
       " 'NYADIRAQBT08',\n",
       " 'MIWAT30',\n",
       " 'NYHVTIV02',\n",
       " 'MIWAT54',\n",
       " 'WIHOR81',\n",
       " 'MIWAT27',\n",
       " 'PAGeneva08-52',\n",
       " 'PAGeneva08-08',\n",
       " 'NYMONT23',\n",
       " 'MIWAT47',\n",
       " 'NYHVVLY10',\n",
       " 'PAWatsonRun08-03',\n",
       " 'MIWAT36',\n",
       " 'PAConneaut08-018',\n",
       " 'WIHOR20',\n",
       " 'NYHVTHO02',\n",
       " 'WIHOR08',\n",
       " 'PAGeneva08-23',\n",
       " 'NYHVVLY34',\n",
       " 'NYADIRAQBT05',\n",
       " 'NYMONT21',\n",
       " 'PAConneaut08-056',\n",
       " 'PAWatsonRun08-31',\n",
       " 'PAWatsonRun08-36',\n",
       " 'WIHOR57',\n",
       " 'PAWatsonRun08-21',\n",
       " 'NYADIRAQSI06',\n",
       " 'PAConneaut08-039',\n",
       " 'PAGeneva08-46',\n",
       " 'NYMONT56',\n",
       " 'WIHOR85',\n",
       " 'PAConneaut08-102',\n",
       " 'NYHVVLY41',\n",
       " 'WIHOR53',\n",
       " 'NYADIRAQBT06',\n",
       " 'PAGeneva08-48',\n",
       " 'NYHVVLY18',\n",
       " 'PAConneaut08-043',\n",
       " 'MIWAT35',\n",
       " 'PAConneaut08-108',\n",
       " 'NYMONT20',\n",
       " 'NYHVVLY26',\n",
       " 'PAConneaut08-016',\n",
       " 'NYMONT02',\n",
       " 'PAConneaut08-110',\n",
       " 'PAWatsonRun08-07',\n",
       " 'PAConneaut08-099',\n",
       " 'PAConneaut08-006',\n",
       " 'MIWAT29',\n",
       " 'PAConneaut08-050',\n",
       " 'NYMONT67',\n",
       " 'NYHVTHO14',\n",
       " 'NYHVTIV09',\n",
       " 'NYMONT43',\n",
       " 'NYMONT19',\n",
       " 'PAConneaut08-037',\n",
       " 'PAWatsonRun08-19',\n",
       " 'WIHOR16',\n",
       " 'NYHVTHO12',\n",
       " 'NYADIRAQSI19',\n",
       " 'MIWAT22',\n",
       " 'MIWAT28',\n",
       " 'NYHVTHO18',\n",
       " 'PAGeneva08-54',\n",
       " 'NYMONT25',\n",
       " 'PAGeneva08-16',\n",
       " 'PAConneaut08-083',\n",
       " 'NYMONT58',\n",
       " 'MIWAT69',\n",
       " 'NYMONT40',\n",
       " 'MIWAT59',\n",
       " 'NYADIRAQSI25',\n",
       " 'WIHOR64',\n",
       " 'WIHOR59',\n",
       " 'NYHVVLY29',\n",
       " 'PAWatsonRun08-49',\n",
       " 'WIHOR27',\n",
       " 'PAGeneva08-20',\n",
       " 'NYHVTIV28',\n",
       " 'WIHOR24',\n",
       " 'PAConneaut08-028',\n",
       " 'MIWAT58',\n",
       " 'NYADIRAQBT24',\n",
       " 'NYADIRAQBT04',\n",
       " 'PAConneaut08-107',\n",
       " 'PAWatsonRun08-17',\n",
       " 'NYADIRAQBT19',\n",
       " 'WIHOR36',\n",
       " 'NYHVTHO25',\n",
       " 'MIWAT25',\n",
       " 'PAWatsonRun08-25',\n",
       " 'NYMONT15',\n",
       " 'MIWAT14',\n",
       " 'NYHVVLY27',\n",
       " 'PAWatsonRun08-13',\n",
       " 'NYADIRAQSI29',\n",
       " 'NYADIRAQBT23',\n",
       " 'NYMONT62',\n",
       " 'NYHVTHO13',\n",
       " 'NYHVVLY33',\n",
       " 'PAConneaut08-047',\n",
       " 'WIHOR45',\n",
       " 'NYADIRAQBT16',\n",
       " 'NYMONT70',\n",
       " 'WIHOR83',\n",
       " 'NYMONT66',\n",
       " 'NYHVTHO26',\n",
       " 'NYMONT37',\n",
       " 'WIHOR05',\n",
       " 'MIWAT04',\n",
       " 'NYMONT11',\n",
       " 'NYHVVLY23',\n",
       " 'MIWAT17',\n",
       " 'NYHVTHO05',\n",
       " 'PAConneaut08-069',\n",
       " 'NYADIRAQBT22',\n",
       " 'PAGeneva08-42',\n",
       " 'NYMONT53',\n",
       " 'PAWatsonRun08-50',\n",
       " 'PAConneaut08-045',\n",
       " 'NYMONT50',\n",
       " 'PAWatsonRun08-46',\n",
       " 'NYHVTHO22',\n",
       " 'WIHOR54',\n",
       " 'WIHOR42',\n",
       " 'PAConneaut08-094',\n",
       " 'PAWatsonRun08-10',\n",
       " 'NYADIRAQSI12',\n",
       " 'NYHVVLY20',\n",
       " 'NYHVVLY22',\n",
       " 'NYMONT65',\n",
       " 'WIHOR09',\n",
       " 'PAGeneva08-10',\n",
       " 'WIHOR65',\n",
       " 'PAGeneva08-29',\n",
       " 'NYADIRAQBT11',\n",
       " 'NYADIRAQBT14',\n",
       " 'WIHOR46',\n",
       " 'NYMONT57',\n",
       " 'PAWatsonRun08-04',\n",
       " 'NYADIRAQBT34',\n",
       " 'WIHOR62',\n",
       " 'NYMONT64',\n",
       " 'MIWAT74',\n",
       " 'NYADIRAQSI31',\n",
       " 'NYMONT28',\n",
       " 'WIHOR29',\n",
       " 'PAGeneva08-05',\n",
       " 'NYMONT01',\n",
       " 'NYHVVLY19',\n",
       " 'PAConneaut08-111',\n",
       " 'MIWAT18',\n",
       " 'MIWAT41',\n",
       " 'MIWAT33',\n",
       " 'NYMONT04',\n",
       " 'PAConneaut08-029',\n",
       " 'PAWatsonRun08-35',\n",
       " 'NYHVVLY31',\n",
       " 'PAGeneva08-32',\n",
       " 'PAConneaut08-044',\n",
       " 'PAGeneva08-13',\n",
       " 'NYADIRAQSI18',\n",
       " 'NYHVVLY12',\n",
       " 'PAConneaut08-059',\n",
       " 'MIWAT38',\n",
       " 'NYADIRAQBT02',\n",
       " 'PAGeneva08-12',\n",
       " 'WIHOR70',\n",
       " 'PAConneaut08-078',\n",
       " 'PAConneaut08-104',\n",
       " 'WIHOR11',\n",
       " 'NYMONT69',\n",
       " 'PAWatsonRun08-12',\n",
       " 'PAWatsonRun08-32',\n",
       " 'WIHOR84',\n",
       " 'NYMONT14',\n",
       " 'MIWAT01',\n",
       " 'NYHVTIV04',\n",
       " 'NYMONT05',\n",
       " 'MIWAT34',\n",
       " 'PAWatsonRun08-44',\n",
       " 'WIHOR77',\n",
       " 'NYHVTHO16',\n",
       " 'WIHOR49',\n",
       " 'PAWatsonRun08-14',\n",
       " 'WIHOR60',\n",
       " 'WIHOR58',\n",
       " 'PAConneaut08-034',\n",
       " 'NYADIRAQBT18',\n",
       " 'PAConneaut08-112',\n",
       " 'WIHOR55',\n",
       " 'NYHVVLY38',\n",
       " 'PAConneaut08-074',\n",
       " 'PAConneaut08-010',\n",
       " 'PAGeneva08-06',\n",
       " 'PAGeneva08-60',\n",
       " 'NYADIRAQBT29',\n",
       " 'PAConneaut08-109',\n",
       " 'PAConneaut08-026',\n",
       " 'MIWAT48',\n",
       " 'PAWatsonRun08-06',\n",
       " 'NYADIRAQBT09',\n",
       " 'WIHOR51',\n",
       " 'WIHOR39',\n",
       " 'PAConneaut08-012',\n",
       " 'WIHOR06',\n",
       " 'NYHVVLY24',\n",
       " 'MIWAT51',\n",
       " 'PAConneaut08-072',\n",
       " 'NYMONT61',\n",
       " 'MIWAT11',\n",
       " 'MIWAT66',\n",
       " 'PAWatsonRun08-41',\n",
       " 'MIWAT45',\n",
       " 'PAWatsonRun08-47',\n",
       " 'PAConneaut08-023',\n",
       " 'WIHOR79',\n",
       " 'NYMONT06',\n",
       " 'PAConneaut08-017']"
      ]
     },
     "execution_count": 12,
     "metadata": {},
     "output_type": "execute_result"
    }
   ],
   "source": [
    "indv_to_plot = [i for i in syllable_df.indv.unique() if np.sum(syllable_df.indv == i) > 100]\n",
    "indv_to_plot"
   ]
  },
  {
   "cell_type": "code",
   "execution_count": 13,
   "metadata": {
    "ExecuteTime": {
     "end_time": "2019-09-29T23:12:26.759994Z",
     "start_time": "2019-09-29T23:12:25.168714Z"
    }
   },
   "outputs": [],
   "source": [
    "subset_df = syllable_df[\n",
    "    syllable_df.indv.isin(indv_to_plot) & \n",
    "    np.array([np.sum(i) > 0.2 for i in syllable_df.spectrogram.values])\n",
    "]"
   ]
  },
  {
   "cell_type": "code",
   "execution_count": 14,
   "metadata": {
    "ExecuteTime": {
     "end_time": "2019-09-29T23:12:29.627633Z",
     "start_time": "2019-09-29T23:12:28.681795Z"
    }
   },
   "outputs": [
    {
     "data": {
      "text/plain": [
       "(91336, 704)"
      ]
     },
     "execution_count": 14,
     "metadata": {},
     "output_type": "execute_result"
    }
   ],
   "source": [
    "specs = list(subset_df.spectrogram.values)\n",
    "#specs = [i/np.max(i) for i in specs if np.sum(i) > 100]\n",
    "specs_flattened = flatten_spectrograms(specs)\n",
    "np.shape(specs_flattened)"
   ]
  },
  {
   "cell_type": "code",
   "execution_count": 15,
   "metadata": {
    "ExecuteTime": {
     "end_time": "2019-09-29T23:12:30.788332Z",
     "start_time": "2019-09-29T23:12:30.635001Z"
    }
   },
   "outputs": [
    {
     "data": {
      "text/html": [
       "<div>\n",
       "<style scoped>\n",
       "    .dataframe tbody tr th:only-of-type {\n",
       "        vertical-align: middle;\n",
       "    }\n",
       "\n",
       "    .dataframe tbody tr th {\n",
       "        vertical-align: top;\n",
       "    }\n",
       "\n",
       "    .dataframe thead th {\n",
       "        text-align: right;\n",
       "    }\n",
       "</style>\n",
       "<table border=\"1\" class=\"dataframe\">\n",
       "  <thead>\n",
       "    <tr style=\"text-align: right;\">\n",
       "      <th></th>\n",
       "      <th>start_time</th>\n",
       "      <th>end_time</th>\n",
       "      <th>syllable</th>\n",
       "      <th>pos_in_syllable</th>\n",
       "      <th>indv</th>\n",
       "      <th>indvi</th>\n",
       "      <th>key</th>\n",
       "      <th>audio</th>\n",
       "      <th>rate</th>\n",
       "      <th>spectrogram</th>\n",
       "    </tr>\n",
       "  </thead>\n",
       "  <tbody>\n",
       "    <tr>\n",
       "      <td>0</td>\n",
       "      <td>0.0935</td>\n",
       "      <td>0.0995</td>\n",
       "      <td>0.0</td>\n",
       "      <td>0.0</td>\n",
       "      <td>PAConneaut08-101</td>\n",
       "      <td>0</td>\n",
       "      <td>PymConneaut08T101A-Z</td>\n",
       "      <td>[0.06969332862600451, 0.06959801897460591, 0.0...</td>\n",
       "      <td>44100</td>\n",
       "      <td>[[0.0, 0.0, 0.0, 0.0, 0.0, 0.0, 0.18450777, 0....</td>\n",
       "    </tr>\n",
       "    <tr>\n",
       "      <td>1</td>\n",
       "      <td>0.1075</td>\n",
       "      <td>0.1605</td>\n",
       "      <td>0.0</td>\n",
       "      <td>1.0</td>\n",
       "      <td>PAConneaut08-101</td>\n",
       "      <td>0</td>\n",
       "      <td>PymConneaut08T101A-Z</td>\n",
       "      <td>[0.05956509596237225, 0.06447900194559553, 0.0...</td>\n",
       "      <td>44100</td>\n",
       "      <td>[[0.0, 0.0, 0.24632797, 0.16177763, 0.09246848...</td>\n",
       "    </tr>\n",
       "    <tr>\n",
       "      <td>2</td>\n",
       "      <td>0.1770</td>\n",
       "      <td>0.2170</td>\n",
       "      <td>0.0</td>\n",
       "      <td>2.0</td>\n",
       "      <td>PAConneaut08-101</td>\n",
       "      <td>0</td>\n",
       "      <td>PymConneaut08T101A-Z</td>\n",
       "      <td>[-0.0016472223832536582, -0.010803575765281171...</td>\n",
       "      <td>44100</td>\n",
       "      <td>[[0.0, 0.0, 0.043056857, 0.015127991, -0.00225...</td>\n",
       "    </tr>\n",
       "  </tbody>\n",
       "</table>\n",
       "</div>"
      ],
      "text/plain": [
       "   start_time  end_time  syllable  pos_in_syllable              indv  indvi  \\\n",
       "0      0.0935    0.0995       0.0              0.0  PAConneaut08-101      0   \n",
       "1      0.1075    0.1605       0.0              1.0  PAConneaut08-101      0   \n",
       "2      0.1770    0.2170       0.0              2.0  PAConneaut08-101      0   \n",
       "\n",
       "                    key                                              audio  \\\n",
       "0  PymConneaut08T101A-Z  [0.06969332862600451, 0.06959801897460591, 0.0...   \n",
       "1  PymConneaut08T101A-Z  [0.05956509596237225, 0.06447900194559553, 0.0...   \n",
       "2  PymConneaut08T101A-Z  [-0.0016472223832536582, -0.010803575765281171...   \n",
       "\n",
       "    rate                                        spectrogram  \n",
       "0  44100  [[0.0, 0.0, 0.0, 0.0, 0.0, 0.0, 0.18450777, 0....  \n",
       "1  44100  [[0.0, 0.0, 0.24632797, 0.16177763, 0.09246848...  \n",
       "2  44100  [[0.0, 0.0, 0.043056857, 0.015127991, -0.00225...  "
      ]
     },
     "execution_count": 15,
     "metadata": {},
     "output_type": "execute_result"
    }
   ],
   "source": [
    "subset_df[:3]"
   ]
  },
  {
   "cell_type": "code",
   "execution_count": 16,
   "metadata": {
    "ExecuteTime": {
     "end_time": "2019-09-29T23:43:32.982452Z",
     "start_time": "2019-09-29T23:43:32.127744Z"
    }
   },
   "outputs": [
    {
     "data": {
      "text/html": [
       "<div>\n",
       "<style scoped>\n",
       "    .dataframe tbody tr th:only-of-type {\n",
       "        vertical-align: middle;\n",
       "    }\n",
       "\n",
       "    .dataframe tbody tr th {\n",
       "        vertical-align: top;\n",
       "    }\n",
       "\n",
       "    .dataframe thead th {\n",
       "        text-align: right;\n",
       "    }\n",
       "</style>\n",
       "<table border=\"1\" class=\"dataframe\">\n",
       "  <thead>\n",
       "    <tr style=\"text-align: right;\">\n",
       "      <th></th>\n",
       "      <th>start_time</th>\n",
       "      <th>end_time</th>\n",
       "      <th>syllable</th>\n",
       "      <th>pos_in_syllable</th>\n",
       "      <th>indv</th>\n",
       "      <th>indvi</th>\n",
       "      <th>key</th>\n",
       "      <th>audio</th>\n",
       "      <th>rate</th>\n",
       "      <th>spectrogram</th>\n",
       "    </tr>\n",
       "  </thead>\n",
       "  <tbody>\n",
       "    <tr>\n",
       "      <td>0</td>\n",
       "      <td>0.0935</td>\n",
       "      <td>0.0995</td>\n",
       "      <td>0.0</td>\n",
       "      <td>0.0</td>\n",
       "      <td>PAConneaut08-101</td>\n",
       "      <td>0</td>\n",
       "      <td>PymConneaut08T101A-Z</td>\n",
       "      <td>[0.06969332862600451, 0.06959801897460591, 0.0...</td>\n",
       "      <td>44100</td>\n",
       "      <td>[[0.0, 0.0, 0.0, 0.0, 0.0, 0.0, 0.18450777, 0....</td>\n",
       "    </tr>\n",
       "    <tr>\n",
       "      <td>1</td>\n",
       "      <td>0.1075</td>\n",
       "      <td>0.1605</td>\n",
       "      <td>0.0</td>\n",
       "      <td>1.0</td>\n",
       "      <td>PAConneaut08-101</td>\n",
       "      <td>0</td>\n",
       "      <td>PymConneaut08T101A-Z</td>\n",
       "      <td>[0.05956509596237225, 0.06447900194559553, 0.0...</td>\n",
       "      <td>44100</td>\n",
       "      <td>[[0.0, 0.0, 0.24632797, 0.16177763, 0.09246848...</td>\n",
       "    </tr>\n",
       "    <tr>\n",
       "      <td>2</td>\n",
       "      <td>0.1770</td>\n",
       "      <td>0.2170</td>\n",
       "      <td>0.0</td>\n",
       "      <td>2.0</td>\n",
       "      <td>PAConneaut08-101</td>\n",
       "      <td>0</td>\n",
       "      <td>PymConneaut08T101A-Z</td>\n",
       "      <td>[-0.0016472223832536582, -0.010803575765281171...</td>\n",
       "      <td>44100</td>\n",
       "      <td>[[0.0, 0.0, 0.043056857, 0.015127991, -0.00225...</td>\n",
       "    </tr>\n",
       "    <tr>\n",
       "      <td>3</td>\n",
       "      <td>0.2690</td>\n",
       "      <td>0.2765</td>\n",
       "      <td>1.0</td>\n",
       "      <td>0.0</td>\n",
       "      <td>PAConneaut08-101</td>\n",
       "      <td>0</td>\n",
       "      <td>PymConneaut08T101A-Z</td>\n",
       "      <td>[0.06307313459012304, 0.06570141840239573, 0.0...</td>\n",
       "      <td>44100</td>\n",
       "      <td>[[0.0, 0.0, 0.0, 0.0, 0.0, 0.2477134, 0.212571...</td>\n",
       "    </tr>\n",
       "    <tr>\n",
       "      <td>4</td>\n",
       "      <td>0.2795</td>\n",
       "      <td>0.3395</td>\n",
       "      <td>1.0</td>\n",
       "      <td>1.0</td>\n",
       "      <td>PAConneaut08-101</td>\n",
       "      <td>0</td>\n",
       "      <td>PymConneaut08T101A-Z</td>\n",
       "      <td>[-0.030964259441389225, -0.0263069614956131, -...</td>\n",
       "      <td>44100</td>\n",
       "      <td>[[0.0, 0.08078519, 0.1313302, 0.2087228, 0.122...</td>\n",
       "    </tr>\n",
       "    <tr>\n",
       "      <td>5</td>\n",
       "      <td>0.3530</td>\n",
       "      <td>0.3935</td>\n",
       "      <td>1.0</td>\n",
       "      <td>2.0</td>\n",
       "      <td>PAConneaut08-101</td>\n",
       "      <td>0</td>\n",
       "      <td>PymConneaut08T101A-Z</td>\n",
       "      <td>[0.06448316695245321, 0.05989226929086981, 0.0...</td>\n",
       "      <td>44100</td>\n",
       "      <td>[[0.0, 0.0, 0.12290526, -0.0032384768, -0.0040...</td>\n",
       "    </tr>\n",
       "    <tr>\n",
       "      <td>6</td>\n",
       "      <td>0.4390</td>\n",
       "      <td>0.4455</td>\n",
       "      <td>2.0</td>\n",
       "      <td>0.0</td>\n",
       "      <td>PAConneaut08-101</td>\n",
       "      <td>0</td>\n",
       "      <td>PymConneaut08T101A-Z</td>\n",
       "      <td>[-0.009802128277609592, -0.0013682773566090108...</td>\n",
       "      <td>44100</td>\n",
       "      <td>[[0.0, 0.0, 0.0, 0.0, 0.0, 0.0, 0.009875438, 0...</td>\n",
       "    </tr>\n",
       "    <tr>\n",
       "      <td>7</td>\n",
       "      <td>0.4505</td>\n",
       "      <td>0.5080</td>\n",
       "      <td>2.0</td>\n",
       "      <td>1.0</td>\n",
       "      <td>PAConneaut08-101</td>\n",
       "      <td>0</td>\n",
       "      <td>PymConneaut08T101A-Z</td>\n",
       "      <td>[0.012309962480153463, -0.005335512931172494, ...</td>\n",
       "      <td>44100</td>\n",
       "      <td>[[0.0, 0.0, 0.0, 0.0, 0.0, 0.0, 0.0, 0.0, 0.0,...</td>\n",
       "    </tr>\n",
       "    <tr>\n",
       "      <td>8</td>\n",
       "      <td>0.5210</td>\n",
       "      <td>0.5600</td>\n",
       "      <td>2.0</td>\n",
       "      <td>2.0</td>\n",
       "      <td>PAConneaut08-101</td>\n",
       "      <td>0</td>\n",
       "      <td>PymConneaut08T101A-Z</td>\n",
       "      <td>[-0.011615191475445997, 0.007360380736143804, ...</td>\n",
       "      <td>44100</td>\n",
       "      <td>[[0.0, 0.0, 0.0, 0.0, 0.0, 0.0, 0.0, 0.0, 0.0,...</td>\n",
       "    </tr>\n",
       "    <tr>\n",
       "      <td>9</td>\n",
       "      <td>0.5990</td>\n",
       "      <td>0.6065</td>\n",
       "      <td>3.0</td>\n",
       "      <td>0.0</td>\n",
       "      <td>PAConneaut08-101</td>\n",
       "      <td>0</td>\n",
       "      <td>PymConneaut08T101A-Z</td>\n",
       "      <td>[0.003808433449496492, 0.011299177707758474, 0...</td>\n",
       "      <td>44100</td>\n",
       "      <td>[[0.0, 0.0, 0.0, 0.0, 0.0, 0.0, 0.0, 0.0, 0.0,...</td>\n",
       "    </tr>\n",
       "  </tbody>\n",
       "</table>\n",
       "</div>"
      ],
      "text/plain": [
       "   start_time  end_time  syllable  pos_in_syllable              indv  indvi  \\\n",
       "0      0.0935    0.0995       0.0              0.0  PAConneaut08-101      0   \n",
       "1      0.1075    0.1605       0.0              1.0  PAConneaut08-101      0   \n",
       "2      0.1770    0.2170       0.0              2.0  PAConneaut08-101      0   \n",
       "3      0.2690    0.2765       1.0              0.0  PAConneaut08-101      0   \n",
       "4      0.2795    0.3395       1.0              1.0  PAConneaut08-101      0   \n",
       "5      0.3530    0.3935       1.0              2.0  PAConneaut08-101      0   \n",
       "6      0.4390    0.4455       2.0              0.0  PAConneaut08-101      0   \n",
       "7      0.4505    0.5080       2.0              1.0  PAConneaut08-101      0   \n",
       "8      0.5210    0.5600       2.0              2.0  PAConneaut08-101      0   \n",
       "9      0.5990    0.6065       3.0              0.0  PAConneaut08-101      0   \n",
       "\n",
       "                    key                                              audio  \\\n",
       "0  PymConneaut08T101A-Z  [0.06969332862600451, 0.06959801897460591, 0.0...   \n",
       "1  PymConneaut08T101A-Z  [0.05956509596237225, 0.06447900194559553, 0.0...   \n",
       "2  PymConneaut08T101A-Z  [-0.0016472223832536582, -0.010803575765281171...   \n",
       "3  PymConneaut08T101A-Z  [0.06307313459012304, 0.06570141840239573, 0.0...   \n",
       "4  PymConneaut08T101A-Z  [-0.030964259441389225, -0.0263069614956131, -...   \n",
       "5  PymConneaut08T101A-Z  [0.06448316695245321, 0.05989226929086981, 0.0...   \n",
       "6  PymConneaut08T101A-Z  [-0.009802128277609592, -0.0013682773566090108...   \n",
       "7  PymConneaut08T101A-Z  [0.012309962480153463, -0.005335512931172494, ...   \n",
       "8  PymConneaut08T101A-Z  [-0.011615191475445997, 0.007360380736143804, ...   \n",
       "9  PymConneaut08T101A-Z  [0.003808433449496492, 0.011299177707758474, 0...   \n",
       "\n",
       "    rate                                        spectrogram  \n",
       "0  44100  [[0.0, 0.0, 0.0, 0.0, 0.0, 0.0, 0.18450777, 0....  \n",
       "1  44100  [[0.0, 0.0, 0.24632797, 0.16177763, 0.09246848...  \n",
       "2  44100  [[0.0, 0.0, 0.043056857, 0.015127991, -0.00225...  \n",
       "3  44100  [[0.0, 0.0, 0.0, 0.0, 0.0, 0.2477134, 0.212571...  \n",
       "4  44100  [[0.0, 0.08078519, 0.1313302, 0.2087228, 0.122...  \n",
       "5  44100  [[0.0, 0.0, 0.12290526, -0.0032384768, -0.0040...  \n",
       "6  44100  [[0.0, 0.0, 0.0, 0.0, 0.0, 0.0, 0.009875438, 0...  \n",
       "7  44100  [[0.0, 0.0, 0.0, 0.0, 0.0, 0.0, 0.0, 0.0, 0.0,...  \n",
       "8  44100  [[0.0, 0.0, 0.0, 0.0, 0.0, 0.0, 0.0, 0.0, 0.0,...  \n",
       "9  44100  [[0.0, 0.0, 0.0, 0.0, 0.0, 0.0, 0.0, 0.0, 0.0,...  "
      ]
     },
     "execution_count": 16,
     "metadata": {},
     "output_type": "execute_result"
    }
   ],
   "source": [
    "subset_df[:10]"
   ]
  },
  {
   "cell_type": "markdown",
   "metadata": {},
   "source": [
    "#### cluster and plot"
   ]
  },
  {
   "cell_type": "code",
   "execution_count": 17,
   "metadata": {
    "ExecuteTime": {
     "end_time": "2019-09-29T23:50:59.669548Z",
     "start_time": "2019-09-29T23:50:59.547772Z"
    }
   },
   "outputs": [],
   "source": [
    "from avgn.utils.hparams import HParams\n",
    "from avgn.dataset import DataSet"
   ]
  },
  {
   "cell_type": "code",
   "execution_count": 21,
   "metadata": {
    "ExecuteTime": {
     "end_time": "2019-09-29T23:51:10.956170Z",
     "start_time": "2019-09-29T23:50:59.691646Z"
    }
   },
   "outputs": [
    {
     "data": {
      "application/vnd.jupyter.widget-view+json": {
       "model_id": "4184aef988034eca8de37cbfad562a22",
       "version_major": 2,
       "version_minor": 0
      },
      "text/plain": [
       "HBox(children=(IntProgress(value=0, description='loading json', max=1867, style=ProgressStyle(description_widt…"
      ]
     },
     "metadata": {},
     "output_type": "display_data"
    },
    {
     "name": "stderr",
     "output_type": "stream",
     "text": [
      "[Parallel(n_jobs=-1)]: Using backend LokyBackend with 12 concurrent workers.\n",
      "[Parallel(n_jobs=-1)]: Done  26 tasks      | elapsed:    1.4s\n"
     ]
    },
    {
     "name": "stdout",
     "output_type": "stream",
     "text": [
      "\n"
     ]
    },
    {
     "name": "stderr",
     "output_type": "stream",
     "text": [
      "[Parallel(n_jobs=-1)]: Done 1867 out of 1867 | elapsed:    1.9s finished\n"
     ]
    },
    {
     "data": {
      "application/vnd.jupyter.widget-view+json": {
       "model_id": "",
       "version_major": 2,
       "version_minor": 0
      },
      "text/plain": [
       "HBox(children=(IntProgress(value=0, description='getting unique individuals', max=1867, style=ProgressStyle(de…"
      ]
     },
     "metadata": {},
     "output_type": "display_data"
    },
    {
     "name": "stdout",
     "output_type": "stream",
     "text": [
      "\r"
     ]
    }
   ],
   "source": [
    "hparams = HParams()\n",
    "# create a dataset object\n",
    "dataset = DataSet(DATASET_ID, hparams = hparams)"
   ]
  },
  {
   "cell_type": "code",
   "execution_count": 24,
   "metadata": {},
   "outputs": [
    {
     "data": {
      "text/plain": [
       "array(['PymConneaut08T101A-Z', 'PymConneaut08T101A-Z',\n",
       "       'PymConneaut08T101A-Z', ..., 'PymWatsonRun08T41C-Z',\n",
       "       'PymWatsonRun08T41C-Z', 'PymWatsonRun08T41C-Z'], dtype=object)"
      ]
     },
     "execution_count": 24,
     "metadata": {},
     "output_type": "execute_result"
    }
   ],
   "source": [
    "subset_df.key.values"
   ]
  },
  {
   "cell_type": "code",
   "execution_count": 33,
   "metadata": {
    "ExecuteTime": {
     "end_time": "2019-09-29T23:52:02.429952Z",
     "start_time": "2019-09-29T23:52:02.288778Z"
    }
   },
   "outputs": [
    {
     "data": {
      "text/plain": [
       "array(['Conneaut, PA', 'Conneaut, PA', 'Conneaut, PA'], dtype='<U17')"
      ]
     },
     "execution_count": 33,
     "metadata": {},
     "output_type": "execute_result"
    }
   ],
   "source": [
    "population = np.array([dataset.data_files[key].data[\"POPID\"]  if key in dataset.data_files else None for key in subset_df.key.values])\n",
    "population[:3]"
   ]
  },
  {
   "cell_type": "code",
   "execution_count": 34,
   "metadata": {},
   "outputs": [
    {
     "data": {
      "text/plain": [
       "91291"
      ]
     },
     "execution_count": 34,
     "metadata": {},
     "output_type": "execute_result"
    }
   ],
   "source": [
    "len(population)"
   ]
  },
  {
   "cell_type": "code",
   "execution_count": 35,
   "metadata": {},
   "outputs": [
    {
     "data": {
      "text/plain": [
       "91291"
      ]
     },
     "execution_count": 35,
     "metadata": {},
     "output_type": "execute_result"
    }
   ],
   "source": [
    "len(subset_df)"
   ]
  },
  {
   "cell_type": "code",
   "execution_count": 36,
   "metadata": {},
   "outputs": [],
   "source": [
    "subset_df = subset_df[np.array(population) != None]\n",
    "population = population[np.array(population) != None]"
   ]
  },
  {
   "cell_type": "code",
   "execution_count": 37,
   "metadata": {},
   "outputs": [
    {
     "data": {
      "text/plain": [
       "0"
      ]
     },
     "execution_count": 37,
     "metadata": {},
     "output_type": "execute_result"
    }
   ],
   "source": [
    "np.sum(np.array(population) == None)"
   ]
  },
  {
   "cell_type": "code",
   "execution_count": 38,
   "metadata": {
    "ExecuteTime": {
     "end_time": "2019-09-29T23:12:31.421927Z",
     "start_time": "2019-09-29T23:12:31.365640Z"
    }
   },
   "outputs": [],
   "source": [
    "fit = umap.UMAP(min_dist=0.25)"
   ]
  },
  {
   "cell_type": "code",
   "execution_count": 39,
   "metadata": {
    "ExecuteTime": {
     "end_time": "2019-09-29T23:12:31.712090Z",
     "start_time": "2019-09-29T23:12:31.648363Z"
    }
   },
   "outputs": [
    {
     "data": {
      "text/plain": [
       "(91336, 704)"
      ]
     },
     "execution_count": 39,
     "metadata": {},
     "output_type": "execute_result"
    }
   ],
   "source": [
    "np.shape(specs_flattened)"
   ]
  },
  {
   "cell_type": "code",
   "execution_count": null,
   "metadata": {
    "ExecuteTime": {
     "end_time": "2019-09-29T23:15:28.002069Z",
     "start_time": "2019-09-29T23:12:32.015360Z"
    }
   },
   "outputs": [
    {
     "name": "stderr",
     "output_type": "stream",
     "text": [
      "/home/AD/tsainbur/miniconda3/envs/tim_py3/lib/python3.7/site-packages/numba/compiler.py:602: NumbaPerformanceWarning: \n",
      "The keyword argument 'parallel=True' was specified but no transformation for parallel execution was possible.\n",
      "\n",
      "To find out why, try turning on parallel diagnostics, see http://numba.pydata.org/numba-doc/latest/user/parallel.html#diagnostics for help.\n",
      "\n",
      "File \"../../../../miniconda3/envs/tim_py3/lib/python3.7/site-packages/umap/rp_tree.py\", line 135:\n",
      "@numba.njit(fastmath=True, nogil=True, parallel=True)\n",
      "def euclidean_random_projection_split(data, indices, rng_state):\n",
      "^\n",
      "\n",
      "  self.func_ir.loc))\n",
      "/home/AD/tsainbur/miniconda3/envs/tim_py3/lib/python3.7/site-packages/umap/nndescent.py:92: NumbaPerformanceWarning: \n",
      "The keyword argument 'parallel=True' was specified but no transformation for parallel execution was possible.\n",
      "\n",
      "To find out why, try turning on parallel diagnostics, see http://numba.pydata.org/numba-doc/latest/user/parallel.html#diagnostics for help.\n",
      "\n",
      "File \"../../../../miniconda3/envs/tim_py3/lib/python3.7/site-packages/umap/utils.py\", line 409:\n",
      "@numba.njit(parallel=True)\n",
      "def build_candidates(current_graph, n_vertices, n_neighbors, max_candidates, rng_state):\n",
      "^\n",
      "\n",
      "  current_graph, n_vertices, n_neighbors, max_candidates, rng_state\n",
      "/home/AD/tsainbur/miniconda3/envs/tim_py3/lib/python3.7/site-packages/numba/compiler.py:602: NumbaPerformanceWarning: \n",
      "The keyword argument 'parallel=True' was specified but no transformation for parallel execution was possible.\n",
      "\n",
      "To find out why, try turning on parallel diagnostics, see http://numba.pydata.org/numba-doc/latest/user/parallel.html#diagnostics for help.\n",
      "\n",
      "File \"../../../../miniconda3/envs/tim_py3/lib/python3.7/site-packages/umap/nndescent.py\", line 47:\n",
      "    @numba.njit(parallel=True)\n",
      "    def nn_descent(\n",
      "    ^\n",
      "\n",
      "  self.func_ir.loc))\n"
     ]
    }
   ],
   "source": [
    "z  = list(fit.fit_transform(specs_flattened))"
   ]
  },
  {
   "cell_type": "code",
   "execution_count": null,
   "metadata": {
    "ExecuteTime": {
     "end_time": "2019-09-29T23:15:28.290326Z",
     "start_time": "2019-09-29T23:15:28.008313Z"
    }
   },
   "outputs": [],
   "source": [
    "z = np.vstack(z)"
   ]
  },
  {
   "cell_type": "markdown",
   "metadata": {},
   "source": [
    "### variation across populations"
   ]
  },
  {
   "cell_type": "code",
   "execution_count": null,
   "metadata": {
    "ExecuteTime": {
     "end_time": "2019-09-29T23:52:35.684556Z",
     "start_time": "2019-09-29T23:52:30.100896Z"
    }
   },
   "outputs": [],
   "source": [
    "fig, ax = plt.subplots(figsize=(15,15))\n",
    "scatter_projections(projection=z, alpha=.5, labels = population, s=1, ax = ax)\n",
    "ax.set_xlim([-15,15])"
   ]
  },
  {
   "cell_type": "code",
   "execution_count": null,
   "metadata": {},
   "outputs": [],
   "source": [
    "scatter_spec(\n",
    "        np.vstack(z),\n",
    "        specs,\n",
    "        column_size=15,\n",
    "        #x_range = [-5.5,7],\n",
    "        #y_range = [-10,10],\n",
    "        pal_color=\"hls\",\n",
    "        color_points=False,\n",
    "        enlarge_points=20,\n",
    "        figsize=(10, 10),\n",
    "        scatter_kwargs = {\n",
    "            'labels': list(population),\n",
    "            'alpha':0.25,\n",
    "            's': 1,\n",
    "            'show_legend': False\n",
    "        },\n",
    "        matshow_kwargs = {\n",
    "            'cmap': plt.cm.Greys\n",
    "        },\n",
    "        line_kwargs = {\n",
    "            'lw':1,\n",
    "            'ls':\"solid\",\n",
    "            'alpha':0.25,\n",
    "        },\n",
    "        draw_lines=True\n",
    "    );\n",
    "    plt.show()"
   ]
  },
  {
   "cell_type": "markdown",
   "metadata": {},
   "source": [
    "### draw transitions by population"
   ]
  },
  {
   "cell_type": "code",
   "execution_count": null,
   "metadata": {},
   "outputs": [],
   "source": []
  }
 ],
 "metadata": {
  "kernelspec": {
   "display_name": "Python 3",
   "language": "python",
   "name": "python3"
  },
  "language_info": {
   "codemirror_mode": {
    "name": "ipython",
    "version": 3
   },
   "file_extension": ".py",
   "mimetype": "text/x-python",
   "name": "python",
   "nbconvert_exporter": "python",
   "pygments_lexer": "ipython3",
   "version": "3.7.4"
  }
 },
 "nbformat": 4,
 "nbformat_minor": 2
}
