{
 "cells": [
  {
   "cell_type": "code",
   "execution_count": 1,
   "metadata": {
    "ExecuteTime": {
     "end_time": "2019-10-16T01:01:56.834816Z",
     "start_time": "2019-10-16T01:01:56.797917Z"
    }
   },
   "outputs": [],
   "source": [
    "%load_ext autoreload\n",
    "%autoreload 2"
   ]
  },
  {
   "cell_type": "code",
   "execution_count": 2,
   "metadata": {
    "ExecuteTime": {
     "end_time": "2019-10-16T01:02:03.711072Z",
     "start_time": "2019-10-16T01:01:57.290503Z"
    }
   },
   "outputs": [
    {
     "name": "stderr",
     "output_type": "stream",
     "text": [
      "/mnt/cube/tsainbur/conda_envs/tpy3/lib/python3.6/site-packages/tqdm/autonotebook/__init__.py:14: TqdmExperimentalWarning: Using `tqdm.autonotebook.tqdm` in notebook mode. Use `tqdm.tqdm` instead to force console mode (e.g. in jupyter console)\n",
      "  \" (e.g. in jupyter console)\", TqdmExperimentalWarning)\n"
     ]
    }
   ],
   "source": [
    "import numpy as np\n",
    "import matplotlib.pyplot as plt\n",
    "%matplotlib inline\n",
    "from tqdm.autonotebook import tqdm\n",
    "from joblib import Parallel, delayed\n",
    "import umap\n",
    "import pandas as pd"
   ]
  },
  {
   "cell_type": "code",
   "execution_count": 3,
   "metadata": {
    "ExecuteTime": {
     "end_time": "2019-10-16T01:02:04.154357Z",
     "start_time": "2019-10-16T01:02:03.713995Z"
    }
   },
   "outputs": [],
   "source": [
    "from avgn.utils.paths import DATA_DIR, most_recent_subdirectory, ensure_dir\n",
    "from avgn.signalprocessing.create_spectrogram_dataset import flatten_spectrograms"
   ]
  },
  {
   "cell_type": "markdown",
   "metadata": {},
   "source": [
    "### Collect data"
   ]
  },
  {
   "cell_type": "code",
   "execution_count": 4,
   "metadata": {
    "ExecuteTime": {
     "end_time": "2019-10-16T01:02:04.206136Z",
     "start_time": "2019-10-16T01:02:04.157876Z"
    }
   },
   "outputs": [],
   "source": [
    "DATASET_ID = 'swamp_sparrow'"
   ]
  },
  {
   "cell_type": "code",
   "execution_count": 5,
   "metadata": {
    "ExecuteTime": {
     "end_time": "2019-10-16T01:02:04.544103Z",
     "start_time": "2019-10-16T01:02:04.209540Z"
    }
   },
   "outputs": [],
   "source": [
    "from avgn.visualization.projections import (\n",
    "    scatter_projections,\n",
    "    draw_projection_transitions,\n",
    ")"
   ]
  },
  {
   "cell_type": "code",
   "execution_count": 6,
   "metadata": {
    "ExecuteTime": {
     "end_time": "2019-10-16T01:02:04.585404Z",
     "start_time": "2019-10-16T01:02:04.547530Z"
    }
   },
   "outputs": [],
   "source": [
    "df_loc =  DATA_DIR / 'syllable_dfs' / DATASET_ID / 'swampsparrow.pickle'"
   ]
  },
  {
   "cell_type": "code",
   "execution_count": 7,
   "metadata": {
    "ExecuteTime": {
     "end_time": "2019-10-16T01:02:06.796494Z",
     "start_time": "2019-10-16T01:02:04.587311Z"
    }
   },
   "outputs": [],
   "source": [
    "syllable_df = pd.read_pickle(df_loc)"
   ]
  },
  {
   "cell_type": "code",
   "execution_count": 8,
   "metadata": {
    "ExecuteTime": {
     "end_time": "2019-10-16T01:02:06.925482Z",
     "start_time": "2019-10-16T01:02:06.798723Z"
    }
   },
   "outputs": [
    {
     "data": {
      "text/html": [
       "<div>\n",
       "<style scoped>\n",
       "    .dataframe tbody tr th:only-of-type {\n",
       "        vertical-align: middle;\n",
       "    }\n",
       "\n",
       "    .dataframe tbody tr th {\n",
       "        vertical-align: top;\n",
       "    }\n",
       "\n",
       "    .dataframe thead th {\n",
       "        text-align: right;\n",
       "    }\n",
       "</style>\n",
       "<table border=\"1\" class=\"dataframe\">\n",
       "  <thead>\n",
       "    <tr style=\"text-align: right;\">\n",
       "      <th></th>\n",
       "      <th>start_time</th>\n",
       "      <th>end_time</th>\n",
       "      <th>syllable</th>\n",
       "      <th>pos_in_syllable</th>\n",
       "      <th>indv</th>\n",
       "      <th>indvi</th>\n",
       "      <th>key</th>\n",
       "      <th>audio</th>\n",
       "      <th>rate</th>\n",
       "      <th>spectrogram</th>\n",
       "    </tr>\n",
       "  </thead>\n",
       "  <tbody>\n",
       "    <tr>\n",
       "      <th>0</th>\n",
       "      <td>0.1015</td>\n",
       "      <td>0.1160</td>\n",
       "      <td>0.0</td>\n",
       "      <td>0.0</td>\n",
       "      <td>NYMONT33</td>\n",
       "      <td>0</td>\n",
       "      <td>SWSP09MONT33P1</td>\n",
       "      <td>[0.016902675631080007, 0.01836702934042918, 0....</td>\n",
       "      <td>44100</td>\n",
       "      <td>[[0.0, 0.0, 0.0, 0.0, 0.0, 0.0, 0.0, 0.0, 0.0,...</td>\n",
       "    </tr>\n",
       "    <tr>\n",
       "      <th>1</th>\n",
       "      <td>0.1460</td>\n",
       "      <td>0.2095</td>\n",
       "      <td>0.0</td>\n",
       "      <td>1.0</td>\n",
       "      <td>NYMONT33</td>\n",
       "      <td>0</td>\n",
       "      <td>SWSP09MONT33P1</td>\n",
       "      <td>[0.024533612567214726, 0.012936161995261142, 0...</td>\n",
       "      <td>44100</td>\n",
       "      <td>[[0.0, 0.0, 0.0, 0.0, 0.0, 0.0, 0.0, 0.0, 0.0,...</td>\n",
       "    </tr>\n",
       "    <tr>\n",
       "      <th>2</th>\n",
       "      <td>0.2510</td>\n",
       "      <td>0.2620</td>\n",
       "      <td>1.0</td>\n",
       "      <td>0.0</td>\n",
       "      <td>NYMONT33</td>\n",
       "      <td>0</td>\n",
       "      <td>SWSP09MONT33P1</td>\n",
       "      <td>[0.0022063292319460365, 0.013836752170883053, ...</td>\n",
       "      <td>44100</td>\n",
       "      <td>[[0.0, 0.0, 0.0, 0.0, 0.0, 0.056673408, 0.0122...</td>\n",
       "    </tr>\n",
       "  </tbody>\n",
       "</table>\n",
       "</div>"
      ],
      "text/plain": [
       "   start_time  end_time  syllable  pos_in_syllable      indv  indvi  \\\n",
       "0      0.1015    0.1160       0.0              0.0  NYMONT33      0   \n",
       "1      0.1460    0.2095       0.0              1.0  NYMONT33      0   \n",
       "2      0.2510    0.2620       1.0              0.0  NYMONT33      0   \n",
       "\n",
       "              key                                              audio   rate  \\\n",
       "0  SWSP09MONT33P1  [0.016902675631080007, 0.01836702934042918, 0....  44100   \n",
       "1  SWSP09MONT33P1  [0.024533612567214726, 0.012936161995261142, 0...  44100   \n",
       "2  SWSP09MONT33P1  [0.0022063292319460365, 0.013836752170883053, ...  44100   \n",
       "\n",
       "                                         spectrogram  \n",
       "0  [[0.0, 0.0, 0.0, 0.0, 0.0, 0.0, 0.0, 0.0, 0.0,...  \n",
       "1  [[0.0, 0.0, 0.0, 0.0, 0.0, 0.0, 0.0, 0.0, 0.0,...  \n",
       "2  [[0.0, 0.0, 0.0, 0.0, 0.0, 0.056673408, 0.0122...  "
      ]
     },
     "execution_count": 8,
     "metadata": {},
     "output_type": "execute_result"
    }
   ],
   "source": [
    "syllable_df[:3]"
   ]
  },
  {
   "cell_type": "code",
   "execution_count": 9,
   "metadata": {
    "ExecuteTime": {
     "end_time": "2019-10-16T01:02:10.792057Z",
     "start_time": "2019-10-16T01:02:06.929938Z"
    }
   },
   "outputs": [
    {
     "data": {
      "text/html": [
       "<div>\n",
       "<style scoped>\n",
       "    .dataframe tbody tr th:only-of-type {\n",
       "        vertical-align: middle;\n",
       "    }\n",
       "\n",
       "    .dataframe tbody tr th {\n",
       "        vertical-align: top;\n",
       "    }\n",
       "\n",
       "    .dataframe thead th {\n",
       "        text-align: right;\n",
       "    }\n",
       "</style>\n",
       "<table border=\"1\" class=\"dataframe\">\n",
       "  <thead>\n",
       "    <tr style=\"text-align: right;\">\n",
       "      <th></th>\n",
       "      <th>NYMONT33</th>\n",
       "      <th>PAConneaut08-101</th>\n",
       "      <th>NYADIRAQBT01</th>\n",
       "      <th>NYHVVLY39</th>\n",
       "      <th>NYADIRAQSI17</th>\n",
       "      <th>PAConneaut08-091</th>\n",
       "      <th>NYHVTIV18</th>\n",
       "      <th>MIWAT21</th>\n",
       "      <th>PAGeneva08-62</th>\n",
       "      <th>MIWAT71</th>\n",
       "      <th>...</th>\n",
       "      <th>MIWAT45</th>\n",
       "      <th>PAWatsonRun08-47</th>\n",
       "      <th>PAGeneva08-02</th>\n",
       "      <th>PAConneaut08-023</th>\n",
       "      <th>PAConneaut08-093</th>\n",
       "      <th>MIWAT20</th>\n",
       "      <th>WIHOR79</th>\n",
       "      <th>NYMONT06</th>\n",
       "      <th>NYADIRAQSI10</th>\n",
       "      <th>PAConneaut08-017</th>\n",
       "    </tr>\n",
       "  </thead>\n",
       "  <tbody>\n",
       "    <tr>\n",
       "      <th>0</th>\n",
       "      <td>92</td>\n",
       "      <td>172</td>\n",
       "      <td>240</td>\n",
       "      <td>158</td>\n",
       "      <td>219</td>\n",
       "      <td>157</td>\n",
       "      <td>168</td>\n",
       "      <td>104</td>\n",
       "      <td>160</td>\n",
       "      <td>125</td>\n",
       "      <td>...</td>\n",
       "      <td>152</td>\n",
       "      <td>140</td>\n",
       "      <td>95</td>\n",
       "      <td>123</td>\n",
       "      <td>87</td>\n",
       "      <td>85</td>\n",
       "      <td>117</td>\n",
       "      <td>107</td>\n",
       "      <td>74</td>\n",
       "      <td>120</td>\n",
       "    </tr>\n",
       "  </tbody>\n",
       "</table>\n",
       "<p>1 rows × 615 columns</p>\n",
       "</div>"
      ],
      "text/plain": [
       "   NYMONT33  PAConneaut08-101  NYADIRAQBT01  NYHVVLY39  NYADIRAQSI17  \\\n",
       "0        92               172           240        158           219   \n",
       "\n",
       "   PAConneaut08-091  NYHVTIV18  MIWAT21  PAGeneva08-62  MIWAT71  ...  MIWAT45  \\\n",
       "0               157        168      104            160      125  ...      152   \n",
       "\n",
       "   PAWatsonRun08-47  PAGeneva08-02  PAConneaut08-023  PAConneaut08-093  \\\n",
       "0               140             95               123                87   \n",
       "\n",
       "   MIWAT20  WIHOR79  NYMONT06  NYADIRAQSI10  PAConneaut08-017  \n",
       "0       85      117       107            74               120  \n",
       "\n",
       "[1 rows x 615 columns]"
      ]
     },
     "execution_count": 9,
     "metadata": {},
     "output_type": "execute_result"
    }
   ],
   "source": [
    "pd.DataFrame({i:[np.sum(syllable_df.indv == i)] for i in syllable_df.indv.unique()})"
   ]
  },
  {
   "cell_type": "markdown",
   "metadata": {},
   "source": [
    "### subset dataframe\n",
    "- there is some noise in labelling we want to remove"
   ]
  },
  {
   "cell_type": "code",
   "execution_count": 10,
   "metadata": {
    "ExecuteTime": {
     "end_time": "2019-10-16T01:02:10.838896Z",
     "start_time": "2019-10-16T01:02:10.794867Z"
    }
   },
   "outputs": [
    {
     "data": {
      "text/plain": [
       "\"fig, axs = plt.subplots(ncols=4, figsize=(24,6))\\naxs[0].hist([np.max(i) for i in syllable_df.spectrogram.values], bins=50);axs[0].set_title('max')\\naxs[1].hist([np.sum(i) for i in syllable_df.spectrogram.values], bins=50);axs[1].set_title('sum')\\naxs[2].hist((syllable_df.end_time - syllable_df.start_time).values, bins = 50); axs[2].set_title('len')\\naxs[3].hist([np.min(i) for i in syllable_df.spectrogram.values], bins=50);axs[0].set_title('min')\""
      ]
     },
     "execution_count": 10,
     "metadata": {},
     "output_type": "execute_result"
    }
   ],
   "source": [
    "\"\"\"fig, axs = plt.subplots(ncols=4, figsize=(24,6))\n",
    "axs[0].hist([np.max(i) for i in syllable_df.spectrogram.values], bins=50);axs[0].set_title('max')\n",
    "axs[1].hist([np.sum(i) for i in syllable_df.spectrogram.values], bins=50);axs[1].set_title('sum')\n",
    "axs[2].hist((syllable_df.end_time - syllable_df.start_time).values, bins = 50); axs[2].set_title('len')\n",
    "axs[3].hist([np.min(i) for i in syllable_df.spectrogram.values], bins=50);axs[0].set_title('min')\"\"\""
   ]
  },
  {
   "cell_type": "code",
   "execution_count": 11,
   "metadata": {
    "ExecuteTime": {
     "end_time": "2019-10-16T01:02:10.920227Z",
     "start_time": "2019-10-16T01:02:10.841035Z"
    }
   },
   "outputs": [],
   "source": [
    "#plt.hist([np.sum(syllable_df.indv == i) for i in syllable_df.indv.unique()]);"
   ]
  },
  {
   "cell_type": "code",
   "execution_count": 12,
   "metadata": {
    "ExecuteTime": {
     "end_time": "2019-10-16T01:02:14.641644Z",
     "start_time": "2019-10-16T01:02:10.922457Z"
    }
   },
   "outputs": [
    {
     "data": {
      "text/plain": [
       "['PAConneaut08-101',\n",
       " 'NYADIRAQBT01',\n",
       " 'NYHVVLY39',\n",
       " 'NYADIRAQSI17',\n",
       " 'PAConneaut08-091',\n",
       " 'NYHVTIV18',\n",
       " 'MIWAT21',\n",
       " 'PAGeneva08-62',\n",
       " 'MIWAT71',\n",
       " 'NYHVTIV26',\n",
       " 'WIHOR13',\n",
       " 'NYHVTIV23',\n",
       " 'PAConneaut08-053',\n",
       " 'NYHVTIV29',\n",
       " 'PAConneaut08-030',\n",
       " 'PAConneaut08-052',\n",
       " 'NYMONT17',\n",
       " 'NYADIRAQBT28',\n",
       " 'MIWAT57',\n",
       " 'NYHVTHO04',\n",
       " 'PAGeneva08-45',\n",
       " 'PAGeneva08-61',\n",
       " 'MIWAT63',\n",
       " 'WIHOR74',\n",
       " 'PAConneaut08-068',\n",
       " 'NYADIRAQSI16',\n",
       " 'PAConneaut08-096',\n",
       " 'MIWAT40',\n",
       " 'WIHOR19',\n",
       " 'PAWatsonRun08-34',\n",
       " 'NYADIRAQBT35',\n",
       " 'PAWatsonRun08-40',\n",
       " 'WIHOR23',\n",
       " 'NYHVVLY02',\n",
       " 'PAConneaut08-062',\n",
       " 'NYMONT68',\n",
       " 'NYADIRAQSI27',\n",
       " 'WIHOR41',\n",
       " 'NYADIRAQSI23',\n",
       " 'NYHVTHO27',\n",
       " 'PAGeneva08-39',\n",
       " 'NYMONT29',\n",
       " 'WIHOR25',\n",
       " 'NYHVTIV25',\n",
       " 'NYADIRAQBT33',\n",
       " 'NYMONT51',\n",
       " 'NYHVTIV07',\n",
       " 'NYHVTHO17',\n",
       " 'PAWatsonRun08-02',\n",
       " 'PAGeneva08-64',\n",
       " 'NYADIRAQSI15',\n",
       " 'MIWAT12',\n",
       " 'NYHVVLY28',\n",
       " 'NYHVTHO08',\n",
       " 'MIWAT44',\n",
       " 'PAGeneva08-27',\n",
       " 'NYADIRAQBT25',\n",
       " 'WIHOR12',\n",
       " 'NYADIRAQSI26',\n",
       " 'PAGeneva08-53',\n",
       " 'NYADIRAQBT38',\n",
       " 'WIHOR66',\n",
       " 'PAConneaut08-014',\n",
       " 'NYADIRAQSI01',\n",
       " 'PAGeneva08-57',\n",
       " 'WIHOR07',\n",
       " 'WIHOR14',\n",
       " 'MIWAT06',\n",
       " 'NYHVTIV24',\n",
       " 'WIHOR33',\n",
       " 'NYHVTIV05',\n",
       " 'PAWatsonRun08-11',\n",
       " 'WIHOR26',\n",
       " 'PAGeneva08-49',\n",
       " 'PAWatsonRun08-15',\n",
       " 'PAWatsonRun08-33',\n",
       " 'NYADIRAQSI07',\n",
       " 'NYMONT55',\n",
       " 'PAWatsonRun08-29',\n",
       " 'PAConneaut08-032',\n",
       " 'NYHVTHO20',\n",
       " 'PAConneaut08-058',\n",
       " 'NYMONT08',\n",
       " 'NYHVTHO29',\n",
       " 'PAGeneva08-26',\n",
       " 'WIHOR47',\n",
       " 'WIHOR17',\n",
       " 'NYADIRAQBT32',\n",
       " 'PAConneaut08-025',\n",
       " 'PAGeneva08-43',\n",
       " 'NYHVTIV08',\n",
       " 'MIWAT02',\n",
       " 'MIWAT67',\n",
       " 'NYADIRAQSI05',\n",
       " 'NYHVVLY37',\n",
       " 'NYMONT60',\n",
       " 'PAGeneva08-07',\n",
       " 'WIHOR38',\n",
       " 'MIWAT43',\n",
       " 'PAWatsonRun08-22',\n",
       " 'WIHOR01',\n",
       " 'WIHOR28',\n",
       " 'PAWatsonRun08-08',\n",
       " 'NYMONT48',\n",
       " 'WIHOR40',\n",
       " 'WIHOR10',\n",
       " 'NYMONT36',\n",
       " 'PAGeneva08-36',\n",
       " 'NYHVTHO07',\n",
       " 'MIWAT62',\n",
       " 'NYMONT39',\n",
       " 'MIWAT68',\n",
       " 'PAWatsonRun08-42',\n",
       " 'WIHOR72',\n",
       " 'WIHOR82',\n",
       " 'NYMONT52',\n",
       " 'NYADIRAQBT13',\n",
       " 'PAConneaut08-040',\n",
       " 'MIWAT61',\n",
       " 'MIWAT26',\n",
       " 'MIWAT13',\n",
       " 'MIWAT50',\n",
       " 'NYMONT12',\n",
       " 'MIWAT07',\n",
       " 'NYHVVLY14',\n",
       " 'WIHOR88',\n",
       " 'PAWatsonRun08-30',\n",
       " 'NYHVVLY09',\n",
       " 'PAGeneva08-30',\n",
       " 'PAGeneva08-55',\n",
       " 'WIHOR78',\n",
       " 'WIHOR50',\n",
       " 'WIHOR32',\n",
       " 'PAGeneva08-24',\n",
       " 'NYHVVLY07',\n",
       " 'WIHOR89',\n",
       " 'PAConneaut08-060',\n",
       " 'NYHVVLY35',\n",
       " 'WIHOR43',\n",
       " 'NYMONT34',\n",
       " 'PAGeneva08-63',\n",
       " 'NYMONT27',\n",
       " 'PAGeneva08-19',\n",
       " 'NYHVTHO09',\n",
       " 'NYADIRAQBT26',\n",
       " 'WIHOR90',\n",
       " 'PAConneaut08-092',\n",
       " 'NYADIRAQBT39',\n",
       " 'NYMONT31',\n",
       " 'MIWAT32',\n",
       " 'WIHOR04',\n",
       " 'PAWatsonRun08-28',\n",
       " 'PAGeneva08-18',\n",
       " 'NYADIRAQSI30',\n",
       " 'NYADIRAQSI04',\n",
       " 'NYADIRAQSI11',\n",
       " 'PAGeneva08-58',\n",
       " 'PAGeneva08-59',\n",
       " 'NYHVTIV06',\n",
       " 'NYMONT46',\n",
       " 'MIWAT03',\n",
       " 'NYADIRAQBT20',\n",
       " 'MIWAT05',\n",
       " 'PAWatsonRun08-48',\n",
       " 'WIHOR31',\n",
       " 'NYADIRAQSI14',\n",
       " 'PAConneaut08-021',\n",
       " 'NYHVTIV19',\n",
       " 'PAConneaut08-061',\n",
       " 'PAConneaut08-064',\n",
       " 'PAWatsonRun08-24',\n",
       " 'NYMONT13',\n",
       " 'WIHOR44',\n",
       " 'NYADIRAQBT12',\n",
       " 'PAConneaut08-081',\n",
       " 'MIWAT65',\n",
       " 'PAGeneva08-21',\n",
       " 'NYADIRAQSI20',\n",
       " 'PAConneaut08-049',\n",
       " 'NYADIRAQSI08',\n",
       " 'NYMONT63',\n",
       " 'PAConneaut08-031',\n",
       " 'WIHOR15',\n",
       " 'PAConneaut08-088',\n",
       " 'MIWAT08',\n",
       " 'NYHVTHO19',\n",
       " 'NYHVVLY40',\n",
       " 'PAWatsonRun08-43',\n",
       " 'NYADIRAQSI09',\n",
       " 'NYADIRAQSI13',\n",
       " 'MIWAT09',\n",
       " 'XXXPAWatsonRun08-39',\n",
       " 'NYADIRAQSI24',\n",
       " 'NYMONT44',\n",
       " 'NYMONT47',\n",
       " 'NYMONT09',\n",
       " 'MIWAT37',\n",
       " 'WIHOR02',\n",
       " 'NYHVTIV12',\n",
       " 'MIWAT24',\n",
       " 'MIWAT31',\n",
       " 'PAConneaut08-035',\n",
       " 'NYMONT18',\n",
       " 'NYADIRAQBT03',\n",
       " 'PAWatsonRun08-45',\n",
       " 'WIHOR37',\n",
       " 'PAConneaut08-095',\n",
       " 'NYHVVLY05',\n",
       " 'PAGeneva08-22',\n",
       " 'MIWAT70',\n",
       " 'PAConneaut08-007',\n",
       " 'NYADIRAQBT07',\n",
       " 'NYADIRAQBT31',\n",
       " 'PAConneaut08-076',\n",
       " 'NYADIRAQSI21',\n",
       " 'MIWAT15',\n",
       " 'PAConneaut08-103',\n",
       " 'NYMONT26',\n",
       " 'WIHOR21',\n",
       " 'NYHVVLY15',\n",
       " 'WIHOR35',\n",
       " 'MIWAT42',\n",
       " 'NYADIRAQBT30',\n",
       " 'PAWatsonRun08-26',\n",
       " 'NYHVTHO03',\n",
       " 'NYADIRAQBT36',\n",
       " 'NYHVTIV10',\n",
       " 'NYHVVLY04',\n",
       " 'NYHVVLY16',\n",
       " 'WIHOR30',\n",
       " 'NYHVTIV21',\n",
       " 'NYMONT24',\n",
       " 'NYHVTIV13',\n",
       " 'WIHOR56',\n",
       " 'NYHVVLY25',\n",
       " 'PAConneaut08-079',\n",
       " 'WIHOR18',\n",
       " 'NYHVVLY01',\n",
       " 'MIWAT39',\n",
       " 'PAGeneva08-56',\n",
       " 'PAWatsonRun08-37',\n",
       " 'NYHVTHO15',\n",
       " 'NYADIRAQBT17',\n",
       " 'PAGeneva08-41',\n",
       " 'NYHVVLY30',\n",
       " 'PAWatsonRun08-09',\n",
       " 'NYHVTIV03',\n",
       " 'PAGeneva08-09',\n",
       " 'NYHVTHO28',\n",
       " 'NYADIRAQSI28',\n",
       " 'NYHVVLY21',\n",
       " 'NYHVTIV17',\n",
       " 'WIHOR87',\n",
       " 'PAConneaut08-057',\n",
       " 'PAWatsonRun08-20',\n",
       " 'WIHOR22',\n",
       " 'PAGeneva08-15',\n",
       " 'PAConneaut08-024',\n",
       " 'NYHVTIV14',\n",
       " 'MIWAT53',\n",
       " 'PAGeneva08-28',\n",
       " 'PAGeneva08-44',\n",
       " 'NYADIRAQSI03',\n",
       " 'PAConneaut08-086',\n",
       " 'MIWAT56',\n",
       " 'PAGeneva08-25',\n",
       " 'NYHVTHO06',\n",
       " 'PAGeneva08-51',\n",
       " 'NYHVTIV20',\n",
       " 'NYHVTHO10',\n",
       " 'MIWAT16',\n",
       " 'NYADIRAQSI22',\n",
       " 'MIWAT19',\n",
       " 'WIHOR91',\n",
       " 'NYHVTIV27',\n",
       " 'PAConneaut08-051',\n",
       " 'PAConneaut08-020',\n",
       " 'PAWatsonRun08-16',\n",
       " 'PAConneaut08-048',\n",
       " 'PAGeneva08-35',\n",
       " 'NYADIRAQBT37',\n",
       " 'PAConneaut08-063',\n",
       " 'MIWAT52',\n",
       " 'MIWAT23',\n",
       " 'NYHVTHO30',\n",
       " 'PAConneaut08-080',\n",
       " 'PAConneaut08-004',\n",
       " 'WIHOR68',\n",
       " 'NYMONT10',\n",
       " 'PAGeneva08-50',\n",
       " 'PAGeneva08-33',\n",
       " 'PAWatsonRun08-05',\n",
       " 'WIHOR76',\n",
       " 'WIHOR80',\n",
       " 'PAConneaut08-098',\n",
       " 'WIHOR86',\n",
       " 'NYHVVLY08',\n",
       " 'PAGeneva08-47',\n",
       " 'NYHVVLY13',\n",
       " 'NYHVTHO21',\n",
       " 'NYHVTIV22',\n",
       " 'PAConneaut08-113',\n",
       " 'NYADIRAQBT21',\n",
       " 'NYHVTIV15',\n",
       " 'PAGeneva08-01',\n",
       " 'MIWAT60',\n",
       " 'PAGeneva08-40',\n",
       " 'NYADIRAQBT15',\n",
       " 'PAConneaut08-100',\n",
       " 'PAWatsonRun08-38',\n",
       " 'PAConneaut08-082',\n",
       " 'NYMONT41',\n",
       " 'MIWAT49',\n",
       " 'MIWAT46',\n",
       " 'PAConneaut08-002',\n",
       " 'PAConneaut08-105',\n",
       " 'PAGeneva08-03',\n",
       " 'NYHVTIV16',\n",
       " 'NYHVVLY06',\n",
       " 'NYADIRAQSI02',\n",
       " 'NYADIRAQBT08',\n",
       " 'MIWAT30',\n",
       " 'NYHVTIV02',\n",
       " 'MIWAT54',\n",
       " 'WIHOR81',\n",
       " 'MIWAT27',\n",
       " 'PAGeneva08-52',\n",
       " 'PAGeneva08-08',\n",
       " 'NYMONT23',\n",
       " 'MIWAT47',\n",
       " 'NYHVVLY10',\n",
       " 'PAWatsonRun08-03',\n",
       " 'MIWAT36',\n",
       " 'PAConneaut08-018',\n",
       " 'WIHOR20',\n",
       " 'NYHVTHO02',\n",
       " 'WIHOR08',\n",
       " 'PAGeneva08-23',\n",
       " 'NYHVVLY34',\n",
       " 'NYADIRAQBT05',\n",
       " 'NYMONT21',\n",
       " 'PAConneaut08-056',\n",
       " 'PAWatsonRun08-31',\n",
       " 'PAWatsonRun08-36',\n",
       " 'WIHOR57',\n",
       " 'PAWatsonRun08-21',\n",
       " 'NYADIRAQSI06',\n",
       " 'PAConneaut08-039',\n",
       " 'PAGeneva08-46',\n",
       " 'NYMONT56',\n",
       " 'WIHOR85',\n",
       " 'PAConneaut08-102',\n",
       " 'NYHVVLY41',\n",
       " 'WIHOR53',\n",
       " 'NYADIRAQBT06',\n",
       " 'PAGeneva08-48',\n",
       " 'NYHVVLY18',\n",
       " 'PAConneaut08-043',\n",
       " 'MIWAT35',\n",
       " 'PAConneaut08-108',\n",
       " 'NYMONT20',\n",
       " 'NYHVVLY26',\n",
       " 'PAConneaut08-016',\n",
       " 'NYMONT02',\n",
       " 'PAConneaut08-110',\n",
       " 'PAWatsonRun08-07',\n",
       " 'PAConneaut08-099',\n",
       " 'PAConneaut08-006',\n",
       " 'MIWAT29',\n",
       " 'PAConneaut08-050',\n",
       " 'NYMONT67',\n",
       " 'NYHVTHO14',\n",
       " 'NYHVTIV09',\n",
       " 'NYMONT43',\n",
       " 'NYMONT19',\n",
       " 'PAConneaut08-037',\n",
       " 'PAWatsonRun08-19',\n",
       " 'WIHOR16',\n",
       " 'NYHVTHO12',\n",
       " 'NYADIRAQSI19',\n",
       " 'MIWAT22',\n",
       " 'MIWAT28',\n",
       " 'NYHVTHO18',\n",
       " 'PAGeneva08-54',\n",
       " 'NYMONT25',\n",
       " 'PAGeneva08-16',\n",
       " 'PAConneaut08-083',\n",
       " 'NYMONT58',\n",
       " 'MIWAT69',\n",
       " 'NYMONT40',\n",
       " 'MIWAT59',\n",
       " 'NYADIRAQSI25',\n",
       " 'WIHOR64',\n",
       " 'WIHOR59',\n",
       " 'NYHVVLY29',\n",
       " 'PAWatsonRun08-49',\n",
       " 'WIHOR27',\n",
       " 'PAGeneva08-20',\n",
       " 'NYHVTIV28',\n",
       " 'WIHOR24',\n",
       " 'PAConneaut08-028',\n",
       " 'MIWAT58',\n",
       " 'NYADIRAQBT24',\n",
       " 'NYADIRAQBT04',\n",
       " 'PAConneaut08-107',\n",
       " 'PAWatsonRun08-17',\n",
       " 'NYADIRAQBT19',\n",
       " 'WIHOR36',\n",
       " 'NYHVTHO25',\n",
       " 'MIWAT25',\n",
       " 'PAWatsonRun08-25',\n",
       " 'NYMONT15',\n",
       " 'MIWAT14',\n",
       " 'NYHVVLY27',\n",
       " 'PAWatsonRun08-13',\n",
       " 'NYADIRAQSI29',\n",
       " 'NYADIRAQBT23',\n",
       " 'NYMONT62',\n",
       " 'NYHVTHO13',\n",
       " 'NYHVVLY33',\n",
       " 'PAConneaut08-047',\n",
       " 'WIHOR45',\n",
       " 'NYADIRAQBT16',\n",
       " 'NYMONT70',\n",
       " 'WIHOR83',\n",
       " 'NYMONT66',\n",
       " 'NYHVTHO26',\n",
       " 'NYMONT37',\n",
       " 'WIHOR05',\n",
       " 'MIWAT04',\n",
       " 'NYMONT11',\n",
       " 'NYHVVLY23',\n",
       " 'MIWAT17',\n",
       " 'NYHVTHO05',\n",
       " 'PAConneaut08-069',\n",
       " 'NYADIRAQBT22',\n",
       " 'PAGeneva08-42',\n",
       " 'NYMONT53',\n",
       " 'PAWatsonRun08-50',\n",
       " 'PAConneaut08-045',\n",
       " 'NYMONT50',\n",
       " 'PAWatsonRun08-46',\n",
       " 'NYHVTHO22',\n",
       " 'WIHOR54',\n",
       " 'WIHOR42',\n",
       " 'PAConneaut08-094',\n",
       " 'PAWatsonRun08-10',\n",
       " 'NYADIRAQSI12',\n",
       " 'NYHVVLY20',\n",
       " 'NYHVVLY22',\n",
       " 'NYMONT65',\n",
       " 'WIHOR09',\n",
       " 'PAGeneva08-10',\n",
       " 'WIHOR65',\n",
       " 'PAGeneva08-29',\n",
       " 'NYADIRAQBT11',\n",
       " 'NYADIRAQBT14',\n",
       " 'WIHOR46',\n",
       " 'NYMONT57',\n",
       " 'PAWatsonRun08-04',\n",
       " 'NYADIRAQBT34',\n",
       " 'WIHOR62',\n",
       " 'NYMONT64',\n",
       " 'MIWAT74',\n",
       " 'NYADIRAQSI31',\n",
       " 'NYMONT28',\n",
       " 'WIHOR29',\n",
       " 'PAGeneva08-05',\n",
       " 'NYMONT01',\n",
       " 'NYHVVLY19',\n",
       " 'PAConneaut08-111',\n",
       " 'MIWAT18',\n",
       " 'MIWAT41',\n",
       " 'MIWAT33',\n",
       " 'NYMONT04',\n",
       " 'PAConneaut08-029',\n",
       " 'PAWatsonRun08-35',\n",
       " 'NYHVVLY31',\n",
       " 'PAGeneva08-32',\n",
       " 'PAConneaut08-044',\n",
       " 'PAGeneva08-13',\n",
       " 'NYADIRAQSI18',\n",
       " 'NYHVVLY12',\n",
       " 'PAConneaut08-059',\n",
       " 'MIWAT38',\n",
       " 'NYADIRAQBT02',\n",
       " 'PAGeneva08-12',\n",
       " 'WIHOR70',\n",
       " 'PAConneaut08-078',\n",
       " 'PAConneaut08-104',\n",
       " 'WIHOR11',\n",
       " 'NYMONT69',\n",
       " 'PAWatsonRun08-12',\n",
       " 'PAWatsonRun08-32',\n",
       " 'WIHOR84',\n",
       " 'NYMONT14',\n",
       " 'MIWAT01',\n",
       " 'NYHVTIV04',\n",
       " 'NYMONT05',\n",
       " 'MIWAT34',\n",
       " 'PAWatsonRun08-44',\n",
       " 'WIHOR77',\n",
       " 'NYHVTHO16',\n",
       " 'WIHOR49',\n",
       " 'PAWatsonRun08-14',\n",
       " 'WIHOR60',\n",
       " 'WIHOR58',\n",
       " 'PAConneaut08-034',\n",
       " 'NYADIRAQBT18',\n",
       " 'PAConneaut08-112',\n",
       " 'WIHOR55',\n",
       " 'NYHVVLY38',\n",
       " 'PAConneaut08-074',\n",
       " 'PAConneaut08-010',\n",
       " 'PAGeneva08-06',\n",
       " 'PAGeneva08-60',\n",
       " 'NYADIRAQBT29',\n",
       " 'PAConneaut08-109',\n",
       " 'PAConneaut08-026',\n",
       " 'MIWAT48',\n",
       " 'PAWatsonRun08-06',\n",
       " 'NYADIRAQBT09',\n",
       " 'WIHOR51',\n",
       " 'WIHOR39',\n",
       " 'PAConneaut08-012',\n",
       " 'WIHOR06',\n",
       " 'NYHVVLY24',\n",
       " 'MIWAT51',\n",
       " 'PAConneaut08-072',\n",
       " 'NYMONT61',\n",
       " 'MIWAT11',\n",
       " 'MIWAT66',\n",
       " 'PAWatsonRun08-41',\n",
       " 'MIWAT45',\n",
       " 'PAWatsonRun08-47',\n",
       " 'PAConneaut08-023',\n",
       " 'WIHOR79',\n",
       " 'NYMONT06',\n",
       " 'PAConneaut08-017']"
      ]
     },
     "execution_count": 12,
     "metadata": {},
     "output_type": "execute_result"
    }
   ],
   "source": [
    "indv_to_plot = [i for i in syllable_df.indv.unique() if np.sum(syllable_df.indv == i) > 100]\n",
    "indv_to_plot"
   ]
  },
  {
   "cell_type": "code",
   "execution_count": 13,
   "metadata": {
    "ExecuteTime": {
     "end_time": "2019-10-16T01:02:16.665402Z",
     "start_time": "2019-10-16T01:02:14.646180Z"
    }
   },
   "outputs": [],
   "source": [
    "subset_df = syllable_df[\n",
    "    syllable_df.indv.isin(indv_to_plot) & \n",
    "    np.array([np.sum(i) > 0.2 for i in syllable_df.spectrogram.values])\n",
    "]"
   ]
  },
  {
   "cell_type": "code",
   "execution_count": 14,
   "metadata": {
    "ExecuteTime": {
     "end_time": "2019-10-16T01:02:16.770825Z",
     "start_time": "2019-10-16T01:02:16.667702Z"
    }
   },
   "outputs": [
    {
     "data": {
      "text/html": [
       "<div>\n",
       "<style scoped>\n",
       "    .dataframe tbody tr th:only-of-type {\n",
       "        vertical-align: middle;\n",
       "    }\n",
       "\n",
       "    .dataframe tbody tr th {\n",
       "        vertical-align: top;\n",
       "    }\n",
       "\n",
       "    .dataframe thead th {\n",
       "        text-align: right;\n",
       "    }\n",
       "</style>\n",
       "<table border=\"1\" class=\"dataframe\">\n",
       "  <thead>\n",
       "    <tr style=\"text-align: right;\">\n",
       "      <th></th>\n",
       "      <th>start_time</th>\n",
       "      <th>end_time</th>\n",
       "      <th>syllable</th>\n",
       "      <th>pos_in_syllable</th>\n",
       "      <th>indv</th>\n",
       "      <th>indvi</th>\n",
       "      <th>key</th>\n",
       "      <th>audio</th>\n",
       "      <th>rate</th>\n",
       "      <th>spectrogram</th>\n",
       "    </tr>\n",
       "  </thead>\n",
       "  <tbody>\n",
       "    <tr>\n",
       "      <th>0</th>\n",
       "      <td>0.0935</td>\n",
       "      <td>0.0995</td>\n",
       "      <td>0.0</td>\n",
       "      <td>0.0</td>\n",
       "      <td>PAConneaut08-101</td>\n",
       "      <td>0</td>\n",
       "      <td>PymConneaut08T101A-Z</td>\n",
       "      <td>[0.06969332862600451, 0.06959801897460591, 0.0...</td>\n",
       "      <td>44100</td>\n",
       "      <td>[[0.0, 0.0, 0.0, 0.0, 0.0, 0.0, 0.18450777, 0....</td>\n",
       "    </tr>\n",
       "    <tr>\n",
       "      <th>1</th>\n",
       "      <td>0.1075</td>\n",
       "      <td>0.1605</td>\n",
       "      <td>0.0</td>\n",
       "      <td>1.0</td>\n",
       "      <td>PAConneaut08-101</td>\n",
       "      <td>0</td>\n",
       "      <td>PymConneaut08T101A-Z</td>\n",
       "      <td>[0.05956509596237225, 0.06447900194559553, 0.0...</td>\n",
       "      <td>44100</td>\n",
       "      <td>[[0.0, 0.0, 0.24632797, 0.16177763, 0.09246848...</td>\n",
       "    </tr>\n",
       "    <tr>\n",
       "      <th>2</th>\n",
       "      <td>0.1770</td>\n",
       "      <td>0.2170</td>\n",
       "      <td>0.0</td>\n",
       "      <td>2.0</td>\n",
       "      <td>PAConneaut08-101</td>\n",
       "      <td>0</td>\n",
       "      <td>PymConneaut08T101A-Z</td>\n",
       "      <td>[-0.0016472223832536582, -0.010803575765281171...</td>\n",
       "      <td>44100</td>\n",
       "      <td>[[0.0, 0.0, 0.043056857, 0.015127991, -0.00225...</td>\n",
       "    </tr>\n",
       "  </tbody>\n",
       "</table>\n",
       "</div>"
      ],
      "text/plain": [
       "   start_time  end_time  syllable  pos_in_syllable              indv  indvi  \\\n",
       "0      0.0935    0.0995       0.0              0.0  PAConneaut08-101      0   \n",
       "1      0.1075    0.1605       0.0              1.0  PAConneaut08-101      0   \n",
       "2      0.1770    0.2170       0.0              2.0  PAConneaut08-101      0   \n",
       "\n",
       "                    key                                              audio  \\\n",
       "0  PymConneaut08T101A-Z  [0.06969332862600451, 0.06959801897460591, 0.0...   \n",
       "1  PymConneaut08T101A-Z  [0.05956509596237225, 0.06447900194559553, 0.0...   \n",
       "2  PymConneaut08T101A-Z  [-0.0016472223832536582, -0.010803575765281171...   \n",
       "\n",
       "    rate                                        spectrogram  \n",
       "0  44100  [[0.0, 0.0, 0.0, 0.0, 0.0, 0.0, 0.18450777, 0....  \n",
       "1  44100  [[0.0, 0.0, 0.24632797, 0.16177763, 0.09246848...  \n",
       "2  44100  [[0.0, 0.0, 0.043056857, 0.015127991, -0.00225...  "
      ]
     },
     "execution_count": 14,
     "metadata": {},
     "output_type": "execute_result"
    }
   ],
   "source": [
    "subset_df[:3]"
   ]
  },
  {
   "cell_type": "code",
   "execution_count": 15,
   "metadata": {
    "ExecuteTime": {
     "end_time": "2019-10-16T01:02:17.052862Z",
     "start_time": "2019-10-16T01:02:16.772558Z"
    }
   },
   "outputs": [
    {
     "data": {
      "text/html": [
       "<div>\n",
       "<style scoped>\n",
       "    .dataframe tbody tr th:only-of-type {\n",
       "        vertical-align: middle;\n",
       "    }\n",
       "\n",
       "    .dataframe tbody tr th {\n",
       "        vertical-align: top;\n",
       "    }\n",
       "\n",
       "    .dataframe thead th {\n",
       "        text-align: right;\n",
       "    }\n",
       "</style>\n",
       "<table border=\"1\" class=\"dataframe\">\n",
       "  <thead>\n",
       "    <tr style=\"text-align: right;\">\n",
       "      <th></th>\n",
       "      <th>start_time</th>\n",
       "      <th>end_time</th>\n",
       "      <th>syllable</th>\n",
       "      <th>pos_in_syllable</th>\n",
       "      <th>indv</th>\n",
       "      <th>indvi</th>\n",
       "      <th>key</th>\n",
       "      <th>audio</th>\n",
       "      <th>rate</th>\n",
       "      <th>spectrogram</th>\n",
       "    </tr>\n",
       "  </thead>\n",
       "  <tbody>\n",
       "    <tr>\n",
       "      <th>0</th>\n",
       "      <td>0.0935</td>\n",
       "      <td>0.0995</td>\n",
       "      <td>0.0</td>\n",
       "      <td>0.0</td>\n",
       "      <td>PAConneaut08-101</td>\n",
       "      <td>0</td>\n",
       "      <td>PymConneaut08T101A-Z</td>\n",
       "      <td>[0.06969332862600451, 0.06959801897460591, 0.0...</td>\n",
       "      <td>44100</td>\n",
       "      <td>[[0.0, 0.0, 0.0, 0.0, 0.0, 0.0, 0.18450777, 0....</td>\n",
       "    </tr>\n",
       "    <tr>\n",
       "      <th>1</th>\n",
       "      <td>0.1075</td>\n",
       "      <td>0.1605</td>\n",
       "      <td>0.0</td>\n",
       "      <td>1.0</td>\n",
       "      <td>PAConneaut08-101</td>\n",
       "      <td>0</td>\n",
       "      <td>PymConneaut08T101A-Z</td>\n",
       "      <td>[0.05956509596237225, 0.06447900194559553, 0.0...</td>\n",
       "      <td>44100</td>\n",
       "      <td>[[0.0, 0.0, 0.24632797, 0.16177763, 0.09246848...</td>\n",
       "    </tr>\n",
       "    <tr>\n",
       "      <th>2</th>\n",
       "      <td>0.1770</td>\n",
       "      <td>0.2170</td>\n",
       "      <td>0.0</td>\n",
       "      <td>2.0</td>\n",
       "      <td>PAConneaut08-101</td>\n",
       "      <td>0</td>\n",
       "      <td>PymConneaut08T101A-Z</td>\n",
       "      <td>[-0.0016472223832536582, -0.010803575765281171...</td>\n",
       "      <td>44100</td>\n",
       "      <td>[[0.0, 0.0, 0.043056857, 0.015127991, -0.00225...</td>\n",
       "    </tr>\n",
       "    <tr>\n",
       "      <th>3</th>\n",
       "      <td>0.2690</td>\n",
       "      <td>0.2765</td>\n",
       "      <td>1.0</td>\n",
       "      <td>0.0</td>\n",
       "      <td>PAConneaut08-101</td>\n",
       "      <td>0</td>\n",
       "      <td>PymConneaut08T101A-Z</td>\n",
       "      <td>[0.06307313459012304, 0.06570141840239573, 0.0...</td>\n",
       "      <td>44100</td>\n",
       "      <td>[[0.0, 0.0, 0.0, 0.0, 0.0, 0.2477134, 0.212571...</td>\n",
       "    </tr>\n",
       "    <tr>\n",
       "      <th>4</th>\n",
       "      <td>0.2795</td>\n",
       "      <td>0.3395</td>\n",
       "      <td>1.0</td>\n",
       "      <td>1.0</td>\n",
       "      <td>PAConneaut08-101</td>\n",
       "      <td>0</td>\n",
       "      <td>PymConneaut08T101A-Z</td>\n",
       "      <td>[-0.030964259441389225, -0.0263069614956131, -...</td>\n",
       "      <td>44100</td>\n",
       "      <td>[[0.0, 0.08078519, 0.1313302, 0.2087228, 0.122...</td>\n",
       "    </tr>\n",
       "    <tr>\n",
       "      <th>5</th>\n",
       "      <td>0.3530</td>\n",
       "      <td>0.3935</td>\n",
       "      <td>1.0</td>\n",
       "      <td>2.0</td>\n",
       "      <td>PAConneaut08-101</td>\n",
       "      <td>0</td>\n",
       "      <td>PymConneaut08T101A-Z</td>\n",
       "      <td>[0.06448316695245321, 0.05989226929086981, 0.0...</td>\n",
       "      <td>44100</td>\n",
       "      <td>[[0.0, 0.0, 0.12290526, -0.0032384768, -0.0040...</td>\n",
       "    </tr>\n",
       "    <tr>\n",
       "      <th>6</th>\n",
       "      <td>0.4390</td>\n",
       "      <td>0.4455</td>\n",
       "      <td>2.0</td>\n",
       "      <td>0.0</td>\n",
       "      <td>PAConneaut08-101</td>\n",
       "      <td>0</td>\n",
       "      <td>PymConneaut08T101A-Z</td>\n",
       "      <td>[-0.009802128277609592, -0.0013682773566090108...</td>\n",
       "      <td>44100</td>\n",
       "      <td>[[0.0, 0.0, 0.0, 0.0, 0.0, 0.0, 0.009875438, 0...</td>\n",
       "    </tr>\n",
       "    <tr>\n",
       "      <th>7</th>\n",
       "      <td>0.4505</td>\n",
       "      <td>0.5080</td>\n",
       "      <td>2.0</td>\n",
       "      <td>1.0</td>\n",
       "      <td>PAConneaut08-101</td>\n",
       "      <td>0</td>\n",
       "      <td>PymConneaut08T101A-Z</td>\n",
       "      <td>[0.012309962480153463, -0.005335512931172494, ...</td>\n",
       "      <td>44100</td>\n",
       "      <td>[[0.0, 0.0, 0.0, 0.0, 0.0, 0.0, 0.0, 0.0, 0.0,...</td>\n",
       "    </tr>\n",
       "    <tr>\n",
       "      <th>8</th>\n",
       "      <td>0.5210</td>\n",
       "      <td>0.5600</td>\n",
       "      <td>2.0</td>\n",
       "      <td>2.0</td>\n",
       "      <td>PAConneaut08-101</td>\n",
       "      <td>0</td>\n",
       "      <td>PymConneaut08T101A-Z</td>\n",
       "      <td>[-0.011615191475445997, 0.007360380736143804, ...</td>\n",
       "      <td>44100</td>\n",
       "      <td>[[0.0, 0.0, 0.0, 0.0, 0.0, 0.0, 0.0, 0.0, 0.0,...</td>\n",
       "    </tr>\n",
       "    <tr>\n",
       "      <th>9</th>\n",
       "      <td>0.5990</td>\n",
       "      <td>0.6065</td>\n",
       "      <td>3.0</td>\n",
       "      <td>0.0</td>\n",
       "      <td>PAConneaut08-101</td>\n",
       "      <td>0</td>\n",
       "      <td>PymConneaut08T101A-Z</td>\n",
       "      <td>[0.003808433449496492, 0.011299177707758474, 0...</td>\n",
       "      <td>44100</td>\n",
       "      <td>[[0.0, 0.0, 0.0, 0.0, 0.0, 0.0, 0.0, 0.0, 0.0,...</td>\n",
       "    </tr>\n",
       "  </tbody>\n",
       "</table>\n",
       "</div>"
      ],
      "text/plain": [
       "   start_time  end_time  syllable  pos_in_syllable              indv  indvi  \\\n",
       "0      0.0935    0.0995       0.0              0.0  PAConneaut08-101      0   \n",
       "1      0.1075    0.1605       0.0              1.0  PAConneaut08-101      0   \n",
       "2      0.1770    0.2170       0.0              2.0  PAConneaut08-101      0   \n",
       "3      0.2690    0.2765       1.0              0.0  PAConneaut08-101      0   \n",
       "4      0.2795    0.3395       1.0              1.0  PAConneaut08-101      0   \n",
       "5      0.3530    0.3935       1.0              2.0  PAConneaut08-101      0   \n",
       "6      0.4390    0.4455       2.0              0.0  PAConneaut08-101      0   \n",
       "7      0.4505    0.5080       2.0              1.0  PAConneaut08-101      0   \n",
       "8      0.5210    0.5600       2.0              2.0  PAConneaut08-101      0   \n",
       "9      0.5990    0.6065       3.0              0.0  PAConneaut08-101      0   \n",
       "\n",
       "                    key                                              audio  \\\n",
       "0  PymConneaut08T101A-Z  [0.06969332862600451, 0.06959801897460591, 0.0...   \n",
       "1  PymConneaut08T101A-Z  [0.05956509596237225, 0.06447900194559553, 0.0...   \n",
       "2  PymConneaut08T101A-Z  [-0.0016472223832536582, -0.010803575765281171...   \n",
       "3  PymConneaut08T101A-Z  [0.06307313459012304, 0.06570141840239573, 0.0...   \n",
       "4  PymConneaut08T101A-Z  [-0.030964259441389225, -0.0263069614956131, -...   \n",
       "5  PymConneaut08T101A-Z  [0.06448316695245321, 0.05989226929086981, 0.0...   \n",
       "6  PymConneaut08T101A-Z  [-0.009802128277609592, -0.0013682773566090108...   \n",
       "7  PymConneaut08T101A-Z  [0.012309962480153463, -0.005335512931172494, ...   \n",
       "8  PymConneaut08T101A-Z  [-0.011615191475445997, 0.007360380736143804, ...   \n",
       "9  PymConneaut08T101A-Z  [0.003808433449496492, 0.011299177707758474, 0...   \n",
       "\n",
       "    rate                                        spectrogram  \n",
       "0  44100  [[0.0, 0.0, 0.0, 0.0, 0.0, 0.0, 0.18450777, 0....  \n",
       "1  44100  [[0.0, 0.0, 0.24632797, 0.16177763, 0.09246848...  \n",
       "2  44100  [[0.0, 0.0, 0.043056857, 0.015127991, -0.00225...  \n",
       "3  44100  [[0.0, 0.0, 0.0, 0.0, 0.0, 0.2477134, 0.212571...  \n",
       "4  44100  [[0.0, 0.08078519, 0.1313302, 0.2087228, 0.122...  \n",
       "5  44100  [[0.0, 0.0, 0.12290526, -0.0032384768, -0.0040...  \n",
       "6  44100  [[0.0, 0.0, 0.0, 0.0, 0.0, 0.0, 0.009875438, 0...  \n",
       "7  44100  [[0.0, 0.0, 0.0, 0.0, 0.0, 0.0, 0.0, 0.0, 0.0,...  \n",
       "8  44100  [[0.0, 0.0, 0.0, 0.0, 0.0, 0.0, 0.0, 0.0, 0.0,...  \n",
       "9  44100  [[0.0, 0.0, 0.0, 0.0, 0.0, 0.0, 0.0, 0.0, 0.0,...  "
      ]
     },
     "execution_count": 15,
     "metadata": {},
     "output_type": "execute_result"
    }
   ],
   "source": [
    "subset_df[:10]"
   ]
  },
  {
   "cell_type": "markdown",
   "metadata": {},
   "source": [
    "#### cluster and plot"
   ]
  },
  {
   "cell_type": "code",
   "execution_count": 16,
   "metadata": {
    "ExecuteTime": {
     "end_time": "2019-10-16T01:02:17.089666Z",
     "start_time": "2019-10-16T01:02:17.054748Z"
    }
   },
   "outputs": [],
   "source": [
    "from avgn.utils.hparams import HParams\n",
    "from avgn.dataset import DataSet"
   ]
  },
  {
   "cell_type": "code",
   "execution_count": 17,
   "metadata": {
    "ExecuteTime": {
     "end_time": "2019-10-16T01:02:27.317150Z",
     "start_time": "2019-10-16T01:02:17.091527Z"
    }
   },
   "outputs": [
    {
     "data": {
      "application/vnd.jupyter.widget-view+json": {
       "model_id": "d6b38c1a2db04bfcbddc5b9126238657",
       "version_major": 2,
       "version_minor": 0
      },
      "text/plain": [
       "HBox(children=(IntProgress(value=0, description='loading json', max=1867, style=ProgressStyle(description_widt…"
      ]
     },
     "metadata": {},
     "output_type": "display_data"
    },
    {
     "name": "stderr",
     "output_type": "stream",
     "text": [
      "[Parallel(n_jobs=-1)]: Using backend LokyBackend with 24 concurrent workers.\n",
      "[Parallel(n_jobs=-1)]: Done   2 tasks      | elapsed:    4.6s\n"
     ]
    },
    {
     "name": "stdout",
     "output_type": "stream",
     "text": [
      "\n"
     ]
    },
    {
     "name": "stderr",
     "output_type": "stream",
     "text": [
      "[Parallel(n_jobs=-1)]: Done 1867 out of 1867 | elapsed:    5.4s finished\n"
     ]
    },
    {
     "data": {
      "application/vnd.jupyter.widget-view+json": {
       "model_id": "",
       "version_major": 2,
       "version_minor": 0
      },
      "text/plain": [
       "HBox(children=(IntProgress(value=0, description='getting unique individuals', max=1867, style=ProgressStyle(de…"
      ]
     },
     "metadata": {},
     "output_type": "display_data"
    },
    {
     "name": "stdout",
     "output_type": "stream",
     "text": [
      "\r"
     ]
    }
   ],
   "source": [
    "hparams = HParams()\n",
    "# create a dataset object\n",
    "dataset = DataSet(DATASET_ID, hparams = hparams)"
   ]
  },
  {
   "cell_type": "code",
   "execution_count": 18,
   "metadata": {
    "ExecuteTime": {
     "end_time": "2019-10-16T01:02:27.413331Z",
     "start_time": "2019-10-16T01:02:27.320719Z"
    }
   },
   "outputs": [
    {
     "data": {
      "text/plain": [
       "array(['PymConneaut08T101A-Z', 'PymConneaut08T101A-Z',\n",
       "       'PymConneaut08T101A-Z', ..., 'PymWatsonRun08T41C-Z',\n",
       "       'PymWatsonRun08T41C-Z', 'PymWatsonRun08T41C-Z'], dtype=object)"
      ]
     },
     "execution_count": 18,
     "metadata": {},
     "output_type": "execute_result"
    }
   ],
   "source": [
    "subset_df.key.values"
   ]
  },
  {
   "cell_type": "code",
   "execution_count": 19,
   "metadata": {
    "ExecuteTime": {
     "end_time": "2019-10-16T01:02:27.550936Z",
     "start_time": "2019-10-16T01:02:27.417954Z"
    }
   },
   "outputs": [
    {
     "data": {
      "text/plain": [
       "array(['Conneaut, PA', 'Conneaut, PA', 'Conneaut, PA'], dtype=object)"
      ]
     },
     "execution_count": 19,
     "metadata": {},
     "output_type": "execute_result"
    }
   ],
   "source": [
    "population = np.array([dataset.data_files[key].data[\"POPID\"]  if key in dataset.data_files else None for key in subset_df.key.values])\n",
    "population[:3]"
   ]
  },
  {
   "cell_type": "code",
   "execution_count": 20,
   "metadata": {
    "ExecuteTime": {
     "end_time": "2019-10-16T01:02:27.631096Z",
     "start_time": "2019-10-16T01:02:27.553152Z"
    }
   },
   "outputs": [
    {
     "data": {
      "text/plain": [
       "91336"
      ]
     },
     "execution_count": 20,
     "metadata": {},
     "output_type": "execute_result"
    }
   ],
   "source": [
    "len(population)"
   ]
  },
  {
   "cell_type": "code",
   "execution_count": 21,
   "metadata": {
    "ExecuteTime": {
     "end_time": "2019-10-16T01:02:27.714386Z",
     "start_time": "2019-10-16T01:02:27.633003Z"
    }
   },
   "outputs": [
    {
     "data": {
      "text/plain": [
       "91336"
      ]
     },
     "execution_count": 21,
     "metadata": {},
     "output_type": "execute_result"
    }
   ],
   "source": [
    "len(subset_df)"
   ]
  },
  {
   "cell_type": "code",
   "execution_count": 22,
   "metadata": {
    "ExecuteTime": {
     "end_time": "2019-10-16T01:02:27.832303Z",
     "start_time": "2019-10-16T01:02:27.716221Z"
    }
   },
   "outputs": [],
   "source": [
    "subset_df = subset_df[np.array(population) != None]\n",
    "population = population[np.array(population) != None]"
   ]
  },
  {
   "cell_type": "code",
   "execution_count": 23,
   "metadata": {
    "ExecuteTime": {
     "end_time": "2019-10-16T01:02:28.681872Z",
     "start_time": "2019-10-16T01:02:27.834504Z"
    }
   },
   "outputs": [
    {
     "data": {
      "text/plain": [
       "(91276, 704)"
      ]
     },
     "execution_count": 23,
     "metadata": {},
     "output_type": "execute_result"
    }
   ],
   "source": [
    "specs = list(subset_df.spectrogram.values)\n",
    "#specs = [i/np.max(i) for i in specs if np.sum(i) > 100]\n",
    "specs_flattened = flatten_spectrograms(specs)\n",
    "np.shape(specs_flattened)"
   ]
  },
  {
   "cell_type": "code",
   "execution_count": 24,
   "metadata": {
    "ExecuteTime": {
     "end_time": "2019-10-16T01:02:29.127855Z",
     "start_time": "2019-10-16T01:02:28.683763Z"
    }
   },
   "outputs": [],
   "source": [
    "#from cuml.manifold.umap import UMAP as cumlUMAP"
   ]
  },
  {
   "cell_type": "code",
   "execution_count": 26,
   "metadata": {
    "ExecuteTime": {
     "end_time": "2019-10-16T01:03:27.158254Z",
     "start_time": "2019-10-16T01:03:26.089713Z"
    },
    "scrolled": true
   },
   "outputs": [
    {
     "name": "stderr",
     "output_type": "stream",
     "text": [
      "Exception ignored in: <bound method UMAP.__del__ of UMAP()>\n",
      "Traceback (most recent call last):\n",
      "  File \"cuml/manifold/umap.pyx\", line 313, in cuml.manifold.umap.UMAP.__del__\n",
      "AttributeError: 'UMAP' object has no attribute 'umap_params'\n"
     ]
    },
    {
     "ename": "RuntimeError",
     "evalue": "Exception occured! file=/conda/conda-bld/libcuml_1566588242169/work/cpp/src/common/cumlHandle.cpp line=177: FAIL: call='cudaGetDevice(&cur_dev)'. Reason:no CUDA-capable device is detected\n\nObtained 64 stack frames\n#0 in /mnt/cube/tsainbur/conda_envs/tpy3/lib/python3.6/site-packages/cuml/common/../../../../libcuml++.so(_ZN8MLCommon9Exception16collectCallStackEv+0x3e) [0x7f888cb4456e]\n#1 in /mnt/cube/tsainbur/conda_envs/tpy3/lib/python3.6/site-packages/cuml/common/../../../../libcuml++.so(_ZN8MLCommon9ExceptionC2ERKNSt7__cxx1112basic_stringIcSt11char_traitsIcESaIcEEE+0x80) [0x7f888cb45080]\n#2 in /mnt/cube/tsainbur/conda_envs/tpy3/lib/python3.6/site-packages/cuml/common/../../../../libcuml++.so(+0x1ad2f0) [0x7f888cb422f0]\n#3 in /mnt/cube/tsainbur/conda_envs/tpy3/lib/python3.6/site-packages/cuml/common/../../../../libcuml++.so(_ZN2ML15cumlHandle_implC1Ev+0xc) [0x7f888cb43f8c]\n#4 in /mnt/cube/tsainbur/conda_envs/tpy3/lib/python3.6/site-packages/cuml/common/../../../../libcuml++.so(_ZN2ML10cumlHandleC1Ev+0x1e) [0x7f888cb440de]\n#5 in /mnt/cube/tsainbur/conda_envs/tpy3/lib/python3.6/site-packages/cuml/common/handle.cpython-36m-x86_64-linux-gnu.so(+0x8446) [0x7f8a5088a446]\n#6 in /mnt/cube/tsainbur/conda_envs/tpy3/bin/python(+0x1a3755) [0x556370b9c755]\n#7 in /mnt/cube/tsainbur/conda_envs/tpy3/lib/python3.6/site-packages/cuml/common/base.cpython-36m-x86_64-linux-gnu.so(+0xc05b) [0x7f8a563a705b]\n#8 in /mnt/cube/tsainbur/conda_envs/tpy3/lib/python3.6/site-packages/cuml/manifold/umap.cpython-36m-x86_64-linux-gnu.so(+0x131dd) [0x7f89940791dd]\n#9 in /mnt/cube/tsainbur/conda_envs/tpy3/bin/python(_PyObject_FastCallDict+0x8b) [0x556370b0c7bb]\n#10 in /mnt/cube/tsainbur/conda_envs/tpy3/bin/python(_PyObject_Call_Prepend+0x63) [0x556370b11613]\n#11 in /mnt/cube/tsainbur/conda_envs/tpy3/bin/python(PyObject_Call+0x3e) [0x556370b0c3de]\n#12 in /mnt/cube/tsainbur/conda_envs/tpy3/bin/python(+0x1789fb) [0x556370b719fb]\n#13 in /mnt/cube/tsainbur/conda_envs/tpy3/bin/python(+0x1a37a7) [0x556370b9c7a7]\n#14 in /mnt/cube/tsainbur/conda_envs/tpy3/bin/python(_PyObject_FastCallDict+0x8b) [0x556370b0c7bb]\n#15 in /mnt/cube/tsainbur/conda_envs/tpy3/bin/python(_PyObject_FastCallKeywords+0xaa) [0x556370b6835a]\n#16 in /mnt/cube/tsainbur/conda_envs/tpy3/bin/python(+0x1a35be) [0x556370b9c5be]\n#17 in /mnt/cube/tsainbur/conda_envs/tpy3/bin/python(_PyEval_EvalFrameDefault+0x1027) [0x556370bc0457]\n#18 in /mnt/cube/tsainbur/conda_envs/tpy3/bin/python(PyEval_EvalCodeEx+0x329) [0x556370b6b749]\n#19 in /mnt/cube/tsainbur/conda_envs/tpy3/bin/python(PyEval_EvalCode+0x1c) [0x556370b6c4ec]\n#20 in /mnt/cube/tsainbur/conda_envs/tpy3/bin/python(+0x1c414b) [0x556370bbd14b]\n#21 in /mnt/cube/tsainbur/conda_envs/tpy3/bin/python(_PyCFunction_FastCallDict+0x91) [0x556370b0c511]\n#22 in /mnt/cube/tsainbur/conda_envs/tpy3/bin/python(+0x1a346c) [0x556370b9c46c]\n#23 in /mnt/cube/tsainbur/conda_envs/tpy3/bin/python(_PyEval_EvalFrameDefault+0x30a) [0x556370bbf73a]\n#24 in /mnt/cube/tsainbur/conda_envs/tpy3/bin/python(_PyGen_Send+0x256) [0x556370b9f7e6]\n#25 in /mnt/cube/tsainbur/conda_envs/tpy3/bin/python(_PyEval_EvalFrameDefault+0x13d4) [0x556370bc0804]\n#26 in /mnt/cube/tsainbur/conda_envs/tpy3/bin/python(_PyGen_Send+0x256) [0x556370b9f7e6]\n#27 in /mnt/cube/tsainbur/conda_envs/tpy3/bin/python(_PyEval_EvalFrameDefault+0x13d4) [0x556370bc0804]\n#28 in /mnt/cube/tsainbur/conda_envs/tpy3/bin/python(_PyGen_Send+0x256) [0x556370b9f7e6]\n#29 in /mnt/cube/tsainbur/conda_envs/tpy3/bin/python(_PyCFunction_FastCallDict+0x115) [0x556370b0c595]\n#30 in /mnt/cube/tsainbur/conda_envs/tpy3/bin/python(+0x1a346c) [0x556370b9c46c]\n#31 in /mnt/cube/tsainbur/conda_envs/tpy3/bin/python(_PyEval_EvalFrameDefault+0x30a) [0x556370bbf73a]\n#32 in /mnt/cube/tsainbur/conda_envs/tpy3/bin/python(+0x16ee4b) [0x556370b67e4b]\n#33 in /mnt/cube/tsainbur/conda_envs/tpy3/bin/python(+0x1a3545) [0x556370b9c545]\n#34 in /mnt/cube/tsainbur/conda_envs/tpy3/bin/python(_PyEval_EvalFrameDefault+0x30a) [0x556370bbf73a]\n#35 in /mnt/cube/tsainbur/conda_envs/tpy3/bin/python(+0x16ee4b) [0x556370b67e4b]\n#36 in /mnt/cube/tsainbur/conda_envs/tpy3/bin/python(+0x1a3545) [0x556370b9c545]\n#37 in /mnt/cube/tsainbur/conda_envs/tpy3/bin/python(_PyEval_EvalFrameDefault+0x30a) [0x556370bbf73a]\n#38 in /mnt/cube/tsainbur/conda_envs/tpy3/bin/python(+0x16e056) [0x556370b67056]\n#39 in /mnt/cube/tsainbur/conda_envs/tpy3/bin/python(_PyFunction_FastCallDict+0x3da) [0x556370b6876a]\n#40 in /mnt/cube/tsainbur/conda_envs/tpy3/bin/python(_PyObject_FastCallDict+0x26f) [0x556370b0c99f]\n#41 in /mnt/cube/tsainbur/conda_envs/tpy3/bin/python(_PyObject_Call_Prepend+0x63) [0x556370b11613]\n#42 in /mnt/cube/tsainbur/conda_envs/tpy3/bin/python(PyObject_Call+0x3e) [0x556370b0c3de]\n#43 in /mnt/cube/tsainbur/conda_envs/tpy3/bin/python(_PyEval_EvalFrameDefault+0x1a26) [0x556370bc0e56]\n#44 in /mnt/cube/tsainbur/conda_envs/tpy3/bin/python(+0x16e326) [0x556370b67326]\n#45 in /mnt/cube/tsainbur/conda_envs/tpy3/bin/python(+0x16f08f) [0x556370b6808f]\n#46 in /mnt/cube/tsainbur/conda_envs/tpy3/bin/python(+0x1a3545) [0x556370b9c545]\n#47 in /mnt/cube/tsainbur/conda_envs/tpy3/bin/python(_PyEval_EvalFrameDefault+0x1027) [0x556370bc0457]\n#48 in /mnt/cube/tsainbur/conda_envs/tpy3/bin/python(+0x1a6364) [0x556370b9f364]\n#49 in /mnt/cube/tsainbur/conda_envs/tpy3/bin/python(_PyCFunction_FastCallDict+0x91) [0x556370b0c511]\n#50 in /mnt/cube/tsainbur/conda_envs/tpy3/bin/python(+0x1a346c) [0x556370b9c46c]\n#51 in /mnt/cube/tsainbur/conda_envs/tpy3/bin/python(_PyEval_EvalFrameDefault+0x30a) [0x556370bbf73a]\n#52 in /mnt/cube/tsainbur/conda_envs/tpy3/bin/python(+0x16e48e) [0x556370b6748e]\n#53 in /mnt/cube/tsainbur/conda_envs/tpy3/bin/python(+0x16f08f) [0x556370b6808f]\n#54 in /mnt/cube/tsainbur/conda_envs/tpy3/bin/python(+0x1a3545) [0x556370b9c545]\n#55 in /mnt/cube/tsainbur/conda_envs/tpy3/bin/python(_PyEval_EvalFrameDefault+0x30a) [0x556370bbf73a]\n#56 in /mnt/cube/tsainbur/conda_envs/tpy3/bin/python(+0x1a6364) [0x556370b9f364]\n#57 in /mnt/cube/tsainbur/conda_envs/tpy3/bin/python(_PyCFunction_FastCallDict+0x91) [0x556370b0c511]\n#58 in /mnt/cube/tsainbur/conda_envs/tpy3/bin/python(+0x1a346c) [0x556370b9c46c]\n#59 in /mnt/cube/tsainbur/conda_envs/tpy3/bin/python(_PyEval_EvalFrameDefault+0x30a) [0x556370bbf73a]\n#60 in /mnt/cube/tsainbur/conda_envs/tpy3/bin/python(+0x16e48e) [0x556370b6748e]\n#61 in /mnt/cube/tsainbur/conda_envs/tpy3/bin/python(+0x16f08f) [0x556370b6808f]\n#62 in /mnt/cube/tsainbur/conda_envs/tpy3/bin/python(+0x1a3545) [0x556370b9c545]\n#63 in /mnt/cube/tsainbur/conda_envs/tpy3/bin/python(_PyEval_EvalFrameDefault+0x30a) [0x556370bbf73a]\n",
     "output_type": "error",
     "traceback": [
      "\u001b[0;31m---------------------------------------------------------------------------\u001b[0m",
      "\u001b[0;31mRuntimeError\u001b[0m                              Traceback (most recent call last)",
      "\u001b[0;32m<ipython-input-26-e758f15642ac>\u001b[0m in \u001b[0;36m<module>\u001b[0;34m\u001b[0m\n\u001b[0;32m----> 1\u001b[0;31m \u001b[0mcuml_umap\u001b[0m \u001b[0;34m=\u001b[0m \u001b[0mcumlUMAP\u001b[0m\u001b[0;34m(\u001b[0m\u001b[0mmin_dist\u001b[0m\u001b[0;34m=\u001b[0m\u001b[0;36m0.25\u001b[0m\u001b[0;34m)\u001b[0m\u001b[0;34m\u001b[0m\u001b[0;34m\u001b[0m\u001b[0m\n\u001b[0m\u001b[1;32m      2\u001b[0m \u001b[0mz\u001b[0m \u001b[0;34m=\u001b[0m \u001b[0mlist\u001b[0m\u001b[0;34m(\u001b[0m\u001b[0mcuml_umap\u001b[0m\u001b[0;34m.\u001b[0m\u001b[0mfit_transform\u001b[0m\u001b[0;34m(\u001b[0m\u001b[0mspecs_flattened\u001b[0m\u001b[0;34m)\u001b[0m\u001b[0;34m)\u001b[0m\u001b[0;34m\u001b[0m\u001b[0;34m\u001b[0m\u001b[0m\n",
      "\u001b[0;32mcuml/manifold/umap.pyx\u001b[0m in \u001b[0;36mcuml.manifold.umap.UMAP.__init__\u001b[0;34m()\u001b[0m\n",
      "\u001b[0;32mcuml/common/base.pyx\u001b[0m in \u001b[0;36mcuml.common.base.Base.__init__\u001b[0;34m()\u001b[0m\n",
      "\u001b[0;32mcuml/common/handle.pyx\u001b[0m in \u001b[0;36mcuml.common.handle.Handle.__cinit__\u001b[0;34m()\u001b[0m\n",
      "\u001b[0;31mRuntimeError\u001b[0m: Exception occured! file=/conda/conda-bld/libcuml_1566588242169/work/cpp/src/common/cumlHandle.cpp line=177: FAIL: call='cudaGetDevice(&cur_dev)'. Reason:no CUDA-capable device is detected\n\nObtained 64 stack frames\n#0 in /mnt/cube/tsainbur/conda_envs/tpy3/lib/python3.6/site-packages/cuml/common/../../../../libcuml++.so(_ZN8MLCommon9Exception16collectCallStackEv+0x3e) [0x7f888cb4456e]\n#1 in /mnt/cube/tsainbur/conda_envs/tpy3/lib/python3.6/site-packages/cuml/common/../../../../libcuml++.so(_ZN8MLCommon9ExceptionC2ERKNSt7__cxx1112basic_stringIcSt11char_traitsIcESaIcEEE+0x80) [0x7f888cb45080]\n#2 in /mnt/cube/tsainbur/conda_envs/tpy3/lib/python3.6/site-packages/cuml/common/../../../../libcuml++.so(+0x1ad2f0) [0x7f888cb422f0]\n#3 in /mnt/cube/tsainbur/conda_envs/tpy3/lib/python3.6/site-packages/cuml/common/../../../../libcuml++.so(_ZN2ML15cumlHandle_implC1Ev+0xc) [0x7f888cb43f8c]\n#4 in /mnt/cube/tsainbur/conda_envs/tpy3/lib/python3.6/site-packages/cuml/common/../../../../libcuml++.so(_ZN2ML10cumlHandleC1Ev+0x1e) [0x7f888cb440de]\n#5 in /mnt/cube/tsainbur/conda_envs/tpy3/lib/python3.6/site-packages/cuml/common/handle.cpython-36m-x86_64-linux-gnu.so(+0x8446) [0x7f8a5088a446]\n#6 in /mnt/cube/tsainbur/conda_envs/tpy3/bin/python(+0x1a3755) [0x556370b9c755]\n#7 in /mnt/cube/tsainbur/conda_envs/tpy3/lib/python3.6/site-packages/cuml/common/base.cpython-36m-x86_64-linux-gnu.so(+0xc05b) [0x7f8a563a705b]\n#8 in /mnt/cube/tsainbur/conda_envs/tpy3/lib/python3.6/site-packages/cuml/manifold/umap.cpython-36m-x86_64-linux-gnu.so(+0x131dd) [0x7f89940791dd]\n#9 in /mnt/cube/tsainbur/conda_envs/tpy3/bin/python(_PyObject_FastCallDict+0x8b) [0x556370b0c7bb]\n#10 in /mnt/cube/tsainbur/conda_envs/tpy3/bin/python(_PyObject_Call_Prepend+0x63) [0x556370b11613]\n#11 in /mnt/cube/tsainbur/conda_envs/tpy3/bin/python(PyObject_Call+0x3e) [0x556370b0c3de]\n#12 in /mnt/cube/tsainbur/conda_envs/tpy3/bin/python(+0x1789fb) [0x556370b719fb]\n#13 in /mnt/cube/tsainbur/conda_envs/tpy3/bin/python(+0x1a37a7) [0x556370b9c7a7]\n#14 in /mnt/cube/tsainbur/conda_envs/tpy3/bin/python(_PyObject_FastCallDict+0x8b) [0x556370b0c7bb]\n#15 in /mnt/cube/tsainbur/conda_envs/tpy3/bin/python(_PyObject_FastCallKeywords+0xaa) [0x556370b6835a]\n#16 in /mnt/cube/tsainbur/conda_envs/tpy3/bin/python(+0x1a35be) [0x556370b9c5be]\n#17 in /mnt/cube/tsainbur/conda_envs/tpy3/bin/python(_PyEval_EvalFrameDefault+0x1027) [0x556370bc0457]\n#18 in /mnt/cube/tsainbur/conda_envs/tpy3/bin/python(PyEval_EvalCodeEx+0x329) [0x556370b6b749]\n#19 in /mnt/cube/tsainbur/conda_envs/tpy3/bin/python(PyEval_EvalCode+0x1c) [0x556370b6c4ec]\n#20 in /mnt/cube/tsainbur/conda_envs/tpy3/bin/python(+0x1c414b) [0x556370bbd14b]\n#21 in /mnt/cube/tsainbur/conda_envs/tpy3/bin/python(_PyCFunction_FastCallDict+0x91) [0x556370b0c511]\n#22 in /mnt/cube/tsainbur/conda_envs/tpy3/bin/python(+0x1a346c) [0x556370b9c46c]\n#23 in /mnt/cube/tsainbur/conda_envs/tpy3/bin/python(_PyEval_EvalFrameDefault+0x30a) [0x556370bbf73a]\n#24 in /mnt/cube/tsainbur/conda_envs/tpy3/bin/python(_PyGen_Send+0x256) [0x556370b9f7e6]\n#25 in /mnt/cube/tsainbur/conda_envs/tpy3/bin/python(_PyEval_EvalFrameDefault+0x13d4) [0x556370bc0804]\n#26 in /mnt/cube/tsainbur/conda_envs/tpy3/bin/python(_PyGen_Send+0x256) [0x556370b9f7e6]\n#27 in /mnt/cube/tsainbur/conda_envs/tpy3/bin/python(_PyEval_EvalFrameDefault+0x13d4) [0x556370bc0804]\n#28 in /mnt/cube/tsainbur/conda_envs/tpy3/bin/python(_PyGen_Send+0x256) [0x556370b9f7e6]\n#29 in /mnt/cube/tsainbur/conda_envs/tpy3/bin/python(_PyCFunction_FastCallDict+0x115) [0x556370b0c595]\n#30 in /mnt/cube/tsainbur/conda_envs/tpy3/bin/python(+0x1a346c) [0x556370b9c46c]\n#31 in /mnt/cube/tsainbur/conda_envs/tpy3/bin/python(_PyEval_EvalFrameDefault+0x30a) [0x556370bbf73a]\n#32 in /mnt/cube/tsainbur/conda_envs/tpy3/bin/python(+0x16ee4b) [0x556370b67e4b]\n#33 in /mnt/cube/tsainbur/conda_envs/tpy3/bin/python(+0x1a3545) [0x556370b9c545]\n#34 in /mnt/cube/tsainbur/conda_envs/tpy3/bin/python(_PyEval_EvalFrameDefault+0x30a) [0x556370bbf73a]\n#35 in /mnt/cube/tsainbur/conda_envs/tpy3/bin/python(+0x16ee4b) [0x556370b67e4b]\n#36 in /mnt/cube/tsainbur/conda_envs/tpy3/bin/python(+0x1a3545) [0x556370b9c545]\n#37 in /mnt/cube/tsainbur/conda_envs/tpy3/bin/python(_PyEval_EvalFrameDefault+0x30a) [0x556370bbf73a]\n#38 in /mnt/cube/tsainbur/conda_envs/tpy3/bin/python(+0x16e056) [0x556370b67056]\n#39 in /mnt/cube/tsainbur/conda_envs/tpy3/bin/python(_PyFunction_FastCallDict+0x3da) [0x556370b6876a]\n#40 in /mnt/cube/tsainbur/conda_envs/tpy3/bin/python(_PyObject_FastCallDict+0x26f) [0x556370b0c99f]\n#41 in /mnt/cube/tsainbur/conda_envs/tpy3/bin/python(_PyObject_Call_Prepend+0x63) [0x556370b11613]\n#42 in /mnt/cube/tsainbur/conda_envs/tpy3/bin/python(PyObject_Call+0x3e) [0x556370b0c3de]\n#43 in /mnt/cube/tsainbur/conda_envs/tpy3/bin/python(_PyEval_EvalFrameDefault+0x1a26) [0x556370bc0e56]\n#44 in /mnt/cube/tsainbur/conda_envs/tpy3/bin/python(+0x16e326) [0x556370b67326]\n#45 in /mnt/cube/tsainbur/conda_envs/tpy3/bin/python(+0x16f08f) [0x556370b6808f]\n#46 in /mnt/cube/tsainbur/conda_envs/tpy3/bin/python(+0x1a3545) [0x556370b9c545]\n#47 in /mnt/cube/tsainbur/conda_envs/tpy3/bin/python(_PyEval_EvalFrameDefault+0x1027) [0x556370bc0457]\n#48 in /mnt/cube/tsainbur/conda_envs/tpy3/bin/python(+0x1a6364) [0x556370b9f364]\n#49 in /mnt/cube/tsainbur/conda_envs/tpy3/bin/python(_PyCFunction_FastCallDict+0x91) [0x556370b0c511]\n#50 in /mnt/cube/tsainbur/conda_envs/tpy3/bin/python(+0x1a346c) [0x556370b9c46c]\n#51 in /mnt/cube/tsainbur/conda_envs/tpy3/bin/python(_PyEval_EvalFrameDefault+0x30a) [0x556370bbf73a]\n#52 in /mnt/cube/tsainbur/conda_envs/tpy3/bin/python(+0x16e48e) [0x556370b6748e]\n#53 in /mnt/cube/tsainbur/conda_envs/tpy3/bin/python(+0x16f08f) [0x556370b6808f]\n#54 in /mnt/cube/tsainbur/conda_envs/tpy3/bin/python(+0x1a3545) [0x556370b9c545]\n#55 in /mnt/cube/tsainbur/conda_envs/tpy3/bin/python(_PyEval_EvalFrameDefault+0x30a) [0x556370bbf73a]\n#56 in /mnt/cube/tsainbur/conda_envs/tpy3/bin/python(+0x1a6364) [0x556370b9f364]\n#57 in /mnt/cube/tsainbur/conda_envs/tpy3/bin/python(_PyCFunction_FastCallDict+0x91) [0x556370b0c511]\n#58 in /mnt/cube/tsainbur/conda_envs/tpy3/bin/python(+0x1a346c) [0x556370b9c46c]\n#59 in /mnt/cube/tsainbur/conda_envs/tpy3/bin/python(_PyEval_EvalFrameDefault+0x30a) [0x556370bbf73a]\n#60 in /mnt/cube/tsainbur/conda_envs/tpy3/bin/python(+0x16e48e) [0x556370b6748e]\n#61 in /mnt/cube/tsainbur/conda_envs/tpy3/bin/python(+0x16f08f) [0x556370b6808f]\n#62 in /mnt/cube/tsainbur/conda_envs/tpy3/bin/python(+0x1a3545) [0x556370b9c545]\n#63 in /mnt/cube/tsainbur/conda_envs/tpy3/bin/python(_PyEval_EvalFrameDefault+0x30a) [0x556370bbf73a]\n"
     ]
    }
   ],
   "source": [
    "#cuml_umap = cumlUMAP(min_dist=0.25)\n",
    "#z = list(cuml_umap.fit_transform(specs_flattened))"
   ]
  },
  {
   "cell_type": "code",
   "execution_count": null,
   "metadata": {
    "ExecuteTime": {
     "end_time": "2019-10-16T01:02:29.800392Z",
     "start_time": "2019-10-16T01:02:02.748Z"
    }
   },
   "outputs": [],
   "source": [
    "z = np.vstack(z)"
   ]
  },
  {
   "cell_type": "markdown",
   "metadata": {},
   "source": [
    "### variation across populations"
   ]
  },
  {
   "cell_type": "code",
   "execution_count": null,
   "metadata": {
    "ExecuteTime": {
     "end_time": "2019-10-16T01:02:29.801760Z",
     "start_time": "2019-10-16T01:02:04.011Z"
    }
   },
   "outputs": [],
   "source": [
    "len(z), len(population)"
   ]
  },
  {
   "cell_type": "code",
   "execution_count": null,
   "metadata": {
    "ExecuteTime": {
     "start_time": "2019-10-16T00:50:30.791Z"
    }
   },
   "outputs": [],
   "source": [
    "fig, ax = plt.subplots(figsize=(15,15))\n",
    "scatter_projections(projection=z, alpha=.5, labels = population, s=1, ax = ax)\n",
    "ax.set_xlim([-15,15])"
   ]
  },
  {
   "cell_type": "code",
   "execution_count": null,
   "metadata": {
    "ExecuteTime": {
     "start_time": "2019-10-16T00:50:30.792Z"
    }
   },
   "outputs": [],
   "source": [
    "from avgn.visualization.projections import scatter_spec\n"
   ]
  },
  {
   "cell_type": "code",
   "execution_count": null,
   "metadata": {
    "ExecuteTime": {
     "start_time": "2019-10-16T00:50:30.794Z"
    }
   },
   "outputs": [],
   "source": [
    "scatter_spec(\n",
    "    np.vstack(z),\n",
    "    specs,\n",
    "    column_size=15,\n",
    "    #x_range = [-5.5,7],\n",
    "    #y_range = [-10,10],\n",
    "    pal_color=\"hls\",\n",
    "    color_points=False,\n",
    "    enlarge_points=20,\n",
    "    figsize=(10, 10),\n",
    "    scatter_kwargs = {\n",
    "        'labels': list(population),\n",
    "        'alpha':0.25,\n",
    "        's': 1,\n",
    "        'show_legend': False\n",
    "    },\n",
    "    matshow_kwargs = {\n",
    "        'cmap': plt.cm.Greys\n",
    "    },\n",
    "    line_kwargs = {\n",
    "        'lw':1,\n",
    "        'ls':\"solid\",\n",
    "        'alpha':0.25,\n",
    "    },\n",
    "    draw_lines=True\n",
    ");\n",
    "plt.show()"
   ]
  },
  {
   "cell_type": "code",
   "execution_count": null,
   "metadata": {
    "ExecuteTime": {
     "start_time": "2019-10-16T00:50:30.795Z"
    }
   },
   "outputs": [],
   "source": [
    "scatter_spec(\n",
    "    np.vstack(z),\n",
    "    specs,\n",
    "    column_size=15,\n",
    "    #x_range = [-5.5,7],\n",
    "    #y_range = [-10,10],\n",
    "    pal_color=\"hls\",\n",
    "    color_points=False,\n",
    "    enlarge_points=20,\n",
    "    figsize=(10, 10),\n",
    "    scatter_kwargs = {\n",
    "        #labels': list(population),\n",
    "        'alpha':0.25,\n",
    "        's': 1,\n",
    "        'show_legend': False\n",
    "    },\n",
    "    matshow_kwargs = {\n",
    "        'cmap': plt.cm.Greys\n",
    "    },\n",
    "    line_kwargs = {\n",
    "        'lw':1,\n",
    "        'ls':\"solid\",\n",
    "        'alpha':0.25,\n",
    "    },\n",
    "    draw_lines=True\n",
    ");\n",
    "plt.show()"
   ]
  },
  {
   "cell_type": "markdown",
   "metadata": {},
   "source": [
    "### draw transitions by population"
   ]
  },
  {
   "cell_type": "code",
   "execution_count": null,
   "metadata": {},
   "outputs": [],
   "source": []
  }
 ],
 "metadata": {
  "kernelspec": {
   "display_name": "Python 3",
   "language": "python",
   "name": "python3"
  },
  "language_info": {
   "codemirror_mode": {
    "name": "ipython",
    "version": 3
   },
   "file_extension": ".py",
   "mimetype": "text/x-python",
   "name": "python",
   "nbconvert_exporter": "python",
   "pygments_lexer": "ipython3",
   "version": "3.6.7"
  }
 },
 "nbformat": 4,
 "nbformat_minor": 2
}
