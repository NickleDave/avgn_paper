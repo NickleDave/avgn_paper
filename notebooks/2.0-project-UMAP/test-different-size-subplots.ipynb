{
 "cells": [
  {
   "cell_type": "code",
   "execution_count": 1,
   "metadata": {
    "ExecuteTime": {
     "end_time": "2019-10-09T19:33:57.511609Z",
     "start_time": "2019-10-09T19:33:55.684320Z"
    }
   },
   "outputs": [],
   "source": [
    "import numpy as np"
   ]
  },
  {
   "cell_type": "code",
   "execution_count": 2,
   "metadata": {
    "ExecuteTime": {
     "end_time": "2019-10-09T19:33:59.335598Z",
     "start_time": "2019-10-09T19:33:57.516783Z"
    }
   },
   "outputs": [],
   "source": [
    "import matplotlib.pyplot as plt\n",
    "from matplotlib import gridspec"
   ]
  },
  {
   "cell_type": "code",
   "execution_count": 11,
   "metadata": {
    "ExecuteTime": {
     "end_time": "2019-10-09T19:40:31.414994Z",
     "start_time": "2019-10-09T19:40:31.405092Z"
    }
   },
   "outputs": [
    {
     "data": {
      "text/plain": [
       "(2, 200)"
      ]
     },
     "execution_count": 11,
     "metadata": {},
     "output_type": "execute_result"
    }
   ],
   "source": [
    "z = np.random.normal(size=(2, 200))\n",
    "np.shape(z)"
   ]
  },
  {
   "cell_type": "code",
   "execution_count": 16,
   "metadata": {
    "ExecuteTime": {
     "end_time": "2019-10-09T19:47:52.018070Z",
     "start_time": "2019-10-09T19:47:52.009972Z"
    }
   },
   "outputs": [],
   "source": [
    "specs = np.random.normal(size=(10,10, 200))\n",
    "np.shape(specs)"
   ]
  },
  {
   "cell_type": "code",
   "execution_count": 12,
   "metadata": {
    "ExecuteTime": {
     "end_time": "2019-10-09T19:40:35.184041Z",
     "start_time": "2019-10-09T19:40:35.179255Z"
    }
   },
   "outputs": [],
   "source": [
    "column_size = 9"
   ]
  },
  {
   "cell_type": "code",
   "execution_count": 13,
   "metadata": {
    "ExecuteTime": {
     "end_time": "2019-10-09T19:40:35.340483Z",
     "start_time": "2019-10-09T19:40:35.332553Z"
    }
   },
   "outputs": [
    {
     "data": {
      "text/plain": [
       "34"
      ]
     },
     "execution_count": 13,
     "metadata": {},
     "output_type": "execute_result"
    }
   ],
   "source": [
    "n_columns = column_size * 4 - 2\n",
    "n_columns"
   ]
  },
  {
   "cell_type": "code",
   "execution_count": null,
   "metadata": {
    "ExecuteTime": {
     "start_time": "2019-10-09T19:49:30.287Z"
    }
   },
   "outputs": [],
   "source": [
    "import seaborn as sns"
   ]
  },
  {
   "cell_type": "code",
   "execution_count": null,
   "metadata": {},
   "outputs": [],
   "source": [
    "pal = sns.color_palette(n_columns)"
   ]
  },
  {
   "cell_type": "code",
   "execution_count": 15,
   "metadata": {
    "ExecuteTime": {
     "end_time": "2019-10-09T19:42:27.120786Z",
     "start_time": "2019-10-09T19:42:23.620502Z"
    }
   },
   "outputs": [
    {
     "data": {
      "image/png": "[encoded data removed]",
      "text/plain": [
       "<Figure size 432x288 with 33 Axes>"
      ]
     },
     "metadata": {
      "needs_background": "light"
     },
     "output_type": "display_data"
    }
   ],
   "source": [
    "fig = plt.figure()\n",
    "gs = gridspec.GridSpec(column_size, column_size)\n",
    "\n",
    "# prepare the main axis\n",
    "main_ax = fig.add_subplot(gs[1:column_size-1, 1:column_size-1])\n",
    "main_ax.scatter(z[0,:], z[1,:])\n",
    "\n",
    "# loop through example columns\n",
    "axs = {}\n",
    "for column in range(n_columns):\n",
    "    # get example column location\n",
    "    if column < column_size:\n",
    "        row = 0; col = column\n",
    "    elif (column >= column_size) & (column < (column_size * 2)):\n",
    "        row = column - column_size - column_size; col = column_size -1\n",
    "    elif (column >= column_size*2) & (column < (column_size * 3 - 1)):\n",
    "        row = column_size-1; col = column_size - 1 - (column - column_size*2)\n",
    "    else:\n",
    "        row = n_columns - column; col = 0\n",
    "    axs[column] = fig.add_subplot(gs[row, col])    \n",
    "    axs[column].set_title(column)\n",
    "    \n",
    "    # sample a point in z based upon the row and column\n",
    "    plt.setp(axs[column].spines.values(), color=pal[column])\n",
    "\n",
    "        \n",
    "gs.update(wspace=0.5, hspace=0.5)\n",
    "\n",
    "\n",
    "\n",
    "fig = plt.gcf()"
   ]
  },
  {
   "cell_type": "code",
   "execution_count": 18,
   "metadata": {
    "ExecuteTime": {
     "end_time": "2019-10-09T19:49:03.854255Z",
     "start_time": "2019-10-09T19:49:03.845181Z"
    }
   },
   "outputs": [
    {
     "data": {
      "text/plain": [
       "0.06903008925911062"
      ]
     },
     "execution_count": 18,
     "metadata": {},
     "output_type": "execute_result"
    }
   ],
   "source": [
    "np.max(z[:,0])"
   ]
  },
  {
   "cell_type": "code",
   "execution_count": 19,
   "metadata": {
    "ExecuteTime": {
     "end_time": "2019-10-09T19:49:08.906303Z",
     "start_time": "2019-10-09T19:49:08.897465Z"
    }
   },
   "outputs": [
    {
     "data": {
      "text/plain": [
       "-0.4455705761699663"
      ]
     },
     "execution_count": 19,
     "metadata": {},
     "output_type": "execute_result"
    }
   ],
   "source": [
    "np.min(z[:,0])"
   ]
  },
  {
   "cell_type": "code",
   "execution_count": 17,
   "metadata": {
    "ExecuteTime": {
     "end_time": "2019-10-09T19:47:52.167991Z",
     "start_time": "2019-10-09T19:47:52.029778Z"
    }
   },
   "outputs": [
    {
     "data": {
      "text/plain": [
       "(1, 0)"
      ]
     },
     "execution_count": 17,
     "metadata": {},
     "output_type": "execute_result"
    }
   ],
   "source": [
    "row, col"
   ]
  },
  {
   "cell_type": "code",
   "execution_count": null,
   "metadata": {
    "ExecuteTime": {
     "end_time": "2019-10-09T19:29:22.008041Z",
     "start_time": "2019-10-09T19:29:22.003861Z"
    }
   },
   "outputs": [],
   "source": [
    "column_size -1 + column - column_size*3"
   ]
  },
  {
   "cell_type": "code",
   "execution_count": null,
   "metadata": {
    "ExecuteTime": {
     "end_time": "2019-10-09T19:30:06.974180Z",
     "start_time": "2019-10-09T19:30:06.969562Z"
    }
   },
   "outputs": [],
   "source": []
  },
  {
   "cell_type": "code",
   "execution_count": null,
   "metadata": {
    "ExecuteTime": {
     "end_time": "2019-10-09T19:29:52.542921Z",
     "start_time": "2019-10-09T19:29:52.538666Z"
    }
   },
   "outputs": [],
   "source": [
    "column_size - column"
   ]
  },
  {
   "cell_type": "code",
   "execution_count": null,
   "metadata": {
    "ExecuteTime": {
     "end_time": "2019-10-09T19:29:56.469925Z",
     "start_time": "2019-10-09T19:29:56.465911Z"
    }
   },
   "outputs": [],
   "source": [
    "column"
   ]
  },
  {
   "cell_type": "code",
   "execution_count": null,
   "metadata": {
    "ExecuteTime": {
     "end_time": "2019-10-09T19:29:29.656603Z",
     "start_time": "2019-10-09T19:29:29.652520Z"
    }
   },
   "outputs": [],
   "source": [
    "column - column_size*3"
   ]
  },
  {
   "cell_type": "code",
   "execution_count": null,
   "metadata": {
    "ExecuteTime": {
     "end_time": "2019-10-09T19:27:32.505515Z",
     "start_time": "2019-10-09T19:27:32.499719Z"
    }
   },
   "outputs": [],
   "source": [
    "column_size - (column - column_size*2)"
   ]
  },
  {
   "cell_type": "code",
   "execution_count": null,
   "metadata": {
    "ExecuteTime": {
     "end_time": "2019-10-09T19:24:31.365697Z",
     "start_time": "2019-10-09T19:24:31.360786Z"
    }
   },
   "outputs": [],
   "source": [
    "column_size,column - column_size*2"
   ]
  },
  {
   "cell_type": "code",
   "execution_count": null,
   "metadata": {
    "ExecuteTime": {
     "end_time": "2019-10-09T19:19:06.068641Z",
     "start_time": "2019-10-09T19:19:06.059547Z"
    }
   },
   "outputs": [],
   "source": [
    "column - column_size,n_columns -1"
   ]
  },
  {
   "cell_type": "code",
   "execution_count": null,
   "metadata": {
    "ExecuteTime": {
     "end_time": "2019-10-09T19:18:05.508937Z",
     "start_time": "2019-10-09T19:18:05.501058Z"
    }
   },
   "outputs": [],
   "source": [
    "column, n_columns"
   ]
  },
  {
   "cell_type": "code",
   "execution_count": null,
   "metadata": {
    "ExecuteTime": {
     "end_time": "2019-10-09T19:18:42.271174Z",
     "start_time": "2019-10-09T19:18:42.261012Z"
    }
   },
   "outputs": [],
   "source": [
    "column - n_columns,n_columns -1"
   ]
  },
  {
   "cell_type": "code",
   "execution_count": null,
   "metadata": {
    "ExecuteTime": {
     "end_time": "2019-10-09T19:17:53.149689Z",
     "start_time": "2019-10-09T19:17:53.141716Z"
    }
   },
   "outputs": [],
   "source": [
    "n_columns"
   ]
  },
  {
   "cell_type": "code",
   "execution_count": null,
   "metadata": {},
   "outputs": [],
   "source": []
  }
 ],
 "metadata": {
  "kernelspec": {
   "display_name": "Python 3",
   "language": "python",
   "name": "python3"
  }
 },
 "nbformat": 4,
 "nbformat_minor": 2
}
