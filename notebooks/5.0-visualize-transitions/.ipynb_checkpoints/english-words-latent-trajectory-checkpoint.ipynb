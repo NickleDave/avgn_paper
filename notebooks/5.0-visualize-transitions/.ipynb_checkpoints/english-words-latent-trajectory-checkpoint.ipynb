{
 "cells": [
  {
   "cell_type": "code",
   "execution_count": 1,
   "metadata": {
    "ExecuteTime": {
     "end_time": "2019-11-23T19:55:41.130384Z",
     "start_time": "2019-11-23T19:55:41.110635Z"
    }
   },
   "outputs": [],
   "source": [
    "%load_ext autoreload\n",
    "%autoreload 2"
   ]
  },
  {
   "cell_type": "code",
   "execution_count": 2,
   "metadata": {
    "ExecuteTime": {
     "end_time": "2019-11-23T19:55:45.850494Z",
     "start_time": "2019-11-23T19:55:41.132193Z"
    }
   },
   "outputs": [
    {
     "name": "stderr",
     "output_type": "stream",
     "text": [
      "/mnt/cube/tsainbur/conda_envs/tpy3/lib/python3.6/site-packages/tqdm/autonotebook/__init__.py:14: TqdmExperimentalWarning: Using `tqdm.autonotebook.tqdm` in notebook mode. Use `tqdm.tqdm` instead to force console mode (e.g. in jupyter console)\n",
      "  \" (e.g. in jupyter console)\", TqdmExperimentalWarning)\n"
     ]
    }
   ],
   "source": [
    "import numpy as np\n",
    "import matplotlib.pyplot as plt\n",
    "%matplotlib inline\n",
    "from tqdm.autonotebook import tqdm\n",
    "from joblib import Parallel, delayed\n",
    "import umap\n",
    "import pandas as pd"
   ]
  },
  {
   "cell_type": "code",
   "execution_count": 3,
   "metadata": {
    "ExecuteTime": {
     "end_time": "2019-11-23T19:55:46.163987Z",
     "start_time": "2019-11-23T19:55:45.852442Z"
    }
   },
   "outputs": [],
   "source": [
    "from avgn.utils.paths import DATA_DIR, most_recent_subdirectory, ensure_dir\n",
    "from avgn.signalprocessing.create_spectrogram_dataset import flatten_spectrograms\n",
    "from avgn.visualization.spectrogram import draw_spec_set"
   ]
  },
  {
   "cell_type": "markdown",
   "metadata": {},
   "source": [
    "### Collect data"
   ]
  },
  {
   "cell_type": "code",
   "execution_count": 4,
   "metadata": {
    "ExecuteTime": {
     "end_time": "2019-11-23T19:55:46.208981Z",
     "start_time": "2019-11-23T19:55:46.166709Z"
    }
   },
   "outputs": [],
   "source": [
    "DATASET_ID = 'buckeye'"
   ]
  },
  {
   "cell_type": "code",
   "execution_count": 5,
   "metadata": {
    "ExecuteTime": {
     "end_time": "2019-11-23T19:55:46.305664Z",
     "start_time": "2019-11-23T19:55:46.210973Z"
    }
   },
   "outputs": [],
   "source": [
    "from avgn.visualization.projections import (\n",
    "    scatter_projections,\n",
    "    draw_projection_transitions,\n",
    ")"
   ]
  },
  {
   "cell_type": "code",
   "execution_count": 6,
   "metadata": {
    "ExecuteTime": {
     "end_time": "2019-11-23T19:55:46.388885Z",
     "start_time": "2019-11-23T19:55:46.308162Z"
    }
   },
   "outputs": [],
   "source": [
    "df_loc =  DATA_DIR / 'syllable_dfs' / DATASET_ID / 'words_full_length.pickle'"
   ]
  },
  {
   "cell_type": "code",
   "execution_count": 7,
   "metadata": {
    "ExecuteTime": {
     "end_time": "2019-11-23T19:55:46.717721Z",
     "start_time": "2019-11-23T19:55:46.391308Z"
    }
   },
   "outputs": [],
   "source": [
    "syllable_df = pd.read_pickle(df_loc)"
   ]
  },
  {
   "cell_type": "code",
   "execution_count": 8,
   "metadata": {
    "ExecuteTime": {
     "end_time": "2019-11-23T19:55:46.980478Z",
     "start_time": "2019-11-23T19:55:46.719869Z"
    }
   },
   "outputs": [
    {
     "data": {
      "text/html": [
       "<div>\n",
       "<style scoped>\n",
       "    .dataframe tbody tr th:only-of-type {\n",
       "        vertical-align: middle;\n",
       "    }\n",
       "\n",
       "    .dataframe tbody tr th {\n",
       "        vertical-align: top;\n",
       "    }\n",
       "\n",
       "    .dataframe thead th {\n",
       "        text-align: right;\n",
       "    }\n",
       "</style>\n",
       "<table border=\"1\" class=\"dataframe\">\n",
       "  <thead>\n",
       "    <tr style=\"text-align: right;\">\n",
       "      <th></th>\n",
       "      <th>start_time</th>\n",
       "      <th>end_time</th>\n",
       "      <th>word</th>\n",
       "      <th>phones</th>\n",
       "      <th>phone_start_times</th>\n",
       "      <th>phone_end_times</th>\n",
       "      <th>utterance_number</th>\n",
       "      <th>position_in_utterance</th>\n",
       "      <th>word_number</th>\n",
       "      <th>indv</th>\n",
       "      <th>indvi</th>\n",
       "      <th>age</th>\n",
       "      <th>sex</th>\n",
       "      <th>key</th>\n",
       "      <th>rate</th>\n",
       "      <th>spectrogram</th>\n",
       "    </tr>\n",
       "  </thead>\n",
       "  <tbody>\n",
       "    <tr>\n",
       "      <th>0</th>\n",
       "      <td>24.457298</td>\n",
       "      <td>24.722471</td>\n",
       "      <td>uh</td>\n",
       "      <td>[ah]</td>\n",
       "      <td>[-151.627188]</td>\n",
       "      <td>[-151.36201499999999]</td>\n",
       "      <td>0</td>\n",
       "      <td>0</td>\n",
       "      <td>0</td>\n",
       "      <td>s25</td>\n",
       "      <td>0</td>\n",
       "      <td>o</td>\n",
       "      <td>f</td>\n",
       "      <td>s2501b</td>\n",
       "      <td>16000</td>\n",
       "      <td>[[0, 0, 0, 0, 0, 0, 0, 0, 0, 0, 0, 0, 0, 0, 0,...</td>\n",
       "    </tr>\n",
       "    <tr>\n",
       "      <th>1</th>\n",
       "      <td>24.722471</td>\n",
       "      <td>24.900012</td>\n",
       "      <td>it's</td>\n",
       "      <td>[ih, t, s]</td>\n",
       "      <td>[-151.36201499999999, -151.292486, -151.236826]</td>\n",
       "      <td>[-151.292486, -151.236826, -151.184474]</td>\n",
       "      <td>1</td>\n",
       "      <td>1</td>\n",
       "      <td>1</td>\n",
       "      <td>s25</td>\n",
       "      <td>0</td>\n",
       "      <td>o</td>\n",
       "      <td>f</td>\n",
       "      <td>s2501b</td>\n",
       "      <td>16000</td>\n",
       "      <td>[[182, 182, 183, 182, 181, 178, 174, 170, 169,...</td>\n",
       "    </tr>\n",
       "    <tr>\n",
       "      <th>2</th>\n",
       "      <td>24.900012</td>\n",
       "      <td>25.121935</td>\n",
       "      <td>all</td>\n",
       "      <td>[ao, l]</td>\n",
       "      <td>[-151.184474, -151.013765]</td>\n",
       "      <td>[-151.013765, -150.962551]</td>\n",
       "      <td>4</td>\n",
       "      <td>2</td>\n",
       "      <td>2</td>\n",
       "      <td>s25</td>\n",
       "      <td>0</td>\n",
       "      <td>o</td>\n",
       "      <td>f</td>\n",
       "      <td>s2501b</td>\n",
       "      <td>16000</td>\n",
       "      <td>[[104, 110, 118, 124, 128, 128, 125, 129, 138,...</td>\n",
       "    </tr>\n",
       "  </tbody>\n",
       "</table>\n",
       "</div>"
      ],
      "text/plain": [
       "   start_time   end_time  word      phones  \\\n",
       "0   24.457298  24.722471    uh        [ah]   \n",
       "1   24.722471  24.900012  it's  [ih, t, s]   \n",
       "2   24.900012  25.121935   all     [ao, l]   \n",
       "\n",
       "                                 phone_start_times  \\\n",
       "0                                    [-151.627188]   \n",
       "1  [-151.36201499999999, -151.292486, -151.236826]   \n",
       "2                       [-151.184474, -151.013765]   \n",
       "\n",
       "                           phone_end_times  utterance_number  \\\n",
       "0                    [-151.36201499999999]                 0   \n",
       "1  [-151.292486, -151.236826, -151.184474]                 1   \n",
       "2               [-151.013765, -150.962551]                 4   \n",
       "\n",
       "   position_in_utterance  word_number indv  indvi age sex     key   rate  \\\n",
       "0                      0            0  s25      0   o   f  s2501b  16000   \n",
       "1                      1            1  s25      0   o   f  s2501b  16000   \n",
       "2                      2            2  s25      0   o   f  s2501b  16000   \n",
       "\n",
       "                                         spectrogram  \n",
       "0  [[0, 0, 0, 0, 0, 0, 0, 0, 0, 0, 0, 0, 0, 0, 0,...  \n",
       "1  [[182, 182, 183, 182, 181, 178, 174, 170, 169,...  \n",
       "2  [[104, 110, 118, 124, 128, 128, 125, 129, 138,...  "
      ]
     },
     "execution_count": 8,
     "metadata": {},
     "output_type": "execute_result"
    }
   ],
   "source": [
    "syllable_df[:3]"
   ]
  },
  {
   "cell_type": "code",
   "execution_count": 9,
   "metadata": {
    "ExecuteTime": {
     "end_time": "2019-11-23T19:55:47.018068Z",
     "start_time": "2019-11-23T19:55:46.982406Z"
    }
   },
   "outputs": [
    {
     "data": {
      "text/plain": [
       "9735"
      ]
     },
     "execution_count": 9,
     "metadata": {},
     "output_type": "execute_result"
    }
   ],
   "source": [
    "len(syllable_df)"
   ]
  },
  {
   "cell_type": "code",
   "execution_count": 10,
   "metadata": {
    "ExecuteTime": {
     "end_time": "2019-11-23T19:55:47.116176Z",
     "start_time": "2019-11-23T19:55:47.020009Z"
    }
   },
   "outputs": [
    {
     "data": {
      "text/html": [
       "<div>\n",
       "<style scoped>\n",
       "    .dataframe tbody tr th:only-of-type {\n",
       "        vertical-align: middle;\n",
       "    }\n",
       "\n",
       "    .dataframe tbody tr th {\n",
       "        vertical-align: top;\n",
       "    }\n",
       "\n",
       "    .dataframe thead th {\n",
       "        text-align: right;\n",
       "    }\n",
       "</style>\n",
       "<table border=\"1\" class=\"dataframe\">\n",
       "  <thead>\n",
       "    <tr style=\"text-align: right;\">\n",
       "      <th></th>\n",
       "      <th>s25</th>\n",
       "      <th>s08</th>\n",
       "      <th>s24</th>\n",
       "      <th>s40</th>\n",
       "      <th>s15</th>\n",
       "      <th>s17</th>\n",
       "      <th>s13</th>\n",
       "      <th>s16</th>\n",
       "    </tr>\n",
       "  </thead>\n",
       "  <tbody>\n",
       "    <tr>\n",
       "      <th>0</th>\n",
       "      <td>1456</td>\n",
       "      <td>1388</td>\n",
       "      <td>1105</td>\n",
       "      <td>1249</td>\n",
       "      <td>1779</td>\n",
       "      <td>1019</td>\n",
       "      <td>1343</td>\n",
       "      <td>396</td>\n",
       "    </tr>\n",
       "  </tbody>\n",
       "</table>\n",
       "</div>"
      ],
      "text/plain": [
       "    s25   s08   s24   s40   s15   s17   s13  s16\n",
       "0  1456  1388  1105  1249  1779  1019  1343  396"
      ]
     },
     "execution_count": 10,
     "metadata": {},
     "output_type": "execute_result"
    }
   ],
   "source": [
    "pd.DataFrame({i:[np.sum(syllable_df.indv == i)] for i in syllable_df.indv.unique()})"
   ]
  },
  {
   "cell_type": "code",
   "execution_count": 11,
   "metadata": {
    "ExecuteTime": {
     "end_time": "2019-11-23T19:55:48.948525Z",
     "start_time": "2019-11-23T19:55:47.118064Z"
    }
   },
   "outputs": [
    {
     "data": {
      "application/vnd.jupyter.widget-view+json": {
       "model_id": "2387713adbb748e1ad3dbd53d95ebac2",
       "version_major": 2,
       "version_minor": 0
      },
      "text/plain": [
       "HBox(children=(IntProgress(value=0, max=1362), HTML(value='')))"
      ]
     },
     "metadata": {},
     "output_type": "display_data"
    },
    {
     "name": "stdout",
     "output_type": "stream",
     "text": [
      "\n"
     ]
    }
   ],
   "source": [
    "freq_words = (\n",
    "    pd.DataFrame(\n",
    "        {i: [np.sum(syllable_df.word == i)] for i in tqdm(syllable_df.word.unique())}\n",
    "    )\n",
    "    .T.sort_values(by=0, ascending=False)\n",
    "    .T\n",
    ")"
   ]
  },
  {
   "cell_type": "code",
   "execution_count": 12,
   "metadata": {
    "ExecuteTime": {
     "end_time": "2019-11-23T19:55:49.001766Z",
     "start_time": "2019-11-23T19:55:48.950554Z"
    }
   },
   "outputs": [
    {
     "data": {
      "text/html": [
       "<div>\n",
       "<style scoped>\n",
       "    .dataframe tbody tr th:only-of-type {\n",
       "        vertical-align: middle;\n",
       "    }\n",
       "\n",
       "    .dataframe tbody tr th {\n",
       "        vertical-align: top;\n",
       "    }\n",
       "\n",
       "    .dataframe thead th {\n",
       "        text-align: right;\n",
       "    }\n",
       "</style>\n",
       "<table border=\"1\" class=\"dataframe\">\n",
       "  <thead>\n",
       "    <tr style=\"text-align: right;\">\n",
       "      <th></th>\n",
       "      <th>i</th>\n",
       "      <th>and</th>\n",
       "      <th>the</th>\n",
       "      <th>that</th>\n",
       "      <th>a</th>\n",
       "      <th>it</th>\n",
       "      <th>to</th>\n",
       "      <th>of</th>\n",
       "      <th>uh</th>\n",
       "      <th>um</th>\n",
       "      <th>...</th>\n",
       "      <th>don't</th>\n",
       "      <th>yeah</th>\n",
       "      <th>for</th>\n",
       "      <th>think</th>\n",
       "      <th>mean</th>\n",
       "      <th>be</th>\n",
       "      <th>there</th>\n",
       "      <th>he</th>\n",
       "      <th>have</th>\n",
       "      <th>with</th>\n",
       "    </tr>\n",
       "  </thead>\n",
       "  <tbody>\n",
       "    <tr>\n",
       "      <th>0</th>\n",
       "      <td>467</td>\n",
       "      <td>350</td>\n",
       "      <td>328</td>\n",
       "      <td>258</td>\n",
       "      <td>205</td>\n",
       "      <td>183</td>\n",
       "      <td>176</td>\n",
       "      <td>158</td>\n",
       "      <td>141</td>\n",
       "      <td>129</td>\n",
       "      <td>...</td>\n",
       "      <td>86</td>\n",
       "      <td>84</td>\n",
       "      <td>76</td>\n",
       "      <td>76</td>\n",
       "      <td>69</td>\n",
       "      <td>69</td>\n",
       "      <td>66</td>\n",
       "      <td>65</td>\n",
       "      <td>64</td>\n",
       "      <td>60</td>\n",
       "    </tr>\n",
       "  </tbody>\n",
       "</table>\n",
       "<p>1 rows × 30 columns</p>\n",
       "</div>"
      ],
      "text/plain": [
       "     i  and  the  that    a   it   to   of   uh   um  ...  don't  yeah  for  \\\n",
       "0  467  350  328   258  205  183  176  158  141  129  ...     86    84   76   \n",
       "\n",
       "   think  mean  be  there  he  have  with  \n",
       "0     76    69  69     66  65    64    60  \n",
       "\n",
       "[1 rows x 30 columns]"
      ]
     },
     "execution_count": 12,
     "metadata": {},
     "output_type": "execute_result"
    }
   ],
   "source": [
    "freq_words.T[:30].T"
   ]
  },
  {
   "cell_type": "code",
   "execution_count": 13,
   "metadata": {
    "ExecuteTime": {
     "end_time": "2019-11-23T19:55:49.105677Z",
     "start_time": "2019-11-23T19:55:49.003564Z"
    }
   },
   "outputs": [
    {
     "name": "stdout",
     "output_type": "stream",
     "text": [
      "['i', 'and', 'the', 'that', 'a', 'it', 'to', 'of', 'uh', 'um', 'in', 'like', 'was', 'yknow', 'but', 'so', 'they', \"it's\", 'just', 'you', \"don't\", 'yeah', 'for', 'think', 'mean', 'be', 'there', 'he', 'have', 'with', 'or', 'is', 'all', 'people', 'because', 'do', 'know', \"they're\", 'my', 'out', 'not', 'if', 'what', 'really', 'would', 'are', 'me', 'well', 'I', 'at', 'had', 'got', 'get', 'gonna', 'on', 'um-hum', \"i'm\", 'as', \"that's\", 'good', 'about', 'say', 'them', 'we', 'one', 'things', 'then', 'go', 'no', 'when', 'more', 'something', 'probably', 'were', 'from', 'up', \"there's\", 'going', 'even', 'time', \"didn't\", 'said', 'oh', 'some', 'could', 'been', 'years', 'lot', 'she', 'down', 'this', 'kind', 'right', 'can', 'see', \"can't\", 'thing', \"he's\", 'whatever', 'two', 'any', 'an', 'want', 'did', 'how', 'doing', 'around', 'where', 'their', 'his', 'anything', 'your', 'other', \"you're\", 'him', 'thought', 'better', 'work', 'now', 'here', 'year', 'still', 'place', 'everything', 'much', 'over', 'kids', 'money', 'never', 'same', 'which', 'big', 'too', \"i've\", 'way', 'through', 'always', 'her', 'three', 'back', 'columbus', 'being', 'family', \"i'll\", 'having', 'black', 'come', 'take', 'than', 'most', 'ah', 'goes', 'seventy', 'little', 'different', \"wouldn't\", 'school', 'pretty', 'off', 'almost', 'wanna', 'real', 'problem', 'by', 'maybe', 'day', 'system', 'only', 'who', 'has', 'after', 'ago', 'make', 'basically', 'came', 'bad', 'went', \"doesn't\", 'live', 'half', 'wanted', 'stuff', 'says', 'part', 'virginia', 'before', 'twenty', 'love', 'will', 'white', 'knew', 'thirty', 'though', 'law', 'five', 'ding', 'started', 'somebody', \"wasn't\", 'feel']\n"
     ]
    }
   ],
   "source": [
    "print(list(freq_words.columns[:200]))"
   ]
  },
  {
   "cell_type": "markdown",
   "metadata": {},
   "source": [
    "### find words with high overlap in phones"
   ]
  },
  {
   "cell_type": "code",
   "execution_count": 14,
   "metadata": {
    "ExecuteTime": {
     "end_time": "2019-11-23T19:55:53.856101Z",
     "start_time": "2019-11-23T19:55:49.109586Z"
    }
   },
   "outputs": [
    {
     "data": {
      "application/vnd.jupyter.widget-view+json": {
       "model_id": "9812ea9dd08d470094fa8cfa59518f13",
       "version_major": 2,
       "version_minor": 0
      },
      "text/plain": [
       "HBox(children=(IntProgress(value=0, max=1362), HTML(value='')))"
      ]
     },
     "metadata": {},
     "output_type": "display_data"
    },
    {
     "name": "stdout",
     "output_type": "stream",
     "text": [
      "\n"
     ]
    },
    {
     "data": {
      "text/html": [
       "<div>\n",
       "<style scoped>\n",
       "    .dataframe tbody tr th:only-of-type {\n",
       "        vertical-align: middle;\n",
       "    }\n",
       "\n",
       "    .dataframe tbody tr th {\n",
       "        vertical-align: top;\n",
       "    }\n",
       "\n",
       "    .dataframe thead th {\n",
       "        text-align: right;\n",
       "    }\n",
       "</style>\n",
       "<table border=\"1\" class=\"dataframe\">\n",
       "  <thead>\n",
       "    <tr style=\"text-align: right;\">\n",
       "      <th></th>\n",
       "      <th>phones</th>\n",
       "      <th>count</th>\n",
       "    </tr>\n",
       "  </thead>\n",
       "  <tbody>\n",
       "    <tr>\n",
       "      <th>uh</th>\n",
       "      <td>[ah]</td>\n",
       "      <td>141</td>\n",
       "    </tr>\n",
       "    <tr>\n",
       "      <th>it's</th>\n",
       "      <td>[ih, t, s]</td>\n",
       "      <td>99</td>\n",
       "    </tr>\n",
       "    <tr>\n",
       "      <th>all</th>\n",
       "      <td>[ao, l]</td>\n",
       "      <td>58</td>\n",
       "    </tr>\n",
       "  </tbody>\n",
       "</table>\n",
       "</div>"
      ],
      "text/plain": [
       "          phones count\n",
       "uh          [ah]   141\n",
       "it's  [ih, t, s]    99\n",
       "all      [ao, l]    58"
      ]
     },
     "execution_count": 14,
     "metadata": {},
     "output_type": "execute_result"
    }
   ],
   "source": [
    "word_phones_df = pd.DataFrame(\n",
    "    {\n",
    "        word: [\n",
    "            syllable_df[syllable_df.word == word].iloc[0].phones,\n",
    "            sum(syllable_df.word == word),\n",
    "        ]\n",
    "        for word in tqdm(syllable_df.word.unique())\n",
    "    }\n",
    ").T\n",
    "word_phones_df.columns = [\"phones\", \"count\"]\n",
    "word_phones_df[:3]"
   ]
  },
  {
   "cell_type": "code",
   "execution_count": 15,
   "metadata": {
    "ExecuteTime": {
     "end_time": "2019-11-23T19:55:54.282311Z",
     "start_time": "2019-11-23T19:55:53.859051Z"
    }
   },
   "outputs": [],
   "source": [
    "import numpy as np    \n",
    "from scipy.spatial.distance import pdist, squareform\n",
    "from nltk.metrics.distance import edit_distance"
   ]
  },
  {
   "cell_type": "code",
   "execution_count": 16,
   "metadata": {
    "ExecuteTime": {
     "end_time": "2019-11-23T19:55:54.351245Z",
     "start_time": "2019-11-23T19:55:54.285580Z"
    }
   },
   "outputs": [
    {
     "name": "stdout",
     "output_type": "stream",
     "text": [
      "[[0. 1. 4.]\n",
      " [1. 0. 4.]\n",
      " [4. 4. 0.]]\n"
     ]
    }
   ],
   "source": [
    "# my list of strings\n",
    "strings = [\"hello\",\"hallo\",\"choco\"]\n",
    "\n",
    "# prepare 2 dimensional array M x N (M entries (3) with N dimensions (1)) \n",
    "transformed_strings = np.array(strings).reshape(-1,1)\n",
    "\n",
    "# calculate condensed distance matrix by wrapping the Levenshtein distance function\n",
    "distance_matrix = pdist(transformed_strings,lambda x,y: edit_distance(x[0],y[0]))\n",
    "\n",
    "# get square matrix\n",
    "print(squareform(distance_matrix))"
   ]
  },
  {
   "cell_type": "code",
   "execution_count": null,
   "metadata": {
    "ExecuteTime": {
     "start_time": "2019-11-23T19:56:11.271Z"
    }
   },
   "outputs": [],
   "source": [
    "# my list of strings\n",
    "strings = word_phones_df.phones.values\n",
    "\n",
    "# prepare 2 dimensional array M x N (M entries (3) with N dimensions (1)) \n",
    "transformed_strings = np.array(strings).reshape(-1,1)\n",
    "\n",
    "# calculate condensed distance matrix by wrapping the Levenshtein distance function\n",
    "distance_matrix = pdist(transformed_strings,lambda x,y: edit_distance(x[0],y[0]))\n",
    "\n",
    "# get square matrix\n",
    "print(squareform(distance_matrix))"
   ]
  },
  {
   "cell_type": "code",
   "execution_count": null,
   "metadata": {},
   "outputs": [],
   "source": []
  }
 ],
 "metadata": {
  "kernelspec": {
   "display_name": "Python 3",
   "language": "python",
   "name": "python3"
  },
  "language_info": {
   "codemirror_mode": {
    "name": "ipython",
    "version": 3
   },
   "file_extension": ".py",
   "mimetype": "text/x-python",
   "name": "python",
   "nbconvert_exporter": "python",
   "pygments_lexer": "ipython3",
   "version": "3.6.7"
  }
 },
 "nbformat": 4,
 "nbformat_minor": 2
}
