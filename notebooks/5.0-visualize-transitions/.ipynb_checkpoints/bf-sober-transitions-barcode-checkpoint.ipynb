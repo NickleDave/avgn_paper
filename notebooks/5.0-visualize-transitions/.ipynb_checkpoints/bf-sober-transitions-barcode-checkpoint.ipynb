{
 "cells": [
  {
   "cell_type": "code",
   "execution_count": 2,
   "metadata": {
    "ExecuteTime": {
     "end_time": "2019-10-21T20:14:47.944077Z",
     "start_time": "2019-10-21T20:14:47.853367Z"
    }
   },
   "outputs": [
    {
     "name": "stdout",
     "output_type": "stream",
     "text": [
      "env: CUDA_DEVICE_ORDER=PCI_BUS_ID\n",
      "env: CUDA_VISIBLE_DEVICES=2\n"
     ]
    }
   ],
   "source": [
    "%env CUDA_DEVICE_ORDER=PCI_BUS_ID\n",
    "%env CUDA_VISIBLE_DEVICES=2"
   ]
  },
  {
   "cell_type": "code",
   "execution_count": 3,
   "metadata": {
    "ExecuteTime": {
     "end_time": "2019-10-21T20:14:49.275353Z",
     "start_time": "2019-10-21T20:14:47.950777Z"
    }
   },
   "outputs": [],
   "source": [
    "%load_ext autoreload\n",
    "%autoreload 2"
   ]
  },
  {
   "cell_type": "code",
   "execution_count": null,
   "metadata": {
    "ExecuteTime": {
     "start_time": "2019-10-21T20:14:44.767Z"
    }
   },
   "outputs": [
    {
     "name": "stderr",
     "output_type": "stream",
     "text": [
      "/mnt/cube/tsainbur/conda_envs/tpy3/lib/python3.6/site-packages/tqdm/autonotebook/__init__.py:14: TqdmExperimentalWarning: Using `tqdm.autonotebook.tqdm` in notebook mode. Use `tqdm.tqdm` instead to force console mode (e.g. in jupyter console)\n",
      "  \" (e.g. in jupyter console)\", TqdmExperimentalWarning)\n"
     ]
    }
   ],
   "source": [
    "import numpy as np\n",
    "import matplotlib.pyplot as plt\n",
    "%matplotlib inline\n",
    "from tqdm.autonotebook import tqdm\n",
    "from joblib import Parallel, delayed\n",
    "import umap\n",
    "import pandas as pd"
   ]
  },
  {
   "cell_type": "code",
   "execution_count": null,
   "metadata": {
    "ExecuteTime": {
     "start_time": "2019-10-21T20:14:44.769Z"
    }
   },
   "outputs": [],
   "source": [
    "from avgn.utils.paths import DATA_DIR, most_recent_subdirectory, ensure_dir\n",
    "from avgn.signalprocessing.create_spectrogram_dataset import flatten_spectrograms\n",
    "from avgn.visualization.spectrogram import draw_spec_set\n",
    "from avgn.visualization.quickplots import draw_projection_plots"
   ]
  },
  {
   "cell_type": "code",
   "execution_count": null,
   "metadata": {
    "ExecuteTime": {
     "start_time": "2019-10-21T20:14:44.770Z"
    }
   },
   "outputs": [],
   "source": [
    "from avgn.visualization.projections import (\n",
    "    scatter_projections,\n",
    "    draw_projection_transitions,\n",
    ")"
   ]
  },
  {
   "cell_type": "markdown",
   "metadata": {},
   "source": [
    "### Collect data"
   ]
  },
  {
   "cell_type": "code",
   "execution_count": null,
   "metadata": {
    "ExecuteTime": {
     "start_time": "2019-10-21T20:14:44.771Z"
    }
   },
   "outputs": [],
   "source": [
    "DATASET_ID = 'bengalese_finch_sober'"
   ]
  },
  {
   "cell_type": "code",
   "execution_count": null,
   "metadata": {
    "ExecuteTime": {
     "start_time": "2019-10-21T20:14:44.773Z"
    }
   },
   "outputs": [],
   "source": [
    "syllable_df = pd.concat([pd.read_pickle(i) for i in list((DATA_DIR / 'indv_dfs' / DATASET_ID).glob('*.pickle'))])"
   ]
  },
  {
   "cell_type": "code",
   "execution_count": null,
   "metadata": {
    "ExecuteTime": {
     "start_time": "2019-10-21T20:14:44.775Z"
    }
   },
   "outputs": [],
   "source": [
    "syllable_df[:3]"
   ]
  },
  {
   "cell_type": "code",
   "execution_count": null,
   "metadata": {
    "ExecuteTime": {
     "start_time": "2019-10-21T20:14:44.777Z"
    }
   },
   "outputs": [],
   "source": [
    "from avgn.visualization.barcodes import plot_sorted_barcodes, indv_barcode"
   ]
  },
  {
   "cell_type": "code",
   "execution_count": null,
   "metadata": {
    "ExecuteTime": {
     "start_time": "2019-10-21T20:14:44.778Z"
    }
   },
   "outputs": [],
   "source": [
    "from avgn.utils.general import save_fig\n",
    "from avgn.utils.paths import FIGURE_DIR,ensure_dir"
   ]
  },
  {
   "cell_type": "code",
   "execution_count": null,
   "metadata": {
    "ExecuteTime": {
     "start_time": "2019-10-21T20:14:44.779Z"
    }
   },
   "outputs": [],
   "source": [
    "label = \"hdbscan_labels\""
   ]
  },
  {
   "cell_type": "code",
   "execution_count": null,
   "metadata": {
    "ExecuteTime": {
     "start_time": "2019-10-21T20:14:44.782Z"
    },
    "scrolled": true
   },
   "outputs": [],
   "source": [
    "indv_dict = {}\n",
    "# for each individual in the dataset\n",
    "for indv in tqdm(syllable_df.indv.unique()):\n",
    "    color_lists, trans_lists, label_pal_dict, label_pal, label_dict = indv_barcode(\n",
    "        syllable_df[syllable_df.indv == indv], \n",
    "        time_resolution=0.03, \n",
    "        label=label, \n",
    "        pal=\"tab20\"\n",
    "    )\n",
    "    indv_dict[indv] = {\n",
    "        'label_pal_dict':label_pal_dict,\n",
    "        'label_dict':label_dict\n",
    "    }\n",
    "    fig, ax = plt.subplots(figsize=(20,3))\n",
    "    plot_sorted_barcodes(color_lists, trans_lists, max_list_len=600, seq_len=100, nex=200, figsize=(10,4), ax=ax);\n",
    "    ensure_dir(FIGURE_DIR/'barcode' / DATASET_ID)\n",
    "    save_fig(FIGURE_DIR / 'barcode' / DATASET_ID / indv)"
   ]
  },
  {
   "cell_type": "markdown",
   "metadata": {},
   "source": [
    "### create other viz"
   ]
  },
  {
   "cell_type": "code",
   "execution_count": null,
   "metadata": {
    "ExecuteTime": {
     "start_time": "2019-10-21T20:14:44.783Z"
    }
   },
   "outputs": [],
   "source": [
    "# fix unlabelled\n",
    "for indv in indv_dict:\n",
    "    if -1 in indv_dict[indv]['label_dict']:\n",
    "        indv_dict[indv]['label_pal_dict'][indv_dict[indv]['label_dict'][-1]] = [.5,.5,.5]"
   ]
  },
  {
   "cell_type": "code",
   "execution_count": null,
   "metadata": {
    "ExecuteTime": {
     "start_time": "2019-10-21T20:14:44.784Z"
    }
   },
   "outputs": [],
   "source": [
    "import matplotlib.patches as mpatches\n",
    "from matplotlib.collections import PatchCollection"
   ]
  },
  {
   "cell_type": "code",
   "execution_count": null,
   "metadata": {
    "ExecuteTime": {
     "start_time": "2019-10-21T20:14:44.786Z"
    }
   },
   "outputs": [],
   "source": [
    "from vocalseg.utils import butter_bandpass_filter, spectrogram, int16tofloat32, plot_spec\n",
    "import librosa"
   ]
  },
  {
   "cell_type": "code",
   "execution_count": null,
   "metadata": {
    "ExecuteTime": {
     "start_time": "2019-10-21T20:14:44.805Z"
    }
   },
   "outputs": [],
   "source": [
    "# make dataset"
   ]
  },
  {
   "cell_type": "code",
   "execution_count": null,
   "metadata": {
    "ExecuteTime": {
     "start_time": "2019-10-21T20:14:44.806Z"
    }
   },
   "outputs": [],
   "source": [
    "from avgn.utils.hparams import HParams\n",
    "from avgn.dataset import DataSet"
   ]
  },
  {
   "cell_type": "code",
   "execution_count": null,
   "metadata": {
    "ExecuteTime": {
     "start_time": "2019-10-21T20:14:44.808Z"
    }
   },
   "outputs": [],
   "source": [
    "hparams = HParams(\n",
    "    num_mel_bins = 32,\n",
    "    mel_lower_edge_hertz=500,\n",
    "    mel_upper_edge_hertz=15000,\n",
    "    butter_lowcut = 500,\n",
    "    butter_highcut = 15000,\n",
    "    ref_level_db = 20,\n",
    "    min_level_db = -25,\n",
    "    mask_spec = True,\n",
    "    win_length_ms = 10,\n",
    "    hop_length_ms = 2,\n",
    "    nex=-1,\n",
    "    n_jobs=-1,\n",
    "    verbosity = 1,\n",
    ")"
   ]
  },
  {
   "cell_type": "code",
   "execution_count": null,
   "metadata": {
    "ExecuteTime": {
     "start_time": "2019-10-21T20:14:44.809Z"
    }
   },
   "outputs": [],
   "source": [
    "# create a dataset object\n",
    "dataset = DataSet(DATASET_ID, hparams = hparams)"
   ]
  },
  {
   "cell_type": "code",
   "execution_count": null,
   "metadata": {
    "ExecuteTime": {
     "start_time": "2019-10-21T20:14:44.810Z"
    }
   },
   "outputs": [],
   "source": [
    "indvs = np.array([list(i)[0] for i in dataset.json_indv])"
   ]
  },
  {
   "cell_type": "code",
   "execution_count": null,
   "metadata": {
    "ExecuteTime": {
     "start_time": "2019-10-21T20:14:44.812Z"
    }
   },
   "outputs": [],
   "source": [
    "from avgn.visualization.projections import scatter_spec, scatter_projections\n",
    "from avgn.utils.general import save_fig\n",
    "from avgn.utils.paths import FIGURE_DIR, ensure_dir"
   ]
  },
  {
   "cell_type": "code",
   "execution_count": null,
   "metadata": {
    "ExecuteTime": {
     "start_time": "2019-10-21T20:14:44.813Z"
    }
   },
   "outputs": [],
   "source": [
    "from avgn.visualization.projections import draw_projection_transitions\n",
    "from avgn.visualization.network_graph import plot_network_graph"
   ]
  },
  {
   "cell_type": "code",
   "execution_count": null,
   "metadata": {
    "ExecuteTime": {
     "start_time": "2019-10-21T20:14:44.814Z"
    }
   },
   "outputs": [],
   "source": [
    "for indv in np.unique(indvs):\n",
    "    # get key for individual\n",
    "    key = np.array(list(dataset.data_files.keys()))[indvs == indv][0]\n",
    "    \n",
    "    # load the wav\n",
    "    wav, rate = librosa.core.load(dataset.data_files[key].data['wav_loc'], sr=None)\n",
    "    data = butter_bandpass_filter(wav, 500, 15000, rate)\n",
    "    \n",
    "    # create the spectrogram\n",
    "    spec = spectrogram(\n",
    "        data,\n",
    "        rate,\n",
    "        n_fft=1024,\n",
    "        hop_length_ms=1,\n",
    "        win_length_ms=5,\n",
    "        ref_level_db=20,\n",
    "        min_level_db=-60,\n",
    "    )\n",
    "    \n",
    "    # plot the spectrogram with labels\n",
    "    fig, ax = plt.subplots(figsize=(100, 6))\n",
    "    plot_spec(spec, fig, ax, hop_len_ms=1, rate=rate, show_cbar=False)\n",
    "    ymin, ymax = ax.get_ylim()\n",
    "    for ix, row in tqdm(syllable_df[syllable_df.key == key].iterrows()):\n",
    "        #ax.axvline(row.start_time)\n",
    "        #ax.axvline(row.end_time)\n",
    "        color = indv_dict[row.indv]['label_pal_dict'][indv_dict[row.indv]['label_dict'][row[label]]]\n",
    "        ax.add_patch(\n",
    "            mpatches.Rectangle(\n",
    "                [row.start_time, ymax - (ymax - ymin) / 10],\n",
    "                row.end_time - row.start_time,\n",
    "                (ymax - ymin) / 10,\n",
    "                ec=\"none\",\n",
    "                color=color,\n",
    "            )\n",
    "        )\n",
    "    #ax.set_xlim([0.7, 9.3])\n",
    "    ax.xaxis.tick_bottom()\n",
    "    ensure_dir(FIGURE_DIR/'barcode' / DATASET_ID)\n",
    "    save_fig(FIGURE_DIR / 'barcode' / DATASET_ID / (indv+'_spectrogram'))\n",
    "    plt.show()\n",
    "    \n",
    "    \n",
    "    # plot scatterplot\n",
    "    indv_df = syllable_df[syllable_df.indv == indv]\n",
    "    z = np.vstack(indv_df.umap.values)\n",
    "    label_pal_dict = indv_dict[row.indv]['label_pal_dict']\n",
    "    label_dict = indv_dict[row.indv]['label_dict']\n",
    "    colors = [label_pal_dict[label_dict[row[label]]] for idx, row in tqdm(indv_df.iterrows(), total = len(indv_df))]\n",
    "    \n",
    "    fig, axs, main_ax = scatter_spec(\n",
    "        np.vstack(indv_df.umap.values),\n",
    "        indv_df.spectrogram.values,\n",
    "        column_size=15,\n",
    "        #x_range = [-5.5,7],\n",
    "        #y_range = [-10,10],\n",
    "        pal_color=\"hls\",\n",
    "        color_points=False,\n",
    "        enlarge_points=20,\n",
    "        figsize=(10, 10),\n",
    "        scatter_kwargs = {\n",
    "            #'labels': list(indv_df.phrase.values),\n",
    "            'alpha':0.25,\n",
    "            's': 1,\n",
    "            'show_legend': False\n",
    "        },\n",
    "        matshow_kwargs = {\n",
    "            'cmap': plt.cm.Greys\n",
    "        },\n",
    "        line_kwargs = {\n",
    "            'lw':1,\n",
    "            'ls':\"solid\",\n",
    "            'alpha':0.25,\n",
    "        },\n",
    "        draw_lines=True,\n",
    "        show_scatter=False,\n",
    "    );\n",
    "\n",
    "    main_ax.scatter(z[:,0], z[:,1], color = colors, alpha = 0.25, s=1)\n",
    "\n",
    "    ensure_dir(FIGURE_DIR/'barcode' / DATASET_ID)\n",
    "    save_fig(FIGURE_DIR / 'barcode' / DATASET_ID / (indv+'_scatter'))\n",
    "    plt.show()\n",
    "    \n",
    "    # plot transitions\n",
    "    \n",
    "    fig, axs, main_ax = scatter_spec(\n",
    "        np.vstack(indv_df.umap.values),\n",
    "        indv_df.spectrogram.values,\n",
    "        column_size=15,\n",
    "        #x_range = [-5.5,7],\n",
    "        #y_range = [-10,10],\n",
    "        pal_color=\"hls\",\n",
    "        color_points=False,\n",
    "        enlarge_points=20,\n",
    "        figsize=(10, 10),\n",
    "        scatter_kwargs = {\n",
    "            #'labels': list(indv_df.phrase.values),\n",
    "            'alpha':0.25,\n",
    "            's': 1,\n",
    "            'show_legend': False\n",
    "        },\n",
    "        matshow_kwargs = {\n",
    "            'cmap': plt.cm.Greys\n",
    "        },\n",
    "        line_kwargs = {\n",
    "            'lw':1,\n",
    "            'ls':\"solid\",\n",
    "            'alpha':0.25,\n",
    "        },\n",
    "        draw_lines=True,\n",
    "        show_scatter=False,\n",
    "    );\n",
    "\n",
    "    draw_projection_transitions(\n",
    "        np.vstack(indv_df.umap.values),\n",
    "        indv_df.syllables_sequence_id.values,\n",
    "        indv_df.syllables_sequence_pos.values,\n",
    "        ax=main_ax,\n",
    "        alpha=0.01,\n",
    "    )\n",
    "\n",
    "    ensure_dir(FIGURE_DIR/'barcode' / DATASET_ID)\n",
    "    save_fig(FIGURE_DIR / 'barcode' / DATASET_ID / (indv+'_trans'))\n",
    "    plt.show()\n",
    "    \n",
    "    # plot graph\n",
    "    elements = indv_df[label].values\n",
    "    projections = np.array(list(indv_df['umap'].values))\n",
    "    sequence_ids = np.array(indv_df[\"syllables_sequence_id\"])\n",
    "    pal_dict = {i:label_pal_dict[j] for i,j in label_dict.items()}\n",
    "    fig, ax = plt.subplots(figsize=(10,10))\n",
    "    plot_network_graph(\n",
    "        elements, projections, sequence_ids, color_palette=\"tab20\", ax=ax, pal_dict=pal_dict\n",
    "    )\n",
    "    ax.axis('off')\n",
    "    ensure_dir(FIGURE_DIR/'barcode' / DATASET_ID)\n",
    "    save_fig(FIGURE_DIR / 'barcode' / DATASET_ID / (indv+'_network'))\n",
    "    plt.show()\n",
    "    "
   ]
  },
  {
   "cell_type": "code",
   "execution_count": null,
   "metadata": {},
   "outputs": [],
   "source": []
  }
 ],
 "metadata": {
  "kernelspec": {
   "display_name": "Python 3",
   "language": "python",
   "name": "python3"
  },
  "language_info": {
   "codemirror_mode": {
    "name": "ipython",
    "version": 3
   },
   "file_extension": ".py",
   "mimetype": "text/x-python",
   "name": "python",
   "nbconvert_exporter": "python",
   "pygments_lexer": "ipython3",
   "version": "3.6.7"
  }
 },
 "nbformat": 4,
 "nbformat_minor": 4
}
