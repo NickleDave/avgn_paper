{
 "cells": [
  {
   "cell_type": "markdown",
   "metadata": {},
   "source": [
    "### Zebra finch custom parsing\n",
    "- An unlabelled dataset of zebra finch vocalizations\n",
    "    - ,MAT files with rate and data\n",
    "- This notebook creates a JSON corresponding to each WAV file (and Noise file where available).\n",
    "- Dataset origin:\n",
    "    - https://journals.plos.org/plosone/article?id=10.1371/journal.pone.0181992\n",
    "    - https://osf.io/bx76r/"
   ]
  },
  {
   "cell_type": "code",
   "execution_count": 1,
   "metadata": {
    "ExecuteTime": {
     "end_time": "2019-06-26T18:51:48.514034Z",
     "start_time": "2019-06-26T18:51:46.583996Z"
    }
   },
   "outputs": [],
   "source": [
    "from avgn.utils.general import prepare_env"
   ]
  },
  {
   "cell_type": "code",
   "execution_count": 2,
   "metadata": {
    "ExecuteTime": {
     "end_time": "2019-06-26T18:51:48.568737Z",
     "start_time": "2019-06-26T18:51:48.517625Z"
    }
   },
   "outputs": [
    {
     "name": "stdout",
     "output_type": "stream",
     "text": [
      "env: CUDA_VISIBLE_DEVICES=GPU\n"
     ]
    }
   ],
   "source": [
    "prepare_env()"
   ]
  },
  {
   "cell_type": "markdown",
   "metadata": {},
   "source": [
    "### Import relevant packages"
   ]
  },
  {
   "cell_type": "code",
   "execution_count": 3,
   "metadata": {
    "ExecuteTime": {
     "end_time": "2019-06-26T18:51:49.241919Z",
     "start_time": "2019-06-26T18:51:48.571368Z"
    }
   },
   "outputs": [
    {
     "name": "stderr",
     "output_type": "stream",
     "text": [
      "/mnt/cube/tsainbur/conda_envs/tpy3/lib/python3.6/site-packages/tqdm/autonotebook/__init__.py:14: TqdmExperimentalWarning: Using `tqdm.autonotebook.tqdm` in notebook mode. Use `tqdm.tqdm` instead to force console mode (e.g. in jupyter console)\n",
      "  \" (e.g. in jupyter console)\", TqdmExperimentalWarning)\n"
     ]
    }
   ],
   "source": [
    "from joblib import Parallel, delayed\n",
    "from tqdm.autonotebook import tqdm\n",
    "import pandas as pd\n",
    "pd.options.display.max_columns = None\n",
    "import librosa\n",
    "from datetime import datetime\n",
    "import numpy as np"
   ]
  },
  {
   "cell_type": "code",
   "execution_count": 4,
   "metadata": {
    "ExecuteTime": {
     "end_time": "2019-06-26T18:51:49.291879Z",
     "start_time": "2019-06-26T18:51:49.244417Z"
    }
   },
   "outputs": [],
   "source": [
    "import avgn\n",
    "from avgn.custom_parsing.zebra_finch_gardner import generate_json_wav_noise\n",
    "from avgn.utils.paths import DATA_DIR"
   ]
  },
  {
   "cell_type": "markdown",
   "metadata": {},
   "source": [
    "### Load data in original format"
   ]
  },
  {
   "cell_type": "code",
   "execution_count": 5,
   "metadata": {
    "ExecuteTime": {
     "end_time": "2019-06-26T18:51:49.385544Z",
     "start_time": "2019-06-26T18:51:49.293988Z"
    }
   },
   "outputs": [],
   "source": [
    "DATASET_ID = 'zebra_finch_gardner'"
   ]
  },
  {
   "cell_type": "code",
   "execution_count": 6,
   "metadata": {
    "ExecuteTime": {
     "end_time": "2019-06-26T18:51:49.509426Z",
     "start_time": "2019-06-26T18:51:49.387517Z"
    }
   },
   "outputs": [
    {
     "data": {
      "text/plain": [
       "'2019-06-26_11-51-49'"
      ]
     },
     "execution_count": 6,
     "metadata": {},
     "output_type": "execute_result"
    }
   ],
   "source": [
    "# create a unique datetime identifier for the files output by this notebook\n",
    "DT_ID = datetime.now().strftime(\"%Y-%m-%d_%H-%M-%S\")\n",
    "DT_ID"
   ]
  },
  {
   "cell_type": "code",
   "execution_count": 7,
   "metadata": {
    "ExecuteTime": {
     "end_time": "2019-06-26T18:51:49.586333Z",
     "start_time": "2019-06-26T18:51:49.511513Z"
    }
   },
   "outputs": [
    {
     "data": {
      "text/plain": [
       "PosixPath('/mnt/cube/Datasets/ZebraFinch/OSF-BX76R')"
      ]
     },
     "execution_count": 7,
     "metadata": {},
     "output_type": "execute_result"
    }
   ],
   "source": [
    "DSLOC = avgn.utils.paths.Path('/mnt/cube/Datasets/ZebraFinch/OSF-BX76R/')\n",
    "DSLOC"
   ]
  },
  {
   "cell_type": "code",
   "execution_count": 8,
   "metadata": {
    "ExecuteTime": {
     "end_time": "2019-06-26T18:51:49.734632Z",
     "start_time": "2019-06-26T18:51:49.588200Z"
    }
   },
   "outputs": [
    {
     "data": {
      "text/plain": [
       "(8, PosixPath('/mnt/cube/Datasets/ZebraFinch/OSF-BX76R/lr13/song.mat'))"
      ]
     },
     "execution_count": 8,
     "metadata": {},
     "output_type": "execute_result"
    }
   ],
   "source": [
    "MATFILES = list((DSLOC).expanduser().glob('*/[!.]*.mat')) \n",
    "len(MATFILES), MATFILES[0]"
   ]
  },
  {
   "cell_type": "markdown",
   "metadata": {},
   "source": [
    "### parse MAT and create wav/JSON"
   ]
  },
  {
   "cell_type": "code",
   "execution_count": 9,
   "metadata": {
    "ExecuteTime": {
     "end_time": "2019-06-26T18:51:49.896197Z",
     "start_time": "2019-06-26T18:51:49.736403Z"
    }
   },
   "outputs": [],
   "source": [
    "import h5py as h5"
   ]
  },
  {
   "cell_type": "code",
   "execution_count": 10,
   "metadata": {
    "ExecuteTime": {
     "end_time": "2019-06-26T18:52:11.908322Z",
     "start_time": "2019-06-26T18:51:49.898485Z"
    }
   },
   "outputs": [
    {
     "data": {
      "application/vnd.jupyter.widget-view+json": {
       "model_id": "300c51b003554b28ac6995ea3ea0cdff",
       "version_major": 2,
       "version_minor": 0
      },
      "text/plain": [
       "HBox(children=(IntProgress(value=0, max=8), HTML(value='')))"
      ]
     },
     "metadata": {},
     "output_type": "display_data"
    },
    {
     "data": {
      "application/vnd.jupyter.widget-view+json": {
       "model_id": "36e4903572c248efb0312eda6d8483f1",
       "version_major": 2,
       "version_minor": 0
      },
      "text/plain": [
       "HBox(children=(IntProgress(value=0, max=3000), HTML(value='')))"
      ]
     },
     "metadata": {},
     "output_type": "display_data"
    },
    {
     "name": "stderr",
     "output_type": "stream",
     "text": [
      "[Parallel(n_jobs=-1)]: Using backend LokyBackend with 24 concurrent workers.\n",
      "[Parallel(n_jobs=-1)]: Done   2 tasks      | elapsed:    3.1s\n",
      "[Parallel(n_jobs=-1)]: Done  13 tasks      | elapsed:    3.2s\n",
      "[Parallel(n_jobs=-1)]: Done  24 tasks      | elapsed:    3.2s\n",
      "[Parallel(n_jobs=-1)]: Done  37 tasks      | elapsed:    3.3s\n",
      "[Parallel(n_jobs=-1)]: Batch computation too fast (0.1946s.) Setting batch_size=2.\n",
      "[Parallel(n_jobs=-1)]: Done  50 tasks      | elapsed:    3.3s\n",
      "[Parallel(n_jobs=-1)]: Done  65 tasks      | elapsed:    3.4s\n",
      "[Parallel(n_jobs=-1)]: Batch computation too fast (0.1451s.) Setting batch_size=4.\n",
      "[Parallel(n_jobs=-1)]: Done  82 tasks      | elapsed:    3.5s\n",
      "[Parallel(n_jobs=-1)]: Done 113 tasks      | elapsed:    3.6s\n",
      "[Parallel(n_jobs=-1)]: Done 145 tasks      | elapsed:    3.7s\n",
      "[Parallel(n_jobs=-1)]: Done 204 tasks      | elapsed:    3.9s\n",
      "[Parallel(n_jobs=-1)]: Done 274 tasks      | elapsed:    4.2s\n",
      "[Parallel(n_jobs=-1)]: Done 349 tasks      | elapsed:    4.5s\n",
      "[Parallel(n_jobs=-1)]: Done 430 tasks      | elapsed:    4.7s\n",
      "[Parallel(n_jobs=-1)]: Done 522 tasks      | elapsed:    5.0s\n",
      "[Parallel(n_jobs=-1)]: Done 614 tasks      | elapsed:    5.3s\n",
      "[Parallel(n_jobs=-1)]: Done 714 tasks      | elapsed:    5.7s\n",
      "[Parallel(n_jobs=-1)]: Done 814 tasks      | elapsed:    6.0s\n",
      "[Parallel(n_jobs=-1)]: Done 922 tasks      | elapsed:    6.4s\n",
      "[Parallel(n_jobs=-1)]: Done 1030 tasks      | elapsed:    6.8s\n",
      "[Parallel(n_jobs=-1)]: Done 1146 tasks      | elapsed:    7.1s\n",
      "[Parallel(n_jobs=-1)]: Done 1262 tasks      | elapsed:    7.5s\n",
      "[Parallel(n_jobs=-1)]: Done 1386 tasks      | elapsed:    7.9s\n",
      "[Parallel(n_jobs=-1)]: Done 1510 tasks      | elapsed:    8.3s\n",
      "[Parallel(n_jobs=-1)]: Done 1642 tasks      | elapsed:    8.8s\n",
      "[Parallel(n_jobs=-1)]: Done 1774 tasks      | elapsed:    9.2s\n",
      "[Parallel(n_jobs=-1)]: Done 1914 tasks      | elapsed:    9.6s\n",
      "[Parallel(n_jobs=-1)]: Done 2054 tasks      | elapsed:   10.1s\n",
      "[Parallel(n_jobs=-1)]: Done 2202 tasks      | elapsed:   10.6s\n",
      "[Parallel(n_jobs=-1)]: Done 2350 tasks      | elapsed:   11.0s\n",
      "[Parallel(n_jobs=-1)]: Done 2506 tasks      | elapsed:   11.6s\n",
      "[Parallel(n_jobs=-1)]: Done 2662 tasks      | elapsed:   12.0s\n",
      "[Parallel(n_jobs=-1)]: Done 3000 out of 3000 | elapsed:   13.0s finished\n"
     ]
    }
   ],
   "source": [
    "for mat_file in tqdm(MATFILES):\n",
    "    indv = mat_file.parent.stem\n",
    "    # try loading the MAT file\n",
    "    try:\n",
    "        with h5.File(mat_file) as f:\n",
    "            songs = f[\"song\"].value\n",
    "            nonsongs = f[\"nonsong\"].value\n",
    "            rate = f[\"fs\"].value\n",
    "    except:\n",
    "        print(indv + \" failed\")\n",
    "        continue\n",
    "\n",
    "    with Parallel(n_jobs=-1, verbose=10) as parallel:\n",
    "        parallel(\n",
    "            delayed(generate_json_wav_noise)(indv, wav_num, song, nonsong, int(rate), DT_ID)\n",
    "            for wav_num, (song, nonsong) in tqdm(\n",
    "                enumerate(zip(songs, nonsongs)), total=len(songs)\n",
    "            )\n",
    "        )\n",
    "    break"
   ]
  }
 ],
 "metadata": {
  "kernelspec": {
   "display_name": "Python 3",
   "language": "python",
   "name": "python3"
  },
  "language_info": {
   "codemirror_mode": {
    "name": "ipython",
    "version": 3
   },
   "file_extension": ".py",
   "mimetype": "text/x-python",
   "name": "python",
   "nbconvert_exporter": "python",
   "pygments_lexer": "ipython3",
   "version": "3.6.8"
  }
 },
 "nbformat": 4,
 "nbformat_minor": 2
}
