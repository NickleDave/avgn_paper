{
 "cells": [
  {
   "cell_type": "markdown",
   "metadata": {},
   "source": [
    "### Canary vocalization dataset custom parsing\n",
    "- This dataset has:\n",
    "    - A number of WAVs where naming convention stores the individuals vocalizing and datetime of vocalization\n",
    "    - Corresponding .TextGrid files with phrase identity\n",
    "- This notebook extracts periods of vocalization into new WAV files, and creates a corresponding JSON and TextGrid for each WAV with annotation information\n",
    "- Dataset origin:\n",
    "    - Recieved via correspondance with Gardner Lab"
   ]
  },
  {
   "cell_type": "code",
   "execution_count": 1,
   "metadata": {
    "ExecuteTime": {
     "end_time": "2019-06-20T17:43:17.317844Z",
     "start_time": "2019-06-20T17:43:17.315223Z"
    }
   },
   "outputs": [],
   "source": [
    "DATASET_ID = 'canary'"
   ]
  },
  {
   "cell_type": "code",
   "execution_count": 2,
   "metadata": {
    "ExecuteTime": {
     "end_time": "2019-06-20T17:43:19.342457Z",
     "start_time": "2019-06-20T17:43:17.319866Z"
    }
   },
   "outputs": [],
   "source": [
    "from avgn.utils.general import prepare_env"
   ]
  },
  {
   "cell_type": "code",
   "execution_count": 3,
   "metadata": {
    "ExecuteTime": {
     "end_time": "2019-06-20T17:43:19.410235Z",
     "start_time": "2019-06-20T17:43:19.344884Z"
    }
   },
   "outputs": [
    {
     "name": "stdout",
     "output_type": "stream",
     "text": [
      "env: CUDA_VISIBLE_DEVICES=GPU\n"
     ]
    }
   ],
   "source": [
    "prepare_env()"
   ]
  },
  {
   "cell_type": "markdown",
   "metadata": {},
   "source": [
    "### Import relevant packages"
   ]
  },
  {
   "cell_type": "code",
   "execution_count": 4,
   "metadata": {
    "ExecuteTime": {
     "end_time": "2019-06-20T17:43:20.044564Z",
     "start_time": "2019-06-20T17:43:19.413304Z"
    }
   },
   "outputs": [
    {
     "name": "stderr",
     "output_type": "stream",
     "text": [
      "/mnt/cube/tsainbur/conda_envs/tpy3/lib/python3.6/site-packages/tqdm/autonotebook/__init__.py:14: TqdmExperimentalWarning: Using `tqdm.autonotebook.tqdm` in notebook mode. Use `tqdm.tqdm` instead to force console mode (e.g. in jupyter console)\n",
      "  \" (e.g. in jupyter console)\", TqdmExperimentalWarning)\n"
     ]
    }
   ],
   "source": [
    "from joblib import Parallel, delayed\n",
    "from tqdm.autonotebook import tqdm\n",
    "import pandas as pd\n",
    "import librosa\n",
    "from datetime import datetime\n",
    "import json\n",
    "import numpy as np"
   ]
  },
  {
   "cell_type": "code",
   "execution_count": 5,
   "metadata": {
    "ExecuteTime": {
     "end_time": "2019-06-20T17:43:20.084650Z",
     "start_time": "2019-06-20T17:43:20.046905Z"
    }
   },
   "outputs": [],
   "source": [
    "import avgn\n",
    "from avgn.custom_parsing.gardner_canary import (\n",
    "    get_phrases,\n",
    "    gen_wav_json\n",
    ")\n",
    "from avgn.utils.paths import DATA_DIR"
   ]
  },
  {
   "cell_type": "markdown",
   "metadata": {},
   "source": [
    "### Load data in original format"
   ]
  },
  {
   "cell_type": "code",
   "execution_count": 6,
   "metadata": {
    "ExecuteTime": {
     "end_time": "2019-06-20T17:43:20.175898Z",
     "start_time": "2019-06-20T17:43:20.086671Z"
    }
   },
   "outputs": [
    {
     "data": {
      "text/plain": [
       "'2019-06-20_10-43-20'"
      ]
     },
     "execution_count": 6,
     "metadata": {},
     "output_type": "execute_result"
    }
   ],
   "source": [
    "# create a unique datetime identifier for the files output by this notebook\n",
    "DT_ID = datetime.now().strftime(\"%Y-%m-%d_%H-%M-%S\")\n",
    "DT_ID"
   ]
  },
  {
   "cell_type": "code",
   "execution_count": 7,
   "metadata": {
    "ExecuteTime": {
     "end_time": "2019-06-20T17:43:20.253082Z",
     "start_time": "2019-06-20T17:43:20.178177Z"
    }
   },
   "outputs": [],
   "source": [
    "DSLOC = avgn.utils.paths.Path('/mnt/cube/Datasets/canary/FromYarden2018')"
   ]
  },
  {
   "cell_type": "code",
   "execution_count": 8,
   "metadata": {
    "ExecuteTime": {
     "end_time": "2019-06-20T17:43:20.377210Z",
     "start_time": "2019-06-20T17:43:20.255975Z"
    }
   },
   "outputs": [
    {
     "data": {
      "text/plain": [
       "(PosixPath('/mnt/cube/Datasets/canary/FromYarden2018/TextGrids/bird1_0008_2004_03_06_08_22.TextGrid'),\n",
       " 2556)"
      ]
     },
     "execution_count": 8,
     "metadata": {},
     "output_type": "execute_result"
    }
   ],
   "source": [
    "TGLIST = np.array(list((DSLOC).expanduser().glob('TextGrids/*.TextGrid')))\n",
    "TGLIST = np.array([i for i in TGLIST if i.stem[0] != '.'])\n",
    "TGLIST[0], len(TGLIST)"
   ]
  },
  {
   "cell_type": "code",
   "execution_count": 9,
   "metadata": {
    "ExecuteTime": {
     "end_time": "2019-06-20T17:43:20.452444Z",
     "start_time": "2019-06-20T17:43:20.379591Z"
    }
   },
   "outputs": [
    {
     "data": {
      "text/plain": [
       "(PosixPath('/mnt/cube/Datasets/canary/FromYarden2018/bird_3/bird3_0067_2004_03_07_15_36.wav'),\n",
       " 3776)"
      ]
     },
     "execution_count": 9,
     "metadata": {},
     "output_type": "execute_result"
    }
   ],
   "source": [
    "WAVLIST = np.array(list((DSLOC).expanduser().glob('*/*.wav')))\n",
    "WAVLIST[0], len(WAVLIST)"
   ]
  },
  {
   "cell_type": "markdown",
   "metadata": {},
   "source": [
    "### load TextGrid data"
   ]
  },
  {
   "cell_type": "code",
   "execution_count": 10,
   "metadata": {
    "ExecuteTime": {
     "end_time": "2019-06-20T17:43:20.517229Z",
     "start_time": "2019-06-20T17:43:20.454258Z"
    }
   },
   "outputs": [],
   "source": [
    "wav_stems = np.array([i.stem for i in WAVLIST])"
   ]
  },
  {
   "cell_type": "code",
   "execution_count": 11,
   "metadata": {
    "ExecuteTime": {
     "end_time": "2019-06-20T17:44:01.353114Z",
     "start_time": "2019-06-20T17:43:20.519026Z"
    },
    "scrolled": true
   },
   "outputs": [
    {
     "data": {
      "application/vnd.jupyter.widget-view+json": {
       "model_id": "70c1bac0c8524a21b2277741c289e39f",
       "version_major": 2,
       "version_minor": 0
      },
      "text/plain": [
       "HBox(children=(IntProgress(value=0, max=2556), HTML(value='')))"
      ]
     },
     "metadata": {},
     "output_type": "display_data"
    },
    {
     "name": "stderr",
     "output_type": "stream",
     "text": [
      "[Parallel(n_jobs=-1)]: Using backend LokyBackend with 24 concurrent workers.\n",
      "[Parallel(n_jobs=-1)]: Done   2 tasks      | elapsed:    4.0s\n",
      "[Parallel(n_jobs=-1)]: Done  13 tasks      | elapsed:    4.3s\n",
      "[Parallel(n_jobs=-1)]: Done  24 tasks      | elapsed:    4.4s\n",
      "[Parallel(n_jobs=-1)]: Done  37 tasks      | elapsed:    4.7s\n",
      "[Parallel(n_jobs=-1)]: Done  50 tasks      | elapsed:    4.8s\n",
      "[Parallel(n_jobs=-1)]: Done  65 tasks      | elapsed:    5.0s\n",
      "[Parallel(n_jobs=-1)]: Done  80 tasks      | elapsed:    5.2s\n",
      "[Parallel(n_jobs=-1)]: Done  97 tasks      | elapsed:    5.5s\n",
      "[Parallel(n_jobs=-1)]: Done 114 tasks      | elapsed:    5.7s\n",
      "[Parallel(n_jobs=-1)]: Done 133 tasks      | elapsed:    6.0s\n",
      "[Parallel(n_jobs=-1)]: Done 152 tasks      | elapsed:    6.2s\n",
      "[Parallel(n_jobs=-1)]: Done 173 tasks      | elapsed:    6.5s\n",
      "[Parallel(n_jobs=-1)]: Done 194 tasks      | elapsed:    6.8s\n",
      "[Parallel(n_jobs=-1)]: Done 217 tasks      | elapsed:    7.1s\n",
      "[Parallel(n_jobs=-1)]: Done 240 tasks      | elapsed:    7.4s\n",
      "[Parallel(n_jobs=-1)]: Done 265 tasks      | elapsed:    7.8s\n",
      "[Parallel(n_jobs=-1)]: Done 290 tasks      | elapsed:    8.0s\n",
      "[Parallel(n_jobs=-1)]: Done 317 tasks      | elapsed:    8.4s\n",
      "[Parallel(n_jobs=-1)]: Done 344 tasks      | elapsed:    8.7s\n",
      "[Parallel(n_jobs=-1)]: Done 373 tasks      | elapsed:    9.1s\n",
      "[Parallel(n_jobs=-1)]: Done 402 tasks      | elapsed:    9.5s\n",
      "[Parallel(n_jobs=-1)]: Done 433 tasks      | elapsed:    9.9s\n",
      "[Parallel(n_jobs=-1)]: Done 464 tasks      | elapsed:   10.3s\n",
      "[Parallel(n_jobs=-1)]: Done 497 tasks      | elapsed:   10.8s\n",
      "[Parallel(n_jobs=-1)]: Done 530 tasks      | elapsed:   11.3s\n",
      "[Parallel(n_jobs=-1)]: Done 565 tasks      | elapsed:   11.7s\n",
      "[Parallel(n_jobs=-1)]: Done 600 tasks      | elapsed:   12.2s\n",
      "[Parallel(n_jobs=-1)]: Done 637 tasks      | elapsed:   12.7s\n",
      "[Parallel(n_jobs=-1)]: Done 674 tasks      | elapsed:   13.2s\n",
      "[Parallel(n_jobs=-1)]: Done 713 tasks      | elapsed:   13.7s\n",
      "[Parallel(n_jobs=-1)]: Done 752 tasks      | elapsed:   14.2s\n",
      "[Parallel(n_jobs=-1)]: Done 793 tasks      | elapsed:   14.8s\n",
      "[Parallel(n_jobs=-1)]: Done 834 tasks      | elapsed:   15.3s\n",
      "[Parallel(n_jobs=-1)]: Done 877 tasks      | elapsed:   15.8s\n",
      "[Parallel(n_jobs=-1)]: Done 920 tasks      | elapsed:   16.4s\n",
      "[Parallel(n_jobs=-1)]: Done 965 tasks      | elapsed:   17.0s\n",
      "[Parallel(n_jobs=-1)]: Done 1010 tasks      | elapsed:   17.7s\n",
      "[Parallel(n_jobs=-1)]: Done 1057 tasks      | elapsed:   18.3s\n",
      "[Parallel(n_jobs=-1)]: Done 1104 tasks      | elapsed:   18.9s\n",
      "[Parallel(n_jobs=-1)]: Done 1153 tasks      | elapsed:   19.5s\n",
      "[Parallel(n_jobs=-1)]: Done 1202 tasks      | elapsed:   20.1s\n",
      "[Parallel(n_jobs=-1)]: Done 1253 tasks      | elapsed:   20.8s\n",
      "[Parallel(n_jobs=-1)]: Done 1304 tasks      | elapsed:   21.4s\n",
      "[Parallel(n_jobs=-1)]: Done 1357 tasks      | elapsed:   22.1s\n",
      "[Parallel(n_jobs=-1)]: Done 1410 tasks      | elapsed:   22.7s\n",
      "[Parallel(n_jobs=-1)]: Done 1465 tasks      | elapsed:   23.4s\n",
      "[Parallel(n_jobs=-1)]: Done 1520 tasks      | elapsed:   24.2s\n",
      "[Parallel(n_jobs=-1)]: Done 1577 tasks      | elapsed:   24.8s\n",
      "[Parallel(n_jobs=-1)]: Done 1634 tasks      | elapsed:   25.5s\n",
      "[Parallel(n_jobs=-1)]: Done 1693 tasks      | elapsed:   26.2s\n",
      "[Parallel(n_jobs=-1)]: Done 1752 tasks      | elapsed:   27.1s\n",
      "[Parallel(n_jobs=-1)]: Done 1813 tasks      | elapsed:   27.9s\n",
      "[Parallel(n_jobs=-1)]: Done 1874 tasks      | elapsed:   28.7s\n",
      "[Parallel(n_jobs=-1)]: Done 1937 tasks      | elapsed:   29.5s\n",
      "[Parallel(n_jobs=-1)]: Done 2000 tasks      | elapsed:   30.3s\n",
      "[Parallel(n_jobs=-1)]: Done 2065 tasks      | elapsed:   31.1s\n",
      "[Parallel(n_jobs=-1)]: Done 2130 tasks      | elapsed:   31.9s\n",
      "[Parallel(n_jobs=-1)]: Done 2197 tasks      | elapsed:   32.8s\n",
      "[Parallel(n_jobs=-1)]: Done 2264 tasks      | elapsed:   33.6s\n",
      "[Parallel(n_jobs=-1)]: Done 2333 tasks      | elapsed:   34.5s\n",
      "[Parallel(n_jobs=-1)]: Done 2402 tasks      | elapsed:   35.4s\n",
      "[Parallel(n_jobs=-1)]: Done 2473 tasks      | elapsed:   36.3s\n"
     ]
    },
    {
     "name": "stdout",
     "output_type": "stream",
     "text": [
      "\n"
     ]
    },
    {
     "name": "stderr",
     "output_type": "stream",
     "text": [
      "[Parallel(n_jobs=-1)]: Done 2556 out of 2556 | elapsed:   37.3s finished\n"
     ]
    }
   ],
   "source": [
    "with Parallel(n_jobs=-1, verbose=10) as parallel:\n",
    "    phrase_df = parallel(\n",
    "        delayed(get_phrases)(tg, WAVLIST, wav_stems)\n",
    "        for tg in tqdm(TGLIST)\n",
    "    )\n",
    "phrase_df = pd.concat(phrase_df)"
   ]
  },
  {
   "cell_type": "code",
   "execution_count": 12,
   "metadata": {
    "ExecuteTime": {
     "end_time": "2019-06-20T17:44:01.632928Z",
     "start_time": "2019-06-20T17:44:01.356184Z"
    }
   },
   "outputs": [
    {
     "data": {
      "text/html": [
       "<div>\n",
       "<style scoped>\n",
       "    .dataframe tbody tr th:only-of-type {\n",
       "        vertical-align: middle;\n",
       "    }\n",
       "\n",
       "    .dataframe tbody tr th {\n",
       "        vertical-align: top;\n",
       "    }\n",
       "\n",
       "    .dataframe thead th {\n",
       "        text-align: right;\n",
       "    }\n",
       "</style>\n",
       "<table border=\"1\" class=\"dataframe\">\n",
       "  <thead>\n",
       "    <tr style=\"text-align: right;\">\n",
       "      <th></th>\n",
       "      <th>indv</th>\n",
       "      <th>rendition</th>\n",
       "      <th>datetime</th>\n",
       "      <th>wavloc</th>\n",
       "      <th>tgloc</th>\n",
       "      <th>phrase_num</th>\n",
       "      <th>phrase_start</th>\n",
       "      <th>phrase_end</th>\n",
       "      <th>phrase_label</th>\n",
       "    </tr>\n",
       "  </thead>\n",
       "  <tbody>\n",
       "    <tr>\n",
       "      <th>0</th>\n",
       "      <td>bird1</td>\n",
       "      <td>0008</td>\n",
       "      <td>2004-03-06 08:22:00</td>\n",
       "      <td>/mnt/cube/Datasets/canary/FromYarden2018/bird_...</td>\n",
       "      <td>/mnt/cube/Datasets/canary/FromYarden2018/TextG...</td>\n",
       "      <td>0</td>\n",
       "      <td>0.062792</td>\n",
       "      <td>4.417292</td>\n",
       "      <td>1</td>\n",
       "    </tr>\n",
       "    <tr>\n",
       "      <th>1</th>\n",
       "      <td>bird1</td>\n",
       "      <td>0008</td>\n",
       "      <td>2004-03-06 08:22:00</td>\n",
       "      <td>/mnt/cube/Datasets/canary/FromYarden2018/bird_...</td>\n",
       "      <td>/mnt/cube/Datasets/canary/FromYarden2018/TextG...</td>\n",
       "      <td>1</td>\n",
       "      <td>4.438958</td>\n",
       "      <td>4.853333</td>\n",
       "      <td>11</td>\n",
       "    </tr>\n",
       "    <tr>\n",
       "      <th>2</th>\n",
       "      <td>bird1</td>\n",
       "      <td>0008</td>\n",
       "      <td>2004-03-06 08:22:00</td>\n",
       "      <td>/mnt/cube/Datasets/canary/FromYarden2018/bird_...</td>\n",
       "      <td>/mnt/cube/Datasets/canary/FromYarden2018/TextG...</td>\n",
       "      <td>2</td>\n",
       "      <td>4.875000</td>\n",
       "      <td>5.893333</td>\n",
       "      <td>5</td>\n",
       "    </tr>\n",
       "  </tbody>\n",
       "</table>\n",
       "</div>"
      ],
      "text/plain": [
       "    indv rendition            datetime  \\\n",
       "0  bird1      0008 2004-03-06 08:22:00   \n",
       "1  bird1      0008 2004-03-06 08:22:00   \n",
       "2  bird1      0008 2004-03-06 08:22:00   \n",
       "\n",
       "                                              wavloc  \\\n",
       "0  /mnt/cube/Datasets/canary/FromYarden2018/bird_...   \n",
       "1  /mnt/cube/Datasets/canary/FromYarden2018/bird_...   \n",
       "2  /mnt/cube/Datasets/canary/FromYarden2018/bird_...   \n",
       "\n",
       "                                               tgloc phrase_num  phrase_start  \\\n",
       "0  /mnt/cube/Datasets/canary/FromYarden2018/TextG...          0      0.062792   \n",
       "1  /mnt/cube/Datasets/canary/FromYarden2018/TextG...          1      4.438958   \n",
       "2  /mnt/cube/Datasets/canary/FromYarden2018/TextG...          2      4.875000   \n",
       "\n",
       "   phrase_end phrase_label  \n",
       "0    4.417292            1  \n",
       "1    4.853333           11  \n",
       "2    5.893333            5  "
      ]
     },
     "execution_count": 12,
     "metadata": {},
     "output_type": "execute_result"
    }
   ],
   "source": [
    "phrase_df[:3]"
   ]
  },
  {
   "cell_type": "markdown",
   "metadata": {},
   "source": [
    "### Reformat and create JSON"
   ]
  },
  {
   "cell_type": "code",
   "execution_count": 14,
   "metadata": {
    "ExecuteTime": {
     "end_time": "2019-06-20T17:44:01.809520Z",
     "start_time": "2019-06-20T17:44:01.723859Z"
    }
   },
   "outputs": [],
   "source": [
    "save_wav=False # should we generate a new wav file, or just reference the original?"
   ]
  },
  {
   "cell_type": "code",
   "execution_count": 15,
   "metadata": {
    "ExecuteTime": {
     "end_time": "2019-06-20T17:44:55.245263Z",
     "start_time": "2019-06-20T17:44:01.812577Z"
    },
    "scrolled": true
   },
   "outputs": [
    {
     "data": {
      "application/vnd.jupyter.widget-view+json": {
       "model_id": "edb29fd24bb9481bad15ca591565b687",
       "version_major": 2,
       "version_minor": 0
      },
      "text/plain": [
       "HBox(children=(IntProgress(value=0, max=2556), HTML(value='')))"
      ]
     },
     "metadata": {},
     "output_type": "display_data"
    },
    {
     "name": "stderr",
     "output_type": "stream",
     "text": [
      "[Parallel(n_jobs=-1)]: Using backend LokyBackend with 24 concurrent workers.\n",
      "[Parallel(n_jobs=-1)]: Batch computation too fast (0.0454s.) Setting batch_size=8.\n",
      "[Parallel(n_jobs=-1)]: Batch computation too fast (0.0454s.) Setting batch_size=70.\n",
      "[Parallel(n_jobs=-1)]: Done   2 tasks      | elapsed:    1.6s\n",
      "[Parallel(n_jobs=-1)]: Done   3 tasks      | elapsed:    3.9s\n",
      "[Parallel(n_jobs=-1)]: Batch computation too slow (3.9079s.) Setting batch_size=35.\n",
      "[Parallel(n_jobs=-1)]: Done 258 tasks      | elapsed:    8.6s\n",
      "[Parallel(n_jobs=-1)]: Batch computation too slow (3.0347s.) Setting batch_size=17.\n",
      "[Parallel(n_jobs=-1)]: Done 433 tasks      | elapsed:   10.9s\n",
      "[Parallel(n_jobs=-1)]: Done 552 tasks      | elapsed:   13.6s\n",
      "[Parallel(n_jobs=-1)]: Done 671 tasks      | elapsed:   16.0s\n",
      "[Parallel(n_jobs=-1)]: Done 824 tasks      | elapsed:   19.2s\n",
      "[Parallel(n_jobs=-1)]: Done 977 tasks      | elapsed:   22.5s\n",
      "[Parallel(n_jobs=-1)]: Done 1164 tasks      | elapsed:   26.6s\n",
      "[Parallel(n_jobs=-1)]: Done 1351 tasks      | elapsed:   30.5s\n",
      "[Parallel(n_jobs=-1)]: Done 1572 tasks      | elapsed:   35.2s\n",
      "[Parallel(n_jobs=-1)]: Done 1793 tasks      | elapsed:   39.7s\n",
      "[Parallel(n_jobs=-1)]: Done 2048 tasks      | elapsed:   45.1s\n",
      "[Parallel(n_jobs=-1)]: Done 2303 tasks      | elapsed:   49.8s\n"
     ]
    },
    {
     "name": "stdout",
     "output_type": "stream",
     "text": [
      "\n"
     ]
    },
    {
     "name": "stderr",
     "output_type": "stream",
     "text": [
      "[Parallel(n_jobs=-1)]: Done 2556 out of 2556 | elapsed:   53.3s finished\n"
     ]
    }
   ],
   "source": [
    "with Parallel(n_jobs=-1, verbose=10) as parallel:\n",
    "    parallel(\n",
    "        delayed(gen_wav_json)(wf, phrase_df[phrase_df.wavloc == wf].sort_values(by='phrase_num'), DT_ID, save_wav=save_wav)\n",
    "        for wf in tqdm(phrase_df.wavloc.unique())\n",
    "    );"
   ]
  },
  {
   "cell_type": "code",
   "execution_count": null,
   "metadata": {},
   "outputs": [],
   "source": []
  }
 ],
 "metadata": {
  "kernelspec": {
   "display_name": "Python 3",
   "language": "python",
   "name": "python3"
  },
  "language_info": {
   "codemirror_mode": {
    "name": "ipython",
    "version": 3
   },
   "file_extension": ".py",
   "mimetype": "text/x-python",
   "name": "python",
   "nbconvert_exporter": "python",
   "pygments_lexer": "ipython3",
   "version": "3.6.8"
  }
 },
 "nbformat": 4,
 "nbformat_minor": 2
}
