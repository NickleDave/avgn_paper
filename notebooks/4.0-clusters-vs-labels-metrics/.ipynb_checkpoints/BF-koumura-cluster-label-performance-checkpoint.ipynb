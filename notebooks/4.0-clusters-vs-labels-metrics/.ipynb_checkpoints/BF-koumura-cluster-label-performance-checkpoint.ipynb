{
 "cells": [
  {
   "cell_type": "code",
   "execution_count": 1,
   "metadata": {
    "ExecuteTime": {
     "end_time": "2019-10-19T03:51:55.601127Z",
     "start_time": "2019-10-19T03:51:55.579952Z"
    }
   },
   "outputs": [],
   "source": [
    "%load_ext autoreload\n",
    "%autoreload 2"
   ]
  },
  {
   "cell_type": "code",
   "execution_count": 2,
   "metadata": {
    "ExecuteTime": {
     "end_time": "2019-10-19T03:52:02.482778Z",
     "start_time": "2019-10-19T03:51:55.603007Z"
    }
   },
   "outputs": [
    {
     "name": "stderr",
     "output_type": "stream",
     "text": [
      "/mnt/cube/tsainbur/conda_envs/tpy3/lib/python3.6/site-packages/tqdm/autonotebook/__init__.py:14: TqdmExperimentalWarning: Using `tqdm.autonotebook.tqdm` in notebook mode. Use `tqdm.tqdm` instead to force console mode (e.g. in jupyter console)\n",
      "  \" (e.g. in jupyter console)\", TqdmExperimentalWarning)\n"
     ]
    }
   ],
   "source": [
    "import numpy as np\n",
    "import matplotlib.pyplot as plt\n",
    "%matplotlib inline\n",
    "from tqdm.autonotebook import tqdm\n",
    "from joblib import Parallel, delayed\n",
    "import umap\n",
    "import pandas as pd"
   ]
  },
  {
   "cell_type": "code",
   "execution_count": 3,
   "metadata": {
    "ExecuteTime": {
     "end_time": "2019-10-19T03:52:03.604936Z",
     "start_time": "2019-10-19T03:52:02.487313Z"
    }
   },
   "outputs": [],
   "source": [
    "from avgn.utils.paths import DATA_DIR, most_recent_subdirectory, ensure_dir\n",
    "from avgn.signalprocessing.create_spectrogram_dataset import flatten_spectrograms\n",
    "from avgn.visualization.spectrogram import draw_spec_set\n",
    "from avgn.visualization.quickplots import draw_projection_plots"
   ]
  },
  {
   "cell_type": "markdown",
   "metadata": {},
   "source": [
    "### Collect data"
   ]
  },
  {
   "cell_type": "code",
   "execution_count": 4,
   "metadata": {
    "ExecuteTime": {
     "end_time": "2019-10-19T03:52:03.665467Z",
     "start_time": "2019-10-19T03:52:03.609547Z"
    }
   },
   "outputs": [],
   "source": [
    "DATASET_ID = 'koumura_bengalese_finch'"
   ]
  },
  {
   "cell_type": "code",
   "execution_count": 5,
   "metadata": {
    "ExecuteTime": {
     "end_time": "2019-10-19T03:52:03.766015Z",
     "start_time": "2019-10-19T03:52:03.667916Z"
    }
   },
   "outputs": [],
   "source": [
    "from avgn.visualization.projections import (\n",
    "    scatter_projections,\n",
    "    draw_projection_transitions,\n",
    ")"
   ]
  },
  {
   "cell_type": "code",
   "execution_count": 6,
   "metadata": {
    "ExecuteTime": {
     "end_time": "2019-10-19T03:52:03.856847Z",
     "start_time": "2019-10-19T03:52:03.768089Z"
    }
   },
   "outputs": [
    {
     "data": {
      "text/plain": [
       "PosixPath('/local/home/tsainbur/github_repos/avgn_paper/data/syllable_dfs/koumura_bengalese_finch/bf.pickle')"
      ]
     },
     "execution_count": 6,
     "metadata": {},
     "output_type": "execute_result"
    }
   ],
   "source": [
    "df_loc =  DATA_DIR / 'syllable_dfs' / DATASET_ID / 'bf.pickle'\n",
    "df_loc"
   ]
  },
  {
   "cell_type": "code",
   "execution_count": 7,
   "metadata": {
    "ExecuteTime": {
     "end_time": "2019-10-19T03:52:06.195248Z",
     "start_time": "2019-10-19T03:52:03.860940Z"
    }
   },
   "outputs": [],
   "source": [
    "syllable_df = pd.read_pickle(df_loc)"
   ]
  },
  {
   "cell_type": "code",
   "execution_count": 8,
   "metadata": {
    "ExecuteTime": {
     "end_time": "2019-10-19T03:52:06.339468Z",
     "start_time": "2019-10-19T03:52:06.213580Z"
    }
   },
   "outputs": [
    {
     "data": {
      "text/html": [
       "<div>\n",
       "<style scoped>\n",
       "    .dataframe tbody tr th:only-of-type {\n",
       "        vertical-align: middle;\n",
       "    }\n",
       "\n",
       "    .dataframe tbody tr th {\n",
       "        vertical-align: top;\n",
       "    }\n",
       "\n",
       "    .dataframe thead th {\n",
       "        text-align: right;\n",
       "    }\n",
       "</style>\n",
       "<table border=\"1\" class=\"dataframe\">\n",
       "  <thead>\n",
       "    <tr style=\"text-align: right;\">\n",
       "      <th></th>\n",
       "      <th>start_time</th>\n",
       "      <th>end_time</th>\n",
       "      <th>labels</th>\n",
       "      <th>sequence_num</th>\n",
       "      <th>indv</th>\n",
       "      <th>indvi</th>\n",
       "      <th>key</th>\n",
       "      <th>rate</th>\n",
       "      <th>spectrogram</th>\n",
       "    </tr>\n",
       "  </thead>\n",
       "  <tbody>\n",
       "    <tr>\n",
       "      <th>0</th>\n",
       "      <td>1.158</td>\n",
       "      <td>1.249</td>\n",
       "      <td>0</td>\n",
       "      <td>0</td>\n",
       "      <td>Bird3</td>\n",
       "      <td>0</td>\n",
       "      <td>Bird3_322</td>\n",
       "      <td>32000</td>\n",
       "      <td>[[0, 0, 0, 110, 190, 203, 216, 217, 216, 219, ...</td>\n",
       "    </tr>\n",
       "    <tr>\n",
       "      <th>1</th>\n",
       "      <td>1.323</td>\n",
       "      <td>1.404</td>\n",
       "      <td>0</td>\n",
       "      <td>0</td>\n",
       "      <td>Bird3</td>\n",
       "      <td>0</td>\n",
       "      <td>Bird3_322</td>\n",
       "      <td>32000</td>\n",
       "      <td>[[0, 0, 0, 54, 164, 182, 187, 191, 196, 196, 1...</td>\n",
       "    </tr>\n",
       "    <tr>\n",
       "      <th>2</th>\n",
       "      <td>1.530</td>\n",
       "      <td>1.564</td>\n",
       "      <td>0</td>\n",
       "      <td>0</td>\n",
       "      <td>Bird3</td>\n",
       "      <td>0</td>\n",
       "      <td>Bird3_322</td>\n",
       "      <td>32000</td>\n",
       "      <td>[[0, 0, 0, 0, 0, 106, 100, 181, 209, 202, 196,...</td>\n",
       "    </tr>\n",
       "  </tbody>\n",
       "</table>\n",
       "</div>"
      ],
      "text/plain": [
       "   start_time  end_time labels  sequence_num   indv  indvi        key   rate  \\\n",
       "0       1.158     1.249      0             0  Bird3      0  Bird3_322  32000   \n",
       "1       1.323     1.404      0             0  Bird3      0  Bird3_322  32000   \n",
       "2       1.530     1.564      0             0  Bird3      0  Bird3_322  32000   \n",
       "\n",
       "                                         spectrogram  \n",
       "0  [[0, 0, 0, 110, 190, 203, 216, 217, 216, 219, ...  \n",
       "1  [[0, 0, 0, 54, 164, 182, 187, 191, 196, 196, 1...  \n",
       "2  [[0, 0, 0, 0, 0, 106, 100, 181, 209, 202, 196,...  "
      ]
     },
     "execution_count": 8,
     "metadata": {},
     "output_type": "execute_result"
    }
   ],
   "source": [
    "syllable_df[:3]"
   ]
  },
  {
   "cell_type": "code",
   "execution_count": 9,
   "metadata": {
    "ExecuteTime": {
     "end_time": "2019-10-19T03:52:06.408616Z",
     "start_time": "2019-10-19T03:52:06.341498Z"
    }
   },
   "outputs": [
    {
     "data": {
      "text/plain": [
       "214925"
      ]
     },
     "execution_count": 9,
     "metadata": {},
     "output_type": "execute_result"
    }
   ],
   "source": [
    "len(syllable_df)"
   ]
  },
  {
   "cell_type": "code",
   "execution_count": 10,
   "metadata": {
    "ExecuteTime": {
     "end_time": "2019-10-19T03:52:06.499481Z",
     "start_time": "2019-10-19T03:52:06.412226Z"
    }
   },
   "outputs": [],
   "source": [
    "def norm(x):\n",
    "    return (x - np.min(x)) / (np.max(x) - np.min(x))"
   ]
  },
  {
   "cell_type": "markdown",
   "metadata": {},
   "source": [
    "### cluster"
   ]
  },
  {
   "cell_type": "code",
   "execution_count": 11,
   "metadata": {
    "ExecuteTime": {
     "end_time": "2019-10-19T03:52:06.590977Z",
     "start_time": "2019-10-19T03:52:06.501706Z"
    }
   },
   "outputs": [],
   "source": [
    "from avgn.visualization.projections import scatter_spec\n",
    "from avgn.utils.general import save_fig\n",
    "from avgn.utils.paths import FIGURE_DIR, ensure_dir"
   ]
  },
  {
   "cell_type": "code",
   "execution_count": 12,
   "metadata": {
    "ExecuteTime": {
     "end_time": "2019-10-19T03:52:07.302682Z",
     "start_time": "2019-10-19T03:52:06.593333Z"
    }
   },
   "outputs": [],
   "source": [
    "from cuml.manifold.umap import UMAP as cumlUMAP"
   ]
  },
  {
   "cell_type": "code",
   "execution_count": 13,
   "metadata": {
    "ExecuteTime": {
     "end_time": "2019-10-19T03:52:07.401488Z",
     "start_time": "2019-10-19T03:52:07.305512Z"
    }
   },
   "outputs": [],
   "source": [
    "import hdbscan"
   ]
  },
  {
   "cell_type": "code",
   "execution_count": null,
   "metadata": {
    "ExecuteTime": {
     "end_time": "2019-10-19T03:50:33.774657Z",
     "start_time": "2019-10-19T03:50:33.694988Z"
    }
   },
   "outputs": [],
   "source": []
  },
  {
   "cell_type": "code",
   "execution_count": null,
   "metadata": {
    "ExecuteTime": {
     "end_time": "2019-10-19T03:50:51.519758Z",
     "start_time": "2019-10-19T03:50:50.600636Z"
    }
   },
   "outputs": [],
   "source": []
  },
  {
   "cell_type": "code",
   "execution_count": 19,
   "metadata": {
    "ExecuteTime": {
     "end_time": "2019-10-19T04:06:50.292539Z",
     "start_time": "2019-10-19T04:06:49.702927Z"
    }
   },
   "outputs": [],
   "source": [
    "from avgn.visualization.projections import draw_projection_transitions"
   ]
  },
  {
   "cell_type": "code",
   "execution_count": null,
   "metadata": {
    "ExecuteTime": {
     "start_time": "2019-10-19T04:07:03.188Z"
    },
    "scrolled": false
   },
   "outputs": [
    {
     "data": {
      "application/vnd.jupyter.widget-view+json": {
       "model_id": "f7a689795e8047ee9cb17ece70902423",
       "version_major": 2,
       "version_minor": 0
      },
      "text/plain": [
       "HBox(children=(IntProgress(value=0, max=11), HTML(value='')))"
      ]
     },
     "metadata": {},
     "output_type": "display_data"
    },
    {
     "name": "stdout",
     "output_type": "stream",
     "text": [
      "Bird5 20525\n"
     ]
    }
   ],
   "source": [
    "indv_dfs = []\n",
    "for indv in tqdm(syllable_df.indv.unique()):\n",
    "    if indv != 'Bird5': continue\n",
    "    indv_df = syllable_df[syllable_df.indv == indv]\n",
    "    indv_df = indv_df.sort_values(by=[\"key\", \"start_time\"])\n",
    "    print(indv, len(indv_df))\n",
    "    specs = list(indv_df.spectrogram.values)\n",
    "    \n",
    "    # sequencing\n",
    "    indv_df[\"syllables_sequence_id\"] = None\n",
    "    indv_df[\"syllables_sequence_pos\"] = None\n",
    "    for ki, key in enumerate(indv_df.key.unique()):\n",
    "        indv_df.loc[indv_df.key == key, \"syllables_sequence_id\"] = ki\n",
    "        indv_df.loc[indv_df.key == key, \"syllables_sequence_pos\"] = np.arange(\n",
    "            np.sum(indv_df.key == key)\n",
    "        )\n",
    "        \n",
    "    # umap\n",
    "    specs_flattened = flatten_spectrograms(specs)\n",
    "    cuml_umap = cumlUMAP(min_dist=0.5)\n",
    "    z = list(cuml_umap.fit_transform(specs_flattened))\n",
    "    indv_df[\"umap\"] = z\n",
    "\n",
    "    #cluster\n",
    "    clusterer = hdbscan.HDBSCAN(\n",
    "        min_cluster_size=int(len(z) * 0.001), # the smallest size we would expect a cluster to be\n",
    "        min_samples=1, # larger values = more conservative clustering\n",
    "    )\n",
    "    clusterer.fit(z);\n",
    "    indv_df['hdbscan_labels'] = clusterer.labels_\n",
    "\n",
    "    indv_dfs.append(indv_df)\n",
    "    fig, ax = plt.subplots(ncols=3, figsize=(30,10))\n",
    "    \n",
    "    draw_projection_transitions(\n",
    "        projections=np.array(list(indv_df['umap'].values)),\n",
    "        sequence_ids=indv_df[\"syllables_sequence_id\"],\n",
    "        sequence_pos=indv_df[\"syllables_sequence_pos\"],\n",
    "        ax=ax[2],\n",
    "    )\n",
    "\n",
    "    for i, lab in enumerate([indv_df.labels.values, indv_df.hdbscan_labels.values]):\n",
    "    \n",
    "        scatter_spec(\n",
    "            np.vstack(z),\n",
    "            specs,\n",
    "            column_size=15,\n",
    "            #x_range = [-5.5,7],\n",
    "            #y_range = [-10,10],\n",
    "            pal_color=\"hls\",\n",
    "            color_points=False,\n",
    "            enlarge_points=20,\n",
    "            figsize=(10, 10),\n",
    "            scatter_kwargs = {\n",
    "                'labels': list(lab),\n",
    "                'alpha':0.25,\n",
    "                's': 1,\n",
    "                'show_legend': False\n",
    "            },\n",
    "            matshow_kwargs = {\n",
    "                'cmap': plt.cm.Greys\n",
    "            },\n",
    "            line_kwargs = {\n",
    "                'lw':1,\n",
    "                'ls':\"solid\",\n",
    "                'alpha':0.25,\n",
    "            },\n",
    "            draw_lines=True,\n",
    "            ax= ax[i]\n",
    "        );\n",
    "    \n",
    "    \n",
    "    plt.show()\n",
    "\n",
    "    #break"
   ]
  }
 ],
 "metadata": {
  "kernelspec": {
   "display_name": "Python 3",
   "language": "python",
   "name": "python3"
  },
  "language_info": {
   "codemirror_mode": {
    "name": "ipython",
    "version": 3
   },
   "file_extension": ".py",
   "mimetype": "text/x-python",
   "name": "python",
   "nbconvert_exporter": "python",
   "pygments_lexer": "ipython3",
   "version": "3.6.7"
  }
 },
 "nbformat": 4,
 "nbformat_minor": 2
}
