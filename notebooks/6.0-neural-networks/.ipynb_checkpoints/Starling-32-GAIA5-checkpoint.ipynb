{
 "cells": [
  {
   "cell_type": "code",
   "execution_count": 1,
   "metadata": {
    "ExecuteTime": {
     "end_time": "2019-10-27T07:21:57.689534Z",
     "start_time": "2019-10-27T07:21:57.661638Z"
    }
   },
   "outputs": [],
   "source": [
    "%load_ext autoreload\n",
    "%autoreload 2"
   ]
  },
  {
   "cell_type": "code",
   "execution_count": 2,
   "metadata": {
    "ExecuteTime": {
     "end_time": "2019-10-27T07:21:57.748297Z",
     "start_time": "2019-10-27T07:21:57.691254Z"
    }
   },
   "outputs": [
    {
     "name": "stdout",
     "output_type": "stream",
     "text": [
      "env: CUDA_DEVICE_ORDER=PCI_BUS_ID\n",
      "env: CUDA_VISIBLE_DEVICES=2\n"
     ]
    }
   ],
   "source": [
    "%env CUDA_DEVICE_ORDER=PCI_BUS_ID\n",
    "%env CUDA_VISIBLE_DEVICES=2"
   ]
  },
  {
   "cell_type": "code",
   "execution_count": 3,
   "metadata": {
    "ExecuteTime": {
     "end_time": "2019-10-27T07:22:09.894671Z",
     "start_time": "2019-10-27T07:21:57.751971Z"
    }
   },
   "outputs": [
    {
     "name": "stderr",
     "output_type": "stream",
     "text": [
      "/mnt/cube/tsainbur/conda_envs/tpy3/lib/python3.6/site-packages/tqdm/autonotebook/__init__.py:14: TqdmExperimentalWarning: Using `tqdm.autonotebook.tqdm` in notebook mode. Use `tqdm.tqdm` instead to force console mode (e.g. in jupyter console)\n",
      "  \" (e.g. in jupyter console)\", TqdmExperimentalWarning)\n"
     ]
    }
   ],
   "source": [
    "from avgn.utils.paths import DATA_DIR, most_recent_subdirectory, ensure_dir\n",
    "from avgn.tensorflow.data import _parse_function"
   ]
  },
  {
   "cell_type": "code",
   "execution_count": 4,
   "metadata": {
    "ExecuteTime": {
     "end_time": "2019-10-27T07:22:10.763453Z",
     "start_time": "2019-10-27T07:22:09.899278Z"
    }
   },
   "outputs": [],
   "source": [
    "import tensorflow as tf\n",
    "import numpy as np\n",
    "import matplotlib.pyplot as plt\n",
    "from tqdm.autonotebook import tqdm\n",
    "%matplotlib inline\n",
    "from IPython import display\n",
    "import pandas as pd\n",
    "\n",
    "# the nightly build of tensorflow_probability is required as of the time of writing this \n",
    "import tensorflow_probability as tfp\n",
    "ds = tfp.distributions"
   ]
  },
  {
   "cell_type": "code",
   "execution_count": 5,
   "metadata": {
    "ExecuteTime": {
     "end_time": "2019-10-27T07:22:10.831490Z",
     "start_time": "2019-10-27T07:22:10.765586Z"
    }
   },
   "outputs": [
    {
     "name": "stdout",
     "output_type": "stream",
     "text": [
      "2.0.0-beta1 0.7.0-dev20190510 /mnt/cube/tsainbur/conda_envs/tpy3/lib/python3.6/site-packages/tensorflow/__init__.py\n"
     ]
    }
   ],
   "source": [
    "print(tf.__version__, tfp.__version__, tf.__file__)"
   ]
  },
  {
   "cell_type": "code",
   "execution_count": 6,
   "metadata": {
    "ExecuteTime": {
     "end_time": "2019-10-27T07:22:10.972259Z",
     "start_time": "2019-10-27T07:22:10.833673Z"
    }
   },
   "outputs": [],
   "source": [
    "TRAIN_SIZE=482608\n",
    "BATCH_SIZE=256\n",
    "TEST_SIZE=10000\n",
    "DIMS = (32, 32, 1)\n",
    "N_TRAIN_BATCHES =int((TRAIN_SIZE-TEST_SIZE)/BATCH_SIZE)\n",
    "N_TEST_BATCHES = int(TEST_SIZE/BATCH_SIZE)\n",
    "TRAIN_BUF = 1000\n",
    "TEST_BUF = 1000"
   ]
  },
  {
   "cell_type": "code",
   "execution_count": 7,
   "metadata": {
    "ExecuteTime": {
     "end_time": "2019-10-27T07:22:11.055475Z",
     "start_time": "2019-10-27T07:22:10.974087Z"
    }
   },
   "outputs": [],
   "source": [
    "network_type = 'GAIA'"
   ]
  },
  {
   "cell_type": "code",
   "execution_count": 8,
   "metadata": {
    "ExecuteTime": {
     "end_time": "2019-10-27T07:22:11.138721Z",
     "start_time": "2019-10-27T07:22:11.057364Z"
    }
   },
   "outputs": [],
   "source": [
    "DATASET_ID = 'european_starling_gentner_segmented'"
   ]
  },
  {
   "cell_type": "code",
   "execution_count": 9,
   "metadata": {
    "ExecuteTime": {
     "end_time": "2019-10-27T07:22:11.230464Z",
     "start_time": "2019-10-27T07:22:11.140803Z"
    }
   },
   "outputs": [],
   "source": [
    "record_loc = DATA_DIR / 'tfrecords' / \"starling_32.tfrecords\""
   ]
  },
  {
   "cell_type": "code",
   "execution_count": 10,
   "metadata": {
    "ExecuteTime": {
     "end_time": "2019-10-27T07:22:12.122364Z",
     "start_time": "2019-10-27T07:22:11.232648Z"
    }
   },
   "outputs": [],
   "source": [
    "# read the dataset\n",
    "raw_dataset = tf.data.TFRecordDataset([record_loc.as_posix()])"
   ]
  },
  {
   "cell_type": "code",
   "execution_count": 11,
   "metadata": {
    "ExecuteTime": {
     "end_time": "2019-10-27T07:22:12.190044Z",
     "start_time": "2019-10-27T07:22:12.124381Z"
    }
   },
   "outputs": [],
   "source": [
    "data_types = {\n",
    "    \"spectrogram\": tf.uint8,\n",
    "    \"index\": tf.int64,\n",
    "    \"indv\": tf.string,\n",
    "}"
   ]
  },
  {
   "cell_type": "code",
   "execution_count": 12,
   "metadata": {
    "ExecuteTime": {
     "end_time": "2019-10-27T07:22:12.319049Z",
     "start_time": "2019-10-27T07:22:12.192069Z"
    }
   },
   "outputs": [],
   "source": [
    "# parse each data type to the raw dataset\n",
    "dataset = raw_dataset.map(lambda x: _parse_function(x, data_types=data_types))"
   ]
  },
  {
   "cell_type": "code",
   "execution_count": 13,
   "metadata": {
    "ExecuteTime": {
     "end_time": "2019-10-27T07:22:12.399585Z",
     "start_time": "2019-10-27T07:22:12.321517Z"
    }
   },
   "outputs": [],
   "source": [
    "spec, index, indv  = next(iter(dataset))"
   ]
  },
  {
   "cell_type": "code",
   "execution_count": 14,
   "metadata": {
    "ExecuteTime": {
     "end_time": "2019-10-27T07:22:12.821926Z",
     "start_time": "2019-10-27T07:22:12.401560Z"
    }
   },
   "outputs": [
    {
     "data": {
      "text/plain": [
       "<matplotlib.image.AxesImage at 0x7f72e03ea518>"
      ]
     },
     "execution_count": 14,
     "metadata": {},
     "output_type": "execute_result"
    },
    {
     "data": {
      "image/png": "[encoded data removed]",
      "text/plain": [
       "<Figure size 288x288 with 1 Axes>"
      ]
     },
     "metadata": {
      "needs_background": "light"
     },
     "output_type": "display_data"
    }
   ],
   "source": [
    "plt.matshow(spec.numpy().reshape(DIMS).squeeze())"
   ]
  },
  {
   "cell_type": "code",
   "execution_count": 15,
   "metadata": {
    "ExecuteTime": {
     "end_time": "2019-10-27T07:22:12.892220Z",
     "start_time": "2019-10-27T07:22:12.823841Z"
    }
   },
   "outputs": [],
   "source": [
    "test_dataset = dataset.take(TEST_SIZE).shuffle(TEST_BUF).batch(BATCH_SIZE)\n",
    "train_dataset = dataset.skip(TEST_SIZE).take(TRAIN_SIZE-TEST_SIZE).shuffle(TEST_BUF).batch(BATCH_SIZE)"
   ]
  },
  {
   "cell_type": "code",
   "execution_count": 16,
   "metadata": {
    "ExecuteTime": {
     "end_time": "2019-10-27T07:22:13.043793Z",
     "start_time": "2019-10-27T07:22:12.894293Z"
    }
   },
   "outputs": [],
   "source": [
    "N_Z = 128\n",
    "\n",
    "def unet_convblock_down(\n",
    "    _input,\n",
    "    channels=16,\n",
    "    kernel=(3, 3),\n",
    "    activation=tf.nn.leaky_relu,\n",
    "    pool_size=(2, 2),\n",
    "    kernel_initializer=\"he_normal\",\n",
    "):\n",
    "    \"\"\" An upsampling convolutional block for a UNET\n",
    "    \"\"\"\n",
    "    conv = tf.keras.layers.Conv2D(\n",
    "        channels,\n",
    "        kernel,\n",
    "        activation=activation,\n",
    "        padding=\"same\",\n",
    "        kernel_initializer=kernel_initializer,\n",
    "    )(_input)\n",
    "    conv = tf.keras.layers.Conv2D(\n",
    "        channels,\n",
    "        kernel,\n",
    "        activation=activation,\n",
    "        padding=\"same\",\n",
    "        kernel_initializer=kernel_initializer,\n",
    "    )(conv)\n",
    "    pool = tf.keras.layers.MaxPooling2D(pool_size=pool_size)(conv)\n",
    "    return conv, pool\n",
    "\n",
    "\n",
    "def unet_convblock_up(\n",
    "    last_conv,\n",
    "    cross_conv,\n",
    "    channels=16,\n",
    "    kernel=(3, 3),\n",
    "    activation=tf.nn.leaky_relu,\n",
    "    pool_size=(2, 2),\n",
    "    kernel_initializer=\"he_normal\",\n",
    "):\n",
    "    \"\"\" A downsampling convolutional block for a UNET\n",
    "    \"\"\"\n",
    "\n",
    "    up_conv = tf.keras.layers.UpSampling2D(size=(2, 2))(last_conv)\n",
    "    merge = tf.keras.layers.concatenate([up_conv, cross_conv], axis=3)\n",
    "    conv = tf.keras.layers.Conv2D(\n",
    "        channels,\n",
    "        kernel,\n",
    "        activation=activation,\n",
    "        padding=\"same\",\n",
    "        kernel_initializer=kernel_initializer,\n",
    "    )(merge)\n",
    "    conv = tf.keras.layers.Conv2D(\n",
    "        channels,\n",
    "        kernel,\n",
    "        activation=activation,\n",
    "        padding=\"same\",\n",
    "        kernel_initializer=kernel_initializer,\n",
    "    )(conv)\n",
    "    return conv\n",
    "\n",
    "\n",
    "def unet_canary():\n",
    "    \"\"\" the architecture for a UNET specific to MNIST\n",
    "    \"\"\"\n",
    "    inputs = tf.keras.layers.Input(shape=DIMS)\n",
    "    up_1, pool_1 = unet_convblock_down(inputs, channels=16)\n",
    "    up_2, pool_2 = unet_convblock_down(pool_1, channels=32)\n",
    "    up_3, pool_3 = unet_convblock_down(pool_2, channels=64)\n",
    "    conv_middle = tf.keras.layers.Conv2D(\n",
    "        128, (3, 3), activation=tf.nn.leaky_relu, kernel_initializer=\"he_normal\", padding=\"same\"\n",
    "    )(pool_3)\n",
    "    conv_middle = tf.keras.layers.Conv2D(\n",
    "        128, (3, 3), activation=tf.nn.leaky_relu, kernel_initializer=\"he_normal\", padding=\"same\"\n",
    "    )(conv_middle)\n",
    "    down_3 = unet_convblock_up(conv_middle, up_3, channels=64)\n",
    "    down_2 = unet_convblock_up(down_3, up_2, channels=32)\n",
    "    down_1 = unet_convblock_up(down_2, up_1, channels=16)\n",
    "    outputs = tf.keras.layers.Conv2D(1, (1, 1), activation=\"tanh\")(down_1)\n",
    "    return inputs, outputs\n",
    "\n",
    "\n",
    "encoder = [\n",
    "    tf.keras.layers.InputLayer(input_shape=DIMS),\n",
    "    tf.keras.layers.Conv2D(\n",
    "        filters=32, kernel_size=3, strides=(2, 2), activation=tf.nn.leaky_relu\n",
    "    ),\n",
    "    tf.keras.layers.Conv2D(\n",
    "        filters=64, kernel_size=3, strides=(2, 2), activation=tf.nn.leaky_relu\n",
    "    ),\n",
    "    tf.keras.layers.Conv2D(\n",
    "        filters=128, kernel_size=3, strides=(2, 2), activation=tf.nn.leaky_relu\n",
    "    ),\n",
    "    tf.keras.layers.Flatten(),\n",
    "    tf.keras.layers.Dense(units=N_Z),\n",
    "]\n",
    "\n",
    "decoder = [\n",
    "    tf.keras.layers.Dense(units=4 * 4 * 256, activation=tf.nn.leaky_relu),\n",
    "    tf.keras.layers.Reshape(target_shape=(4, 4, 256)),\n",
    "    \n",
    "    tf.keras.layers.Conv2DTranspose(\n",
    "        filters=128, kernel_size=3, strides=(2, 2), padding=\"SAME\", activation=tf.nn.leaky_relu\n",
    "    ),\n",
    "    tf.keras.layers.Conv2DTranspose(\n",
    "        filters=64, kernel_size=3, strides=(2, 2), padding=\"SAME\", activation=tf.nn.leaky_relu\n",
    "    ),\n",
    "    tf.keras.layers.Conv2DTranspose(\n",
    "        filters=32, kernel_size=3, strides=(2, 2), padding=\"SAME\", activation=tf.nn.leaky_relu\n",
    "    ),\n",
    "    tf.keras.layers.Conv2DTranspose(\n",
    "        filters=1, kernel_size=3, strides=(1, 1), padding=\"SAME\", activation=tf.nn.leaky_relu\n",
    "    ),\n",
    "]"
   ]
  },
  {
   "cell_type": "code",
   "execution_count": 17,
   "metadata": {
    "ExecuteTime": {
     "end_time": "2019-10-27T07:22:13.133018Z",
     "start_time": "2019-10-27T07:22:13.046318Z"
    }
   },
   "outputs": [],
   "source": [
    "from avgn.tensorflow.GAIA5 import GAIA, plot_reconstruction"
   ]
  },
  {
   "cell_type": "code",
   "execution_count": 18,
   "metadata": {
    "ExecuteTime": {
     "end_time": "2019-10-27T07:22:13.262398Z",
     "start_time": "2019-10-27T07:22:13.136001Z"
    }
   },
   "outputs": [],
   "source": [
    "from tensorflow_probability.python.distributions import Chi2"
   ]
  },
  {
   "cell_type": "code",
   "execution_count": 19,
   "metadata": {
    "ExecuteTime": {
     "end_time": "2019-10-27T07:22:14.505040Z",
     "start_time": "2019-10-27T07:22:13.264527Z"
    }
   },
   "outputs": [],
   "source": [
    "# the unet function \n",
    "gen_optimizer = tf.keras.optimizers.Adam(1e-3, beta_1=0.5)\n",
    "disc_optimizer = tf.keras.optimizers.RMSprop(1e-4)\n",
    "    \n",
    "# model\n",
    "model = GAIA(\n",
    "    enc = encoder,\n",
    "    dec = decoder,\n",
    "    unet_function = unet_canary,\n",
    "    gen_optimizer=gen_optimizer,\n",
    "    disc_optimizer = disc_optimizer,\n",
    "    chsq = Chi2(df=1 / BATCH_SIZE),\n",
    "    d_prop_xg = 0.5,\n",
    "    g_prop_interp = 0.9\n",
    ")"
   ]
  },
  {
   "cell_type": "code",
   "execution_count": 20,
   "metadata": {
    "ExecuteTime": {
     "end_time": "2019-10-27T07:22:14.665810Z",
     "start_time": "2019-10-27T07:22:14.507229Z"
    }
   },
   "outputs": [],
   "source": [
    "# exampled data for plotting results\n",
    "example_data = next(iter(test_dataset))\n",
    "example_data = (\n",
    "        tf.cast(tf.reshape(example_data[0], [BATCH_SIZE] + list(DIMS)), tf.float32)\n",
    "        / 255\n",
    ")"
   ]
  },
  {
   "cell_type": "code",
   "execution_count": 21,
   "metadata": {
    "ExecuteTime": {
     "end_time": "2019-10-27T07:22:19.232957Z",
     "start_time": "2019-10-27T07:22:14.668135Z"
    }
   },
   "outputs": [],
   "source": [
    "model.compute_loss(example_data);"
   ]
  },
  {
   "cell_type": "code",
   "execution_count": 22,
   "metadata": {
    "ExecuteTime": {
     "end_time": "2019-10-27T07:22:22.321968Z",
     "start_time": "2019-10-27T07:22:19.236857Z"
    },
    "scrolled": false
   },
   "outputs": [
    {
     "data": {
      "image/png": "[encoded data removed]",
      "text/plain": [
       "<Figure size 1296x1080 with 30 Axes>"
      ]
     },
     "metadata": {
      "needs_background": "light"
     },
     "output_type": "display_data"
    }
   ],
   "source": [
    "plot_reconstruction(model, example_data)"
   ]
  },
  {
   "cell_type": "code",
   "execution_count": 23,
   "metadata": {
    "ExecuteTime": {
     "end_time": "2019-10-27T07:22:22.391304Z",
     "start_time": "2019-10-27T07:22:22.323999Z"
    }
   },
   "outputs": [],
   "source": [
    "def plot_losses(losses):\n",
    "    cols = list(losses.columns)\n",
    "    fig, axs = plt.subplots(ncols = len(cols), figsize= (len(cols)*4, 4))\n",
    "    for ci, col in enumerate(cols):\n",
    "        if len(cols) == 1:\n",
    "            ax = axs\n",
    "        else:\n",
    "            ax = axs.flatten()[ci]\n",
    "        ax.plot(losses[col].values)\n",
    "        ax.set_title(col)\n",
    "    plt.show()"
   ]
  },
  {
   "cell_type": "code",
   "execution_count": 24,
   "metadata": {
    "ExecuteTime": {
     "end_time": "2019-10-27T07:22:22.487931Z",
     "start_time": "2019-10-27T07:22:22.393124Z"
    }
   },
   "outputs": [],
   "source": [
    "# a pandas dataframe to save the loss information to\n",
    "losses = pd.DataFrame(\n",
    "    columns=[\n",
    "        \"X_D_G_X_loss\",\n",
    "        \"X_D_G_Zi_loss\",\n",
    "        \"X_G_loss\",\n",
    "        \"X_D_X_loss\",\n",
    "        \"X_D_X_G_X_loss\",\n",
    "        \"X_G_X_loss\",\n",
    "        \"G_loss\",\n",
    "        \"D_loss\",\n",
    "    ]\n",
    ")"
   ]
  },
  {
   "cell_type": "code",
   "execution_count": 25,
   "metadata": {
    "ExecuteTime": {
     "end_time": "2019-10-27T07:22:22.571482Z",
     "start_time": "2019-10-27T07:22:22.489869Z"
    }
   },
   "outputs": [],
   "source": [
    "N_TRAIN_BATCHES = 100"
   ]
  },
  {
   "cell_type": "code",
   "execution_count": 26,
   "metadata": {
    "ExecuteTime": {
     "end_time": "2019-10-27T07:22:22.692448Z",
     "start_time": "2019-10-27T07:22:22.573319Z"
    }
   },
   "outputs": [
    {
     "data": {
      "text/plain": [
       "(<tf.Tensor: id=3154, shape=(), dtype=float32, numpy=0.032922152>,\n",
       " <tf.Tensor: id=3155, shape=(), dtype=float32, numpy=8.864015e-08>,\n",
       " <tf.Tensor: id=3156, shape=(), dtype=float32, numpy=0.01646112>,\n",
       " <tf.Tensor: id=3157, shape=(), dtype=float32, numpy=0.097597264>,\n",
       " <tf.Tensor: id=3158, shape=(), dtype=float32, numpy=1.02893836e-07>,\n",
       " <tf.Tensor: id=3159, shape=(), dtype=float32, numpy=0.032862525>,\n",
       " <tf.Tensor: id=3160, shape=(), dtype=float32, numpy=0.033946387>,\n",
       " <tf.Tensor: id=3161, shape=(), dtype=float32, numpy=0.13051938>)"
      ]
     },
     "execution_count": 26,
     "metadata": {},
     "output_type": "execute_result"
    }
   ],
   "source": [
    "model.compute_loss(example_data)"
   ]
  },
  {
   "cell_type": "code",
   "execution_count": 27,
   "metadata": {
    "ExecuteTime": {
     "end_time": "2019-10-27T07:49:03.356332Z",
     "start_time": "2019-10-27T07:22:22.694296Z"
    }
   },
   "outputs": [
    {
     "data": {
      "image/png": "[encoded data removed]",
      "text/plain": [
       "<Figure size 864x720 with 30 Axes>"
      ]
     },
     "metadata": {
      "needs_background": "light"
     },
     "output_type": "display_data"
    },
    {
     "data": {
      "image/png": "[encoded data removed]",
      "text/plain": [
       "<Figure size 2304x288 with 8 Axes>"
      ]
     },
     "metadata": {
      "needs_background": "light"
     },
     "output_type": "display_data"
    }
   ],
   "source": [
    "n_epochs = 1000\n",
    "for epoch in range(n_epochs):\n",
    "    # train\n",
    "    for batch, train_x in tqdm(\n",
    "        zip(range(N_TRAIN_BATCHES), train_dataset), total=N_TRAIN_BATCHES\n",
    "    ):\n",
    "        #print(train_x[-1].numpy()[:4])\n",
    "        x = tf.cast(tf.reshape(train_x[0], [BATCH_SIZE] + list(DIMS)), tf.float32) / 255\n",
    "        model.train_net(x)\n",
    "    # test on holdout\n",
    "    loss = []\n",
    "    for batch, test_x in tqdm(\n",
    "        zip(range(N_TEST_BATCHES), test_dataset), total=N_TEST_BATCHES\n",
    "    ):\n",
    "        x = tf.cast(tf.reshape(test_x[0], [BATCH_SIZE] + list(DIMS)), tf.float32) / 255\n",
    "        loss.append(model.compute_loss(x))\n",
    "    losses.loc[len(losses)] = np.mean(loss, axis=0)\n",
    "    # plot results\n",
    "    display.clear_output()\n",
    "    plot_reconstruction(model, example_data, zm = 2)\n",
    "    # \n",
    "    plot_losses(losses)"
   ]
  },
  {
   "cell_type": "code",
   "execution_count": 28,
   "metadata": {
    "ExecuteTime": {
     "end_time": "2019-10-27T07:49:08.671801Z",
     "start_time": "2019-10-27T07:49:03.358377Z"
    }
   },
   "outputs": [],
   "source": [
    "z, xg, zi, xi, d_xi, d_x, d_xg = model.network_pass(example_data)"
   ]
  },
  {
   "cell_type": "code",
   "execution_count": 29,
   "metadata": {
    "ExecuteTime": {
     "end_time": "2019-10-27T07:49:08.752397Z",
     "start_time": "2019-10-27T07:49:08.674654Z"
    }
   },
   "outputs": [
    {
     "data": {
      "text/plain": [
       "0.006295"
      ]
     },
     "execution_count": 29,
     "metadata": {},
     "output_type": "execute_result"
    }
   ],
   "source": [
    "0.006295"
   ]
  },
  {
   "cell_type": "code",
   "execution_count": 30,
   "metadata": {
    "ExecuteTime": {
     "end_time": "2019-10-27T07:49:11.949669Z",
     "start_time": "2019-10-27T07:49:08.754484Z"
    }
   },
   "outputs": [
    {
     "data": {
      "image/png": "[encoded data removed]",
      "text/plain": [
       "<Figure size 864x720 with 30 Axes>"
      ]
     },
     "metadata": {
      "needs_background": "light"
     },
     "output_type": "display_data"
    },
    {
     "data": {
      "image/png": "[encoded data removed]",
      "text/plain": [
       "<Figure size 2304x288 with 8 Axes>"
      ]
     },
     "metadata": {
      "needs_background": "light"
     },
     "output_type": "display_data"
    }
   ],
   "source": [
    "plot_reconstruction(model, example_data, zm = 2)\n",
    "# \n",
    "plot_losses(losses)"
   ]
  },
  {
   "cell_type": "code",
   "execution_count": 31,
   "metadata": {
    "ExecuteTime": {
     "end_time": "2019-10-27T07:49:12.243045Z",
     "start_time": "2019-10-27T07:49:11.951820Z"
    }
   },
   "outputs": [
    {
     "data": {
      "text/html": [
       "<div>\n",
       "<style scoped>\n",
       "    .dataframe tbody tr th:only-of-type {\n",
       "        vertical-align: middle;\n",
       "    }\n",
       "\n",
       "    .dataframe tbody tr th {\n",
       "        vertical-align: top;\n",
       "    }\n",
       "\n",
       "    .dataframe thead th {\n",
       "        text-align: right;\n",
       "    }\n",
       "</style>\n",
       "<table border=\"1\" class=\"dataframe\">\n",
       "  <thead>\n",
       "    <tr style=\"text-align: right;\">\n",
       "      <th></th>\n",
       "      <th>X_D_G_X_loss</th>\n",
       "      <th>X_D_G_Zi_loss</th>\n",
       "      <th>X_G_loss</th>\n",
       "      <th>X_D_X_loss</th>\n",
       "      <th>X_D_X_G_X_loss</th>\n",
       "      <th>X_G_X_loss</th>\n",
       "      <th>G_loss</th>\n",
       "      <th>D_loss</th>\n",
       "    </tr>\n",
       "  </thead>\n",
       "  <tbody>\n",
       "    <tr>\n",
       "      <th>0</th>\n",
       "      <td>0.009108</td>\n",
       "      <td>0.000401</td>\n",
       "      <td>0.004755</td>\n",
       "      <td>0.002366</td>\n",
       "      <td>0.000455</td>\n",
       "      <td>0.008619</td>\n",
       "      <td>0.008694</td>\n",
       "      <td>0.011274</td>\n",
       "    </tr>\n",
       "    <tr>\n",
       "      <th>1</th>\n",
       "      <td>0.006267</td>\n",
       "      <td>0.000249</td>\n",
       "      <td>0.003258</td>\n",
       "      <td>0.000972</td>\n",
       "      <td>0.000291</td>\n",
       "      <td>0.006003</td>\n",
       "      <td>0.006039</td>\n",
       "      <td>0.007115</td>\n",
       "    </tr>\n",
       "    <tr>\n",
       "      <th>2</th>\n",
       "      <td>0.005444</td>\n",
       "      <td>0.000399</td>\n",
       "      <td>0.002922</td>\n",
       "      <td>0.000707</td>\n",
       "      <td>0.000391</td>\n",
       "      <td>0.004746</td>\n",
       "      <td>0.004771</td>\n",
       "      <td>0.005951</td>\n",
       "    </tr>\n",
       "    <tr>\n",
       "      <th>3</th>\n",
       "      <td>0.004224</td>\n",
       "      <td>0.000380</td>\n",
       "      <td>0.002302</td>\n",
       "      <td>0.000543</td>\n",
       "      <td>0.000336</td>\n",
       "      <td>0.003703</td>\n",
       "      <td>0.003718</td>\n",
       "      <td>0.004577</td>\n",
       "    </tr>\n",
       "    <tr>\n",
       "      <th>4</th>\n",
       "      <td>0.003141</td>\n",
       "      <td>0.000175</td>\n",
       "      <td>0.001658</td>\n",
       "      <td>0.000398</td>\n",
       "      <td>0.000187</td>\n",
       "      <td>0.003021</td>\n",
       "      <td>0.003030</td>\n",
       "      <td>0.003452</td>\n",
       "    </tr>\n",
       "    <tr>\n",
       "      <th>5</th>\n",
       "      <td>0.002776</td>\n",
       "      <td>0.000309</td>\n",
       "      <td>0.001543</td>\n",
       "      <td>0.000345</td>\n",
       "      <td>0.000193</td>\n",
       "      <td>0.002647</td>\n",
       "      <td>0.002654</td>\n",
       "      <td>0.002967</td>\n",
       "    </tr>\n",
       "    <tr>\n",
       "      <th>6</th>\n",
       "      <td>0.002547</td>\n",
       "      <td>0.000260</td>\n",
       "      <td>0.001404</td>\n",
       "      <td>0.000316</td>\n",
       "      <td>0.000148</td>\n",
       "      <td>0.002434</td>\n",
       "      <td>0.002440</td>\n",
       "      <td>0.002733</td>\n",
       "    </tr>\n",
       "    <tr>\n",
       "      <th>7</th>\n",
       "      <td>0.002475</td>\n",
       "      <td>0.000243</td>\n",
       "      <td>0.001359</td>\n",
       "      <td>0.000323</td>\n",
       "      <td>0.000188</td>\n",
       "      <td>0.002268</td>\n",
       "      <td>0.002273</td>\n",
       "      <td>0.002676</td>\n",
       "    </tr>\n",
       "    <tr>\n",
       "      <th>8</th>\n",
       "      <td>0.002202</td>\n",
       "      <td>0.000607</td>\n",
       "      <td>0.001404</td>\n",
       "      <td>0.000274</td>\n",
       "      <td>0.000136</td>\n",
       "      <td>0.002073</td>\n",
       "      <td>0.002075</td>\n",
       "      <td>0.002338</td>\n",
       "    </tr>\n",
       "    <tr>\n",
       "      <th>9</th>\n",
       "      <td>0.002297</td>\n",
       "      <td>0.000679</td>\n",
       "      <td>0.001488</td>\n",
       "      <td>0.000258</td>\n",
       "      <td>0.000158</td>\n",
       "      <td>0.002117</td>\n",
       "      <td>0.002120</td>\n",
       "      <td>0.002425</td>\n",
       "    </tr>\n",
       "    <tr>\n",
       "      <th>10</th>\n",
       "      <td>0.001908</td>\n",
       "      <td>0.000371</td>\n",
       "      <td>0.001140</td>\n",
       "      <td>0.000219</td>\n",
       "      <td>0.000115</td>\n",
       "      <td>0.001828</td>\n",
       "      <td>0.001831</td>\n",
       "      <td>0.002018</td>\n",
       "    </tr>\n",
       "    <tr>\n",
       "      <th>11</th>\n",
       "      <td>0.002133</td>\n",
       "      <td>0.000557</td>\n",
       "      <td>0.001345</td>\n",
       "      <td>0.000228</td>\n",
       "      <td>0.000111</td>\n",
       "      <td>0.001997</td>\n",
       "      <td>0.001999</td>\n",
       "      <td>0.002247</td>\n",
       "    </tr>\n",
       "    <tr>\n",
       "      <th>12</th>\n",
       "      <td>0.001814</td>\n",
       "      <td>0.000351</td>\n",
       "      <td>0.001082</td>\n",
       "      <td>0.000201</td>\n",
       "      <td>0.000107</td>\n",
       "      <td>0.001730</td>\n",
       "      <td>0.001732</td>\n",
       "      <td>0.001914</td>\n",
       "    </tr>\n",
       "    <tr>\n",
       "      <th>13</th>\n",
       "      <td>0.002023</td>\n",
       "      <td>0.000581</td>\n",
       "      <td>0.001302</td>\n",
       "      <td>0.000209</td>\n",
       "      <td>0.000146</td>\n",
       "      <td>0.001810</td>\n",
       "      <td>0.001812</td>\n",
       "      <td>0.002128</td>\n",
       "    </tr>\n",
       "    <tr>\n",
       "      <th>14</th>\n",
       "      <td>0.001686</td>\n",
       "      <td>0.000392</td>\n",
       "      <td>0.001039</td>\n",
       "      <td>0.000185</td>\n",
       "      <td>0.000121</td>\n",
       "      <td>0.001580</td>\n",
       "      <td>0.001582</td>\n",
       "      <td>0.001779</td>\n",
       "    </tr>\n",
       "    <tr>\n",
       "      <th>15</th>\n",
       "      <td>0.001810</td>\n",
       "      <td>0.000374</td>\n",
       "      <td>0.001092</td>\n",
       "      <td>0.000189</td>\n",
       "      <td>0.000103</td>\n",
       "      <td>0.001647</td>\n",
       "      <td>0.001649</td>\n",
       "      <td>0.001904</td>\n",
       "    </tr>\n",
       "    <tr>\n",
       "      <th>16</th>\n",
       "      <td>0.001683</td>\n",
       "      <td>0.000555</td>\n",
       "      <td>0.001119</td>\n",
       "      <td>0.000171</td>\n",
       "      <td>0.000121</td>\n",
       "      <td>0.001555</td>\n",
       "      <td>0.001557</td>\n",
       "      <td>0.001769</td>\n",
       "    </tr>\n",
       "    <tr>\n",
       "      <th>17</th>\n",
       "      <td>0.001694</td>\n",
       "      <td>0.000377</td>\n",
       "      <td>0.001035</td>\n",
       "      <td>0.000167</td>\n",
       "      <td>0.000093</td>\n",
       "      <td>0.001572</td>\n",
       "      <td>0.001574</td>\n",
       "      <td>0.001777</td>\n",
       "    </tr>\n",
       "    <tr>\n",
       "      <th>18</th>\n",
       "      <td>0.001537</td>\n",
       "      <td>0.000420</td>\n",
       "      <td>0.000978</td>\n",
       "      <td>0.000147</td>\n",
       "      <td>0.000103</td>\n",
       "      <td>0.001447</td>\n",
       "      <td>0.001449</td>\n",
       "      <td>0.001610</td>\n",
       "    </tr>\n",
       "    <tr>\n",
       "      <th>19</th>\n",
       "      <td>0.001525</td>\n",
       "      <td>0.000380</td>\n",
       "      <td>0.000952</td>\n",
       "      <td>0.000157</td>\n",
       "      <td>0.000094</td>\n",
       "      <td>0.001414</td>\n",
       "      <td>0.001415</td>\n",
       "      <td>0.001604</td>\n",
       "    </tr>\n",
       "    <tr>\n",
       "      <th>20</th>\n",
       "      <td>0.001431</td>\n",
       "      <td>0.000428</td>\n",
       "      <td>0.000929</td>\n",
       "      <td>0.000143</td>\n",
       "      <td>0.000087</td>\n",
       "      <td>0.001344</td>\n",
       "      <td>0.001345</td>\n",
       "      <td>0.001502</td>\n",
       "    </tr>\n",
       "    <tr>\n",
       "      <th>21</th>\n",
       "      <td>0.001477</td>\n",
       "      <td>0.000226</td>\n",
       "      <td>0.000852</td>\n",
       "      <td>0.000137</td>\n",
       "      <td>0.000099</td>\n",
       "      <td>0.001378</td>\n",
       "      <td>0.001379</td>\n",
       "      <td>0.001546</td>\n",
       "    </tr>\n",
       "    <tr>\n",
       "      <th>22</th>\n",
       "      <td>0.001490</td>\n",
       "      <td>0.000358</td>\n",
       "      <td>0.000924</td>\n",
       "      <td>0.000154</td>\n",
       "      <td>0.000103</td>\n",
       "      <td>0.001350</td>\n",
       "      <td>0.001351</td>\n",
       "      <td>0.001567</td>\n",
       "    </tr>\n",
       "    <tr>\n",
       "      <th>23</th>\n",
       "      <td>0.001356</td>\n",
       "      <td>0.000511</td>\n",
       "      <td>0.000933</td>\n",
       "      <td>0.000126</td>\n",
       "      <td>0.000092</td>\n",
       "      <td>0.001279</td>\n",
       "      <td>0.001280</td>\n",
       "      <td>0.001419</td>\n",
       "    </tr>\n",
       "    <tr>\n",
       "      <th>24</th>\n",
       "      <td>0.001474</td>\n",
       "      <td>0.000334</td>\n",
       "      <td>0.000904</td>\n",
       "      <td>0.000142</td>\n",
       "      <td>0.000089</td>\n",
       "      <td>0.001341</td>\n",
       "      <td>0.001343</td>\n",
       "      <td>0.001545</td>\n",
       "    </tr>\n",
       "    <tr>\n",
       "      <th>25</th>\n",
       "      <td>0.001409</td>\n",
       "      <td>0.000423</td>\n",
       "      <td>0.000916</td>\n",
       "      <td>0.000123</td>\n",
       "      <td>0.000095</td>\n",
       "      <td>0.001312</td>\n",
       "      <td>0.001313</td>\n",
       "      <td>0.001471</td>\n",
       "    </tr>\n",
       "    <tr>\n",
       "      <th>26</th>\n",
       "      <td>0.001329</td>\n",
       "      <td>0.000431</td>\n",
       "      <td>0.000880</td>\n",
       "      <td>0.000125</td>\n",
       "      <td>0.000082</td>\n",
       "      <td>0.001239</td>\n",
       "      <td>0.001240</td>\n",
       "      <td>0.001392</td>\n",
       "    </tr>\n",
       "    <tr>\n",
       "      <th>27</th>\n",
       "      <td>0.001321</td>\n",
       "      <td>0.000418</td>\n",
       "      <td>0.000869</td>\n",
       "      <td>0.000121</td>\n",
       "      <td>0.000078</td>\n",
       "      <td>0.001228</td>\n",
       "      <td>0.001229</td>\n",
       "      <td>0.001381</td>\n",
       "    </tr>\n",
       "    <tr>\n",
       "      <th>28</th>\n",
       "      <td>0.001329</td>\n",
       "      <td>0.000480</td>\n",
       "      <td>0.000904</td>\n",
       "      <td>0.000119</td>\n",
       "      <td>0.000093</td>\n",
       "      <td>0.001227</td>\n",
       "      <td>0.001228</td>\n",
       "      <td>0.001388</td>\n",
       "    </tr>\n",
       "    <tr>\n",
       "      <th>29</th>\n",
       "      <td>0.001306</td>\n",
       "      <td>0.000147</td>\n",
       "      <td>0.000727</td>\n",
       "      <td>0.000115</td>\n",
       "      <td>0.000082</td>\n",
       "      <td>0.001216</td>\n",
       "      <td>0.001218</td>\n",
       "      <td>0.001365</td>\n",
       "    </tr>\n",
       "    <tr>\n",
       "      <th>...</th>\n",
       "      <td>...</td>\n",
       "      <td>...</td>\n",
       "      <td>...</td>\n",
       "      <td>...</td>\n",
       "      <td>...</td>\n",
       "      <td>...</td>\n",
       "      <td>...</td>\n",
       "      <td>...</td>\n",
       "    </tr>\n",
       "    <tr>\n",
       "      <th>70</th>\n",
       "      <td>0.001027</td>\n",
       "      <td>0.000107</td>\n",
       "      <td>0.000567</td>\n",
       "      <td>0.000046</td>\n",
       "      <td>0.000039</td>\n",
       "      <td>0.001013</td>\n",
       "      <td>0.001014</td>\n",
       "      <td>0.001050</td>\n",
       "    </tr>\n",
       "    <tr>\n",
       "      <th>71</th>\n",
       "      <td>0.001038</td>\n",
       "      <td>0.000245</td>\n",
       "      <td>0.000642</td>\n",
       "      <td>0.000062</td>\n",
       "      <td>0.000055</td>\n",
       "      <td>0.001006</td>\n",
       "      <td>0.001007</td>\n",
       "      <td>0.001069</td>\n",
       "    </tr>\n",
       "    <tr>\n",
       "      <th>72</th>\n",
       "      <td>0.001065</td>\n",
       "      <td>0.000162</td>\n",
       "      <td>0.000614</td>\n",
       "      <td>0.000079</td>\n",
       "      <td>0.000064</td>\n",
       "      <td>0.001011</td>\n",
       "      <td>0.001011</td>\n",
       "      <td>0.001105</td>\n",
       "    </tr>\n",
       "    <tr>\n",
       "      <th>73</th>\n",
       "      <td>0.001023</td>\n",
       "      <td>0.000176</td>\n",
       "      <td>0.000599</td>\n",
       "      <td>0.000052</td>\n",
       "      <td>0.000044</td>\n",
       "      <td>0.001005</td>\n",
       "      <td>0.001006</td>\n",
       "      <td>0.001048</td>\n",
       "    </tr>\n",
       "    <tr>\n",
       "      <th>74</th>\n",
       "      <td>0.001017</td>\n",
       "      <td>0.000122</td>\n",
       "      <td>0.000570</td>\n",
       "      <td>0.000052</td>\n",
       "      <td>0.000043</td>\n",
       "      <td>0.000997</td>\n",
       "      <td>0.000997</td>\n",
       "      <td>0.001043</td>\n",
       "    </tr>\n",
       "    <tr>\n",
       "      <th>75</th>\n",
       "      <td>0.001029</td>\n",
       "      <td>0.000163</td>\n",
       "      <td>0.000596</td>\n",
       "      <td>0.000051</td>\n",
       "      <td>0.000045</td>\n",
       "      <td>0.001000</td>\n",
       "      <td>0.001001</td>\n",
       "      <td>0.001055</td>\n",
       "    </tr>\n",
       "    <tr>\n",
       "      <th>76</th>\n",
       "      <td>0.001007</td>\n",
       "      <td>0.000137</td>\n",
       "      <td>0.000572</td>\n",
       "      <td>0.000044</td>\n",
       "      <td>0.000037</td>\n",
       "      <td>0.000996</td>\n",
       "      <td>0.000996</td>\n",
       "      <td>0.001029</td>\n",
       "    </tr>\n",
       "    <tr>\n",
       "      <th>77</th>\n",
       "      <td>0.001036</td>\n",
       "      <td>0.000225</td>\n",
       "      <td>0.000631</td>\n",
       "      <td>0.000054</td>\n",
       "      <td>0.000044</td>\n",
       "      <td>0.001002</td>\n",
       "      <td>0.001003</td>\n",
       "      <td>0.001063</td>\n",
       "    </tr>\n",
       "    <tr>\n",
       "      <th>78</th>\n",
       "      <td>0.001050</td>\n",
       "      <td>0.000169</td>\n",
       "      <td>0.000609</td>\n",
       "      <td>0.000052</td>\n",
       "      <td>0.000046</td>\n",
       "      <td>0.001018</td>\n",
       "      <td>0.001019</td>\n",
       "      <td>0.001076</td>\n",
       "    </tr>\n",
       "    <tr>\n",
       "      <th>79</th>\n",
       "      <td>0.001060</td>\n",
       "      <td>0.000163</td>\n",
       "      <td>0.000611</td>\n",
       "      <td>0.000049</td>\n",
       "      <td>0.000039</td>\n",
       "      <td>0.001026</td>\n",
       "      <td>0.001026</td>\n",
       "      <td>0.001085</td>\n",
       "    </tr>\n",
       "    <tr>\n",
       "      <th>80</th>\n",
       "      <td>0.001094</td>\n",
       "      <td>0.000221</td>\n",
       "      <td>0.000657</td>\n",
       "      <td>0.000054</td>\n",
       "      <td>0.000050</td>\n",
       "      <td>0.001041</td>\n",
       "      <td>0.001042</td>\n",
       "      <td>0.001121</td>\n",
       "    </tr>\n",
       "    <tr>\n",
       "      <th>81</th>\n",
       "      <td>0.001000</td>\n",
       "      <td>0.000101</td>\n",
       "      <td>0.000551</td>\n",
       "      <td>0.000042</td>\n",
       "      <td>0.000036</td>\n",
       "      <td>0.000989</td>\n",
       "      <td>0.000989</td>\n",
       "      <td>0.001021</td>\n",
       "    </tr>\n",
       "    <tr>\n",
       "      <th>82</th>\n",
       "      <td>0.001045</td>\n",
       "      <td>0.000134</td>\n",
       "      <td>0.000589</td>\n",
       "      <td>0.000044</td>\n",
       "      <td>0.000039</td>\n",
       "      <td>0.001023</td>\n",
       "      <td>0.001023</td>\n",
       "      <td>0.001067</td>\n",
       "    </tr>\n",
       "    <tr>\n",
       "      <th>83</th>\n",
       "      <td>0.001032</td>\n",
       "      <td>0.000180</td>\n",
       "      <td>0.000606</td>\n",
       "      <td>0.000046</td>\n",
       "      <td>0.000036</td>\n",
       "      <td>0.001008</td>\n",
       "      <td>0.001009</td>\n",
       "      <td>0.001055</td>\n",
       "    </tr>\n",
       "    <tr>\n",
       "      <th>84</th>\n",
       "      <td>0.001052</td>\n",
       "      <td>0.000171</td>\n",
       "      <td>0.000611</td>\n",
       "      <td>0.000055</td>\n",
       "      <td>0.000051</td>\n",
       "      <td>0.001008</td>\n",
       "      <td>0.001009</td>\n",
       "      <td>0.001080</td>\n",
       "    </tr>\n",
       "    <tr>\n",
       "      <th>85</th>\n",
       "      <td>0.001052</td>\n",
       "      <td>0.000127</td>\n",
       "      <td>0.000589</td>\n",
       "      <td>0.000059</td>\n",
       "      <td>0.000048</td>\n",
       "      <td>0.001005</td>\n",
       "      <td>0.001006</td>\n",
       "      <td>0.001081</td>\n",
       "    </tr>\n",
       "    <tr>\n",
       "      <th>86</th>\n",
       "      <td>0.001015</td>\n",
       "      <td>0.000102</td>\n",
       "      <td>0.000558</td>\n",
       "      <td>0.000041</td>\n",
       "      <td>0.000035</td>\n",
       "      <td>0.001002</td>\n",
       "      <td>0.001003</td>\n",
       "      <td>0.001036</td>\n",
       "    </tr>\n",
       "    <tr>\n",
       "      <th>87</th>\n",
       "      <td>0.000996</td>\n",
       "      <td>0.000162</td>\n",
       "      <td>0.000579</td>\n",
       "      <td>0.000039</td>\n",
       "      <td>0.000033</td>\n",
       "      <td>0.000989</td>\n",
       "      <td>0.000989</td>\n",
       "      <td>0.001016</td>\n",
       "    </tr>\n",
       "    <tr>\n",
       "      <th>88</th>\n",
       "      <td>0.001011</td>\n",
       "      <td>0.000127</td>\n",
       "      <td>0.000569</td>\n",
       "      <td>0.000042</td>\n",
       "      <td>0.000038</td>\n",
       "      <td>0.000995</td>\n",
       "      <td>0.000996</td>\n",
       "      <td>0.001032</td>\n",
       "    </tr>\n",
       "    <tr>\n",
       "      <th>89</th>\n",
       "      <td>0.001004</td>\n",
       "      <td>0.000167</td>\n",
       "      <td>0.000585</td>\n",
       "      <td>0.000039</td>\n",
       "      <td>0.000032</td>\n",
       "      <td>0.000993</td>\n",
       "      <td>0.000994</td>\n",
       "      <td>0.001023</td>\n",
       "    </tr>\n",
       "    <tr>\n",
       "      <th>90</th>\n",
       "      <td>0.001023</td>\n",
       "      <td>0.000115</td>\n",
       "      <td>0.000569</td>\n",
       "      <td>0.000045</td>\n",
       "      <td>0.000037</td>\n",
       "      <td>0.001001</td>\n",
       "      <td>0.001002</td>\n",
       "      <td>0.001045</td>\n",
       "    </tr>\n",
       "    <tr>\n",
       "      <th>91</th>\n",
       "      <td>0.001012</td>\n",
       "      <td>0.000093</td>\n",
       "      <td>0.000553</td>\n",
       "      <td>0.000040</td>\n",
       "      <td>0.000034</td>\n",
       "      <td>0.001005</td>\n",
       "      <td>0.001006</td>\n",
       "      <td>0.001032</td>\n",
       "    </tr>\n",
       "    <tr>\n",
       "      <th>92</th>\n",
       "      <td>0.000996</td>\n",
       "      <td>0.000104</td>\n",
       "      <td>0.000550</td>\n",
       "      <td>0.000039</td>\n",
       "      <td>0.000034</td>\n",
       "      <td>0.000989</td>\n",
       "      <td>0.000990</td>\n",
       "      <td>0.001015</td>\n",
       "    </tr>\n",
       "    <tr>\n",
       "      <th>93</th>\n",
       "      <td>0.001031</td>\n",
       "      <td>0.000124</td>\n",
       "      <td>0.000577</td>\n",
       "      <td>0.000044</td>\n",
       "      <td>0.000040</td>\n",
       "      <td>0.001006</td>\n",
       "      <td>0.001007</td>\n",
       "      <td>0.001053</td>\n",
       "    </tr>\n",
       "    <tr>\n",
       "      <th>94</th>\n",
       "      <td>0.001051</td>\n",
       "      <td>0.000122</td>\n",
       "      <td>0.000586</td>\n",
       "      <td>0.000075</td>\n",
       "      <td>0.000063</td>\n",
       "      <td>0.000990</td>\n",
       "      <td>0.000991</td>\n",
       "      <td>0.001089</td>\n",
       "    </tr>\n",
       "    <tr>\n",
       "      <th>95</th>\n",
       "      <td>0.000992</td>\n",
       "      <td>0.000125</td>\n",
       "      <td>0.000559</td>\n",
       "      <td>0.000036</td>\n",
       "      <td>0.000031</td>\n",
       "      <td>0.000985</td>\n",
       "      <td>0.000986</td>\n",
       "      <td>0.001010</td>\n",
       "    </tr>\n",
       "    <tr>\n",
       "      <th>96</th>\n",
       "      <td>0.000999</td>\n",
       "      <td>0.000120</td>\n",
       "      <td>0.000560</td>\n",
       "      <td>0.000042</td>\n",
       "      <td>0.000038</td>\n",
       "      <td>0.000982</td>\n",
       "      <td>0.000982</td>\n",
       "      <td>0.001020</td>\n",
       "    </tr>\n",
       "    <tr>\n",
       "      <th>97</th>\n",
       "      <td>0.001004</td>\n",
       "      <td>0.000123</td>\n",
       "      <td>0.000563</td>\n",
       "      <td>0.000040</td>\n",
       "      <td>0.000037</td>\n",
       "      <td>0.000989</td>\n",
       "      <td>0.000990</td>\n",
       "      <td>0.001024</td>\n",
       "    </tr>\n",
       "    <tr>\n",
       "      <th>98</th>\n",
       "      <td>0.001036</td>\n",
       "      <td>0.000126</td>\n",
       "      <td>0.000581</td>\n",
       "      <td>0.000051</td>\n",
       "      <td>0.000041</td>\n",
       "      <td>0.000997</td>\n",
       "      <td>0.000998</td>\n",
       "      <td>0.001061</td>\n",
       "    </tr>\n",
       "    <tr>\n",
       "      <th>99</th>\n",
       "      <td>0.001035</td>\n",
       "      <td>0.000093</td>\n",
       "      <td>0.000564</td>\n",
       "      <td>0.000046</td>\n",
       "      <td>0.000039</td>\n",
       "      <td>0.001005</td>\n",
       "      <td>0.001006</td>\n",
       "      <td>0.001057</td>\n",
       "    </tr>\n",
       "  </tbody>\n",
       "</table>\n",
       "<p>100 rows × 8 columns</p>\n",
       "</div>"
      ],
      "text/plain": [
       "    X_D_G_X_loss  X_D_G_Zi_loss  X_G_loss  X_D_X_loss  X_D_X_G_X_loss  \\\n",
       "0       0.009108       0.000401  0.004755    0.002366        0.000455   \n",
       "1       0.006267       0.000249  0.003258    0.000972        0.000291   \n",
       "2       0.005444       0.000399  0.002922    0.000707        0.000391   \n",
       "3       0.004224       0.000380  0.002302    0.000543        0.000336   \n",
       "4       0.003141       0.000175  0.001658    0.000398        0.000187   \n",
       "5       0.002776       0.000309  0.001543    0.000345        0.000193   \n",
       "6       0.002547       0.000260  0.001404    0.000316        0.000148   \n",
       "7       0.002475       0.000243  0.001359    0.000323        0.000188   \n",
       "8       0.002202       0.000607  0.001404    0.000274        0.000136   \n",
       "9       0.002297       0.000679  0.001488    0.000258        0.000158   \n",
       "10      0.001908       0.000371  0.001140    0.000219        0.000115   \n",
       "11      0.002133       0.000557  0.001345    0.000228        0.000111   \n",
       "12      0.001814       0.000351  0.001082    0.000201        0.000107   \n",
       "13      0.002023       0.000581  0.001302    0.000209        0.000146   \n",
       "14      0.001686       0.000392  0.001039    0.000185        0.000121   \n",
       "15      0.001810       0.000374  0.001092    0.000189        0.000103   \n",
       "16      0.001683       0.000555  0.001119    0.000171        0.000121   \n",
       "17      0.001694       0.000377  0.001035    0.000167        0.000093   \n",
       "18      0.001537       0.000420  0.000978    0.000147        0.000103   \n",
       "19      0.001525       0.000380  0.000952    0.000157        0.000094   \n",
       "20      0.001431       0.000428  0.000929    0.000143        0.000087   \n",
       "21      0.001477       0.000226  0.000852    0.000137        0.000099   \n",
       "22      0.001490       0.000358  0.000924    0.000154        0.000103   \n",
       "23      0.001356       0.000511  0.000933    0.000126        0.000092   \n",
       "24      0.001474       0.000334  0.000904    0.000142        0.000089   \n",
       "25      0.001409       0.000423  0.000916    0.000123        0.000095   \n",
       "26      0.001329       0.000431  0.000880    0.000125        0.000082   \n",
       "27      0.001321       0.000418  0.000869    0.000121        0.000078   \n",
       "28      0.001329       0.000480  0.000904    0.000119        0.000093   \n",
       "29      0.001306       0.000147  0.000727    0.000115        0.000082   \n",
       "..           ...            ...       ...         ...             ...   \n",
       "70      0.001027       0.000107  0.000567    0.000046        0.000039   \n",
       "71      0.001038       0.000245  0.000642    0.000062        0.000055   \n",
       "72      0.001065       0.000162  0.000614    0.000079        0.000064   \n",
       "73      0.001023       0.000176  0.000599    0.000052        0.000044   \n",
       "74      0.001017       0.000122  0.000570    0.000052        0.000043   \n",
       "75      0.001029       0.000163  0.000596    0.000051        0.000045   \n",
       "76      0.001007       0.000137  0.000572    0.000044        0.000037   \n",
       "77      0.001036       0.000225  0.000631    0.000054        0.000044   \n",
       "78      0.001050       0.000169  0.000609    0.000052        0.000046   \n",
       "79      0.001060       0.000163  0.000611    0.000049        0.000039   \n",
       "80      0.001094       0.000221  0.000657    0.000054        0.000050   \n",
       "81      0.001000       0.000101  0.000551    0.000042        0.000036   \n",
       "82      0.001045       0.000134  0.000589    0.000044        0.000039   \n",
       "83      0.001032       0.000180  0.000606    0.000046        0.000036   \n",
       "84      0.001052       0.000171  0.000611    0.000055        0.000051   \n",
       "85      0.001052       0.000127  0.000589    0.000059        0.000048   \n",
       "86      0.001015       0.000102  0.000558    0.000041        0.000035   \n",
       "87      0.000996       0.000162  0.000579    0.000039        0.000033   \n",
       "88      0.001011       0.000127  0.000569    0.000042        0.000038   \n",
       "89      0.001004       0.000167  0.000585    0.000039        0.000032   \n",
       "90      0.001023       0.000115  0.000569    0.000045        0.000037   \n",
       "91      0.001012       0.000093  0.000553    0.000040        0.000034   \n",
       "92      0.000996       0.000104  0.000550    0.000039        0.000034   \n",
       "93      0.001031       0.000124  0.000577    0.000044        0.000040   \n",
       "94      0.001051       0.000122  0.000586    0.000075        0.000063   \n",
       "95      0.000992       0.000125  0.000559    0.000036        0.000031   \n",
       "96      0.000999       0.000120  0.000560    0.000042        0.000038   \n",
       "97      0.001004       0.000123  0.000563    0.000040        0.000037   \n",
       "98      0.001036       0.000126  0.000581    0.000051        0.000041   \n",
       "99      0.001035       0.000093  0.000564    0.000046        0.000039   \n",
       "\n",
       "    X_G_X_loss    G_loss    D_loss  \n",
       "0     0.008619  0.008694  0.011274  \n",
       "1     0.006003  0.006039  0.007115  \n",
       "2     0.004746  0.004771  0.005951  \n",
       "3     0.003703  0.003718  0.004577  \n",
       "4     0.003021  0.003030  0.003452  \n",
       "5     0.002647  0.002654  0.002967  \n",
       "6     0.002434  0.002440  0.002733  \n",
       "7     0.002268  0.002273  0.002676  \n",
       "8     0.002073  0.002075  0.002338  \n",
       "9     0.002117  0.002120  0.002425  \n",
       "10    0.001828  0.001831  0.002018  \n",
       "11    0.001997  0.001999  0.002247  \n",
       "12    0.001730  0.001732  0.001914  \n",
       "13    0.001810  0.001812  0.002128  \n",
       "14    0.001580  0.001582  0.001779  \n",
       "15    0.001647  0.001649  0.001904  \n",
       "16    0.001555  0.001557  0.001769  \n",
       "17    0.001572  0.001574  0.001777  \n",
       "18    0.001447  0.001449  0.001610  \n",
       "19    0.001414  0.001415  0.001604  \n",
       "20    0.001344  0.001345  0.001502  \n",
       "21    0.001378  0.001379  0.001546  \n",
       "22    0.001350  0.001351  0.001567  \n",
       "23    0.001279  0.001280  0.001419  \n",
       "24    0.001341  0.001343  0.001545  \n",
       "25    0.001312  0.001313  0.001471  \n",
       "26    0.001239  0.001240  0.001392  \n",
       "27    0.001228  0.001229  0.001381  \n",
       "28    0.001227  0.001228  0.001388  \n",
       "29    0.001216  0.001218  0.001365  \n",
       "..         ...       ...       ...  \n",
       "70    0.001013  0.001014  0.001050  \n",
       "71    0.001006  0.001007  0.001069  \n",
       "72    0.001011  0.001011  0.001105  \n",
       "73    0.001005  0.001006  0.001048  \n",
       "74    0.000997  0.000997  0.001043  \n",
       "75    0.001000  0.001001  0.001055  \n",
       "76    0.000996  0.000996  0.001029  \n",
       "77    0.001002  0.001003  0.001063  \n",
       "78    0.001018  0.001019  0.001076  \n",
       "79    0.001026  0.001026  0.001085  \n",
       "80    0.001041  0.001042  0.001121  \n",
       "81    0.000989  0.000989  0.001021  \n",
       "82    0.001023  0.001023  0.001067  \n",
       "83    0.001008  0.001009  0.001055  \n",
       "84    0.001008  0.001009  0.001080  \n",
       "85    0.001005  0.001006  0.001081  \n",
       "86    0.001002  0.001003  0.001036  \n",
       "87    0.000989  0.000989  0.001016  \n",
       "88    0.000995  0.000996  0.001032  \n",
       "89    0.000993  0.000994  0.001023  \n",
       "90    0.001001  0.001002  0.001045  \n",
       "91    0.001005  0.001006  0.001032  \n",
       "92    0.000989  0.000990  0.001015  \n",
       "93    0.001006  0.001007  0.001053  \n",
       "94    0.000990  0.000991  0.001089  \n",
       "95    0.000985  0.000986  0.001010  \n",
       "96    0.000982  0.000982  0.001020  \n",
       "97    0.000989  0.000990  0.001024  \n",
       "98    0.000997  0.000998  0.001061  \n",
       "99    0.001005  0.001006  0.001057  \n",
       "\n",
       "[100 rows x 8 columns]"
      ]
     },
     "execution_count": 31,
     "metadata": {},
     "output_type": "execute_result"
    }
   ],
   "source": [
    "losses"
   ]
  },
  {
   "cell_type": "code",
   "execution_count": null,
   "metadata": {},
   "outputs": [],
   "source": []
  },
  {
   "cell_type": "code",
   "execution_count": 32,
   "metadata": {
    "ExecuteTime": {
     "end_time": "2019-10-27T07:49:13.550577Z",
     "start_time": "2019-10-27T07:49:12.245037Z"
    }
   },
   "outputs": [
    {
     "ename": "AttributeError",
     "evalue": "'DataFrame' object has no attribute 'D_prop_gen'",
     "output_type": "error",
     "traceback": [
      "\u001b[0;31m---------------------------------------------------------------------------\u001b[0m",
      "\u001b[0;31mAttributeError\u001b[0m                            Traceback (most recent call last)",
      "\u001b[0;32m<ipython-input-32-cbd5a1d91980>\u001b[0m in \u001b[0;36m<module>\u001b[0;34m\u001b[0m\n\u001b[0;32m----> 1\u001b[0;31m \u001b[0mlosses\u001b[0m\u001b[0;34m.\u001b[0m\u001b[0mD_prop_gen\u001b[0m\u001b[0;34m.\u001b[0m\u001b[0mvalues\u001b[0m\u001b[0;34m\u001b[0m\u001b[0;34m\u001b[0m\u001b[0m\n\u001b[0m",
      "\u001b[0;32m/mnt/cube/tsainbur/conda_envs/tpy3/lib/python3.6/site-packages/pandas/core/generic.py\u001b[0m in \u001b[0;36m__getattr__\u001b[0;34m(self, name)\u001b[0m\n\u001b[1;32m   5065\u001b[0m             \u001b[0;32mif\u001b[0m \u001b[0mself\u001b[0m\u001b[0;34m.\u001b[0m\u001b[0m_info_axis\u001b[0m\u001b[0;34m.\u001b[0m\u001b[0m_can_hold_identifiers_and_holds_name\u001b[0m\u001b[0;34m(\u001b[0m\u001b[0mname\u001b[0m\u001b[0;34m)\u001b[0m\u001b[0;34m:\u001b[0m\u001b[0;34m\u001b[0m\u001b[0;34m\u001b[0m\u001b[0m\n\u001b[1;32m   5066\u001b[0m                 \u001b[0;32mreturn\u001b[0m \u001b[0mself\u001b[0m\u001b[0;34m[\u001b[0m\u001b[0mname\u001b[0m\u001b[0;34m]\u001b[0m\u001b[0;34m\u001b[0m\u001b[0;34m\u001b[0m\u001b[0m\n\u001b[0;32m-> 5067\u001b[0;31m             \u001b[0;32mreturn\u001b[0m \u001b[0mobject\u001b[0m\u001b[0;34m.\u001b[0m\u001b[0m__getattribute__\u001b[0m\u001b[0;34m(\u001b[0m\u001b[0mself\u001b[0m\u001b[0;34m,\u001b[0m \u001b[0mname\u001b[0m\u001b[0;34m)\u001b[0m\u001b[0;34m\u001b[0m\u001b[0;34m\u001b[0m\u001b[0m\n\u001b[0m\u001b[1;32m   5068\u001b[0m \u001b[0;34m\u001b[0m\u001b[0m\n\u001b[1;32m   5069\u001b[0m     \u001b[0;32mdef\u001b[0m \u001b[0m__setattr__\u001b[0m\u001b[0;34m(\u001b[0m\u001b[0mself\u001b[0m\u001b[0;34m,\u001b[0m \u001b[0mname\u001b[0m\u001b[0;34m,\u001b[0m \u001b[0mvalue\u001b[0m\u001b[0;34m)\u001b[0m\u001b[0;34m:\u001b[0m\u001b[0;34m\u001b[0m\u001b[0;34m\u001b[0m\u001b[0m\n",
      "\u001b[0;31mAttributeError\u001b[0m: 'DataFrame' object has no attribute 'D_prop_gen'"
     ]
    }
   ],
   "source": [
    "losses.D_prop_gen.values"
   ]
  },
  {
   "cell_type": "code",
   "execution_count": null,
   "metadata": {
    "ExecuteTime": {
     "end_time": "2019-10-27T07:49:13.559784Z",
     "start_time": "2019-10-27T07:21:57.249Z"
    }
   },
   "outputs": [],
   "source": [
    "plot_reconstruction(model, example_data)"
   ]
  },
  {
   "cell_type": "code",
   "execution_count": null,
   "metadata": {
    "ExecuteTime": {
     "end_time": "2019-10-27T07:49:13.562139Z",
     "start_time": "2019-10-27T07:21:57.250Z"
    }
   },
   "outputs": [],
   "source": [
    "losses.d_xg_loss.values"
   ]
  },
  {
   "cell_type": "code",
   "execution_count": null,
   "metadata": {
    "ExecuteTime": {
     "end_time": "2019-10-27T07:49:13.564529Z",
     "start_time": "2019-10-27T07:21:57.252Z"
    }
   },
   "outputs": [],
   "source": [
    "#save_loc = DATA_DIR / 'models' / network_type / DATASET_ID\n",
    "#ensure_dir(save_loc)\n",
    "\n",
    "# Save the entire model to a HDF5 file.\n",
    "# The '.h5' extension indicates that the model shuold be saved to HDF5.\n",
    "#model.save_weights((save_loc / (str(epoch).zfill(4))).as_posix()) \n",
    "\n",
    "# Recreate the exact same model, including its weights and the optimizer\n",
    "#new_model = tf.keras.models.load_model('my_model.h5')"
   ]
  },
  {
   "cell_type": "markdown",
   "metadata": {},
   "source": [
    "### Plot samples from latent"
   ]
  },
  {
   "cell_type": "code",
   "execution_count": null,
   "metadata": {
    "ExecuteTime": {
     "end_time": "2019-10-27T07:49:13.566923Z",
     "start_time": "2019-10-27T07:21:57.253Z"
    }
   },
   "outputs": [],
   "source": [
    "z = model.encode(example_data).numpy()"
   ]
  },
  {
   "cell_type": "code",
   "execution_count": null,
   "metadata": {
    "ExecuteTime": {
     "end_time": "2019-10-27T07:49:13.569391Z",
     "start_time": "2019-10-27T07:21:57.254Z"
    }
   },
   "outputs": [],
   "source": [
    "xmax, ymax = np.max(z, axis=0)\n",
    "xmin, ymin = np.min(z, axis=0)\n",
    "print(xmax, ymax, xmin, ymin)"
   ]
  },
  {
   "cell_type": "code",
   "execution_count": null,
   "metadata": {
    "ExecuteTime": {
     "end_time": "2019-10-27T07:49:13.571763Z",
     "start_time": "2019-10-27T07:21:57.255Z"
    }
   },
   "outputs": [],
   "source": [
    "# sample from grid\n",
    "nx = ny= 30\n",
    "meshgrid = np.meshgrid(np.linspace(xmin, xmax, nx), np.linspace(ymin, ymax, ny))\n",
    "meshgrid = np.array(meshgrid).reshape(2, nx*ny).T\n",
    "x_grid = model.decode(meshgrid)\n",
    "x_grid = x_grid.numpy().reshape(nx, ny, DIMS[0], DIMS[1], DIMS[2])\n",
    "# fill canvas\n",
    "canvas = np.zeros((nx*DIMS[0], ny*DIMS[1]))\n",
    "for xi in range(nx):\n",
    "    for yi in range(ny):\n",
    "        canvas[xi*DIMS[0]:xi*DIMS[0]+DIMS[0], yi*DIMS[1]:yi*DIMS[1]+DIMS[1]] = x_grid[xi, yi,:,:,:].squeeze()\n",
    "fig, ax = plt.subplots(figsize=(15,10))\n",
    "ax.matshow(canvas, vmin = 0, cmap=plt.cm.Greys, origin = 'lower')\n",
    "ax.axis('off')"
   ]
  },
  {
   "cell_type": "markdown",
   "metadata": {},
   "source": [
    "###  plot dataset "
   ]
  },
  {
   "cell_type": "code",
   "execution_count": null,
   "metadata": {
    "ExecuteTime": {
     "end_time": "2019-10-27T07:49:13.574180Z",
     "start_time": "2019-10-27T07:21:57.256Z"
    }
   },
   "outputs": [],
   "source": [
    "all_x = []\n",
    "all_z = []\n",
    "all_indv = []\n",
    "all_labels = []\n",
    "for batch, train_x in tqdm(\n",
    "    zip(range(N_TRAIN_BATCHES), train_dataset), total=N_TRAIN_BATCHES\n",
    "):\n",
    "    x = train_x[0]\n",
    "    all_x.append(x)\n",
    "    x = tf.cast(tf.reshape(x, [BATCH_SIZE] + list(DIMS)), tf.float32) / 255\n",
    "    #model.train_net(x)\n",
    "    all_z.append(model.encode(x).numpy())\n",
    "    all_indv.append(train_x[3].numpy())\n",
    "    all_labels.append(train_x[2].numpy())\n",
    "\n",
    "all_z = np.vstack(all_z)\n",
    "all_indv = np.concatenate(all_indv)\n",
    "all_labels = np.concatenate(all_labels)\n",
    "all_x = np.concatenate(all_x)\n",
    "all_x = np.reshape(all_x, [len(all_x)] + list(DIMS[:2]))"
   ]
  },
  {
   "cell_type": "code",
   "execution_count": null,
   "metadata": {
    "ExecuteTime": {
     "end_time": "2019-10-27T07:49:13.576550Z",
     "start_time": "2019-10-27T07:21:57.257Z"
    }
   },
   "outputs": [],
   "source": [
    "from avgn.visualization.projections import scatter_spec"
   ]
  },
  {
   "cell_type": "code",
   "execution_count": null,
   "metadata": {
    "ExecuteTime": {
     "end_time": "2019-10-27T07:49:13.578913Z",
     "start_time": "2019-10-27T07:21:57.258Z"
    }
   },
   "outputs": [],
   "source": [
    "np.shape(all_z)"
   ]
  },
  {
   "cell_type": "code",
   "execution_count": null,
   "metadata": {
    "ExecuteTime": {
     "end_time": "2019-10-27T07:49:13.581143Z",
     "start_time": "2019-10-27T07:21:57.259Z"
    }
   },
   "outputs": [],
   "source": [
    "plt.scatter(all_z[:,0], all_z[:,1], s=1, c='k', alpha=0.1)"
   ]
  },
  {
   "cell_type": "code",
   "execution_count": null,
   "metadata": {
    "ExecuteTime": {
     "end_time": "2019-10-27T07:49:13.583725Z",
     "start_time": "2019-10-27T07:21:57.260Z"
    }
   },
   "outputs": [],
   "source": [
    "scatter_spec(\n",
    "        np.vstack(all_z),\n",
    "        all_x,\n",
    "        column_size=15,\n",
    "        x_range = [-4,4],\n",
    "        y_range = [-4,4],\n",
    "        pal_color=\"hls\",\n",
    "        color_points=False,\n",
    "        enlarge_points=20,\n",
    "        figsize=(10, 10),\n",
    "        scatter_kwargs = {\n",
    "            'labels': list(all_labels),\n",
    "            'alpha':0.25,\n",
    "            's': 1,\n",
    "            'show_legend': False\n",
    "        },\n",
    "        matshow_kwargs = {\n",
    "            'cmap': plt.cm.Greys\n",
    "        },\n",
    "        line_kwargs = {\n",
    "            'lw':1,\n",
    "            'ls':\"solid\",\n",
    "            'alpha':0.25,\n",
    "        },\n",
    "        draw_lines=True\n",
    ");"
   ]
  },
  {
   "cell_type": "code",
   "execution_count": null,
   "metadata": {},
   "outputs": [],
   "source": []
  }
 ],
 "metadata": {
  "kernelspec": {
   "display_name": "Python 3",
   "language": "python",
   "name": "python3"
  },
  "language_info": {
   "codemirror_mode": {
    "name": "ipython",
    "version": 3
   },
   "file_extension": ".py",
   "mimetype": "text/x-python",
   "name": "python",
   "nbconvert_exporter": "python",
   "pygments_lexer": "ipython3",
   "version": "3.6.7"
  }
 },
 "nbformat": 4,
 "nbformat_minor": 2
}
