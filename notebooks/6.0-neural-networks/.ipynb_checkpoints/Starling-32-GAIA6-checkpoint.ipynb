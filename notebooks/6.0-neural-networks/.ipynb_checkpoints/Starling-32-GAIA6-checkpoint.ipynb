{
 "cells": [
  {
   "cell_type": "code",
   "execution_count": 1,
   "metadata": {
    "ExecuteTime": {
     "end_time": "2019-10-27T07:57:36.488844Z",
     "start_time": "2019-10-27T07:57:36.451517Z"
    }
   },
   "outputs": [],
   "source": [
    "%load_ext autoreload\n",
    "%autoreload 2"
   ]
  },
  {
   "cell_type": "code",
   "execution_count": 2,
   "metadata": {
    "ExecuteTime": {
     "end_time": "2019-10-27T07:57:36.542872Z",
     "start_time": "2019-10-27T07:57:36.492199Z"
    }
   },
   "outputs": [
    {
     "name": "stdout",
     "output_type": "stream",
     "text": [
      "env: CUDA_DEVICE_ORDER=PCI_BUS_ID\n",
      "env: CUDA_VISIBLE_DEVICES=3\n"
     ]
    }
   ],
   "source": [
    "%env CUDA_DEVICE_ORDER=PCI_BUS_ID\n",
    "%env CUDA_VISIBLE_DEVICES=3"
   ]
  },
  {
   "cell_type": "code",
   "execution_count": 3,
   "metadata": {
    "ExecuteTime": {
     "end_time": "2019-10-27T07:57:47.631376Z",
     "start_time": "2019-10-27T07:57:36.544875Z"
    }
   },
   "outputs": [
    {
     "name": "stderr",
     "output_type": "stream",
     "text": [
      "/mnt/cube/tsainbur/conda_envs/tpy3/lib/python3.6/site-packages/tqdm/autonotebook/__init__.py:14: TqdmExperimentalWarning: Using `tqdm.autonotebook.tqdm` in notebook mode. Use `tqdm.tqdm` instead to force console mode (e.g. in jupyter console)\n",
      "  \" (e.g. in jupyter console)\", TqdmExperimentalWarning)\n"
     ]
    }
   ],
   "source": [
    "from avgn.utils.paths import DATA_DIR, most_recent_subdirectory, ensure_dir\n",
    "from avgn.tensorflow.data import _parse_function"
   ]
  },
  {
   "cell_type": "code",
   "execution_count": 4,
   "metadata": {
    "ExecuteTime": {
     "end_time": "2019-10-27T07:57:48.304996Z",
     "start_time": "2019-10-27T07:57:47.636308Z"
    }
   },
   "outputs": [],
   "source": [
    "import tensorflow as tf\n",
    "import numpy as np\n",
    "import matplotlib.pyplot as plt\n",
    "from tqdm.autonotebook import tqdm\n",
    "%matplotlib inline\n",
    "from IPython import display\n",
    "import pandas as pd\n",
    "\n",
    "# the nightly build of tensorflow_probability is required as of the time of writing this \n",
    "import tensorflow_probability as tfp\n",
    "ds = tfp.distributions"
   ]
  },
  {
   "cell_type": "code",
   "execution_count": 5,
   "metadata": {
    "ExecuteTime": {
     "end_time": "2019-10-27T07:57:48.920692Z",
     "start_time": "2019-10-27T07:57:48.308795Z"
    }
   },
   "outputs": [
    {
     "name": "stdout",
     "output_type": "stream",
     "text": [
      "2.0.0-beta1 0.7.0-dev20190510 /mnt/cube/tsainbur/conda_envs/tpy3/lib/python3.6/site-packages/tensorflow/__init__.py\n"
     ]
    }
   ],
   "source": [
    "print(tf.__version__, tfp.__version__, tf.__file__)"
   ]
  },
  {
   "cell_type": "code",
   "execution_count": 6,
   "metadata": {
    "ExecuteTime": {
     "end_time": "2019-10-27T07:57:49.045265Z",
     "start_time": "2019-10-27T07:57:48.922621Z"
    }
   },
   "outputs": [],
   "source": [
    "TRAIN_SIZE=482608\n",
    "BATCH_SIZE=256\n",
    "TEST_SIZE=10000\n",
    "DIMS = (32, 32, 1)\n",
    "N_TRAIN_BATCHES =int((TRAIN_SIZE-TEST_SIZE)/BATCH_SIZE)\n",
    "N_TEST_BATCHES = int(TEST_SIZE/BATCH_SIZE)\n",
    "TRAIN_BUF = 1000\n",
    "TEST_BUF = 1000"
   ]
  },
  {
   "cell_type": "code",
   "execution_count": 7,
   "metadata": {
    "ExecuteTime": {
     "end_time": "2019-10-27T07:57:49.282905Z",
     "start_time": "2019-10-27T07:57:49.047197Z"
    }
   },
   "outputs": [],
   "source": [
    "network_type = 'GAIA'"
   ]
  },
  {
   "cell_type": "code",
   "execution_count": 8,
   "metadata": {
    "ExecuteTime": {
     "end_time": "2019-10-27T07:57:49.429068Z",
     "start_time": "2019-10-27T07:57:49.284771Z"
    }
   },
   "outputs": [],
   "source": [
    "DATASET_ID = 'european_starling_gentner_segmented'"
   ]
  },
  {
   "cell_type": "code",
   "execution_count": 9,
   "metadata": {
    "ExecuteTime": {
     "end_time": "2019-10-27T07:57:49.556745Z",
     "start_time": "2019-10-27T07:57:49.431066Z"
    }
   },
   "outputs": [],
   "source": [
    "record_loc = DATA_DIR / 'tfrecords' / \"starling_32.tfrecords\""
   ]
  },
  {
   "cell_type": "code",
   "execution_count": 10,
   "metadata": {
    "ExecuteTime": {
     "end_time": "2019-10-27T07:57:51.497958Z",
     "start_time": "2019-10-27T07:57:49.558634Z"
    }
   },
   "outputs": [],
   "source": [
    "# read the dataset\n",
    "raw_dataset = tf.data.TFRecordDataset([record_loc.as_posix()])"
   ]
  },
  {
   "cell_type": "code",
   "execution_count": 11,
   "metadata": {
    "ExecuteTime": {
     "end_time": "2019-10-27T07:57:53.518827Z",
     "start_time": "2019-10-27T07:57:51.499966Z"
    }
   },
   "outputs": [],
   "source": [
    "data_types = {\n",
    "    \"spectrogram\": tf.uint8,\n",
    "    \"index\": tf.int64,\n",
    "    \"indv\": tf.string,\n",
    "}"
   ]
  },
  {
   "cell_type": "code",
   "execution_count": 12,
   "metadata": {
    "ExecuteTime": {
     "end_time": "2019-10-27T07:57:53.627872Z",
     "start_time": "2019-10-27T07:57:53.521612Z"
    }
   },
   "outputs": [],
   "source": [
    "# parse each data type to the raw dataset\n",
    "dataset = raw_dataset.map(lambda x: _parse_function(x, data_types=data_types))"
   ]
  },
  {
   "cell_type": "code",
   "execution_count": 13,
   "metadata": {
    "ExecuteTime": {
     "end_time": "2019-10-27T07:57:53.719917Z",
     "start_time": "2019-10-27T07:57:53.629777Z"
    }
   },
   "outputs": [],
   "source": [
    "spec, index, indv  = next(iter(dataset))"
   ]
  },
  {
   "cell_type": "code",
   "execution_count": 14,
   "metadata": {
    "ExecuteTime": {
     "end_time": "2019-10-27T07:57:54.059770Z",
     "start_time": "2019-10-27T07:57:53.734634Z"
    }
   },
   "outputs": [
    {
     "data": {
      "text/plain": [
       "<matplotlib.image.AxesImage at 0x7ff9e0382b70>"
      ]
     },
     "execution_count": 14,
     "metadata": {},
     "output_type": "execute_result"
    },
    {
     "data": {
      "image/png": "[encoded data removed]",
      "text/plain": [
       "<Figure size 288x288 with 1 Axes>"
      ]
     },
     "metadata": {
      "needs_background": "light"
     },
     "output_type": "display_data"
    }
   ],
   "source": [
    "plt.matshow(spec.numpy().reshape(DIMS).squeeze())"
   ]
  },
  {
   "cell_type": "code",
   "execution_count": 15,
   "metadata": {
    "ExecuteTime": {
     "end_time": "2019-10-27T07:57:54.180952Z",
     "start_time": "2019-10-27T07:57:54.065204Z"
    }
   },
   "outputs": [],
   "source": [
    "test_dataset = dataset.take(TEST_SIZE).shuffle(TEST_BUF).batch(BATCH_SIZE)\n",
    "train_dataset = dataset.skip(TEST_SIZE).take(TRAIN_SIZE-TEST_SIZE).shuffle(TEST_BUF).batch(BATCH_SIZE)"
   ]
  },
  {
   "cell_type": "code",
   "execution_count": 16,
   "metadata": {
    "ExecuteTime": {
     "end_time": "2019-10-27T07:57:54.320801Z",
     "start_time": "2019-10-27T07:57:54.183526Z"
    }
   },
   "outputs": [],
   "source": [
    "N_Z = 128\n",
    "\n",
    "def unet_convblock_down(\n",
    "    _input,\n",
    "    channels=16,\n",
    "    kernel=(3, 3),\n",
    "    activation=tf.nn.leaky_relu,\n",
    "    pool_size=(2, 2),\n",
    "    kernel_initializer=\"he_normal\",\n",
    "):\n",
    "    \"\"\" An upsampling convolutional block for a UNET\n",
    "    \"\"\"\n",
    "    conv = tf.keras.layers.Conv2D(\n",
    "        channels,\n",
    "        kernel,\n",
    "        activation=activation,\n",
    "        padding=\"same\",\n",
    "        kernel_initializer=kernel_initializer,\n",
    "    )(_input)\n",
    "    conv = tf.keras.layers.Conv2D(\n",
    "        channels,\n",
    "        kernel,\n",
    "        activation=activation,\n",
    "        padding=\"same\",\n",
    "        kernel_initializer=kernel_initializer,\n",
    "    )(conv)\n",
    "    pool = tf.keras.layers.MaxPooling2D(pool_size=pool_size)(conv)\n",
    "    return conv, pool\n",
    "\n",
    "\n",
    "def unet_convblock_up(\n",
    "    last_conv,\n",
    "    cross_conv,\n",
    "    channels=16,\n",
    "    kernel=(3, 3),\n",
    "    activation=tf.nn.leaky_relu,\n",
    "    pool_size=(2, 2),\n",
    "    kernel_initializer=\"he_normal\",\n",
    "):\n",
    "    \"\"\" A downsampling convolutional block for a UNET\n",
    "    \"\"\"\n",
    "\n",
    "    up_conv = tf.keras.layers.UpSampling2D(size=(2, 2))(last_conv)\n",
    "    merge = tf.keras.layers.concatenate([up_conv, cross_conv], axis=3)\n",
    "    conv = tf.keras.layers.Conv2D(\n",
    "        channels,\n",
    "        kernel,\n",
    "        activation=activation,\n",
    "        padding=\"same\",\n",
    "        kernel_initializer=kernel_initializer,\n",
    "    )(merge)\n",
    "    conv = tf.keras.layers.Conv2D(\n",
    "        channels,\n",
    "        kernel,\n",
    "        activation=activation,\n",
    "        padding=\"same\",\n",
    "        kernel_initializer=kernel_initializer,\n",
    "    )(conv)\n",
    "    return conv\n",
    "\n",
    "\n",
    "def unet_canary():\n",
    "    \"\"\" the architecture for a UNET specific to MNIST\n",
    "    \"\"\"\n",
    "    inputs = tf.keras.layers.Input(shape=DIMS)\n",
    "    up_1, pool_1 = unet_convblock_down(inputs, channels=16)\n",
    "    up_2, pool_2 = unet_convblock_down(pool_1, channels=32)\n",
    "    up_3, pool_3 = unet_convblock_down(pool_2, channels=64)\n",
    "    conv_middle = tf.keras.layers.Conv2D(\n",
    "        128, (3, 3), activation=tf.nn.leaky_relu, kernel_initializer=\"he_normal\", padding=\"same\"\n",
    "    )(pool_3)\n",
    "    conv_middle = tf.keras.layers.Conv2D(\n",
    "        128, (3, 3), activation=tf.nn.leaky_relu, kernel_initializer=\"he_normal\", padding=\"same\"\n",
    "    )(conv_middle)\n",
    "    down_3 = unet_convblock_up(conv_middle, up_3, channels=64)\n",
    "    down_2 = unet_convblock_up(down_3, up_2, channels=32)\n",
    "    down_1 = unet_convblock_up(down_2, up_1, channels=16)\n",
    "    outputs = tf.keras.layers.Conv2D(1, (1, 1), activation=\"tanh\")(down_1)\n",
    "    return inputs, outputs\n",
    "\n",
    "\n",
    "encoder = [\n",
    "    tf.keras.layers.InputLayer(input_shape=DIMS),\n",
    "    tf.keras.layers.Conv2D(\n",
    "        filters=32, kernel_size=3, strides=(2, 2), activation=tf.nn.leaky_relu\n",
    "    ),\n",
    "    tf.keras.layers.Conv2D(\n",
    "        filters=64, kernel_size=3, strides=(2, 2), activation=tf.nn.leaky_relu\n",
    "    ),\n",
    "    tf.keras.layers.Conv2D(\n",
    "        filters=128, kernel_size=3, strides=(2, 2), activation=tf.nn.leaky_relu\n",
    "    ),\n",
    "    tf.keras.layers.Flatten(),\n",
    "    tf.keras.layers.Dense(units=N_Z),\n",
    "]\n",
    "\n",
    "decoder = [\n",
    "    tf.keras.layers.Dense(units=4 * 4 * 256, activation=tf.nn.leaky_relu),\n",
    "    tf.keras.layers.Reshape(target_shape=(4, 4, 256)),\n",
    "    \n",
    "    tf.keras.layers.Conv2DTranspose(\n",
    "        filters=128, kernel_size=3, strides=(2, 2), padding=\"SAME\", activation=tf.nn.leaky_relu\n",
    "    ),\n",
    "    tf.keras.layers.Conv2DTranspose(\n",
    "        filters=64, kernel_size=3, strides=(2, 2), padding=\"SAME\", activation=tf.nn.leaky_relu\n",
    "    ),\n",
    "    tf.keras.layers.Conv2DTranspose(\n",
    "        filters=32, kernel_size=3, strides=(2, 2), padding=\"SAME\", activation=tf.nn.leaky_relu\n",
    "    ),\n",
    "    tf.keras.layers.Conv2DTranspose(\n",
    "        filters=1, kernel_size=3, strides=(1, 1), padding=\"SAME\", activation=tf.nn.leaky_relu\n",
    "    ),\n",
    "]"
   ]
  },
  {
   "cell_type": "code",
   "execution_count": 17,
   "metadata": {
    "ExecuteTime": {
     "end_time": "2019-10-27T07:57:54.429808Z",
     "start_time": "2019-10-27T07:57:54.324323Z"
    }
   },
   "outputs": [],
   "source": [
    "from avgn.tensorflow.GAIA6 import GAIA, plot_reconstruction"
   ]
  },
  {
   "cell_type": "code",
   "execution_count": 18,
   "metadata": {
    "ExecuteTime": {
     "end_time": "2019-10-27T07:57:54.536543Z",
     "start_time": "2019-10-27T07:57:54.432507Z"
    }
   },
   "outputs": [],
   "source": [
    "from tensorflow_probability.python.distributions import Chi2"
   ]
  },
  {
   "cell_type": "code",
   "execution_count": 19,
   "metadata": {
    "ExecuteTime": {
     "end_time": "2019-10-27T07:57:55.903141Z",
     "start_time": "2019-10-27T07:57:54.539230Z"
    }
   },
   "outputs": [],
   "source": [
    "# the unet function \n",
    "gen_optimizer = tf.keras.optimizers.Adam(1e-3, beta_1=0.5)\n",
    "disc_optimizer = tf.keras.optimizers.RMSprop(1e-4)\n",
    "    \n",
    "# model\n",
    "model = GAIA(\n",
    "    enc = encoder,\n",
    "    dec = decoder,\n",
    "    unet_function = unet_canary,\n",
    "    gen_optimizer=gen_optimizer,\n",
    "    disc_optimizer = disc_optimizer,\n",
    "    chsq = Chi2(df=1 / BATCH_SIZE),\n",
    "    d_prop_xg = 0.9,\n",
    "    g_prop_interp = 0.9\n",
    ")"
   ]
  },
  {
   "cell_type": "code",
   "execution_count": 20,
   "metadata": {
    "ExecuteTime": {
     "end_time": "2019-10-27T07:57:56.105732Z",
     "start_time": "2019-10-27T07:57:55.906406Z"
    }
   },
   "outputs": [],
   "source": [
    "# exampled data for plotting results\n",
    "example_data = next(iter(test_dataset))\n",
    "example_data = (\n",
    "        tf.cast(tf.reshape(example_data[0], [BATCH_SIZE] + list(DIMS)), tf.float32)\n",
    "        / 255\n",
    ")"
   ]
  },
  {
   "cell_type": "code",
   "execution_count": 21,
   "metadata": {
    "ExecuteTime": {
     "end_time": "2019-10-27T07:58:00.692036Z",
     "start_time": "2019-10-27T07:57:56.109444Z"
    }
   },
   "outputs": [],
   "source": [
    "model.compute_loss(example_data);"
   ]
  },
  {
   "cell_type": "code",
   "execution_count": 22,
   "metadata": {
    "ExecuteTime": {
     "end_time": "2019-10-27T07:58:03.765588Z",
     "start_time": "2019-10-27T07:58:00.694063Z"
    },
    "scrolled": false
   },
   "outputs": [
    {
     "data": {
      "image/png": "[encoded data removed]",
      "text/plain": [
       "<Figure size 1296x1080 with 30 Axes>"
      ]
     },
     "metadata": {
      "needs_background": "light"
     },
     "output_type": "display_data"
    }
   ],
   "source": [
    "plot_reconstruction(model, example_data)"
   ]
  },
  {
   "cell_type": "code",
   "execution_count": 23,
   "metadata": {
    "ExecuteTime": {
     "end_time": "2019-10-27T07:58:03.843782Z",
     "start_time": "2019-10-27T07:58:03.768123Z"
    }
   },
   "outputs": [],
   "source": [
    "def plot_losses(losses):\n",
    "    cols = list(losses.columns)\n",
    "    fig, axs = plt.subplots(ncols = len(cols), figsize= (len(cols)*4, 4))\n",
    "    for ci, col in enumerate(cols):\n",
    "        if len(cols) == 1:\n",
    "            ax = axs\n",
    "        else:\n",
    "            ax = axs.flatten()[ci]\n",
    "        ax.plot(losses[col].values)\n",
    "        ax.set_title(col)\n",
    "    plt.show()"
   ]
  },
  {
   "cell_type": "code",
   "execution_count": 24,
   "metadata": {
    "ExecuteTime": {
     "end_time": "2019-10-27T07:58:03.966047Z",
     "start_time": "2019-10-27T07:58:03.848726Z"
    }
   },
   "outputs": [],
   "source": [
    "# a pandas dataframe to save the loss information to\n",
    "losses = pd.DataFrame(\n",
    "    columns=[\n",
    "        \"X_D_G_X_loss\",\n",
    "        \"X_D_G_Zi_loss\",\n",
    "        \"X_G_loss\",\n",
    "        \"X_D_X_loss\",\n",
    "        \"X_D_X_G_X_loss\",\n",
    "        \"X_G_X_loss\",\n",
    "        \"G_loss\",\n",
    "        \"D_loss\",\n",
    "    ]\n",
    ")"
   ]
  },
  {
   "cell_type": "code",
   "execution_count": 25,
   "metadata": {
    "ExecuteTime": {
     "end_time": "2019-10-27T07:58:04.071711Z",
     "start_time": "2019-10-27T07:58:03.968548Z"
    }
   },
   "outputs": [],
   "source": [
    "N_TRAIN_BATCHES = 100"
   ]
  },
  {
   "cell_type": "code",
   "execution_count": 26,
   "metadata": {
    "ExecuteTime": {
     "end_time": "2019-10-27T07:58:04.203867Z",
     "start_time": "2019-10-27T07:58:04.073890Z"
    }
   },
   "outputs": [
    {
     "data": {
      "text/plain": [
       "(<tf.Tensor: id=3155, shape=(), dtype=float32, numpy=0.035164747>,\n",
       " <tf.Tensor: id=3156, shape=(), dtype=float32, numpy=9.25963e-08>,\n",
       " <tf.Tensor: id=3157, shape=(), dtype=float32, numpy=0.01758242>,\n",
       " <tf.Tensor: id=3158, shape=(), dtype=float32, numpy=0.12480298>,\n",
       " <tf.Tensor: id=3159, shape=(), dtype=float32, numpy=1.0794285e-07>,\n",
       " <tf.Tensor: id=3160, shape=(), dtype=float32, numpy=0.03511181>,\n",
       " <tf.Tensor: id=3161, shape=(), dtype=float32, numpy=0.035111893>,\n",
       " <tf.Tensor: id=3162, shape=(), dtype=float32, numpy=0.15996768>)"
      ]
     },
     "execution_count": 26,
     "metadata": {},
     "output_type": "execute_result"
    }
   ],
   "source": [
    "model.compute_loss(example_data)"
   ]
  },
  {
   "cell_type": "code",
   "execution_count": 27,
   "metadata": {
    "ExecuteTime": {
     "end_time": "2019-10-27T08:23:58.663312Z",
     "start_time": "2019-10-27T07:58:04.208282Z"
    }
   },
   "outputs": [
    {
     "data": {
      "image/png": "[encoded data removed]",
      "text/plain": [
       "<Figure size 864x720 with 30 Axes>"
      ]
     },
     "metadata": {
      "needs_background": "light"
     },
     "output_type": "display_data"
    },
    {
     "data": {
      "image/png": "[encoded data removed]",
      "text/plain": [
       "<Figure size 2304x288 with 8 Axes>"
      ]
     },
     "metadata": {
      "needs_background": "light"
     },
     "output_type": "display_data"
    }
   ],
   "source": [
    "n_epochs = 100\n",
    "for epoch in range(n_epochs):\n",
    "    # train\n",
    "    for batch, train_x in tqdm(\n",
    "        zip(range(N_TRAIN_BATCHES), train_dataset), total=N_TRAIN_BATCHES\n",
    "    ):\n",
    "        #print(train_x[-1].numpy()[:4])\n",
    "        x = tf.cast(tf.reshape(train_x[0], [BATCH_SIZE] + list(DIMS)), tf.float32) / 255\n",
    "        model.train_net(x)\n",
    "    # test on holdout\n",
    "    loss = []\n",
    "    for batch, test_x in tqdm(\n",
    "        zip(range(N_TEST_BATCHES), test_dataset), total=N_TEST_BATCHES\n",
    "    ):\n",
    "        x = tf.cast(tf.reshape(test_x[0], [BATCH_SIZE] + list(DIMS)), tf.float32) / 255\n",
    "        loss.append(model.compute_loss(x))\n",
    "    losses.loc[len(losses)] = np.mean(loss, axis=0)\n",
    "    # plot results\n",
    "    display.clear_output()\n",
    "    plot_reconstruction(model, example_data, zm = 2)\n",
    "    # \n",
    "    plot_losses(losses)"
   ]
  },
  {
   "cell_type": "code",
   "execution_count": 28,
   "metadata": {
    "ExecuteTime": {
     "end_time": "2019-10-27T08:24:02.572459Z",
     "start_time": "2019-10-27T08:23:58.665895Z"
    }
   },
   "outputs": [],
   "source": [
    "z, xg, zi, xi, d_xi, d_x, d_xg = model.network_pass(example_data)"
   ]
  },
  {
   "cell_type": "code",
   "execution_count": 29,
   "metadata": {
    "ExecuteTime": {
     "end_time": "2019-10-27T08:24:02.650851Z",
     "start_time": "2019-10-27T08:24:02.574768Z"
    }
   },
   "outputs": [
    {
     "data": {
      "text/plain": [
       "0.006295"
      ]
     },
     "execution_count": 29,
     "metadata": {},
     "output_type": "execute_result"
    }
   ],
   "source": [
    "0.006295"
   ]
  },
  {
   "cell_type": "code",
   "execution_count": 30,
   "metadata": {
    "ExecuteTime": {
     "end_time": "2019-10-27T08:24:06.212216Z",
     "start_time": "2019-10-27T08:24:02.652672Z"
    }
   },
   "outputs": [
    {
     "data": {
      "image/png": "[encoded data removed]",
      "text/plain": [
       "<Figure size 864x720 with 30 Axes>"
      ]
     },
     "metadata": {
      "needs_background": "light"
     },
     "output_type": "display_data"
    },
    {
     "data": {
      "image/png": "[encoded data removed]",
      "text/plain": [
       "<Figure size 2304x288 with 8 Axes>"
      ]
     },
     "metadata": {
      "needs_background": "light"
     },
     "output_type": "display_data"
    }
   ],
   "source": [
    "plot_reconstruction(model, example_data, zm = 2)\n",
    "# \n",
    "plot_losses(losses)"
   ]
  },
  {
   "cell_type": "code",
   "execution_count": 31,
   "metadata": {
    "ExecuteTime": {
     "end_time": "2019-10-27T08:24:06.378204Z",
     "start_time": "2019-10-27T08:24:06.214500Z"
    }
   },
   "outputs": [
    {
     "data": {
      "text/html": [
       "<div>\n",
       "<style scoped>\n",
       "    .dataframe tbody tr th:only-of-type {\n",
       "        vertical-align: middle;\n",
       "    }\n",
       "\n",
       "    .dataframe tbody tr th {\n",
       "        vertical-align: top;\n",
       "    }\n",
       "\n",
       "    .dataframe thead th {\n",
       "        text-align: right;\n",
       "    }\n",
       "</style>\n",
       "<table border=\"1\" class=\"dataframe\">\n",
       "  <thead>\n",
       "    <tr style=\"text-align: right;\">\n",
       "      <th></th>\n",
       "      <th>X_D_G_X_loss</th>\n",
       "      <th>X_D_G_Zi_loss</th>\n",
       "      <th>X_G_loss</th>\n",
       "      <th>X_D_X_loss</th>\n",
       "      <th>X_D_X_G_X_loss</th>\n",
       "      <th>X_G_X_loss</th>\n",
       "      <th>G_loss</th>\n",
       "      <th>D_loss</th>\n",
       "    </tr>\n",
       "  </thead>\n",
       "  <tbody>\n",
       "    <tr>\n",
       "      <th>0</th>\n",
       "      <td>0.009027</td>\n",
       "      <td>0.000585</td>\n",
       "      <td>0.004806</td>\n",
       "      <td>0.003196</td>\n",
       "      <td>0.000648</td>\n",
       "      <td>0.008109</td>\n",
       "      <td>0.008635</td>\n",
       "      <td>0.011931</td>\n",
       "    </tr>\n",
       "    <tr>\n",
       "      <th>1</th>\n",
       "      <td>0.005605</td>\n",
       "      <td>0.000236</td>\n",
       "      <td>0.002920</td>\n",
       "      <td>0.001253</td>\n",
       "      <td>0.000307</td>\n",
       "      <td>0.005371</td>\n",
       "      <td>0.005583</td>\n",
       "      <td>0.006741</td>\n",
       "    </tr>\n",
       "    <tr>\n",
       "      <th>2</th>\n",
       "      <td>0.005148</td>\n",
       "      <td>0.000216</td>\n",
       "      <td>0.002682</td>\n",
       "      <td>0.000961</td>\n",
       "      <td>0.000303</td>\n",
       "      <td>0.004577</td>\n",
       "      <td>0.004772</td>\n",
       "      <td>0.006001</td>\n",
       "    </tr>\n",
       "    <tr>\n",
       "      <th>3</th>\n",
       "      <td>0.004121</td>\n",
       "      <td>0.000386</td>\n",
       "      <td>0.002253</td>\n",
       "      <td>0.000731</td>\n",
       "      <td>0.000387</td>\n",
       "      <td>0.003560</td>\n",
       "      <td>0.003907</td>\n",
       "      <td>0.004658</td>\n",
       "    </tr>\n",
       "    <tr>\n",
       "      <th>4</th>\n",
       "      <td>0.003017</td>\n",
       "      <td>0.000215</td>\n",
       "      <td>0.001616</td>\n",
       "      <td>0.000503</td>\n",
       "      <td>0.000232</td>\n",
       "      <td>0.002848</td>\n",
       "      <td>0.003042</td>\n",
       "      <td>0.003413</td>\n",
       "    </tr>\n",
       "    <tr>\n",
       "      <th>5</th>\n",
       "      <td>0.003047</td>\n",
       "      <td>0.000182</td>\n",
       "      <td>0.001615</td>\n",
       "      <td>0.000478</td>\n",
       "      <td>0.000211</td>\n",
       "      <td>0.002779</td>\n",
       "      <td>0.002943</td>\n",
       "      <td>0.003434</td>\n",
       "    </tr>\n",
       "    <tr>\n",
       "      <th>6</th>\n",
       "      <td>0.002847</td>\n",
       "      <td>0.000247</td>\n",
       "      <td>0.001547</td>\n",
       "      <td>0.000444</td>\n",
       "      <td>0.000278</td>\n",
       "      <td>0.002469</td>\n",
       "      <td>0.002691</td>\n",
       "      <td>0.003168</td>\n",
       "    </tr>\n",
       "    <tr>\n",
       "      <th>7</th>\n",
       "      <td>0.002446</td>\n",
       "      <td>0.000141</td>\n",
       "      <td>0.001294</td>\n",
       "      <td>0.000360</td>\n",
       "      <td>0.000173</td>\n",
       "      <td>0.002317</td>\n",
       "      <td>0.002444</td>\n",
       "      <td>0.002736</td>\n",
       "    </tr>\n",
       "    <tr>\n",
       "      <th>8</th>\n",
       "      <td>0.002398</td>\n",
       "      <td>0.000150</td>\n",
       "      <td>0.001274</td>\n",
       "      <td>0.000344</td>\n",
       "      <td>0.000174</td>\n",
       "      <td>0.002183</td>\n",
       "      <td>0.002318</td>\n",
       "      <td>0.002667</td>\n",
       "    </tr>\n",
       "    <tr>\n",
       "      <th>9</th>\n",
       "      <td>0.002065</td>\n",
       "      <td>0.000180</td>\n",
       "      <td>0.001123</td>\n",
       "      <td>0.000289</td>\n",
       "      <td>0.000176</td>\n",
       "      <td>0.001915</td>\n",
       "      <td>0.002077</td>\n",
       "      <td>0.002264</td>\n",
       "    </tr>\n",
       "    <tr>\n",
       "      <th>10</th>\n",
       "      <td>0.002161</td>\n",
       "      <td>0.000117</td>\n",
       "      <td>0.001139</td>\n",
       "      <td>0.000289</td>\n",
       "      <td>0.000141</td>\n",
       "      <td>0.001998</td>\n",
       "      <td>0.002103</td>\n",
       "      <td>0.002391</td>\n",
       "    </tr>\n",
       "    <tr>\n",
       "      <th>11</th>\n",
       "      <td>0.002178</td>\n",
       "      <td>0.000133</td>\n",
       "      <td>0.001155</td>\n",
       "      <td>0.000262</td>\n",
       "      <td>0.000148</td>\n",
       "      <td>0.001989</td>\n",
       "      <td>0.002109</td>\n",
       "      <td>0.002374</td>\n",
       "    </tr>\n",
       "    <tr>\n",
       "      <th>12</th>\n",
       "      <td>0.002195</td>\n",
       "      <td>0.000281</td>\n",
       "      <td>0.001238</td>\n",
       "      <td>0.000278</td>\n",
       "      <td>0.000214</td>\n",
       "      <td>0.001892</td>\n",
       "      <td>0.002137</td>\n",
       "      <td>0.002337</td>\n",
       "    </tr>\n",
       "    <tr>\n",
       "      <th>13</th>\n",
       "      <td>0.001830</td>\n",
       "      <td>0.000153</td>\n",
       "      <td>0.000992</td>\n",
       "      <td>0.000230</td>\n",
       "      <td>0.000156</td>\n",
       "      <td>0.001654</td>\n",
       "      <td>0.001792</td>\n",
       "      <td>0.001983</td>\n",
       "    </tr>\n",
       "    <tr>\n",
       "      <th>14</th>\n",
       "      <td>0.001929</td>\n",
       "      <td>0.000129</td>\n",
       "      <td>0.001029</td>\n",
       "      <td>0.000259</td>\n",
       "      <td>0.000153</td>\n",
       "      <td>0.001669</td>\n",
       "      <td>0.001785</td>\n",
       "      <td>0.002124</td>\n",
       "    </tr>\n",
       "    <tr>\n",
       "      <th>15</th>\n",
       "      <td>0.001629</td>\n",
       "      <td>0.000128</td>\n",
       "      <td>0.000878</td>\n",
       "      <td>0.000190</td>\n",
       "      <td>0.000126</td>\n",
       "      <td>0.001526</td>\n",
       "      <td>0.001641</td>\n",
       "      <td>0.001755</td>\n",
       "    </tr>\n",
       "    <tr>\n",
       "      <th>16</th>\n",
       "      <td>0.001706</td>\n",
       "      <td>0.000141</td>\n",
       "      <td>0.000924</td>\n",
       "      <td>0.000227</td>\n",
       "      <td>0.000168</td>\n",
       "      <td>0.001563</td>\n",
       "      <td>0.001690</td>\n",
       "      <td>0.001863</td>\n",
       "    </tr>\n",
       "    <tr>\n",
       "      <th>17</th>\n",
       "      <td>0.001847</td>\n",
       "      <td>0.000308</td>\n",
       "      <td>0.001077</td>\n",
       "      <td>0.000274</td>\n",
       "      <td>0.000202</td>\n",
       "      <td>0.001599</td>\n",
       "      <td>0.001843</td>\n",
       "      <td>0.001985</td>\n",
       "    </tr>\n",
       "    <tr>\n",
       "      <th>18</th>\n",
       "      <td>0.001636</td>\n",
       "      <td>0.000085</td>\n",
       "      <td>0.000860</td>\n",
       "      <td>0.000186</td>\n",
       "      <td>0.000103</td>\n",
       "      <td>0.001545</td>\n",
       "      <td>0.001621</td>\n",
       "      <td>0.001779</td>\n",
       "    </tr>\n",
       "    <tr>\n",
       "      <th>19</th>\n",
       "      <td>0.001455</td>\n",
       "      <td>0.000091</td>\n",
       "      <td>0.000773</td>\n",
       "      <td>0.000155</td>\n",
       "      <td>0.000100</td>\n",
       "      <td>0.001381</td>\n",
       "      <td>0.001463</td>\n",
       "      <td>0.001564</td>\n",
       "    </tr>\n",
       "    <tr>\n",
       "      <th>20</th>\n",
       "      <td>0.001454</td>\n",
       "      <td>0.000107</td>\n",
       "      <td>0.000781</td>\n",
       "      <td>0.000153</td>\n",
       "      <td>0.000105</td>\n",
       "      <td>0.001366</td>\n",
       "      <td>0.001462</td>\n",
       "      <td>0.001554</td>\n",
       "    </tr>\n",
       "    <tr>\n",
       "      <th>21</th>\n",
       "      <td>0.001552</td>\n",
       "      <td>0.000127</td>\n",
       "      <td>0.000840</td>\n",
       "      <td>0.000165</td>\n",
       "      <td>0.000109</td>\n",
       "      <td>0.001417</td>\n",
       "      <td>0.001531</td>\n",
       "      <td>0.001654</td>\n",
       "    </tr>\n",
       "    <tr>\n",
       "      <th>22</th>\n",
       "      <td>0.001431</td>\n",
       "      <td>0.000085</td>\n",
       "      <td>0.000758</td>\n",
       "      <td>0.000139</td>\n",
       "      <td>0.000090</td>\n",
       "      <td>0.001367</td>\n",
       "      <td>0.001443</td>\n",
       "      <td>0.001528</td>\n",
       "    </tr>\n",
       "    <tr>\n",
       "      <th>23</th>\n",
       "      <td>0.001445</td>\n",
       "      <td>0.000125</td>\n",
       "      <td>0.000785</td>\n",
       "      <td>0.000166</td>\n",
       "      <td>0.000127</td>\n",
       "      <td>0.001300</td>\n",
       "      <td>0.001413</td>\n",
       "      <td>0.001548</td>\n",
       "    </tr>\n",
       "    <tr>\n",
       "      <th>24</th>\n",
       "      <td>0.001479</td>\n",
       "      <td>0.000116</td>\n",
       "      <td>0.000797</td>\n",
       "      <td>0.000150</td>\n",
       "      <td>0.000112</td>\n",
       "      <td>0.001344</td>\n",
       "      <td>0.001448</td>\n",
       "      <td>0.001571</td>\n",
       "    </tr>\n",
       "    <tr>\n",
       "      <th>25</th>\n",
       "      <td>0.001465</td>\n",
       "      <td>0.000108</td>\n",
       "      <td>0.000786</td>\n",
       "      <td>0.000143</td>\n",
       "      <td>0.000096</td>\n",
       "      <td>0.001371</td>\n",
       "      <td>0.001468</td>\n",
       "      <td>0.001554</td>\n",
       "    </tr>\n",
       "    <tr>\n",
       "      <th>26</th>\n",
       "      <td>0.001506</td>\n",
       "      <td>0.000129</td>\n",
       "      <td>0.000817</td>\n",
       "      <td>0.000149</td>\n",
       "      <td>0.000094</td>\n",
       "      <td>0.001377</td>\n",
       "      <td>0.001491</td>\n",
       "      <td>0.001592</td>\n",
       "    </tr>\n",
       "    <tr>\n",
       "      <th>27</th>\n",
       "      <td>0.001356</td>\n",
       "      <td>0.000112</td>\n",
       "      <td>0.000734</td>\n",
       "      <td>0.000134</td>\n",
       "      <td>0.000094</td>\n",
       "      <td>0.001286</td>\n",
       "      <td>0.001385</td>\n",
       "      <td>0.001436</td>\n",
       "    </tr>\n",
       "    <tr>\n",
       "      <th>28</th>\n",
       "      <td>0.001868</td>\n",
       "      <td>0.000159</td>\n",
       "      <td>0.001014</td>\n",
       "      <td>0.000185</td>\n",
       "      <td>0.000146</td>\n",
       "      <td>0.001617</td>\n",
       "      <td>0.001759</td>\n",
       "      <td>0.001974</td>\n",
       "    </tr>\n",
       "    <tr>\n",
       "      <th>29</th>\n",
       "      <td>0.001284</td>\n",
       "      <td>0.000095</td>\n",
       "      <td>0.000690</td>\n",
       "      <td>0.000118</td>\n",
       "      <td>0.000079</td>\n",
       "      <td>0.001220</td>\n",
       "      <td>0.001305</td>\n",
       "      <td>0.001356</td>\n",
       "    </tr>\n",
       "    <tr>\n",
       "      <th>...</th>\n",
       "      <td>...</td>\n",
       "      <td>...</td>\n",
       "      <td>...</td>\n",
       "      <td>...</td>\n",
       "      <td>...</td>\n",
       "      <td>...</td>\n",
       "      <td>...</td>\n",
       "      <td>...</td>\n",
       "    </tr>\n",
       "    <tr>\n",
       "      <th>70</th>\n",
       "      <td>0.038144</td>\n",
       "      <td>1.000000</td>\n",
       "      <td>0.519072</td>\n",
       "      <td>0.000636</td>\n",
       "      <td>1.000000</td>\n",
       "      <td>1.000000</td>\n",
       "      <td>1.000572</td>\n",
       "      <td>0.038462</td>\n",
       "    </tr>\n",
       "    <tr>\n",
       "      <th>71</th>\n",
       "      <td>0.035930</td>\n",
       "      <td>1.000000</td>\n",
       "      <td>0.517965</td>\n",
       "      <td>0.000626</td>\n",
       "      <td>1.000000</td>\n",
       "      <td>1.000000</td>\n",
       "      <td>1.000563</td>\n",
       "      <td>0.036243</td>\n",
       "    </tr>\n",
       "    <tr>\n",
       "      <th>72</th>\n",
       "      <td>0.048163</td>\n",
       "      <td>1.000000</td>\n",
       "      <td>0.524082</td>\n",
       "      <td>0.000627</td>\n",
       "      <td>1.000000</td>\n",
       "      <td>1.000000</td>\n",
       "      <td>1.000564</td>\n",
       "      <td>0.048477</td>\n",
       "    </tr>\n",
       "    <tr>\n",
       "      <th>73</th>\n",
       "      <td>0.039190</td>\n",
       "      <td>1.000000</td>\n",
       "      <td>0.519595</td>\n",
       "      <td>0.000617</td>\n",
       "      <td>1.000000</td>\n",
       "      <td>1.000000</td>\n",
       "      <td>1.000555</td>\n",
       "      <td>0.039498</td>\n",
       "    </tr>\n",
       "    <tr>\n",
       "      <th>74</th>\n",
       "      <td>0.038967</td>\n",
       "      <td>1.000000</td>\n",
       "      <td>0.519483</td>\n",
       "      <td>0.000617</td>\n",
       "      <td>1.000000</td>\n",
       "      <td>1.000000</td>\n",
       "      <td>1.000555</td>\n",
       "      <td>0.039275</td>\n",
       "    </tr>\n",
       "    <tr>\n",
       "      <th>75</th>\n",
       "      <td>0.038432</td>\n",
       "      <td>1.000000</td>\n",
       "      <td>0.519216</td>\n",
       "      <td>0.000605</td>\n",
       "      <td>1.000000</td>\n",
       "      <td>1.000000</td>\n",
       "      <td>1.000545</td>\n",
       "      <td>0.038734</td>\n",
       "    </tr>\n",
       "    <tr>\n",
       "      <th>76</th>\n",
       "      <td>0.036496</td>\n",
       "      <td>1.000000</td>\n",
       "      <td>0.518248</td>\n",
       "      <td>0.000595</td>\n",
       "      <td>1.000000</td>\n",
       "      <td>1.000000</td>\n",
       "      <td>1.000535</td>\n",
       "      <td>0.036793</td>\n",
       "    </tr>\n",
       "    <tr>\n",
       "      <th>77</th>\n",
       "      <td>0.037911</td>\n",
       "      <td>1.000000</td>\n",
       "      <td>0.518955</td>\n",
       "      <td>0.000594</td>\n",
       "      <td>1.000000</td>\n",
       "      <td>1.000000</td>\n",
       "      <td>1.000535</td>\n",
       "      <td>0.038208</td>\n",
       "    </tr>\n",
       "    <tr>\n",
       "      <th>78</th>\n",
       "      <td>0.036708</td>\n",
       "      <td>1.000000</td>\n",
       "      <td>0.518354</td>\n",
       "      <td>0.000585</td>\n",
       "      <td>1.000000</td>\n",
       "      <td>1.000000</td>\n",
       "      <td>1.000527</td>\n",
       "      <td>0.037001</td>\n",
       "    </tr>\n",
       "    <tr>\n",
       "      <th>79</th>\n",
       "      <td>0.033067</td>\n",
       "      <td>1.000000</td>\n",
       "      <td>0.516533</td>\n",
       "      <td>0.000583</td>\n",
       "      <td>1.000000</td>\n",
       "      <td>1.000000</td>\n",
       "      <td>1.000525</td>\n",
       "      <td>0.033359</td>\n",
       "    </tr>\n",
       "    <tr>\n",
       "      <th>80</th>\n",
       "      <td>0.031437</td>\n",
       "      <td>1.000000</td>\n",
       "      <td>0.515718</td>\n",
       "      <td>0.000599</td>\n",
       "      <td>1.000000</td>\n",
       "      <td>1.000000</td>\n",
       "      <td>1.000539</td>\n",
       "      <td>0.031736</td>\n",
       "    </tr>\n",
       "    <tr>\n",
       "      <th>81</th>\n",
       "      <td>0.029945</td>\n",
       "      <td>1.000000</td>\n",
       "      <td>0.514972</td>\n",
       "      <td>0.000590</td>\n",
       "      <td>1.000000</td>\n",
       "      <td>1.000000</td>\n",
       "      <td>1.000531</td>\n",
       "      <td>0.030240</td>\n",
       "    </tr>\n",
       "    <tr>\n",
       "      <th>82</th>\n",
       "      <td>0.027015</td>\n",
       "      <td>1.000000</td>\n",
       "      <td>0.513508</td>\n",
       "      <td>0.000579</td>\n",
       "      <td>1.000000</td>\n",
       "      <td>1.000000</td>\n",
       "      <td>1.000521</td>\n",
       "      <td>0.027305</td>\n",
       "    </tr>\n",
       "    <tr>\n",
       "      <th>83</th>\n",
       "      <td>0.028240</td>\n",
       "      <td>1.000000</td>\n",
       "      <td>0.514120</td>\n",
       "      <td>0.000577</td>\n",
       "      <td>1.000000</td>\n",
       "      <td>1.000000</td>\n",
       "      <td>1.000519</td>\n",
       "      <td>0.028529</td>\n",
       "    </tr>\n",
       "    <tr>\n",
       "      <th>84</th>\n",
       "      <td>0.027362</td>\n",
       "      <td>1.000000</td>\n",
       "      <td>0.513681</td>\n",
       "      <td>0.000567</td>\n",
       "      <td>1.000000</td>\n",
       "      <td>1.000000</td>\n",
       "      <td>1.000511</td>\n",
       "      <td>0.027646</td>\n",
       "    </tr>\n",
       "    <tr>\n",
       "      <th>85</th>\n",
       "      <td>0.028664</td>\n",
       "      <td>1.000000</td>\n",
       "      <td>0.514332</td>\n",
       "      <td>0.000574</td>\n",
       "      <td>1.000000</td>\n",
       "      <td>1.000000</td>\n",
       "      <td>1.000517</td>\n",
       "      <td>0.028951</td>\n",
       "    </tr>\n",
       "    <tr>\n",
       "      <th>86</th>\n",
       "      <td>0.026073</td>\n",
       "      <td>1.000000</td>\n",
       "      <td>0.513036</td>\n",
       "      <td>0.000559</td>\n",
       "      <td>1.000000</td>\n",
       "      <td>1.000000</td>\n",
       "      <td>1.000504</td>\n",
       "      <td>0.026352</td>\n",
       "    </tr>\n",
       "    <tr>\n",
       "      <th>87</th>\n",
       "      <td>0.028530</td>\n",
       "      <td>1.000000</td>\n",
       "      <td>0.514265</td>\n",
       "      <td>0.000547</td>\n",
       "      <td>1.000000</td>\n",
       "      <td>1.000000</td>\n",
       "      <td>1.000492</td>\n",
       "      <td>0.028803</td>\n",
       "    </tr>\n",
       "    <tr>\n",
       "      <th>88</th>\n",
       "      <td>0.027576</td>\n",
       "      <td>1.000000</td>\n",
       "      <td>0.513788</td>\n",
       "      <td>0.000546</td>\n",
       "      <td>1.000000</td>\n",
       "      <td>1.000000</td>\n",
       "      <td>1.000491</td>\n",
       "      <td>0.027849</td>\n",
       "    </tr>\n",
       "    <tr>\n",
       "      <th>89</th>\n",
       "      <td>0.025242</td>\n",
       "      <td>1.000000</td>\n",
       "      <td>0.512621</td>\n",
       "      <td>0.000536</td>\n",
       "      <td>1.000000</td>\n",
       "      <td>1.000000</td>\n",
       "      <td>1.000483</td>\n",
       "      <td>0.025511</td>\n",
       "    </tr>\n",
       "    <tr>\n",
       "      <th>90</th>\n",
       "      <td>0.031251</td>\n",
       "      <td>1.000000</td>\n",
       "      <td>0.515625</td>\n",
       "      <td>0.000585</td>\n",
       "      <td>1.000000</td>\n",
       "      <td>1.000000</td>\n",
       "      <td>1.000526</td>\n",
       "      <td>0.031543</td>\n",
       "    </tr>\n",
       "    <tr>\n",
       "      <th>91</th>\n",
       "      <td>0.032631</td>\n",
       "      <td>1.000000</td>\n",
       "      <td>0.516316</td>\n",
       "      <td>0.000529</td>\n",
       "      <td>1.000000</td>\n",
       "      <td>1.000000</td>\n",
       "      <td>1.000476</td>\n",
       "      <td>0.032896</td>\n",
       "    </tr>\n",
       "    <tr>\n",
       "      <th>92</th>\n",
       "      <td>0.027248</td>\n",
       "      <td>1.000000</td>\n",
       "      <td>0.513624</td>\n",
       "      <td>0.000518</td>\n",
       "      <td>1.000000</td>\n",
       "      <td>1.000000</td>\n",
       "      <td>1.000466</td>\n",
       "      <td>0.027507</td>\n",
       "    </tr>\n",
       "    <tr>\n",
       "      <th>93</th>\n",
       "      <td>0.026782</td>\n",
       "      <td>1.000000</td>\n",
       "      <td>0.513391</td>\n",
       "      <td>0.000543</td>\n",
       "      <td>1.000000</td>\n",
       "      <td>1.000000</td>\n",
       "      <td>1.000489</td>\n",
       "      <td>0.027054</td>\n",
       "    </tr>\n",
       "    <tr>\n",
       "      <th>94</th>\n",
       "      <td>0.026798</td>\n",
       "      <td>1.000000</td>\n",
       "      <td>0.513399</td>\n",
       "      <td>0.000559</td>\n",
       "      <td>1.000000</td>\n",
       "      <td>1.000000</td>\n",
       "      <td>1.000503</td>\n",
       "      <td>0.027077</td>\n",
       "    </tr>\n",
       "    <tr>\n",
       "      <th>95</th>\n",
       "      <td>0.024758</td>\n",
       "      <td>1.000000</td>\n",
       "      <td>0.512379</td>\n",
       "      <td>0.000509</td>\n",
       "      <td>1.000000</td>\n",
       "      <td>1.000000</td>\n",
       "      <td>1.000458</td>\n",
       "      <td>0.025012</td>\n",
       "    </tr>\n",
       "    <tr>\n",
       "      <th>96</th>\n",
       "      <td>0.026874</td>\n",
       "      <td>1.000000</td>\n",
       "      <td>0.513437</td>\n",
       "      <td>0.000541</td>\n",
       "      <td>1.000000</td>\n",
       "      <td>1.000000</td>\n",
       "      <td>1.000487</td>\n",
       "      <td>0.027144</td>\n",
       "    </tr>\n",
       "    <tr>\n",
       "      <th>97</th>\n",
       "      <td>0.026237</td>\n",
       "      <td>1.000000</td>\n",
       "      <td>0.513119</td>\n",
       "      <td>0.000511</td>\n",
       "      <td>1.000000</td>\n",
       "      <td>1.000000</td>\n",
       "      <td>1.000460</td>\n",
       "      <td>0.026493</td>\n",
       "    </tr>\n",
       "    <tr>\n",
       "      <th>98</th>\n",
       "      <td>0.025953</td>\n",
       "      <td>1.000000</td>\n",
       "      <td>0.512976</td>\n",
       "      <td>0.000508</td>\n",
       "      <td>1.000000</td>\n",
       "      <td>1.000000</td>\n",
       "      <td>1.000457</td>\n",
       "      <td>0.026207</td>\n",
       "    </tr>\n",
       "    <tr>\n",
       "      <th>99</th>\n",
       "      <td>0.025916</td>\n",
       "      <td>1.000000</td>\n",
       "      <td>0.512958</td>\n",
       "      <td>0.000494</td>\n",
       "      <td>1.000000</td>\n",
       "      <td>1.000000</td>\n",
       "      <td>1.000444</td>\n",
       "      <td>0.026163</td>\n",
       "    </tr>\n",
       "  </tbody>\n",
       "</table>\n",
       "<p>100 rows × 8 columns</p>\n",
       "</div>"
      ],
      "text/plain": [
       "    X_D_G_X_loss  X_D_G_Zi_loss  X_G_loss  X_D_X_loss  X_D_X_G_X_loss  \\\n",
       "0       0.009027       0.000585  0.004806    0.003196        0.000648   \n",
       "1       0.005605       0.000236  0.002920    0.001253        0.000307   \n",
       "2       0.005148       0.000216  0.002682    0.000961        0.000303   \n",
       "3       0.004121       0.000386  0.002253    0.000731        0.000387   \n",
       "4       0.003017       0.000215  0.001616    0.000503        0.000232   \n",
       "5       0.003047       0.000182  0.001615    0.000478        0.000211   \n",
       "6       0.002847       0.000247  0.001547    0.000444        0.000278   \n",
       "7       0.002446       0.000141  0.001294    0.000360        0.000173   \n",
       "8       0.002398       0.000150  0.001274    0.000344        0.000174   \n",
       "9       0.002065       0.000180  0.001123    0.000289        0.000176   \n",
       "10      0.002161       0.000117  0.001139    0.000289        0.000141   \n",
       "11      0.002178       0.000133  0.001155    0.000262        0.000148   \n",
       "12      0.002195       0.000281  0.001238    0.000278        0.000214   \n",
       "13      0.001830       0.000153  0.000992    0.000230        0.000156   \n",
       "14      0.001929       0.000129  0.001029    0.000259        0.000153   \n",
       "15      0.001629       0.000128  0.000878    0.000190        0.000126   \n",
       "16      0.001706       0.000141  0.000924    0.000227        0.000168   \n",
       "17      0.001847       0.000308  0.001077    0.000274        0.000202   \n",
       "18      0.001636       0.000085  0.000860    0.000186        0.000103   \n",
       "19      0.001455       0.000091  0.000773    0.000155        0.000100   \n",
       "20      0.001454       0.000107  0.000781    0.000153        0.000105   \n",
       "21      0.001552       0.000127  0.000840    0.000165        0.000109   \n",
       "22      0.001431       0.000085  0.000758    0.000139        0.000090   \n",
       "23      0.001445       0.000125  0.000785    0.000166        0.000127   \n",
       "24      0.001479       0.000116  0.000797    0.000150        0.000112   \n",
       "25      0.001465       0.000108  0.000786    0.000143        0.000096   \n",
       "26      0.001506       0.000129  0.000817    0.000149        0.000094   \n",
       "27      0.001356       0.000112  0.000734    0.000134        0.000094   \n",
       "28      0.001868       0.000159  0.001014    0.000185        0.000146   \n",
       "29      0.001284       0.000095  0.000690    0.000118        0.000079   \n",
       "..           ...            ...       ...         ...             ...   \n",
       "70      0.038144       1.000000  0.519072    0.000636        1.000000   \n",
       "71      0.035930       1.000000  0.517965    0.000626        1.000000   \n",
       "72      0.048163       1.000000  0.524082    0.000627        1.000000   \n",
       "73      0.039190       1.000000  0.519595    0.000617        1.000000   \n",
       "74      0.038967       1.000000  0.519483    0.000617        1.000000   \n",
       "75      0.038432       1.000000  0.519216    0.000605        1.000000   \n",
       "76      0.036496       1.000000  0.518248    0.000595        1.000000   \n",
       "77      0.037911       1.000000  0.518955    0.000594        1.000000   \n",
       "78      0.036708       1.000000  0.518354    0.000585        1.000000   \n",
       "79      0.033067       1.000000  0.516533    0.000583        1.000000   \n",
       "80      0.031437       1.000000  0.515718    0.000599        1.000000   \n",
       "81      0.029945       1.000000  0.514972    0.000590        1.000000   \n",
       "82      0.027015       1.000000  0.513508    0.000579        1.000000   \n",
       "83      0.028240       1.000000  0.514120    0.000577        1.000000   \n",
       "84      0.027362       1.000000  0.513681    0.000567        1.000000   \n",
       "85      0.028664       1.000000  0.514332    0.000574        1.000000   \n",
       "86      0.026073       1.000000  0.513036    0.000559        1.000000   \n",
       "87      0.028530       1.000000  0.514265    0.000547        1.000000   \n",
       "88      0.027576       1.000000  0.513788    0.000546        1.000000   \n",
       "89      0.025242       1.000000  0.512621    0.000536        1.000000   \n",
       "90      0.031251       1.000000  0.515625    0.000585        1.000000   \n",
       "91      0.032631       1.000000  0.516316    0.000529        1.000000   \n",
       "92      0.027248       1.000000  0.513624    0.000518        1.000000   \n",
       "93      0.026782       1.000000  0.513391    0.000543        1.000000   \n",
       "94      0.026798       1.000000  0.513399    0.000559        1.000000   \n",
       "95      0.024758       1.000000  0.512379    0.000509        1.000000   \n",
       "96      0.026874       1.000000  0.513437    0.000541        1.000000   \n",
       "97      0.026237       1.000000  0.513119    0.000511        1.000000   \n",
       "98      0.025953       1.000000  0.512976    0.000508        1.000000   \n",
       "99      0.025916       1.000000  0.512958    0.000494        1.000000   \n",
       "\n",
       "    X_G_X_loss    G_loss    D_loss  \n",
       "0     0.008109  0.008635  0.011931  \n",
       "1     0.005371  0.005583  0.006741  \n",
       "2     0.004577  0.004772  0.006001  \n",
       "3     0.003560  0.003907  0.004658  \n",
       "4     0.002848  0.003042  0.003413  \n",
       "5     0.002779  0.002943  0.003434  \n",
       "6     0.002469  0.002691  0.003168  \n",
       "7     0.002317  0.002444  0.002736  \n",
       "8     0.002183  0.002318  0.002667  \n",
       "9     0.001915  0.002077  0.002264  \n",
       "10    0.001998  0.002103  0.002391  \n",
       "11    0.001989  0.002109  0.002374  \n",
       "12    0.001892  0.002137  0.002337  \n",
       "13    0.001654  0.001792  0.001983  \n",
       "14    0.001669  0.001785  0.002124  \n",
       "15    0.001526  0.001641  0.001755  \n",
       "16    0.001563  0.001690  0.001863  \n",
       "17    0.001599  0.001843  0.001985  \n",
       "18    0.001545  0.001621  0.001779  \n",
       "19    0.001381  0.001463  0.001564  \n",
       "20    0.001366  0.001462  0.001554  \n",
       "21    0.001417  0.001531  0.001654  \n",
       "22    0.001367  0.001443  0.001528  \n",
       "23    0.001300  0.001413  0.001548  \n",
       "24    0.001344  0.001448  0.001571  \n",
       "25    0.001371  0.001468  0.001554  \n",
       "26    0.001377  0.001491  0.001592  \n",
       "27    0.001286  0.001385  0.001436  \n",
       "28    0.001617  0.001759  0.001974  \n",
       "29    0.001220  0.001305  0.001356  \n",
       "..         ...       ...       ...  \n",
       "70    1.000000  1.000572  0.038462  \n",
       "71    1.000000  1.000563  0.036243  \n",
       "72    1.000000  1.000564  0.048477  \n",
       "73    1.000000  1.000555  0.039498  \n",
       "74    1.000000  1.000555  0.039275  \n",
       "75    1.000000  1.000545  0.038734  \n",
       "76    1.000000  1.000535  0.036793  \n",
       "77    1.000000  1.000535  0.038208  \n",
       "78    1.000000  1.000527  0.037001  \n",
       "79    1.000000  1.000525  0.033359  \n",
       "80    1.000000  1.000539  0.031736  \n",
       "81    1.000000  1.000531  0.030240  \n",
       "82    1.000000  1.000521  0.027305  \n",
       "83    1.000000  1.000519  0.028529  \n",
       "84    1.000000  1.000511  0.027646  \n",
       "85    1.000000  1.000517  0.028951  \n",
       "86    1.000000  1.000504  0.026352  \n",
       "87    1.000000  1.000492  0.028803  \n",
       "88    1.000000  1.000491  0.027849  \n",
       "89    1.000000  1.000483  0.025511  \n",
       "90    1.000000  1.000526  0.031543  \n",
       "91    1.000000  1.000476  0.032896  \n",
       "92    1.000000  1.000466  0.027507  \n",
       "93    1.000000  1.000489  0.027054  \n",
       "94    1.000000  1.000503  0.027077  \n",
       "95    1.000000  1.000458  0.025012  \n",
       "96    1.000000  1.000487  0.027144  \n",
       "97    1.000000  1.000460  0.026493  \n",
       "98    1.000000  1.000457  0.026207  \n",
       "99    1.000000  1.000444  0.026163  \n",
       "\n",
       "[100 rows x 8 columns]"
      ]
     },
     "execution_count": 31,
     "metadata": {},
     "output_type": "execute_result"
    }
   ],
   "source": [
    "losses"
   ]
  },
  {
   "cell_type": "code",
   "execution_count": null,
   "metadata": {},
   "outputs": [],
   "source": []
  },
  {
   "cell_type": "code",
   "execution_count": 32,
   "metadata": {
    "ExecuteTime": {
     "end_time": "2019-10-27T08:24:07.361392Z",
     "start_time": "2019-10-27T08:24:06.380428Z"
    }
   },
   "outputs": [
    {
     "ename": "AttributeError",
     "evalue": "'DataFrame' object has no attribute 'D_prop_gen'",
     "output_type": "error",
     "traceback": [
      "\u001b[0;31m---------------------------------------------------------------------------\u001b[0m",
      "\u001b[0;31mAttributeError\u001b[0m                            Traceback (most recent call last)",
      "\u001b[0;32m<ipython-input-32-cbd5a1d91980>\u001b[0m in \u001b[0;36m<module>\u001b[0;34m\u001b[0m\n\u001b[0;32m----> 1\u001b[0;31m \u001b[0mlosses\u001b[0m\u001b[0;34m.\u001b[0m\u001b[0mD_prop_gen\u001b[0m\u001b[0;34m.\u001b[0m\u001b[0mvalues\u001b[0m\u001b[0;34m\u001b[0m\u001b[0;34m\u001b[0m\u001b[0m\n\u001b[0m",
      "\u001b[0;32m/mnt/cube/tsainbur/conda_envs/tpy3/lib/python3.6/site-packages/pandas/core/generic.py\u001b[0m in \u001b[0;36m__getattr__\u001b[0;34m(self, name)\u001b[0m\n\u001b[1;32m   5065\u001b[0m             \u001b[0;32mif\u001b[0m \u001b[0mself\u001b[0m\u001b[0;34m.\u001b[0m\u001b[0m_info_axis\u001b[0m\u001b[0;34m.\u001b[0m\u001b[0m_can_hold_identifiers_and_holds_name\u001b[0m\u001b[0;34m(\u001b[0m\u001b[0mname\u001b[0m\u001b[0;34m)\u001b[0m\u001b[0;34m:\u001b[0m\u001b[0;34m\u001b[0m\u001b[0;34m\u001b[0m\u001b[0m\n\u001b[1;32m   5066\u001b[0m                 \u001b[0;32mreturn\u001b[0m \u001b[0mself\u001b[0m\u001b[0;34m[\u001b[0m\u001b[0mname\u001b[0m\u001b[0;34m]\u001b[0m\u001b[0;34m\u001b[0m\u001b[0;34m\u001b[0m\u001b[0m\n\u001b[0;32m-> 5067\u001b[0;31m             \u001b[0;32mreturn\u001b[0m \u001b[0mobject\u001b[0m\u001b[0;34m.\u001b[0m\u001b[0m__getattribute__\u001b[0m\u001b[0;34m(\u001b[0m\u001b[0mself\u001b[0m\u001b[0;34m,\u001b[0m \u001b[0mname\u001b[0m\u001b[0;34m)\u001b[0m\u001b[0;34m\u001b[0m\u001b[0;34m\u001b[0m\u001b[0m\n\u001b[0m\u001b[1;32m   5068\u001b[0m \u001b[0;34m\u001b[0m\u001b[0m\n\u001b[1;32m   5069\u001b[0m     \u001b[0;32mdef\u001b[0m \u001b[0m__setattr__\u001b[0m\u001b[0;34m(\u001b[0m\u001b[0mself\u001b[0m\u001b[0;34m,\u001b[0m \u001b[0mname\u001b[0m\u001b[0;34m,\u001b[0m \u001b[0mvalue\u001b[0m\u001b[0;34m)\u001b[0m\u001b[0;34m:\u001b[0m\u001b[0;34m\u001b[0m\u001b[0;34m\u001b[0m\u001b[0m\n",
      "\u001b[0;31mAttributeError\u001b[0m: 'DataFrame' object has no attribute 'D_prop_gen'"
     ]
    }
   ],
   "source": [
    "losses.D_prop_gen.values"
   ]
  },
  {
   "cell_type": "code",
   "execution_count": null,
   "metadata": {
    "ExecuteTime": {
     "end_time": "2019-10-27T08:24:07.365486Z",
     "start_time": "2019-10-27T07:57:36.094Z"
    }
   },
   "outputs": [],
   "source": [
    "plot_reconstruction(model, example_data)"
   ]
  },
  {
   "cell_type": "code",
   "execution_count": null,
   "metadata": {
    "ExecuteTime": {
     "end_time": "2019-10-27T08:24:07.366998Z",
     "start_time": "2019-10-27T07:57:36.095Z"
    }
   },
   "outputs": [],
   "source": [
    "losses.d_xg_loss.values"
   ]
  },
  {
   "cell_type": "code",
   "execution_count": null,
   "metadata": {
    "ExecuteTime": {
     "end_time": "2019-10-27T08:24:07.368419Z",
     "start_time": "2019-10-27T07:57:36.097Z"
    }
   },
   "outputs": [],
   "source": [
    "#save_loc = DATA_DIR / 'models' / network_type / DATASET_ID\n",
    "#ensure_dir(save_loc)\n",
    "\n",
    "# Save the entire model to a HDF5 file.\n",
    "# The '.h5' extension indicates that the model shuold be saved to HDF5.\n",
    "#model.save_weights((save_loc / (str(epoch).zfill(4))).as_posix()) \n",
    "\n",
    "# Recreate the exact same model, including its weights and the optimizer\n",
    "#new_model = tf.keras.models.load_model('my_model.h5')"
   ]
  },
  {
   "cell_type": "markdown",
   "metadata": {},
   "source": [
    "### Plot samples from latent"
   ]
  },
  {
   "cell_type": "code",
   "execution_count": null,
   "metadata": {
    "ExecuteTime": {
     "end_time": "2019-10-27T08:24:07.369912Z",
     "start_time": "2019-10-27T07:57:36.099Z"
    }
   },
   "outputs": [],
   "source": [
    "z = model.encode(example_data).numpy()"
   ]
  },
  {
   "cell_type": "code",
   "execution_count": null,
   "metadata": {
    "ExecuteTime": {
     "end_time": "2019-10-27T08:24:07.371311Z",
     "start_time": "2019-10-27T07:57:36.101Z"
    }
   },
   "outputs": [],
   "source": [
    "xmax, ymax = np.max(z, axis=0)\n",
    "xmin, ymin = np.min(z, axis=0)\n",
    "print(xmax, ymax, xmin, ymin)"
   ]
  },
  {
   "cell_type": "code",
   "execution_count": null,
   "metadata": {
    "ExecuteTime": {
     "end_time": "2019-10-27T08:24:07.372702Z",
     "start_time": "2019-10-27T07:57:36.102Z"
    }
   },
   "outputs": [],
   "source": [
    "# sample from grid\n",
    "nx = ny= 30\n",
    "meshgrid = np.meshgrid(np.linspace(xmin, xmax, nx), np.linspace(ymin, ymax, ny))\n",
    "meshgrid = np.array(meshgrid).reshape(2, nx*ny).T\n",
    "x_grid = model.decode(meshgrid)\n",
    "x_grid = x_grid.numpy().reshape(nx, ny, DIMS[0], DIMS[1], DIMS[2])\n",
    "# fill canvas\n",
    "canvas = np.zeros((nx*DIMS[0], ny*DIMS[1]))\n",
    "for xi in range(nx):\n",
    "    for yi in range(ny):\n",
    "        canvas[xi*DIMS[0]:xi*DIMS[0]+DIMS[0], yi*DIMS[1]:yi*DIMS[1]+DIMS[1]] = x_grid[xi, yi,:,:,:].squeeze()\n",
    "fig, ax = plt.subplots(figsize=(15,10))\n",
    "ax.matshow(canvas, vmin = 0, cmap=plt.cm.Greys, origin = 'lower')\n",
    "ax.axis('off')"
   ]
  },
  {
   "cell_type": "markdown",
   "metadata": {},
   "source": [
    "###  plot dataset "
   ]
  },
  {
   "cell_type": "code",
   "execution_count": null,
   "metadata": {
    "ExecuteTime": {
     "end_time": "2019-10-27T08:24:07.374284Z",
     "start_time": "2019-10-27T07:57:36.103Z"
    }
   },
   "outputs": [],
   "source": [
    "all_x = []\n",
    "all_z = []\n",
    "all_indv = []\n",
    "all_labels = []\n",
    "for batch, train_x in tqdm(\n",
    "    zip(range(N_TRAIN_BATCHES), train_dataset), total=N_TRAIN_BATCHES\n",
    "):\n",
    "    x = train_x[0]\n",
    "    all_x.append(x)\n",
    "    x = tf.cast(tf.reshape(x, [BATCH_SIZE] + list(DIMS)), tf.float32) / 255\n",
    "    #model.train_net(x)\n",
    "    all_z.append(model.encode(x).numpy())\n",
    "    all_indv.append(train_x[3].numpy())\n",
    "    all_labels.append(train_x[2].numpy())\n",
    "\n",
    "all_z = np.vstack(all_z)\n",
    "all_indv = np.concatenate(all_indv)\n",
    "all_labels = np.concatenate(all_labels)\n",
    "all_x = np.concatenate(all_x)\n",
    "all_x = np.reshape(all_x, [len(all_x)] + list(DIMS[:2]))"
   ]
  },
  {
   "cell_type": "code",
   "execution_count": null,
   "metadata": {
    "ExecuteTime": {
     "end_time": "2019-10-27T08:24:07.376032Z",
     "start_time": "2019-10-27T07:57:36.105Z"
    }
   },
   "outputs": [],
   "source": [
    "from avgn.visualization.projections import scatter_spec"
   ]
  },
  {
   "cell_type": "code",
   "execution_count": null,
   "metadata": {
    "ExecuteTime": {
     "end_time": "2019-10-27T08:24:07.377428Z",
     "start_time": "2019-10-27T07:57:36.106Z"
    }
   },
   "outputs": [],
   "source": [
    "np.shape(all_z)"
   ]
  },
  {
   "cell_type": "code",
   "execution_count": null,
   "metadata": {
    "ExecuteTime": {
     "end_time": "2019-10-27T08:24:07.378935Z",
     "start_time": "2019-10-27T07:57:36.107Z"
    }
   },
   "outputs": [],
   "source": [
    "plt.scatter(all_z[:,0], all_z[:,1], s=1, c='k', alpha=0.1)"
   ]
  },
  {
   "cell_type": "code",
   "execution_count": null,
   "metadata": {
    "ExecuteTime": {
     "end_time": "2019-10-27T08:24:07.380412Z",
     "start_time": "2019-10-27T07:57:36.109Z"
    }
   },
   "outputs": [],
   "source": [
    "scatter_spec(\n",
    "        np.vstack(all_z),\n",
    "        all_x,\n",
    "        column_size=15,\n",
    "        x_range = [-4,4],\n",
    "        y_range = [-4,4],\n",
    "        pal_color=\"hls\",\n",
    "        color_points=False,\n",
    "        enlarge_points=20,\n",
    "        figsize=(10, 10),\n",
    "        scatter_kwargs = {\n",
    "            'labels': list(all_labels),\n",
    "            'alpha':0.25,\n",
    "            's': 1,\n",
    "            'show_legend': False\n",
    "        },\n",
    "        matshow_kwargs = {\n",
    "            'cmap': plt.cm.Greys\n",
    "        },\n",
    "        line_kwargs = {\n",
    "            'lw':1,\n",
    "            'ls':\"solid\",\n",
    "            'alpha':0.25,\n",
    "        },\n",
    "        draw_lines=True\n",
    ");"
   ]
  },
  {
   "cell_type": "code",
   "execution_count": null,
   "metadata": {},
   "outputs": [],
   "source": []
  }
 ],
 "metadata": {
  "kernelspec": {
   "display_name": "Python 3",
   "language": "python",
   "name": "python3"
  },
  "language_info": {
   "codemirror_mode": {
    "name": "ipython",
    "version": 3
   },
   "file_extension": ".py",
   "mimetype": "text/x-python",
   "name": "python",
   "nbconvert_exporter": "python",
   "pygments_lexer": "ipython3",
   "version": "3.6.7"
  }
 },
 "nbformat": 4,
 "nbformat_minor": 2
}
