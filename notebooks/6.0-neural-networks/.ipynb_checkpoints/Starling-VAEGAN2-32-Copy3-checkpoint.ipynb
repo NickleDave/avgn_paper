{
 "cells": [
  {
   "cell_type": "code",
   "execution_count": 1,
   "metadata": {
    "ExecuteTime": {
     "end_time": "2019-11-01T20:17:31.425080Z",
     "start_time": "2019-11-01T20:17:31.405498Z"
    }
   },
   "outputs": [],
   "source": [
    "%load_ext autoreload\n",
    "%autoreload 2"
   ]
  },
  {
   "cell_type": "code",
   "execution_count": 2,
   "metadata": {
    "ExecuteTime": {
     "end_time": "2019-11-01T20:17:31.548359Z",
     "start_time": "2019-11-01T20:17:31.426973Z"
    }
   },
   "outputs": [
    {
     "name": "stdout",
     "output_type": "stream",
     "text": [
      "env: CUDA_DEVICE_ORDER=PCI_BUS_ID\n",
      "env: CUDA_VISIBLE_DEVICES=1\n"
     ]
    }
   ],
   "source": [
    "%env CUDA_DEVICE_ORDER=PCI_BUS_ID\n",
    "%env CUDA_VISIBLE_DEVICES=2"
   ]
  },
  {
   "cell_type": "code",
   "execution_count": 3,
   "metadata": {
    "ExecuteTime": {
     "end_time": "2019-11-01T20:17:40.380480Z",
     "start_time": "2019-11-01T20:17:31.550329Z"
    }
   },
   "outputs": [
    {
     "name": "stderr",
     "output_type": "stream",
     "text": [
      "/mnt/cube/tsainbur/conda_envs/tpy3/lib/python3.6/site-packages/tqdm/autonotebook/__init__.py:14: TqdmExperimentalWarning: Using `tqdm.autonotebook.tqdm` in notebook mode. Use `tqdm.tqdm` instead to force console mode (e.g. in jupyter console)\n",
      "  \" (e.g. in jupyter console)\", TqdmExperimentalWarning)\n"
     ]
    }
   ],
   "source": [
    "from avgn.utils.paths import DATA_DIR, most_recent_subdirectory, ensure_dir\n",
    "from avgn.tensorflow.data import _parse_function"
   ]
  },
  {
   "cell_type": "code",
   "execution_count": 4,
   "metadata": {
    "ExecuteTime": {
     "end_time": "2019-11-01T20:17:40.821763Z",
     "start_time": "2019-11-01T20:17:40.383267Z"
    }
   },
   "outputs": [],
   "source": [
    "import tensorflow as tf\n",
    "import numpy as np\n",
    "import matplotlib.pyplot as plt\n",
    "from tqdm.autonotebook import tqdm\n",
    "%matplotlib inline\n",
    "from IPython import display\n",
    "import pandas as pd\n",
    "\n",
    "# the nightly build of tensorflow_probability is required as of the time of writing this \n",
    "import tensorflow_probability as tfp\n",
    "ds = tfp.distributions"
   ]
  },
  {
   "cell_type": "code",
   "execution_count": 5,
   "metadata": {
    "ExecuteTime": {
     "end_time": "2019-11-01T20:17:40.890162Z",
     "start_time": "2019-11-01T20:17:40.823772Z"
    }
   },
   "outputs": [
    {
     "name": "stdout",
     "output_type": "stream",
     "text": [
      "2.0.0-beta1 0.7.0-dev20190510\n"
     ]
    }
   ],
   "source": [
    "print(tf.__version__, tfp.__version__)"
   ]
  },
  {
   "cell_type": "code",
   "execution_count": 6,
   "metadata": {
    "ExecuteTime": {
     "end_time": "2019-11-01T20:17:40.972837Z",
     "start_time": "2019-11-01T20:17:40.892204Z"
    }
   },
   "outputs": [],
   "source": [
    "TRAIN_SIZE=101726\n",
    "BATCH_SIZE=32\n",
    "TEST_SIZE=10000\n",
    "DIMS = (32, 32, 1)\n",
    "N_TRAIN_BATCHES =int((TRAIN_SIZE-TEST_SIZE)/BATCH_SIZE)\n",
    "N_TEST_BATCHES = int(TEST_SIZE/BATCH_SIZE)\n",
    "TRAIN_BUF = 1000\n",
    "TEST_BUF = 1000"
   ]
  },
  {
   "cell_type": "code",
   "execution_count": 7,
   "metadata": {
    "ExecuteTime": {
     "end_time": "2019-11-01T20:17:41.055771Z",
     "start_time": "2019-11-01T20:17:40.975218Z"
    }
   },
   "outputs": [],
   "source": [
    "DATASET_ID = 'starling'"
   ]
  },
  {
   "cell_type": "code",
   "execution_count": 8,
   "metadata": {
    "ExecuteTime": {
     "end_time": "2019-11-01T20:17:41.139675Z",
     "start_time": "2019-11-01T20:17:41.057899Z"
    }
   },
   "outputs": [],
   "source": [
    "record_loc = DATA_DIR / 'tfrecords' / \"starling_32.tfrecords\""
   ]
  },
  {
   "cell_type": "code",
   "execution_count": 9,
   "metadata": {
    "ExecuteTime": {
     "end_time": "2019-11-01T20:17:44.577653Z",
     "start_time": "2019-11-01T20:17:41.141871Z"
    }
   },
   "outputs": [],
   "source": [
    "# read the dataset\n",
    "raw_dataset = tf.data.TFRecordDataset([record_loc.as_posix()])"
   ]
  },
  {
   "cell_type": "code",
   "execution_count": 10,
   "metadata": {
    "ExecuteTime": {
     "end_time": "2019-11-01T20:17:44.654467Z",
     "start_time": "2019-11-01T20:17:44.580489Z"
    }
   },
   "outputs": [],
   "source": [
    "data_types = {\n",
    "    \"spectrogram\": tf.uint8,\n",
    "    \"index\": tf.int64,\n",
    "    \"indv\": tf.string,\n",
    "}"
   ]
  },
  {
   "cell_type": "code",
   "execution_count": 11,
   "metadata": {
    "ExecuteTime": {
     "end_time": "2019-11-01T20:17:44.744484Z",
     "start_time": "2019-11-01T20:17:44.657255Z"
    }
   },
   "outputs": [],
   "source": [
    "# parse each data type to the raw dataset\n",
    "dataset = raw_dataset.map(lambda x: _parse_function(x, data_types=data_types))"
   ]
  },
  {
   "cell_type": "code",
   "execution_count": 12,
   "metadata": {
    "ExecuteTime": {
     "end_time": "2019-11-01T20:17:44.835841Z",
     "start_time": "2019-11-01T20:17:44.747421Z"
    }
   },
   "outputs": [],
   "source": [
    "spec, index, indv  = next(iter(dataset))"
   ]
  },
  {
   "cell_type": "code",
   "execution_count": 13,
   "metadata": {
    "ExecuteTime": {
     "end_time": "2019-11-01T20:17:45.203879Z",
     "start_time": "2019-11-01T20:17:44.838011Z"
    }
   },
   "outputs": [
    {
     "data": {
      "text/plain": [
       "<matplotlib.image.AxesImage at 0x7ff0a040e668>"
      ]
     },
     "execution_count": 13,
     "metadata": {},
     "output_type": "execute_result"
    },
    {
     "data": {
      "image/png": "[encoded data removed]",
      "text/plain": [
       "<Figure size 288x288 with 1 Axes>"
      ]
     },
     "metadata": {
      "needs_background": "light"
     },
     "output_type": "display_data"
    }
   ],
   "source": [
    "plt.matshow(spec.numpy().reshape(DIMS[:2]))"
   ]
  },
  {
   "cell_type": "code",
   "execution_count": 14,
   "metadata": {
    "ExecuteTime": {
     "end_time": "2019-11-01T20:17:45.280711Z",
     "start_time": "2019-11-01T20:17:45.210998Z"
    }
   },
   "outputs": [],
   "source": [
    "test_dataset = dataset.take(TEST_SIZE).shuffle(TRAIN_BUF).batch(BATCH_SIZE)\n",
    "train_dataset = dataset.skip(TEST_SIZE).take(TRAIN_SIZE-TEST_SIZE).shuffle(TEST_BUF).batch(BATCH_SIZE)"
   ]
  },
  {
   "cell_type": "code",
   "execution_count": 15,
   "metadata": {
    "ExecuteTime": {
     "end_time": "2019-11-01T20:17:45.384308Z",
     "start_time": "2019-11-01T20:17:45.284059Z"
    }
   },
   "outputs": [],
   "source": [
    "N_Z = 128\n",
    "\n",
    "encoder = [\n",
    "    tf.keras.layers.InputLayer(input_shape=DIMS),\n",
    "    tf.keras.layers.Conv2D(\n",
    "        filters=32, kernel_size=3, strides=(2, 2), activation=tf.nn.relu\n",
    "    ),\n",
    "    tf.keras.layers.Conv2D(\n",
    "        filters=64, kernel_size=3, strides=(2, 2), activation=tf.nn.relu\n",
    "    ),\n",
    "    tf.keras.layers.Conv2D(\n",
    "        filters=256, kernel_size=3, strides=(2, 2), activation=tf.nn.relu\n",
    "    ),\n",
    "    tf.keras.layers.Flatten(),\n",
    "    tf.keras.layers.Dense(units=N_Z*2),\n",
    "]\n",
    "\n",
    "decoder = [\n",
    "    tf.keras.layers.Dense(units=4 * 4 * 256, activation=tf.nn.relu),\n",
    "    tf.keras.layers.Reshape(target_shape=(4, 4, 256)),\n",
    "    tf.keras.layers.Conv2DTranspose(\n",
    "        filters=256, kernel_size=3, strides=(2, 2), padding=\"SAME\", activation=tf.nn.relu\n",
    "    ),\n",
    "    tf.keras.layers.Conv2DTranspose(\n",
    "        filters=64, kernel_size=3, strides=(2, 2), padding=\"SAME\", activation=tf.nn.relu\n",
    "    ),\n",
    "    tf.keras.layers.Conv2DTranspose(\n",
    "        filters=32, kernel_size=3, strides=(2, 2), padding=\"SAME\", activation=tf.nn.relu\n",
    "    ),\n",
    "    tf.keras.layers.Conv2DTranspose(\n",
    "        filters=16, kernel_size=3, strides=1, activation=tf.nn.relu, padding=\"SAME\"\n",
    "    ),\n",
    "    tf.keras.layers.Conv2D(\n",
    "        filters=1, kernel_size=3, strides=1, activation=tf.nn.sigmoid, padding=\"SAME\"\n",
    "    ),\n",
    "]\n",
    "def vaegan_discrim():\n",
    "    inputs = tf.keras.layers.Input(shape=DIMS)\n",
    "    conv1 = tf.keras.layers.Conv2D(\n",
    "                filters=32, kernel_size=3, strides=(2, 2), activation=tf.nn.relu\n",
    "            )(inputs)\n",
    "    conv2 = tf.keras.layers.Conv2D(\n",
    "                filters=64, kernel_size=3, strides=(2, 2), activation=tf.nn.relu\n",
    "            )(conv1)\n",
    "    conv3 = tf.keras.layers.Conv2D(\n",
    "        filters=64, kernel_size=3, strides=(2, 2), activation=tf.nn.relu\n",
    "    )(conv2)\n",
    "    lastlayer = tf.keras.layers.Conv2D(\n",
    "        filters=128, kernel_size=3, strides=(2, 2), activation=\"tanh\"\n",
    "    )(conv3)\n",
    "    flatten = tf.keras.layers.Flatten()(lastlayer)\n",
    "    outputs = tf.keras.layers.Dense(units=1, activation = None)(lastlayer)\n",
    "    return inputs, lastlayer, outputs\n",
    "\n"
   ]
  },
  {
   "cell_type": "code",
   "execution_count": 16,
   "metadata": {
    "ExecuteTime": {
     "end_time": "2019-11-01T20:17:46.389720Z",
     "start_time": "2019-11-01T20:17:45.387076Z"
    }
   },
   "outputs": [],
   "source": [
    "from avgn.tensorflow.VAEGAN3 import VAEGAN, plot_reconstruction, plot_losses\n",
    "# model\n",
    "model = VAEGAN(\n",
    "    enc = encoder,\n",
    "    dec = decoder,\n",
    "    vae_disc_function = vaegan_discrim,\n",
    "    enc_optimizer = tf.keras.optimizers.Adam(1e-4),\n",
    "    dec_optimizer = tf.keras.optimizers.Adam(1e-4),\n",
    "    disc_optimizer = tf.keras.optimizers.RMSprop(1e-5),\n",
    "    #disc_optimizer = tf.keras.optimizers.SGD(1e-3),\n",
    "    #lr_base_gen = 1e-3, # \n",
    "    #lr_base_disc = 1e-4, # the discriminator's job is easier than the generators so make the learning rate lower\n",
    "    latent_loss_div=1, # this variable will depend on your dataset - choose a number that will bring your latent loss to ~1-10\n",
    "    sig_mult = 20, # how binary the discriminator's learning rate is shifted (we squash it with a sigmoid)\n",
    "    recon_loss_div = 1e-3, # this variable will depend on your dataset - choose a number that will bring your latent loss to ~1-10\n",
    ")"
   ]
  },
  {
   "cell_type": "code",
   "execution_count": 17,
   "metadata": {
    "ExecuteTime": {
     "end_time": "2019-11-01T20:17:46.544604Z",
     "start_time": "2019-11-01T20:17:46.391857Z"
    }
   },
   "outputs": [],
   "source": [
    "# exampled data for plotting results\n",
    "example_data = next(iter(test_dataset))\n",
    "example_data = (\n",
    "        tf.cast(tf.reshape(example_data[0], [BATCH_SIZE] + list(DIMS)), tf.float32)\n",
    "        / 255\n",
    ")"
   ]
  },
  {
   "cell_type": "code",
   "execution_count": 18,
   "metadata": {
    "ExecuteTime": {
     "end_time": "2019-11-01T20:17:48.649466Z",
     "start_time": "2019-11-01T20:17:46.546872Z"
    }
   },
   "outputs": [
    {
     "name": "stderr",
     "output_type": "stream",
     "text": [
      "WARNING: Logging before flag parsing goes to stderr.\n",
      "W1101 13:17:48.632627 140673830328064 deprecation.py:323] From /mnt/cube/tsainbur/conda_envs/tpy3/lib/python3.6/site-packages/tensorflow/python/ops/nn_impl.py:182: add_dispatch_support.<locals>.wrapper (from tensorflow.python.ops.array_ops) is deprecated and will be removed in a future version.\n",
      "Instructions for updating:\n",
      "Use tf.where in 2.0, which has the same broadcast rule as np.where\n"
     ]
    },
    {
     "data": {
      "text/plain": [
       "(<tf.Tensor: id=1331, shape=(), dtype=float32, numpy=0.38782775>,\n",
       " <tf.Tensor: id=1384, shape=(), dtype=float32, numpy=0.6097481>,\n",
       " <tf.Tensor: id=1320, shape=(), dtype=float32, numpy=0.69228214>,\n",
       " <tf.Tensor: id=1312, shape=(), dtype=float32, numpy=0.7046236>,\n",
       " <tf.Tensor: id=1297, shape=(), dtype=float32, numpy=0.68180096>,\n",
       " <tf.Tensor: id=1284, shape=(), dtype=float32, numpy=0.6933844>,\n",
       " <tf.Tensor: id=1385, shape=(), dtype=float32, numpy=1.3020303>,\n",
       " <tf.Tensor: id=1386, shape=(), dtype=float32, numpy=1.3969057>,\n",
       " <tf.Tensor: id=1387, shape=(), dtype=float32, numpy=1.3751854>)"
      ]
     },
     "execution_count": 18,
     "metadata": {},
     "output_type": "execute_result"
    }
   ],
   "source": [
    "model.compute_loss(example_data)"
   ]
  },
  {
   "cell_type": "code",
   "execution_count": 19,
   "metadata": {
    "ExecuteTime": {
     "end_time": "2019-11-01T20:17:48.718339Z",
     "start_time": "2019-11-01T20:17:48.651397Z"
    }
   },
   "outputs": [],
   "source": [
    "# a pandas dataframe to save the loss information to\n",
    "losses = pd.DataFrame(columns=[\n",
    "    'd_prop',\n",
    "    'latent_loss',\n",
    "    'discrim_layer_recon_loss',\n",
    "    'gen_fake_loss',\n",
    "    'disc_fake_loss',\n",
    "    'disc_real_loss',\n",
    "    'enc_loss',\n",
    "    'dec_loss',\n",
    "    'disc_loss',\n",
    "])"
   ]
  },
  {
   "cell_type": "code",
   "execution_count": 20,
   "metadata": {
    "ExecuteTime": {
     "end_time": "2019-11-01T20:17:48.821538Z",
     "start_time": "2019-11-01T20:17:48.720370Z"
    }
   },
   "outputs": [],
   "source": [
    "N_TRAIN_BATCHES = 50\n",
    "N_TEST_BATCHES = 10"
   ]
  },
  {
   "cell_type": "code",
   "execution_count": 32,
   "metadata": {
    "ExecuteTime": {
     "end_time": "2019-11-02T05:40:53.506231Z",
     "start_time": "2019-11-02T05:40:53.426408Z"
    }
   },
   "outputs": [],
   "source": [
    "n_epochs = 10000\n",
    "epoch = 0"
   ]
  },
  {
   "cell_type": "code",
   "execution_count": null,
   "metadata": {
    "ExecuteTime": {
     "start_time": "2019-11-02T05:40:53.851Z"
    },
    "scrolled": false
   },
   "outputs": [
    {
     "data": {
      "image/png": "[encoded data removed]",
      "text/plain": [
       "<Figure size 1152x432 with 24 Axes>"
      ]
     },
     "metadata": {},
     "output_type": "display_data"
    },
    {
     "data": {
      "image/png": "[encoded data removed]",
      "text/plain": [
       "<Figure size 1152x288 with 4 Axes>"
      ]
     },
     "metadata": {
      "needs_background": "light"
     },
     "output_type": "display_data"
    },
    {
     "data": {
      "image/png": "[encoded data removed]",
      "text/plain": [
       "<Figure size 432x288 with 1 Axes>"
      ]
     },
     "metadata": {
      "needs_background": "light"
     },
     "output_type": "display_data"
    },
    {
     "data": {
      "application/vnd.jupyter.widget-view+json": {
       "model_id": "",
       "version_major": 2,
       "version_minor": 0
      },
      "text/plain": [
       "HBox(children=(IntProgress(value=0, max=50), HTML(value='')))"
      ]
     },
     "metadata": {},
     "output_type": "display_data"
    },
    {
     "name": "stdout",
     "output_type": "stream",
     "text": [
      "\r"
     ]
    },
    {
     "data": {
      "application/vnd.jupyter.widget-view+json": {
       "model_id": "",
       "version_major": 2,
       "version_minor": 0
      },
      "text/plain": [
       "HBox(children=(IntProgress(value=0, max=10), HTML(value='')))"
      ]
     },
     "metadata": {},
     "output_type": "display_data"
    },
    {
     "name": "stdout",
     "output_type": "stream",
     "text": [
      "\r"
     ]
    },
    {
     "data": {
      "application/vnd.jupyter.widget-view+json": {
       "model_id": "aa3409805ef94909b5b229df0ad66bbe",
       "version_major": 2,
       "version_minor": 0
      },
      "text/plain": [
       "HBox(children=(IntProgress(value=0, max=50), HTML(value='')))"
      ]
     },
     "metadata": {},
     "output_type": "display_data"
    }
   ],
   "source": [
    "for epoch in range(epoch, n_epochs):\n",
    "    # train\n",
    "    for batch, train_x in tqdm(\n",
    "        zip(range(N_TRAIN_BATCHES), train_dataset), total=N_TRAIN_BATCHES, leave=False\n",
    "    ):\n",
    "        x = tf.cast(tf.reshape(train_x[0], [BATCH_SIZE] + list(DIMS)), tf.float32) / 255\n",
    "        model.train_net(x)\n",
    "    # test on holdout\n",
    "    loss = []\n",
    "    for batch, test_x in tqdm(\n",
    "        zip(range(N_TEST_BATCHES), test_dataset), total=N_TEST_BATCHES, leave=False\n",
    "    ):\n",
    "        x = tf.cast(tf.reshape(test_x[0], [BATCH_SIZE] + list(DIMS)), tf.float32) / 255\n",
    "        loss.append(model.compute_loss(x))\n",
    "    losses.loc[len(losses)] = np.mean(loss, axis=0)\n",
    "    \n",
    "\n",
    "    if epoch % 2 != 0:\n",
    "        continue\n",
    "        \n",
    "    # plot results\n",
    "    display.clear_output()\n",
    "    \n",
    "    plot_reconstruction(model, example_data, BATCH_SIZE, N_Z=N_Z)\n",
    "    \n",
    "    plot_losses(losses)\n",
    "    \n",
    "    z = tf.split(model.enc(example_data), num_or_size_splits=2, axis=1)[0].numpy()\n",
    "    plt.hist(z.flatten())\n",
    "    plt.show()"
   ]
  },
  {
   "cell_type": "code",
   "execution_count": 34,
   "metadata": {
    "ExecuteTime": {
     "end_time": "2019-11-04T18:55:24.387674Z",
     "start_time": "2019-11-04T18:55:20.291229Z"
    }
   },
   "outputs": [
    {
     "data": {
      "image/png": "[encoded data removed]",
      "text/plain": [
       "<Figure size 1152x432 with 24 Axes>"
      ]
     },
     "metadata": {},
     "output_type": "display_data"
    },
    {
     "data": {
      "image/png": "[encoded data removed]",
      "text/plain": [
       "<Figure size 1152x288 with 4 Axes>"
      ]
     },
     "metadata": {
      "needs_background": "light"
     },
     "output_type": "display_data"
    },
    {
     "data": {
      "image/png": "[encoded data removed]",
      "text/plain": [
       "<Figure size 432x288 with 1 Axes>"
      ]
     },
     "metadata": {
      "needs_background": "light"
     },
     "output_type": "display_data"
    }
   ],
   "source": [
    "plot_reconstruction(model, example_data, BATCH_SIZE, N_Z=N_Z)\n",
    "\n",
    "plot_losses(losses)\n",
    "\n",
    "z = tf.split(model.enc(example_data), num_or_size_splits=2, axis=1)[0].numpy()\n",
    "plt.hist(z.flatten())\n",
    "plt.show()"
   ]
  },
  {
   "cell_type": "code",
   "execution_count": 24,
   "metadata": {
    "ExecuteTime": {
     "end_time": "2019-11-02T02:30:24.410381Z",
     "start_time": "2019-11-02T02:30:24.257170Z"
    }
   },
   "outputs": [
    {
     "data": {
      "text/html": [
       "<div>\n",
       "<style scoped>\n",
       "    .dataframe tbody tr th:only-of-type {\n",
       "        vertical-align: middle;\n",
       "    }\n",
       "\n",
       "    .dataframe tbody tr th {\n",
       "        vertical-align: top;\n",
       "    }\n",
       "\n",
       "    .dataframe thead th {\n",
       "        text-align: right;\n",
       "    }\n",
       "</style>\n",
       "<table border=\"1\" class=\"dataframe\">\n",
       "  <thead>\n",
       "    <tr style=\"text-align: right;\">\n",
       "      <th></th>\n",
       "      <th>d_prop</th>\n",
       "      <th>latent_loss</th>\n",
       "      <th>discrim_layer_recon_loss</th>\n",
       "      <th>gen_fake_loss</th>\n",
       "      <th>disc_fake_loss</th>\n",
       "      <th>disc_real_loss</th>\n",
       "      <th>enc_loss</th>\n",
       "      <th>dec_loss</th>\n",
       "      <th>disc_loss</th>\n",
       "    </tr>\n",
       "  </thead>\n",
       "  <tbody>\n",
       "    <tr>\n",
       "      <th>0</th>\n",
       "      <td>3.218192e-01</td>\n",
       "      <td>0.427066</td>\n",
       "      <td>0.551191</td>\n",
       "      <td>0.711974</td>\n",
       "      <td>0.674692</td>\n",
       "      <td>0.696784</td>\n",
       "      <td>0.978257</td>\n",
       "      <td>1.263165</td>\n",
       "      <td>1.371475</td>\n",
       "    </tr>\n",
       "    <tr>\n",
       "      <th>1</th>\n",
       "      <td>4.185545e-01</td>\n",
       "      <td>0.347851</td>\n",
       "      <td>0.238818</td>\n",
       "      <td>0.701401</td>\n",
       "      <td>0.684964</td>\n",
       "      <td>0.675329</td>\n",
       "      <td>0.586669</td>\n",
       "      <td>0.940219</td>\n",
       "      <td>1.360293</td>\n",
       "    </tr>\n",
       "    <tr>\n",
       "      <th>2</th>\n",
       "      <td>4.417587e-01</td>\n",
       "      <td>0.297529</td>\n",
       "      <td>0.258081</td>\n",
       "      <td>0.699019</td>\n",
       "      <td>0.687316</td>\n",
       "      <td>0.658749</td>\n",
       "      <td>0.555610</td>\n",
       "      <td>0.957100</td>\n",
       "      <td>1.346065</td>\n",
       "    </tr>\n",
       "    <tr>\n",
       "      <th>3</th>\n",
       "      <td>6.039361e-01</td>\n",
       "      <td>0.256445</td>\n",
       "      <td>0.221192</td>\n",
       "      <td>0.682706</td>\n",
       "      <td>0.703839</td>\n",
       "      <td>0.644267</td>\n",
       "      <td>0.477637</td>\n",
       "      <td>0.903898</td>\n",
       "      <td>1.348106</td>\n",
       "    </tr>\n",
       "    <tr>\n",
       "      <th>4</th>\n",
       "      <td>6.415699e-01</td>\n",
       "      <td>0.218829</td>\n",
       "      <td>0.235676</td>\n",
       "      <td>0.678791</td>\n",
       "      <td>0.708038</td>\n",
       "      <td>0.634176</td>\n",
       "      <td>0.454505</td>\n",
       "      <td>0.914467</td>\n",
       "      <td>1.342214</td>\n",
       "    </tr>\n",
       "    <tr>\n",
       "      <th>5</th>\n",
       "      <td>7.470707e-01</td>\n",
       "      <td>0.181784</td>\n",
       "      <td>0.259436</td>\n",
       "      <td>0.666520</td>\n",
       "      <td>0.721044</td>\n",
       "      <td>0.621846</td>\n",
       "      <td>0.441220</td>\n",
       "      <td>0.925956</td>\n",
       "      <td>1.342890</td>\n",
       "    </tr>\n",
       "    <tr>\n",
       "      <th>6</th>\n",
       "      <td>7.591178e-01</td>\n",
       "      <td>0.146675</td>\n",
       "      <td>0.298804</td>\n",
       "      <td>0.665014</td>\n",
       "      <td>0.722595</td>\n",
       "      <td>0.612045</td>\n",
       "      <td>0.445479</td>\n",
       "      <td>0.963819</td>\n",
       "      <td>1.334640</td>\n",
       "    </tr>\n",
       "    <tr>\n",
       "      <th>7</th>\n",
       "      <td>8.061208e-01</td>\n",
       "      <td>0.115481</td>\n",
       "      <td>0.342906</td>\n",
       "      <td>0.658296</td>\n",
       "      <td>0.729697</td>\n",
       "      <td>0.602933</td>\n",
       "      <td>0.458387</td>\n",
       "      <td>1.001202</td>\n",
       "      <td>1.332630</td>\n",
       "    </tr>\n",
       "    <tr>\n",
       "      <th>8</th>\n",
       "      <td>7.647482e-01</td>\n",
       "      <td>0.090289</td>\n",
       "      <td>0.426590</td>\n",
       "      <td>0.664157</td>\n",
       "      <td>0.723268</td>\n",
       "      <td>0.587644</td>\n",
       "      <td>0.516878</td>\n",
       "      <td>1.090747</td>\n",
       "      <td>1.310912</td>\n",
       "    </tr>\n",
       "    <tr>\n",
       "      <th>9</th>\n",
       "      <td>8.068288e-01</td>\n",
       "      <td>0.071019</td>\n",
       "      <td>0.556534</td>\n",
       "      <td>0.658086</td>\n",
       "      <td>0.729695</td>\n",
       "      <td>0.570845</td>\n",
       "      <td>0.627553</td>\n",
       "      <td>1.214620</td>\n",
       "      <td>1.300540</td>\n",
       "    </tr>\n",
       "    <tr>\n",
       "      <th>10</th>\n",
       "      <td>6.882899e-01</td>\n",
       "      <td>0.058239</td>\n",
       "      <td>0.684774</td>\n",
       "      <td>0.673570</td>\n",
       "      <td>0.713275</td>\n",
       "      <td>0.558094</td>\n",
       "      <td>0.743012</td>\n",
       "      <td>1.358344</td>\n",
       "      <td>1.271369</td>\n",
       "    </tr>\n",
       "    <tr>\n",
       "      <th>11</th>\n",
       "      <td>6.394497e-01</td>\n",
       "      <td>0.050260</td>\n",
       "      <td>0.967728</td>\n",
       "      <td>0.678951</td>\n",
       "      <td>0.707611</td>\n",
       "      <td>0.529379</td>\n",
       "      <td>1.017988</td>\n",
       "      <td>1.646679</td>\n",
       "      <td>1.236990</td>\n",
       "    </tr>\n",
       "    <tr>\n",
       "      <th>12</th>\n",
       "      <td>6.145338e-01</td>\n",
       "      <td>0.042990</td>\n",
       "      <td>1.544631</td>\n",
       "      <td>0.681577</td>\n",
       "      <td>0.704902</td>\n",
       "      <td>0.487223</td>\n",
       "      <td>1.587621</td>\n",
       "      <td>2.226208</td>\n",
       "      <td>1.192126</td>\n",
       "    </tr>\n",
       "    <tr>\n",
       "      <th>13</th>\n",
       "      <td>3.694767e-01</td>\n",
       "      <td>0.039179</td>\n",
       "      <td>2.428702</td>\n",
       "      <td>0.706694</td>\n",
       "      <td>0.679958</td>\n",
       "      <td>0.438822</td>\n",
       "      <td>2.467882</td>\n",
       "      <td>3.135396</td>\n",
       "      <td>1.118780</td>\n",
       "    </tr>\n",
       "    <tr>\n",
       "      <th>14</th>\n",
       "      <td>1.809767e-01</td>\n",
       "      <td>0.035768</td>\n",
       "      <td>3.920852</td>\n",
       "      <td>0.732486</td>\n",
       "      <td>0.655952</td>\n",
       "      <td>0.389991</td>\n",
       "      <td>3.956620</td>\n",
       "      <td>4.653338</td>\n",
       "      <td>1.045943</td>\n",
       "    </tr>\n",
       "    <tr>\n",
       "      <th>15</th>\n",
       "      <td>1.113978e-01</td>\n",
       "      <td>0.030748</td>\n",
       "      <td>6.343583</td>\n",
       "      <td>0.747287</td>\n",
       "      <td>0.642404</td>\n",
       "      <td>0.337190</td>\n",
       "      <td>6.374330</td>\n",
       "      <td>7.090870</td>\n",
       "      <td>0.979594</td>\n",
       "    </tr>\n",
       "    <tr>\n",
       "      <th>16</th>\n",
       "      <td>8.963994e-02</td>\n",
       "      <td>0.032639</td>\n",
       "      <td>8.889869</td>\n",
       "      <td>0.753654</td>\n",
       "      <td>0.637250</td>\n",
       "      <td>0.293334</td>\n",
       "      <td>8.922507</td>\n",
       "      <td>9.643522</td>\n",
       "      <td>0.930584</td>\n",
       "    </tr>\n",
       "    <tr>\n",
       "      <th>17</th>\n",
       "      <td>1.397319e-02</td>\n",
       "      <td>0.027569</td>\n",
       "      <td>13.149600</td>\n",
       "      <td>0.806567</td>\n",
       "      <td>0.592537</td>\n",
       "      <td>0.269186</td>\n",
       "      <td>13.177168</td>\n",
       "      <td>13.956166</td>\n",
       "      <td>0.861724</td>\n",
       "    </tr>\n",
       "    <tr>\n",
       "      <th>18</th>\n",
       "      <td>2.341467e-03</td>\n",
       "      <td>0.024304</td>\n",
       "      <td>20.026958</td>\n",
       "      <td>0.856816</td>\n",
       "      <td>0.553298</td>\n",
       "      <td>0.236353</td>\n",
       "      <td>20.051262</td>\n",
       "      <td>20.883772</td>\n",
       "      <td>0.789651</td>\n",
       "    </tr>\n",
       "    <tr>\n",
       "      <th>19</th>\n",
       "      <td>4.517193e-04</td>\n",
       "      <td>0.024352</td>\n",
       "      <td>29.058111</td>\n",
       "      <td>0.904235</td>\n",
       "      <td>0.518999</td>\n",
       "      <td>0.205513</td>\n",
       "      <td>29.082458</td>\n",
       "      <td>29.962341</td>\n",
       "      <td>0.724512</td>\n",
       "    </tr>\n",
       "    <tr>\n",
       "      <th>20</th>\n",
       "      <td>2.535531e-05</td>\n",
       "      <td>0.022602</td>\n",
       "      <td>39.798641</td>\n",
       "      <td>0.992415</td>\n",
       "      <td>0.463183</td>\n",
       "      <td>0.184570</td>\n",
       "      <td>39.821243</td>\n",
       "      <td>40.791058</td>\n",
       "      <td>0.647753</td>\n",
       "    </tr>\n",
       "    <tr>\n",
       "      <th>21</th>\n",
       "      <td>1.589465e-06</td>\n",
       "      <td>0.023965</td>\n",
       "      <td>54.490662</td>\n",
       "      <td>1.081766</td>\n",
       "      <td>0.414059</td>\n",
       "      <td>0.153980</td>\n",
       "      <td>54.514629</td>\n",
       "      <td>55.572426</td>\n",
       "      <td>0.568039</td>\n",
       "    </tr>\n",
       "    <tr>\n",
       "      <th>22</th>\n",
       "      <td>9.898152e-01</td>\n",
       "      <td>0.029254</td>\n",
       "      <td>20.313782</td>\n",
       "      <td>0.585260</td>\n",
       "      <td>0.814113</td>\n",
       "      <td>0.247188</td>\n",
       "      <td>20.343033</td>\n",
       "      <td>20.899040</td>\n",
       "      <td>1.061302</td>\n",
       "    </tr>\n",
       "    <tr>\n",
       "      <th>23</th>\n",
       "      <td>3.539703e-09</td>\n",
       "      <td>0.021764</td>\n",
       "      <td>37.079750</td>\n",
       "      <td>1.293583</td>\n",
       "      <td>0.320611</td>\n",
       "      <td>0.292228</td>\n",
       "      <td>37.101513</td>\n",
       "      <td>38.373329</td>\n",
       "      <td>0.612838</td>\n",
       "    </tr>\n",
       "    <tr>\n",
       "      <th>24</th>\n",
       "      <td>2.868494e-16</td>\n",
       "      <td>0.018255</td>\n",
       "      <td>65.303131</td>\n",
       "      <td>1.943915</td>\n",
       "      <td>0.154499</td>\n",
       "      <td>0.256958</td>\n",
       "      <td>65.321381</td>\n",
       "      <td>67.247047</td>\n",
       "      <td>0.411457</td>\n",
       "    </tr>\n",
       "    <tr>\n",
       "      <th>25</th>\n",
       "      <td>1.000167e-07</td>\n",
       "      <td>0.033297</td>\n",
       "      <td>54.867882</td>\n",
       "      <td>1.175527</td>\n",
       "      <td>0.369315</td>\n",
       "      <td>0.190797</td>\n",
       "      <td>54.901176</td>\n",
       "      <td>56.043415</td>\n",
       "      <td>0.560111</td>\n",
       "    </tr>\n",
       "    <tr>\n",
       "      <th>26</th>\n",
       "      <td>1.044726e-11</td>\n",
       "      <td>0.032197</td>\n",
       "      <td>69.756660</td>\n",
       "      <td>1.513280</td>\n",
       "      <td>0.248783</td>\n",
       "      <td>0.189876</td>\n",
       "      <td>69.788857</td>\n",
       "      <td>71.269943</td>\n",
       "      <td>0.438660</td>\n",
       "    </tr>\n",
       "    <tr>\n",
       "      <th>27</th>\n",
       "      <td>2.313020e-15</td>\n",
       "      <td>0.031102</td>\n",
       "      <td>105.476852</td>\n",
       "      <td>1.855449</td>\n",
       "      <td>0.170121</td>\n",
       "      <td>0.145382</td>\n",
       "      <td>105.507950</td>\n",
       "      <td>107.332298</td>\n",
       "      <td>0.315503</td>\n",
       "    </tr>\n",
       "    <tr>\n",
       "      <th>28</th>\n",
       "      <td>6.995875e-17</td>\n",
       "      <td>0.043842</td>\n",
       "      <td>148.843277</td>\n",
       "      <td>2.004922</td>\n",
       "      <td>0.144708</td>\n",
       "      <td>0.105394</td>\n",
       "      <td>148.887115</td>\n",
       "      <td>150.848175</td>\n",
       "      <td>0.250103</td>\n",
       "    </tr>\n",
       "    <tr>\n",
       "      <th>29</th>\n",
       "      <td>1.356488e-14</td>\n",
       "      <td>0.049304</td>\n",
       "      <td>186.159576</td>\n",
       "      <td>1.781043</td>\n",
       "      <td>0.184479</td>\n",
       "      <td>0.069001</td>\n",
       "      <td>186.208878</td>\n",
       "      <td>187.940628</td>\n",
       "      <td>0.253480</td>\n",
       "    </tr>\n",
       "    <tr>\n",
       "      <th>...</th>\n",
       "      <td>...</td>\n",
       "      <td>...</td>\n",
       "      <td>...</td>\n",
       "      <td>...</td>\n",
       "      <td>...</td>\n",
       "      <td>...</td>\n",
       "      <td>...</td>\n",
       "      <td>...</td>\n",
       "      <td>...</td>\n",
       "    </tr>\n",
       "    <tr>\n",
       "      <th>4970</th>\n",
       "      <td>3.773172e-01</td>\n",
       "      <td>0.071781</td>\n",
       "      <td>1.818288</td>\n",
       "      <td>0.705924</td>\n",
       "      <td>0.680808</td>\n",
       "      <td>0.708452</td>\n",
       "      <td>1.890069</td>\n",
       "      <td>2.524212</td>\n",
       "      <td>1.389260</td>\n",
       "    </tr>\n",
       "    <tr>\n",
       "      <th>4971</th>\n",
       "      <td>5.419922e-01</td>\n",
       "      <td>0.072281</td>\n",
       "      <td>1.983101</td>\n",
       "      <td>0.689346</td>\n",
       "      <td>0.697809</td>\n",
       "      <td>0.689453</td>\n",
       "      <td>2.055382</td>\n",
       "      <td>2.672447</td>\n",
       "      <td>1.387261</td>\n",
       "    </tr>\n",
       "    <tr>\n",
       "      <th>4972</th>\n",
       "      <td>5.297469e-01</td>\n",
       "      <td>0.072964</td>\n",
       "      <td>1.989745</td>\n",
       "      <td>0.690951</td>\n",
       "      <td>0.697018</td>\n",
       "      <td>0.687616</td>\n",
       "      <td>2.062709</td>\n",
       "      <td>2.680696</td>\n",
       "      <td>1.384634</td>\n",
       "    </tr>\n",
       "    <tr>\n",
       "      <th>4973</th>\n",
       "      <td>4.929624e-01</td>\n",
       "      <td>0.073338</td>\n",
       "      <td>2.037701</td>\n",
       "      <td>0.694098</td>\n",
       "      <td>0.692685</td>\n",
       "      <td>0.696304</td>\n",
       "      <td>2.111038</td>\n",
       "      <td>2.731799</td>\n",
       "      <td>1.388989</td>\n",
       "    </tr>\n",
       "    <tr>\n",
       "      <th>4974</th>\n",
       "      <td>3.464726e-01</td>\n",
       "      <td>0.072968</td>\n",
       "      <td>1.930538</td>\n",
       "      <td>0.709725</td>\n",
       "      <td>0.677680</td>\n",
       "      <td>0.708897</td>\n",
       "      <td>2.003506</td>\n",
       "      <td>2.640263</td>\n",
       "      <td>1.386578</td>\n",
       "    </tr>\n",
       "    <tr>\n",
       "      <th>4975</th>\n",
       "      <td>6.467401e-01</td>\n",
       "      <td>0.074293</td>\n",
       "      <td>1.890480</td>\n",
       "      <td>0.678432</td>\n",
       "      <td>0.708880</td>\n",
       "      <td>0.677268</td>\n",
       "      <td>1.964773</td>\n",
       "      <td>2.568913</td>\n",
       "      <td>1.386148</td>\n",
       "    </tr>\n",
       "    <tr>\n",
       "      <th>4976</th>\n",
       "      <td>4.186065e-01</td>\n",
       "      <td>0.074056</td>\n",
       "      <td>1.900187</td>\n",
       "      <td>0.701603</td>\n",
       "      <td>0.685136</td>\n",
       "      <td>0.701942</td>\n",
       "      <td>1.974244</td>\n",
       "      <td>2.601790</td>\n",
       "      <td>1.387078</td>\n",
       "    </tr>\n",
       "    <tr>\n",
       "      <th>4977</th>\n",
       "      <td>7.007508e-01</td>\n",
       "      <td>0.073901</td>\n",
       "      <td>1.924884</td>\n",
       "      <td>0.672231</td>\n",
       "      <td>0.714913</td>\n",
       "      <td>0.674307</td>\n",
       "      <td>1.998784</td>\n",
       "      <td>2.597115</td>\n",
       "      <td>1.389220</td>\n",
       "    </tr>\n",
       "    <tr>\n",
       "      <th>4978</th>\n",
       "      <td>6.555266e-01</td>\n",
       "      <td>0.073645</td>\n",
       "      <td>2.008137</td>\n",
       "      <td>0.677560</td>\n",
       "      <td>0.710117</td>\n",
       "      <td>0.678897</td>\n",
       "      <td>2.081783</td>\n",
       "      <td>2.685698</td>\n",
       "      <td>1.389014</td>\n",
       "    </tr>\n",
       "    <tr>\n",
       "      <th>4979</th>\n",
       "      <td>6.353510e-01</td>\n",
       "      <td>0.072861</td>\n",
       "      <td>1.996744</td>\n",
       "      <td>0.679610</td>\n",
       "      <td>0.707481</td>\n",
       "      <td>0.683882</td>\n",
       "      <td>2.069605</td>\n",
       "      <td>2.676355</td>\n",
       "      <td>1.391363</td>\n",
       "    </tr>\n",
       "    <tr>\n",
       "      <th>4980</th>\n",
       "      <td>3.355556e-01</td>\n",
       "      <td>0.072049</td>\n",
       "      <td>2.001131</td>\n",
       "      <td>0.710749</td>\n",
       "      <td>0.676327</td>\n",
       "      <td>0.713058</td>\n",
       "      <td>2.073179</td>\n",
       "      <td>2.711880</td>\n",
       "      <td>1.389385</td>\n",
       "    </tr>\n",
       "    <tr>\n",
       "      <th>4981</th>\n",
       "      <td>7.062281e-01</td>\n",
       "      <td>0.071749</td>\n",
       "      <td>1.887025</td>\n",
       "      <td>0.671690</td>\n",
       "      <td>0.715792</td>\n",
       "      <td>0.673284</td>\n",
       "      <td>1.958774</td>\n",
       "      <td>2.558714</td>\n",
       "      <td>1.389076</td>\n",
       "    </tr>\n",
       "    <tr>\n",
       "      <th>4982</th>\n",
       "      <td>3.853154e-01</td>\n",
       "      <td>0.070979</td>\n",
       "      <td>1.791461</td>\n",
       "      <td>0.705544</td>\n",
       "      <td>0.681854</td>\n",
       "      <td>0.705582</td>\n",
       "      <td>1.862440</td>\n",
       "      <td>2.497005</td>\n",
       "      <td>1.387436</td>\n",
       "    </tr>\n",
       "    <tr>\n",
       "      <th>4983</th>\n",
       "      <td>4.869236e-01</td>\n",
       "      <td>0.072212</td>\n",
       "      <td>1.829774</td>\n",
       "      <td>0.694662</td>\n",
       "      <td>0.692028</td>\n",
       "      <td>0.697642</td>\n",
       "      <td>1.901986</td>\n",
       "      <td>2.524436</td>\n",
       "      <td>1.389669</td>\n",
       "    </tr>\n",
       "    <tr>\n",
       "      <th>4984</th>\n",
       "      <td>2.992156e-01</td>\n",
       "      <td>0.070857</td>\n",
       "      <td>1.815001</td>\n",
       "      <td>0.715159</td>\n",
       "      <td>0.672246</td>\n",
       "      <td>0.714075</td>\n",
       "      <td>1.885859</td>\n",
       "      <td>2.530160</td>\n",
       "      <td>1.386320</td>\n",
       "    </tr>\n",
       "    <tr>\n",
       "      <th>4985</th>\n",
       "      <td>5.790766e-01</td>\n",
       "      <td>0.071918</td>\n",
       "      <td>1.812816</td>\n",
       "      <td>0.685411</td>\n",
       "      <td>0.701450</td>\n",
       "      <td>0.687280</td>\n",
       "      <td>1.884734</td>\n",
       "      <td>2.498227</td>\n",
       "      <td>1.388731</td>\n",
       "    </tr>\n",
       "    <tr>\n",
       "      <th>4986</th>\n",
       "      <td>2.870926e-01</td>\n",
       "      <td>0.072774</td>\n",
       "      <td>1.798047</td>\n",
       "      <td>0.716564</td>\n",
       "      <td>0.670730</td>\n",
       "      <td>0.712210</td>\n",
       "      <td>1.870820</td>\n",
       "      <td>2.514611</td>\n",
       "      <td>1.382940</td>\n",
       "    </tr>\n",
       "    <tr>\n",
       "      <th>4987</th>\n",
       "      <td>4.721626e-01</td>\n",
       "      <td>0.072835</td>\n",
       "      <td>1.819761</td>\n",
       "      <td>0.696081</td>\n",
       "      <td>0.690496</td>\n",
       "      <td>0.697416</td>\n",
       "      <td>1.892595</td>\n",
       "      <td>2.515841</td>\n",
       "      <td>1.387913</td>\n",
       "    </tr>\n",
       "    <tr>\n",
       "      <th>4988</th>\n",
       "      <td>3.292416e-01</td>\n",
       "      <td>0.072465</td>\n",
       "      <td>1.842682</td>\n",
       "      <td>0.711866</td>\n",
       "      <td>0.675893</td>\n",
       "      <td>0.712626</td>\n",
       "      <td>1.915147</td>\n",
       "      <td>2.554549</td>\n",
       "      <td>1.388520</td>\n",
       "    </tr>\n",
       "    <tr>\n",
       "      <th>4989</th>\n",
       "      <td>2.893629e-01</td>\n",
       "      <td>0.072388</td>\n",
       "      <td>1.844678</td>\n",
       "      <td>0.716128</td>\n",
       "      <td>0.670989</td>\n",
       "      <td>0.718000</td>\n",
       "      <td>1.917067</td>\n",
       "      <td>2.560807</td>\n",
       "      <td>1.388989</td>\n",
       "    </tr>\n",
       "    <tr>\n",
       "      <th>4990</th>\n",
       "      <td>4.100369e-01</td>\n",
       "      <td>0.073739</td>\n",
       "      <td>1.772623</td>\n",
       "      <td>0.702626</td>\n",
       "      <td>0.684257</td>\n",
       "      <td>0.700204</td>\n",
       "      <td>1.846361</td>\n",
       "      <td>2.475249</td>\n",
       "      <td>1.384461</td>\n",
       "    </tr>\n",
       "    <tr>\n",
       "      <th>4991</th>\n",
       "      <td>5.064650e-01</td>\n",
       "      <td>0.073948</td>\n",
       "      <td>1.775323</td>\n",
       "      <td>0.692724</td>\n",
       "      <td>0.694030</td>\n",
       "      <td>0.692086</td>\n",
       "      <td>1.849271</td>\n",
       "      <td>2.468047</td>\n",
       "      <td>1.386116</td>\n",
       "    </tr>\n",
       "    <tr>\n",
       "      <th>4992</th>\n",
       "      <td>5.152656e-01</td>\n",
       "      <td>0.074443</td>\n",
       "      <td>1.886267</td>\n",
       "      <td>0.691820</td>\n",
       "      <td>0.694903</td>\n",
       "      <td>0.694271</td>\n",
       "      <td>1.960711</td>\n",
       "      <td>2.578087</td>\n",
       "      <td>1.389175</td>\n",
       "    </tr>\n",
       "    <tr>\n",
       "      <th>4993</th>\n",
       "      <td>4.492517e-01</td>\n",
       "      <td>0.074663</td>\n",
       "      <td>2.059926</td>\n",
       "      <td>0.698568</td>\n",
       "      <td>0.688269</td>\n",
       "      <td>0.701963</td>\n",
       "      <td>2.134589</td>\n",
       "      <td>2.758494</td>\n",
       "      <td>1.390232</td>\n",
       "    </tr>\n",
       "    <tr>\n",
       "      <th>4994</th>\n",
       "      <td>5.954138e-01</td>\n",
       "      <td>0.073742</td>\n",
       "      <td>2.222877</td>\n",
       "      <td>0.683772</td>\n",
       "      <td>0.703413</td>\n",
       "      <td>0.684679</td>\n",
       "      <td>2.296619</td>\n",
       "      <td>2.906649</td>\n",
       "      <td>1.388092</td>\n",
       "    </tr>\n",
       "    <tr>\n",
       "      <th>4995</th>\n",
       "      <td>6.459559e-01</td>\n",
       "      <td>0.075825</td>\n",
       "      <td>2.012453</td>\n",
       "      <td>0.678491</td>\n",
       "      <td>0.708731</td>\n",
       "      <td>0.679549</td>\n",
       "      <td>2.088278</td>\n",
       "      <td>2.690943</td>\n",
       "      <td>1.388280</td>\n",
       "    </tr>\n",
       "    <tr>\n",
       "      <th>4996</th>\n",
       "      <td>3.629592e-01</td>\n",
       "      <td>0.077949</td>\n",
       "      <td>1.850227</td>\n",
       "      <td>0.707633</td>\n",
       "      <td>0.679236</td>\n",
       "      <td>0.704823</td>\n",
       "      <td>1.928176</td>\n",
       "      <td>2.557861</td>\n",
       "      <td>1.384059</td>\n",
       "    </tr>\n",
       "    <tr>\n",
       "      <th>4997</th>\n",
       "      <td>4.621750e-01</td>\n",
       "      <td>0.076987</td>\n",
       "      <td>2.053269</td>\n",
       "      <td>0.697141</td>\n",
       "      <td>0.689543</td>\n",
       "      <td>0.695858</td>\n",
       "      <td>2.130255</td>\n",
       "      <td>2.750409</td>\n",
       "      <td>1.385400</td>\n",
       "    </tr>\n",
       "    <tr>\n",
       "      <th>4998</th>\n",
       "      <td>3.975598e-01</td>\n",
       "      <td>0.075027</td>\n",
       "      <td>2.358554</td>\n",
       "      <td>0.704018</td>\n",
       "      <td>0.683140</td>\n",
       "      <td>0.702224</td>\n",
       "      <td>2.433580</td>\n",
       "      <td>3.062572</td>\n",
       "      <td>1.385365</td>\n",
       "    </tr>\n",
       "    <tr>\n",
       "      <th>4999</th>\n",
       "      <td>4.169005e-01</td>\n",
       "      <td>0.074146</td>\n",
       "      <td>2.162846</td>\n",
       "      <td>0.701887</td>\n",
       "      <td>0.685085</td>\n",
       "      <td>0.702649</td>\n",
       "      <td>2.236992</td>\n",
       "      <td>2.864733</td>\n",
       "      <td>1.387734</td>\n",
       "    </tr>\n",
       "  </tbody>\n",
       "</table>\n",
       "<p>5000 rows × 9 columns</p>\n",
       "</div>"
      ],
      "text/plain": [
       "            d_prop  latent_loss  discrim_layer_recon_loss  gen_fake_loss  \\\n",
       "0     3.218192e-01     0.427066                  0.551191       0.711974   \n",
       "1     4.185545e-01     0.347851                  0.238818       0.701401   \n",
       "2     4.417587e-01     0.297529                  0.258081       0.699019   \n",
       "3     6.039361e-01     0.256445                  0.221192       0.682706   \n",
       "4     6.415699e-01     0.218829                  0.235676       0.678791   \n",
       "5     7.470707e-01     0.181784                  0.259436       0.666520   \n",
       "6     7.591178e-01     0.146675                  0.298804       0.665014   \n",
       "7     8.061208e-01     0.115481                  0.342906       0.658296   \n",
       "8     7.647482e-01     0.090289                  0.426590       0.664157   \n",
       "9     8.068288e-01     0.071019                  0.556534       0.658086   \n",
       "10    6.882899e-01     0.058239                  0.684774       0.673570   \n",
       "11    6.394497e-01     0.050260                  0.967728       0.678951   \n",
       "12    6.145338e-01     0.042990                  1.544631       0.681577   \n",
       "13    3.694767e-01     0.039179                  2.428702       0.706694   \n",
       "14    1.809767e-01     0.035768                  3.920852       0.732486   \n",
       "15    1.113978e-01     0.030748                  6.343583       0.747287   \n",
       "16    8.963994e-02     0.032639                  8.889869       0.753654   \n",
       "17    1.397319e-02     0.027569                 13.149600       0.806567   \n",
       "18    2.341467e-03     0.024304                 20.026958       0.856816   \n",
       "19    4.517193e-04     0.024352                 29.058111       0.904235   \n",
       "20    2.535531e-05     0.022602                 39.798641       0.992415   \n",
       "21    1.589465e-06     0.023965                 54.490662       1.081766   \n",
       "22    9.898152e-01     0.029254                 20.313782       0.585260   \n",
       "23    3.539703e-09     0.021764                 37.079750       1.293583   \n",
       "24    2.868494e-16     0.018255                 65.303131       1.943915   \n",
       "25    1.000167e-07     0.033297                 54.867882       1.175527   \n",
       "26    1.044726e-11     0.032197                 69.756660       1.513280   \n",
       "27    2.313020e-15     0.031102                105.476852       1.855449   \n",
       "28    6.995875e-17     0.043842                148.843277       2.004922   \n",
       "29    1.356488e-14     0.049304                186.159576       1.781043   \n",
       "...            ...          ...                       ...            ...   \n",
       "4970  3.773172e-01     0.071781                  1.818288       0.705924   \n",
       "4971  5.419922e-01     0.072281                  1.983101       0.689346   \n",
       "4972  5.297469e-01     0.072964                  1.989745       0.690951   \n",
       "4973  4.929624e-01     0.073338                  2.037701       0.694098   \n",
       "4974  3.464726e-01     0.072968                  1.930538       0.709725   \n",
       "4975  6.467401e-01     0.074293                  1.890480       0.678432   \n",
       "4976  4.186065e-01     0.074056                  1.900187       0.701603   \n",
       "4977  7.007508e-01     0.073901                  1.924884       0.672231   \n",
       "4978  6.555266e-01     0.073645                  2.008137       0.677560   \n",
       "4979  6.353510e-01     0.072861                  1.996744       0.679610   \n",
       "4980  3.355556e-01     0.072049                  2.001131       0.710749   \n",
       "4981  7.062281e-01     0.071749                  1.887025       0.671690   \n",
       "4982  3.853154e-01     0.070979                  1.791461       0.705544   \n",
       "4983  4.869236e-01     0.072212                  1.829774       0.694662   \n",
       "4984  2.992156e-01     0.070857                  1.815001       0.715159   \n",
       "4985  5.790766e-01     0.071918                  1.812816       0.685411   \n",
       "4986  2.870926e-01     0.072774                  1.798047       0.716564   \n",
       "4987  4.721626e-01     0.072835                  1.819761       0.696081   \n",
       "4988  3.292416e-01     0.072465                  1.842682       0.711866   \n",
       "4989  2.893629e-01     0.072388                  1.844678       0.716128   \n",
       "4990  4.100369e-01     0.073739                  1.772623       0.702626   \n",
       "4991  5.064650e-01     0.073948                  1.775323       0.692724   \n",
       "4992  5.152656e-01     0.074443                  1.886267       0.691820   \n",
       "4993  4.492517e-01     0.074663                  2.059926       0.698568   \n",
       "4994  5.954138e-01     0.073742                  2.222877       0.683772   \n",
       "4995  6.459559e-01     0.075825                  2.012453       0.678491   \n",
       "4996  3.629592e-01     0.077949                  1.850227       0.707633   \n",
       "4997  4.621750e-01     0.076987                  2.053269       0.697141   \n",
       "4998  3.975598e-01     0.075027                  2.358554       0.704018   \n",
       "4999  4.169005e-01     0.074146                  2.162846       0.701887   \n",
       "\n",
       "      disc_fake_loss  disc_real_loss    enc_loss    dec_loss  disc_loss  \n",
       "0           0.674692        0.696784    0.978257    1.263165   1.371475  \n",
       "1           0.684964        0.675329    0.586669    0.940219   1.360293  \n",
       "2           0.687316        0.658749    0.555610    0.957100   1.346065  \n",
       "3           0.703839        0.644267    0.477637    0.903898   1.348106  \n",
       "4           0.708038        0.634176    0.454505    0.914467   1.342214  \n",
       "5           0.721044        0.621846    0.441220    0.925956   1.342890  \n",
       "6           0.722595        0.612045    0.445479    0.963819   1.334640  \n",
       "7           0.729697        0.602933    0.458387    1.001202   1.332630  \n",
       "8           0.723268        0.587644    0.516878    1.090747   1.310912  \n",
       "9           0.729695        0.570845    0.627553    1.214620   1.300540  \n",
       "10          0.713275        0.558094    0.743012    1.358344   1.271369  \n",
       "11          0.707611        0.529379    1.017988    1.646679   1.236990  \n",
       "12          0.704902        0.487223    1.587621    2.226208   1.192126  \n",
       "13          0.679958        0.438822    2.467882    3.135396   1.118780  \n",
       "14          0.655952        0.389991    3.956620    4.653338   1.045943  \n",
       "15          0.642404        0.337190    6.374330    7.090870   0.979594  \n",
       "16          0.637250        0.293334    8.922507    9.643522   0.930584  \n",
       "17          0.592537        0.269186   13.177168   13.956166   0.861724  \n",
       "18          0.553298        0.236353   20.051262   20.883772   0.789651  \n",
       "19          0.518999        0.205513   29.082458   29.962341   0.724512  \n",
       "20          0.463183        0.184570   39.821243   40.791058   0.647753  \n",
       "21          0.414059        0.153980   54.514629   55.572426   0.568039  \n",
       "22          0.814113        0.247188   20.343033   20.899040   1.061302  \n",
       "23          0.320611        0.292228   37.101513   38.373329   0.612838  \n",
       "24          0.154499        0.256958   65.321381   67.247047   0.411457  \n",
       "25          0.369315        0.190797   54.901176   56.043415   0.560111  \n",
       "26          0.248783        0.189876   69.788857   71.269943   0.438660  \n",
       "27          0.170121        0.145382  105.507950  107.332298   0.315503  \n",
       "28          0.144708        0.105394  148.887115  150.848175   0.250103  \n",
       "29          0.184479        0.069001  186.208878  187.940628   0.253480  \n",
       "...              ...             ...         ...         ...        ...  \n",
       "4970        0.680808        0.708452    1.890069    2.524212   1.389260  \n",
       "4971        0.697809        0.689453    2.055382    2.672447   1.387261  \n",
       "4972        0.697018        0.687616    2.062709    2.680696   1.384634  \n",
       "4973        0.692685        0.696304    2.111038    2.731799   1.388989  \n",
       "4974        0.677680        0.708897    2.003506    2.640263   1.386578  \n",
       "4975        0.708880        0.677268    1.964773    2.568913   1.386148  \n",
       "4976        0.685136        0.701942    1.974244    2.601790   1.387078  \n",
       "4977        0.714913        0.674307    1.998784    2.597115   1.389220  \n",
       "4978        0.710117        0.678897    2.081783    2.685698   1.389014  \n",
       "4979        0.707481        0.683882    2.069605    2.676355   1.391363  \n",
       "4980        0.676327        0.713058    2.073179    2.711880   1.389385  \n",
       "4981        0.715792        0.673284    1.958774    2.558714   1.389076  \n",
       "4982        0.681854        0.705582    1.862440    2.497005   1.387436  \n",
       "4983        0.692028        0.697642    1.901986    2.524436   1.389669  \n",
       "4984        0.672246        0.714075    1.885859    2.530160   1.386320  \n",
       "4985        0.701450        0.687280    1.884734    2.498227   1.388731  \n",
       "4986        0.670730        0.712210    1.870820    2.514611   1.382940  \n",
       "4987        0.690496        0.697416    1.892595    2.515841   1.387913  \n",
       "4988        0.675893        0.712626    1.915147    2.554549   1.388520  \n",
       "4989        0.670989        0.718000    1.917067    2.560807   1.388989  \n",
       "4990        0.684257        0.700204    1.846361    2.475249   1.384461  \n",
       "4991        0.694030        0.692086    1.849271    2.468047   1.386116  \n",
       "4992        0.694903        0.694271    1.960711    2.578087   1.389175  \n",
       "4993        0.688269        0.701963    2.134589    2.758494   1.390232  \n",
       "4994        0.703413        0.684679    2.296619    2.906649   1.388092  \n",
       "4995        0.708731        0.679549    2.088278    2.690943   1.388280  \n",
       "4996        0.679236        0.704823    1.928176    2.557861   1.384059  \n",
       "4997        0.689543        0.695858    2.130255    2.750409   1.385400  \n",
       "4998        0.683140        0.702224    2.433580    3.062572   1.385365  \n",
       "4999        0.685085        0.702649    2.236992    2.864733   1.387734  \n",
       "\n",
       "[5000 rows x 9 columns]"
      ]
     },
     "execution_count": 24,
     "metadata": {},
     "output_type": "execute_result"
    }
   ],
   "source": [
    "losses"
   ]
  },
  {
   "cell_type": "markdown",
   "metadata": {},
   "source": [
    "### Save model"
   ]
  },
  {
   "cell_type": "code",
   "execution_count": 25,
   "metadata": {
    "ExecuteTime": {
     "end_time": "2019-11-02T02:30:24.478569Z",
     "start_time": "2019-11-02T02:30:24.412252Z"
    }
   },
   "outputs": [],
   "source": [
    "network_type = 'VAEGAN2'"
   ]
  },
  {
   "cell_type": "code",
   "execution_count": 26,
   "metadata": {
    "ExecuteTime": {
     "end_time": "2019-11-02T02:30:24.573389Z",
     "start_time": "2019-11-02T02:30:24.480641Z"
    }
   },
   "outputs": [],
   "source": [
    "save_loc = DATA_DIR / 'models' / network_type / DATASET_ID\n",
    "\n",
    "ensure_dir(save_loc)\n",
    "\n",
    "# Save the entire model to a HDF5 file.\n",
    "# The '.h5' extension indicates that the model shuold be saved to HDF5.\n",
    "#model.save_weights((save_loc / (str(epoch).zfill(4))).as_posix()) \n",
    "\n",
    "# Recreate the exact same model, including its weights and the optimizer\n",
    "#new_model = tf.keras.models.load_model('my_model.h5')\n",
    "\n",
    "#model.load_weights('/local/home/tsainbur/github_repos/avgn_paper/data/models/AE/european_starling_gentner_segmented/0347') \n"
   ]
  },
  {
   "cell_type": "markdown",
   "metadata": {},
   "source": [
    "### J Diagram"
   ]
  },
  {
   "cell_type": "code",
   "execution_count": 27,
   "metadata": {
    "ExecuteTime": {
     "end_time": "2019-11-02T02:30:24.661825Z",
     "start_time": "2019-11-02T02:30:24.575714Z"
    }
   },
   "outputs": [],
   "source": [
    "gen_func =  model.decode\n",
    "interp_len = 5"
   ]
  },
  {
   "cell_type": "code",
   "execution_count": 28,
   "metadata": {
    "ExecuteTime": {
     "end_time": "2019-11-02T02:30:27.805121Z",
     "start_time": "2019-11-02T02:30:24.663771Z"
    }
   },
   "outputs": [],
   "source": [
    "from avgn.visualization.projections import scatter_spec\n",
    "from avgn.utils.general import save_fig\n",
    "from avgn.utils.paths import FIGURE_DIR, ensure_dir"
   ]
  },
  {
   "cell_type": "code",
   "execution_count": 29,
   "metadata": {
    "ExecuteTime": {
     "end_time": "2019-11-02T02:30:27.870923Z",
     "start_time": "2019-11-02T02:30:27.807025Z"
    }
   },
   "outputs": [],
   "source": [
    "ensure_dir(FIGURE_DIR / 'networks' / 'starling128')"
   ]
  },
  {
   "cell_type": "code",
   "execution_count": 30,
   "metadata": {
    "ExecuteTime": {
     "end_time": "2019-11-02T02:30:28.781924Z",
     "start_time": "2019-11-02T02:30:27.873098Z"
    }
   },
   "outputs": [
    {
     "ename": "ValueError",
     "evalue": "cannot reshape array of size 1024 into shape (1,128,128,1)",
     "output_type": "error",
     "traceback": [
      "\u001b[0;31m---------------------------------------------------------------------------\u001b[0m",
      "\u001b[0;31mAttributeError\u001b[0m                            Traceback (most recent call last)",
      "\u001b[0;32m/mnt/cube/tsainbur/conda_envs/tpy3/lib/python3.6/site-packages/numpy/core/fromnumeric.py\u001b[0m in \u001b[0;36m_wrapfunc\u001b[0;34m(obj, method, *args, **kwds)\u001b[0m\n\u001b[1;32m     50\u001b[0m     \u001b[0;32mtry\u001b[0m\u001b[0;34m:\u001b[0m\u001b[0;34m\u001b[0m\u001b[0;34m\u001b[0m\u001b[0m\n\u001b[0;32m---> 51\u001b[0;31m         \u001b[0;32mreturn\u001b[0m \u001b[0mgetattr\u001b[0m\u001b[0;34m(\u001b[0m\u001b[0mobj\u001b[0m\u001b[0;34m,\u001b[0m \u001b[0mmethod\u001b[0m\u001b[0;34m)\u001b[0m\u001b[0;34m(\u001b[0m\u001b[0;34m*\u001b[0m\u001b[0margs\u001b[0m\u001b[0;34m,\u001b[0m \u001b[0;34m**\u001b[0m\u001b[0mkwds\u001b[0m\u001b[0;34m)\u001b[0m\u001b[0;34m\u001b[0m\u001b[0;34m\u001b[0m\u001b[0m\n\u001b[0m\u001b[1;32m     52\u001b[0m \u001b[0;34m\u001b[0m\u001b[0m\n",
      "\u001b[0;31mAttributeError\u001b[0m: 'tensorflow.python.framework.ops.EagerTensor' object has no attribute 'reshape'",
      "\nDuring handling of the above exception, another exception occurred:\n",
      "\u001b[0;31mValueError\u001b[0m                                Traceback (most recent call last)",
      "\u001b[0;32m<ipython-input-30-318f0ecbd1ea>\u001b[0m in \u001b[0;36m<module>\u001b[0;34m\u001b[0m\n\u001b[1;32m      1\u001b[0m \u001b[0mdset_iter\u001b[0m \u001b[0;34m=\u001b[0m \u001b[0miter\u001b[0m\u001b[0;34m(\u001b[0m\u001b[0mdataset\u001b[0m\u001b[0;34m)\u001b[0m\u001b[0;34m\u001b[0m\u001b[0;34m\u001b[0m\u001b[0m\n\u001b[0;32m----> 2\u001b[0;31m \u001b[0mx1\u001b[0m \u001b[0;34m=\u001b[0m \u001b[0mnp\u001b[0m\u001b[0;34m.\u001b[0m\u001b[0mreshape\u001b[0m\u001b[0;34m(\u001b[0m\u001b[0mnext\u001b[0m\u001b[0;34m(\u001b[0m\u001b[0mdset_iter\u001b[0m\u001b[0;34m)\u001b[0m\u001b[0;34m[\u001b[0m\u001b[0;36m0\u001b[0m\u001b[0;34m]\u001b[0m \u001b[0;34m/\u001b[0m \u001b[0;36m255\u001b[0m\u001b[0;34m,\u001b[0m \u001b[0;34m(\u001b[0m\u001b[0;36m1\u001b[0m\u001b[0;34m,\u001b[0m\u001b[0;36m128\u001b[0m\u001b[0;34m,\u001b[0m\u001b[0;36m128\u001b[0m\u001b[0;34m,\u001b[0m\u001b[0;36m1\u001b[0m\u001b[0;34m)\u001b[0m\u001b[0;34m)\u001b[0m\u001b[0;34m\u001b[0m\u001b[0;34m\u001b[0m\u001b[0m\n\u001b[0m\u001b[1;32m      3\u001b[0m \u001b[0mx2\u001b[0m \u001b[0;34m=\u001b[0m \u001b[0mnp\u001b[0m\u001b[0;34m.\u001b[0m\u001b[0mreshape\u001b[0m\u001b[0;34m(\u001b[0m\u001b[0mnext\u001b[0m\u001b[0;34m(\u001b[0m\u001b[0mdset_iter\u001b[0m\u001b[0;34m)\u001b[0m\u001b[0;34m[\u001b[0m\u001b[0;36m0\u001b[0m\u001b[0;34m]\u001b[0m \u001b[0;34m/\u001b[0m \u001b[0;36m255\u001b[0m\u001b[0;34m,\u001b[0m \u001b[0;34m(\u001b[0m\u001b[0;36m1\u001b[0m\u001b[0;34m,\u001b[0m\u001b[0;36m128\u001b[0m\u001b[0;34m,\u001b[0m\u001b[0;36m128\u001b[0m\u001b[0;34m,\u001b[0m\u001b[0;36m1\u001b[0m\u001b[0;34m)\u001b[0m\u001b[0;34m)\u001b[0m\u001b[0;34m\u001b[0m\u001b[0;34m\u001b[0m\u001b[0m\n\u001b[1;32m      4\u001b[0m \u001b[0mx3\u001b[0m \u001b[0;34m=\u001b[0m \u001b[0mnp\u001b[0m\u001b[0;34m.\u001b[0m\u001b[0mreshape\u001b[0m\u001b[0;34m(\u001b[0m\u001b[0mnext\u001b[0m\u001b[0;34m(\u001b[0m\u001b[0mdset_iter\u001b[0m\u001b[0;34m)\u001b[0m\u001b[0;34m[\u001b[0m\u001b[0;36m0\u001b[0m\u001b[0;34m]\u001b[0m \u001b[0;34m/\u001b[0m \u001b[0;36m255\u001b[0m\u001b[0;34m,\u001b[0m \u001b[0;34m(\u001b[0m\u001b[0;36m1\u001b[0m\u001b[0;34m,\u001b[0m\u001b[0;36m128\u001b[0m\u001b[0;34m,\u001b[0m\u001b[0;36m128\u001b[0m\u001b[0;34m,\u001b[0m\u001b[0;36m1\u001b[0m\u001b[0;34m)\u001b[0m\u001b[0;34m)\u001b[0m\u001b[0;34m\u001b[0m\u001b[0;34m\u001b[0m\u001b[0m\n\u001b[1;32m      5\u001b[0m \u001b[0mexdat\u001b[0m \u001b[0;34m=\u001b[0m \u001b[0mnp\u001b[0m\u001b[0;34m.\u001b[0m\u001b[0mvstack\u001b[0m\u001b[0;34m(\u001b[0m\u001b[0;34m[\u001b[0m\u001b[0mx1\u001b[0m\u001b[0;34m,\u001b[0m \u001b[0mx2\u001b[0m\u001b[0;34m,\u001b[0m \u001b[0mx3\u001b[0m\u001b[0;34m]\u001b[0m\u001b[0;34m)\u001b[0m\u001b[0;34m\u001b[0m\u001b[0;34m\u001b[0m\u001b[0m\n",
      "\u001b[0;32m/mnt/cube/tsainbur/conda_envs/tpy3/lib/python3.6/site-packages/numpy/core/fromnumeric.py\u001b[0m in \u001b[0;36mreshape\u001b[0;34m(a, newshape, order)\u001b[0m\n\u001b[1;32m    277\u001b[0m            [5, 6]])\n\u001b[1;32m    278\u001b[0m     \"\"\"\n\u001b[0;32m--> 279\u001b[0;31m     \u001b[0;32mreturn\u001b[0m \u001b[0m_wrapfunc\u001b[0m\u001b[0;34m(\u001b[0m\u001b[0ma\u001b[0m\u001b[0;34m,\u001b[0m \u001b[0;34m'reshape'\u001b[0m\u001b[0;34m,\u001b[0m \u001b[0mnewshape\u001b[0m\u001b[0;34m,\u001b[0m \u001b[0morder\u001b[0m\u001b[0;34m=\u001b[0m\u001b[0morder\u001b[0m\u001b[0;34m)\u001b[0m\u001b[0;34m\u001b[0m\u001b[0;34m\u001b[0m\u001b[0m\n\u001b[0m\u001b[1;32m    280\u001b[0m \u001b[0;34m\u001b[0m\u001b[0m\n\u001b[1;32m    281\u001b[0m \u001b[0;34m\u001b[0m\u001b[0m\n",
      "\u001b[0;32m/mnt/cube/tsainbur/conda_envs/tpy3/lib/python3.6/site-packages/numpy/core/fromnumeric.py\u001b[0m in \u001b[0;36m_wrapfunc\u001b[0;34m(obj, method, *args, **kwds)\u001b[0m\n\u001b[1;32m     59\u001b[0m     \u001b[0;31m# a downstream library like 'pandas'.\u001b[0m\u001b[0;34m\u001b[0m\u001b[0;34m\u001b[0m\u001b[0;34m\u001b[0m\u001b[0m\n\u001b[1;32m     60\u001b[0m     \u001b[0;32mexcept\u001b[0m \u001b[0;34m(\u001b[0m\u001b[0mAttributeError\u001b[0m\u001b[0;34m,\u001b[0m \u001b[0mTypeError\u001b[0m\u001b[0;34m)\u001b[0m\u001b[0;34m:\u001b[0m\u001b[0;34m\u001b[0m\u001b[0;34m\u001b[0m\u001b[0m\n\u001b[0;32m---> 61\u001b[0;31m         \u001b[0;32mreturn\u001b[0m \u001b[0m_wrapit\u001b[0m\u001b[0;34m(\u001b[0m\u001b[0mobj\u001b[0m\u001b[0;34m,\u001b[0m \u001b[0mmethod\u001b[0m\u001b[0;34m,\u001b[0m \u001b[0;34m*\u001b[0m\u001b[0margs\u001b[0m\u001b[0;34m,\u001b[0m \u001b[0;34m**\u001b[0m\u001b[0mkwds\u001b[0m\u001b[0;34m)\u001b[0m\u001b[0;34m\u001b[0m\u001b[0;34m\u001b[0m\u001b[0m\n\u001b[0m\u001b[1;32m     62\u001b[0m \u001b[0;34m\u001b[0m\u001b[0m\n\u001b[1;32m     63\u001b[0m \u001b[0;34m\u001b[0m\u001b[0m\n",
      "\u001b[0;32m/mnt/cube/tsainbur/conda_envs/tpy3/lib/python3.6/site-packages/numpy/core/fromnumeric.py\u001b[0m in \u001b[0;36m_wrapit\u001b[0;34m(obj, method, *args, **kwds)\u001b[0m\n\u001b[1;32m     39\u001b[0m     \u001b[0;32mexcept\u001b[0m \u001b[0mAttributeError\u001b[0m\u001b[0;34m:\u001b[0m\u001b[0;34m\u001b[0m\u001b[0;34m\u001b[0m\u001b[0m\n\u001b[1;32m     40\u001b[0m         \u001b[0mwrap\u001b[0m \u001b[0;34m=\u001b[0m \u001b[0;32mNone\u001b[0m\u001b[0;34m\u001b[0m\u001b[0;34m\u001b[0m\u001b[0m\n\u001b[0;32m---> 41\u001b[0;31m     \u001b[0mresult\u001b[0m \u001b[0;34m=\u001b[0m \u001b[0mgetattr\u001b[0m\u001b[0;34m(\u001b[0m\u001b[0masarray\u001b[0m\u001b[0;34m(\u001b[0m\u001b[0mobj\u001b[0m\u001b[0;34m)\u001b[0m\u001b[0;34m,\u001b[0m \u001b[0mmethod\u001b[0m\u001b[0;34m)\u001b[0m\u001b[0;34m(\u001b[0m\u001b[0;34m*\u001b[0m\u001b[0margs\u001b[0m\u001b[0;34m,\u001b[0m \u001b[0;34m**\u001b[0m\u001b[0mkwds\u001b[0m\u001b[0;34m)\u001b[0m\u001b[0;34m\u001b[0m\u001b[0;34m\u001b[0m\u001b[0m\n\u001b[0m\u001b[1;32m     42\u001b[0m     \u001b[0;32mif\u001b[0m \u001b[0mwrap\u001b[0m\u001b[0;34m:\u001b[0m\u001b[0;34m\u001b[0m\u001b[0;34m\u001b[0m\u001b[0m\n\u001b[1;32m     43\u001b[0m         \u001b[0;32mif\u001b[0m \u001b[0;32mnot\u001b[0m \u001b[0misinstance\u001b[0m\u001b[0;34m(\u001b[0m\u001b[0mresult\u001b[0m\u001b[0;34m,\u001b[0m \u001b[0mmu\u001b[0m\u001b[0;34m.\u001b[0m\u001b[0mndarray\u001b[0m\u001b[0;34m)\u001b[0m\u001b[0;34m:\u001b[0m\u001b[0;34m\u001b[0m\u001b[0;34m\u001b[0m\u001b[0m\n",
      "\u001b[0;31mValueError\u001b[0m: cannot reshape array of size 1024 into shape (1,128,128,1)"
     ]
    }
   ],
   "source": [
    "dset_iter = iter(dataset)\n",
    "x1 = np.reshape(next(dset_iter)[0] / 255, (1,128,128,1))\n",
    "x2 = np.reshape(next(dset_iter)[0] / 255, (1,128,128,1))\n",
    "x3 = np.reshape(next(dset_iter)[0] / 255, (1,128,128,1))\n",
    "exdat = np.vstack([x1, x2, x3])"
   ]
  },
  {
   "cell_type": "code",
   "execution_count": null,
   "metadata": {
    "ExecuteTime": {
     "end_time": "2019-11-02T02:30:28.785197Z",
     "start_time": "2019-11-01T20:17:31.011Z"
    }
   },
   "outputs": [],
   "source": [
    "fig, axs = plt.subplots(ncols=3, figsize=(15,5))\n",
    "axs[0].matshow(np.squeeze(x1), origin='lower')\n",
    "axs[1].matshow(np.squeeze(x2), origin='lower')\n",
    "axs[2].matshow(np.squeeze(x3), origin='lower')"
   ]
  },
  {
   "cell_type": "code",
   "execution_count": null,
   "metadata": {
    "ExecuteTime": {
     "end_time": "2019-11-02T02:30:28.786572Z",
     "start_time": "2019-11-01T20:17:31.012Z"
    }
   },
   "outputs": [],
   "source": [
    "(pt1, pt2, pt3), _  = model.encode(exdat)"
   ]
  },
  {
   "cell_type": "code",
   "execution_count": null,
   "metadata": {
    "ExecuteTime": {
     "end_time": "2019-11-02T02:30:28.787935Z",
     "start_time": "2019-11-01T20:17:31.014Z"
    }
   },
   "outputs": [],
   "source": [
    "xr1, xr2, xr3 = model.decode(np.vstack([pt1, pt2, pt3]),apply_sigmoid=True)"
   ]
  },
  {
   "cell_type": "code",
   "execution_count": null,
   "metadata": {
    "ExecuteTime": {
     "end_time": "2019-11-02T02:30:28.789221Z",
     "start_time": "2019-11-01T20:17:31.015Z"
    }
   },
   "outputs": [],
   "source": [
    "fig, axs = plt.subplots(ncols=3, figsize=(15,5))\n",
    "axs[0].matshow(np.squeeze(xr1.numpy()), origin='lower')\n",
    "axs[1].matshow(np.squeeze(xr2.numpy()), origin='lower')\n",
    "axs[2].matshow(np.squeeze(xr3.numpy()), origin='lower')"
   ]
  },
  {
   "cell_type": "code",
   "execution_count": null,
   "metadata": {
    "ExecuteTime": {
     "end_time": "2019-11-02T02:30:28.790503Z",
     "start_time": "2019-11-01T20:17:31.016Z"
    }
   },
   "outputs": [],
   "source": [
    "# pt1x,pt2x,pt3x =gen_func(tf.stack([pt1,pt2,pt3]))\n",
    "\n",
    "# get proportions\n",
    "z_list = []\n",
    "for ci, C in enumerate(np.linspace(0, 1, interp_len)):\n",
    "    for bi, B in enumerate(np.linspace(0, 1, interp_len)):\n",
    "        A = 1 - C - B\n",
    "        z_list.append(C * pt1 + B * pt2 + A * pt3)\n",
    "z_list = np.vstack(z_list)\n",
    "# get X\n",
    "x_list = gen_func(z_list, apply_sigmoid = True).numpy()\n",
    "\n",
    "# make diagram\n",
    "Jdiagram = np.ones(\n",
    "    (\n",
    "        x_list.shape[1] * (interp_len),\n",
    "        x_list.shape[2] * (interp_len + 2),\n",
    "        x_list.shape[3],\n",
    "    )\n",
    ")\n",
    "np.shape(Jdiagram)\n",
    "\n",
    "# populate\n",
    "i = 0\n",
    "for ci, C in enumerate(np.linspace(0, 1, interp_len)):\n",
    "    for bi, B in enumerate(np.linspace(0, 1, interp_len)):\n",
    "        Jdiagram[\n",
    "            (interp_len - 1 - bi)\n",
    "            * x_list.shape[1] : ((interp_len - bi))\n",
    "            * x_list.shape[1],\n",
    "            (ci + 1) * x_list.shape[2] : (ci + 2) * x_list.shape[2],\n",
    "            :,\n",
    "        ] = x_list[i]\n",
    "        i += 1\n",
    "Jdiagram[\n",
    "    (interp_len - 1) * x_list.shape[1] : (interp_len) * x_list.shape[1],\n",
    "    : x_list.shape[2],\n",
    "    :,\n",
    "] = x3\n",
    "\n",
    "Jdiagram[\n",
    "    (interp_len - 1) * x_list.shape[1] : (interp_len) * x_list.shape[1],\n",
    "    (interp_len + 1) * x_list.shape[2] : (interp_len + 2) * x_list.shape[2],\n",
    "    :,\n",
    "] = x1\n",
    "\n",
    "Jdiagram[: x_list.shape[1], : x_list.shape[2], :] = x2"
   ]
  },
  {
   "cell_type": "code",
   "execution_count": null,
   "metadata": {
    "ExecuteTime": {
     "end_time": "2019-11-02T02:30:28.791713Z",
     "start_time": "2019-11-01T20:17:31.017Z"
    }
   },
   "outputs": [],
   "source": [
    "fig, ax = plt.subplots(figsize=(10,10))\n",
    "ax.matshow(np.squeeze(Jdiagram), vmin = 0, cmap=plt.cm.afmhot, origin = 'lower')\n",
    "ax.axis('off')\n",
    "#save_fig(FIGURE_DIR / 'networks' / 'starling128'/ ('AE_JDiagram_2'), dpi=300, save_jpg=True)"
   ]
  },
  {
   "cell_type": "code",
   "execution_count": null,
   "metadata": {},
   "outputs": [],
   "source": []
  },
  {
   "cell_type": "code",
   "execution_count": null,
   "metadata": {},
   "outputs": [],
   "source": []
  },
  {
   "cell_type": "code",
   "execution_count": null,
   "metadata": {
    "ExecuteTime": {
     "end_time": "2019-11-02T02:30:28.792948Z",
     "start_time": "2019-11-01T20:17:31.019Z"
    }
   },
   "outputs": [],
   "source": [
    "losses[-3:]"
   ]
  },
  {
   "cell_type": "markdown",
   "metadata": {},
   "source": [
    "### Plot samples from latent"
   ]
  },
  {
   "cell_type": "code",
   "execution_count": null,
   "metadata": {
    "ExecuteTime": {
     "end_time": "2019-11-02T02:30:28.794283Z",
     "start_time": "2019-11-01T20:17:31.021Z"
    }
   },
   "outputs": [],
   "source": [
    "z = tf.split(model.enc(example_data), num_or_size_splits=2, axis=1)[0].numpy()\n",
    "z = tf.split(model.enc(example_data), num_or_size_splits=2, axis=1)[0].numpy()\n",
    "plt.hist(z.flatten())\n",
    "plt.show()"
   ]
  },
  {
   "cell_type": "code",
   "execution_count": null,
   "metadata": {
    "ExecuteTime": {
     "end_time": "2019-10-31T22:02:13.090081Z",
     "start_time": "2019-10-31T22:02:12.671877Z"
    }
   },
   "outputs": [],
   "source": []
  },
  {
   "cell_type": "code",
   "execution_count": null,
   "metadata": {
    "ExecuteTime": {
     "end_time": "2019-11-02T02:30:28.795649Z",
     "start_time": "2019-11-01T20:17:31.022Z"
    }
   },
   "outputs": [],
   "source": [
    "np.shape(z)"
   ]
  },
  {
   "cell_type": "code",
   "execution_count": null,
   "metadata": {
    "ExecuteTime": {
     "end_time": "2019-11-02T02:30:28.796997Z",
     "start_time": "2019-11-01T20:17:31.023Z"
    }
   },
   "outputs": [],
   "source": [
    "np.max(z)"
   ]
  },
  {
   "cell_type": "code",
   "execution_count": null,
   "metadata": {
    "ExecuteTime": {
     "end_time": "2019-11-02T02:30:28.798351Z",
     "start_time": "2019-11-01T20:17:31.024Z"
    }
   },
   "outputs": [],
   "source": [
    "xmax, ymax = np.max(z, axis=0)\n",
    "xmin, ymin = np.min(z, axis=0)\n",
    "print(xmax, ymax, xmin, ymin)"
   ]
  },
  {
   "cell_type": "code",
   "execution_count": null,
   "metadata": {
    "ExecuteTime": {
     "end_time": "2019-11-02T02:30:28.799702Z",
     "start_time": "2019-11-01T20:17:31.025Z"
    }
   },
   "outputs": [],
   "source": [
    "# sample from grid\n",
    "nx = ny= 20\n",
    "meshgrid = np.meshgrid(np.linspace(xmin, xmax, nx), np.linspace(ymin, ymax, ny))\n",
    "meshgrid = np.array(meshgrid).reshape(2, nx*ny).T\n",
    "x_grid = model.decode(meshgrid)\n",
    "x_grid = x_grid.numpy().reshape(nx, ny, DIMS[0], DIMS[1], DIMS[2])\n",
    "# fill canvas\n",
    "canvas = np.zeros((nx*DIMS[0], ny*DIMS[1]))\n",
    "for xi in range(nx):\n",
    "    for yi in range(ny):\n",
    "        canvas[xi*DIMS[0]:xi*DIMS[0]+DIMS[0], yi*DIMS[1]:yi*DIMS[1]+DIMS[1]] = x_grid[xi, yi,:,:,:].squeeze()\n",
    "fig, ax = plt.subplots(figsize=(15,10))\n",
    "ax.matshow(canvas, vmin = 0, cmap=plt.cm.Greys, origin = 'lower')\n",
    "ax.axis('off')"
   ]
  },
  {
   "cell_type": "markdown",
   "metadata": {},
   "source": [
    "###  plot dataset "
   ]
  },
  {
   "cell_type": "code",
   "execution_count": null,
   "metadata": {
    "ExecuteTime": {
     "end_time": "2019-11-02T02:30:28.801184Z",
     "start_time": "2019-11-01T20:17:31.027Z"
    }
   },
   "outputs": [],
   "source": [
    "all_x = []\n",
    "all_z = []\n",
    "all_indv = []\n",
    "all_labels = []\n",
    "for bi, (batch, train_x) in tqdm(\n",
    "    enumerate(zip(range(N_TRAIN_BATCHES), train_dataset)), total=N_TRAIN_BATCHES\n",
    "):\n",
    "    x = train_x[0]\n",
    "    all_x.append(x)\n",
    "    x = tf.cast(tf.reshape(x, [BATCH_SIZE] + list(DIMS)), tf.float32) / 255\n",
    "    #model.train_net(x)\n",
    "    z = tf.split(model.enc(x), num_or_size_splits=2, axis=1)[0].numpy()\n",
    "    #z = model.encode(example_data).sample().numpy()\n",
    "    all_z.append(z)\n",
    "    all_indv.append(train_x[3].numpy())\n",
    "    all_labels.append(train_x[2].numpy())\n",
    "    if bi > 100: break\n",
    "all_z = np.vstack(all_z)\n",
    "all_indv = np.concatenate(all_indv)\n",
    "all_labels = np.concatenate(all_labels)\n",
    "all_x = np.concatenate(all_x)\n",
    "all_x = np.reshape(all_x, [len(all_x)] + list(DIMS[:2]))"
   ]
  },
  {
   "cell_type": "code",
   "execution_count": null,
   "metadata": {
    "ExecuteTime": {
     "end_time": "2019-11-02T02:30:28.802670Z",
     "start_time": "2019-11-01T20:17:31.028Z"
    }
   },
   "outputs": [],
   "source": [
    "from avgn.visualization.projections import scatter_spec"
   ]
  },
  {
   "cell_type": "code",
   "execution_count": null,
   "metadata": {
    "ExecuteTime": {
     "end_time": "2019-11-02T02:30:28.803889Z",
     "start_time": "2019-11-01T20:17:31.029Z"
    }
   },
   "outputs": [],
   "source": [
    "np.shape(all_z)"
   ]
  },
  {
   "cell_type": "code",
   "execution_count": null,
   "metadata": {
    "ExecuteTime": {
     "end_time": "2019-11-02T02:30:28.805203Z",
     "start_time": "2019-11-01T20:17:31.030Z"
    }
   },
   "outputs": [],
   "source": [
    "plt.scatter(all_z[:,0], all_z[:,1], s=1, c='k', alpha=0.01)"
   ]
  },
  {
   "cell_type": "code",
   "execution_count": null,
   "metadata": {
    "ExecuteTime": {
     "end_time": "2019-11-02T02:30:28.806544Z",
     "start_time": "2019-11-01T20:17:31.031Z"
    }
   },
   "outputs": [],
   "source": [
    "scatter_spec(\n",
    "        np.vstack(all_z),\n",
    "        all_x,\n",
    "        column_size=15,\n",
    "        x_range = [-4,4],\n",
    "        y_range = [-4,4],\n",
    "        pal_color=\"hls\",\n",
    "        color_points=False,\n",
    "        enlarge_points=20,\n",
    "        figsize=(10, 10),\n",
    "        scatter_kwargs = {\n",
    "            'labels': list(all_labels),\n",
    "            'alpha':0.25,\n",
    "            's': 1,\n",
    "            'show_legend': False\n",
    "        },\n",
    "        matshow_kwargs = {\n",
    "            'cmap': plt.cm.Greys\n",
    "        },\n",
    "        line_kwargs = {\n",
    "            'lw':1,\n",
    "            'ls':\"solid\",\n",
    "            'alpha':0.25,\n",
    "        },\n",
    "        draw_lines=True\n",
    ");"
   ]
  },
  {
   "cell_type": "code",
   "execution_count": null,
   "metadata": {},
   "outputs": [],
   "source": []
  }
 ],
 "metadata": {
  "kernelspec": {
   "display_name": "Python 3",
   "language": "python",
   "name": "python3"
  },
  "language_info": {
   "codemirror_mode": {
    "name": "ipython",
    "version": 3
   },
   "file_extension": ".py",
   "mimetype": "text/x-python",
   "name": "python",
   "nbconvert_exporter": "python",
   "pygments_lexer": "ipython3",
   "version": "3.6.7"
  }
 },
 "nbformat": 4,
 "nbformat_minor": 2
}
