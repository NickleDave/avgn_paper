{
 "cells": [
  {
   "cell_type": "markdown",
   "metadata": {},
   "source": [
    "### to get this working in full, recon loss needs to be applied component needs to be added to discrim reconstruction"
   ]
  },
  {
   "cell_type": "code",
   "execution_count": 1,
   "metadata": {
    "ExecuteTime": {
     "end_time": "2019-11-06T19:21:03.599187Z",
     "start_time": "2019-11-06T19:21:03.577521Z"
    }
   },
   "outputs": [
    {
     "name": "stdout",
     "output_type": "stream",
     "text": [
      "env: CUDA_DEVICE_ORDER=PCI_BUS_ID\n",
      "env: CUDA_VISIBLE_DEVICES=2\n"
     ]
    }
   ],
   "source": [
    "%load_ext autoreload\n",
    "%autoreload 2\n",
    "\n",
    "%env CUDA_DEVICE_ORDER=PCI_BUS_ID\n",
    "%env CUDA_VISIBLE_DEVICES=3"
   ]
  },
  {
   "cell_type": "markdown",
   "metadata": {},
   "source": [
    "### load dataset"
   ]
  },
  {
   "cell_type": "code",
   "execution_count": 2,
   "metadata": {
    "ExecuteTime": {
     "end_time": "2019-11-06T19:21:06.554175Z",
     "start_time": "2019-11-06T19:21:03.600853Z"
    }
   },
   "outputs": [
    {
     "name": "stderr",
     "output_type": "stream",
     "text": [
      "/home/AD/tsainbur/anaconda3/envs/py19/lib/python3.6/site-packages/tqdm/autonotebook.py:17: TqdmExperimentalWarning: Using `tqdm.autonotebook.tqdm` in notebook mode. Use `tqdm.tqdm` instead to force console mode (e.g. in jupyter console)\n",
      "  \" (e.g. in jupyter console)\", TqdmExperimentalWarning)\n"
     ]
    }
   ],
   "source": [
    "from avgn.utils.paths import DATA_DIR, most_recent_subdirectory, ensure_dir\n",
    "from avgn.tensorflow.data import _parse_function"
   ]
  },
  {
   "cell_type": "code",
   "execution_count": 3,
   "metadata": {
    "ExecuteTime": {
     "end_time": "2019-11-06T19:21:06.865565Z",
     "start_time": "2019-11-06T19:21:06.556170Z"
    }
   },
   "outputs": [],
   "source": [
    "import tensorflow as tf\n",
    "import numpy as np\n",
    "import matplotlib.pyplot as plt\n",
    "from tqdm.autonotebook import tqdm\n",
    "%matplotlib inline\n",
    "from IPython import display\n",
    "import pandas as pd\n",
    "\n",
    "# the nightly build of tensorflow_probability is required as of the time of writing this \n",
    "import tensorflow_probability as tfp\n",
    "ds = tfp.distributions"
   ]
  },
  {
   "cell_type": "code",
   "execution_count": 4,
   "metadata": {
    "ExecuteTime": {
     "end_time": "2019-11-06T19:21:06.916935Z",
     "start_time": "2019-11-06T19:21:06.867481Z"
    }
   },
   "outputs": [
    {
     "name": "stdout",
     "output_type": "stream",
     "text": [
      "2.0.0 0.8.0\n"
     ]
    }
   ],
   "source": [
    "print(tf.__version__, tfp.__version__)"
   ]
  },
  {
   "cell_type": "code",
   "execution_count": 5,
   "metadata": {
    "ExecuteTime": {
     "end_time": "2019-11-06T19:21:07.002760Z",
     "start_time": "2019-11-06T19:21:06.919977Z"
    }
   },
   "outputs": [],
   "source": [
    "TRAIN_SIZE=101726\n",
    "BATCH_SIZE=32\n",
    "TEST_SIZE=10000\n",
    "DIMS = (32, 32, 1)\n",
    "N_TRAIN_BATCHES =int((TRAIN_SIZE-TEST_SIZE)/BATCH_SIZE)\n",
    "N_TEST_BATCHES = int(TEST_SIZE/BATCH_SIZE)\n",
    "TRAIN_BUF = 1000\n",
    "TEST_BUF = 1000"
   ]
  },
  {
   "cell_type": "code",
   "execution_count": 6,
   "metadata": {
    "ExecuteTime": {
     "end_time": "2019-11-06T19:21:07.088860Z",
     "start_time": "2019-11-06T19:21:07.005014Z"
    }
   },
   "outputs": [],
   "source": [
    "DATASET_ID = 'starling'"
   ]
  },
  {
   "cell_type": "code",
   "execution_count": 7,
   "metadata": {
    "ExecuteTime": {
     "end_time": "2019-11-06T19:21:07.180638Z",
     "start_time": "2019-11-06T19:21:07.090608Z"
    }
   },
   "outputs": [],
   "source": [
    "record_loc = DATA_DIR / 'tfrecords' / \"starling_32.tfrecords\""
   ]
  },
  {
   "cell_type": "code",
   "execution_count": 8,
   "metadata": {
    "ExecuteTime": {
     "end_time": "2019-11-06T19:21:07.943031Z",
     "start_time": "2019-11-06T19:21:07.182334Z"
    }
   },
   "outputs": [],
   "source": [
    "# read the dataset\n",
    "raw_dataset = tf.data.TFRecordDataset([record_loc.as_posix()])"
   ]
  },
  {
   "cell_type": "code",
   "execution_count": 9,
   "metadata": {
    "ExecuteTime": {
     "end_time": "2019-11-06T19:21:08.005551Z",
     "start_time": "2019-11-06T19:21:07.944697Z"
    }
   },
   "outputs": [],
   "source": [
    "data_types = {\n",
    "    \"spectrogram\": tf.uint8,\n",
    "    \"index\": tf.int64,\n",
    "    \"indv\": tf.string,\n",
    "}"
   ]
  },
  {
   "cell_type": "code",
   "execution_count": 10,
   "metadata": {
    "ExecuteTime": {
     "end_time": "2019-11-06T19:21:08.420330Z",
     "start_time": "2019-11-06T19:21:08.007136Z"
    }
   },
   "outputs": [],
   "source": [
    "# parse each data type to the raw dataset\n",
    "dataset = raw_dataset.map(lambda x: _parse_function(x, data_types=data_types))"
   ]
  },
  {
   "cell_type": "code",
   "execution_count": 11,
   "metadata": {
    "ExecuteTime": {
     "end_time": "2019-11-06T19:21:08.482124Z",
     "start_time": "2019-11-06T19:21:08.421963Z"
    }
   },
   "outputs": [],
   "source": [
    "spec, index, indv  = next(iter(dataset))"
   ]
  },
  {
   "cell_type": "code",
   "execution_count": 12,
   "metadata": {
    "ExecuteTime": {
     "end_time": "2019-11-06T19:21:08.728813Z",
     "start_time": "2019-11-06T19:21:08.483813Z"
    }
   },
   "outputs": [
    {
     "data": {
      "text/plain": [
       "<matplotlib.image.AxesImage at 0x7f7ef03c5128>"
      ]
     },
     "execution_count": 12,
     "metadata": {},
     "output_type": "execute_result"
    },
    {
     "data": {
      "image/png": "[encoded data removed]",
      "text/plain": [
       "<Figure size 288x288 with 1 Axes>"
      ]
     },
     "metadata": {
      "needs_background": "light"
     },
     "output_type": "display_data"
    }
   ],
   "source": [
    "plt.matshow(spec.numpy().reshape(DIMS[:2]))"
   ]
  },
  {
   "cell_type": "code",
   "execution_count": 13,
   "metadata": {
    "ExecuteTime": {
     "end_time": "2019-11-06T19:21:08.780708Z",
     "start_time": "2019-11-06T19:21:08.730382Z"
    }
   },
   "outputs": [],
   "source": [
    "test_dataset = dataset.take(TEST_SIZE).shuffle(TRAIN_BUF).batch(BATCH_SIZE)\n",
    "train_dataset = dataset.skip(TEST_SIZE).take(TRAIN_SIZE-TEST_SIZE).shuffle(TEST_BUF).batch(BATCH_SIZE)"
   ]
  },
  {
   "cell_type": "code",
   "execution_count": null,
   "metadata": {
    "ExecuteTime": {
     "start_time": "2019-11-06T19:21:03.233Z"
    }
   },
   "outputs": [],
   "source": [
    "# exampled data for plotting results\n",
    "example_data = next(iter(test_dataset))\n",
    "example_data = (\n",
    "        tf.cast(tf.reshape(example_data[0], [BATCH_SIZE] + list(DIMS)), tf.float32)\n",
    "        / 255\n",
    ")"
   ]
  },
  {
   "cell_type": "markdown",
   "metadata": {},
   "source": [
    "### define network"
   ]
  },
  {
   "cell_type": "code",
   "execution_count": null,
   "metadata": {
    "ExecuteTime": {
     "start_time": "2019-11-06T19:21:03.235Z"
    }
   },
   "outputs": [],
   "source": [
    "latent_dim = N_Z = 128\n",
    "\n",
    "encoder = [\n",
    "    tf.keras.layers.InputLayer(input_shape=DIMS),\n",
    "    tf.keras.layers.Conv2D(\n",
    "        filters=32, kernel_size=3, strides=(2, 2), activation=\"relu\"\n",
    "    ),\n",
    "    tf.keras.layers.Conv2D(\n",
    "        filters=64, kernel_size=3, strides=(2, 2), activation=\"relu\"\n",
    "    ),\n",
    "    tf.keras.layers.Conv2D(\n",
    "        filters=128, kernel_size=3, strides=(2, 2), activation=\"relu\"\n",
    "    ),\n",
    "    tf.keras.layers.Flatten(),\n",
    "    tf.keras.layers.Dense(units=N_Z*2),\n",
    "]\n",
    "\n",
    "decoder = [\n",
    "    tf.keras.layers.Dense(units=4 * 4 * 256, activation=\"relu\"),\n",
    "    tf.keras.layers.Reshape(target_shape=(4, 4, 256)),\n",
    "    tf.keras.layers.Conv2DTranspose(\n",
    "        filters=128, kernel_size=3, strides=(2, 2), padding=\"SAME\", activation=\"relu\"\n",
    "    ),\n",
    "    tf.keras.layers.Conv2DTranspose(\n",
    "        filters=64, kernel_size=3, strides=(2, 2), padding=\"SAME\", activation=\"relu\"\n",
    "    ),\n",
    "    tf.keras.layers.Conv2DTranspose(\n",
    "        filters=32, kernel_size=3, strides=(2, 2), padding=\"SAME\", activation=\"relu\"\n",
    "    ),\n",
    "    tf.keras.layers.Conv2DTranspose(\n",
    "        filters=1, kernel_size=3, strides=(1, 1), padding=\"SAME\", activation=None#tf.nn.sigmoid\n",
    "    ),\n",
    "]\n",
    "\n",
    "discrim_project = [\n",
    "    tf.keras.layers.Conv2D(\n",
    "                filters=32, kernel_size=3, strides=(2, 2), activation=tf.nn.relu\n",
    "            ),\n",
    "    tf.keras.layers.Conv2D(\n",
    "                filters=64, kernel_size=3, strides=(2, 2), activation=tf.nn.relu\n",
    "            ),\n",
    "    tf.keras.layers.Conv2D(\n",
    "        filters=64, kernel_size=3, strides=(2, 2), activation=tf.nn.relu\n",
    "    ),\n",
    "    tf.keras.layers.Conv2D(\n",
    "        filters=128, kernel_size=3, strides=(2, 2), activation=None\n",
    "    ),\n",
    "    tf.keras.layers.Flatten()\n",
    "]\n",
    "\n",
    "discrim_decision = [\n",
    "    tf.keras.layers.Dense(units=1, activation = None)\n",
    "]\n"
   ]
  },
  {
   "cell_type": "code",
   "execution_count": null,
   "metadata": {
    "ExecuteTime": {
     "start_time": "2019-11-06T19:21:03.237Z"
    }
   },
   "outputs": [],
   "source": [
    "class VAEGAN(tf.keras.Model):\n",
    "    \"\"\"a VAEGAN class for tensorflow\n",
    "    \n",
    "    Extends:\n",
    "        tf.keras.Model\n",
    "    \"\"\"\n",
    "\n",
    "    def __init__(self, beta=1.0, **kwargs):\n",
    "        super(VAEGAN, self).__init__()\n",
    "        self.__dict__.update(kwargs)\n",
    "\n",
    "        self.enc = tf.keras.Sequential(self.enc)\n",
    "        self.dec = tf.keras.Sequential(self.dec)\n",
    "        self.disc_project = tf.keras.Sequential(self.discrim_project)\n",
    "        self.disc_decide = tf.keras.Sequential(self.discrim_decision)\n",
    "\n",
    "    def encode(self, x):\n",
    "        mu, sigma = tf.split(self.enc(x), num_or_size_splits=2, axis=1)\n",
    "        return mu, sigma\n",
    "\n",
    "    def decode(self, z, apply_sigmoid=False):\n",
    "        logits = self.dec(z)\n",
    "        if apply_sigmoid:\n",
    "            probs = tf.sigmoid(logits)\n",
    "            return probs\n",
    "        return logits\n",
    "\n",
    "    def reparameterize(self, mean, logvar):\n",
    "        eps = tf.random.normal(shape=mean.shape)\n",
    "        return eps * tf.exp(logvar * 0.5) + mean\n",
    "\n",
    "    def reconstruct(self, x):\n",
    "        mean, logvar = self.encode(x)\n",
    "        z = self.reparameterize(mean, logvar)\n",
    "        return self.decode(z, apply_sigmoid=True)\n",
    "\n",
    "    def discriminate_project(self, x, apply_sigmoid=False):\n",
    "        logits = self.disc_project(x)\n",
    "        if apply_sigmoid:\n",
    "            probs = tf.sigmoid(logits)\n",
    "            return probs\n",
    "        return logits\n",
    "\n",
    "    def discriminate_decide(self, x):\n",
    "        return self.disc_decide(x)\n",
    "\n",
    "    def discriminate(self, x):\n",
    "        return self.disc_decide(self.disc_project(x))\n",
    "\n",
    "    @tf.function\n",
    "    def compute_loss(self, x):\n",
    "\n",
    "        #### Autoencoder part\n",
    "        mean, logvar = self.encode(x)\n",
    "        z = self.reparameterize(mean, logvar)\n",
    "        x_logit = self.decode(z)\n",
    "        x_probs = tf.sigmoid(x_logit)\n",
    "\n",
    "        # loss for latent\n",
    "        logpz = log_normal_pdf(z, 0.0, 0.0)\n",
    "        logqz_x = log_normal_pdf(z, mean, logvar)\n",
    "\n",
    "        #### GAN PART\n",
    "        # sample and reconstruct z\n",
    "        z_samp = tf.random.normal(shape=(len(x), z.shape[-1]))\n",
    "        xg_samp = self.decode(z_samp, apply_sigmoid=True)\n",
    "\n",
    "        ### pass through discriminator\n",
    "        # pass generated x through discriminator\n",
    "        d_xg_samp = self.discriminate(xg_samp)\n",
    "        # get latent discrim for x\n",
    "        ld_x = self.discriminate_project(x, apply_sigmoid=True)\n",
    "        # make decision for x\n",
    "        d_x = self.discriminate(x)\n",
    "        # get latent for discrim xg\n",
    "        ld_xg = self.discriminate_project(x_probs)\n",
    "        d_xg = self.discriminate_decide(ld_xg)\n",
    "        \n",
    "        VAEGAN_recon = False\n",
    "        if VAEGAN_recon:\n",
    "            # loss for reconstruction in latent\n",
    "            cross_ent = tf.nn.sigmoid_cross_entropy_with_logits(\n",
    "                logits=tf.keras.layers.Flatten()(ld_xg),\n",
    "                labels=tf.keras.layers.Flatten()(ld_x),\n",
    "            )\n",
    "        else:\n",
    "            # loss for reconstruction in x\n",
    "            cross_ent = tf.nn.sigmoid_cross_entropy_with_logits(\n",
    "                logits=tf.keras.layers.Flatten()(x_logit),\n",
    "                labels=tf.keras.layers.Flatten()(x),\n",
    "            )\n",
    "\n",
    "        # oveall loss for VAE\n",
    "        logpx_z = -tf.reduce_sum(cross_ent, axis=[1])\n",
    "        #elbo_loss = tf.reduce_mean(cross_ent)\n",
    "        elbo_loss = -tf.reduce_mean(logpx_z + (logpz - logqz_x))\n",
    "\n",
    "        # losses for GAN\n",
    "        disc_real_loss = gan_loss(logits=d_x, is_real=True)\n",
    "        disc_fake_loss = gan_loss(logits=d_xg_samp, is_real=False)\n",
    "        gen_loss = gan_loss(logits=d_xg_samp, is_real=True)\n",
    "        self.D_prop = sigmoid(\n",
    "            disc_fake_loss - gen_loss, shift=0.0, mult=self.sig_mult\n",
    "        )\n",
    "\n",
    "        # just descriptive\n",
    "        latent_loss = - tf.reduce_mean(logpz - logqz_x)\n",
    "        recon_loss = -tf.reduce_mean(logpx_z)\n",
    "\n",
    "        # net losses\n",
    "        #enc_loss = dec_loss = elbo_loss + gen_fake_loss\n",
    "        #disc_loss = (disc_fake_loss + disc_real_loss) * self.D_prop\n",
    "        enc_loss = dec_loss = 1 * gen_loss + 1 * elbo_loss \n",
    "        disc_loss = (disc_fake_loss + disc_real_loss) #  * self.D_prop\n",
    "        \n",
    "        return (\n",
    "            enc_loss,\n",
    "            dec_loss,\n",
    "            disc_loss,\n",
    "            self.D_prop,\n",
    "            latent_loss,\n",
    "            recon_loss,\n",
    "            disc_real_loss,\n",
    "            disc_fake_loss,\n",
    "            gen_loss,\n",
    "        )\n",
    "\n",
    "    def compute_gradients(self, x):\n",
    "        with tf.GradientTape() as enc_tape, tf.GradientTape() as dec_tape, tf.GradientTape() as disc_tape:\n",
    "            losses = self.compute_loss(x)\n",
    "            enc_loss = losses[0]\n",
    "            dec_loss = losses[1]\n",
    "            disc_loss = losses[2]\n",
    "\n",
    "        enc_gradients = enc_tape.gradient(enc_loss, self.enc.trainable_variables+self.dec.trainable_variables)\n",
    "        disc_gradients = disc_tape.gradient(\n",
    "            disc_loss,\n",
    "            self.disc_project.trainable_variables\n",
    "            + self.disc_decide.trainable_variables,\n",
    "        )\n",
    "\n",
    "        return enc_gradients, disc_gradients\n",
    "\n",
    "    def apply_gradients(self, enc_gradients, disc_gradients):\n",
    "        self.enc_optimizer.apply_gradients(\n",
    "            zip(enc_gradients, self.enc.trainable_variables + self.dec.trainable_variables)\n",
    "        )\n",
    "\n",
    "        self.disc_optimizer.apply_gradients(\n",
    "            zip(\n",
    "                disc_gradients,\n",
    "                self.disc_project.trainable_variables\n",
    "                + self.disc_decide.trainable_variables,\n",
    "            )\n",
    "        )\n",
    "    \n",
    "    @tf.function\n",
    "    def train_net(self, x):\n",
    "        enc_gradients, disc_gradients = self.compute_gradients(x)\n",
    "        self.apply_gradients( enc_gradients, disc_gradients)"
   ]
  },
  {
   "cell_type": "code",
   "execution_count": null,
   "metadata": {
    "ExecuteTime": {
     "start_time": "2019-11-06T19:21:03.239Z"
    }
   },
   "outputs": [],
   "source": [
    "def log_normal_pdf(sample, mean, logvar, raxis=1):\n",
    "    log2pi = tf.math.log(2. * np.pi)\n",
    "    return tf.reduce_sum(\n",
    "      -.5 * ((sample - mean) ** 2. * tf.exp(-logvar) + logvar + log2pi),\n",
    "      axis=raxis)"
   ]
  },
  {
   "cell_type": "code",
   "execution_count": null,
   "metadata": {
    "ExecuteTime": {
     "start_time": "2019-11-06T19:21:03.240Z"
    },
    "code_folding": [
     0,
     15
    ]
   },
   "outputs": [],
   "source": [
    "def gan_loss(logits, is_real=True):\n",
    "    \"\"\"Computes standard gan loss between logits and labels\n",
    "                \n",
    "        Arguments:\n",
    "            logits {[type]} -- output of discriminator\n",
    "        \n",
    "        Keyword Arguments:\n",
    "            isreal {bool} -- whether labels should be 0 (fake) or 1 (real) (default: {True})\n",
    "        \"\"\"\n",
    "    if is_real:\n",
    "        labels = tf.ones_like(logits)\n",
    "    else:\n",
    "        labels = tf.zeros_like(logits)\n",
    "    return tf.reduce_mean(tf.nn.sigmoid_cross_entropy_with_logits(labels, logits))\n",
    "\n",
    "def sigmoid(x, shift=0.0, mult=20):\n",
    "    \"\"\" squashes a value with a sigmoid\n",
    "    \"\"\"\n",
    "    return tf.constant(1.0) / (\n",
    "        tf.constant(1.0) + tf.exp(-tf.constant(1.0) * (x * mult))\n",
    "    )"
   ]
  },
  {
   "cell_type": "code",
   "execution_count": null,
   "metadata": {
    "ExecuteTime": {
     "start_time": "2019-11-06T19:21:03.242Z"
    },
    "code_folding": [
     0
    ]
   },
   "outputs": [],
   "source": [
    "def plot_reconstruction(model, example_data, BATCH_SIZE, N_Z, nex=8, zm=2):\n",
    "\n",
    "    example_data_reconstructed = model.reconstruct(example_data)\n",
    "    samples = model.decode(tf.random.normal(shape=(BATCH_SIZE, N_Z)), apply_sigmoid=True)\n",
    "    fig, axs = plt.subplots(ncols=nex, nrows=3, figsize=(zm * nex, zm * 3))\n",
    "    for axi, (dat, lab) in enumerate(\n",
    "        zip(\n",
    "            [example_data, example_data_reconstructed, samples],\n",
    "            [\"data\", \"data recon\", \"samples\"],\n",
    "        )\n",
    "    ):\n",
    "        for ex in range(nex):\n",
    "            axs[axi, ex].matshow(\n",
    "                dat.numpy()[ex].squeeze(), cmap=plt.cm.Greys#, vmin=0, vmax=1\n",
    "            )\n",
    "            axs[axi, ex].axes.get_xaxis().set_ticks([])\n",
    "            axs[axi, ex].axes.get_yaxis().set_ticks([])\n",
    "        axs[axi, 0].set_ylabel(lab)\n",
    "\n",
    "    plt.show()"
   ]
  },
  {
   "cell_type": "markdown",
   "metadata": {},
   "source": [
    "### create network"
   ]
  },
  {
   "cell_type": "code",
   "execution_count": null,
   "metadata": {
    "ExecuteTime": {
     "start_time": "2019-11-06T19:21:03.244Z"
    }
   },
   "outputs": [],
   "source": [
    "tf.keras.backend.clear_session()"
   ]
  },
  {
   "cell_type": "code",
   "execution_count": null,
   "metadata": {
    "ExecuteTime": {
     "start_time": "2019-11-06T19:21:03.245Z"
    }
   },
   "outputs": [],
   "source": [
    "# model\n",
    "model = VAEGAN(\n",
    "    enc = encoder,\n",
    "    dec = decoder,\n",
    "    discrim_project=discrim_project, \n",
    "    discrim_decision=discrim_decision,\n",
    "    enc_optimizer = tf.keras.optimizers.Adam(1e-4, beta_1=0.5),\n",
    "    disc_optimizer = tf.keras.optimizers.RMSprop(1e-4),\n",
    "    sig_mult = 10, \n",
    ")"
   ]
  },
  {
   "cell_type": "code",
   "execution_count": null,
   "metadata": {
    "ExecuteTime": {
     "start_time": "2019-11-06T19:21:03.246Z"
    }
   },
   "outputs": [],
   "source": [
    "model.train_net(example_data)"
   ]
  },
  {
   "cell_type": "code",
   "execution_count": null,
   "metadata": {
    "ExecuteTime": {
     "start_time": "2019-11-06T19:21:03.248Z"
    }
   },
   "outputs": [],
   "source": [
    "enc_gradients, disc_gradients = model.compute_gradients(example_data)"
   ]
  },
  {
   "cell_type": "code",
   "execution_count": null,
   "metadata": {
    "ExecuteTime": {
     "start_time": "2019-11-06T19:21:03.249Z"
    }
   },
   "outputs": [],
   "source": [
    "np.concatenate([[tf.reduce_sum(i).numpy() for i in grads] for grads in [enc_gradients, disc_gradients]])"
   ]
  },
  {
   "cell_type": "code",
   "execution_count": null,
   "metadata": {
    "ExecuteTime": {
     "start_time": "2019-11-06T19:21:03.251Z"
    }
   },
   "outputs": [],
   "source": [
    "plot_reconstruction(model, example_data, BATCH_SIZE, N_Z=N_Z)"
   ]
  },
  {
   "cell_type": "code",
   "execution_count": null,
   "metadata": {
    "ExecuteTime": {
     "start_time": "2019-11-06T19:21:03.252Z"
    }
   },
   "outputs": [],
   "source": [
    "# a pandas dataframe to save the loss information to\n",
    "losses = pd.DataFrame(columns=[\n",
    "    'enc_loss',\n",
    "    'dec_loss',\n",
    "    'disc_loss',\n",
    "    'D_prop',\n",
    "    'latent_loss',\n",
    "    'recon_loss',\n",
    "    'disc_real_loss',\n",
    "    'disc_fake_loss',\n",
    "    'gen_fake_loss',\n",
    "])"
   ]
  },
  {
   "cell_type": "code",
   "execution_count": null,
   "metadata": {
    "ExecuteTime": {
     "start_time": "2019-11-06T19:21:03.254Z"
    }
   },
   "outputs": [],
   "source": [
    "N_TRAIN_BATCHES = 1000\n",
    "N_TEST_BATCHES = 100"
   ]
  },
  {
   "cell_type": "code",
   "execution_count": null,
   "metadata": {
    "ExecuteTime": {
     "start_time": "2019-11-06T19:21:03.255Z"
    }
   },
   "outputs": [],
   "source": [
    "n_epochs = 5000\n",
    "epoch = 0"
   ]
  },
  {
   "cell_type": "code",
   "execution_count": null,
   "metadata": {
    "ExecuteTime": {
     "start_time": "2019-11-06T19:21:03.257Z"
    }
   },
   "outputs": [],
   "source": [
    "def plot_losses(losses):\n",
    "    cols = list(losses.columns)\n",
    "    fig, axs = plt.subplots(ncols = len(cols), figsize= (len(cols)*4, 4))\n",
    "    for ci, col in enumerate(cols):\n",
    "        if len(cols) == 1:\n",
    "            ax = axs\n",
    "        else:\n",
    "            ax = axs.flatten()[ci]\n",
    "        ax.plot(losses[col].values)\n",
    "        ax.set_title(col)\n",
    "    plt.show()"
   ]
  },
  {
   "cell_type": "code",
   "execution_count": null,
   "metadata": {
    "ExecuteTime": {
     "start_time": "2019-11-06T19:21:03.261Z"
    },
    "scrolled": false
   },
   "outputs": [],
   "source": [
    "for epoch in range(epoch, n_epochs):\n",
    "    # train\n",
    "    for batch, train_x in tqdm(\n",
    "        zip(range(N_TRAIN_BATCHES), train_dataset), total=N_TRAIN_BATCHES\n",
    "    ):\n",
    "        x = tf.cast(tf.reshape(train_x[0], [BATCH_SIZE] + list(DIMS)), tf.float32) / 255\n",
    "        model.train_net(x)\n",
    "    # test on holdout\n",
    "    loss = []\n",
    "    for batch, test_x in tqdm(\n",
    "        zip(range(N_TEST_BATCHES), test_dataset), total=N_TEST_BATCHES\n",
    "    ):\n",
    "        x = tf.cast(tf.reshape(test_x[0], [BATCH_SIZE] + list(DIMS)), tf.float32) / 255\n",
    "        loss.append(model.compute_loss(x))\n",
    "    losses.loc[len(losses)] = np.mean(loss, axis=0)\n",
    "    # plot results\n",
    "    display.clear_output()\n",
    "\n",
    "    plot_reconstruction(model, example_data, BATCH_SIZE, N_Z=latent_dim)\n",
    "    \n",
    "    # plot losses\n",
    "    fig, axs = plt.subplots(ncols=4, figsize=(22,4))\n",
    "    # elbo loss vs GAN loss\n",
    "    axs[0].plot(losses.latent_loss + losses.recon_loss, label = 'elbo loss')\n",
    "    axs[0].plot(losses.gen_fake_loss, label = 'gen_fake_loss')\n",
    "    axs[0].legend()\n",
    "    # latent loss vs AE loss\n",
    "    axs[1].plot(losses.latent_loss, label = 'latent_loss')\n",
    "    axs[1].plot(losses.recon_loss, label = 'recon_loss')\n",
    "    axs[1].legend()\n",
    "    # discriminator vs generator loss\n",
    "    axs[2].plot(losses.disc_real_loss, label = 'disc_real_loss')\n",
    "    axs[2].plot(losses.disc_fake_loss, label = 'disc_fake_loss')\n",
    "    axs[2].plot(losses.gen_fake_loss, label = 'gen_fake_loss')\n",
    "    axs[2].legend()\n",
    "\n",
    "    # D prop\n",
    "    axs[3].plot(losses.D_prop, label = 'D_prop')\n",
    "    axs[3].legend()\n",
    "    \n",
    "    # plot Z\n",
    "    mean, logvar = tf.split(model.enc(example_data), num_or_size_splits=2, axis=1)\n",
    "    z = model.reparameterize(mean, logvar).numpy()\n",
    "    fig, axs = plt.subplots(ncols=3, figsize=(18,4))\n",
    "    axs[0].hist(mean.numpy().flatten())\n",
    "    axs[1].hist(logvar.numpy().flatten())\n",
    "    axs[2].hist(z.flatten())\n",
    "    plt.show()"
   ]
  },
  {
   "cell_type": "code",
   "execution_count": null,
   "metadata": {
    "ExecuteTime": {
     "start_time": "2019-11-06T19:21:03.262Z"
    }
   },
   "outputs": [],
   "source": [
    "# balance GAN / VAE so that the VAE tries to autoencode but doesn't take over completely... "
   ]
  }
 ],
 "metadata": {
  "kernelspec": {
   "display_name": "Python [conda env:anaconda3-py19] *",
   "language": "python",
   "name": "conda-env-anaconda3-py19-py"
  },
  "language_info": {
   "codemirror_mode": {
    "name": "ipython",
    "version": 3
   },
   "file_extension": ".py",
   "mimetype": "text/x-python",
   "name": "python",
   "nbconvert_exporter": "python",
   "pygments_lexer": "ipython3",
   "version": "3.6.7"
  }
 },
 "nbformat": 4,
 "nbformat_minor": 2
}
