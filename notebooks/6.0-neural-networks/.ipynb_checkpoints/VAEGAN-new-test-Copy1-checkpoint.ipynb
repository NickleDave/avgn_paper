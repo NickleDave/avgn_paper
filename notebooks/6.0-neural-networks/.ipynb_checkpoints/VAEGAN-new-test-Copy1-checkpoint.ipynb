{
 "cells": [
  {
   "cell_type": "code",
   "execution_count": 1,
   "metadata": {
    "ExecuteTime": {
     "end_time": "2019-11-05T06:40:12.904795Z",
     "start_time": "2019-11-05T06:40:12.880550Z"
    }
   },
   "outputs": [
    {
     "name": "stdout",
     "output_type": "stream",
     "text": [
      "env: CUDA_DEVICE_ORDER=PCI_BUS_ID\n",
      "env: CUDA_VISIBLE_DEVICES=2\n"
     ]
    }
   ],
   "source": [
    "%load_ext autoreload\n",
    "%autoreload 2\n",
    "\n",
    "%env CUDA_DEVICE_ORDER=PCI_BUS_ID\n",
    "%env CUDA_VISIBLE_DEVICES=2"
   ]
  },
  {
   "cell_type": "markdown",
   "metadata": {},
   "source": [
    "### load dataset"
   ]
  },
  {
   "cell_type": "code",
   "execution_count": 2,
   "metadata": {
    "ExecuteTime": {
     "end_time": "2019-11-05T06:40:20.938856Z",
     "start_time": "2019-11-05T06:40:12.906679Z"
    }
   },
   "outputs": [
    {
     "name": "stderr",
     "output_type": "stream",
     "text": [
      "/mnt/cube/tsainbur/conda_envs/tpy3/lib/python3.6/site-packages/tqdm/autonotebook/__init__.py:14: TqdmExperimentalWarning: Using `tqdm.autonotebook.tqdm` in notebook mode. Use `tqdm.tqdm` instead to force console mode (e.g. in jupyter console)\n",
      "  \" (e.g. in jupyter console)\", TqdmExperimentalWarning)\n"
     ]
    }
   ],
   "source": [
    "from avgn.utils.paths import DATA_DIR, most_recent_subdirectory, ensure_dir\n",
    "from avgn.tensorflow.data import _parse_function"
   ]
  },
  {
   "cell_type": "code",
   "execution_count": 3,
   "metadata": {
    "ExecuteTime": {
     "end_time": "2019-11-05T06:40:21.712466Z",
     "start_time": "2019-11-05T06:40:20.947829Z"
    }
   },
   "outputs": [],
   "source": [
    "import tensorflow as tf\n",
    "import numpy as np\n",
    "import matplotlib.pyplot as plt\n",
    "from tqdm.autonotebook import tqdm\n",
    "%matplotlib inline\n",
    "from IPython import display\n",
    "import pandas as pd\n",
    "\n",
    "# the nightly build of tensorflow_probability is required as of the time of writing this \n",
    "import tensorflow_probability as tfp\n",
    "ds = tfp.distributions"
   ]
  },
  {
   "cell_type": "code",
   "execution_count": 4,
   "metadata": {
    "ExecuteTime": {
     "end_time": "2019-11-05T06:40:21.822821Z",
     "start_time": "2019-11-05T06:40:21.721224Z"
    }
   },
   "outputs": [
    {
     "name": "stdout",
     "output_type": "stream",
     "text": [
      "2.0.0-beta1 0.7.0-dev20190510\n"
     ]
    }
   ],
   "source": [
    "print(tf.__version__, tfp.__version__)"
   ]
  },
  {
   "cell_type": "code",
   "execution_count": 5,
   "metadata": {
    "ExecuteTime": {
     "end_time": "2019-11-05T06:40:22.132683Z",
     "start_time": "2019-11-05T06:40:21.825177Z"
    }
   },
   "outputs": [],
   "source": [
    "TRAIN_SIZE=101726\n",
    "BATCH_SIZE=512\n",
    "TEST_SIZE=10000\n",
    "DIMS = (32, 32, 1)\n",
    "N_TRAIN_BATCHES =int((TRAIN_SIZE-TEST_SIZE)/BATCH_SIZE)\n",
    "N_TEST_BATCHES = int(TEST_SIZE/BATCH_SIZE)\n",
    "TRAIN_BUF = 1000\n",
    "TEST_BUF = 1000"
   ]
  },
  {
   "cell_type": "code",
   "execution_count": 6,
   "metadata": {
    "ExecuteTime": {
     "end_time": "2019-11-05T06:40:22.255516Z",
     "start_time": "2019-11-05T06:40:22.134656Z"
    }
   },
   "outputs": [],
   "source": [
    "DATASET_ID = 'starling'"
   ]
  },
  {
   "cell_type": "code",
   "execution_count": 7,
   "metadata": {
    "ExecuteTime": {
     "end_time": "2019-11-05T06:40:22.342763Z",
     "start_time": "2019-11-05T06:40:22.257685Z"
    }
   },
   "outputs": [],
   "source": [
    "record_loc = DATA_DIR / 'tfrecords' / \"starling_32.tfrecords\""
   ]
  },
  {
   "cell_type": "code",
   "execution_count": 8,
   "metadata": {
    "ExecuteTime": {
     "end_time": "2019-11-05T06:40:25.773098Z",
     "start_time": "2019-11-05T06:40:22.345491Z"
    }
   },
   "outputs": [],
   "source": [
    "# read the dataset\n",
    "raw_dataset = tf.data.TFRecordDataset([record_loc.as_posix()])"
   ]
  },
  {
   "cell_type": "code",
   "execution_count": 9,
   "metadata": {
    "ExecuteTime": {
     "end_time": "2019-11-05T06:40:25.864378Z",
     "start_time": "2019-11-05T06:40:25.775535Z"
    }
   },
   "outputs": [],
   "source": [
    "data_types = {\n",
    "    \"spectrogram\": tf.uint8,\n",
    "    \"index\": tf.int64,\n",
    "    \"indv\": tf.string,\n",
    "}"
   ]
  },
  {
   "cell_type": "code",
   "execution_count": 10,
   "metadata": {
    "ExecuteTime": {
     "end_time": "2019-11-05T06:40:25.979072Z",
     "start_time": "2019-11-05T06:40:25.866579Z"
    }
   },
   "outputs": [],
   "source": [
    "# parse each data type to the raw dataset\n",
    "dataset = raw_dataset.map(lambda x: _parse_function(x, data_types=data_types))"
   ]
  },
  {
   "cell_type": "code",
   "execution_count": 11,
   "metadata": {
    "ExecuteTime": {
     "end_time": "2019-11-05T06:40:26.068065Z",
     "start_time": "2019-11-05T06:40:25.981427Z"
    }
   },
   "outputs": [],
   "source": [
    "spec, index, indv  = next(iter(dataset))"
   ]
  },
  {
   "cell_type": "code",
   "execution_count": 12,
   "metadata": {
    "ExecuteTime": {
     "end_time": "2019-11-05T06:40:26.404508Z",
     "start_time": "2019-11-05T06:40:26.071601Z"
    }
   },
   "outputs": [
    {
     "data": {
      "text/plain": [
       "<matplotlib.image.AxesImage at 0x7f1a200dbf60>"
      ]
     },
     "execution_count": 12,
     "metadata": {},
     "output_type": "execute_result"
    },
    {
     "data": {
      "image/png": "[encoded data removed]",
      "text/plain": [
       "<Figure size 288x288 with 1 Axes>"
      ]
     },
     "metadata": {
      "needs_background": "light"
     },
     "output_type": "display_data"
    }
   ],
   "source": [
    "plt.matshow(spec.numpy().reshape(DIMS[:2]))"
   ]
  },
  {
   "cell_type": "code",
   "execution_count": 13,
   "metadata": {
    "ExecuteTime": {
     "end_time": "2019-11-05T06:40:26.478830Z",
     "start_time": "2019-11-05T06:40:26.406548Z"
    }
   },
   "outputs": [],
   "source": [
    "test_dataset = dataset.take(TEST_SIZE).shuffle(TRAIN_BUF).batch(BATCH_SIZE)\n",
    "train_dataset = dataset.skip(TEST_SIZE).take(TRAIN_SIZE-TEST_SIZE).shuffle(TEST_BUF).batch(BATCH_SIZE)"
   ]
  },
  {
   "cell_type": "code",
   "execution_count": 14,
   "metadata": {
    "ExecuteTime": {
     "end_time": "2019-11-05T06:40:27.372397Z",
     "start_time": "2019-11-05T06:40:26.480919Z"
    }
   },
   "outputs": [],
   "source": [
    "# exampled data for plotting results\n",
    "example_data = next(iter(test_dataset))\n",
    "example_data = (\n",
    "        tf.cast(tf.reshape(example_data[0], [BATCH_SIZE] + list(DIMS)), tf.float32)\n",
    "        / 255\n",
    ")"
   ]
  },
  {
   "cell_type": "markdown",
   "metadata": {},
   "source": [
    "### define network"
   ]
  },
  {
   "cell_type": "code",
   "execution_count": 15,
   "metadata": {
    "ExecuteTime": {
     "end_time": "2019-11-05T06:40:27.479399Z",
     "start_time": "2019-11-05T06:40:27.375086Z"
    }
   },
   "outputs": [],
   "source": [
    "latent_dim = N_Z = 50\n",
    "\n",
    "encoder = [\n",
    "    tf.keras.layers.InputLayer(input_shape=DIMS),\n",
    "    tf.keras.layers.Conv2D(\n",
    "        filters=32, kernel_size=3, strides=(2, 2), activation=\"relu\"\n",
    "    ),\n",
    "    tf.keras.layers.Conv2D(\n",
    "        filters=64, kernel_size=3, strides=(2, 2), activation=\"relu\"\n",
    "    ),\n",
    "    tf.keras.layers.Conv2D(\n",
    "        filters=128, kernel_size=3, strides=(2, 2), activation=\"relu\"\n",
    "    ),\n",
    "    tf.keras.layers.Flatten(),\n",
    "    tf.keras.layers.Dense(units=N_Z),\n",
    "]\n",
    "\n",
    "decoder = [\n",
    "    tf.keras.layers.Dense(units=4 * 4 * 256, activation=\"relu\"),\n",
    "    tf.keras.layers.Reshape(target_shape=(4, 4, 256)),\n",
    "    tf.keras.layers.Conv2DTranspose(\n",
    "        filters=128, kernel_size=3, strides=(2, 2), padding=\"SAME\", activation=\"relu\"\n",
    "    ),\n",
    "    tf.keras.layers.Conv2DTranspose(\n",
    "        filters=64, kernel_size=3, strides=(2, 2), padding=\"SAME\", activation=\"relu\"\n",
    "    ),\n",
    "    tf.keras.layers.Conv2DTranspose(\n",
    "        filters=32, kernel_size=3, strides=(2, 2), padding=\"SAME\", activation=\"relu\"\n",
    "    ),\n",
    "    tf.keras.layers.Conv2DTranspose(\n",
    "        filters=1, kernel_size=3, strides=(1, 1), padding=\"SAME\", activation=\"tanh\"\n",
    "    ),\n",
    "]\n",
    "\n",
    "discrim_project = [\n",
    "    tf.keras.layers.Conv2D(\n",
    "                filters=32, kernel_size=3, strides=(2, 2), activation=tf.nn.relu\n",
    "            ),\n",
    "    tf.keras.layers.Conv2D(\n",
    "                filters=64, kernel_size=3, strides=(2, 2), activation=tf.nn.relu\n",
    "            ),\n",
    "    tf.keras.layers.Conv2D(\n",
    "        filters=64, kernel_size=3, strides=(2, 2), activation=tf.nn.relu\n",
    "    ),\n",
    "    tf.keras.layers.Conv2D(\n",
    "        filters=128, kernel_size=3, strides=(2, 2), activation=None\n",
    "    ),\n",
    "    tf.keras.layers.Flatten()\n",
    "]\n",
    "\n",
    "discrim_decision = [\n",
    "    tf.keras.layers.Dense(units=1, activation = None)\n",
    "]\n"
   ]
  },
  {
   "cell_type": "code",
   "execution_count": 16,
   "metadata": {
    "ExecuteTime": {
     "end_time": "2019-11-05T06:40:27.600339Z",
     "start_time": "2019-11-05T06:40:27.482145Z"
    },
    "code_folding": [
     0
    ]
   },
   "outputs": [],
   "source": [
    "class VAEGAN(tf.keras.Model):\n",
    "    \"\"\"a VAEGAN class for tensorflow\n",
    "    \n",
    "    Extends:\n",
    "        tf.keras.Model\n",
    "    \"\"\"\n",
    "\n",
    "    def __init__(self, beta=1.0, **kwargs):\n",
    "        super(VAEGAN, self).__init__()\n",
    "        self.__dict__.update(kwargs)\n",
    "\n",
    "        self.enc = tf.keras.Sequential(self.enc)\n",
    "        self.dec = tf.keras.Sequential(self.dec)\n",
    "        self.disc_project = tf.keras.Sequential(self.discrim_project)\n",
    "        self.disc_decide = tf.keras.Sequential(self.discrim_decision)\n",
    "\n",
    "        if not hasattr(self, \"enc_optimizer\"):\n",
    "            self.enc_optimizer = tf.keras.optimizers.Adam(self.lr_base_gen)\n",
    "            # self.dec_optimizer = tf.keras.optimizers.Adam(self.lr_base_gen)\n",
    "            # self.disc_optimizer = tf.keras.optimizers.Adam(self.get_lr_d)\n",
    "\n",
    "    def encode(self, x):\n",
    "        mu, sigma = tf.split(self.enc(x), num_or_size_splits=2, axis=1)\n",
    "        return mu, sigma\n",
    "\n",
    "    def decode(self, z, apply_sigmoid=False):\n",
    "        logits = self.dec(z)\n",
    "        if apply_sigmoid:\n",
    "            probs = tf.sigmoid(logits)\n",
    "            return probs\n",
    "        return logits\n",
    "\n",
    "    def discriminate_project(self, x, apply_sigmoid=False):\n",
    "        logits = self.disc_project(x)\n",
    "        if apply_sigmoid:\n",
    "            probs = tf.sigmoid(logits)\n",
    "            return probs\n",
    "        return logits\n",
    "\n",
    "    def discriminate_decide(self, x):\n",
    "        return self.disc_decide(x)\n",
    "\n",
    "    def discriminate(self, x):\n",
    "        return self.disc_decide(self.disc_project(x))\n",
    "\n",
    "    def sample(self, eps=None):\n",
    "        if eps is None:\n",
    "            eps = tf.random.normal(shape=(100, self.latent_dim))\n",
    "        return self.decode(eps, apply_sigmoid=True)\n",
    "\n",
    "    def get_lr_d(self):\n",
    "        return self.lr_base_disc * self.D_prop\n",
    "\n",
    "    \"\"\"def reconstruct(self, x):\n",
    "        mean, logvar = self.encode(x)\n",
    "        z = self.reparameterize(mean, logvar)\n",
    "        return self.decode(z, apply_sigmoid=True)\"\"\"\n",
    "    \n",
    "    def reconstruct(self, x):\n",
    "        mean, _ = self.encode(x)\n",
    "        #z = self.reparameterize(mean, logvar)\n",
    "        return self.decode(mean, apply_sigmoid=True)\n",
    "\n",
    "    def reparameterize(self, mean, logvar):\n",
    "        eps = tf.random.normal(shape=mean.shape)\n",
    "        return eps * tf.exp(logvar * 0.5) + mean\n",
    "\n",
    "    \"\"\"@tf.function\n",
    "    def compute_loss(self, x):\n",
    "        # reconstruct x\n",
    "        mean, logvar = self.encode(x)\n",
    "        z = self.reparameterize(mean, logvar)\n",
    "        x_logit = self.decode(mean)\n",
    "        # x_logit = self.decode(z)\n",
    "        # x_probs = tf.sigmoid(x_logit)\n",
    "\n",
    "        # sample and reconstruct z\n",
    "        # z_samp = tf.random.normal(shape=(len(x), z.shape[-1]))\n",
    "        # xg_samp = self.decode(z_samp, apply_sigmoid=True)\n",
    "\n",
    "        ### pass through discriminator\n",
    "        # pass generated x through discriminator\n",
    "        d_xg_samp = self.discriminate(xg_samp)\n",
    "        # get latent discrim for x\n",
    "        ld_x = self.discriminate_project(x, apply_sigmoid=True)\n",
    "        # make decision for x\n",
    "        d_x = self.discriminate(x)\n",
    "        # get latent for discrim xg\n",
    "        ld_xg = self.discriminate_project(x_probs)\n",
    "        d_xg = self.discriminate_decide(ld_xg)\n",
    "\n",
    "        # loss for latent\n",
    "        logpz = log_normal_pdf(z, 0.0, 0.0)\n",
    "        logqz_x = log_normal_pdf(z, mean, logvar)\n",
    "\n",
    "        # loss for reconstruction FOR VAEGAN\n",
    "        VAEGAN_recon = False\n",
    "        if VAEGAN_recon:\n",
    "            cross_ent = tf.nn.sigmoid_cross_entropy_with_logits(\n",
    "                logits=ld_xg, labels=ld_x\n",
    "            )\n",
    "        else:\n",
    "            cross_ent = tf.nn.sigmoid_cross_entropy_with_logits(\n",
    "                logits=x_logit, labels=x\n",
    "            )\n",
    "\n",
    "        # logpx_z = -tf.reduce_sum(cross_ent, axis=[1])\n",
    "\n",
    "        logpx_z = -tf.reduce_sum(cross_ent, axis=[1, 2, 3])\n",
    "\n",
    "        # overall VAE loss\n",
    "        # elbo_loss = -tf.reduce_mean(logpx_z + logpz - logqz_x)\n",
    "        elbo_loss = tf.reduce_mean(tf.square(tf.sigmoid(x_logit) - x))\n",
    "        # loss for GAN\n",
    "        disc_real_loss = gan_loss(logits=d_x, is_real=True)\n",
    "        disc_fake_loss = gan_loss(logits=d_xg_samp, is_real=False)\n",
    "        gen_fake_loss = gan_loss(logits=d_xg_samp, is_real=True)\n",
    "        self.D_prop = sigmoid(\n",
    "            disc_fake_loss - gen_fake_loss, shift=0.0, mult=self.sig_mult\n",
    "        )\n",
    "\n",
    "        enc_loss = elbo_loss\n",
    "        # dec_loss = elbo_loss  # + gen_fake_loss\n",
    "        # disc_loss = disc_fake_loss + disc_real_loss\n",
    "\n",
    "        return (\n",
    "            0,  # self.D_prop,\n",
    "            tf.reduce_mean(logpx_z),\n",
    "            tf.reduce_mean(logpz - logqz_x),\n",
    "            elbo_loss,\n",
    "            0,  # disc_real_loss,\n",
    "            0,  # disc_fake_loss,\n",
    "            0,  # gen_fake_loss,\n",
    "            enc_loss,\n",
    "            0,  # dec_loss,\n",
    "            0,  # disc_loss,\n",
    "        )\"\"\"\n",
    "    \n",
    "    @tf.function\n",
    "    def compute_loss(self, x):\n",
    "        # reconstruct x\n",
    "        mean, _ = self.encode(x)\n",
    "        #z = self.reparameterize(mean, logvar)\n",
    "        x_prob = self.decode(mean, apply_sigmoid = True)\n",
    "        \n",
    "        # loss for latent\n",
    "        #logpz = log_normal_pdf(z, 0.0, 0.0)\n",
    "        #logqz_x = log_normal_pdf(z, mean, logvar)\n",
    "\n",
    "        \n",
    "        #cross_ent = tf.nn.sigmoid_cross_entropy_with_logits(\n",
    "        #    logits=x_logit, labels=x\n",
    "        #)\n",
    "        #logpx_z = -tf.reduce_sum(cross_ent, axis=[1, 2, 3])\n",
    "\n",
    "        # overall VAE loss\n",
    "        # elbo_loss = -tf.reduce_mean(logpx_z + logpz - logqz_x)\n",
    "        \n",
    "        elbo_loss = tf.reduce_mean(tf.square(x_prob - x))\n",
    "\n",
    "        enc_loss = elbo_loss\n",
    "\n",
    "\n",
    "        return enc_loss\n",
    "\n",
    "    \"\"\"@tf.function\n",
    "    def compute_gradients(self, x):\n",
    "        with tf.GradientTape() as enc_tape, tf.GradientTape() as dec_tape, tf.GradientTape() as disc_tape:\n",
    "            (_, _, _, _, _, _, _, enc_loss, dec_loss, disc_loss) = self.compute_loss(x)\n",
    "\n",
    "        enc_gradients = enc_tape.gradient(enc_loss, self.enc.trainable_variables)\n",
    "        dec_gradients = dec_tape.gradient(dec_loss, self.dec.trainable_variables)\n",
    "        disc_gradients = disc_tape.gradient(\n",
    "            disc_loss,\n",
    "            self.disc_project.trainable_variables\n",
    "            + self.disc_decide.trainable_variables,\n",
    "        )\n",
    "\n",
    "        return enc_gradients, dec_gradients, disc_gradients\n",
    "    \n",
    "    @tf.function\n",
    "    def apply_gradients(self, enc_gradients, dec_gradients, disc_gradients):\n",
    "        self.enc_optimizer.apply_gradients(\n",
    "            zip(enc_gradients, self.enc.trainable_variables)\n",
    "        )\n",
    "        self.dec_optimizer.apply_gradients(\n",
    "            zip(dec_gradients, self.dec.trainable_variables)\n",
    "        )\n",
    "        self.disc_optimizer.apply_gradients(\n",
    "            zip(disc_gradients, self.disc_project.trainable_variables\n",
    "            + self.disc_decide.trainable_variables)\n",
    "        )\n",
    "        \n",
    "    def train_net(self, x):\n",
    "        enc_gradients, dec_gradients, disc_gradients = self.compute_gradients(x)\n",
    "        self.apply_gradients(enc_gradients, dec_gradients, disc_gradients)\n",
    "        \"\"\"\n",
    "\n",
    "    # @tf.function\n",
    "    def compute_gradients(self, x):\n",
    "        with tf.GradientTape() as enc_tape:\n",
    "            enc_loss = self.compute_loss(x)\n",
    "\n",
    "        enc_gradients = enc_tape.gradient(\n",
    "            enc_loss, self.enc.trainable_variables + self.dec.trainable_variables\n",
    "        )\n",
    "\n",
    "        return enc_gradients\n",
    "\n",
    "    # @tf.function\n",
    "    def apply_gradients(self, enc_gradients):\n",
    "        self.enc_optimizer.apply_gradients(\n",
    "            zip(enc_gradients, self.enc.trainable_variables)\n",
    "        )\n",
    "\n",
    "    def train_net(self, x):\n",
    "        enc_gradients = self.compute_gradients(x)\n",
    "        self.apply_gradients(enc_gradients)"
   ]
  },
  {
   "cell_type": "code",
   "execution_count": 22,
   "metadata": {
    "ExecuteTime": {
     "end_time": "2019-11-05T06:41:01.593380Z",
     "start_time": "2019-11-05T06:41:01.484695Z"
    }
   },
   "outputs": [],
   "source": [
    "class AE(tf.keras.Model):\n",
    "    \"\"\"a VAEGAN class for tensorflow\n",
    "    \n",
    "    Extends:\n",
    "        tf.keras.Model\n",
    "    \"\"\"\n",
    "\n",
    "    def __init__(self, beta=1.0, **kwargs):\n",
    "        super(AE, self).__init__()\n",
    "        self.__dict__.update(kwargs)\n",
    "\n",
    "        self.enc = tf.keras.Sequential(self.enc)\n",
    "        self.dec = tf.keras.Sequential(self.dec)\n",
    "        self.enc_optimizer = tf.keras.optimizers.Adam(1e-3)\n",
    "\n",
    "\n",
    "    def encode(self, x):\n",
    "        z = self.enc(x)\n",
    "        return z\n",
    "\n",
    "    def decode(self, z):\n",
    "        return self.dec(z)\n",
    "\n",
    "\n",
    "    def reconstruct(self, x):\n",
    "        z = self.encode(x)\n",
    "        return self.decode(z)\n",
    "\n",
    "    @tf.function\n",
    "    def compute_loss(self, x):\n",
    "        # reconstruct x\n",
    "        z = self.encode(x)\n",
    "        x_logit = self.decode(z)\n",
    "        #enc_loss = elbo_loss = - tf.reduce_mean(tf.nn.sigmoid_cross_entropy_with_logits(logits=x_logit, labels=x))\n",
    "        enc_loss = elbo_loss = tf.reduce_sum(tf.square(x_logit - x))\n",
    "        return enc_loss\n",
    "\n",
    "    \"\"\"def compute_gradients(self, x):\n",
    "        with tf.GradientTape() as enc_tape:\n",
    "            enc_loss = self.compute_loss(x)\n",
    "        enc_gradients = enc_tape.gradient(\n",
    "            enc_loss, self.enc.trainable_variables + self.dec.trainable_variables\n",
    "        )\n",
    "        return enc_gradients\n",
    "\n",
    "    def apply_gradients(self, enc_gradients):\n",
    "        self.enc_optimizer.apply_gradients(\n",
    "            zip(enc_gradients, self.enc.trainable_variables)\n",
    "        )\n",
    "\n",
    "    def train_net(self, x):\n",
    "        enc_gradients = self.compute_gradients(x)\n",
    "        self.apply_gradients(enc_gradients)\"\"\"\n",
    "    \n",
    "    @tf.function\n",
    "    def compute_loss(self, x):\n",
    "        z = self.encode(x)\n",
    "        _x = self.decode(z)\n",
    "        ae_loss = tf.reduce_mean(tf.square(x - _x))\n",
    "        return ae_loss\n",
    "\n",
    "    @tf.function\n",
    "    def compute_gradients(self, x):\n",
    "        with tf.GradientTape() as tape:\n",
    "            loss = self.compute_loss(x)\n",
    "        return tape.gradient(loss, self.trainable_variables)\n",
    "\n",
    "    def train_net(self, train_x):\n",
    "        gradients = self.compute_gradients(train_x)\n",
    "        self.enc_optimizer.apply_gradients(zip(gradients, self.trainable_variables))"
   ]
  },
  {
   "cell_type": "code",
   "execution_count": 23,
   "metadata": {
    "ExecuteTime": {
     "end_time": "2019-11-05T06:41:01.899287Z",
     "start_time": "2019-11-05T06:41:01.796066Z"
    }
   },
   "outputs": [],
   "source": [
    "def log_normal_pdf(sample, mean, logvar, raxis=1):\n",
    "    log2pi = tf.math.log(2. * np.pi)\n",
    "    return tf.reduce_sum(\n",
    "      -.5 * ((sample - mean) ** 2. * tf.exp(-logvar) + logvar + log2pi),\n",
    "      axis=raxis)"
   ]
  },
  {
   "cell_type": "code",
   "execution_count": 24,
   "metadata": {
    "ExecuteTime": {
     "end_time": "2019-11-05T06:41:02.060861Z",
     "start_time": "2019-11-05T06:41:01.948989Z"
    },
    "code_folding": [
     0,
     15
    ]
   },
   "outputs": [],
   "source": [
    "def gan_loss(logits, is_real=True):\n",
    "    \"\"\"Computes standard gan loss between logits and labels\n",
    "                \n",
    "        Arguments:\n",
    "            logits {[type]} -- output of discriminator\n",
    "        \n",
    "        Keyword Arguments:\n",
    "            isreal {bool} -- whether labels should be 0 (fake) or 1 (real) (default: {True})\n",
    "        \"\"\"\n",
    "    if is_real:\n",
    "        labels = tf.ones_like(logits)\n",
    "    else:\n",
    "        labels = tf.zeros_like(logits)\n",
    "    return tf.reduce_mean(tf.nn.sigmoid_cross_entropy_with_logits(labels, logits))\n",
    "\n",
    "def sigmoid(x, shift=0.0, mult=20):\n",
    "    \"\"\" squashes a value with a sigmoid\n",
    "    \"\"\"\n",
    "    return tf.constant(1.0) / (\n",
    "        tf.constant(1.0) + tf.exp(-tf.constant(1.0) * (x * mult))\n",
    "    )"
   ]
  },
  {
   "cell_type": "markdown",
   "metadata": {},
   "source": [
    "### create network"
   ]
  },
  {
   "cell_type": "code",
   "execution_count": 25,
   "metadata": {
    "ExecuteTime": {
     "end_time": "2019-11-05T06:41:02.356511Z",
     "start_time": "2019-11-05T06:41:02.219519Z"
    }
   },
   "outputs": [],
   "source": [
    "# model\n",
    "model = AE(\n",
    "    enc = encoder,\n",
    "    dec = decoder,\n",
    "    #discrim_project=discrim_project, \n",
    "    #discrim_decision=discrim_decision,\n",
    "    enc_optimizer = tf.keras.optimizers.Adam(1e-2),\n",
    "    #dec_optimizer = tf.keras.optimizers.Adam(1e-2),\n",
    "    #disc_optimizer = tf.keras.optimizers.RMSprop(1e-3),\n",
    "    #sig_mult = 10, \n",
    ")"
   ]
  },
  {
   "cell_type": "code",
   "execution_count": 26,
   "metadata": {
    "ExecuteTime": {
     "end_time": "2019-11-05T06:41:03.670931Z",
     "start_time": "2019-11-05T06:41:02.469049Z"
    }
   },
   "outputs": [],
   "source": [
    "model.train_net(example_data)"
   ]
  },
  {
   "cell_type": "code",
   "execution_count": 27,
   "metadata": {
    "ExecuteTime": {
     "end_time": "2019-11-05T06:41:04.537707Z",
     "start_time": "2019-11-05T06:41:04.445952Z"
    }
   },
   "outputs": [],
   "source": [
    "grads = model.compute_gradients(example_data)"
   ]
  },
  {
   "cell_type": "code",
   "execution_count": 28,
   "metadata": {
    "ExecuteTime": {
     "end_time": "2019-11-05T06:41:04.708016Z",
     "start_time": "2019-11-05T06:41:04.611147Z"
    }
   },
   "outputs": [
    {
     "data": {
      "text/plain": [
       "18"
      ]
     },
     "execution_count": 28,
     "metadata": {},
     "output_type": "execute_result"
    }
   ],
   "source": [
    "len(grads)"
   ]
  },
  {
   "cell_type": "code",
   "execution_count": 29,
   "metadata": {
    "ExecuteTime": {
     "end_time": "2019-11-05T06:41:04.847088Z",
     "start_time": "2019-11-05T06:41:04.769789Z"
    }
   },
   "outputs": [
    {
     "data": {
      "text/plain": [
       "[<tf.Tensor: id=1902, shape=(), dtype=float32, numpy=-0.000316068>,\n",
       " <tf.Tensor: id=1904, shape=(), dtype=float32, numpy=-0.00011049214>,\n",
       " <tf.Tensor: id=1906, shape=(), dtype=float32, numpy=-0.0016216142>,\n",
       " <tf.Tensor: id=1908, shape=(), dtype=float32, numpy=-0.00013846152>,\n",
       " <tf.Tensor: id=1910, shape=(), dtype=float32, numpy=-0.0031015328>,\n",
       " <tf.Tensor: id=1912, shape=(), dtype=float32, numpy=-0.00027423757>,\n",
       " <tf.Tensor: id=1914, shape=(), dtype=float32, numpy=-0.0023499718>,\n",
       " <tf.Tensor: id=1916, shape=(), dtype=float32, numpy=-0.00017896958>,\n",
       " <tf.Tensor: id=1918, shape=(), dtype=float32, numpy=-0.00072824035>,\n",
       " <tf.Tensor: id=1920, shape=(), dtype=float32, numpy=-0.0035950595>,\n",
       " <tf.Tensor: id=1922, shape=(), dtype=float32, numpy=-0.018308831>,\n",
       " <tf.Tensor: id=1924, shape=(), dtype=float32, numpy=-0.025168903>,\n",
       " <tf.Tensor: id=1926, shape=(), dtype=float32, numpy=-0.017348893>,\n",
       " <tf.Tensor: id=1928, shape=(), dtype=float32, numpy=-0.0959945>,\n",
       " <tf.Tensor: id=1930, shape=(), dtype=float32, numpy=-0.049028613>,\n",
       " <tf.Tensor: id=1932, shape=(), dtype=float32, numpy=-0.55922055>,\n",
       " <tf.Tensor: id=1934, shape=(), dtype=float32, numpy=-0.028770605>,\n",
       " <tf.Tensor: id=1936, shape=(), dtype=float32, numpy=-0.17628409>]"
      ]
     },
     "execution_count": 29,
     "metadata": {},
     "output_type": "execute_result"
    }
   ],
   "source": [
    "[tf.reduce_sum(i) for i in grads]"
   ]
  },
  {
   "cell_type": "code",
   "execution_count": 30,
   "metadata": {
    "ExecuteTime": {
     "end_time": "2019-11-05T06:41:05.004373Z",
     "start_time": "2019-11-05T06:41:04.906622Z"
    }
   },
   "outputs": [],
   "source": [
    "def plot_reconstruction(model, example_data, BATCH_SIZE, N_Z, nex=8, zm=2):\n",
    "\n",
    "    samples = example_data_reconstructed = model.reconstruct(example_data)\n",
    "    #samples = model.decode(tf.random.normal(shape=(BATCH_SIZE, N_Z)))\n",
    "    fig, axs = plt.subplots(ncols=nex, nrows=3, figsize=(zm * nex, zm * 3))\n",
    "    for axi, (dat, lab) in enumerate(\n",
    "        zip(\n",
    "            [example_data, example_data_reconstructed, samples],\n",
    "            [\"data\", \"data recon\", \"samples\"],\n",
    "        )\n",
    "    ):\n",
    "        for ex in range(nex):\n",
    "            axs[axi, ex].matshow(\n",
    "                dat.numpy()[ex].squeeze(), cmap=plt.cm.Greys#, vmin=0, vmax=1\n",
    "            )\n",
    "            axs[axi, ex].axes.get_xaxis().set_ticks([])\n",
    "            axs[axi, ex].axes.get_yaxis().set_ticks([])\n",
    "        axs[axi, 0].set_ylabel(lab)\n",
    "\n",
    "    plt.show()"
   ]
  },
  {
   "cell_type": "code",
   "execution_count": 31,
   "metadata": {
    "ExecuteTime": {
     "end_time": "2019-11-05T06:41:06.335295Z",
     "start_time": "2019-11-05T06:41:05.066257Z"
    }
   },
   "outputs": [
    {
     "data": {
      "image/png": "[encoded data removed]",
      "text/plain": [
       "<Figure size 1152x432 with 24 Axes>"
      ]
     },
     "metadata": {},
     "output_type": "display_data"
    }
   ],
   "source": [
    "plot_reconstruction(model, example_data, BATCH_SIZE, N_Z=latent_dim)"
   ]
  },
  {
   "cell_type": "code",
   "execution_count": 32,
   "metadata": {
    "ExecuteTime": {
     "end_time": "2019-11-05T06:41:06.433550Z",
     "start_time": "2019-11-05T06:41:06.339589Z"
    }
   },
   "outputs": [],
   "source": [
    "# a pandas dataframe to save the loss information to\n",
    "losses = pd.DataFrame(columns=[\n",
    "    'D_prop',\n",
    "    'recon_loss',\n",
    "    'latent_loss',\n",
    "    'elbo_loss',\n",
    "    'disc_real_loss',\n",
    "    'disc_fake_loss',\n",
    "    'gen_fake_loss',\n",
    "    'enc_loss',\n",
    "    'dec_loss',\n",
    "    'disc_loss',\n",
    "])"
   ]
  },
  {
   "cell_type": "code",
   "execution_count": 33,
   "metadata": {
    "ExecuteTime": {
     "end_time": "2019-11-05T06:41:06.521250Z",
     "start_time": "2019-11-05T06:41:06.435735Z"
    }
   },
   "outputs": [],
   "source": [
    "N_TRAIN_BATCHES = 100\n",
    "N_TEST_BATCHES = 10"
   ]
  },
  {
   "cell_type": "code",
   "execution_count": 34,
   "metadata": {
    "ExecuteTime": {
     "end_time": "2019-11-05T06:41:06.615218Z",
     "start_time": "2019-11-05T06:41:06.527505Z"
    }
   },
   "outputs": [],
   "source": [
    "n_epochs = 5000\n",
    "epoch = 0"
   ]
  },
  {
   "cell_type": "code",
   "execution_count": 35,
   "metadata": {
    "ExecuteTime": {
     "end_time": "2019-11-05T06:41:06.694849Z",
     "start_time": "2019-11-05T06:41:06.617895Z"
    }
   },
   "outputs": [],
   "source": [
    "def plot_losses(losses):\n",
    "    cols = list(losses.columns)\n",
    "    fig, axs = plt.subplots(ncols = len(cols), figsize= (len(cols)*4, 4))\n",
    "    for ci, col in enumerate(cols):\n",
    "        if len(cols) == 1:\n",
    "            ax = axs\n",
    "        else:\n",
    "            ax = axs.flatten()[ci]\n",
    "        ax.plot(losses[col].values)\n",
    "        ax.set_title(col)\n",
    "    plt.show()"
   ]
  },
  {
   "cell_type": "code",
   "execution_count": 36,
   "metadata": {
    "ExecuteTime": {
     "end_time": "2019-11-05T06:41:18.475246Z",
     "start_time": "2019-11-05T06:41:06.700751Z"
    }
   },
   "outputs": [
    {
     "data": {
      "image/png": "[encoded data removed]",
      "text/plain": [
       "<Figure size 1152x432 with 24 Axes>"
      ]
     },
     "metadata": {},
     "output_type": "display_data"
    },
    {
     "data": {
      "image/png": "[encoded data removed]",
      "text/plain": [
       "<Figure size 2880x288 with 10 Axes>"
      ]
     },
     "metadata": {
      "needs_background": "light"
     },
     "output_type": "display_data"
    },
    {
     "data": {
      "image/png": "[encoded data removed]",
      "text/plain": [
       "<Figure size 432x288 with 1 Axes>"
      ]
     },
     "metadata": {
      "needs_background": "light"
     },
     "output_type": "display_data"
    },
    {
     "data": {
      "application/vnd.jupyter.widget-view+json": {
       "model_id": "a2e5826929904b23a1d176c9093686f8",
       "version_major": 2,
       "version_minor": 0
      },
      "text/plain": [
       "HBox(children=(IntProgress(value=0), HTML(value='')))"
      ]
     },
     "metadata": {},
     "output_type": "display_data"
    },
    {
     "ename": "KeyboardInterrupt",
     "evalue": "",
     "output_type": "error",
     "traceback": [
      "\u001b[0;31m---------------------------------------------------------------------------\u001b[0m",
      "\u001b[0;31mKeyboardInterrupt\u001b[0m                         Traceback (most recent call last)",
      "\u001b[0;32m<ipython-input-36-63b4e93c27b4>\u001b[0m in \u001b[0;36m<module>\u001b[0;34m\u001b[0m\n\u001b[1;32m      2\u001b[0m     \u001b[0;31m# train\u001b[0m\u001b[0;34m\u001b[0m\u001b[0;34m\u001b[0m\u001b[0;34m\u001b[0m\u001b[0m\n\u001b[1;32m      3\u001b[0m     for batch, train_x in tqdm(\n\u001b[0;32m----> 4\u001b[0;31m         \u001b[0mzip\u001b[0m\u001b[0;34m(\u001b[0m\u001b[0mrange\u001b[0m\u001b[0;34m(\u001b[0m\u001b[0mN_TRAIN_BATCHES\u001b[0m\u001b[0;34m)\u001b[0m\u001b[0;34m,\u001b[0m \u001b[0mtrain_dataset\u001b[0m\u001b[0;34m)\u001b[0m\u001b[0;34m,\u001b[0m \u001b[0mtotal\u001b[0m\u001b[0;34m=\u001b[0m\u001b[0mN_TRAIN_BATCHES\u001b[0m\u001b[0;34m\u001b[0m\u001b[0;34m\u001b[0m\u001b[0m\n\u001b[0m\u001b[1;32m      5\u001b[0m     ):\n\u001b[1;32m      6\u001b[0m         \u001b[0mx\u001b[0m \u001b[0;34m=\u001b[0m \u001b[0mtf\u001b[0m\u001b[0;34m.\u001b[0m\u001b[0mcast\u001b[0m\u001b[0;34m(\u001b[0m\u001b[0mtf\u001b[0m\u001b[0;34m.\u001b[0m\u001b[0mreshape\u001b[0m\u001b[0;34m(\u001b[0m\u001b[0mtrain_x\u001b[0m\u001b[0;34m[\u001b[0m\u001b[0;36m0\u001b[0m\u001b[0;34m]\u001b[0m\u001b[0;34m,\u001b[0m \u001b[0;34m[\u001b[0m\u001b[0mBATCH_SIZE\u001b[0m\u001b[0;34m]\u001b[0m \u001b[0;34m+\u001b[0m \u001b[0mlist\u001b[0m\u001b[0;34m(\u001b[0m\u001b[0mDIMS\u001b[0m\u001b[0;34m)\u001b[0m\u001b[0;34m)\u001b[0m\u001b[0;34m,\u001b[0m \u001b[0mtf\u001b[0m\u001b[0;34m.\u001b[0m\u001b[0mfloat32\u001b[0m\u001b[0;34m)\u001b[0m \u001b[0;34m/\u001b[0m \u001b[0;36m255\u001b[0m\u001b[0;34m\u001b[0m\u001b[0;34m\u001b[0m\u001b[0m\n",
      "\u001b[0;32m/mnt/cube/tsainbur/conda_envs/tpy3/lib/python3.6/site-packages/tqdm/_tqdm_notebook.py\u001b[0m in \u001b[0;36m__iter__\u001b[0;34m(self, *args, **kwargs)\u001b[0m\n\u001b[1;32m    219\u001b[0m     \u001b[0;32mdef\u001b[0m \u001b[0m__iter__\u001b[0m\u001b[0;34m(\u001b[0m\u001b[0mself\u001b[0m\u001b[0;34m,\u001b[0m \u001b[0;34m*\u001b[0m\u001b[0margs\u001b[0m\u001b[0;34m,\u001b[0m \u001b[0;34m**\u001b[0m\u001b[0mkwargs\u001b[0m\u001b[0;34m)\u001b[0m\u001b[0;34m:\u001b[0m\u001b[0;34m\u001b[0m\u001b[0;34m\u001b[0m\u001b[0m\n\u001b[1;32m    220\u001b[0m         \u001b[0;32mtry\u001b[0m\u001b[0;34m:\u001b[0m\u001b[0;34m\u001b[0m\u001b[0;34m\u001b[0m\u001b[0m\n\u001b[0;32m--> 221\u001b[0;31m             \u001b[0;32mfor\u001b[0m \u001b[0mobj\u001b[0m \u001b[0;32min\u001b[0m \u001b[0msuper\u001b[0m\u001b[0;34m(\u001b[0m\u001b[0mtqdm_notebook\u001b[0m\u001b[0;34m,\u001b[0m \u001b[0mself\u001b[0m\u001b[0;34m)\u001b[0m\u001b[0;34m.\u001b[0m\u001b[0m__iter__\u001b[0m\u001b[0;34m(\u001b[0m\u001b[0;34m*\u001b[0m\u001b[0margs\u001b[0m\u001b[0;34m,\u001b[0m \u001b[0;34m**\u001b[0m\u001b[0mkwargs\u001b[0m\u001b[0;34m)\u001b[0m\u001b[0;34m:\u001b[0m\u001b[0;34m\u001b[0m\u001b[0;34m\u001b[0m\u001b[0m\n\u001b[0m\u001b[1;32m    222\u001b[0m                 \u001b[0;31m# return super(tqdm...) will not catch exception\u001b[0m\u001b[0;34m\u001b[0m\u001b[0;34m\u001b[0m\u001b[0;34m\u001b[0m\u001b[0m\n\u001b[1;32m    223\u001b[0m                 \u001b[0;32myield\u001b[0m \u001b[0mobj\u001b[0m\u001b[0;34m\u001b[0m\u001b[0;34m\u001b[0m\u001b[0m\n",
      "\u001b[0;32m/mnt/cube/tsainbur/conda_envs/tpy3/lib/python3.6/site-packages/tqdm/_tqdm.py\u001b[0m in \u001b[0;36m__iter__\u001b[0;34m(self)\u001b[0m\n\u001b[1;32m    977\u001b[0m \"\"\", fp_write=getattr(self.fp, 'write', sys.stderr.write))\n\u001b[1;32m    978\u001b[0m \u001b[0;34m\u001b[0m\u001b[0m\n\u001b[0;32m--> 979\u001b[0;31m             \u001b[0;32mfor\u001b[0m \u001b[0mobj\u001b[0m \u001b[0;32min\u001b[0m \u001b[0miterable\u001b[0m\u001b[0;34m:\u001b[0m\u001b[0;34m\u001b[0m\u001b[0;34m\u001b[0m\u001b[0m\n\u001b[0m\u001b[1;32m    980\u001b[0m                 \u001b[0;32myield\u001b[0m \u001b[0mobj\u001b[0m\u001b[0;34m\u001b[0m\u001b[0;34m\u001b[0m\u001b[0m\n\u001b[1;32m    981\u001b[0m                 \u001b[0;31m# Update and possibly print the progressbar.\u001b[0m\u001b[0;34m\u001b[0m\u001b[0;34m\u001b[0m\u001b[0;34m\u001b[0m\u001b[0m\n",
      "\u001b[0;32m/mnt/cube/tsainbur/conda_envs/tpy3/lib/python3.6/site-packages/tensorflow/python/data/ops/iterator_ops.py\u001b[0m in \u001b[0;36m__next__\u001b[0;34m(self)\u001b[0m\n\u001b[1;32m    584\u001b[0m \u001b[0;34m\u001b[0m\u001b[0m\n\u001b[1;32m    585\u001b[0m   \u001b[0;32mdef\u001b[0m \u001b[0m__next__\u001b[0m\u001b[0;34m(\u001b[0m\u001b[0mself\u001b[0m\u001b[0;34m)\u001b[0m\u001b[0;34m:\u001b[0m  \u001b[0;31m# For Python 3 compatibility\u001b[0m\u001b[0;34m\u001b[0m\u001b[0;34m\u001b[0m\u001b[0m\n\u001b[0;32m--> 586\u001b[0;31m     \u001b[0;32mreturn\u001b[0m \u001b[0mself\u001b[0m\u001b[0;34m.\u001b[0m\u001b[0mnext\u001b[0m\u001b[0;34m(\u001b[0m\u001b[0;34m)\u001b[0m\u001b[0;34m\u001b[0m\u001b[0;34m\u001b[0m\u001b[0m\n\u001b[0m\u001b[1;32m    587\u001b[0m \u001b[0;34m\u001b[0m\u001b[0m\n\u001b[1;32m    588\u001b[0m   \u001b[0;32mdef\u001b[0m \u001b[0m_next_internal\u001b[0m\u001b[0;34m(\u001b[0m\u001b[0mself\u001b[0m\u001b[0;34m)\u001b[0m\u001b[0;34m:\u001b[0m\u001b[0;34m\u001b[0m\u001b[0;34m\u001b[0m\u001b[0m\n",
      "\u001b[0;32m/mnt/cube/tsainbur/conda_envs/tpy3/lib/python3.6/site-packages/tensorflow/python/data/ops/iterator_ops.py\u001b[0m in \u001b[0;36mnext\u001b[0;34m(self)\u001b[0m\n\u001b[1;32m    621\u001b[0m     \"\"\"\n\u001b[1;32m    622\u001b[0m     \u001b[0;32mtry\u001b[0m\u001b[0;34m:\u001b[0m\u001b[0;34m\u001b[0m\u001b[0;34m\u001b[0m\u001b[0m\n\u001b[0;32m--> 623\u001b[0;31m       \u001b[0;32mreturn\u001b[0m \u001b[0mself\u001b[0m\u001b[0;34m.\u001b[0m\u001b[0m_next_internal\u001b[0m\u001b[0;34m(\u001b[0m\u001b[0;34m)\u001b[0m\u001b[0;34m\u001b[0m\u001b[0;34m\u001b[0m\u001b[0m\n\u001b[0m\u001b[1;32m    624\u001b[0m     \u001b[0;32mexcept\u001b[0m \u001b[0merrors\u001b[0m\u001b[0;34m.\u001b[0m\u001b[0mOutOfRangeError\u001b[0m\u001b[0;34m:\u001b[0m\u001b[0;34m\u001b[0m\u001b[0;34m\u001b[0m\u001b[0m\n\u001b[1;32m    625\u001b[0m       \u001b[0;32mraise\u001b[0m \u001b[0mStopIteration\u001b[0m\u001b[0;34m\u001b[0m\u001b[0;34m\u001b[0m\u001b[0m\n",
      "\u001b[0;32m/mnt/cube/tsainbur/conda_envs/tpy3/lib/python3.6/site-packages/tensorflow/python/data/ops/iterator_ops.py\u001b[0m in \u001b[0;36m_next_internal\u001b[0;34m(self)\u001b[0m\n\u001b[1;32m    613\u001b[0m             \u001b[0mself\u001b[0m\u001b[0;34m.\u001b[0m\u001b[0m_iterator_resource\u001b[0m\u001b[0;34m,\u001b[0m\u001b[0;34m\u001b[0m\u001b[0;34m\u001b[0m\u001b[0m\n\u001b[1;32m    614\u001b[0m             \u001b[0moutput_types\u001b[0m\u001b[0;34m=\u001b[0m\u001b[0mself\u001b[0m\u001b[0;34m.\u001b[0m\u001b[0m_flat_output_types\u001b[0m\u001b[0;34m,\u001b[0m\u001b[0;34m\u001b[0m\u001b[0;34m\u001b[0m\u001b[0m\n\u001b[0;32m--> 615\u001b[0;31m             output_shapes=self._flat_output_shapes)\n\u001b[0m\u001b[1;32m    616\u001b[0m \u001b[0;34m\u001b[0m\u001b[0m\n\u001b[1;32m    617\u001b[0m       \u001b[0;32mreturn\u001b[0m \u001b[0mself\u001b[0m\u001b[0;34m.\u001b[0m\u001b[0m_structure\u001b[0m\u001b[0;34m.\u001b[0m\u001b[0m_from_compatible_tensor_list\u001b[0m\u001b[0;34m(\u001b[0m\u001b[0mret\u001b[0m\u001b[0;34m)\u001b[0m  \u001b[0;31m# pylint: disable=protected-access\u001b[0m\u001b[0;34m\u001b[0m\u001b[0;34m\u001b[0m\u001b[0m\n",
      "\u001b[0;32m/mnt/cube/tsainbur/conda_envs/tpy3/lib/python3.6/site-packages/tensorflow/python/ops/gen_dataset_ops.py\u001b[0m in \u001b[0;36miterator_get_next_sync\u001b[0;34m(iterator, output_types, output_shapes, name)\u001b[0m\n\u001b[1;32m   2104\u001b[0m         \u001b[0m_ctx\u001b[0m\u001b[0;34m.\u001b[0m\u001b[0m_context_handle\u001b[0m\u001b[0;34m,\u001b[0m \u001b[0m_ctx\u001b[0m\u001b[0;34m.\u001b[0m\u001b[0m_thread_local_data\u001b[0m\u001b[0;34m.\u001b[0m\u001b[0mdevice_name\u001b[0m\u001b[0;34m,\u001b[0m\u001b[0;34m\u001b[0m\u001b[0;34m\u001b[0m\u001b[0m\n\u001b[1;32m   2105\u001b[0m         \u001b[0;34m\"IteratorGetNextSync\"\u001b[0m\u001b[0;34m,\u001b[0m \u001b[0mname\u001b[0m\u001b[0;34m,\u001b[0m \u001b[0m_ctx\u001b[0m\u001b[0;34m.\u001b[0m\u001b[0m_post_execution_callbacks\u001b[0m\u001b[0;34m,\u001b[0m \u001b[0miterator\u001b[0m\u001b[0;34m,\u001b[0m\u001b[0;34m\u001b[0m\u001b[0;34m\u001b[0m\u001b[0m\n\u001b[0;32m-> 2106\u001b[0;31m         \"output_types\", output_types, \"output_shapes\", output_shapes)\n\u001b[0m\u001b[1;32m   2107\u001b[0m       \u001b[0;32mreturn\u001b[0m \u001b[0m_result\u001b[0m\u001b[0;34m\u001b[0m\u001b[0;34m\u001b[0m\u001b[0m\n\u001b[1;32m   2108\u001b[0m     \u001b[0;32mexcept\u001b[0m \u001b[0m_core\u001b[0m\u001b[0;34m.\u001b[0m\u001b[0m_FallbackException\u001b[0m\u001b[0;34m:\u001b[0m\u001b[0;34m\u001b[0m\u001b[0;34m\u001b[0m\u001b[0m\n",
      "\u001b[0;31mKeyboardInterrupt\u001b[0m: "
     ]
    }
   ],
   "source": [
    "for epoch in range(epoch, n_epochs):\n",
    "    # train\n",
    "    for batch, train_x in tqdm(\n",
    "        zip(range(N_TRAIN_BATCHES), train_dataset), total=N_TRAIN_BATCHES\n",
    "    ):\n",
    "        x = tf.cast(tf.reshape(train_x[0], [BATCH_SIZE] + list(DIMS)), tf.float32) / 255\n",
    "        model.train_net(x)\n",
    "    # test on holdout\n",
    "    loss = []\n",
    "    for batch, test_x in tqdm(\n",
    "        zip(range(N_TEST_BATCHES), test_dataset), total=N_TEST_BATCHES\n",
    "    ):\n",
    "        x = tf.cast(tf.reshape(test_x[0], [BATCH_SIZE] + list(DIMS)), tf.float32) / 255\n",
    "        loss.append(model.compute_loss(x))\n",
    "    losses.loc[len(losses)] = np.mean(loss, axis=0)\n",
    "    # plot results\n",
    "    display.clear_output()\n",
    "\n",
    "    plot_reconstruction(model, example_data, BATCH_SIZE, N_Z=latent_dim)\n",
    "    \n",
    "    plot_losses(losses)\n",
    "    \n",
    "    z = tf.split(model.enc(example_data), num_or_size_splits=2, axis=1)[0].numpy()\n",
    "    plt.hist(z.flatten())\n",
    "    plt.show()"
   ]
  },
  {
   "cell_type": "code",
   "execution_count": null,
   "metadata": {
    "ExecuteTime": {
     "end_time": "2019-11-05T06:41:18.478470Z",
     "start_time": "2019-11-05T06:41:06.293Z"
    }
   },
   "outputs": [],
   "source": [
    "tf.reduce_max(example_data)"
   ]
  },
  {
   "cell_type": "code",
   "execution_count": null,
   "metadata": {
    "ExecuteTime": {
     "end_time": "2019-11-05T06:40:31.730397Z",
     "start_time": "2019-11-05T06:40:12.498Z"
    }
   },
   "outputs": [],
   "source": [
    "mean, _ = model.encode(x)\n",
    "x_logit = model.decode(mean, apply_sigmoid = False)"
   ]
  },
  {
   "cell_type": "code",
   "execution_count": null,
   "metadata": {
    "ExecuteTime": {
     "end_time": "2019-11-05T06:40:31.731841Z",
     "start_time": "2019-11-05T06:40:12.500Z"
    }
   },
   "outputs": [],
   "source": [
    "plt.matshow(np.squeeze(x_logit[0]))"
   ]
  },
  {
   "cell_type": "code",
   "execution_count": null,
   "metadata": {},
   "outputs": [],
   "source": []
  },
  {
   "cell_type": "code",
   "execution_count": null,
   "metadata": {},
   "outputs": [],
   "source": []
  }
 ],
 "metadata": {
  "kernelspec": {
   "display_name": "Python 3",
   "language": "python",
   "name": "python3"
  },
  "language_info": {
   "codemirror_mode": {
    "name": "ipython",
    "version": 3
   },
   "file_extension": ".py",
   "mimetype": "text/x-python",
   "name": "python",
   "nbconvert_exporter": "python",
   "pygments_lexer": "ipython3",
   "version": "3.6.7"
  }
 },
 "nbformat": 4,
 "nbformat_minor": 2
}
