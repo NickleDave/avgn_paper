{
 "cells": [
  {
   "cell_type": "code",
   "execution_count": 1,
   "metadata": {
    "ExecuteTime": {
     "end_time": "2019-11-01T20:14:35.509152Z",
     "start_time": "2019-11-01T20:14:35.490545Z"
    }
   },
   "outputs": [],
   "source": [
    "%load_ext autoreload\n",
    "%autoreload 2"
   ]
  },
  {
   "cell_type": "code",
   "execution_count": 2,
   "metadata": {
    "ExecuteTime": {
     "end_time": "2019-11-01T20:14:35.707013Z",
     "start_time": "2019-11-01T20:14:35.512261Z"
    }
   },
   "outputs": [
    {
     "name": "stdout",
     "output_type": "stream",
     "text": [
      "env: CUDA_DEVICE_ORDER=PCI_BUS_ID\n",
      "env: CUDA_VISIBLE_DEVICES=0\n"
     ]
    }
   ],
   "source": [
    "%env CUDA_DEVICE_ORDER=PCI_BUS_ID\n",
    "%env CUDA_VISIBLE_DEVICES=0"
   ]
  },
  {
   "cell_type": "code",
   "execution_count": 3,
   "metadata": {
    "ExecuteTime": {
     "end_time": "2019-11-01T20:14:41.898844Z",
     "start_time": "2019-11-01T20:14:35.708776Z"
    }
   },
   "outputs": [
    {
     "name": "stderr",
     "output_type": "stream",
     "text": [
      "/mnt/cube/tsainbur/conda_envs/tpy3/lib/python3.6/site-packages/tqdm/autonotebook/__init__.py:14: TqdmExperimentalWarning: Using `tqdm.autonotebook.tqdm` in notebook mode. Use `tqdm.tqdm` instead to force console mode (e.g. in jupyter console)\n",
      "  \" (e.g. in jupyter console)\", TqdmExperimentalWarning)\n"
     ]
    }
   ],
   "source": [
    "from avgn.utils.paths import DATA_DIR, most_recent_subdirectory, ensure_dir\n",
    "from avgn.tensorflow.data import _parse_function"
   ]
  },
  {
   "cell_type": "code",
   "execution_count": 4,
   "metadata": {
    "ExecuteTime": {
     "end_time": "2019-11-01T20:14:42.315376Z",
     "start_time": "2019-11-01T20:14:41.901176Z"
    }
   },
   "outputs": [],
   "source": [
    "import tensorflow as tf\n",
    "import numpy as np\n",
    "import matplotlib.pyplot as plt\n",
    "from tqdm.autonotebook import tqdm\n",
    "%matplotlib inline\n",
    "from IPython import display\n",
    "import pandas as pd\n",
    "\n",
    "# the nightly build of tensorflow_probability is required as of the time of writing this \n",
    "import tensorflow_probability as tfp\n",
    "ds = tfp.distributions"
   ]
  },
  {
   "cell_type": "code",
   "execution_count": 5,
   "metadata": {
    "ExecuteTime": {
     "end_time": "2019-11-01T20:14:42.383181Z",
     "start_time": "2019-11-01T20:14:42.317513Z"
    }
   },
   "outputs": [
    {
     "name": "stdout",
     "output_type": "stream",
     "text": [
      "2.0.0-beta1 0.7.0-dev20190510\n"
     ]
    }
   ],
   "source": [
    "print(tf.__version__, tfp.__version__)"
   ]
  },
  {
   "cell_type": "code",
   "execution_count": 6,
   "metadata": {
    "ExecuteTime": {
     "end_time": "2019-11-01T20:14:42.470288Z",
     "start_time": "2019-11-01T20:14:42.385307Z"
    }
   },
   "outputs": [],
   "source": [
    "TRAIN_SIZE=101726\n",
    "BATCH_SIZE=32\n",
    "TEST_SIZE=10000\n",
    "DIMS = (32, 32, 1)\n",
    "N_TRAIN_BATCHES =int((TRAIN_SIZE-TEST_SIZE)/BATCH_SIZE)\n",
    "N_TEST_BATCHES = int(TEST_SIZE/BATCH_SIZE)\n",
    "TRAIN_BUF = 1000\n",
    "TEST_BUF = 1000"
   ]
  },
  {
   "cell_type": "code",
   "execution_count": 7,
   "metadata": {
    "ExecuteTime": {
     "end_time": "2019-11-01T20:14:42.553271Z",
     "start_time": "2019-11-01T20:14:42.472375Z"
    }
   },
   "outputs": [],
   "source": [
    "DATASET_ID = 'starling'"
   ]
  },
  {
   "cell_type": "code",
   "execution_count": 8,
   "metadata": {
    "ExecuteTime": {
     "end_time": "2019-11-01T20:14:42.645026Z",
     "start_time": "2019-11-01T20:14:42.555275Z"
    }
   },
   "outputs": [],
   "source": [
    "record_loc = DATA_DIR / 'tfrecords' / \"starling_32.tfrecords\""
   ]
  },
  {
   "cell_type": "code",
   "execution_count": 9,
   "metadata": {
    "ExecuteTime": {
     "end_time": "2019-11-01T20:14:45.536249Z",
     "start_time": "2019-11-01T20:14:42.647160Z"
    }
   },
   "outputs": [],
   "source": [
    "# read the dataset\n",
    "raw_dataset = tf.data.TFRecordDataset([record_loc.as_posix()])"
   ]
  },
  {
   "cell_type": "code",
   "execution_count": 10,
   "metadata": {
    "ExecuteTime": {
     "end_time": "2019-11-01T20:14:45.604765Z",
     "start_time": "2019-11-01T20:14:45.538406Z"
    }
   },
   "outputs": [],
   "source": [
    "data_types = {\n",
    "    \"spectrogram\": tf.uint8,\n",
    "    \"index\": tf.int64,\n",
    "    \"indv\": tf.string,\n",
    "}"
   ]
  },
  {
   "cell_type": "code",
   "execution_count": 11,
   "metadata": {
    "ExecuteTime": {
     "end_time": "2019-11-01T20:14:45.699997Z",
     "start_time": "2019-11-01T20:14:45.606903Z"
    }
   },
   "outputs": [],
   "source": [
    "# parse each data type to the raw dataset\n",
    "dataset = raw_dataset.map(lambda x: _parse_function(x, data_types=data_types))"
   ]
  },
  {
   "cell_type": "code",
   "execution_count": 12,
   "metadata": {
    "ExecuteTime": {
     "end_time": "2019-11-01T20:14:45.781262Z",
     "start_time": "2019-11-01T20:14:45.702005Z"
    }
   },
   "outputs": [],
   "source": [
    "spec, index, indv  = next(iter(dataset))"
   ]
  },
  {
   "cell_type": "code",
   "execution_count": 13,
   "metadata": {
    "ExecuteTime": {
     "end_time": "2019-11-01T20:14:46.078260Z",
     "start_time": "2019-11-01T20:14:45.783359Z"
    }
   },
   "outputs": [
    {
     "data": {
      "text/plain": [
       "<matplotlib.image.AxesImage at 0x7fee30067470>"
      ]
     },
     "execution_count": 13,
     "metadata": {},
     "output_type": "execute_result"
    },
    {
     "data": {
      "image/png": "[encoded data removed]",
      "text/plain": [
       "<Figure size 288x288 with 1 Axes>"
      ]
     },
     "metadata": {
      "needs_background": "light"
     },
     "output_type": "display_data"
    }
   ],
   "source": [
    "plt.matshow(spec.numpy().reshape(DIMS[:2]))"
   ]
  },
  {
   "cell_type": "code",
   "execution_count": 14,
   "metadata": {
    "ExecuteTime": {
     "end_time": "2019-11-01T20:14:46.152151Z",
     "start_time": "2019-11-01T20:14:46.080501Z"
    }
   },
   "outputs": [],
   "source": [
    "test_dataset = dataset.take(TEST_SIZE).shuffle(TRAIN_BUF).batch(BATCH_SIZE)\n",
    "train_dataset = dataset.skip(TEST_SIZE).take(TRAIN_SIZE-TEST_SIZE).shuffle(TEST_BUF).batch(BATCH_SIZE)"
   ]
  },
  {
   "cell_type": "code",
   "execution_count": 15,
   "metadata": {
    "ExecuteTime": {
     "end_time": "2019-11-01T20:14:46.254826Z",
     "start_time": "2019-11-01T20:14:46.154414Z"
    }
   },
   "outputs": [],
   "source": [
    "N_Z = 128\n",
    "\n",
    "encoder = [\n",
    "    tf.keras.layers.InputLayer(input_shape=DIMS),\n",
    "    tf.keras.layers.Conv2D(\n",
    "        filters=32, kernel_size=3, strides=(2, 2), activation=tf.nn.relu\n",
    "    ),\n",
    "    tf.keras.layers.Conv2D(\n",
    "        filters=64, kernel_size=3, strides=(2, 2), activation=tf.nn.relu\n",
    "    ),\n",
    "    tf.keras.layers.Conv2D(\n",
    "        filters=256, kernel_size=3, strides=(2, 2), activation=tf.nn.relu\n",
    "    ),\n",
    "    tf.keras.layers.Flatten(),\n",
    "    tf.keras.layers.Dense(units=N_Z*2),\n",
    "]\n",
    "\n",
    "decoder = [\n",
    "    tf.keras.layers.Dense(units=4 * 4 * 256, activation=tf.nn.relu),\n",
    "    tf.keras.layers.Reshape(target_shape=(4, 4, 256)),\n",
    "    tf.keras.layers.Conv2DTranspose(\n",
    "        filters=256, kernel_size=3, strides=(2, 2), padding=\"SAME\", activation=tf.nn.relu\n",
    "    ),\n",
    "    tf.keras.layers.Conv2DTranspose(\n",
    "        filters=64, kernel_size=3, strides=(2, 2), padding=\"SAME\", activation=tf.nn.relu\n",
    "    ),\n",
    "    tf.keras.layers.Conv2DTranspose(\n",
    "        filters=32, kernel_size=3, strides=(2, 2), padding=\"SAME\", activation=tf.nn.relu\n",
    "    ),\n",
    "    tf.keras.layers.Conv2DTranspose(\n",
    "        filters=16, kernel_size=3, strides=1, activation=tf.nn.relu, padding=\"SAME\"\n",
    "    ),\n",
    "    tf.keras.layers.Conv2D(\n",
    "        filters=1, kernel_size=3, strides=1, activation=tf.nn.sigmoid, padding=\"SAME\"\n",
    "    ),\n",
    "]\n",
    "def vaegan_discrim():\n",
    "    inputs = tf.keras.layers.Input(shape=DIMS)\n",
    "    conv1 = tf.keras.layers.Conv2D(\n",
    "                filters=32, kernel_size=3, strides=(2, 2), activation=tf.nn.relu\n",
    "            )(inputs)\n",
    "    conv2 = tf.keras.layers.Conv2D(\n",
    "                filters=64, kernel_size=3, strides=(2, 2), activation=tf.nn.relu\n",
    "            )(conv1)\n",
    "    conv3 = tf.keras.layers.Conv2D(\n",
    "        filters=64, kernel_size=3, strides=(2, 2), activation=tf.nn.relu\n",
    "    )(conv2)\n",
    "    lastlayer = tf.keras.layers.Conv2D(\n",
    "        filters=128, kernel_size=3, strides=(2, 2), activation=\"tanh\"\n",
    "    )(conv3)\n",
    "    flatten = tf.keras.layers.Flatten()(lastlayer)\n",
    "    outputs = tf.keras.layers.Dense(units=1, activation = None)(lastlayer)\n",
    "    return inputs, lastlayer, outputs\n",
    "\n"
   ]
  },
  {
   "cell_type": "code",
   "execution_count": 16,
   "metadata": {
    "ExecuteTime": {
     "end_time": "2019-11-01T20:14:47.264720Z",
     "start_time": "2019-11-01T20:14:46.257216Z"
    }
   },
   "outputs": [],
   "source": [
    "from avgn.tensorflow.VAEGAN3 import VAEGAN, plot_reconstruction, plot_losses\n",
    "# model\n",
    "model = VAEGAN(\n",
    "    enc = encoder,\n",
    "    dec = decoder,\n",
    "    vae_disc_function = vaegan_discrim,\n",
    "    enc_optimizer = tf.keras.optimizers.Adam(1e-4),\n",
    "    dec_optimizer = tf.keras.optimizers.Adam(1e-4),\n",
    "    disc_optimizer = tf.keras.optimizers.RMSprop(1e-5),\n",
    "    #disc_optimizer = tf.keras.optimizers.SGD(1e-3),\n",
    "    #lr_base_gen = 1e-3, # \n",
    "    #lr_base_disc = 1e-4, # the discriminator's job is easier than the generators so make the learning rate lower\n",
    "    latent_loss_div=300, # this variable will depend on your dataset - choose a number that will bring your latent loss to ~1-10\n",
    "    sig_mult = 50, # how binary the discriminator's learning rate is shifted (we squash it with a sigmoid)\n",
    "    recon_loss_div = 1e-3, # this variable will depend on your dataset - choose a number that will bring your latent loss to ~1-10\n",
    ")"
   ]
  },
  {
   "cell_type": "code",
   "execution_count": 17,
   "metadata": {
    "ExecuteTime": {
     "end_time": "2019-11-01T20:14:47.410807Z",
     "start_time": "2019-11-01T20:14:47.267011Z"
    }
   },
   "outputs": [],
   "source": [
    "# exampled data for plotting results\n",
    "example_data = next(iter(test_dataset))\n",
    "example_data = (\n",
    "        tf.cast(tf.reshape(example_data[0], [BATCH_SIZE] + list(DIMS)), tf.float32)\n",
    "        / 255\n",
    ")"
   ]
  },
  {
   "cell_type": "code",
   "execution_count": 18,
   "metadata": {
    "ExecuteTime": {
     "end_time": "2019-11-01T20:14:49.640421Z",
     "start_time": "2019-11-01T20:14:47.413318Z"
    }
   },
   "outputs": [
    {
     "name": "stderr",
     "output_type": "stream",
     "text": [
      "WARNING: Logging before flag parsing goes to stderr.\n",
      "W1101 13:14:49.620561 140663185340160 deprecation.py:323] From /mnt/cube/tsainbur/conda_envs/tpy3/lib/python3.6/site-packages/tensorflow/python/ops/nn_impl.py:182: add_dispatch_support.<locals>.wrapper (from tensorflow.python.ops.array_ops) is deprecated and will be removed in a future version.\n",
      "Instructions for updating:\n",
      "Use tf.where in 2.0, which has the same broadcast rule as np.where\n"
     ]
    },
    {
     "data": {
      "text/plain": [
       "(<tf.Tensor: id=1331, shape=(), dtype=float32, numpy=0.2710156>,\n",
       " <tf.Tensor: id=1384, shape=(), dtype=float32, numpy=2.027601>,\n",
       " <tf.Tensor: id=1320, shape=(), dtype=float32, numpy=0.4613163>,\n",
       " <tf.Tensor: id=1312, shape=(), dtype=float32, numpy=0.7030909>,\n",
       " <tf.Tensor: id=1297, shape=(), dtype=float32, numpy=0.6833014>,\n",
       " <tf.Tensor: id=1284, shape=(), dtype=float32, numpy=0.697227>,\n",
       " <tf.Tensor: id=1385, shape=(), dtype=float32, numpy=2.4889174>,\n",
       " <tf.Tensor: id=1386, shape=(), dtype=float32, numpy=1.1644073>,\n",
       " <tf.Tensor: id=1387, shape=(), dtype=float32, numpy=1.3805285>)"
      ]
     },
     "execution_count": 18,
     "metadata": {},
     "output_type": "execute_result"
    }
   ],
   "source": [
    "model.compute_loss(example_data)"
   ]
  },
  {
   "cell_type": "code",
   "execution_count": 19,
   "metadata": {
    "ExecuteTime": {
     "end_time": "2019-11-01T20:14:49.726928Z",
     "start_time": "2019-11-01T20:14:49.647768Z"
    }
   },
   "outputs": [],
   "source": [
    "# a pandas dataframe to save the loss information to\n",
    "losses = pd.DataFrame(columns=[\n",
    "    'd_prop',\n",
    "    'latent_loss',\n",
    "    'discrim_layer_recon_loss',\n",
    "    'gen_fake_loss',\n",
    "    'disc_fake_loss',\n",
    "    'disc_real_loss',\n",
    "    'enc_loss',\n",
    "    'dec_loss',\n",
    "    'disc_loss',\n",
    "])"
   ]
  },
  {
   "cell_type": "code",
   "execution_count": 20,
   "metadata": {
    "ExecuteTime": {
     "end_time": "2019-11-01T20:14:49.820461Z",
     "start_time": "2019-11-01T20:14:49.729905Z"
    }
   },
   "outputs": [],
   "source": [
    "N_TRAIN_BATCHES = 50\n",
    "N_TEST_BATCHES = 10"
   ]
  },
  {
   "cell_type": "code",
   "execution_count": 32,
   "metadata": {
    "ExecuteTime": {
     "end_time": "2019-11-02T05:40:59.185876Z",
     "start_time": "2019-11-02T05:40:59.110444Z"
    }
   },
   "outputs": [],
   "source": [
    "n_epochs = 10000\n",
    "epoch = 0"
   ]
  },
  {
   "cell_type": "code",
   "execution_count": null,
   "metadata": {
    "ExecuteTime": {
     "start_time": "2019-11-02T05:40:59.305Z"
    },
    "scrolled": false
   },
   "outputs": [
    {
     "data": {
      "image/png": "[encoded data removed]",
      "text/plain": [
       "<Figure size 1152x432 with 24 Axes>"
      ]
     },
     "metadata": {},
     "output_type": "display_data"
    },
    {
     "data": {
      "image/png": "[encoded data removed]",
      "text/plain": [
       "<Figure size 1152x288 with 4 Axes>"
      ]
     },
     "metadata": {
      "needs_background": "light"
     },
     "output_type": "display_data"
    },
    {
     "data": {
      "image/png": "[encoded data removed]",
      "text/plain": [
       "<Figure size 432x288 with 1 Axes>"
      ]
     },
     "metadata": {
      "needs_background": "light"
     },
     "output_type": "display_data"
    },
    {
     "data": {
      "application/vnd.jupyter.widget-view+json": {
       "model_id": "",
       "version_major": 2,
       "version_minor": 0
      },
      "text/plain": [
       "HBox(children=(IntProgress(value=0, max=50), HTML(value='')))"
      ]
     },
     "metadata": {},
     "output_type": "display_data"
    },
    {
     "name": "stdout",
     "output_type": "stream",
     "text": [
      "\r"
     ]
    },
    {
     "data": {
      "application/vnd.jupyter.widget-view+json": {
       "model_id": "",
       "version_major": 2,
       "version_minor": 0
      },
      "text/plain": [
       "HBox(children=(IntProgress(value=0, max=10), HTML(value='')))"
      ]
     },
     "metadata": {},
     "output_type": "display_data"
    },
    {
     "name": "stdout",
     "output_type": "stream",
     "text": [
      "\r"
     ]
    },
    {
     "data": {
      "application/vnd.jupyter.widget-view+json": {
       "model_id": "",
       "version_major": 2,
       "version_minor": 0
      },
      "text/plain": [
       "HBox(children=(IntProgress(value=0, max=50), HTML(value='')))"
      ]
     },
     "metadata": {},
     "output_type": "display_data"
    },
    {
     "name": "stdout",
     "output_type": "stream",
     "text": [
      "\r"
     ]
    },
    {
     "data": {
      "application/vnd.jupyter.widget-view+json": {
       "model_id": "",
       "version_major": 2,
       "version_minor": 0
      },
      "text/plain": [
       "HBox(children=(IntProgress(value=0, max=10), HTML(value='')))"
      ]
     },
     "metadata": {},
     "output_type": "display_data"
    },
    {
     "name": "stdout",
     "output_type": "stream",
     "text": [
      "\r"
     ]
    },
    {
     "data": {
      "application/vnd.jupyter.widget-view+json": {
       "model_id": "d8c88b7eaafc4562a89380b6fb46a505",
       "version_major": 2,
       "version_minor": 0
      },
      "text/plain": [
       "HBox(children=(IntProgress(value=0, max=50), HTML(value='')))"
      ]
     },
     "metadata": {},
     "output_type": "display_data"
    }
   ],
   "source": [
    "for epoch in range(epoch, n_epochs):\n",
    "    # train\n",
    "    for batch, train_x in tqdm(\n",
    "        zip(range(N_TRAIN_BATCHES), train_dataset), total=N_TRAIN_BATCHES, leave=False\n",
    "    ):\n",
    "        x = tf.cast(tf.reshape(train_x[0], [BATCH_SIZE] + list(DIMS)), tf.float32) / 255\n",
    "        model.train_net(x)\n",
    "    # test on holdout\n",
    "    loss = []\n",
    "    for batch, test_x in tqdm(\n",
    "        zip(range(N_TEST_BATCHES), test_dataset), total=N_TEST_BATCHES, leave=False\n",
    "    ):\n",
    "        x = tf.cast(tf.reshape(test_x[0], [BATCH_SIZE] + list(DIMS)), tf.float32) / 255\n",
    "        loss.append(model.compute_loss(x))\n",
    "    losses.loc[len(losses)] = np.mean(loss, axis=0)\n",
    "    \n",
    "\n",
    "    if epoch % 10 != 0:\n",
    "        continue\n",
    "        \n",
    "    # plot results\n",
    "    display.clear_output()\n",
    "    \n",
    "    plot_reconstruction(model, example_data, BATCH_SIZE, N_Z=N_Z)\n",
    "    \n",
    "    plot_losses(losses)\n",
    "    \n",
    "    z = tf.split(model.enc(example_data), num_or_size_splits=2, axis=1)[0].numpy()\n",
    "    plt.hist(z.flatten())\n",
    "    plt.show()"
   ]
  },
  {
   "cell_type": "code",
   "execution_count": 35,
   "metadata": {
    "ExecuteTime": {
     "end_time": "2019-11-04T18:55:06.704131Z",
     "start_time": "2019-11-04T18:55:04.396819Z"
    }
   },
   "outputs": [
    {
     "data": {
      "image/png": "[encoded data removed]",
      "text/plain": [
       "<Figure size 1152x432 with 24 Axes>"
      ]
     },
     "metadata": {},
     "output_type": "display_data"
    },
    {
     "data": {
      "image/png": "[encoded data removed]",
      "text/plain": [
       "<Figure size 1152x288 with 4 Axes>"
      ]
     },
     "metadata": {
      "needs_background": "light"
     },
     "output_type": "display_data"
    },
    {
     "data": {
      "image/png": "[encoded data removed]",
      "text/plain": [
       "<Figure size 432x288 with 1 Axes>"
      ]
     },
     "metadata": {
      "needs_background": "light"
     },
     "output_type": "display_data"
    }
   ],
   "source": [
    "plot_reconstruction(model, example_data, BATCH_SIZE, N_Z=N_Z)\n",
    "\n",
    "plot_losses(losses)\n",
    "\n",
    "z = tf.split(model.enc(example_data), num_or_size_splits=2, axis=1)[0].numpy()\n",
    "plt.hist(z.flatten())\n",
    "plt.show()"
   ]
  },
  {
   "cell_type": "code",
   "execution_count": 23,
   "metadata": {
    "ExecuteTime": {
     "end_time": "2019-11-02T01:13:06.747651Z",
     "start_time": "2019-11-02T01:13:03.950424Z"
    }
   },
   "outputs": [
    {
     "data": {
      "text/plain": [
       "(<tf.Tensor: id=17050479, shape=(32, 128), dtype=float32, numpy=\n",
       " array([[ 0.01405012,  0.00566565,  0.02540709, ...,  0.00352445,\n",
       "          0.00737356, -0.01255776],\n",
       "        [-0.0008409 ,  0.02365123,  0.00658194, ...,  0.02365306,\n",
       "         -0.00699737, -0.00729008],\n",
       "        [-0.01021442,  0.02668722, -0.00792333, ..., -0.00299189,\n",
       "          0.01810868, -0.01695649],\n",
       "        ...,\n",
       "        [ 0.01956355, -0.0173005 , -0.00473078, ..., -0.02524636,\n",
       "          0.01020003, -0.00096346],\n",
       "        [ 0.02122523,  0.02352342, -0.01548722, ...,  0.00191822,\n",
       "         -0.01841276,  0.00110544],\n",
       "        [ 0.02213697, -0.01247341,  0.01643098, ...,  0.01551699,\n",
       "          0.01179163, -0.02025141]], dtype=float32)>,\n",
       " <tf.Tensor: id=17050483, shape=(32, 128), dtype=float32, numpy=\n",
       " array([[-0.9986031 ,  1.0074528 , -0.9890889 , ..., -1.0008755 ,\n",
       "         -1.0000902 , -0.9821477 ],\n",
       "        [-1.0494324 ,  1.0411291 , -1.037834  , ..., -1.0393994 ,\n",
       "         -1.0361915 , -1.0317761 ],\n",
       "        [-0.97379935,  0.9876808 , -0.9940846 , ..., -0.99135035,\n",
       "         -0.9868739 , -0.97607005],\n",
       "        ...,\n",
       "        [-1.0218309 ,  1.0399736 , -1.0334885 , ..., -1.0306082 ,\n",
       "         -1.0147218 , -1.0158552 ],\n",
       "        [-1.003376  ,  1.0062692 , -1.0061659 , ..., -0.99380594,\n",
       "         -1.0009521 , -0.9989505 ],\n",
       "        [-0.9897171 ,  0.9862481 , -0.9801296 , ..., -0.9758771 ,\n",
       "         -0.98292476, -0.9680437 ]], dtype=float32)>)"
      ]
     },
     "execution_count": 23,
     "metadata": {},
     "output_type": "execute_result"
    }
   ],
   "source": [
    "model.encode(example_data)"
   ]
  },
  {
   "cell_type": "code",
   "execution_count": 24,
   "metadata": {
    "ExecuteTime": {
     "end_time": "2019-11-02T01:13:06.903834Z",
     "start_time": "2019-11-02T01:13:06.749780Z"
    }
   },
   "outputs": [
    {
     "data": {
      "text/html": [
       "<div>\n",
       "<style scoped>\n",
       "    .dataframe tbody tr th:only-of-type {\n",
       "        vertical-align: middle;\n",
       "    }\n",
       "\n",
       "    .dataframe tbody tr th {\n",
       "        vertical-align: top;\n",
       "    }\n",
       "\n",
       "    .dataframe thead th {\n",
       "        text-align: right;\n",
       "    }\n",
       "</style>\n",
       "<table border=\"1\" class=\"dataframe\">\n",
       "  <thead>\n",
       "    <tr style=\"text-align: right;\">\n",
       "      <th></th>\n",
       "      <th>d_prop</th>\n",
       "      <th>latent_loss</th>\n",
       "      <th>discrim_layer_recon_loss</th>\n",
       "      <th>gen_fake_loss</th>\n",
       "      <th>disc_fake_loss</th>\n",
       "      <th>disc_real_loss</th>\n",
       "      <th>enc_loss</th>\n",
       "      <th>dec_loss</th>\n",
       "      <th>disc_loss</th>\n",
       "    </tr>\n",
       "  </thead>\n",
       "  <tbody>\n",
       "    <tr>\n",
       "      <th>0</th>\n",
       "      <td>0.022314</td>\n",
       "      <td>1.398407</td>\n",
       "      <td>0.531569</td>\n",
       "      <td>0.731666</td>\n",
       "      <td>0.656060</td>\n",
       "      <td>0.700467</td>\n",
       "      <td>1.929976</td>\n",
       "      <td>1.263235</td>\n",
       "      <td>1.356527</td>\n",
       "    </tr>\n",
       "    <tr>\n",
       "      <th>1</th>\n",
       "      <td>0.270041</td>\n",
       "      <td>1.148383</td>\n",
       "      <td>0.114171</td>\n",
       "      <td>0.703143</td>\n",
       "      <td>0.683252</td>\n",
       "      <td>0.689150</td>\n",
       "      <td>1.262553</td>\n",
       "      <td>0.817314</td>\n",
       "      <td>1.372402</td>\n",
       "    </tr>\n",
       "    <tr>\n",
       "      <th>2</th>\n",
       "      <td>0.422960</td>\n",
       "      <td>0.958649</td>\n",
       "      <td>0.112576</td>\n",
       "      <td>0.696311</td>\n",
       "      <td>0.690050</td>\n",
       "      <td>0.675233</td>\n",
       "      <td>1.071225</td>\n",
       "      <td>0.808887</td>\n",
       "      <td>1.365283</td>\n",
       "    </tr>\n",
       "    <tr>\n",
       "      <th>3</th>\n",
       "      <td>0.455388</td>\n",
       "      <td>0.804805</td>\n",
       "      <td>0.131236</td>\n",
       "      <td>0.694983</td>\n",
       "      <td>0.691384</td>\n",
       "      <td>0.659671</td>\n",
       "      <td>0.936041</td>\n",
       "      <td>0.826219</td>\n",
       "      <td>1.351055</td>\n",
       "    </tr>\n",
       "    <tr>\n",
       "      <th>4</th>\n",
       "      <td>0.693069</td>\n",
       "      <td>0.664548</td>\n",
       "      <td>0.176885</td>\n",
       "      <td>0.685082</td>\n",
       "      <td>0.701471</td>\n",
       "      <td>0.635338</td>\n",
       "      <td>0.841433</td>\n",
       "      <td>0.861967</td>\n",
       "      <td>1.336810</td>\n",
       "    </tr>\n",
       "    <tr>\n",
       "      <th>5</th>\n",
       "      <td>0.852933</td>\n",
       "      <td>0.526698</td>\n",
       "      <td>0.219893</td>\n",
       "      <td>0.675754</td>\n",
       "      <td>0.711121</td>\n",
       "      <td>0.611216</td>\n",
       "      <td>0.746591</td>\n",
       "      <td>0.895647</td>\n",
       "      <td>1.322338</td>\n",
       "    </tr>\n",
       "    <tr>\n",
       "      <th>6</th>\n",
       "      <td>0.932636</td>\n",
       "      <td>0.400459</td>\n",
       "      <td>0.291370</td>\n",
       "      <td>0.667114</td>\n",
       "      <td>0.720152</td>\n",
       "      <td>0.586947</td>\n",
       "      <td>0.691829</td>\n",
       "      <td>0.958484</td>\n",
       "      <td>1.307099</td>\n",
       "    </tr>\n",
       "    <tr>\n",
       "      <th>7</th>\n",
       "      <td>0.993897</td>\n",
       "      <td>0.288648</td>\n",
       "      <td>0.364711</td>\n",
       "      <td>0.643247</td>\n",
       "      <td>0.746445</td>\n",
       "      <td>0.564341</td>\n",
       "      <td>0.653359</td>\n",
       "      <td>1.007959</td>\n",
       "      <td>1.310786</td>\n",
       "    </tr>\n",
       "    <tr>\n",
       "      <th>8</th>\n",
       "      <td>0.984922</td>\n",
       "      <td>0.209752</td>\n",
       "      <td>0.518702</td>\n",
       "      <td>0.652178</td>\n",
       "      <td>0.736055</td>\n",
       "      <td>0.546935</td>\n",
       "      <td>0.728455</td>\n",
       "      <td>1.170880</td>\n",
       "      <td>1.282989</td>\n",
       "    </tr>\n",
       "    <tr>\n",
       "      <th>9</th>\n",
       "      <td>0.999999</td>\n",
       "      <td>0.142341</td>\n",
       "      <td>0.476058</td>\n",
       "      <td>0.562316</td>\n",
       "      <td>0.843895</td>\n",
       "      <td>0.549168</td>\n",
       "      <td>0.618399</td>\n",
       "      <td>1.038374</td>\n",
       "      <td>1.393063</td>\n",
       "    </tr>\n",
       "    <tr>\n",
       "      <th>10</th>\n",
       "      <td>0.999967</td>\n",
       "      <td>0.110745</td>\n",
       "      <td>0.401035</td>\n",
       "      <td>0.595012</td>\n",
       "      <td>0.802170</td>\n",
       "      <td>0.581351</td>\n",
       "      <td>0.511780</td>\n",
       "      <td>0.996047</td>\n",
       "      <td>1.383521</td>\n",
       "    </tr>\n",
       "    <tr>\n",
       "      <th>11</th>\n",
       "      <td>0.999595</td>\n",
       "      <td>0.089637</td>\n",
       "      <td>0.422171</td>\n",
       "      <td>0.618002</td>\n",
       "      <td>0.774500</td>\n",
       "      <td>0.591153</td>\n",
       "      <td>0.511808</td>\n",
       "      <td>1.040173</td>\n",
       "      <td>1.365653</td>\n",
       "    </tr>\n",
       "    <tr>\n",
       "      <th>12</th>\n",
       "      <td>0.998767</td>\n",
       "      <td>0.076100</td>\n",
       "      <td>0.452936</td>\n",
       "      <td>0.628398</td>\n",
       "      <td>0.762467</td>\n",
       "      <td>0.593009</td>\n",
       "      <td>0.529036</td>\n",
       "      <td>1.081334</td>\n",
       "      <td>1.355476</td>\n",
       "    </tr>\n",
       "    <tr>\n",
       "      <th>13</th>\n",
       "      <td>0.994317</td>\n",
       "      <td>0.066033</td>\n",
       "      <td>0.476695</td>\n",
       "      <td>0.642862</td>\n",
       "      <td>0.746268</td>\n",
       "      <td>0.597192</td>\n",
       "      <td>0.542729</td>\n",
       "      <td>1.119557</td>\n",
       "      <td>1.343460</td>\n",
       "    </tr>\n",
       "    <tr>\n",
       "      <th>14</th>\n",
       "      <td>0.998613</td>\n",
       "      <td>0.062896</td>\n",
       "      <td>0.439357</td>\n",
       "      <td>0.629108</td>\n",
       "      <td>0.761869</td>\n",
       "      <td>0.603451</td>\n",
       "      <td>0.502254</td>\n",
       "      <td>1.068466</td>\n",
       "      <td>1.365320</td>\n",
       "    </tr>\n",
       "    <tr>\n",
       "      <th>15</th>\n",
       "      <td>0.657049</td>\n",
       "      <td>0.057049</td>\n",
       "      <td>0.581525</td>\n",
       "      <td>0.686670</td>\n",
       "      <td>0.699875</td>\n",
       "      <td>0.599607</td>\n",
       "      <td>0.638573</td>\n",
       "      <td>1.268194</td>\n",
       "      <td>1.299481</td>\n",
       "    </tr>\n",
       "    <tr>\n",
       "      <th>16</th>\n",
       "      <td>0.060375</td>\n",
       "      <td>0.059062</td>\n",
       "      <td>0.943782</td>\n",
       "      <td>0.721320</td>\n",
       "      <td>0.665951</td>\n",
       "      <td>0.568406</td>\n",
       "      <td>1.002844</td>\n",
       "      <td>1.665102</td>\n",
       "      <td>1.234357</td>\n",
       "    </tr>\n",
       "    <tr>\n",
       "      <th>17</th>\n",
       "      <td>0.997831</td>\n",
       "      <td>0.063974</td>\n",
       "      <td>0.665073</td>\n",
       "      <td>0.633390</td>\n",
       "      <td>0.757067</td>\n",
       "      <td>0.569452</td>\n",
       "      <td>0.729047</td>\n",
       "      <td>1.298463</td>\n",
       "      <td>1.326519</td>\n",
       "    </tr>\n",
       "    <tr>\n",
       "      <th>18</th>\n",
       "      <td>0.652384</td>\n",
       "      <td>0.066231</td>\n",
       "      <td>0.501125</td>\n",
       "      <td>0.686926</td>\n",
       "      <td>0.700262</td>\n",
       "      <td>0.617331</td>\n",
       "      <td>0.567356</td>\n",
       "      <td>1.188051</td>\n",
       "      <td>1.317594</td>\n",
       "    </tr>\n",
       "    <tr>\n",
       "      <th>19</th>\n",
       "      <td>0.001992</td>\n",
       "      <td>0.071208</td>\n",
       "      <td>0.541641</td>\n",
       "      <td>0.758200</td>\n",
       "      <td>0.632520</td>\n",
       "      <td>0.626304</td>\n",
       "      <td>0.612849</td>\n",
       "      <td>1.299840</td>\n",
       "      <td>1.258824</td>\n",
       "    </tr>\n",
       "    <tr>\n",
       "      <th>20</th>\n",
       "      <td>0.999998</td>\n",
       "      <td>0.054030</td>\n",
       "      <td>0.408214</td>\n",
       "      <td>0.568795</td>\n",
       "      <td>0.836223</td>\n",
       "      <td>0.625884</td>\n",
       "      <td>0.462245</td>\n",
       "      <td>0.977010</td>\n",
       "      <td>1.462107</td>\n",
       "    </tr>\n",
       "    <tr>\n",
       "      <th>21</th>\n",
       "      <td>0.988943</td>\n",
       "      <td>0.049501</td>\n",
       "      <td>0.338397</td>\n",
       "      <td>0.649119</td>\n",
       "      <td>0.739585</td>\n",
       "      <td>0.673716</td>\n",
       "      <td>0.387899</td>\n",
       "      <td>0.987517</td>\n",
       "      <td>1.413301</td>\n",
       "    </tr>\n",
       "    <tr>\n",
       "      <th>22</th>\n",
       "      <td>0.007891</td>\n",
       "      <td>0.046656</td>\n",
       "      <td>0.347539</td>\n",
       "      <td>0.743791</td>\n",
       "      <td>0.645358</td>\n",
       "      <td>0.700456</td>\n",
       "      <td>0.394196</td>\n",
       "      <td>1.091330</td>\n",
       "      <td>1.345814</td>\n",
       "    </tr>\n",
       "    <tr>\n",
       "      <th>23</th>\n",
       "      <td>0.539887</td>\n",
       "      <td>0.048975</td>\n",
       "      <td>0.296283</td>\n",
       "      <td>0.691624</td>\n",
       "      <td>0.694939</td>\n",
       "      <td>0.730157</td>\n",
       "      <td>0.345258</td>\n",
       "      <td>0.987907</td>\n",
       "      <td>1.425097</td>\n",
       "    </tr>\n",
       "    <tr>\n",
       "      <th>24</th>\n",
       "      <td>0.001677</td>\n",
       "      <td>0.041958</td>\n",
       "      <td>0.281343</td>\n",
       "      <td>0.759385</td>\n",
       "      <td>0.631179</td>\n",
       "      <td>0.749503</td>\n",
       "      <td>0.323301</td>\n",
       "      <td>1.040728</td>\n",
       "      <td>1.380683</td>\n",
       "    </tr>\n",
       "    <tr>\n",
       "      <th>25</th>\n",
       "      <td>0.000778</td>\n",
       "      <td>0.038455</td>\n",
       "      <td>0.305338</td>\n",
       "      <td>0.767393</td>\n",
       "      <td>0.624090</td>\n",
       "      <td>0.726194</td>\n",
       "      <td>0.343793</td>\n",
       "      <td>1.072731</td>\n",
       "      <td>1.350284</td>\n",
       "    </tr>\n",
       "    <tr>\n",
       "      <th>26</th>\n",
       "      <td>0.192404</td>\n",
       "      <td>0.042513</td>\n",
       "      <td>0.302192</td>\n",
       "      <td>0.707854</td>\n",
       "      <td>0.678874</td>\n",
       "      <td>0.688292</td>\n",
       "      <td>0.344706</td>\n",
       "      <td>1.010046</td>\n",
       "      <td>1.367166</td>\n",
       "    </tr>\n",
       "    <tr>\n",
       "      <th>27</th>\n",
       "      <td>0.627251</td>\n",
       "      <td>0.038826</td>\n",
       "      <td>0.280666</td>\n",
       "      <td>0.687952</td>\n",
       "      <td>0.698488</td>\n",
       "      <td>0.715603</td>\n",
       "      <td>0.319492</td>\n",
       "      <td>0.968618</td>\n",
       "      <td>1.414091</td>\n",
       "    </tr>\n",
       "    <tr>\n",
       "      <th>28</th>\n",
       "      <td>0.271725</td>\n",
       "      <td>0.039964</td>\n",
       "      <td>0.271583</td>\n",
       "      <td>0.703166</td>\n",
       "      <td>0.683322</td>\n",
       "      <td>0.738475</td>\n",
       "      <td>0.311547</td>\n",
       "      <td>0.974749</td>\n",
       "      <td>1.421797</td>\n",
       "    </tr>\n",
       "    <tr>\n",
       "      <th>29</th>\n",
       "      <td>0.004381</td>\n",
       "      <td>0.039143</td>\n",
       "      <td>0.240883</td>\n",
       "      <td>0.749052</td>\n",
       "      <td>0.640298</td>\n",
       "      <td>0.768451</td>\n",
       "      <td>0.280026</td>\n",
       "      <td>0.989935</td>\n",
       "      <td>1.408749</td>\n",
       "    </tr>\n",
       "    <tr>\n",
       "      <th>...</th>\n",
       "      <td>...</td>\n",
       "      <td>...</td>\n",
       "      <td>...</td>\n",
       "      <td>...</td>\n",
       "      <td>...</td>\n",
       "      <td>...</td>\n",
       "      <td>...</td>\n",
       "      <td>...</td>\n",
       "      <td>...</td>\n",
       "    </tr>\n",
       "    <tr>\n",
       "      <th>4970</th>\n",
       "      <td>0.597294</td>\n",
       "      <td>0.067173</td>\n",
       "      <td>0.293731</td>\n",
       "      <td>0.689262</td>\n",
       "      <td>0.697179</td>\n",
       "      <td>0.701753</td>\n",
       "      <td>0.360904</td>\n",
       "      <td>0.982993</td>\n",
       "      <td>1.398933</td>\n",
       "    </tr>\n",
       "    <tr>\n",
       "      <th>4971</th>\n",
       "      <td>0.618791</td>\n",
       "      <td>0.066968</td>\n",
       "      <td>0.285740</td>\n",
       "      <td>0.688348</td>\n",
       "      <td>0.698131</td>\n",
       "      <td>0.700386</td>\n",
       "      <td>0.352708</td>\n",
       "      <td>0.974087</td>\n",
       "      <td>1.398516</td>\n",
       "    </tr>\n",
       "    <tr>\n",
       "      <th>4972</th>\n",
       "      <td>0.674222</td>\n",
       "      <td>0.067441</td>\n",
       "      <td>0.270410</td>\n",
       "      <td>0.685926</td>\n",
       "      <td>0.700585</td>\n",
       "      <td>0.698295</td>\n",
       "      <td>0.337851</td>\n",
       "      <td>0.956335</td>\n",
       "      <td>1.398881</td>\n",
       "    </tr>\n",
       "    <tr>\n",
       "      <th>4973</th>\n",
       "      <td>0.677074</td>\n",
       "      <td>0.066910</td>\n",
       "      <td>0.278717</td>\n",
       "      <td>0.685703</td>\n",
       "      <td>0.700826</td>\n",
       "      <td>0.696794</td>\n",
       "      <td>0.345627</td>\n",
       "      <td>0.964420</td>\n",
       "      <td>1.397619</td>\n",
       "    </tr>\n",
       "    <tr>\n",
       "      <th>4974</th>\n",
       "      <td>0.713425</td>\n",
       "      <td>0.067316</td>\n",
       "      <td>0.266267</td>\n",
       "      <td>0.684035</td>\n",
       "      <td>0.702525</td>\n",
       "      <td>0.698210</td>\n",
       "      <td>0.333583</td>\n",
       "      <td>0.950302</td>\n",
       "      <td>1.400734</td>\n",
       "    </tr>\n",
       "    <tr>\n",
       "      <th>4975</th>\n",
       "      <td>0.639181</td>\n",
       "      <td>0.067201</td>\n",
       "      <td>0.276020</td>\n",
       "      <td>0.687478</td>\n",
       "      <td>0.699009</td>\n",
       "      <td>0.700226</td>\n",
       "      <td>0.343222</td>\n",
       "      <td>0.963498</td>\n",
       "      <td>1.399235</td>\n",
       "    </tr>\n",
       "    <tr>\n",
       "      <th>4976</th>\n",
       "      <td>0.725582</td>\n",
       "      <td>0.066946</td>\n",
       "      <td>0.276155</td>\n",
       "      <td>0.683373</td>\n",
       "      <td>0.703167</td>\n",
       "      <td>0.696223</td>\n",
       "      <td>0.343101</td>\n",
       "      <td>0.959528</td>\n",
       "      <td>1.399390</td>\n",
       "    </tr>\n",
       "    <tr>\n",
       "      <th>4977</th>\n",
       "      <td>0.548817</td>\n",
       "      <td>0.067156</td>\n",
       "      <td>0.289084</td>\n",
       "      <td>0.691247</td>\n",
       "      <td>0.695211</td>\n",
       "      <td>0.703685</td>\n",
       "      <td>0.356240</td>\n",
       "      <td>0.980331</td>\n",
       "      <td>1.398896</td>\n",
       "    </tr>\n",
       "    <tr>\n",
       "      <th>4978</th>\n",
       "      <td>0.697864</td>\n",
       "      <td>0.066275</td>\n",
       "      <td>0.298204</td>\n",
       "      <td>0.684759</td>\n",
       "      <td>0.701748</td>\n",
       "      <td>0.696567</td>\n",
       "      <td>0.364479</td>\n",
       "      <td>0.982963</td>\n",
       "      <td>1.398315</td>\n",
       "    </tr>\n",
       "    <tr>\n",
       "      <th>4979</th>\n",
       "      <td>0.497924</td>\n",
       "      <td>0.068023</td>\n",
       "      <td>0.284315</td>\n",
       "      <td>0.693304</td>\n",
       "      <td>0.693140</td>\n",
       "      <td>0.705805</td>\n",
       "      <td>0.352338</td>\n",
       "      <td>0.977619</td>\n",
       "      <td>1.398945</td>\n",
       "    </tr>\n",
       "    <tr>\n",
       "      <th>4980</th>\n",
       "      <td>0.743832</td>\n",
       "      <td>0.067112</td>\n",
       "      <td>0.295149</td>\n",
       "      <td>0.682543</td>\n",
       "      <td>0.704008</td>\n",
       "      <td>0.694768</td>\n",
       "      <td>0.362261</td>\n",
       "      <td>0.977691</td>\n",
       "      <td>1.398776</td>\n",
       "    </tr>\n",
       "    <tr>\n",
       "      <th>4981</th>\n",
       "      <td>0.697166</td>\n",
       "      <td>0.067824</td>\n",
       "      <td>0.297867</td>\n",
       "      <td>0.684872</td>\n",
       "      <td>0.701627</td>\n",
       "      <td>0.696325</td>\n",
       "      <td>0.365692</td>\n",
       "      <td>0.982739</td>\n",
       "      <td>1.397952</td>\n",
       "    </tr>\n",
       "    <tr>\n",
       "      <th>4982</th>\n",
       "      <td>0.769312</td>\n",
       "      <td>0.066786</td>\n",
       "      <td>0.298605</td>\n",
       "      <td>0.681100</td>\n",
       "      <td>0.705528</td>\n",
       "      <td>0.693165</td>\n",
       "      <td>0.365391</td>\n",
       "      <td>0.979705</td>\n",
       "      <td>1.398693</td>\n",
       "    </tr>\n",
       "    <tr>\n",
       "      <th>4983</th>\n",
       "      <td>0.555887</td>\n",
       "      <td>0.066882</td>\n",
       "      <td>0.294422</td>\n",
       "      <td>0.690948</td>\n",
       "      <td>0.695505</td>\n",
       "      <td>0.703524</td>\n",
       "      <td>0.361304</td>\n",
       "      <td>0.985370</td>\n",
       "      <td>1.399029</td>\n",
       "    </tr>\n",
       "    <tr>\n",
       "      <th>4984</th>\n",
       "      <td>0.765993</td>\n",
       "      <td>0.067216</td>\n",
       "      <td>0.301368</td>\n",
       "      <td>0.681274</td>\n",
       "      <td>0.705309</td>\n",
       "      <td>0.693174</td>\n",
       "      <td>0.368584</td>\n",
       "      <td>0.982642</td>\n",
       "      <td>1.398483</td>\n",
       "    </tr>\n",
       "    <tr>\n",
       "      <th>4985</th>\n",
       "      <td>0.456357</td>\n",
       "      <td>0.067243</td>\n",
       "      <td>0.302800</td>\n",
       "      <td>0.695003</td>\n",
       "      <td>0.691463</td>\n",
       "      <td>0.707884</td>\n",
       "      <td>0.370044</td>\n",
       "      <td>0.997804</td>\n",
       "      <td>1.399347</td>\n",
       "    </tr>\n",
       "    <tr>\n",
       "      <th>4986</th>\n",
       "      <td>0.722901</td>\n",
       "      <td>0.066948</td>\n",
       "      <td>0.295511</td>\n",
       "      <td>0.683522</td>\n",
       "      <td>0.703035</td>\n",
       "      <td>0.696797</td>\n",
       "      <td>0.362459</td>\n",
       "      <td>0.979033</td>\n",
       "      <td>1.399832</td>\n",
       "    </tr>\n",
       "    <tr>\n",
       "      <th>4987</th>\n",
       "      <td>0.351684</td>\n",
       "      <td>0.067038</td>\n",
       "      <td>0.281276</td>\n",
       "      <td>0.699421</td>\n",
       "      <td>0.687062</td>\n",
       "      <td>0.712454</td>\n",
       "      <td>0.348314</td>\n",
       "      <td>0.980697</td>\n",
       "      <td>1.399516</td>\n",
       "    </tr>\n",
       "    <tr>\n",
       "      <th>4988</th>\n",
       "      <td>0.490120</td>\n",
       "      <td>0.067044</td>\n",
       "      <td>0.284990</td>\n",
       "      <td>0.693626</td>\n",
       "      <td>0.692829</td>\n",
       "      <td>0.705991</td>\n",
       "      <td>0.352034</td>\n",
       "      <td>0.978617</td>\n",
       "      <td>1.398819</td>\n",
       "    </tr>\n",
       "    <tr>\n",
       "      <th>4989</th>\n",
       "      <td>0.501346</td>\n",
       "      <td>0.067176</td>\n",
       "      <td>0.283210</td>\n",
       "      <td>0.693162</td>\n",
       "      <td>0.693265</td>\n",
       "      <td>0.705939</td>\n",
       "      <td>0.350386</td>\n",
       "      <td>0.976372</td>\n",
       "      <td>1.399204</td>\n",
       "    </tr>\n",
       "    <tr>\n",
       "      <th>4990</th>\n",
       "      <td>0.514365</td>\n",
       "      <td>0.068947</td>\n",
       "      <td>0.271914</td>\n",
       "      <td>0.692650</td>\n",
       "      <td>0.693807</td>\n",
       "      <td>0.704327</td>\n",
       "      <td>0.340861</td>\n",
       "      <td>0.964565</td>\n",
       "      <td>1.398134</td>\n",
       "    </tr>\n",
       "    <tr>\n",
       "      <th>4991</th>\n",
       "      <td>0.688891</td>\n",
       "      <td>0.067645</td>\n",
       "      <td>0.266708</td>\n",
       "      <td>0.685127</td>\n",
       "      <td>0.701416</td>\n",
       "      <td>0.698163</td>\n",
       "      <td>0.334353</td>\n",
       "      <td>0.951835</td>\n",
       "      <td>1.399578</td>\n",
       "    </tr>\n",
       "    <tr>\n",
       "      <th>4992</th>\n",
       "      <td>0.556255</td>\n",
       "      <td>0.068051</td>\n",
       "      <td>0.279017</td>\n",
       "      <td>0.690948</td>\n",
       "      <td>0.695511</td>\n",
       "      <td>0.702425</td>\n",
       "      <td>0.347067</td>\n",
       "      <td>0.969965</td>\n",
       "      <td>1.397936</td>\n",
       "    </tr>\n",
       "    <tr>\n",
       "      <th>4993</th>\n",
       "      <td>0.799874</td>\n",
       "      <td>0.067504</td>\n",
       "      <td>0.287998</td>\n",
       "      <td>0.679321</td>\n",
       "      <td>0.707317</td>\n",
       "      <td>0.690467</td>\n",
       "      <td>0.355503</td>\n",
       "      <td>0.967320</td>\n",
       "      <td>1.397784</td>\n",
       "    </tr>\n",
       "    <tr>\n",
       "      <th>4994</th>\n",
       "      <td>0.748291</td>\n",
       "      <td>0.067259</td>\n",
       "      <td>0.309435</td>\n",
       "      <td>0.682284</td>\n",
       "      <td>0.704250</td>\n",
       "      <td>0.693649</td>\n",
       "      <td>0.376693</td>\n",
       "      <td>0.991719</td>\n",
       "      <td>1.397899</td>\n",
       "    </tr>\n",
       "    <tr>\n",
       "      <th>4995</th>\n",
       "      <td>0.664319</td>\n",
       "      <td>0.067404</td>\n",
       "      <td>0.307488</td>\n",
       "      <td>0.686350</td>\n",
       "      <td>0.700125</td>\n",
       "      <td>0.698209</td>\n",
       "      <td>0.374892</td>\n",
       "      <td>0.993838</td>\n",
       "      <td>1.398334</td>\n",
       "    </tr>\n",
       "    <tr>\n",
       "      <th>4996</th>\n",
       "      <td>0.637126</td>\n",
       "      <td>0.067468</td>\n",
       "      <td>0.281275</td>\n",
       "      <td>0.687520</td>\n",
       "      <td>0.698978</td>\n",
       "      <td>0.699915</td>\n",
       "      <td>0.348743</td>\n",
       "      <td>0.968795</td>\n",
       "      <td>1.398893</td>\n",
       "    </tr>\n",
       "    <tr>\n",
       "      <th>4997</th>\n",
       "      <td>0.423051</td>\n",
       "      <td>0.068577</td>\n",
       "      <td>0.277705</td>\n",
       "      <td>0.696334</td>\n",
       "      <td>0.690098</td>\n",
       "      <td>0.708618</td>\n",
       "      <td>0.346282</td>\n",
       "      <td>0.974039</td>\n",
       "      <td>1.398716</td>\n",
       "    </tr>\n",
       "    <tr>\n",
       "      <th>4998</th>\n",
       "      <td>0.400925</td>\n",
       "      <td>0.067393</td>\n",
       "      <td>0.275574</td>\n",
       "      <td>0.697308</td>\n",
       "      <td>0.689152</td>\n",
       "      <td>0.709347</td>\n",
       "      <td>0.342966</td>\n",
       "      <td>0.972882</td>\n",
       "      <td>1.398499</td>\n",
       "    </tr>\n",
       "    <tr>\n",
       "      <th>4999</th>\n",
       "      <td>0.484872</td>\n",
       "      <td>0.067809</td>\n",
       "      <td>0.274019</td>\n",
       "      <td>0.693833</td>\n",
       "      <td>0.692618</td>\n",
       "      <td>0.706385</td>\n",
       "      <td>0.341828</td>\n",
       "      <td>0.967851</td>\n",
       "      <td>1.399003</td>\n",
       "    </tr>\n",
       "  </tbody>\n",
       "</table>\n",
       "<p>5000 rows × 9 columns</p>\n",
       "</div>"
      ],
      "text/plain": [
       "        d_prop  latent_loss  discrim_layer_recon_loss  gen_fake_loss  \\\n",
       "0     0.022314     1.398407                  0.531569       0.731666   \n",
       "1     0.270041     1.148383                  0.114171       0.703143   \n",
       "2     0.422960     0.958649                  0.112576       0.696311   \n",
       "3     0.455388     0.804805                  0.131236       0.694983   \n",
       "4     0.693069     0.664548                  0.176885       0.685082   \n",
       "5     0.852933     0.526698                  0.219893       0.675754   \n",
       "6     0.932636     0.400459                  0.291370       0.667114   \n",
       "7     0.993897     0.288648                  0.364711       0.643247   \n",
       "8     0.984922     0.209752                  0.518702       0.652178   \n",
       "9     0.999999     0.142341                  0.476058       0.562316   \n",
       "10    0.999967     0.110745                  0.401035       0.595012   \n",
       "11    0.999595     0.089637                  0.422171       0.618002   \n",
       "12    0.998767     0.076100                  0.452936       0.628398   \n",
       "13    0.994317     0.066033                  0.476695       0.642862   \n",
       "14    0.998613     0.062896                  0.439357       0.629108   \n",
       "15    0.657049     0.057049                  0.581525       0.686670   \n",
       "16    0.060375     0.059062                  0.943782       0.721320   \n",
       "17    0.997831     0.063974                  0.665073       0.633390   \n",
       "18    0.652384     0.066231                  0.501125       0.686926   \n",
       "19    0.001992     0.071208                  0.541641       0.758200   \n",
       "20    0.999998     0.054030                  0.408214       0.568795   \n",
       "21    0.988943     0.049501                  0.338397       0.649119   \n",
       "22    0.007891     0.046656                  0.347539       0.743791   \n",
       "23    0.539887     0.048975                  0.296283       0.691624   \n",
       "24    0.001677     0.041958                  0.281343       0.759385   \n",
       "25    0.000778     0.038455                  0.305338       0.767393   \n",
       "26    0.192404     0.042513                  0.302192       0.707854   \n",
       "27    0.627251     0.038826                  0.280666       0.687952   \n",
       "28    0.271725     0.039964                  0.271583       0.703166   \n",
       "29    0.004381     0.039143                  0.240883       0.749052   \n",
       "...        ...          ...                       ...            ...   \n",
       "4970  0.597294     0.067173                  0.293731       0.689262   \n",
       "4971  0.618791     0.066968                  0.285740       0.688348   \n",
       "4972  0.674222     0.067441                  0.270410       0.685926   \n",
       "4973  0.677074     0.066910                  0.278717       0.685703   \n",
       "4974  0.713425     0.067316                  0.266267       0.684035   \n",
       "4975  0.639181     0.067201                  0.276020       0.687478   \n",
       "4976  0.725582     0.066946                  0.276155       0.683373   \n",
       "4977  0.548817     0.067156                  0.289084       0.691247   \n",
       "4978  0.697864     0.066275                  0.298204       0.684759   \n",
       "4979  0.497924     0.068023                  0.284315       0.693304   \n",
       "4980  0.743832     0.067112                  0.295149       0.682543   \n",
       "4981  0.697166     0.067824                  0.297867       0.684872   \n",
       "4982  0.769312     0.066786                  0.298605       0.681100   \n",
       "4983  0.555887     0.066882                  0.294422       0.690948   \n",
       "4984  0.765993     0.067216                  0.301368       0.681274   \n",
       "4985  0.456357     0.067243                  0.302800       0.695003   \n",
       "4986  0.722901     0.066948                  0.295511       0.683522   \n",
       "4987  0.351684     0.067038                  0.281276       0.699421   \n",
       "4988  0.490120     0.067044                  0.284990       0.693626   \n",
       "4989  0.501346     0.067176                  0.283210       0.693162   \n",
       "4990  0.514365     0.068947                  0.271914       0.692650   \n",
       "4991  0.688891     0.067645                  0.266708       0.685127   \n",
       "4992  0.556255     0.068051                  0.279017       0.690948   \n",
       "4993  0.799874     0.067504                  0.287998       0.679321   \n",
       "4994  0.748291     0.067259                  0.309435       0.682284   \n",
       "4995  0.664319     0.067404                  0.307488       0.686350   \n",
       "4996  0.637126     0.067468                  0.281275       0.687520   \n",
       "4997  0.423051     0.068577                  0.277705       0.696334   \n",
       "4998  0.400925     0.067393                  0.275574       0.697308   \n",
       "4999  0.484872     0.067809                  0.274019       0.693833   \n",
       "\n",
       "      disc_fake_loss  disc_real_loss  enc_loss  dec_loss  disc_loss  \n",
       "0           0.656060        0.700467  1.929976  1.263235   1.356527  \n",
       "1           0.683252        0.689150  1.262553  0.817314   1.372402  \n",
       "2           0.690050        0.675233  1.071225  0.808887   1.365283  \n",
       "3           0.691384        0.659671  0.936041  0.826219   1.351055  \n",
       "4           0.701471        0.635338  0.841433  0.861967   1.336810  \n",
       "5           0.711121        0.611216  0.746591  0.895647   1.322338  \n",
       "6           0.720152        0.586947  0.691829  0.958484   1.307099  \n",
       "7           0.746445        0.564341  0.653359  1.007959   1.310786  \n",
       "8           0.736055        0.546935  0.728455  1.170880   1.282989  \n",
       "9           0.843895        0.549168  0.618399  1.038374   1.393063  \n",
       "10          0.802170        0.581351  0.511780  0.996047   1.383521  \n",
       "11          0.774500        0.591153  0.511808  1.040173   1.365653  \n",
       "12          0.762467        0.593009  0.529036  1.081334   1.355476  \n",
       "13          0.746268        0.597192  0.542729  1.119557   1.343460  \n",
       "14          0.761869        0.603451  0.502254  1.068466   1.365320  \n",
       "15          0.699875        0.599607  0.638573  1.268194   1.299481  \n",
       "16          0.665951        0.568406  1.002844  1.665102   1.234357  \n",
       "17          0.757067        0.569452  0.729047  1.298463   1.326519  \n",
       "18          0.700262        0.617331  0.567356  1.188051   1.317594  \n",
       "19          0.632520        0.626304  0.612849  1.299840   1.258824  \n",
       "20          0.836223        0.625884  0.462245  0.977010   1.462107  \n",
       "21          0.739585        0.673716  0.387899  0.987517   1.413301  \n",
       "22          0.645358        0.700456  0.394196  1.091330   1.345814  \n",
       "23          0.694939        0.730157  0.345258  0.987907   1.425097  \n",
       "24          0.631179        0.749503  0.323301  1.040728   1.380683  \n",
       "25          0.624090        0.726194  0.343793  1.072731   1.350284  \n",
       "26          0.678874        0.688292  0.344706  1.010046   1.367166  \n",
       "27          0.698488        0.715603  0.319492  0.968618   1.414091  \n",
       "28          0.683322        0.738475  0.311547  0.974749   1.421797  \n",
       "29          0.640298        0.768451  0.280026  0.989935   1.408749  \n",
       "...              ...             ...       ...       ...        ...  \n",
       "4970        0.697179        0.701753  0.360904  0.982993   1.398933  \n",
       "4971        0.698131        0.700386  0.352708  0.974087   1.398516  \n",
       "4972        0.700585        0.698295  0.337851  0.956335   1.398881  \n",
       "4973        0.700826        0.696794  0.345627  0.964420   1.397619  \n",
       "4974        0.702525        0.698210  0.333583  0.950302   1.400734  \n",
       "4975        0.699009        0.700226  0.343222  0.963498   1.399235  \n",
       "4976        0.703167        0.696223  0.343101  0.959528   1.399390  \n",
       "4977        0.695211        0.703685  0.356240  0.980331   1.398896  \n",
       "4978        0.701748        0.696567  0.364479  0.982963   1.398315  \n",
       "4979        0.693140        0.705805  0.352338  0.977619   1.398945  \n",
       "4980        0.704008        0.694768  0.362261  0.977691   1.398776  \n",
       "4981        0.701627        0.696325  0.365692  0.982739   1.397952  \n",
       "4982        0.705528        0.693165  0.365391  0.979705   1.398693  \n",
       "4983        0.695505        0.703524  0.361304  0.985370   1.399029  \n",
       "4984        0.705309        0.693174  0.368584  0.982642   1.398483  \n",
       "4985        0.691463        0.707884  0.370044  0.997804   1.399347  \n",
       "4986        0.703035        0.696797  0.362459  0.979033   1.399832  \n",
       "4987        0.687062        0.712454  0.348314  0.980697   1.399516  \n",
       "4988        0.692829        0.705991  0.352034  0.978617   1.398819  \n",
       "4989        0.693265        0.705939  0.350386  0.976372   1.399204  \n",
       "4990        0.693807        0.704327  0.340861  0.964565   1.398134  \n",
       "4991        0.701416        0.698163  0.334353  0.951835   1.399578  \n",
       "4992        0.695511        0.702425  0.347067  0.969965   1.397936  \n",
       "4993        0.707317        0.690467  0.355503  0.967320   1.397784  \n",
       "4994        0.704250        0.693649  0.376693  0.991719   1.397899  \n",
       "4995        0.700125        0.698209  0.374892  0.993838   1.398334  \n",
       "4996        0.698978        0.699915  0.348743  0.968795   1.398893  \n",
       "4997        0.690098        0.708618  0.346282  0.974039   1.398716  \n",
       "4998        0.689152        0.709347  0.342966  0.972882   1.398499  \n",
       "4999        0.692618        0.706385  0.341828  0.967851   1.399003  \n",
       "\n",
       "[5000 rows x 9 columns]"
      ]
     },
     "execution_count": 24,
     "metadata": {},
     "output_type": "execute_result"
    }
   ],
   "source": [
    "losses"
   ]
  },
  {
   "cell_type": "markdown",
   "metadata": {},
   "source": [
    "### Save model"
   ]
  },
  {
   "cell_type": "code",
   "execution_count": 25,
   "metadata": {
    "ExecuteTime": {
     "end_time": "2019-11-02T01:13:06.974868Z",
     "start_time": "2019-11-02T01:13:06.905927Z"
    }
   },
   "outputs": [],
   "source": [
    "network_type = 'VAEGAN2'"
   ]
  },
  {
   "cell_type": "code",
   "execution_count": 26,
   "metadata": {
    "ExecuteTime": {
     "end_time": "2019-11-02T01:13:07.066503Z",
     "start_time": "2019-11-02T01:13:06.976890Z"
    }
   },
   "outputs": [],
   "source": [
    "save_loc = DATA_DIR / 'models' / network_type / DATASET_ID\n",
    "\n",
    "ensure_dir(save_loc)\n",
    "\n",
    "# Save the entire model to a HDF5 file.\n",
    "# The '.h5' extension indicates that the model shuold be saved to HDF5.\n",
    "#model.save_weights((save_loc / (str(epoch).zfill(4))).as_posix()) \n",
    "\n",
    "# Recreate the exact same model, including its weights and the optimizer\n",
    "#new_model = tf.keras.models.load_model('my_model.h5')\n",
    "\n",
    "#model.load_weights('/local/home/tsainbur/github_repos/avgn_paper/data/models/AE/european_starling_gentner_segmented/0347') \n"
   ]
  },
  {
   "cell_type": "markdown",
   "metadata": {},
   "source": [
    "### J Diagram"
   ]
  },
  {
   "cell_type": "code",
   "execution_count": 27,
   "metadata": {
    "ExecuteTime": {
     "end_time": "2019-11-02T01:13:07.182336Z",
     "start_time": "2019-11-02T01:13:07.068544Z"
    }
   },
   "outputs": [],
   "source": [
    "gen_func =  model.decode\n",
    "interp_len = 5"
   ]
  },
  {
   "cell_type": "code",
   "execution_count": 28,
   "metadata": {
    "ExecuteTime": {
     "end_time": "2019-11-02T01:13:12.410805Z",
     "start_time": "2019-11-02T01:13:07.184509Z"
    }
   },
   "outputs": [],
   "source": [
    "from avgn.visualization.projections import scatter_spec\n",
    "from avgn.utils.general import save_fig\n",
    "from avgn.utils.paths import FIGURE_DIR, ensure_dir"
   ]
  },
  {
   "cell_type": "code",
   "execution_count": 29,
   "metadata": {
    "ExecuteTime": {
     "end_time": "2019-11-02T01:13:12.497915Z",
     "start_time": "2019-11-02T01:13:12.413791Z"
    }
   },
   "outputs": [],
   "source": [
    "ensure_dir(FIGURE_DIR / 'networks' / 'starling128')"
   ]
  },
  {
   "cell_type": "code",
   "execution_count": 30,
   "metadata": {
    "ExecuteTime": {
     "end_time": "2019-11-02T01:13:13.428195Z",
     "start_time": "2019-11-02T01:13:12.499997Z"
    }
   },
   "outputs": [
    {
     "ename": "ValueError",
     "evalue": "cannot reshape array of size 1024 into shape (1,128,128,1)",
     "output_type": "error",
     "traceback": [
      "\u001b[0;31m---------------------------------------------------------------------------\u001b[0m",
      "\u001b[0;31mAttributeError\u001b[0m                            Traceback (most recent call last)",
      "\u001b[0;32m/mnt/cube/tsainbur/conda_envs/tpy3/lib/python3.6/site-packages/numpy/core/fromnumeric.py\u001b[0m in \u001b[0;36m_wrapfunc\u001b[0;34m(obj, method, *args, **kwds)\u001b[0m\n\u001b[1;32m     50\u001b[0m     \u001b[0;32mtry\u001b[0m\u001b[0;34m:\u001b[0m\u001b[0;34m\u001b[0m\u001b[0;34m\u001b[0m\u001b[0m\n\u001b[0;32m---> 51\u001b[0;31m         \u001b[0;32mreturn\u001b[0m \u001b[0mgetattr\u001b[0m\u001b[0;34m(\u001b[0m\u001b[0mobj\u001b[0m\u001b[0;34m,\u001b[0m \u001b[0mmethod\u001b[0m\u001b[0;34m)\u001b[0m\u001b[0;34m(\u001b[0m\u001b[0;34m*\u001b[0m\u001b[0margs\u001b[0m\u001b[0;34m,\u001b[0m \u001b[0;34m**\u001b[0m\u001b[0mkwds\u001b[0m\u001b[0;34m)\u001b[0m\u001b[0;34m\u001b[0m\u001b[0;34m\u001b[0m\u001b[0m\n\u001b[0m\u001b[1;32m     52\u001b[0m \u001b[0;34m\u001b[0m\u001b[0m\n",
      "\u001b[0;31mAttributeError\u001b[0m: 'tensorflow.python.framework.ops.EagerTensor' object has no attribute 'reshape'",
      "\nDuring handling of the above exception, another exception occurred:\n",
      "\u001b[0;31mValueError\u001b[0m                                Traceback (most recent call last)",
      "\u001b[0;32m<ipython-input-30-318f0ecbd1ea>\u001b[0m in \u001b[0;36m<module>\u001b[0;34m\u001b[0m\n\u001b[1;32m      1\u001b[0m \u001b[0mdset_iter\u001b[0m \u001b[0;34m=\u001b[0m \u001b[0miter\u001b[0m\u001b[0;34m(\u001b[0m\u001b[0mdataset\u001b[0m\u001b[0;34m)\u001b[0m\u001b[0;34m\u001b[0m\u001b[0;34m\u001b[0m\u001b[0m\n\u001b[0;32m----> 2\u001b[0;31m \u001b[0mx1\u001b[0m \u001b[0;34m=\u001b[0m \u001b[0mnp\u001b[0m\u001b[0;34m.\u001b[0m\u001b[0mreshape\u001b[0m\u001b[0;34m(\u001b[0m\u001b[0mnext\u001b[0m\u001b[0;34m(\u001b[0m\u001b[0mdset_iter\u001b[0m\u001b[0;34m)\u001b[0m\u001b[0;34m[\u001b[0m\u001b[0;36m0\u001b[0m\u001b[0;34m]\u001b[0m \u001b[0;34m/\u001b[0m \u001b[0;36m255\u001b[0m\u001b[0;34m,\u001b[0m \u001b[0;34m(\u001b[0m\u001b[0;36m1\u001b[0m\u001b[0;34m,\u001b[0m\u001b[0;36m128\u001b[0m\u001b[0;34m,\u001b[0m\u001b[0;36m128\u001b[0m\u001b[0;34m,\u001b[0m\u001b[0;36m1\u001b[0m\u001b[0;34m)\u001b[0m\u001b[0;34m)\u001b[0m\u001b[0;34m\u001b[0m\u001b[0;34m\u001b[0m\u001b[0m\n\u001b[0m\u001b[1;32m      3\u001b[0m \u001b[0mx2\u001b[0m \u001b[0;34m=\u001b[0m \u001b[0mnp\u001b[0m\u001b[0;34m.\u001b[0m\u001b[0mreshape\u001b[0m\u001b[0;34m(\u001b[0m\u001b[0mnext\u001b[0m\u001b[0;34m(\u001b[0m\u001b[0mdset_iter\u001b[0m\u001b[0;34m)\u001b[0m\u001b[0;34m[\u001b[0m\u001b[0;36m0\u001b[0m\u001b[0;34m]\u001b[0m \u001b[0;34m/\u001b[0m \u001b[0;36m255\u001b[0m\u001b[0;34m,\u001b[0m \u001b[0;34m(\u001b[0m\u001b[0;36m1\u001b[0m\u001b[0;34m,\u001b[0m\u001b[0;36m128\u001b[0m\u001b[0;34m,\u001b[0m\u001b[0;36m128\u001b[0m\u001b[0;34m,\u001b[0m\u001b[0;36m1\u001b[0m\u001b[0;34m)\u001b[0m\u001b[0;34m)\u001b[0m\u001b[0;34m\u001b[0m\u001b[0;34m\u001b[0m\u001b[0m\n\u001b[1;32m      4\u001b[0m \u001b[0mx3\u001b[0m \u001b[0;34m=\u001b[0m \u001b[0mnp\u001b[0m\u001b[0;34m.\u001b[0m\u001b[0mreshape\u001b[0m\u001b[0;34m(\u001b[0m\u001b[0mnext\u001b[0m\u001b[0;34m(\u001b[0m\u001b[0mdset_iter\u001b[0m\u001b[0;34m)\u001b[0m\u001b[0;34m[\u001b[0m\u001b[0;36m0\u001b[0m\u001b[0;34m]\u001b[0m \u001b[0;34m/\u001b[0m \u001b[0;36m255\u001b[0m\u001b[0;34m,\u001b[0m \u001b[0;34m(\u001b[0m\u001b[0;36m1\u001b[0m\u001b[0;34m,\u001b[0m\u001b[0;36m128\u001b[0m\u001b[0;34m,\u001b[0m\u001b[0;36m128\u001b[0m\u001b[0;34m,\u001b[0m\u001b[0;36m1\u001b[0m\u001b[0;34m)\u001b[0m\u001b[0;34m)\u001b[0m\u001b[0;34m\u001b[0m\u001b[0;34m\u001b[0m\u001b[0m\n\u001b[1;32m      5\u001b[0m \u001b[0mexdat\u001b[0m \u001b[0;34m=\u001b[0m \u001b[0mnp\u001b[0m\u001b[0;34m.\u001b[0m\u001b[0mvstack\u001b[0m\u001b[0;34m(\u001b[0m\u001b[0;34m[\u001b[0m\u001b[0mx1\u001b[0m\u001b[0;34m,\u001b[0m \u001b[0mx2\u001b[0m\u001b[0;34m,\u001b[0m \u001b[0mx3\u001b[0m\u001b[0;34m]\u001b[0m\u001b[0;34m)\u001b[0m\u001b[0;34m\u001b[0m\u001b[0;34m\u001b[0m\u001b[0m\n",
      "\u001b[0;32m/mnt/cube/tsainbur/conda_envs/tpy3/lib/python3.6/site-packages/numpy/core/fromnumeric.py\u001b[0m in \u001b[0;36mreshape\u001b[0;34m(a, newshape, order)\u001b[0m\n\u001b[1;32m    277\u001b[0m            [5, 6]])\n\u001b[1;32m    278\u001b[0m     \"\"\"\n\u001b[0;32m--> 279\u001b[0;31m     \u001b[0;32mreturn\u001b[0m \u001b[0m_wrapfunc\u001b[0m\u001b[0;34m(\u001b[0m\u001b[0ma\u001b[0m\u001b[0;34m,\u001b[0m \u001b[0;34m'reshape'\u001b[0m\u001b[0;34m,\u001b[0m \u001b[0mnewshape\u001b[0m\u001b[0;34m,\u001b[0m \u001b[0morder\u001b[0m\u001b[0;34m=\u001b[0m\u001b[0morder\u001b[0m\u001b[0;34m)\u001b[0m\u001b[0;34m\u001b[0m\u001b[0;34m\u001b[0m\u001b[0m\n\u001b[0m\u001b[1;32m    280\u001b[0m \u001b[0;34m\u001b[0m\u001b[0m\n\u001b[1;32m    281\u001b[0m \u001b[0;34m\u001b[0m\u001b[0m\n",
      "\u001b[0;32m/mnt/cube/tsainbur/conda_envs/tpy3/lib/python3.6/site-packages/numpy/core/fromnumeric.py\u001b[0m in \u001b[0;36m_wrapfunc\u001b[0;34m(obj, method, *args, **kwds)\u001b[0m\n\u001b[1;32m     59\u001b[0m     \u001b[0;31m# a downstream library like 'pandas'.\u001b[0m\u001b[0;34m\u001b[0m\u001b[0;34m\u001b[0m\u001b[0;34m\u001b[0m\u001b[0m\n\u001b[1;32m     60\u001b[0m     \u001b[0;32mexcept\u001b[0m \u001b[0;34m(\u001b[0m\u001b[0mAttributeError\u001b[0m\u001b[0;34m,\u001b[0m \u001b[0mTypeError\u001b[0m\u001b[0;34m)\u001b[0m\u001b[0;34m:\u001b[0m\u001b[0;34m\u001b[0m\u001b[0;34m\u001b[0m\u001b[0m\n\u001b[0;32m---> 61\u001b[0;31m         \u001b[0;32mreturn\u001b[0m \u001b[0m_wrapit\u001b[0m\u001b[0;34m(\u001b[0m\u001b[0mobj\u001b[0m\u001b[0;34m,\u001b[0m \u001b[0mmethod\u001b[0m\u001b[0;34m,\u001b[0m \u001b[0;34m*\u001b[0m\u001b[0margs\u001b[0m\u001b[0;34m,\u001b[0m \u001b[0;34m**\u001b[0m\u001b[0mkwds\u001b[0m\u001b[0;34m)\u001b[0m\u001b[0;34m\u001b[0m\u001b[0;34m\u001b[0m\u001b[0m\n\u001b[0m\u001b[1;32m     62\u001b[0m \u001b[0;34m\u001b[0m\u001b[0m\n\u001b[1;32m     63\u001b[0m \u001b[0;34m\u001b[0m\u001b[0m\n",
      "\u001b[0;32m/mnt/cube/tsainbur/conda_envs/tpy3/lib/python3.6/site-packages/numpy/core/fromnumeric.py\u001b[0m in \u001b[0;36m_wrapit\u001b[0;34m(obj, method, *args, **kwds)\u001b[0m\n\u001b[1;32m     39\u001b[0m     \u001b[0;32mexcept\u001b[0m \u001b[0mAttributeError\u001b[0m\u001b[0;34m:\u001b[0m\u001b[0;34m\u001b[0m\u001b[0;34m\u001b[0m\u001b[0m\n\u001b[1;32m     40\u001b[0m         \u001b[0mwrap\u001b[0m \u001b[0;34m=\u001b[0m \u001b[0;32mNone\u001b[0m\u001b[0;34m\u001b[0m\u001b[0;34m\u001b[0m\u001b[0m\n\u001b[0;32m---> 41\u001b[0;31m     \u001b[0mresult\u001b[0m \u001b[0;34m=\u001b[0m \u001b[0mgetattr\u001b[0m\u001b[0;34m(\u001b[0m\u001b[0masarray\u001b[0m\u001b[0;34m(\u001b[0m\u001b[0mobj\u001b[0m\u001b[0;34m)\u001b[0m\u001b[0;34m,\u001b[0m \u001b[0mmethod\u001b[0m\u001b[0;34m)\u001b[0m\u001b[0;34m(\u001b[0m\u001b[0;34m*\u001b[0m\u001b[0margs\u001b[0m\u001b[0;34m,\u001b[0m \u001b[0;34m**\u001b[0m\u001b[0mkwds\u001b[0m\u001b[0;34m)\u001b[0m\u001b[0;34m\u001b[0m\u001b[0;34m\u001b[0m\u001b[0m\n\u001b[0m\u001b[1;32m     42\u001b[0m     \u001b[0;32mif\u001b[0m \u001b[0mwrap\u001b[0m\u001b[0;34m:\u001b[0m\u001b[0;34m\u001b[0m\u001b[0;34m\u001b[0m\u001b[0m\n\u001b[1;32m     43\u001b[0m         \u001b[0;32mif\u001b[0m \u001b[0;32mnot\u001b[0m \u001b[0misinstance\u001b[0m\u001b[0;34m(\u001b[0m\u001b[0mresult\u001b[0m\u001b[0;34m,\u001b[0m \u001b[0mmu\u001b[0m\u001b[0;34m.\u001b[0m\u001b[0mndarray\u001b[0m\u001b[0;34m)\u001b[0m\u001b[0;34m:\u001b[0m\u001b[0;34m\u001b[0m\u001b[0;34m\u001b[0m\u001b[0m\n",
      "\u001b[0;31mValueError\u001b[0m: cannot reshape array of size 1024 into shape (1,128,128,1)"
     ]
    }
   ],
   "source": [
    "dset_iter = iter(dataset)\n",
    "x1 = np.reshape(next(dset_iter)[0] / 255, (1,128,128,1))\n",
    "x2 = np.reshape(next(dset_iter)[0] / 255, (1,128,128,1))\n",
    "x3 = np.reshape(next(dset_iter)[0] / 255, (1,128,128,1))\n",
    "exdat = np.vstack([x1, x2, x3])"
   ]
  },
  {
   "cell_type": "code",
   "execution_count": null,
   "metadata": {
    "ExecuteTime": {
     "end_time": "2019-11-02T01:13:13.431516Z",
     "start_time": "2019-11-01T20:14:35.131Z"
    }
   },
   "outputs": [],
   "source": [
    "fig, axs = plt.subplots(ncols=3, figsize=(15,5))\n",
    "axs[0].matshow(np.squeeze(x1), origin='lower')\n",
    "axs[1].matshow(np.squeeze(x2), origin='lower')\n",
    "axs[2].matshow(np.squeeze(x3), origin='lower')"
   ]
  },
  {
   "cell_type": "code",
   "execution_count": null,
   "metadata": {
    "ExecuteTime": {
     "end_time": "2019-11-02T01:13:13.432977Z",
     "start_time": "2019-11-01T20:14:35.133Z"
    }
   },
   "outputs": [],
   "source": [
    "(pt1, pt2, pt3), _  = model.encode(exdat)"
   ]
  },
  {
   "cell_type": "code",
   "execution_count": null,
   "metadata": {
    "ExecuteTime": {
     "end_time": "2019-11-02T01:13:13.434604Z",
     "start_time": "2019-11-01T20:14:35.134Z"
    }
   },
   "outputs": [],
   "source": [
    "xr1, xr2, xr3 = model.decode(np.vstack([pt1, pt2, pt3]),apply_sigmoid=True)"
   ]
  },
  {
   "cell_type": "code",
   "execution_count": null,
   "metadata": {
    "ExecuteTime": {
     "end_time": "2019-11-02T01:13:13.436053Z",
     "start_time": "2019-11-01T20:14:35.135Z"
    }
   },
   "outputs": [],
   "source": [
    "fig, axs = plt.subplots(ncols=3, figsize=(15,5))\n",
    "axs[0].matshow(np.squeeze(xr1.numpy()), origin='lower')\n",
    "axs[1].matshow(np.squeeze(xr2.numpy()), origin='lower')\n",
    "axs[2].matshow(np.squeeze(xr3.numpy()), origin='lower')"
   ]
  },
  {
   "cell_type": "code",
   "execution_count": null,
   "metadata": {
    "ExecuteTime": {
     "end_time": "2019-11-02T01:13:13.437617Z",
     "start_time": "2019-11-01T20:14:35.136Z"
    }
   },
   "outputs": [],
   "source": [
    "# pt1x,pt2x,pt3x =gen_func(tf.stack([pt1,pt2,pt3]))\n",
    "\n",
    "# get proportions\n",
    "z_list = []\n",
    "for ci, C in enumerate(np.linspace(0, 1, interp_len)):\n",
    "    for bi, B in enumerate(np.linspace(0, 1, interp_len)):\n",
    "        A = 1 - C - B\n",
    "        z_list.append(C * pt1 + B * pt2 + A * pt3)\n",
    "z_list = np.vstack(z_list)\n",
    "# get X\n",
    "x_list = gen_func(z_list, apply_sigmoid = True).numpy()\n",
    "\n",
    "# make diagram\n",
    "Jdiagram = np.ones(\n",
    "    (\n",
    "        x_list.shape[1] * (interp_len),\n",
    "        x_list.shape[2] * (interp_len + 2),\n",
    "        x_list.shape[3],\n",
    "    )\n",
    ")\n",
    "np.shape(Jdiagram)\n",
    "\n",
    "# populate\n",
    "i = 0\n",
    "for ci, C in enumerate(np.linspace(0, 1, interp_len)):\n",
    "    for bi, B in enumerate(np.linspace(0, 1, interp_len)):\n",
    "        Jdiagram[\n",
    "            (interp_len - 1 - bi)\n",
    "            * x_list.shape[1] : ((interp_len - bi))\n",
    "            * x_list.shape[1],\n",
    "            (ci + 1) * x_list.shape[2] : (ci + 2) * x_list.shape[2],\n",
    "            :,\n",
    "        ] = x_list[i]\n",
    "        i += 1\n",
    "Jdiagram[\n",
    "    (interp_len - 1) * x_list.shape[1] : (interp_len) * x_list.shape[1],\n",
    "    : x_list.shape[2],\n",
    "    :,\n",
    "] = x3\n",
    "\n",
    "Jdiagram[\n",
    "    (interp_len - 1) * x_list.shape[1] : (interp_len) * x_list.shape[1],\n",
    "    (interp_len + 1) * x_list.shape[2] : (interp_len + 2) * x_list.shape[2],\n",
    "    :,\n",
    "] = x1\n",
    "\n",
    "Jdiagram[: x_list.shape[1], : x_list.shape[2], :] = x2"
   ]
  },
  {
   "cell_type": "code",
   "execution_count": null,
   "metadata": {
    "ExecuteTime": {
     "end_time": "2019-11-02T01:13:13.439036Z",
     "start_time": "2019-11-01T20:14:35.137Z"
    }
   },
   "outputs": [],
   "source": [
    "fig, ax = plt.subplots(figsize=(10,10))\n",
    "ax.matshow(np.squeeze(Jdiagram), vmin = 0, cmap=plt.cm.afmhot, origin = 'lower')\n",
    "ax.axis('off')\n",
    "#save_fig(FIGURE_DIR / 'networks' / 'starling128'/ ('AE_JDiagram_2'), dpi=300, save_jpg=True)"
   ]
  },
  {
   "cell_type": "code",
   "execution_count": null,
   "metadata": {},
   "outputs": [],
   "source": []
  },
  {
   "cell_type": "code",
   "execution_count": null,
   "metadata": {},
   "outputs": [],
   "source": []
  },
  {
   "cell_type": "code",
   "execution_count": null,
   "metadata": {
    "ExecuteTime": {
     "end_time": "2019-11-02T01:13:13.440501Z",
     "start_time": "2019-11-01T20:14:35.140Z"
    }
   },
   "outputs": [],
   "source": [
    "losses[-3:]"
   ]
  },
  {
   "cell_type": "markdown",
   "metadata": {},
   "source": [
    "### Plot samples from latent"
   ]
  },
  {
   "cell_type": "code",
   "execution_count": null,
   "metadata": {
    "ExecuteTime": {
     "end_time": "2019-11-02T01:13:13.441955Z",
     "start_time": "2019-11-01T20:14:35.142Z"
    }
   },
   "outputs": [],
   "source": [
    "z = tf.split(model.enc(example_data), num_or_size_splits=2, axis=1)[0].numpy()\n",
    "z = tf.split(model.enc(example_data), num_or_size_splits=2, axis=1)[0].numpy()\n",
    "plt.hist(z.flatten())\n",
    "plt.show()"
   ]
  },
  {
   "cell_type": "code",
   "execution_count": null,
   "metadata": {
    "ExecuteTime": {
     "end_time": "2019-10-31T22:02:13.090081Z",
     "start_time": "2019-10-31T22:02:12.671877Z"
    }
   },
   "outputs": [],
   "source": []
  },
  {
   "cell_type": "code",
   "execution_count": null,
   "metadata": {
    "ExecuteTime": {
     "end_time": "2019-11-02T01:13:13.443381Z",
     "start_time": "2019-11-01T20:14:35.144Z"
    }
   },
   "outputs": [],
   "source": [
    "np.shape(z)"
   ]
  },
  {
   "cell_type": "code",
   "execution_count": null,
   "metadata": {
    "ExecuteTime": {
     "end_time": "2019-11-02T01:13:13.444826Z",
     "start_time": "2019-11-01T20:14:35.145Z"
    }
   },
   "outputs": [],
   "source": [
    "np.max(z)"
   ]
  },
  {
   "cell_type": "code",
   "execution_count": null,
   "metadata": {
    "ExecuteTime": {
     "end_time": "2019-11-02T01:13:13.446250Z",
     "start_time": "2019-11-01T20:14:35.146Z"
    }
   },
   "outputs": [],
   "source": [
    "xmax, ymax = np.max(z, axis=0)\n",
    "xmin, ymin = np.min(z, axis=0)\n",
    "print(xmax, ymax, xmin, ymin)"
   ]
  },
  {
   "cell_type": "code",
   "execution_count": null,
   "metadata": {
    "ExecuteTime": {
     "end_time": "2019-11-02T01:13:13.447782Z",
     "start_time": "2019-11-01T20:14:35.148Z"
    }
   },
   "outputs": [],
   "source": [
    "# sample from grid\n",
    "nx = ny= 20\n",
    "meshgrid = np.meshgrid(np.linspace(xmin, xmax, nx), np.linspace(ymin, ymax, ny))\n",
    "meshgrid = np.array(meshgrid).reshape(2, nx*ny).T\n",
    "x_grid = model.decode(meshgrid)\n",
    "x_grid = x_grid.numpy().reshape(nx, ny, DIMS[0], DIMS[1], DIMS[2])\n",
    "# fill canvas\n",
    "canvas = np.zeros((nx*DIMS[0], ny*DIMS[1]))\n",
    "for xi in range(nx):\n",
    "    for yi in range(ny):\n",
    "        canvas[xi*DIMS[0]:xi*DIMS[0]+DIMS[0], yi*DIMS[1]:yi*DIMS[1]+DIMS[1]] = x_grid[xi, yi,:,:,:].squeeze()\n",
    "fig, ax = plt.subplots(figsize=(15,10))\n",
    "ax.matshow(canvas, vmin = 0, cmap=plt.cm.Greys, origin = 'lower')\n",
    "ax.axis('off')"
   ]
  },
  {
   "cell_type": "markdown",
   "metadata": {},
   "source": [
    "###  plot dataset "
   ]
  },
  {
   "cell_type": "code",
   "execution_count": null,
   "metadata": {
    "ExecuteTime": {
     "end_time": "2019-11-02T01:13:13.449538Z",
     "start_time": "2019-11-01T20:14:35.149Z"
    }
   },
   "outputs": [],
   "source": [
    "all_x = []\n",
    "all_z = []\n",
    "all_indv = []\n",
    "all_labels = []\n",
    "for bi, (batch, train_x) in tqdm(\n",
    "    enumerate(zip(range(N_TRAIN_BATCHES), train_dataset)), total=N_TRAIN_BATCHES\n",
    "):\n",
    "    x = train_x[0]\n",
    "    all_x.append(x)\n",
    "    x = tf.cast(tf.reshape(x, [BATCH_SIZE] + list(DIMS)), tf.float32) / 255\n",
    "    #model.train_net(x)\n",
    "    z = tf.split(model.enc(x), num_or_size_splits=2, axis=1)[0].numpy()\n",
    "    #z = model.encode(example_data).sample().numpy()\n",
    "    all_z.append(z)\n",
    "    all_indv.append(train_x[3].numpy())\n",
    "    all_labels.append(train_x[2].numpy())\n",
    "    if bi > 100: break\n",
    "all_z = np.vstack(all_z)\n",
    "all_indv = np.concatenate(all_indv)\n",
    "all_labels = np.concatenate(all_labels)\n",
    "all_x = np.concatenate(all_x)\n",
    "all_x = np.reshape(all_x, [len(all_x)] + list(DIMS[:2]))"
   ]
  },
  {
   "cell_type": "code",
   "execution_count": null,
   "metadata": {
    "ExecuteTime": {
     "end_time": "2019-11-02T01:13:13.451127Z",
     "start_time": "2019-11-01T20:14:35.151Z"
    }
   },
   "outputs": [],
   "source": [
    "from avgn.visualization.projections import scatter_spec"
   ]
  },
  {
   "cell_type": "code",
   "execution_count": null,
   "metadata": {
    "ExecuteTime": {
     "end_time": "2019-11-02T01:13:13.452595Z",
     "start_time": "2019-11-01T20:14:35.152Z"
    }
   },
   "outputs": [],
   "source": [
    "np.shape(all_z)"
   ]
  },
  {
   "cell_type": "code",
   "execution_count": null,
   "metadata": {
    "ExecuteTime": {
     "end_time": "2019-11-02T01:13:13.454067Z",
     "start_time": "2019-11-01T20:14:35.154Z"
    }
   },
   "outputs": [],
   "source": [
    "plt.scatter(all_z[:,0], all_z[:,1], s=1, c='k', alpha=0.01)"
   ]
  },
  {
   "cell_type": "code",
   "execution_count": null,
   "metadata": {
    "ExecuteTime": {
     "end_time": "2019-11-02T01:13:13.455560Z",
     "start_time": "2019-11-01T20:14:35.155Z"
    }
   },
   "outputs": [],
   "source": [
    "scatter_spec(\n",
    "        np.vstack(all_z),\n",
    "        all_x,\n",
    "        column_size=15,\n",
    "        x_range = [-4,4],\n",
    "        y_range = [-4,4],\n",
    "        pal_color=\"hls\",\n",
    "        color_points=False,\n",
    "        enlarge_points=20,\n",
    "        figsize=(10, 10),\n",
    "        scatter_kwargs = {\n",
    "            'labels': list(all_labels),\n",
    "            'alpha':0.25,\n",
    "            's': 1,\n",
    "            'show_legend': False\n",
    "        },\n",
    "        matshow_kwargs = {\n",
    "            'cmap': plt.cm.Greys\n",
    "        },\n",
    "        line_kwargs = {\n",
    "            'lw':1,\n",
    "            'ls':\"solid\",\n",
    "            'alpha':0.25,\n",
    "        },\n",
    "        draw_lines=True\n",
    ");"
   ]
  },
  {
   "cell_type": "code",
   "execution_count": null,
   "metadata": {},
   "outputs": [],
   "source": []
  }
 ],
 "metadata": {
  "kernelspec": {
   "display_name": "Python 3",
   "language": "python",
   "name": "python3"
  },
  "language_info": {
   "codemirror_mode": {
    "name": "ipython",
    "version": 3
   },
   "file_extension": ".py",
   "mimetype": "text/x-python",
   "name": "python",
   "nbconvert_exporter": "python",
   "pygments_lexer": "ipython3",
   "version": "3.6.7"
  }
 },
 "nbformat": 4,
 "nbformat_minor": 2
}
