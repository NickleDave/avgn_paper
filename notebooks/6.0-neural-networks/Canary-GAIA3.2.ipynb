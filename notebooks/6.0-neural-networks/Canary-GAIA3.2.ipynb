{
 "cells": [
  {
   "cell_type": "code",
   "execution_count": 1,
   "metadata": {
    "ExecuteTime": {
     "end_time": "2019-10-25T20:13:04.643225Z",
     "start_time": "2019-10-25T20:13:04.621275Z"
    }
   },
   "outputs": [],
   "source": [
    "%load_ext autoreload\n",
    "%autoreload 2"
   ]
  },
  {
   "cell_type": "code",
   "execution_count": 2,
   "metadata": {
    "ExecuteTime": {
     "end_time": "2019-10-25T20:13:04.717367Z",
     "start_time": "2019-10-25T20:13:04.645100Z"
    }
   },
   "outputs": [
    {
     "name": "stdout",
     "output_type": "stream",
     "text": [
      "env: CUDA_DEVICE_ORDER=PCI_BUS_ID\n",
      "env: CUDA_VISIBLE_DEVICES=3\n"
     ]
    }
   ],
   "source": [
    "%env CUDA_DEVICE_ORDER=PCI_BUS_ID\n",
    "%env CUDA_VISIBLE_DEVICES=3"
   ]
  },
  {
   "cell_type": "code",
   "execution_count": 3,
   "metadata": {
    "ExecuteTime": {
     "end_time": "2019-10-25T20:13:15.827036Z",
     "start_time": "2019-10-25T20:13:04.719063Z"
    }
   },
   "outputs": [
    {
     "name": "stderr",
     "output_type": "stream",
     "text": [
      "/mnt/cube/tsainbur/conda_envs/tpy3/lib/python3.6/site-packages/tqdm/autonotebook/__init__.py:14: TqdmExperimentalWarning: Using `tqdm.autonotebook.tqdm` in notebook mode. Use `tqdm.tqdm` instead to force console mode (e.g. in jupyter console)\n",
      "  \" (e.g. in jupyter console)\", TqdmExperimentalWarning)\n"
     ]
    }
   ],
   "source": [
    "from avgn.utils.paths import DATA_DIR, most_recent_subdirectory, ensure_dir\n",
    "from avgn.tensorflow.data import _parse_function"
   ]
  },
  {
   "cell_type": "code",
   "execution_count": 4,
   "metadata": {
    "ExecuteTime": {
     "end_time": "2019-10-25T20:13:16.617899Z",
     "start_time": "2019-10-25T20:13:15.829532Z"
    }
   },
   "outputs": [],
   "source": [
    "import tensorflow as tf\n",
    "import numpy as np\n",
    "import matplotlib.pyplot as plt\n",
    "from tqdm.autonotebook import tqdm\n",
    "%matplotlib inline\n",
    "from IPython import display\n",
    "import pandas as pd\n",
    "\n",
    "# the nightly build of tensorflow_probability is required as of the time of writing this \n",
    "import tensorflow_probability as tfp\n",
    "ds = tfp.distributions"
   ]
  },
  {
   "cell_type": "code",
   "execution_count": 5,
   "metadata": {
    "ExecuteTime": {
     "end_time": "2019-10-25T20:13:16.692006Z",
     "start_time": "2019-10-25T20:13:16.620381Z"
    }
   },
   "outputs": [
    {
     "name": "stdout",
     "output_type": "stream",
     "text": [
      "2.0.0-beta1 0.7.0-dev20190510 /mnt/cube/tsainbur/conda_envs/tpy3/lib/python3.6/site-packages/tensorflow/__init__.py\n"
     ]
    }
   ],
   "source": [
    "print(tf.__version__, tfp.__version__, tf.__file__)"
   ]
  },
  {
   "cell_type": "code",
   "execution_count": 6,
   "metadata": {
    "ExecuteTime": {
     "end_time": "2019-10-25T20:13:16.799727Z",
     "start_time": "2019-10-25T20:13:16.694057Z"
    }
   },
   "outputs": [],
   "source": [
    "TRAIN_SIZE=482608\n",
    "BATCH_SIZE=512\n",
    "TEST_SIZE=10000\n",
    "DIMS = (32, 24, 1)\n",
    "N_TRAIN_BATCHES =int((TRAIN_SIZE-TEST_SIZE)/BATCH_SIZE)\n",
    "N_TEST_BATCHES = int(TEST_SIZE/BATCH_SIZE)\n",
    "TRAIN_BUF = 1000\n",
    "TEST_BUF = 1000"
   ]
  },
  {
   "cell_type": "code",
   "execution_count": 7,
   "metadata": {
    "ExecuteTime": {
     "end_time": "2019-10-25T20:13:16.891298Z",
     "start_time": "2019-10-25T20:13:16.801693Z"
    }
   },
   "outputs": [],
   "source": [
    "network_type = 'AE'"
   ]
  },
  {
   "cell_type": "code",
   "execution_count": 8,
   "metadata": {
    "ExecuteTime": {
     "end_time": "2019-10-25T20:13:16.982904Z",
     "start_time": "2019-10-25T20:13:16.893478Z"
    }
   },
   "outputs": [],
   "source": [
    "DATASET_ID = 'canary_segmented'"
   ]
  },
  {
   "cell_type": "code",
   "execution_count": 9,
   "metadata": {
    "ExecuteTime": {
     "end_time": "2019-10-25T20:13:17.074639Z",
     "start_time": "2019-10-25T20:13:16.985033Z"
    }
   },
   "outputs": [],
   "source": [
    "record_loc = DATA_DIR / 'tfrecords' / \"canary_32x24.tfrecord\""
   ]
  },
  {
   "cell_type": "code",
   "execution_count": 10,
   "metadata": {
    "ExecuteTime": {
     "end_time": "2019-10-25T20:13:18.747368Z",
     "start_time": "2019-10-25T20:13:17.076560Z"
    }
   },
   "outputs": [],
   "source": [
    "# read the dataset\n",
    "raw_dataset = tf.data.TFRecordDataset([record_loc.as_posix()])"
   ]
  },
  {
   "cell_type": "code",
   "execution_count": 11,
   "metadata": {
    "ExecuteTime": {
     "end_time": "2019-10-25T20:13:18.820290Z",
     "start_time": "2019-10-25T20:13:18.749617Z"
    }
   },
   "outputs": [],
   "source": [
    "data_types = {\n",
    "    \"spectrogram\": tf.uint8,\n",
    "    \"index\": tf.int64,\n",
    "    \"phrase\": tf.int64,\n",
    "    \"indv\": tf.string,\n",
    "}"
   ]
  },
  {
   "cell_type": "code",
   "execution_count": 12,
   "metadata": {
    "ExecuteTime": {
     "end_time": "2019-10-25T20:13:18.926622Z",
     "start_time": "2019-10-25T20:13:18.822408Z"
    }
   },
   "outputs": [],
   "source": [
    "# parse each data type to the raw dataset\n",
    "dataset = raw_dataset.map(lambda x: _parse_function(x, data_types=data_types))"
   ]
  },
  {
   "cell_type": "code",
   "execution_count": 13,
   "metadata": {
    "ExecuteTime": {
     "end_time": "2019-10-25T20:13:19.016681Z",
     "start_time": "2019-10-25T20:13:18.928567Z"
    }
   },
   "outputs": [],
   "source": [
    "spec, index, phrase, indv  = next(iter(dataset))"
   ]
  },
  {
   "cell_type": "code",
   "execution_count": 14,
   "metadata": {
    "ExecuteTime": {
     "end_time": "2019-10-25T20:13:20.892277Z",
     "start_time": "2019-10-25T20:13:19.029484Z"
    }
   },
   "outputs": [
    {
     "data": {
      "text/plain": [
       "<matplotlib.image.AxesImage at 0x7f82d009eeb8>"
      ]
     },
     "execution_count": 14,
     "metadata": {},
     "output_type": "execute_result"
    },
    {
     "data": {
      "image/png": "[encoded data removed]",
      "text/plain": [
       "<Figure size 288x384 with 1 Axes>"
      ]
     },
     "metadata": {
      "needs_background": "light"
     },
     "output_type": "display_data"
    }
   ],
   "source": [
    "plt.matshow(spec.numpy().reshape(DIMS).squeeze())"
   ]
  },
  {
   "cell_type": "code",
   "execution_count": 15,
   "metadata": {
    "ExecuteTime": {
     "end_time": "2019-10-25T20:13:21.014579Z",
     "start_time": "2019-10-25T20:13:20.897904Z"
    }
   },
   "outputs": [],
   "source": [
    "test_dataset = dataset.take(TEST_SIZE).shuffle(TEST_BUF).batch(BATCH_SIZE)\n",
    "train_dataset = dataset.skip(TEST_SIZE).take(TRAIN_SIZE-TEST_SIZE).shuffle(TEST_BUF).batch(BATCH_SIZE)"
   ]
  },
  {
   "cell_type": "code",
   "execution_count": 16,
   "metadata": {
    "ExecuteTime": {
     "end_time": "2019-10-25T20:13:21.176347Z",
     "start_time": "2019-10-25T20:13:21.018639Z"
    }
   },
   "outputs": [],
   "source": [
    "N_Z = 128\n",
    "\n",
    "def unet_convblock_down(\n",
    "    _input,\n",
    "    channels=16,\n",
    "    kernel=(3, 3),\n",
    "    activation=tf.nn.leaky_relu,\n",
    "    pool_size=(2, 2),\n",
    "    kernel_initializer=\"he_normal\",\n",
    "):\n",
    "    \"\"\" An upsampling convolutional block for a UNET\n",
    "    \"\"\"\n",
    "    conv = tf.keras.layers.Conv2D(\n",
    "        channels,\n",
    "        kernel,\n",
    "        activation=activation,\n",
    "        padding=\"same\",\n",
    "        kernel_initializer=kernel_initializer,\n",
    "    )(_input)\n",
    "    conv = tf.keras.layers.Conv2D(\n",
    "        channels,\n",
    "        kernel,\n",
    "        activation=activation,\n",
    "        padding=\"same\",\n",
    "        kernel_initializer=kernel_initializer,\n",
    "    )(conv)\n",
    "    pool = tf.keras.layers.MaxPooling2D(pool_size=pool_size)(conv)\n",
    "    return conv, pool\n",
    "\n",
    "\n",
    "def unet_convblock_up(\n",
    "    last_conv,\n",
    "    cross_conv,\n",
    "    channels=16,\n",
    "    kernel=(3, 3),\n",
    "    activation=tf.nn.leaky_relu,\n",
    "    pool_size=(2, 2),\n",
    "    kernel_initializer=\"he_normal\",\n",
    "):\n",
    "    \"\"\" A downsampling convolutional block for a UNET\n",
    "    \"\"\"\n",
    "\n",
    "    up_conv = tf.keras.layers.UpSampling2D(size=(2, 2))(last_conv)\n",
    "    merge = tf.keras.layers.concatenate([up_conv, cross_conv], axis=3)\n",
    "    conv = tf.keras.layers.Conv2D(\n",
    "        channels,\n",
    "        kernel,\n",
    "        activation=activation,\n",
    "        padding=\"same\",\n",
    "        kernel_initializer=kernel_initializer,\n",
    "    )(merge)\n",
    "    conv = tf.keras.layers.Conv2D(\n",
    "        channels,\n",
    "        kernel,\n",
    "        activation=activation,\n",
    "        padding=\"same\",\n",
    "        kernel_initializer=kernel_initializer,\n",
    "    )(conv)\n",
    "    return conv\n",
    "\n",
    "\n",
    "def unet_canary():\n",
    "    \"\"\" the architecture for a UNET specific to MNIST\n",
    "    \"\"\"\n",
    "    inputs = tf.keras.layers.Input(shape=(32, 24, 1))\n",
    "    up_1, pool_1 = unet_convblock_down(inputs, channels=32)\n",
    "    up_2, pool_2 = unet_convblock_down(pool_1, channels=64)\n",
    "    up_3, pool_3 = unet_convblock_down(pool_2, channels=128)\n",
    "    conv_middle = tf.keras.layers.Conv2D(\n",
    "        128, (3, 3), activation=tf.nn.leaky_relu, kernel_initializer=\"he_normal\", padding=\"same\"\n",
    "    )(pool_3)\n",
    "    conv_middle = tf.keras.layers.Conv2D(\n",
    "        128, (3, 3), activation=tf.nn.leaky_relu, kernel_initializer=\"he_normal\", padding=\"same\"\n",
    "    )(conv_middle)\n",
    "    down_3 = unet_convblock_up(conv_middle, up_3, channels=128)\n",
    "    down_2 = unet_convblock_up(down_3, up_2, channels=64)\n",
    "    down_1 = unet_convblock_up(down_2, up_1, channels=32)\n",
    "    outputs = tf.keras.layers.Conv2D(1, (1, 1), activation=\"tanh\")(down_1)\n",
    "    return inputs, outputs\n",
    "\n",
    "\n",
    "encoder = [\n",
    "    tf.keras.layers.InputLayer(input_shape=DIMS),\n",
    "    tf.keras.layers.Conv2D(\n",
    "        filters=32, kernel_size=3, strides=(2, 2), activation=tf.nn.leaky_relu\n",
    "    ),\n",
    "    tf.keras.layers.Conv2D(\n",
    "        filters=64, kernel_size=3, strides=(2, 2), activation=tf.nn.leaky_relu\n",
    "    ),\n",
    "    tf.keras.layers.Conv2D(\n",
    "        filters=128, kernel_size=3, strides=(2, 2), activation=tf.nn.leaky_relu\n",
    "    ),\n",
    "    tf.keras.layers.Flatten(),\n",
    "    tf.keras.layers.Dense(units=N_Z),\n",
    "]\n",
    "\n",
    "decoder = [\n",
    "    tf.keras.layers.Dense(units=4 * 3 * 256, activation=tf.nn.leaky_relu),\n",
    "    tf.keras.layers.Reshape(target_shape=(4, 3, 256)),\n",
    "    tf.keras.layers.Conv2DTranspose(\n",
    "        filters=128, kernel_size=3, strides=(2, 2), padding=\"SAME\", activation=tf.nn.leaky_relu\n",
    "    ),\n",
    "    tf.keras.layers.Conv2DTranspose(\n",
    "        filters=64, kernel_size=3, strides=(2, 2), padding=\"SAME\", activation=tf.nn.leaky_relu\n",
    "    ),\n",
    "    tf.keras.layers.Conv2DTranspose(\n",
    "        filters=32, kernel_size=3, strides=(2, 2), padding=\"SAME\", activation=tf.nn.leaky_relu\n",
    "    ),\n",
    "    tf.keras.layers.Conv2DTranspose(\n",
    "        filters=1, kernel_size=3, strides=(1, 1), padding=\"SAME\", activation=\"tanh\"\n",
    "    ),\n",
    "]"
   ]
  },
  {
   "cell_type": "code",
   "execution_count": 17,
   "metadata": {
    "ExecuteTime": {
     "end_time": "2019-10-25T20:13:21.282159Z",
     "start_time": "2019-10-25T20:13:21.178333Z"
    }
   },
   "outputs": [],
   "source": [
    "from avgn.tensorflow.GAIA3 import GAIA, plot_reconstruction"
   ]
  },
  {
   "cell_type": "code",
   "execution_count": 18,
   "metadata": {
    "ExecuteTime": {
     "end_time": "2019-10-25T20:13:21.388258Z",
     "start_time": "2019-10-25T20:13:21.285251Z"
    }
   },
   "outputs": [],
   "source": [
    "from tensorflow_probability.python.distributions import Chi2"
   ]
  },
  {
   "cell_type": "code",
   "execution_count": 19,
   "metadata": {
    "ExecuteTime": {
     "end_time": "2019-10-25T20:13:22.795311Z",
     "start_time": "2019-10-25T20:13:21.391029Z"
    }
   },
   "outputs": [],
   "source": [
    "# the unet function \n",
    "gen_optimizer = tf.keras.optimizers.Adam(1e-3, beta_1=0.5)\n",
    "disc_optimizer = tf.keras.optimizers.RMSprop(5e-4)\n",
    "    \n",
    "# model\n",
    "model = GAIA(\n",
    "    enc = encoder,\n",
    "    dec = decoder,\n",
    "    unet_function = unet_canary,\n",
    "    gen_optimizer=gen_optimizer,\n",
    "    disc_optimizer = disc_optimizer,\n",
    "    chsq = Chi2(df=1 / BATCH_SIZE)\n",
    ")"
   ]
  },
  {
   "cell_type": "code",
   "execution_count": 20,
   "metadata": {
    "ExecuteTime": {
     "end_time": "2019-10-25T20:13:22.966814Z",
     "start_time": "2019-10-25T20:13:22.798345Z"
    }
   },
   "outputs": [],
   "source": [
    "# exampled data for plotting results\n",
    "example_data = next(iter(test_dataset))\n",
    "example_data = (\n",
    "        tf.cast(tf.reshape(example_data[0], [BATCH_SIZE] + list(DIMS)), tf.float32)\n",
    "        / 255\n",
    ")"
   ]
  },
  {
   "cell_type": "code",
   "execution_count": 21,
   "metadata": {
    "ExecuteTime": {
     "end_time": "2019-10-25T20:13:28.294100Z",
     "start_time": "2019-10-25T20:13:22.968829Z"
    }
   },
   "outputs": [],
   "source": [
    "model.compute_loss(example_data);"
   ]
  },
  {
   "cell_type": "code",
   "execution_count": 22,
   "metadata": {
    "ExecuteTime": {
     "end_time": "2019-10-25T20:13:31.717962Z",
     "start_time": "2019-10-25T20:13:28.298151Z"
    },
    "scrolled": true
   },
   "outputs": [
    {
     "data": {
      "image/png": "[encoded data removed]",
      "text/plain": [
       "<Figure size 1296x1080 with 30 Axes>"
      ]
     },
     "metadata": {
      "needs_background": "light"
     },
     "output_type": "display_data"
    }
   ],
   "source": [
    "plot_reconstruction(model, example_data)"
   ]
  },
  {
   "cell_type": "code",
   "execution_count": 23,
   "metadata": {
    "ExecuteTime": {
     "end_time": "2019-10-25T20:13:31.831765Z",
     "start_time": "2019-10-25T20:13:31.722008Z"
    }
   },
   "outputs": [],
   "source": [
    "def plot_losses(losses):\n",
    "    cols = list(losses.columns)\n",
    "    fig, axs = plt.subplots(ncols = len(cols), figsize= (len(cols)*4, 4))\n",
    "    for ci, col in enumerate(cols):\n",
    "        if len(cols) == 1:\n",
    "            ax = axs\n",
    "        else:\n",
    "            ax = axs.flatten()[ci]\n",
    "        ax.plot(losses[col].values)\n",
    "        ax.set_title(col)\n",
    "    plt.show()"
   ]
  },
  {
   "cell_type": "code",
   "execution_count": 24,
   "metadata": {
    "ExecuteTime": {
     "end_time": "2019-10-25T20:13:31.973259Z",
     "start_time": "2019-10-25T20:13:31.834255Z"
    }
   },
   "outputs": [],
   "source": [
    "# a pandas dataframe to save the loss information to\n",
    "losses = pd.DataFrame(\n",
    "    columns=[\n",
    "        \"X_D_G_X_loss\",\n",
    "        \"X_D_G_Zi_loss\",\n",
    "        \"X_G_loss\",\n",
    "        \"X_D_X_loss\",\n",
    "        \"G_prop_i\",\n",
    "        \"D_prop_gen\",\n",
    "        \"D_lr\",\n",
    "        \"G_lr\",\n",
    "        \"G_loss\",\n",
    "        \"D_loss\",\n",
    "    ]\n",
    ")"
   ]
  },
  {
   "cell_type": "code",
   "execution_count": 25,
   "metadata": {
    "ExecuteTime": {
     "end_time": "2019-10-25T20:13:32.056934Z",
     "start_time": "2019-10-25T20:13:31.975592Z"
    }
   },
   "outputs": [],
   "source": [
    "N_TRAIN_BATCHES = 50"
   ]
  },
  {
   "cell_type": "code",
   "execution_count": 26,
   "metadata": {
    "ExecuteTime": {
     "end_time": "2019-10-25T20:38:11.342858Z",
     "start_time": "2019-10-25T20:13:32.058960Z"
    }
   },
   "outputs": [
    {
     "data": {
      "image/png": "[encoded data removed]",
      "text/plain": [
       "<Figure size 432x360 with 30 Axes>"
      ]
     },
     "metadata": {
      "needs_background": "light"
     },
     "output_type": "display_data"
    },
    {
     "data": {
      "image/png": "[encoded data removed]",
      "text/plain": [
       "<Figure size 2880x288 with 10 Axes>"
      ]
     },
     "metadata": {
      "needs_background": "light"
     },
     "output_type": "display_data"
    },
    {
     "data": {
      "application/vnd.jupyter.widget-view+json": {
       "model_id": "72c88d31aff34c339c2006fae41b3af2",
       "version_major": 2,
       "version_minor": 0
      },
      "text/plain": [
       "HBox(children=(IntProgress(value=0, max=50), HTML(value='')))"
      ]
     },
     "metadata": {},
     "output_type": "display_data"
    },
    {
     "name": "stdout",
     "output_type": "stream",
     "text": [
      "\n"
     ]
    },
    {
     "data": {
      "application/vnd.jupyter.widget-view+json": {
       "model_id": "de5712b0069649ffb24b9dffb712fa25",
       "version_major": 2,
       "version_minor": 0
      },
      "text/plain": [
       "HBox(children=(IntProgress(value=0, max=19), HTML(value='')))"
      ]
     },
     "metadata": {},
     "output_type": "display_data"
    },
    {
     "name": "stdout",
     "output_type": "stream",
     "text": [
      "\n"
     ]
    },
    {
     "ename": "KeyboardInterrupt",
     "evalue": "",
     "output_type": "error",
     "traceback": [
      "\u001b[0;31m---------------------------------------------------------------------------\u001b[0m",
      "\u001b[0;31mKeyboardInterrupt\u001b[0m                         Traceback (most recent call last)",
      "\u001b[0;32m<ipython-input-26-9a3c0efe313d>\u001b[0m in \u001b[0;36m<module>\u001b[0;34m\u001b[0m\n\u001b[1;32m     14\u001b[0m     ):\n\u001b[1;32m     15\u001b[0m         \u001b[0mx\u001b[0m \u001b[0;34m=\u001b[0m \u001b[0mtf\u001b[0m\u001b[0;34m.\u001b[0m\u001b[0mcast\u001b[0m\u001b[0;34m(\u001b[0m\u001b[0mtf\u001b[0m\u001b[0;34m.\u001b[0m\u001b[0mreshape\u001b[0m\u001b[0;34m(\u001b[0m\u001b[0mtest_x\u001b[0m\u001b[0;34m[\u001b[0m\u001b[0;36m0\u001b[0m\u001b[0;34m]\u001b[0m\u001b[0;34m,\u001b[0m \u001b[0;34m[\u001b[0m\u001b[0mBATCH_SIZE\u001b[0m\u001b[0;34m]\u001b[0m \u001b[0;34m+\u001b[0m \u001b[0mlist\u001b[0m\u001b[0;34m(\u001b[0m\u001b[0mDIMS\u001b[0m\u001b[0;34m)\u001b[0m\u001b[0;34m)\u001b[0m\u001b[0;34m,\u001b[0m \u001b[0mtf\u001b[0m\u001b[0;34m.\u001b[0m\u001b[0mfloat32\u001b[0m\u001b[0;34m)\u001b[0m \u001b[0;34m/\u001b[0m \u001b[0;36m255\u001b[0m\u001b[0;34m\u001b[0m\u001b[0;34m\u001b[0m\u001b[0m\n\u001b[0;32m---> 16\u001b[0;31m         \u001b[0mloss\u001b[0m\u001b[0;34m.\u001b[0m\u001b[0mappend\u001b[0m\u001b[0;34m(\u001b[0m\u001b[0mmodel\u001b[0m\u001b[0;34m.\u001b[0m\u001b[0mcompute_loss\u001b[0m\u001b[0;34m(\u001b[0m\u001b[0mx\u001b[0m\u001b[0;34m)\u001b[0m\u001b[0;34m)\u001b[0m\u001b[0;34m\u001b[0m\u001b[0;34m\u001b[0m\u001b[0m\n\u001b[0m\u001b[1;32m     17\u001b[0m     \u001b[0mlosses\u001b[0m\u001b[0;34m.\u001b[0m\u001b[0mloc\u001b[0m\u001b[0;34m[\u001b[0m\u001b[0mlen\u001b[0m\u001b[0;34m(\u001b[0m\u001b[0mlosses\u001b[0m\u001b[0;34m)\u001b[0m\u001b[0;34m]\u001b[0m \u001b[0;34m=\u001b[0m \u001b[0mnp\u001b[0m\u001b[0;34m.\u001b[0m\u001b[0mmean\u001b[0m\u001b[0;34m(\u001b[0m\u001b[0mloss\u001b[0m\u001b[0;34m,\u001b[0m \u001b[0maxis\u001b[0m\u001b[0;34m=\u001b[0m\u001b[0;36m0\u001b[0m\u001b[0;34m)\u001b[0m\u001b[0;34m\u001b[0m\u001b[0;34m\u001b[0m\u001b[0m\n\u001b[1;32m     18\u001b[0m     \u001b[0;31m# plot results\u001b[0m\u001b[0;34m\u001b[0m\u001b[0;34m\u001b[0m\u001b[0;34m\u001b[0m\u001b[0m\n",
      "\u001b[0;32m/mnt/cube/tsainbur/conda_envs/tpy3/lib/python3.6/site-packages/tensorflow/python/eager/def_function.py\u001b[0m in \u001b[0;36m__call__\u001b[0;34m(self, *args, **kwds)\u001b[0m\n\u001b[1;32m    406\u001b[0m       \u001b[0;31m# In this case we have not created variables on the first call. So we can\u001b[0m\u001b[0;34m\u001b[0m\u001b[0;34m\u001b[0m\u001b[0;34m\u001b[0m\u001b[0m\n\u001b[1;32m    407\u001b[0m       \u001b[0;31m# run the first trace but we should fail if variables are created.\u001b[0m\u001b[0;34m\u001b[0m\u001b[0;34m\u001b[0m\u001b[0;34m\u001b[0m\u001b[0m\n\u001b[0;32m--> 408\u001b[0;31m       \u001b[0mresults\u001b[0m \u001b[0;34m=\u001b[0m \u001b[0mself\u001b[0m\u001b[0;34m.\u001b[0m\u001b[0m_stateful_fn\u001b[0m\u001b[0;34m(\u001b[0m\u001b[0;34m*\u001b[0m\u001b[0margs\u001b[0m\u001b[0;34m,\u001b[0m \u001b[0;34m**\u001b[0m\u001b[0mkwds\u001b[0m\u001b[0;34m)\u001b[0m\u001b[0;34m\u001b[0m\u001b[0;34m\u001b[0m\u001b[0m\n\u001b[0m\u001b[1;32m    409\u001b[0m       \u001b[0;32mif\u001b[0m \u001b[0mself\u001b[0m\u001b[0;34m.\u001b[0m\u001b[0m_created_variables\u001b[0m\u001b[0;34m:\u001b[0m\u001b[0;34m\u001b[0m\u001b[0;34m\u001b[0m\u001b[0m\n\u001b[1;32m    410\u001b[0m         raise ValueError(\"Creating variables on a non-first call to a function\"\n",
      "\u001b[0;32m/mnt/cube/tsainbur/conda_envs/tpy3/lib/python3.6/site-packages/tensorflow/python/eager/function.py\u001b[0m in \u001b[0;36m__call__\u001b[0;34m(self, *args, **kwargs)\u001b[0m\n\u001b[1;32m   1333\u001b[0m     \u001b[0;34m\"\"\"Calls a graph function specialized to the inputs.\"\"\"\u001b[0m\u001b[0;34m\u001b[0m\u001b[0;34m\u001b[0m\u001b[0m\n\u001b[1;32m   1334\u001b[0m     \u001b[0mgraph_function\u001b[0m\u001b[0;34m,\u001b[0m \u001b[0margs\u001b[0m\u001b[0;34m,\u001b[0m \u001b[0mkwargs\u001b[0m \u001b[0;34m=\u001b[0m \u001b[0mself\u001b[0m\u001b[0;34m.\u001b[0m\u001b[0m_maybe_define_function\u001b[0m\u001b[0;34m(\u001b[0m\u001b[0margs\u001b[0m\u001b[0;34m,\u001b[0m \u001b[0mkwargs\u001b[0m\u001b[0;34m)\u001b[0m\u001b[0;34m\u001b[0m\u001b[0;34m\u001b[0m\u001b[0m\n\u001b[0;32m-> 1335\u001b[0;31m     \u001b[0;32mreturn\u001b[0m \u001b[0mgraph_function\u001b[0m\u001b[0;34m.\u001b[0m\u001b[0m_filtered_call\u001b[0m\u001b[0;34m(\u001b[0m\u001b[0margs\u001b[0m\u001b[0;34m,\u001b[0m \u001b[0mkwargs\u001b[0m\u001b[0;34m)\u001b[0m  \u001b[0;31m# pylint: disable=protected-access\u001b[0m\u001b[0;34m\u001b[0m\u001b[0;34m\u001b[0m\u001b[0m\n\u001b[0m\u001b[1;32m   1336\u001b[0m \u001b[0;34m\u001b[0m\u001b[0m\n\u001b[1;32m   1337\u001b[0m   \u001b[0;34m@\u001b[0m\u001b[0mproperty\u001b[0m\u001b[0;34m\u001b[0m\u001b[0;34m\u001b[0m\u001b[0m\n",
      "\u001b[0;32m/mnt/cube/tsainbur/conda_envs/tpy3/lib/python3.6/site-packages/tensorflow/python/eager/function.py\u001b[0m in \u001b[0;36m_filtered_call\u001b[0;34m(self, args, kwargs)\u001b[0m\n\u001b[1;32m    587\u001b[0m     \"\"\"\n\u001b[1;32m    588\u001b[0m     return self._call_flat(\n\u001b[0;32m--> 589\u001b[0;31m         (t for t in nest.flatten((args, kwargs), expand_composites=True)\n\u001b[0m\u001b[1;32m    590\u001b[0m          if isinstance(t, (ops.Tensor,\n\u001b[1;32m    591\u001b[0m                            resource_variable_ops.ResourceVariable))))\n",
      "\u001b[0;32m/mnt/cube/tsainbur/conda_envs/tpy3/lib/python3.6/site-packages/tensorflow/python/eager/function.py\u001b[0m in \u001b[0;36m_call_flat\u001b[0;34m(self, args)\u001b[0m\n\u001b[1;32m    669\u001b[0m     \u001b[0;31m# Only need to override the gradient in graph mode and when we have outputs.\u001b[0m\u001b[0;34m\u001b[0m\u001b[0;34m\u001b[0m\u001b[0;34m\u001b[0m\u001b[0m\n\u001b[1;32m    670\u001b[0m     \u001b[0;32mif\u001b[0m \u001b[0mcontext\u001b[0m\u001b[0;34m.\u001b[0m\u001b[0mexecuting_eagerly\u001b[0m\u001b[0;34m(\u001b[0m\u001b[0;34m)\u001b[0m \u001b[0;32mor\u001b[0m \u001b[0;32mnot\u001b[0m \u001b[0mself\u001b[0m\u001b[0;34m.\u001b[0m\u001b[0moutputs\u001b[0m\u001b[0;34m:\u001b[0m\u001b[0;34m\u001b[0m\u001b[0;34m\u001b[0m\u001b[0m\n\u001b[0;32m--> 671\u001b[0;31m       \u001b[0moutputs\u001b[0m \u001b[0;34m=\u001b[0m \u001b[0mself\u001b[0m\u001b[0;34m.\u001b[0m\u001b[0m_inference_function\u001b[0m\u001b[0;34m.\u001b[0m\u001b[0mcall\u001b[0m\u001b[0;34m(\u001b[0m\u001b[0mctx\u001b[0m\u001b[0;34m,\u001b[0m \u001b[0margs\u001b[0m\u001b[0;34m)\u001b[0m\u001b[0;34m\u001b[0m\u001b[0;34m\u001b[0m\u001b[0m\n\u001b[0m\u001b[1;32m    672\u001b[0m     \u001b[0;32melse\u001b[0m\u001b[0;34m:\u001b[0m\u001b[0;34m\u001b[0m\u001b[0;34m\u001b[0m\u001b[0m\n\u001b[1;32m    673\u001b[0m       \u001b[0mself\u001b[0m\u001b[0;34m.\u001b[0m\u001b[0m_register_gradient\u001b[0m\u001b[0;34m(\u001b[0m\u001b[0;34m)\u001b[0m\u001b[0;34m\u001b[0m\u001b[0;34m\u001b[0m\u001b[0m\n",
      "\u001b[0;32m/mnt/cube/tsainbur/conda_envs/tpy3/lib/python3.6/site-packages/tensorflow/python/eager/function.py\u001b[0m in \u001b[0;36mcall\u001b[0;34m(self, ctx, args)\u001b[0m\n\u001b[1;32m    443\u001b[0m             attrs=(\"executor_type\", executor_type,\n\u001b[1;32m    444\u001b[0m                    \"config_proto\", config),\n\u001b[0;32m--> 445\u001b[0;31m             ctx=ctx)\n\u001b[0m\u001b[1;32m    446\u001b[0m       \u001b[0;31m# Replace empty list with None\u001b[0m\u001b[0;34m\u001b[0m\u001b[0;34m\u001b[0m\u001b[0;34m\u001b[0m\u001b[0m\n\u001b[1;32m    447\u001b[0m       \u001b[0moutputs\u001b[0m \u001b[0;34m=\u001b[0m \u001b[0moutputs\u001b[0m \u001b[0;32mor\u001b[0m \u001b[0;32mNone\u001b[0m\u001b[0;34m\u001b[0m\u001b[0;34m\u001b[0m\u001b[0m\n",
      "\u001b[0;32m/mnt/cube/tsainbur/conda_envs/tpy3/lib/python3.6/site-packages/tensorflow/python/eager/execute.py\u001b[0m in \u001b[0;36mquick_execute\u001b[0;34m(op_name, num_outputs, inputs, attrs, ctx, name)\u001b[0m\n\u001b[1;32m     59\u001b[0m     tensors = pywrap_tensorflow.TFE_Py_Execute(ctx._handle, device_name,\n\u001b[1;32m     60\u001b[0m                                                \u001b[0mop_name\u001b[0m\u001b[0;34m,\u001b[0m \u001b[0minputs\u001b[0m\u001b[0;34m,\u001b[0m \u001b[0mattrs\u001b[0m\u001b[0;34m,\u001b[0m\u001b[0;34m\u001b[0m\u001b[0;34m\u001b[0m\u001b[0m\n\u001b[0;32m---> 61\u001b[0;31m                                                num_outputs)\n\u001b[0m\u001b[1;32m     62\u001b[0m   \u001b[0;32mexcept\u001b[0m \u001b[0mcore\u001b[0m\u001b[0;34m.\u001b[0m\u001b[0m_NotOkStatusException\u001b[0m \u001b[0;32mas\u001b[0m \u001b[0me\u001b[0m\u001b[0;34m:\u001b[0m\u001b[0;34m\u001b[0m\u001b[0;34m\u001b[0m\u001b[0m\n\u001b[1;32m     63\u001b[0m     \u001b[0;32mif\u001b[0m \u001b[0mname\u001b[0m \u001b[0;32mis\u001b[0m \u001b[0;32mnot\u001b[0m \u001b[0;32mNone\u001b[0m\u001b[0;34m:\u001b[0m\u001b[0;34m\u001b[0m\u001b[0;34m\u001b[0m\u001b[0m\n",
      "\u001b[0;31mKeyboardInterrupt\u001b[0m: "
     ]
    }
   ],
   "source": [
    "n_epochs = 500\n",
    "for epoch in range(n_epochs):\n",
    "    # train\n",
    "    for batch, train_x in tqdm(\n",
    "        zip(range(N_TRAIN_BATCHES), train_dataset), total=N_TRAIN_BATCHES\n",
    "    ):\n",
    "        #print(train_x[-1].numpy()[:4])\n",
    "        x = tf.cast(tf.reshape(train_x[0], [BATCH_SIZE] + list(DIMS)), tf.float32) / 255\n",
    "        model.train_net(x)\n",
    "    # test on holdout\n",
    "    loss = []\n",
    "    for batch, test_x in tqdm(\n",
    "        zip(range(N_TEST_BATCHES), test_dataset), total=N_TEST_BATCHES\n",
    "    ):\n",
    "        x = tf.cast(tf.reshape(test_x[0], [BATCH_SIZE] + list(DIMS)), tf.float32) / 255\n",
    "        loss.append(model.compute_loss(x))\n",
    "    losses.loc[len(losses)] = np.mean(loss, axis=0)\n",
    "    # plot results\n",
    "    display.clear_output()\n",
    "    plot_reconstruction(model, example_data, zm = 2)\n",
    "    # \n",
    "    plot_losses(losses)"
   ]
  },
  {
   "cell_type": "code",
   "execution_count": 27,
   "metadata": {
    "ExecuteTime": {
     "end_time": "2019-10-25T20:38:14.911461Z",
     "start_time": "2019-10-25T20:38:14.768140Z"
    }
   },
   "outputs": [
    {
     "data": {
      "text/html": [
       "<div>\n",
       "<style scoped>\n",
       "    .dataframe tbody tr th:only-of-type {\n",
       "        vertical-align: middle;\n",
       "    }\n",
       "\n",
       "    .dataframe tbody tr th {\n",
       "        vertical-align: top;\n",
       "    }\n",
       "\n",
       "    .dataframe thead th {\n",
       "        text-align: right;\n",
       "    }\n",
       "</style>\n",
       "<table border=\"1\" class=\"dataframe\">\n",
       "  <thead>\n",
       "    <tr style=\"text-align: right;\">\n",
       "      <th></th>\n",
       "      <th>X_D_G_X_loss</th>\n",
       "      <th>X_D_G_Zi_loss</th>\n",
       "      <th>X_G_loss</th>\n",
       "      <th>X_D_X_loss</th>\n",
       "      <th>G_prop_i</th>\n",
       "      <th>D_prop_gen</th>\n",
       "      <th>D_lr</th>\n",
       "      <th>G_lr</th>\n",
       "      <th>G_loss</th>\n",
       "      <th>D_loss</th>\n",
       "    </tr>\n",
       "  </thead>\n",
       "  <tbody>\n",
       "    <tr>\n",
       "      <th>0</th>\n",
       "      <td>0.012858</td>\n",
       "      <td>0.000666</td>\n",
       "      <td>0.006762</td>\n",
       "      <td>0.001409</td>\n",
       "      <td>0.439344</td>\n",
       "      <td>0.900000</td>\n",
       "      <td>0.473263</td>\n",
       "      <td>0.526737</td>\n",
       "      <td>0.003953</td>\n",
       "      <td>-0.002213</td>\n",
       "    </tr>\n",
       "    <tr>\n",
       "      <th>1</th>\n",
       "      <td>0.008184</td>\n",
       "      <td>0.001422</td>\n",
       "      <td>0.004803</td>\n",
       "      <td>0.002626</td>\n",
       "      <td>0.466246</td>\n",
       "      <td>0.900000</td>\n",
       "      <td>0.489116</td>\n",
       "      <td>0.510884</td>\n",
       "      <td>0.002571</td>\n",
       "      <td>-0.000830</td>\n",
       "    </tr>\n",
       "    <tr>\n",
       "      <th>2</th>\n",
       "      <td>0.011150</td>\n",
       "      <td>0.000275</td>\n",
       "      <td>0.005713</td>\n",
       "      <td>0.002270</td>\n",
       "      <td>0.445840</td>\n",
       "      <td>0.900000</td>\n",
       "      <td>0.482793</td>\n",
       "      <td>0.517207</td>\n",
       "      <td>0.003261</td>\n",
       "      <td>-0.001386</td>\n",
       "    </tr>\n",
       "    <tr>\n",
       "      <th>3</th>\n",
       "      <td>0.005184</td>\n",
       "      <td>0.000514</td>\n",
       "      <td>0.002849</td>\n",
       "      <td>0.000677</td>\n",
       "      <td>0.476668</td>\n",
       "      <td>0.900000</td>\n",
       "      <td>0.489143</td>\n",
       "      <td>0.510857</td>\n",
       "      <td>0.001511</td>\n",
       "      <td>-0.000923</td>\n",
       "    </tr>\n",
       "    <tr>\n",
       "      <th>4</th>\n",
       "      <td>0.006008</td>\n",
       "      <td>0.000160</td>\n",
       "      <td>0.003084</td>\n",
       "      <td>0.000534</td>\n",
       "      <td>0.470795</td>\n",
       "      <td>0.900000</td>\n",
       "      <td>0.487253</td>\n",
       "      <td>0.512747</td>\n",
       "      <td>0.001670</td>\n",
       "      <td>-0.001092</td>\n",
       "    </tr>\n",
       "    <tr>\n",
       "      <th>5</th>\n",
       "      <td>0.022094</td>\n",
       "      <td>0.001349</td>\n",
       "      <td>0.011721</td>\n",
       "      <td>0.001328</td>\n",
       "      <td>0.397747</td>\n",
       "      <td>0.431573</td>\n",
       "      <td>0.448221</td>\n",
       "      <td>0.551779</td>\n",
       "      <td>0.007642</td>\n",
       "      <td>-0.001697</td>\n",
       "    </tr>\n",
       "    <tr>\n",
       "      <th>6</th>\n",
       "      <td>0.004297</td>\n",
       "      <td>0.000317</td>\n",
       "      <td>0.002307</td>\n",
       "      <td>0.000466</td>\n",
       "      <td>0.480113</td>\n",
       "      <td>0.900000</td>\n",
       "      <td>0.490796</td>\n",
       "      <td>0.509204</td>\n",
       "      <td>0.001215</td>\n",
       "      <td>-0.000790</td>\n",
       "    </tr>\n",
       "    <tr>\n",
       "      <th>7</th>\n",
       "      <td>0.004245</td>\n",
       "      <td>0.000591</td>\n",
       "      <td>0.002418</td>\n",
       "      <td>0.000686</td>\n",
       "      <td>0.481739</td>\n",
       "      <td>0.899750</td>\n",
       "      <td>0.491345</td>\n",
       "      <td>0.508655</td>\n",
       "      <td>0.001264</td>\n",
       "      <td>-0.000732</td>\n",
       "    </tr>\n",
       "    <tr>\n",
       "      <th>8</th>\n",
       "      <td>0.014389</td>\n",
       "      <td>0.000084</td>\n",
       "      <td>0.007236</td>\n",
       "      <td>0.001067</td>\n",
       "      <td>0.428964</td>\n",
       "      <td>0.900000</td>\n",
       "      <td>0.469195</td>\n",
       "      <td>0.530805</td>\n",
       "      <td>0.004383</td>\n",
       "      <td>-0.002554</td>\n",
       "    </tr>\n",
       "    <tr>\n",
       "      <th>9</th>\n",
       "      <td>0.004326</td>\n",
       "      <td>0.000348</td>\n",
       "      <td>0.002337</td>\n",
       "      <td>0.000545</td>\n",
       "      <td>0.480120</td>\n",
       "      <td>0.900000</td>\n",
       "      <td>0.491040</td>\n",
       "      <td>0.508960</td>\n",
       "      <td>0.001230</td>\n",
       "      <td>-0.000765</td>\n",
       "    </tr>\n",
       "  </tbody>\n",
       "</table>\n",
       "</div>"
      ],
      "text/plain": [
       "   X_D_G_X_loss  X_D_G_Zi_loss  X_G_loss  X_D_X_loss  G_prop_i  D_prop_gen  \\\n",
       "0      0.012858       0.000666  0.006762    0.001409  0.439344    0.900000   \n",
       "1      0.008184       0.001422  0.004803    0.002626  0.466246    0.900000   \n",
       "2      0.011150       0.000275  0.005713    0.002270  0.445840    0.900000   \n",
       "3      0.005184       0.000514  0.002849    0.000677  0.476668    0.900000   \n",
       "4      0.006008       0.000160  0.003084    0.000534  0.470795    0.900000   \n",
       "5      0.022094       0.001349  0.011721    0.001328  0.397747    0.431573   \n",
       "6      0.004297       0.000317  0.002307    0.000466  0.480113    0.900000   \n",
       "7      0.004245       0.000591  0.002418    0.000686  0.481739    0.899750   \n",
       "8      0.014389       0.000084  0.007236    0.001067  0.428964    0.900000   \n",
       "9      0.004326       0.000348  0.002337    0.000545  0.480120    0.900000   \n",
       "\n",
       "       D_lr      G_lr    G_loss    D_loss  \n",
       "0  0.473263  0.526737  0.003953 -0.002213  \n",
       "1  0.489116  0.510884  0.002571 -0.000830  \n",
       "2  0.482793  0.517207  0.003261 -0.001386  \n",
       "3  0.489143  0.510857  0.001511 -0.000923  \n",
       "4  0.487253  0.512747  0.001670 -0.001092  \n",
       "5  0.448221  0.551779  0.007642 -0.001697  \n",
       "6  0.490796  0.509204  0.001215 -0.000790  \n",
       "7  0.491345  0.508655  0.001264 -0.000732  \n",
       "8  0.469195  0.530805  0.004383 -0.002554  \n",
       "9  0.491040  0.508960  0.001230 -0.000765  "
      ]
     },
     "execution_count": 27,
     "metadata": {},
     "output_type": "execute_result"
    }
   ],
   "source": [
    "losses[:10]"
   ]
  },
  {
   "cell_type": "code",
   "execution_count": null,
   "metadata": {},
   "outputs": [],
   "source": [
    "from avgn.tensorflow.GAIA3 import sigmoid\n"
   ]
  },
  {
   "cell_type": "code",
   "execution_count": 31,
   "metadata": {
    "ExecuteTime": {
     "end_time": "2019-10-25T20:43:02.811451Z",
     "start_time": "2019-10-25T20:43:02.518031Z"
    }
   },
   "outputs": [
    {
     "data": {
      "text/plain": [
       "[<matplotlib.lines.Line2D at 0x7f813c0c5eb8>]"
      ]
     },
     "execution_count": 31,
     "metadata": {},
     "output_type": "execute_result"
    },
    {
     "data": {
      "image/png": "[encoded data removed]",
      "text/plain": [
       "<Figure size 432x288 with 1 Axes>"
      ]
     },
     "metadata": {
      "needs_background": "light"
     },
     "output_type": "display_data"
    }
   ],
   "source": [
    "plt.plot((losses.X_D_X_loss.values - losses.X_D_G_Zi_loss.values))"
   ]
  },
  {
   "cell_type": "code",
   "execution_count": 28,
   "metadata": {
    "ExecuteTime": {
     "end_time": "2019-10-25T20:42:14.119595Z",
     "start_time": "2019-10-25T20:42:09.173323Z"
    }
   },
   "outputs": [
    {
     "data": {
      "text/plain": [
       "[<matplotlib.lines.Line2D at 0x7f7e25782e80>]"
      ]
     },
     "execution_count": 28,
     "metadata": {},
     "output_type": "execute_result"
    },
    {
     "data": {
      "image/png": "[encoded data removed]",
      "text/plain": [
       "<Figure size 432x288 with 1 Axes>"
      ]
     },
     "metadata": {
      "needs_background": "light"
     },
     "output_type": "display_data"
    }
   ],
   "source": [
    "plt.plot(sigmoid(losses.X_D_X_loss.values - losses.X_D_G_Zi_loss.values).numpy())\n",
    "plt.plot(losses.D_prop_gen.values)"
   ]
  },
  {
   "cell_type": "code",
   "execution_count": null,
   "metadata": {
    "ExecuteTime": {
     "end_time": "2019-10-25T20:38:11.346576Z",
     "start_time": "2019-10-25T20:13:02.559Z"
    }
   },
   "outputs": [],
   "source": [
    "(losses.X_D_X_loss.values - losses.X_D_G_Zi_loss.values) / losses.X_D_G_Zi_loss.values"
   ]
  },
  {
   "cell_type": "code",
   "execution_count": null,
   "metadata": {
    "ExecuteTime": {
     "end_time": "2019-10-25T20:38:11.347994Z",
     "start_time": "2019-10-25T20:13:02.560Z"
    }
   },
   "outputs": [],
   "source": [
    "losses.D_prop_gen.values"
   ]
  },
  {
   "cell_type": "code",
   "execution_count": null,
   "metadata": {
    "ExecuteTime": {
     "end_time": "2019-10-25T20:38:11.349547Z",
     "start_time": "2019-10-25T20:13:02.561Z"
    }
   },
   "outputs": [],
   "source": [
    "plot_reconstruction(model, example_data)"
   ]
  },
  {
   "cell_type": "code",
   "execution_count": null,
   "metadata": {
    "ExecuteTime": {
     "end_time": "2019-10-25T20:38:11.350986Z",
     "start_time": "2019-10-25T20:13:02.563Z"
    }
   },
   "outputs": [],
   "source": [
    "losses.d_xg_loss.values"
   ]
  },
  {
   "cell_type": "code",
   "execution_count": null,
   "metadata": {
    "ExecuteTime": {
     "end_time": "2019-10-25T20:38:11.352436Z",
     "start_time": "2019-10-25T20:13:02.564Z"
    }
   },
   "outputs": [],
   "source": [
    "#save_loc = DATA_DIR / 'models' / network_type / DATASET_ID\n",
    "#ensure_dir(save_loc)\n",
    "\n",
    "# Save the entire model to a HDF5 file.\n",
    "# The '.h5' extension indicates that the model shuold be saved to HDF5.\n",
    "#model.save_weights((save_loc / (str(epoch).zfill(4))).as_posix()) \n",
    "\n",
    "# Recreate the exact same model, including its weights and the optimizer\n",
    "#new_model = tf.keras.models.load_model('my_model.h5')"
   ]
  },
  {
   "cell_type": "markdown",
   "metadata": {},
   "source": [
    "### Plot samples from latent"
   ]
  },
  {
   "cell_type": "code",
   "execution_count": null,
   "metadata": {
    "ExecuteTime": {
     "end_time": "2019-10-25T20:38:11.353874Z",
     "start_time": "2019-10-25T20:13:02.565Z"
    }
   },
   "outputs": [],
   "source": [
    "z = model.encode(example_data).numpy()"
   ]
  },
  {
   "cell_type": "code",
   "execution_count": null,
   "metadata": {
    "ExecuteTime": {
     "end_time": "2019-10-25T20:38:11.355274Z",
     "start_time": "2019-10-25T20:13:02.567Z"
    }
   },
   "outputs": [],
   "source": [
    "xmax, ymax = np.max(z, axis=0)\n",
    "xmin, ymin = np.min(z, axis=0)\n",
    "print(xmax, ymax, xmin, ymin)"
   ]
  },
  {
   "cell_type": "code",
   "execution_count": null,
   "metadata": {
    "ExecuteTime": {
     "end_time": "2019-10-25T20:38:11.356880Z",
     "start_time": "2019-10-25T20:13:02.568Z"
    }
   },
   "outputs": [],
   "source": [
    "# sample from grid\n",
    "nx = ny= 30\n",
    "meshgrid = np.meshgrid(np.linspace(xmin, xmax, nx), np.linspace(ymin, ymax, ny))\n",
    "meshgrid = np.array(meshgrid).reshape(2, nx*ny).T\n",
    "x_grid = model.decode(meshgrid)\n",
    "x_grid = x_grid.numpy().reshape(nx, ny, DIMS[0], DIMS[1], DIMS[2])\n",
    "# fill canvas\n",
    "canvas = np.zeros((nx*DIMS[0], ny*DIMS[1]))\n",
    "for xi in range(nx):\n",
    "    for yi in range(ny):\n",
    "        canvas[xi*DIMS[0]:xi*DIMS[0]+DIMS[0], yi*DIMS[1]:yi*DIMS[1]+DIMS[1]] = x_grid[xi, yi,:,:,:].squeeze()\n",
    "fig, ax = plt.subplots(figsize=(15,10))\n",
    "ax.matshow(canvas, vmin = 0, cmap=plt.cm.Greys, origin = 'lower')\n",
    "ax.axis('off')"
   ]
  },
  {
   "cell_type": "markdown",
   "metadata": {},
   "source": [
    "###  plot dataset "
   ]
  },
  {
   "cell_type": "code",
   "execution_count": null,
   "metadata": {
    "ExecuteTime": {
     "end_time": "2019-10-25T20:38:11.358275Z",
     "start_time": "2019-10-25T20:13:02.569Z"
    }
   },
   "outputs": [],
   "source": [
    "all_x = []\n",
    "all_z = []\n",
    "all_indv = []\n",
    "all_labels = []\n",
    "for batch, train_x in tqdm(\n",
    "    zip(range(N_TRAIN_BATCHES), train_dataset), total=N_TRAIN_BATCHES\n",
    "):\n",
    "    x = train_x[0]\n",
    "    all_x.append(x)\n",
    "    x = tf.cast(tf.reshape(x, [BATCH_SIZE] + list(DIMS)), tf.float32) / 255\n",
    "    #model.train_net(x)\n",
    "    all_z.append(model.encode(x).numpy())\n",
    "    all_indv.append(train_x[3].numpy())\n",
    "    all_labels.append(train_x[2].numpy())\n",
    "\n",
    "all_z = np.vstack(all_z)\n",
    "all_indv = np.concatenate(all_indv)\n",
    "all_labels = np.concatenate(all_labels)\n",
    "all_x = np.concatenate(all_x)\n",
    "all_x = np.reshape(all_x, [len(all_x)] + list(DIMS[:2]))"
   ]
  },
  {
   "cell_type": "code",
   "execution_count": null,
   "metadata": {
    "ExecuteTime": {
     "end_time": "2019-10-25T20:38:11.359728Z",
     "start_time": "2019-10-25T20:13:02.570Z"
    }
   },
   "outputs": [],
   "source": [
    "from avgn.visualization.projections import scatter_spec"
   ]
  },
  {
   "cell_type": "code",
   "execution_count": null,
   "metadata": {
    "ExecuteTime": {
     "end_time": "2019-10-25T20:38:11.361174Z",
     "start_time": "2019-10-25T20:13:02.571Z"
    }
   },
   "outputs": [],
   "source": [
    "np.shape(all_z)"
   ]
  },
  {
   "cell_type": "code",
   "execution_count": null,
   "metadata": {
    "ExecuteTime": {
     "end_time": "2019-10-25T20:38:11.362607Z",
     "start_time": "2019-10-25T20:13:02.572Z"
    }
   },
   "outputs": [],
   "source": [
    "plt.scatter(all_z[:,0], all_z[:,1], s=1, c='k', alpha=0.1)"
   ]
  },
  {
   "cell_type": "code",
   "execution_count": null,
   "metadata": {
    "ExecuteTime": {
     "end_time": "2019-10-25T20:38:11.363839Z",
     "start_time": "2019-10-25T20:13:02.574Z"
    }
   },
   "outputs": [],
   "source": [
    "scatter_spec(\n",
    "        np.vstack(all_z),\n",
    "        all_x,\n",
    "        column_size=15,\n",
    "        x_range = [-4,4],\n",
    "        y_range = [-4,4],\n",
    "        pal_color=\"hls\",\n",
    "        color_points=False,\n",
    "        enlarge_points=20,\n",
    "        figsize=(10, 10),\n",
    "        scatter_kwargs = {\n",
    "            'labels': list(all_labels),\n",
    "            'alpha':0.25,\n",
    "            's': 1,\n",
    "            'show_legend': False\n",
    "        },\n",
    "        matshow_kwargs = {\n",
    "            'cmap': plt.cm.Greys\n",
    "        },\n",
    "        line_kwargs = {\n",
    "            'lw':1,\n",
    "            'ls':\"solid\",\n",
    "            'alpha':0.25,\n",
    "        },\n",
    "        draw_lines=True\n",
    ");"
   ]
  },
  {
   "cell_type": "code",
   "execution_count": null,
   "metadata": {},
   "outputs": [],
   "source": []
  }
 ],
 "metadata": {
  "kernelspec": {
   "display_name": "Python 3",
   "language": "python",
   "name": "python3"
  },
  "language_info": {
   "codemirror_mode": {
    "name": "ipython",
    "version": 3
   },
   "file_extension": ".py",
   "mimetype": "text/x-python",
   "name": "python",
   "nbconvert_exporter": "python",
   "pygments_lexer": "ipython3",
   "version": "3.6.7"
  }
 },
 "nbformat": 4,
 "nbformat_minor": 2
}
