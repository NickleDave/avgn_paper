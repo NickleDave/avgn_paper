{
 "cells": [
  {
   "cell_type": "code",
   "execution_count": 1,
   "metadata": {
    "ExecuteTime": {
     "end_time": "2019-11-08T22:06:35.702950Z",
     "start_time": "2019-11-08T22:06:35.651416Z"
    }
   },
   "outputs": [],
   "source": [
    "%load_ext autoreload\n",
    "%autoreload 2"
   ]
  },
  {
   "cell_type": "code",
   "execution_count": 2,
   "metadata": {
    "ExecuteTime": {
     "end_time": "2019-11-08T22:06:56.940529Z",
     "start_time": "2019-11-08T22:06:35.773326Z"
    }
   },
   "outputs": [
    {
     "name": "stderr",
     "output_type": "stream",
     "text": [
      "/mnt/cube/tsainbur/conda_envs/tpy3/lib/python3.6/site-packages/tqdm/autonotebook/__init__.py:14: TqdmExperimentalWarning: Using `tqdm.autonotebook.tqdm` in notebook mode. Use `tqdm.tqdm` instead to force console mode (e.g. in jupyter console)\n",
      "  \" (e.g. in jupyter console)\", TqdmExperimentalWarning)\n"
     ]
    }
   ],
   "source": [
    "import numpy as np\n",
    "import matplotlib.pyplot as plt\n",
    "%matplotlib inline\n",
    "from tqdm.autonotebook import tqdm\n",
    "from joblib import Parallel, delayed\n",
    "import umap\n",
    "import pandas as pd"
   ]
  },
  {
   "cell_type": "code",
   "execution_count": 3,
   "metadata": {
    "ExecuteTime": {
     "end_time": "2019-11-08T22:06:59.667717Z",
     "start_time": "2019-11-08T22:06:56.944357Z"
    }
   },
   "outputs": [],
   "source": [
    "from avgn.utils.paths import DATA_DIR, most_recent_subdirectory, ensure_dir\n",
    "from avgn.visualization.spectrogram import draw_spec_set\n",
    "from avgn.utils.buckeye_utils import VOWEL_CONSONANT"
   ]
  },
  {
   "cell_type": "markdown",
   "metadata": {},
   "source": [
    "### load data"
   ]
  },
  {
   "cell_type": "code",
   "execution_count": 4,
   "metadata": {
    "ExecuteTime": {
     "end_time": "2019-11-08T22:06:59.723190Z",
     "start_time": "2019-11-08T22:06:59.671159Z"
    }
   },
   "outputs": [],
   "source": [
    "DATASET_ID = 'buckeye'"
   ]
  },
  {
   "cell_type": "code",
   "execution_count": 5,
   "metadata": {
    "ExecuteTime": {
     "end_time": "2019-11-08T22:06:59.908730Z",
     "start_time": "2019-11-08T22:06:59.726705Z"
    }
   },
   "outputs": [
    {
     "data": {
      "text/plain": [
       "PosixPath('/local/home/tsainbur/github_repos/avgn_paper/data/syllable_dfs/buckeye/phones_uniform.pickle')"
      ]
     },
     "execution_count": 5,
     "metadata": {},
     "output_type": "execute_result"
    }
   ],
   "source": [
    "df_loc = DATA_DIR / 'syllable_dfs' / DATASET_ID / 'phones_uniform.pickle'\n",
    "df_loc"
   ]
  },
  {
   "cell_type": "code",
   "execution_count": 6,
   "metadata": {
    "ExecuteTime": {
     "end_time": "2019-11-08T22:07:43.115172Z",
     "start_time": "2019-11-08T22:06:59.912625Z"
    }
   },
   "outputs": [],
   "source": [
    "syllable_df = pd.read_pickle(df_loc)"
   ]
  },
  {
   "cell_type": "code",
   "execution_count": 7,
   "metadata": {
    "ExecuteTime": {
     "end_time": "2019-11-08T22:07:43.892104Z",
     "start_time": "2019-11-08T22:07:43.119145Z"
    }
   },
   "outputs": [
    {
     "data": {
      "text/html": [
       "<div>\n",
       "<style scoped>\n",
       "    .dataframe tbody tr th:only-of-type {\n",
       "        vertical-align: middle;\n",
       "    }\n",
       "\n",
       "    .dataframe tbody tr th {\n",
       "        vertical-align: top;\n",
       "    }\n",
       "\n",
       "    .dataframe thead th {\n",
       "        text-align: right;\n",
       "    }\n",
       "</style>\n",
       "<table border=\"1\" class=\"dataframe\">\n",
       "  <thead>\n",
       "    <tr style=\"text-align: right;\">\n",
       "      <th></th>\n",
       "      <th>start_time</th>\n",
       "      <th>end_time</th>\n",
       "      <th>labels</th>\n",
       "      <th>word</th>\n",
       "      <th>utterance_number</th>\n",
       "      <th>position_in_utterance</th>\n",
       "      <th>position_in_word</th>\n",
       "      <th>word_number</th>\n",
       "      <th>indv</th>\n",
       "      <th>indvi</th>\n",
       "      <th>age</th>\n",
       "      <th>sex</th>\n",
       "      <th>key</th>\n",
       "      <th>rate</th>\n",
       "      <th>spectrogram</th>\n",
       "    </tr>\n",
       "  </thead>\n",
       "  <tbody>\n",
       "    <tr>\n",
       "      <th>0</th>\n",
       "      <td>24.457298</td>\n",
       "      <td>24.722471</td>\n",
       "      <td>ah</td>\n",
       "      <td>uh</td>\n",
       "      <td>0</td>\n",
       "      <td>0</td>\n",
       "      <td>0</td>\n",
       "      <td>0</td>\n",
       "      <td>s25</td>\n",
       "      <td>0</td>\n",
       "      <td>o</td>\n",
       "      <td>f</td>\n",
       "      <td>s2501b</td>\n",
       "      <td>16000</td>\n",
       "      <td>[[0, 0, 0, 0, 0, 0, 0, 0, 0, 0, 0, 0, 0, 0, 0,...</td>\n",
       "    </tr>\n",
       "    <tr>\n",
       "      <th>1</th>\n",
       "      <td>24.722471</td>\n",
       "      <td>24.792000</td>\n",
       "      <td>ih</td>\n",
       "      <td>it's</td>\n",
       "      <td>1</td>\n",
       "      <td>1</td>\n",
       "      <td>0</td>\n",
       "      <td>1</td>\n",
       "      <td>s25</td>\n",
       "      <td>0</td>\n",
       "      <td>o</td>\n",
       "      <td>f</td>\n",
       "      <td>s2501b</td>\n",
       "      <td>16000</td>\n",
       "      <td>[[195, 192, 185, 177, 166, 150, 132, 127, 126,...</td>\n",
       "    </tr>\n",
       "    <tr>\n",
       "      <th>2</th>\n",
       "      <td>24.792000</td>\n",
       "      <td>24.847660</td>\n",
       "      <td>t</td>\n",
       "      <td>it's</td>\n",
       "      <td>2</td>\n",
       "      <td>1</td>\n",
       "      <td>1</td>\n",
       "      <td>1</td>\n",
       "      <td>s25</td>\n",
       "      <td>0</td>\n",
       "      <td>o</td>\n",
       "      <td>f</td>\n",
       "      <td>s2501b</td>\n",
       "      <td>16000</td>\n",
       "      <td>[[226, 224, 220, 215, 208, 200, 191, 183, 178,...</td>\n",
       "    </tr>\n",
       "  </tbody>\n",
       "</table>\n",
       "</div>"
      ],
      "text/plain": [
       "   start_time   end_time labels  word  utterance_number  \\\n",
       "0   24.457298  24.722471     ah    uh                 0   \n",
       "1   24.722471  24.792000     ih  it's                 1   \n",
       "2   24.792000  24.847660      t  it's                 2   \n",
       "\n",
       "   position_in_utterance  position_in_word  word_number indv  indvi age sex  \\\n",
       "0                      0                 0            0  s25      0   o   f   \n",
       "1                      1                 0            1  s25      0   o   f   \n",
       "2                      1                 1            1  s25      0   o   f   \n",
       "\n",
       "      key   rate                                        spectrogram  \n",
       "0  s2501b  16000  [[0, 0, 0, 0, 0, 0, 0, 0, 0, 0, 0, 0, 0, 0, 0,...  \n",
       "1  s2501b  16000  [[195, 192, 185, 177, 166, 150, 132, 127, 126,...  \n",
       "2  s2501b  16000  [[226, 224, 220, 215, 208, 200, 191, 183, 178,...  "
      ]
     },
     "execution_count": 7,
     "metadata": {},
     "output_type": "execute_result"
    }
   ],
   "source": [
    "syllable_df[:3]"
   ]
  },
  {
   "cell_type": "code",
   "execution_count": 8,
   "metadata": {
    "ExecuteTime": {
     "end_time": "2019-11-08T22:07:46.095162Z",
     "start_time": "2019-11-08T22:07:43.894272Z"
    }
   },
   "outputs": [
    {
     "data": {
      "text/html": [
       "<div>\n",
       "<style scoped>\n",
       "    .dataframe tbody tr th:only-of-type {\n",
       "        vertical-align: middle;\n",
       "    }\n",
       "\n",
       "    .dataframe tbody tr th {\n",
       "        vertical-align: top;\n",
       "    }\n",
       "\n",
       "    .dataframe thead th {\n",
       "        text-align: right;\n",
       "    }\n",
       "</style>\n",
       "<table border=\"1\" class=\"dataframe\">\n",
       "  <thead>\n",
       "    <tr style=\"text-align: right;\">\n",
       "      <th></th>\n",
       "      <th>s25</th>\n",
       "      <th>s08</th>\n",
       "      <th>s24</th>\n",
       "      <th>s40</th>\n",
       "      <th>s15</th>\n",
       "      <th>s17</th>\n",
       "      <th>s13</th>\n",
       "      <th>s16</th>\n",
       "      <th>s26</th>\n",
       "      <th>s35</th>\n",
       "      <th>...</th>\n",
       "      <th>s32</th>\n",
       "      <th>s01</th>\n",
       "      <th>s14</th>\n",
       "      <th>s28</th>\n",
       "      <th>s29</th>\n",
       "      <th>s31</th>\n",
       "      <th>s39</th>\n",
       "      <th>s04</th>\n",
       "      <th>s33</th>\n",
       "      <th>s21</th>\n",
       "    </tr>\n",
       "  </thead>\n",
       "  <tbody>\n",
       "    <tr>\n",
       "      <th>0</th>\n",
       "      <td>25202</td>\n",
       "      <td>22740</td>\n",
       "      <td>20594</td>\n",
       "      <td>20875</td>\n",
       "      <td>24782</td>\n",
       "      <td>15757</td>\n",
       "      <td>27232</td>\n",
       "      <td>34809</td>\n",
       "      <td>13275</td>\n",
       "      <td>26874</td>\n",
       "      <td>...</td>\n",
       "      <td>17189</td>\n",
       "      <td>14526</td>\n",
       "      <td>26115</td>\n",
       "      <td>20719</td>\n",
       "      <td>23643</td>\n",
       "      <td>15280</td>\n",
       "      <td>20782</td>\n",
       "      <td>19112</td>\n",
       "      <td>17679</td>\n",
       "      <td>13974</td>\n",
       "    </tr>\n",
       "  </tbody>\n",
       "</table>\n",
       "<p>1 rows × 40 columns</p>\n",
       "</div>"
      ],
      "text/plain": [
       "     s25    s08    s24    s40    s15    s17    s13    s16    s26    s35  ...  \\\n",
       "0  25202  22740  20594  20875  24782  15757  27232  34809  13275  26874  ...   \n",
       "\n",
       "     s32    s01    s14    s28    s29    s31    s39    s04    s33    s21  \n",
       "0  17189  14526  26115  20719  23643  15280  20782  19112  17679  13974  \n",
       "\n",
       "[1 rows x 40 columns]"
      ]
     },
     "execution_count": 8,
     "metadata": {},
     "output_type": "execute_result"
    }
   ],
   "source": [
    "# individuals\n",
    "pd.DataFrame({i:[np.sum(syllable_df.indv == i)] for i in syllable_df.indv.unique()})"
   ]
  },
  {
   "cell_type": "code",
   "execution_count": 9,
   "metadata": {
    "ExecuteTime": {
     "end_time": "2019-11-08T22:07:50.029654Z",
     "start_time": "2019-11-08T22:07:46.096947Z"
    }
   },
   "outputs": [
    {
     "data": {
      "text/html": [
       "<div>\n",
       "<style scoped>\n",
       "    .dataframe tbody tr th:only-of-type {\n",
       "        vertical-align: middle;\n",
       "    }\n",
       "\n",
       "    .dataframe tbody tr th {\n",
       "        vertical-align: top;\n",
       "    }\n",
       "\n",
       "    .dataframe thead th {\n",
       "        text-align: right;\n",
       "    }\n",
       "</style>\n",
       "<table border=\"1\" class=\"dataframe\">\n",
       "  <thead>\n",
       "    <tr style=\"text-align: right;\">\n",
       "      <th></th>\n",
       "      <th>ah</th>\n",
       "      <th>ih</th>\n",
       "      <th>n</th>\n",
       "      <th>s</th>\n",
       "      <th>eh</th>\n",
       "      <th>t</th>\n",
       "      <th>iy</th>\n",
       "      <th>r</th>\n",
       "      <th>k</th>\n",
       "      <th>l</th>\n",
       "      <th>...</th>\n",
       "      <th>en</th>\n",
       "      <th>uh</th>\n",
       "      <th>sh</th>\n",
       "      <th>aw</th>\n",
       "      <th>ch</th>\n",
       "      <th>jh</th>\n",
       "      <th>el</th>\n",
       "      <th>em</th>\n",
       "      <th>zh</th>\n",
       "      <th>own</th>\n",
       "    </tr>\n",
       "  </thead>\n",
       "  <tbody>\n",
       "    <tr>\n",
       "      <th>0</th>\n",
       "      <td>70395</td>\n",
       "      <td>63002</td>\n",
       "      <td>49641</td>\n",
       "      <td>41791</td>\n",
       "      <td>36258</td>\n",
       "      <td>33962</td>\n",
       "      <td>33462</td>\n",
       "      <td>30467</td>\n",
       "      <td>27235</td>\n",
       "      <td>27012</td>\n",
       "      <td>...</td>\n",
       "      <td>6241</td>\n",
       "      <td>6056</td>\n",
       "      <td>5985</td>\n",
       "      <td>4934</td>\n",
       "      <td>4750</td>\n",
       "      <td>4525</td>\n",
       "      <td>4145</td>\n",
       "      <td>3003</td>\n",
       "      <td>1007</td>\n",
       "      <td>669</td>\n",
       "    </tr>\n",
       "  </tbody>\n",
       "</table>\n",
       "<p>1 rows × 45 columns</p>\n",
       "</div>"
      ],
      "text/plain": [
       "      ah     ih      n      s     eh      t     iy      r      k      l  ...  \\\n",
       "0  70395  63002  49641  41791  36258  33962  33462  30467  27235  27012  ...   \n",
       "\n",
       "     en    uh    sh    aw    ch    jh    el    em    zh  own  \n",
       "0  6241  6056  5985  4934  4750  4525  4145  3003  1007  669  \n",
       "\n",
       "[1 rows x 45 columns]"
      ]
     },
     "execution_count": 9,
     "metadata": {},
     "output_type": "execute_result"
    }
   ],
   "source": [
    "# most frequent_phones\n",
    "freq_phones = (\n",
    "    pd.DataFrame(\n",
    "        {i: [np.sum(syllable_df.labels == i)] for i in syllable_df.labels.unique()}\n",
    "    )\n",
    "    .T.sort_values(by=0, ascending=False)[:45]\n",
    "    .T\n",
    ")\n",
    "freq_phones"
   ]
  },
  {
   "cell_type": "code",
   "execution_count": 11,
   "metadata": {
    "ExecuteTime": {
     "end_time": "2019-11-08T22:09:24.722891Z",
     "start_time": "2019-11-08T22:07:57.907321Z"
    }
   },
   "outputs": [
    {
     "ename": "KeyboardInterrupt",
     "evalue": "",
     "output_type": "error",
     "traceback": [
      "\u001b[0;31m---------------------------------------------------------------------------\u001b[0m",
      "\u001b[0;31mKeyboardInterrupt\u001b[0m                         Traceback (most recent call last)",
      "\u001b[0;32m<ipython-input-11-d4f4ca8261c2>\u001b[0m in \u001b[0;36m<module>\u001b[0;34m\u001b[0m\n\u001b[1;32m      4\u001b[0m \u001b[0;34m\u001b[0m\u001b[0m\n\u001b[1;32m      5\u001b[0m \u001b[0mspecs\u001b[0m \u001b[0;34m=\u001b[0m \u001b[0mlist\u001b[0m\u001b[0;34m(\u001b[0m\u001b[0msubset_df\u001b[0m\u001b[0;34m.\u001b[0m\u001b[0mspectrogram\u001b[0m\u001b[0;34m.\u001b[0m\u001b[0mvalues\u001b[0m\u001b[0;34m)\u001b[0m\u001b[0;34m\u001b[0m\u001b[0;34m\u001b[0m\u001b[0m\n\u001b[0;32m----> 6\u001b[0;31m \u001b[0mspecs\u001b[0m \u001b[0;34m=\u001b[0m \u001b[0;34m[\u001b[0m\u001b[0mi\u001b[0m\u001b[0;34m/\u001b[0m\u001b[0mnp\u001b[0m\u001b[0;34m.\u001b[0m\u001b[0mmax\u001b[0m\u001b[0;34m(\u001b[0m\u001b[0mi\u001b[0m\u001b[0;34m)\u001b[0m \u001b[0;32mfor\u001b[0m \u001b[0mi\u001b[0m \u001b[0;32min\u001b[0m \u001b[0mspecs\u001b[0m\u001b[0;34m]\u001b[0m\u001b[0;34m\u001b[0m\u001b[0;34m\u001b[0m\u001b[0m\n\u001b[0m",
      "\u001b[0;32m<ipython-input-11-d4f4ca8261c2>\u001b[0m in \u001b[0;36m<listcomp>\u001b[0;34m(.0)\u001b[0m\n\u001b[1;32m      4\u001b[0m \u001b[0;34m\u001b[0m\u001b[0m\n\u001b[1;32m      5\u001b[0m \u001b[0mspecs\u001b[0m \u001b[0;34m=\u001b[0m \u001b[0mlist\u001b[0m\u001b[0;34m(\u001b[0m\u001b[0msubset_df\u001b[0m\u001b[0;34m.\u001b[0m\u001b[0mspectrogram\u001b[0m\u001b[0;34m.\u001b[0m\u001b[0mvalues\u001b[0m\u001b[0;34m)\u001b[0m\u001b[0;34m\u001b[0m\u001b[0;34m\u001b[0m\u001b[0m\n\u001b[0;32m----> 6\u001b[0;31m \u001b[0mspecs\u001b[0m \u001b[0;34m=\u001b[0m \u001b[0;34m[\u001b[0m\u001b[0mi\u001b[0m\u001b[0;34m/\u001b[0m\u001b[0mnp\u001b[0m\u001b[0;34m.\u001b[0m\u001b[0mmax\u001b[0m\u001b[0;34m(\u001b[0m\u001b[0mi\u001b[0m\u001b[0;34m)\u001b[0m \u001b[0;32mfor\u001b[0m \u001b[0mi\u001b[0m \u001b[0;32min\u001b[0m \u001b[0mspecs\u001b[0m\u001b[0;34m]\u001b[0m\u001b[0;34m\u001b[0m\u001b[0;34m\u001b[0m\u001b[0m\n\u001b[0m",
      "\u001b[0;31mKeyboardInterrupt\u001b[0m: "
     ]
    }
   ],
   "source": [
    "subset_df = syllable_df[\n",
    "    syllable_df.labels.isin(freq_phones.columns)\n",
    "]\n",
    "\n",
    "specs = list(subset_df.spectrogram.values)\n",
    "specs = [i/np.max(i) for i in tqdm(specs)]"
   ]
  },
  {
   "cell_type": "code",
   "execution_count": null,
   "metadata": {},
   "outputs": [],
   "source": [
    "from PIL import Image\n",
    "def norm(x):\n",
    "    return (x - np.min(x)) / (np.max(x) - np.min(x))\n",
    "\n",
    "def resize_spec(spec, resize_shape=(32,32)):\n",
    "    resize_spec = np.array(Image.fromarray(spec).resize(resize_shape, Image.ANTIALIAS))\n",
    "    return resize_spec"
   ]
  },
  {
   "cell_type": "code",
   "execution_count": null,
   "metadata": {},
   "outputs": [],
   "source": [
    "specs = [(norm(resize_spec(i))*255).astype('uint8') for i in tqdm(specs)]"
   ]
  },
  {
   "cell_type": "code",
   "execution_count": null,
   "metadata": {},
   "outputs": [],
   "source": [
    "df_loc = DATA_DIR / 'syllable_dfs' / DATASET_ID / 'phones_uniform.pickle'\n"
   ]
  },
  {
   "cell_type": "code",
   "execution_count": null,
   "metadata": {},
   "outputs": [],
   "source": [
    "specs_flattened = flatten_spectrograms(specs)\n",
    "np.shape(specs_flattened)"
   ]
  },
  {
   "cell_type": "markdown",
   "metadata": {},
   "source": [
    "#### cluster and plot"
   ]
  },
  {
   "cell_type": "code",
   "execution_count": 17,
   "metadata": {
    "ExecuteTime": {
     "end_time": "2019-10-11T22:34:02.846920Z",
     "start_time": "2019-10-11T22:34:02.101008Z"
    }
   },
   "outputs": [],
   "source": [
    "from cuml.manifold.umap import UMAP as cumlUMAP"
   ]
  },
  {
   "cell_type": "code",
   "execution_count": 18,
   "metadata": {
    "ExecuteTime": {
     "end_time": "2019-10-11T22:36:57.709777Z",
     "start_time": "2019-10-11T22:34:02.848981Z"
    }
   },
   "outputs": [
    {
     "name": "stderr",
     "output_type": "stream",
     "text": [
      "/mnt/cube/tsainbur/conda_envs/tpy3/lib/python3.6/site-packages/ipykernel_launcher.py:1: UserWarning: Parameter should_downcast is deprecated, use convert_dtype in fit, fit_transform and transform  methods instead. \n",
      "  \"\"\"Entry point for launching an IPython kernel.\n",
      "/mnt/cube/tsainbur/conda_envs/tpy3/lib/python3.6/site-packages/ipykernel_launcher.py:2: UserWarning: Parameter should_downcast is deprecated, use convert_dtype in fit, fit_transform and transform  methods instead. \n",
      "  \n"
     ]
    }
   ],
   "source": [
    "cuml_umap = cumlUMAP()\n",
    "embedding = cuml_umap.fit_transform(specs_flattened)"
   ]
  },
  {
   "cell_type": "code",
   "execution_count": 19,
   "metadata": {
    "ExecuteTime": {
     "end_time": "2019-10-11T22:36:58.629921Z",
     "start_time": "2019-10-11T22:36:57.712495Z"
    }
   },
   "outputs": [],
   "source": [
    "#fit = umap.UMAP()"
   ]
  },
  {
   "cell_type": "code",
   "execution_count": 20,
   "metadata": {
    "ExecuteTime": {
     "end_time": "2019-10-11T22:36:58.719444Z",
     "start_time": "2019-10-11T22:36:58.632196Z"
    }
   },
   "outputs": [
    {
     "data": {
      "text/plain": [
       "(837207, 2)"
      ]
     },
     "execution_count": 20,
     "metadata": {},
     "output_type": "execute_result"
    }
   ],
   "source": [
    "np.shape(embedding)"
   ]
  },
  {
   "cell_type": "code",
   "execution_count": 21,
   "metadata": {
    "ExecuteTime": {
     "end_time": "2019-10-11T22:36:59.369655Z",
     "start_time": "2019-10-11T22:36:58.723151Z"
    }
   },
   "outputs": [],
   "source": [
    "z  = list(embedding)"
   ]
  },
  {
   "cell_type": "code",
   "execution_count": 22,
   "metadata": {
    "ExecuteTime": {
     "end_time": "2019-10-11T22:37:02.479217Z",
     "start_time": "2019-10-11T22:36:59.400242Z"
    }
   },
   "outputs": [],
   "source": [
    "z = np.vstack(z)"
   ]
  },
  {
   "cell_type": "code",
   "execution_count": null,
   "metadata": {},
   "outputs": [],
   "source": []
  }
 ],
 "metadata": {
  "kernelspec": {
   "display_name": "Python 3",
   "language": "python",
   "name": "python3"
  },
  "language_info": {
   "codemirror_mode": {
    "name": "ipython",
    "version": 3
   },
   "file_extension": ".py",
   "mimetype": "text/x-python",
   "name": "python",
   "nbconvert_exporter": "python",
   "pygments_lexer": "ipython3",
   "version": "3.6.7"
  }
 },
 "nbformat": 4,
 "nbformat_minor": 2
}
