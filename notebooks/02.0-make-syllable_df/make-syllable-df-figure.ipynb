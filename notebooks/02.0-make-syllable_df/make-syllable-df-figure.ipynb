{
 "cells": [
  {
   "cell_type": "code",
   "execution_count": 1,
   "metadata": {
    "ExecuteTime": {
     "end_time": "2019-12-07T01:32:04.659714Z",
     "start_time": "2019-12-07T01:32:03.043447Z"
    }
   },
   "outputs": [
    {
     "name": "stderr",
     "output_type": "stream",
     "text": [
      "/mnt/cube/tsainbur/conda_envs/tpy3/lib/python3.6/site-packages/tqdm/autonotebook/__init__.py:14: TqdmExperimentalWarning: Using `tqdm.autonotebook.tqdm` in notebook mode. Use `tqdm.tqdm` instead to force console mode (e.g. in jupyter console)\n",
      "  \" (e.g. in jupyter console)\", TqdmExperimentalWarning)\n"
     ]
    }
   ],
   "source": [
    "import numpy as np\n",
    "import matplotlib.pyplot as plt\n",
    "%matplotlib inline\n",
    "from tqdm.autonotebook import tqdm\n",
    "from joblib import Parallel, delayed\n",
    "import pandas as pd\n",
    "from datetime import datetime"
   ]
  },
  {
   "cell_type": "code",
   "execution_count": 2,
   "metadata": {
    "ExecuteTime": {
     "end_time": "2019-12-07T01:32:07.414537Z",
     "start_time": "2019-12-07T01:32:04.663098Z"
    }
   },
   "outputs": [],
   "source": [
    "from avgn.visualization.spectrogram import draw_spec_set\n",
    "from avgn.utils.paths import DATA_DIR, most_recent_subdirectory, ensure_dir\n",
    "from avgn.dataset_names import species_dict"
   ]
  },
  {
   "cell_type": "code",
   "execution_count": 3,
   "metadata": {
    "ExecuteTime": {
     "end_time": "2019-12-07T01:32:07.432534Z",
     "start_time": "2019-12-07T01:32:07.424975Z"
    }
   },
   "outputs": [
    {
     "name": "stdout",
     "output_type": "stream",
     "text": [
      "['castellucci_mouse_usv_segmented', 'BIRD_DB_Vireo_cassinii', 'gibbon_morita_segmented', 'bengalese_finch_sober', 'buckeye', 'swamp_sparrow', 'mobysound_humpback_whale', 'koumura_bengalese_finch', 'batsong_segmented', 'giant_otter', 'BIRD_DB_Toxostoma_redivivum', 'zebra_finch_gardner_segmented', 'katahira_white_munia_segmented', 'european_starling_gentner_segmented', 'macaque_coo', 'zebra_finch_theunisson', 'marmoset', 'hildebrand_Cuviers_beaked_whale', 'hildebrand_Gervaiss_beaked_whale', 'NA_BIRDS_american_crow', 'NA_BIRDS_american_yellow_warbler', 'NA_BIRDS_blue_jay', 'NA_BIRDS_cedar_waxwing', 'NA_BIRDS_chipping_sparrow', 'NA_BIRDS_common_yellowthroat', 'NA_BIRDS_great_blue_heron', 'NA_BIRDS_house_finch', 'NA_BIRDS_indigo_bunting', 'NA_BIRDS_marsh_wren', 'NA_BIRDS_song_sparrow', 'canary_segmented']\n"
     ]
    }
   ],
   "source": [
    "datasets = list(species_dict.keys())\n",
    "print(datasets)"
   ]
  },
  {
   "cell_type": "code",
   "execution_count": 4,
   "metadata": {
    "ExecuteTime": {
     "end_time": "2019-12-07T01:32:07.526506Z",
     "start_time": "2019-12-07T01:32:07.437860Z"
    }
   },
   "outputs": [],
   "source": [
    "# for each dataset, load it, and plot a set of spectrograms"
   ]
  },
  {
   "cell_type": "code",
   "execution_count": 9,
   "metadata": {
    "ExecuteTime": {
     "end_time": "2019-12-07T01:41:57.469417Z",
     "start_time": "2019-12-07T01:41:57.446601Z"
    }
   },
   "outputs": [
    {
     "data": {
      "text/plain": [
       "([PosixPath('/local/home/tsainbur/github_repos/avgn_paper/data/syllable_dfs/castellucci_mouse_usv_segmented/mouse.pickle'),\n",
       "  PosixPath('/local/home/tsainbur/github_repos/avgn_paper/data/syllable_dfs/marmoset/marmoset.pickle'),\n",
       "  PosixPath('/local/home/tsainbur/github_repos/avgn_paper/data/syllable_dfs/BIRD_DB_Vireo_cassinii/cassins.pickle'),\n",
       "  PosixPath('/local/home/tsainbur/github_repos/avgn_paper/data/syllable_dfs/gibbon_morita_segmented/gibbon_lower.pickle'),\n",
       "  PosixPath('/local/home/tsainbur/github_repos/avgn_paper/data/syllable_dfs/bengalese_finch_sober/or60yw70.pickle'),\n",
       "  PosixPath('/local/home/tsainbur/github_repos/avgn_paper/data/syllable_dfs/batsong_segmented/fruitbat.pickle'),\n",
       "  PosixPath('/local/home/tsainbur/github_repos/avgn_paper/data/syllable_dfs/BIRD_DB_Toxostoma_redivivum/thrasher.pickle'),\n",
       "  PosixPath('/local/home/tsainbur/github_repos/avgn_paper/data/syllable_dfs/buckeye/phones.pickle'),\n",
       "  PosixPath('/local/home/tsainbur/github_repos/avgn_paper/data/syllable_dfs/swamp_sparrow/swampsparrow.pickle'),\n",
       "  PosixPath('/local/home/tsainbur/github_repos/avgn_paper/data/syllable_dfs/macaque_coo/macaque.pickle'),\n",
       "  PosixPath('/local/home/tsainbur/github_repos/avgn_paper/data/syllable_dfs/mobysound_humpback_whale/humpback.pickle'),\n",
       "  PosixPath('/local/home/tsainbur/github_repos/avgn_paper/data/syllable_dfs/koumura_bengalese_finch/Bird4.pickle'),\n",
       "  PosixPath('/local/home/tsainbur/github_repos/avgn_paper/data/syllable_dfs/zebra_finch_theunisson/macaque.pickle'),\n",
       "  PosixPath('/local/home/tsainbur/github_repos/avgn_paper/data/syllable_dfs/katahira_white_munia_segmented/munia.pickle'),\n",
       "  PosixPath('/local/home/tsainbur/github_repos/avgn_paper/data/syllable_dfs/canary_segmented/canary.pickle'),\n",
       "  PosixPath('/local/home/tsainbur/github_repos/avgn_paper/data/syllable_dfs/zebra_finch_gardner_segmented/zf.pickle'),\n",
       "  PosixPath('/local/home/tsainbur/github_repos/avgn_paper/data/syllable_dfs/giant_otter/otter.pickle'),\n",
       "  PosixPath('/local/home/tsainbur/github_repos/avgn_paper/data/syllable_dfs/european_starling_gentner_segmented/starling.pickle'),\n",
       "  PosixPath('/local/home/tsainbur/github_repos/avgn_paper/data/syllable_dfs/NA_BIRDS/nabirds.pickle'),\n",
       "  PosixPath('/local/home/tsainbur/github_repos/avgn_paper/data/syllable_dfs/hildebrand/beaked_whale.pickle')],\n",
       " 20)"
      ]
     },
     "execution_count": 9,
     "metadata": {},
     "output_type": "execute_result"
    }
   ],
   "source": [
    "dsets_to_load = list(DATA_DIR.glob('syllable_dfs/*/*.pickle'))\n",
    "all_datasets_to_load = []\n",
    "used_datasets = []\n",
    "for i in dsets_to_load:\n",
    "     if i.parent.stem in datasets:\n",
    "        if i.parent.stem not in used_datasets:\n",
    "            if i.parent.stem == 'buckeye': \n",
    "                if i.stem != 'phones':\n",
    "                    continue\n",
    "            all_datasets_to_load.append(i)\n",
    "            used_datasets.append(i.parent.stem)\n",
    "all_datasets_to_load = all_datasets_to_load + [DATA_DIR / 'syllable_dfs/NA_BIRDS/nabirds.pickle']\n",
    "all_datasets_to_load = all_datasets_to_load + [DATA_DIR / 'syllable_dfs/hildebrand/beaked_whale.pickle']\n",
    "all_datasets_to_load, len(all_datasets_to_load)        "
   ]
  },
  {
   "cell_type": "code",
   "execution_count": 10,
   "metadata": {
    "ExecuteTime": {
     "end_time": "2019-12-07T01:42:02.717592Z",
     "start_time": "2019-12-07T01:42:02.713023Z"
    }
   },
   "outputs": [],
   "source": [
    "#del dset_specs['Human (English)']"
   ]
  },
  {
   "cell_type": "code",
   "execution_count": 11,
   "metadata": {
    "ExecuteTime": {
     "end_time": "2019-12-07T01:42:02.890539Z",
     "start_time": "2019-12-07T01:42:02.885311Z"
    }
   },
   "outputs": [],
   "source": [
    "dset_specs = {}"
   ]
  },
  {
   "cell_type": "code",
   "execution_count": 12,
   "metadata": {
    "ExecuteTime": {
     "end_time": "2019-12-07T01:43:57.248366Z",
     "start_time": "2019-12-07T01:42:03.655962Z"
    },
    "scrolled": false
   },
   "outputs": [
    {
     "data": {
      "application/vnd.jupyter.widget-view+json": {
       "model_id": "c4062580f5ca4d30a9216838833661b9",
       "version_major": 2,
       "version_minor": 0
      },
      "text/plain": [
       "HBox(children=(IntProgress(value=0, max=20), HTML(value='')))"
      ]
     },
     "metadata": {},
     "output_type": "display_data"
    },
    {
     "name": "stdout",
     "output_type": "stream",
     "text": [
      "castellucci_mouse_usv_segmented\n",
      "marmoset\n",
      "BIRD_DB_Vireo_cassinii\n",
      "gibbon_morita_segmented\n",
      "bengalese_finch_sober\n",
      "batsong_segmented\n",
      "BIRD_DB_Toxostoma_redivivum\n",
      "buckeye\n",
      "swamp_sparrow\n",
      "macaque_coo\n",
      "mobysound_humpback_whale\n",
      "koumura_bengalese_finch\n",
      "zebra_finch_theunisson\n",
      "katahira_white_munia_segmented\n",
      "canary_segmented\n",
      "zebra_finch_gardner_segmented\n",
      "giant_otter\n",
      "european_starling_gentner_segmented\n",
      "NA_BIRDS\n",
      "hildebrand\n",
      "\n"
     ]
    }
   ],
   "source": [
    "for dataset in tqdm(all_datasets_to_load):\n",
    "    print(dataset.parent.stem)\n",
    "    if dataset.parent.stem in species_dict:\n",
    "        species= species_dict[dataset.parent.stem]['species']\n",
    "        \n",
    "        if species in dset_specs:\n",
    "            continue\n",
    "    \n",
    "    dset = pd.read_pickle(dataset)  \n",
    "    \n",
    "    #\n",
    "    if dataset.parent.stem == 'NA_BIRDS':\n",
    "        for species in dset.species.unique():\n",
    "            specs = dset[dset.species == species].spectrogram.values\n",
    "            idxs = np.random.choice(len(specs), size=100, replace=False)\n",
    "            dset_specs[species] = specs[idxs]    \n",
    "        continue\n",
    "    if dataset.parent.stem == 'hildebrand':\n",
    "        for species in dset.common_name.unique():\n",
    "            specs = dset[dset.common_name == species].spectrogram.values\n",
    "            idxs = np.random.choice(len(specs), size=100, replace=False)\n",
    "            dset_specs[species] = specs[idxs]    \n",
    "        continue\n",
    "    \n",
    "    species= species_dict[dataset.parent.stem]['species']\n",
    "    \n",
    "    if species == 'Common marmoset': \n",
    "            dset = dset[dset.indvi == 0]\n",
    "            dset = dset[\n",
    "                ((dset.end_time - dset.start_time).values < 2)\n",
    "                & ((dset.end_time - dset.start_time).values > 0.75)\n",
    "            ]\n",
    "            dset = dset[np.array([np.sum(i) for i in dset.spectrogram.values]) > 100]\n",
    "\n",
    "    if dataset.parent.stem == 'bengalese_finch_sober':  \n",
    "        specs = dset.syllables_spec.values\n",
    "    else:\n",
    "        specs = dset.spectrogram.values\n",
    "    idxs = np.random.choice(len(specs), size=100, replace=False)\n",
    "    dset_specs[species] = specs[idxs]    "
   ]
  },
  {
   "cell_type": "code",
   "execution_count": null,
   "metadata": {
    "ExecuteTime": {
     "end_time": "2019-12-07T01:32:08.053660Z",
     "start_time": "2019-12-07T01:32:02.637Z"
    }
   },
   "outputs": [],
   "source": [
    "dset_specs.keys()"
   ]
  },
  {
   "cell_type": "code",
   "execution_count": null,
   "metadata": {
    "ExecuteTime": {
     "end_time": "2019-12-07T01:32:08.055796Z",
     "start_time": "2019-12-07T01:32:02.638Z"
    }
   },
   "outputs": [],
   "source": [
    "from avgn.visualization.projections import scatter_spec\n",
    "from avgn.utils.general import save_fig\n",
    "from avgn.utils.paths import FIGURE_DIR, ensure_dir"
   ]
  },
  {
   "cell_type": "code",
   "execution_count": null,
   "metadata": {
    "ExecuteTime": {
     "end_time": "2019-12-07T01:32:08.057764Z",
     "start_time": "2019-12-07T01:32:02.640Z"
    }
   },
   "outputs": [],
   "source": [
    "nex = 2\n",
    "ncols = 5\n",
    "nrows = int(np.ceil(len(dset_specs.keys())/ ncols))\n",
    "zm = 8\n",
    "fig, axs = plt.subplots(ncols=ncols, nrows= nrows, figsize=(ncols*zm, nrows*zm), gridspec_kw = {'wspace':0.05})\n",
    "for si, species in tqdm(enumerate(np.sort(list(dset_specs.keys())))):\n",
    "    ax = axs.flatten()[si]\n",
    "    specs = dset_specs[species]\n",
    "    spec_size = np.shape(specs[0])\n",
    "    canvas = np.zeros((spec_size[0]*nex, spec_size[1]*nex))\n",
    "    np.shape(canvas)\n",
    "    for i in range(nex):\n",
    "        for j in range(nex):\n",
    "            a = i*nex+j\n",
    "            canvas[i*spec_size[0]:(i+1)*spec_size[0], j*spec_size[1]:(j+1)*spec_size[1]] = specs[a] / np.max(specs[a])\n",
    "            \n",
    "    ax.matshow(canvas, interpolation = None, origin='lower', aspect='auto', vmin=0, cmap= plt.cm.afmhot)\n",
    "    ax.set_title(species, fontsize=28)\n",
    "    ax.axis('off')\n",
    "for si in range(si, ncols*nrows):\n",
    "    ax = axs.flatten()[si]\n",
    "    ax.axis('off')\n",
    "#save_fig(FIGURE_DIR / 'vocalization_examples_smaller', dpi=300, save_jpg=True)"
   ]
  },
  {
   "cell_type": "code",
   "execution_count": null,
   "metadata": {},
   "outputs": [],
   "source": []
  }
 ],
 "metadata": {
  "kernelspec": {
   "display_name": "Python 3",
   "language": "python",
   "name": "python3"
  },
  "language_info": {
   "codemirror_mode": {
    "name": "ipython",
    "version": 3
   },
   "file_extension": ".py",
   "mimetype": "text/x-python",
   "name": "python",
   "nbconvert_exporter": "python",
   "pygments_lexer": "ipython3",
   "version": "3.6.7"
  }
 },
 "nbformat": 4,
 "nbformat_minor": 2
}
