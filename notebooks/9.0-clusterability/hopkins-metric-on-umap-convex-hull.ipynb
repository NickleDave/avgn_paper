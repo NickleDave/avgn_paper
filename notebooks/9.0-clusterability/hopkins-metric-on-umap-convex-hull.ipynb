{
 "cells": [
  {
   "cell_type": "code",
   "execution_count": 2,
   "metadata": {
    "ExecuteTime": {
     "end_time": "2019-11-14T19:40:39.902496Z",
     "start_time": "2019-11-14T19:40:39.889279Z"
    }
   },
   "outputs": [
    {
     "name": "stdout",
     "output_type": "stream",
     "text": [
      "The autoreload extension is already loaded. To reload it, use:\n",
      "  %reload_ext autoreload\n"
     ]
    }
   ],
   "source": [
    "%load_ext autoreload\n",
    "%autoreload 2"
   ]
  },
  {
   "cell_type": "code",
   "execution_count": 3,
   "metadata": {
    "ExecuteTime": {
     "end_time": "2019-11-14T19:40:41.727350Z",
     "start_time": "2019-11-14T19:40:39.904189Z"
    }
   },
   "outputs": [
    {
     "name": "stderr",
     "output_type": "stream",
     "text": [
      "/local/home/tsainbur/github_repos/avgn_paper/avgn/utils/general.py:8: TqdmExperimentalWarning: Using `tqdm.autonotebook.tqdm` in notebook mode. Use `tqdm.tqdm` instead to force console mode (e.g. in jupyter console)\n",
      "  from tqdm.autonotebook import tqdm\n"
     ]
    }
   ],
   "source": [
    "import numpy as np\n",
    "import pandas as pd\n",
    "from avgn.utils.paths import DATA_DIR, most_recent_subdirectory, ensure_dir\n",
    "from sklearn.preprocessing import scale\n",
    "from pyclustertend import hopkins, vat, ivat\n",
    "import matplotlib.pyplot as plt\n",
    "from tqdm.autonotebook import tqdm"
   ]
  },
  {
   "cell_type": "code",
   "execution_count": 4,
   "metadata": {
    "ExecuteTime": {
     "end_time": "2019-11-14T19:40:41.757162Z",
     "start_time": "2019-11-14T19:40:41.729659Z"
    }
   },
   "outputs": [],
   "source": [
    "from avgn.clusterability.hopkins import hopkins_statistic"
   ]
  },
  {
   "cell_type": "code",
   "execution_count": 5,
   "metadata": {
    "ExecuteTime": {
     "end_time": "2019-11-14T19:40:41.858402Z",
     "start_time": "2019-11-14T19:40:41.759198Z"
    }
   },
   "outputs": [
    {
     "data": {
      "text/plain": [
       "98"
      ]
     },
     "execution_count": 5,
     "metadata": {},
     "output_type": "execute_result"
    }
   ],
   "source": [
    "datasets = list(DATA_DIR.glob('embeddings/*/*.pickle'))\n",
    "len(datasets)"
   ]
  },
  {
   "cell_type": "code",
   "execution_count": 12,
   "metadata": {
    "ExecuteTime": {
     "end_time": "2019-11-14T19:40:55.501424Z",
     "start_time": "2019-11-14T19:40:55.433269Z"
    }
   },
   "outputs": [
    {
     "data": {
      "text/plain": [
       "[PosixPath('/local/home/tsainbur/github_repos/avgn_paper/data/embeddings/castellucci_mouse_usv_segmented/VOC592.pickle'),\n",
       " PosixPath('/local/home/tsainbur/github_repos/avgn_paper/data/embeddings/castellucci_mouse_usv_segmented/VOC591.pickle'),\n",
       " PosixPath('/local/home/tsainbur/github_repos/avgn_paper/data/embeddings/castellucci_mouse_usv_segmented/VOC597.pickle'),\n",
       " PosixPath('/local/home/tsainbur/github_repos/avgn_paper/data/embeddings/castellucci_mouse_usv_segmented/VOC594.pickle'),\n",
       " PosixPath('/local/home/tsainbur/github_repos/avgn_paper/data/embeddings/BIRD_DB_Vireo_cassinii/full.pickle'),\n",
       " PosixPath('/local/home/tsainbur/github_repos/avgn_paper/data/embeddings/gibbon_morita_segmented/full.pickle'),\n",
       " PosixPath('/local/home/tsainbur/github_repos/avgn_paper/data/embeddings/bengalese_finch_sober/or60yw70.pickle'),\n",
       " PosixPath('/local/home/tsainbur/github_repos/avgn_paper/data/embeddings/bengalese_finch_sober/gr41rd51.pickle'),\n",
       " PosixPath('/local/home/tsainbur/github_repos/avgn_paper/data/embeddings/bengalese_finch_sober/bl26lb16.pickle'),\n",
       " PosixPath('/local/home/tsainbur/github_repos/avgn_paper/data/embeddings/bengalese_finch_sober/gy6or6.pickle'),\n",
       " PosixPath('/local/home/tsainbur/github_repos/avgn_paper/data/embeddings/batsong_segmented/full.pickle'),\n",
       " PosixPath('/local/home/tsainbur/github_repos/avgn_paper/data/embeddings/BIRD_DB_Toxostoma_redivivum/CATH-TLR2.pickle'),\n",
       " PosixPath('/local/home/tsainbur/github_repos/avgn_paper/data/embeddings/BIRD_DB_Toxostoma_redivivum/CATH-TLR4.pickle'),\n",
       " PosixPath('/local/home/tsainbur/github_repos/avgn_paper/data/embeddings/BIRD_DB_Toxostoma_redivivum/CATH-TLR8.pickle'),\n",
       " PosixPath('/local/home/tsainbur/github_repos/avgn_paper/data/embeddings/BIRD_DB_Toxostoma_redivivum/CATH-TLR9.pickle'),\n",
       " PosixPath('/local/home/tsainbur/github_repos/avgn_paper/data/embeddings/BIRD_DB_Toxostoma_redivivum/CATH-CP1.pickle'),\n",
       " PosixPath('/local/home/tsainbur/github_repos/avgn_paper/data/embeddings/BIRD_DB_Toxostoma_redivivum/CATH-TLR7.pickle'),\n",
       " PosixPath('/local/home/tsainbur/github_repos/avgn_paper/data/embeddings/BIRD_DB_Toxostoma_redivivum/CATH-TLR3.pickle'),\n",
       " PosixPath('/local/home/tsainbur/github_repos/avgn_paper/data/embeddings/BIRD_DB_Toxostoma_redivivum/CATH-TLR10.pickle'),\n",
       " PosixPath('/local/home/tsainbur/github_repos/avgn_paper/data/embeddings/BIRD_DB_Toxostoma_redivivum/CATH-TLR12.pickle'),\n",
       " PosixPath('/local/home/tsainbur/github_repos/avgn_paper/data/embeddings/BIRD_DB_Toxostoma_redivivum/CATH-TLR1.pickle'),\n",
       " PosixPath('/local/home/tsainbur/github_repos/avgn_paper/data/embeddings/buckeye/human_full.pickle'),\n",
       " PosixPath('/local/home/tsainbur/github_repos/avgn_paper/data/embeddings/swamp_sparrow/full.pickle'),\n",
       " PosixPath('/local/home/tsainbur/github_repos/avgn_paper/data/embeddings/mobysound_humpback_whale/full.pickle'),\n",
       " PosixPath('/local/home/tsainbur/github_repos/avgn_paper/data/embeddings/koumura_bengalese_finch/Bird4.pickle'),\n",
       " PosixPath('/local/home/tsainbur/github_repos/avgn_paper/data/embeddings/koumura_bengalese_finch/Bird3.pickle'),\n",
       " PosixPath('/local/home/tsainbur/github_repos/avgn_paper/data/embeddings/koumura_bengalese_finch/Bird1.pickle'),\n",
       " PosixPath('/local/home/tsainbur/github_repos/avgn_paper/data/embeddings/koumura_bengalese_finch/Bird10.pickle'),\n",
       " PosixPath('/local/home/tsainbur/github_repos/avgn_paper/data/embeddings/koumura_bengalese_finch/Bird9.pickle'),\n",
       " PosixPath('/local/home/tsainbur/github_repos/avgn_paper/data/embeddings/koumura_bengalese_finch/Bird6.pickle'),\n",
       " PosixPath('/local/home/tsainbur/github_repos/avgn_paper/data/embeddings/koumura_bengalese_finch/Bird5.pickle'),\n",
       " PosixPath('/local/home/tsainbur/github_repos/avgn_paper/data/embeddings/koumura_bengalese_finch/Bird0.pickle'),\n",
       " PosixPath('/local/home/tsainbur/github_repos/avgn_paper/data/embeddings/koumura_bengalese_finch/Bird8.pickle'),\n",
       " PosixPath('/local/home/tsainbur/github_repos/avgn_paper/data/embeddings/koumura_bengalese_finch/Bird2.pickle'),\n",
       " PosixPath('/local/home/tsainbur/github_repos/avgn_paper/data/embeddings/koumura_bengalese_finch/Bird7.pickle'),\n",
       " PosixPath('/local/home/tsainbur/github_repos/avgn_paper/data/embeddings/katahira_white_munia_segmented/WM34.pickle'),\n",
       " PosixPath('/local/home/tsainbur/github_repos/avgn_paper/data/embeddings/katahira_white_munia_segmented/WM14.pickle'),\n",
       " PosixPath('/local/home/tsainbur/github_repos/avgn_paper/data/embeddings/katahira_white_munia_segmented/WM31.pickle'),\n",
       " PosixPath('/local/home/tsainbur/github_repos/avgn_paper/data/embeddings/katahira_white_munia_segmented/WM37.pickle'),\n",
       " PosixPath('/local/home/tsainbur/github_repos/avgn_paper/data/embeddings/katahira_white_munia_segmented/WM16.pickle'),\n",
       " PosixPath('/local/home/tsainbur/github_repos/avgn_paper/data/embeddings/katahira_white_munia_segmented/WM25.pickle'),\n",
       " PosixPath('/local/home/tsainbur/github_repos/avgn_paper/data/embeddings/katahira_white_munia_segmented/WM19.pickle'),\n",
       " PosixPath('/local/home/tsainbur/github_repos/avgn_paper/data/embeddings/katahira_white_munia_segmented/WM03.pickle'),\n",
       " PosixPath('/local/home/tsainbur/github_repos/avgn_paper/data/embeddings/katahira_white_munia_segmented/WM04.pickle'),\n",
       " PosixPath('/local/home/tsainbur/github_repos/avgn_paper/data/embeddings/katahira_white_munia_segmented/WM09.pickle'),\n",
       " PosixPath('/local/home/tsainbur/github_repos/avgn_paper/data/embeddings/katahira_white_munia_segmented/WM13.pickle'),\n",
       " PosixPath('/local/home/tsainbur/github_repos/avgn_paper/data/embeddings/katahira_white_munia_segmented/WM21.pickle'),\n",
       " PosixPath('/local/home/tsainbur/github_repos/avgn_paper/data/embeddings/katahira_white_munia_segmented/WM27.pickle'),\n",
       " PosixPath('/local/home/tsainbur/github_repos/avgn_paper/data/embeddings/katahira_white_munia_segmented/WM40.pickle'),\n",
       " PosixPath('/local/home/tsainbur/github_repos/avgn_paper/data/embeddings/katahira_white_munia_segmented/WM33.pickle'),\n",
       " PosixPath('/local/home/tsainbur/github_repos/avgn_paper/data/embeddings/katahira_white_munia_segmented/WM35.pickle'),\n",
       " PosixPath('/local/home/tsainbur/github_repos/avgn_paper/data/embeddings/katahira_white_munia_segmented/WM05.pickle'),\n",
       " PosixPath('/local/home/tsainbur/github_repos/avgn_paper/data/embeddings/katahira_white_munia_segmented/WM44.pickle'),\n",
       " PosixPath('/local/home/tsainbur/github_repos/avgn_paper/data/embeddings/katahira_white_munia_segmented/WM11.pickle'),\n",
       " PosixPath('/local/home/tsainbur/github_repos/avgn_paper/data/embeddings/katahira_white_munia_segmented/WM02.pickle'),\n",
       " PosixPath('/local/home/tsainbur/github_repos/avgn_paper/data/embeddings/katahira_white_munia_segmented/WM41.pickle'),\n",
       " PosixPath('/local/home/tsainbur/github_repos/avgn_paper/data/embeddings/katahira_white_munia_segmented/WM08.pickle'),\n",
       " PosixPath('/local/home/tsainbur/github_repos/avgn_paper/data/embeddings/katahira_white_munia_segmented/WM17.pickle'),\n",
       " PosixPath('/local/home/tsainbur/github_repos/avgn_paper/data/embeddings/katahira_white_munia_segmented/WM39.pickle'),\n",
       " PosixPath('/local/home/tsainbur/github_repos/avgn_paper/data/embeddings/katahira_white_munia_segmented/WM38.pickle'),\n",
       " PosixPath('/local/home/tsainbur/github_repos/avgn_paper/data/embeddings/katahira_white_munia_segmented/WM42.pickle'),\n",
       " PosixPath('/local/home/tsainbur/github_repos/avgn_paper/data/embeddings/katahira_white_munia_segmented/WM18.pickle'),\n",
       " PosixPath('/local/home/tsainbur/github_repos/avgn_paper/data/embeddings/katahira_white_munia_segmented/WM12.pickle'),\n",
       " PosixPath('/local/home/tsainbur/github_repos/avgn_paper/data/embeddings/katahira_white_munia_segmented/WM26.pickle'),\n",
       " PosixPath('/local/home/tsainbur/github_repos/avgn_paper/data/embeddings/katahira_white_munia_segmented/WM24.pickle'),\n",
       " PosixPath('/local/home/tsainbur/github_repos/avgn_paper/data/embeddings/katahira_white_munia_segmented/WM06.pickle'),\n",
       " PosixPath('/local/home/tsainbur/github_repos/avgn_paper/data/embeddings/katahira_white_munia_segmented/WM07.pickle'),\n",
       " PosixPath('/local/home/tsainbur/github_repos/avgn_paper/data/embeddings/katahira_white_munia_segmented/WM30.pickle'),\n",
       " PosixPath('/local/home/tsainbur/github_repos/avgn_paper/data/embeddings/katahira_white_munia_segmented/WM15.pickle'),\n",
       " PosixPath('/local/home/tsainbur/github_repos/avgn_paper/data/embeddings/katahira_white_munia_segmented/WM01.pickle'),\n",
       " PosixPath('/local/home/tsainbur/github_repos/avgn_paper/data/embeddings/katahira_white_munia_segmented/WM36.pickle'),\n",
       " PosixPath('/local/home/tsainbur/github_repos/avgn_paper/data/embeddings/katahira_white_munia_segmented/WM20.pickle'),\n",
       " PosixPath('/local/home/tsainbur/github_repos/avgn_paper/data/embeddings/katahira_white_munia_segmented/WM28.pickle'),\n",
       " PosixPath('/local/home/tsainbur/github_repos/avgn_paper/data/embeddings/katahira_white_munia_segmented/WM32.pickle'),\n",
       " PosixPath('/local/home/tsainbur/github_repos/avgn_paper/data/embeddings/katahira_white_munia_segmented/WM23.pickle'),\n",
       " PosixPath('/local/home/tsainbur/github_repos/avgn_paper/data/embeddings/katahira_white_munia_segmented/WM29.pickle'),\n",
       " PosixPath('/local/home/tsainbur/github_repos/avgn_paper/data/embeddings/katahira_white_munia_segmented/WM22.pickle'),\n",
       " PosixPath('/local/home/tsainbur/github_repos/avgn_paper/data/embeddings/katahira_white_munia_segmented/WM10.pickle'),\n",
       " PosixPath('/local/home/tsainbur/github_repos/avgn_paper/data/embeddings/katahira_white_munia_segmented/WM43.pickle'),\n",
       " PosixPath('/local/home/tsainbur/github_repos/avgn_paper/data/embeddings/canary_segmented/bird6.pickle'),\n",
       " PosixPath('/local/home/tsainbur/github_repos/avgn_paper/data/embeddings/canary_segmented/bird2.pickle'),\n",
       " PosixPath('/local/home/tsainbur/github_repos/avgn_paper/data/embeddings/canary_segmented/bird1.pickle'),\n",
       " PosixPath('/local/home/tsainbur/github_repos/avgn_paper/data/embeddings/canary_segmented/bird4.pickle'),\n",
       " PosixPath('/local/home/tsainbur/github_repos/avgn_paper/data/embeddings/canary_segmented/bird3.pickle'),\n",
       " PosixPath('/local/home/tsainbur/github_repos/avgn_paper/data/embeddings/zebra_finch_gardner_segmented/lr28.pickle'),\n",
       " PosixPath('/local/home/tsainbur/github_repos/avgn_paper/data/embeddings/zebra_finch_gardner_segmented/lny42.pickle'),\n",
       " PosixPath('/local/home/tsainbur/github_repos/avgn_paper/data/embeddings/zebra_finch_gardner_segmented/lny64.pickle'),\n",
       " PosixPath('/local/home/tsainbur/github_repos/avgn_paper/data/embeddings/zebra_finch_gardner_segmented/lr77.pickle'),\n",
       " PosixPath('/local/home/tsainbur/github_repos/avgn_paper/data/embeddings/zebra_finch_gardner_segmented/lr13.pickle'),\n",
       " PosixPath('/local/home/tsainbur/github_repos/avgn_paper/data/embeddings/zebra_finch_gardner_segmented/lr12.pickle'),\n",
       " PosixPath('/local/home/tsainbur/github_repos/avgn_paper/data/embeddings/giant_otter/full.pickle'),\n",
       " PosixPath('/local/home/tsainbur/github_repos/avgn_paper/data/embeddings/european_starling_gentner_segmented/b1076.pickle'),\n",
       " PosixPath('/local/home/tsainbur/github_repos/avgn_paper/data/embeddings/european_starling_gentner_segmented/b1053.pickle'),\n",
       " PosixPath('/local/home/tsainbur/github_repos/avgn_paper/data/embeddings/european_starling_gentner_segmented/b1060.pickle'),\n",
       " PosixPath('/local/home/tsainbur/github_repos/avgn_paper/data/embeddings/european_starling_gentner_segmented/b1125.pickle'),\n",
       " PosixPath('/local/home/tsainbur/github_repos/avgn_paper/data/embeddings/european_starling_gentner_segmented/b1143.pickle'),\n",
       " PosixPath('/local/home/tsainbur/github_repos/avgn_paper/data/embeddings/european_starling_gentner_segmented/b1077.pickle'),\n",
       " PosixPath('/local/home/tsainbur/github_repos/avgn_paper/data/embeddings/european_starling_gentner_segmented/b1066.pickle')]"
      ]
     },
     "execution_count": 12,
     "metadata": {},
     "output_type": "execute_result"
    }
   ],
   "source": [
    "datasets"
   ]
  },
  {
   "cell_type": "code",
   "execution_count": 6,
   "metadata": {
    "ExecuteTime": {
     "end_time": "2019-11-14T19:40:41.937653Z",
     "start_time": "2019-11-14T19:40:41.860076Z"
    }
   },
   "outputs": [],
   "source": [
    "def remove_outliers(z, pct = 99.5):\n",
    "    \"\"\" GPU based UMAP algorithm produces some outliers that UMAP does not, but is much faster\n",
    "    this is a quick fix for that. \n",
    "    \"\"\"\n",
    "    _min = np.percentile(z, (100-pct), axis=0)\n",
    "    _max = np.percentile(z, pct, axis=0)\n",
    "    for col in range(np.shape(z)[1]):\n",
    "        mask = z[:,col] < _min[col]\n",
    "        z[mask,col] = _min[col]\n",
    "        mask = z[:,col] > _max[col]\n",
    "        z[mask,col] = _max[col]\n",
    "    return z"
   ]
  },
  {
   "cell_type": "code",
   "execution_count": 7,
   "metadata": {
    "ExecuteTime": {
     "end_time": "2019-11-14T19:40:42.019717Z",
     "start_time": "2019-11-14T19:40:41.940043Z"
    }
   },
   "outputs": [],
   "source": [
    "def gen_clusterability_df(dataset):\n",
    "\n",
    "    save_loc = DATA_DIR / 'clusterability' / 'convex_sample' / \\\n",
    "        (dataset.parent.stem + '_ ' + dataset.stem + '.pickle')\n",
    "\n",
    "    if save_loc.exists():\n",
    "        return\n",
    "\n",
    "    ds = pd.read_pickle(dataset)\n",
    "    specs = np.stack(ds[['spectrogram']].spectrogram.values)\n",
    "    specs = specs.reshape(len(specs), -1)\n",
    "    specs = scale(specs)\n",
    "\n",
    "    umap_proj = np.vstack(ds[['umap']].umap.values)\n",
    "    umap_proj = remove_outliers(umap_proj, pct=99.5)\n",
    "    umap_proj = scale(umap_proj)\n",
    "\n",
    "    print((dataset, np.shape(umap_proj)))\n",
    "    fig, ax = plt.subplots()\n",
    "    ax.scatter(umap_proj[:, 0], umap_proj[:, 1], s=1, color='k', alpha=0.1)\n",
    "    plt.show()\n",
    "\n",
    "    hopkins_dict = {\n",
    "        'umap':\n",
    "        {\n",
    "            0.01: hopkins_statistic(umap_proj, m_prop_n=0.01, n_neighbors=1, distribution=\"uniform_convex_hull\"),\n",
    "            0.1: hopkins_statistic(umap_proj, m_prop_n=0.1, n_neighbors=1, distribution=\"uniform_convex_hull\"),\n",
    "        },\n",
    "\n",
    "    }\n",
    "\n",
    "    clusterability_df = pd.DataFrame([[dataset, dataset.parent.stem, dataset.stem,\n",
    "                                       hopkins_dict['umap'][0.01], hopkins_dict['umap'][0.1], ]], columns=[\n",
    "        'df', 'dataset', 'indv',\n",
    "        'umap_hopkins_1', 'umap_hopkins_10'\n",
    "    ])\n",
    "\n",
    "    clusterability_df.to_pickle(save_loc)"
   ]
  },
  {
   "cell_type": "code",
   "execution_count": 8,
   "metadata": {
    "ExecuteTime": {
     "end_time": "2019-11-14T19:40:42.112223Z",
     "start_time": "2019-11-14T19:40:42.021634Z"
    }
   },
   "outputs": [],
   "source": [
    "ensure_dir(DATA_DIR / 'clusterability' / 'convex_sample')"
   ]
  },
  {
   "cell_type": "code",
   "execution_count": 9,
   "metadata": {
    "ExecuteTime": {
     "end_time": "2019-11-14T19:40:42.201884Z",
     "start_time": "2019-11-14T19:40:42.114052Z"
    }
   },
   "outputs": [],
   "source": [
    "from joblib import Parallel, delayed"
   ]
  },
  {
   "cell_type": "code",
   "execution_count": 11,
   "metadata": {
    "ExecuteTime": {
     "end_time": "2019-11-14T19:40:50.600561Z",
     "start_time": "2019-11-14T19:40:46.389819Z"
    }
   },
   "outputs": [
    {
     "data": {
      "application/vnd.jupyter.widget-view+json": {
       "model_id": "88e9dcacabc949668c32522e6ac5944c",
       "version_major": 2,
       "version_minor": 0
      },
      "text/plain": [
       "HBox(children=(IntProgress(value=0, max=98), HTML(value='')))"
      ]
     },
     "metadata": {},
     "output_type": "display_data"
    },
    {
     "name": "stderr",
     "output_type": "stream",
     "text": [
      "[Parallel(n_jobs=-1)]: Using backend LokyBackend with 24 concurrent workers.\n",
      "[Parallel(n_jobs=-1)]: Done   2 tasks      | elapsed:    3.0s\n",
      "[Parallel(n_jobs=-1)]: Done  13 tasks      | elapsed:    3.0s\n",
      "[Parallel(n_jobs=-1)]: Done  24 tasks      | elapsed:    3.0s\n",
      "[Parallel(n_jobs=-1)]: Done  37 tasks      | elapsed:    3.1s\n"
     ]
    },
    {
     "name": "stdout",
     "output_type": "stream",
     "text": [
      "\n"
     ]
    },
    {
     "name": "stderr",
     "output_type": "stream",
     "text": [
      "[Parallel(n_jobs=-1)]: Done  50 tasks      | elapsed:    3.3s\n",
      "[Parallel(n_jobs=-1)]: Done  61 out of  98 | elapsed:    3.3s remaining:    2.0s\n",
      "[Parallel(n_jobs=-1)]: Done  71 out of  98 | elapsed:    3.5s remaining:    1.3s\n",
      "[Parallel(n_jobs=-1)]: Done  81 out of  98 | elapsed:    3.5s remaining:    0.7s\n",
      "[Parallel(n_jobs=-1)]: Done  91 out of  98 | elapsed:    3.7s remaining:    0.3s\n",
      "[Parallel(n_jobs=-1)]: Done  98 out of  98 | elapsed:    4.1s finished\n"
     ]
    }
   ],
   "source": [
    "clust_data = Parallel(n_jobs=-1, verbose=10)(\n",
    "    delayed(gen_clusterability_df)(dataset)\n",
    "    for dataset in tqdm(datasets)\n",
    ")"
   ]
  },
  {
   "cell_type": "code",
   "execution_count": null,
   "metadata": {},
   "outputs": [],
   "source": []
  }
 ],
 "metadata": {
  "kernelspec": {
   "display_name": "Python [conda env:anaconda3-py19] *",
   "language": "python",
   "name": "conda-env-anaconda3-py19-py"
  },
  "language_info": {
   "codemirror_mode": {
    "name": "ipython",
    "version": 3
   },
   "file_extension": ".py",
   "mimetype": "text/x-python",
   "name": "python",
   "nbconvert_exporter": "python",
   "pygments_lexer": "ipython3",
   "version": "3.6.7"
  }
 },
 "nbformat": 4,
 "nbformat_minor": 2
}
