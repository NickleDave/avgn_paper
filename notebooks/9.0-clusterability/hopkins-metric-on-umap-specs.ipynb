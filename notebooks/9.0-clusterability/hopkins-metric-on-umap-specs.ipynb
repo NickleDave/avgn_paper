{
 "cells": [
  {
   "cell_type": "code",
   "execution_count": 1,
   "metadata": {
    "ExecuteTime": {
     "end_time": "2019-11-13T21:40:51.524507Z",
     "start_time": "2019-11-13T21:40:51.478193Z"
    }
   },
   "outputs": [],
   "source": [
    "%load_ext autoreload\n",
    "%autoreload 2"
   ]
  },
  {
   "cell_type": "code",
   "execution_count": 2,
   "metadata": {
    "ExecuteTime": {
     "end_time": "2019-11-13T21:41:02.480543Z",
     "start_time": "2019-11-13T21:40:52.147101Z"
    }
   },
   "outputs": [
    {
     "name": "stderr",
     "output_type": "stream",
     "text": [
      "/home/AD/tsainbur/anaconda3/envs/py19/lib/python3.6/site-packages/tqdm/autonotebook.py:17: TqdmExperimentalWarning: Using `tqdm.autonotebook.tqdm` in notebook mode. Use `tqdm.tqdm` instead to force console mode (e.g. in jupyter console)\n",
      "  \" (e.g. in jupyter console)\", TqdmExperimentalWarning)\n"
     ]
    }
   ],
   "source": [
    "import numpy as np\n",
    "import pandas as pd\n",
    "from avgn.utils.paths import DATA_DIR, most_recent_subdirectory, ensure_dir\n",
    "from sklearn.preprocessing import scale\n",
    "from pyclustertend import hopkins, vat, ivat\n",
    "import matplotlib.pyplot as plt\n",
    "from tqdm.autonotebook import tqdm"
   ]
  },
  {
   "cell_type": "code",
   "execution_count": 3,
   "metadata": {
    "ExecuteTime": {
     "end_time": "2019-11-13T22:13:05.483447Z",
     "start_time": "2019-11-13T22:13:05.247545Z"
    }
   },
   "outputs": [],
   "source": [
    "from avgn.clusterability.hopkins import hopkins_statistic"
   ]
  },
  {
   "cell_type": "code",
   "execution_count": 4,
   "metadata": {
    "ExecuteTime": {
     "end_time": "2019-11-13T22:13:06.034813Z",
     "start_time": "2019-11-13T22:13:05.639756Z"
    }
   },
   "outputs": [
    {
     "data": {
      "text/plain": [
       "84"
      ]
     },
     "execution_count": 4,
     "metadata": {},
     "output_type": "execute_result"
    }
   ],
   "source": [
    "datasets = list(DATA_DIR.glob('embeddings/*/*.pickle'))\n",
    "len(datasets)"
   ]
  },
  {
   "cell_type": "code",
   "execution_count": 5,
   "metadata": {
    "ExecuteTime": {
     "end_time": "2019-11-13T22:13:06.082625Z",
     "start_time": "2019-11-13T22:13:06.038118Z"
    }
   },
   "outputs": [],
   "source": [
    "def remove_outliers(z, pct = 99.5):\n",
    "    \"\"\" GPU based UMAP algorithm produces some outliers that UMAP does not, but is much faster\n",
    "    this is a quick fix for that. \n",
    "    \"\"\"\n",
    "    _min = np.percentile(z, (100-pct), axis=0)\n",
    "    _max = np.percentile(z, pct, axis=0)\n",
    "    for col in range(np.shape(z)[1]):\n",
    "        mask = z[:,col] < _min[col]\n",
    "        z[mask,col] = _min[col]\n",
    "        mask = z[:,col] > _max[col]\n",
    "        z[mask,col] = _max[col]\n",
    "    return z"
   ]
  },
  {
   "cell_type": "code",
   "execution_count": 29,
   "metadata": {
    "ExecuteTime": {
     "end_time": "2019-11-14T03:44:48.840915Z",
     "start_time": "2019-11-14T03:44:48.774639Z"
    }
   },
   "outputs": [],
   "source": [
    "def gen_clusterability_df(dataset):\n",
    "    \n",
    "    save_loc = DATA_DIR / 'clusterability'/ (dataset.parent.stem + '_ '+ dataset.stem + '.pickle')\n",
    "    \n",
    "    if save_loc.exists():\n",
    "        return \n",
    "    \n",
    "    ds = pd.read_pickle(dataset)\n",
    "    specs = np.stack(ds[['spectrogram']].spectrogram.values)\n",
    "    specs = specs.reshape(len(specs),-1)\n",
    "    specs = scale(specs)\n",
    "    \n",
    "    umap_proj = np.vstack(ds[['umap']].umap.values)\n",
    "    umap_proj = remove_outliers(umap_proj, pct=99.5)\n",
    "    umap_proj = scale(umap_proj)\n",
    "\n",
    "    print(dataset, np.shape(umap_proj))\n",
    "    fig, ax = plt.subplots()\n",
    "    ax.scatter(umap_proj[:, 0], umap_proj[:, 1], s=1, color='k', alpha=0.1)\n",
    "    plt.show()\n",
    "    \n",
    "    hopkins_dict = {\n",
    "        'umap':\n",
    "        {\n",
    "            0.01: hopkins_statistic(umap_proj, m_prop_n=0.01, n_neighbors = 1),\n",
    "            0.1: hopkins_statistic(umap_proj, m_prop_n=0.1, n_neighbors = 1),\n",
    "        },\n",
    "        'spec':\n",
    "        {\n",
    "            0.01: hopkins_statistic(specs, m_prop_n=0.01, n_neighbors = 1),\n",
    "            0.1: hopkins_statistic(specs, m_prop_n=0.1, n_neighbors = 1),\n",
    "        } \n",
    "        \n",
    "        \n",
    "    }\n",
    "    \n",
    "    clusterability_df = pd.DataFrame([[dataset, dataset.parent.stem, dataset.stem, \n",
    "        hopkins_dict['umap'][0.01], hopkins_dict['umap'][0.1],\n",
    "        hopkins_dict['spec'][0.01], hopkins_dict['spec'][0.1],]], columns=[\n",
    "        'df', 'dataset', 'indv', \n",
    "    'umap_hopkins_1', 'umap_hopkins_10', 'spec_hopkins_1', 'spec_hopkins_10'\n",
    "    ])\n",
    "\n",
    "    clusterability_df.to_pickle(save_loc)"
   ]
  },
  {
   "cell_type": "code",
   "execution_count": 30,
   "metadata": {
    "ExecuteTime": {
     "end_time": "2019-11-14T03:44:49.016285Z",
     "start_time": "2019-11-14T03:44:48.971709Z"
    }
   },
   "outputs": [],
   "source": [
    "ensure_dir(DATA_DIR / 'clusterability')"
   ]
  },
  {
   "cell_type": "code",
   "execution_count": 31,
   "metadata": {
    "ExecuteTime": {
     "end_time": "2019-11-14T03:44:49.179520Z",
     "start_time": "2019-11-14T03:44:49.134297Z"
    }
   },
   "outputs": [],
   "source": [
    "from joblib import Parallel, delayed"
   ]
  },
  {
   "cell_type": "code",
   "execution_count": 32,
   "metadata": {
    "ExecuteTime": {
     "end_time": "2019-11-15T01:15:02.740073Z",
     "start_time": "2019-11-14T03:44:49.306485Z"
    }
   },
   "outputs": [
    {
     "data": {
      "application/vnd.jupyter.widget-view+json": {
       "model_id": "6a0a227e721742bf87cfe782cb4a356f",
       "version_major": 2,
       "version_minor": 0
      },
      "text/plain": [
       "HBox(children=(IntProgress(value=0, max=84), HTML(value='')))"
      ]
     },
     "metadata": {},
     "output_type": "display_data"
    },
    {
     "name": "stderr",
     "output_type": "stream",
     "text": [
      "[Parallel(n_jobs=-1)]: Using backend LokyBackend with 24 concurrent workers.\n",
      "[Parallel(n_jobs=-1)]: Done   2 tasks      | elapsed:   10.6s\n",
      "[Parallel(n_jobs=-1)]: Done  13 tasks      | elapsed:   43.4s\n",
      "[Parallel(n_jobs=-1)]: Done  24 tasks      | elapsed:  1.1min\n"
     ]
    },
    {
     "name": "stdout",
     "output_type": "stream",
     "text": [
      "\n"
     ]
    },
    {
     "name": "stderr",
     "output_type": "stream",
     "text": [
      "[Parallel(n_jobs=-1)]: Done  37 tasks      | elapsed:  1.3min\n",
      "[Parallel(n_jobs=-1)]: Done  46 out of  84 | elapsed:  1.5min remaining:  1.2min\n",
      "[Parallel(n_jobs=-1)]: Done  55 out of  84 | elapsed:  2.1min remaining:  1.1min\n",
      "[Parallel(n_jobs=-1)]: Done  64 out of  84 | elapsed:  5.1min remaining:  1.6min\n",
      "[Parallel(n_jobs=-1)]: Done  73 out of  84 | elapsed: 10.2min remaining:  1.5min\n",
      "[Parallel(n_jobs=-1)]: Done  82 out of  84 | elapsed: 25.7min remaining:   37.6s\n",
      "[Parallel(n_jobs=-1)]: Done  84 out of  84 | elapsed: 1290.2min finished\n"
     ]
    }
   ],
   "source": [
    "clust_data = Parallel(n_jobs=-1, verbose=10)(\n",
    "    delayed(gen_clusterability_df)(dataset)\n",
    "    for dataset in tqdm(datasets)\n",
    ")"
   ]
  },
  {
   "cell_type": "code",
   "execution_count": 12,
   "metadata": {
    "ExecuteTime": {
     "end_time": "2019-11-14T03:09:47.028443Z",
     "start_time": "2019-11-14T03:09:46.980425Z"
    }
   },
   "outputs": [
    {
     "data": {
      "text/plain": [
       "Parallel(n_jobs=<generator object <genexpr> at 0x7ff9ed5b2f10>)"
      ]
     },
     "execution_count": 12,
     "metadata": {},
     "output_type": "execute_result"
    }
   ],
   "source": [
    "clust_data"
   ]
  },
  {
   "cell_type": "code",
   "execution_count": null,
   "metadata": {
    "ExecuteTime": {
     "start_time": "2019-11-13T20:27:02.106Z"
    },
    "scrolled": true
   },
   "outputs": [],
   "source": [
    "clusterability_df = pd.DataFrame(columns=[\n",
    "    'df', 'dataset', 'indv', \n",
    "'umap_hopkins_1', 'umap_hopkins_10', 'spec_hopkins_1', 'spec_hopkins_10'\n",
    "])\n",
    "for dataset in tqdm(datasets):\n",
    "    ds = pd.read_pickle(dataset)\n",
    "    specs = np.stack(ds[['spectrogram']].spectrogram.values)\n",
    "    specs = specs.reshape(len(specs),-1)\n",
    "    specs = scale(specs)\n",
    "    \n",
    "    umap_proj = np.vstack(ds[['umap']].umap.values)\n",
    "    umap_proj = remove_outliers(umap_proj, pct=99.5)\n",
    "    umap_proj = scale(umap_proj)\n",
    "\n",
    "    print(dataset, np.shape(umap_proj))\n",
    "    fig, ax = plt.subplots()\n",
    "    ax.scatter(umap_proj[:, 0], umap_proj[:, 1], s=1, color='k', alpha=0.1)\n",
    "    plt.show()\n",
    "    \n",
    "    hopkins_dict = {\n",
    "        'umap':\n",
    "        {\n",
    "            0.01: hopkins_statistic(umap_proj, m_prop_n=0.01, n_neighbors = 1),\n",
    "            0.1: hopkins_statistic(umap_proj, m_prop_n=0.1, n_neighbors = 1),\n",
    "        },\n",
    "        'spec':\n",
    "        {\n",
    "            0.01: hopkins_statistic(specs, m_prop_n=0.01, n_neighbors = 1),\n",
    "            0.1: hopkins_statistic(specs, m_prop_n=0.1, n_neighbors = 1),\n",
    "        } \n",
    "        \n",
    "        \n",
    "    }\n",
    "\n",
    "    clusterability_df.loc[len(clusterability_df)] = [\n",
    "        dataset, dataset.parent.stem, dataset.stem, \n",
    "        hopkins_dict['umap'][0.01], hopkins_dict['umap'][0.1],\n",
    "        hopkins_dict['spec'][0.01], hopkins_dict['spec'][0.1],\n",
    "    ]"
   ]
  },
  {
   "cell_type": "code",
   "execution_count": null,
   "metadata": {
    "ExecuteTime": {
     "end_time": "2019-11-13T18:54:52.849413Z",
     "start_time": "2019-11-13T18:54:52.787337Z"
    }
   },
   "outputs": [],
   "source": [
    "clusterability_df[:3]"
   ]
  },
  {
   "cell_type": "code",
   "execution_count": null,
   "metadata": {
    "ExecuteTime": {
     "end_time": "2019-11-13T18:54:52.986052Z",
     "start_time": "2019-11-13T18:54:52.937410Z"
    }
   },
   "outputs": [],
   "source": [
    "clusterability_df.dataset.unique()"
   ]
  },
  {
   "cell_type": "code",
   "execution_count": null,
   "metadata": {
    "ExecuteTime": {
     "end_time": "2019-11-13T18:54:53.393644Z",
     "start_time": "2019-11-13T18:54:53.339074Z"
    }
   },
   "outputs": [],
   "source": [
    "species_dict = {\n",
    "    'castellucci_mouse_usv_segmented': {\n",
    "        'species': 'Mouse',\n",
    "        'group': 'mammal'\n",
    "    },\n",
    "    'BIRD_DB_Vireo_cassinii': {\n",
    "        'species': 'Cassin\\'s vireo',\n",
    "        'group': 'songbird'\n",
    "    },\n",
    "    'gibbon_morita_segmented': {\n",
    "        'species': 'Gibbon',\n",
    "        'group': 'mammal'\n",
    "    },\n",
    "    'bengalese_finch_sober': {\n",
    "        'species': 'Bengalese finch',\n",
    "        'group': 'songbird'\n",
    "    },\n",
    "    'buckeye': {\n",
    "        'species': 'Human (English)',\n",
    "        'group': 'mammal'\n",
    "    },\n",
    "    'swamp_sparrow': {\n",
    "        'species': 'Swamp sparrow',\n",
    "        'group': 'songbird'\n",
    "    },\n",
    "    'mobysound_humpback_whale': {\n",
    "        'species': 'Humpback whale',\n",
    "        'group': 'mammal'\n",
    "    },\n",
    "    'koumura_bengalese_finch': {\n",
    "        'species': 'Bengalese finch',\n",
    "        'group': 'songbird'\n",
    "    },\n",
    "    'giant_otter': {\n",
    "        'species': 'Giant otter',\n",
    "        'group': 'mammal'\n",
    "    },\n",
    "    'BIRD_DB_Toxostoma_redivivum': {\n",
    "        'species': 'California thrasher',\n",
    "        'group': 'songbird'\n",
    "    },\n",
    "    'zebra_finch_gardner_segmented': {\n",
    "        'species': 'Zebra finch',\n",
    "        'group': 'songbird'\n",
    "    },\n",
    "    'katahira_white_munia_segmented': {\n",
    "        'species': 'White-rumped munia',\n",
    "        'group': 'songbird'\n",
    "    },\n",
    "    'european_starling_gentner_segmented': {\n",
    "        'species': 'European starling',\n",
    "        'group': 'songbird'\n",
    "    },\n",
    "}"
   ]
  },
  {
   "cell_type": "code",
   "execution_count": null,
   "metadata": {
    "ExecuteTime": {
     "end_time": "2019-11-13T18:54:56.050551Z",
     "start_time": "2019-11-13T18:54:56.002106Z"
    }
   },
   "outputs": [],
   "source": [
    "clusterability_df['species'] = [species_dict[ds]['species']  for ds in clusterability_df['dataset'].values]\n",
    "clusterability_df['family'] = [species_dict[ds]['group']  for ds in clusterability_df['dataset'].values]"
   ]
  },
  {
   "cell_type": "code",
   "execution_count": null,
   "metadata": {
    "ExecuteTime": {
     "end_time": "2019-11-13T18:55:07.560509Z",
     "start_time": "2019-11-13T18:55:07.478541Z"
    }
   },
   "outputs": [],
   "source": [
    "clusterability_df[:3]"
   ]
  },
  {
   "cell_type": "code",
   "execution_count": null,
   "metadata": {
    "ExecuteTime": {
     "end_time": "2019-11-13T18:54:57.236852Z",
     "start_time": "2019-11-13T18:54:56.690106Z"
    }
   },
   "outputs": [],
   "source": [
    "import seaborn as sns"
   ]
  },
  {
   "cell_type": "code",
   "execution_count": null,
   "metadata": {
    "ExecuteTime": {
     "end_time": "2019-11-13T18:54:57.284298Z",
     "start_time": "2019-11-13T18:54:57.240974Z"
    }
   },
   "outputs": [],
   "source": [
    "from avgn.utils.general import save_fig\n",
    "from avgn.utils.paths import FIGURE_DIR, ensure_dir"
   ]
  },
  {
   "cell_type": "code",
   "execution_count": null,
   "metadata": {
    "ExecuteTime": {
     "end_time": "2019-11-13T18:55:16.002670Z",
     "start_time": "2019-11-13T18:55:14.505577Z"
    }
   },
   "outputs": [],
   "source": [
    "sns.set(style='white', font_scale=2)\n",
    "\n",
    "metric = 'umap_hopkins_10'\n",
    "\n",
    "fig, ax = plt.subplots(ncols=1, figsize=(15, 8))\n",
    "\n",
    "# log scale\n",
    "result = clusterability_df.groupby([\"species\", 'family'])[metric].aggregate(\n",
    "    np.median).reset_index().sort_values(metric)\n",
    "#result[metric] = -np.log(result[metric])\n",
    "\n",
    "# create bar chart\n",
    "bar = sns.barplot(\n",
    "    x=metric,\n",
    "    y=\"species\",\n",
    "    hue='family',\n",
    "    dodge=False,\n",
    "    data=result,\n",
    "    ax=ax,\n",
    "    linewidth=3,\n",
    "    edgecolor=\"0\",\n",
    "    order=result['species'],\n",
    "    #log=True,\n",
    "    #width = 1,\n",
    "    palette = sns.color_palette('Set1')\n",
    ")\n",
    "ax.set_xlabel('Clusterability ($\\it{-log(Hopkin\\'s\\ metric)}$)', fontsize=24)\n",
    "ax.set_ylabel('')\n",
    "ax.get_legend().remove()\n",
    "\n",
    "for axis in ['top','left','right']:\n",
    "    ax.spines[axis].set_linewidth(0)\n",
    "ax.spines['bottom'].set_linewidth(5)\n",
    "\n",
    "ylim = ax.get_ylim()\n",
    "ax.set_ylim([ylim[0]+.25, ylim[1]])\n",
    "ax.set_xlim([0.5,1])\n",
    "#save_fig(FIGURE_DIR / 'hopkins_comparison', dpi=300, save_jpg=False, save_png=True)"
   ]
  },
  {
   "cell_type": "code",
   "execution_count": null,
   "metadata": {
    "ExecuteTime": {
     "end_time": "2019-11-13T18:57:22.201258Z",
     "start_time": "2019-11-13T18:57:20.922114Z"
    }
   },
   "outputs": [],
   "source": [
    "sns.set(style='white', font_scale=2)\n",
    "\n",
    "metric = 'spec_hopkins_10'\n",
    "\n",
    "fig, ax = plt.subplots(ncols=1, figsize=(15, 8))\n",
    "\n",
    "# log scale\n",
    "result = clusterability_df.groupby([\"species\", 'family'])[metric].aggregate(\n",
    "    np.median).reset_index().sort_values(metric)\n",
    "result[metric] = (1 - result[metric])\n",
    "\n",
    "# create bar chart\n",
    "bar = sns.barplot(\n",
    "    x=metric,\n",
    "    y=\"species\",\n",
    "    hue='family',\n",
    "    dodge=False,\n",
    "    data=result,\n",
    "    ax=ax,\n",
    "    linewidth=3,\n",
    "    edgecolor=\"0\",\n",
    "    order=result['species'],\n",
    "    #log=True,\n",
    "    #width = 1,\n",
    "    palette = sns.color_palette('Set1')\n",
    ")\n",
    "ax.set_xlabel('Clusterability ($\\it{ 1 - Hopkin\\'s\\ statistic}$)', fontsize=24)\n",
    "ax.set_ylabel('')\n",
    "ax.get_legend().remove()\n",
    "\n",
    "for axis in ['top','left','right']:\n",
    "    ax.spines[axis].set_linewidth(0)\n",
    "ax.spines['bottom'].set_linewidth(5)\n",
    "ax.set_xscale('log')\n",
    "\n",
    "ylim = ax.get_ylim()\n",
    "ax.set_ylim([ylim[0]+.25, ylim[1]])\n",
    "#ax.set_xlim([0.5,1])\n",
    "\n",
    "#save_fig(FIGURE_DIR / 'hopkins_comparison', dpi=300, save_jpg=False, save_png=True)"
   ]
  },
  {
   "cell_type": "code",
   "execution_count": null,
   "metadata": {
    "ExecuteTime": {
     "end_time": "2019-11-13T18:57:29.848496Z",
     "start_time": "2019-11-13T18:57:28.573845Z"
    }
   },
   "outputs": [],
   "source": [
    "sns.set(style='white', font_scale=2)\n",
    "\n",
    "metric = 'spec_hopkins_1'\n",
    "\n",
    "fig, ax = plt.subplots(ncols=1, figsize=(15, 8))\n",
    "\n",
    "# log scale\n",
    "result = clusterability_df.groupby([\"species\", 'family'])[metric].aggregate(\n",
    "    np.median).reset_index().sort_values(metric)\n",
    "result[metric] = (1 - result[metric])\n",
    "\n",
    "# create bar chart\n",
    "bar = sns.barplot(\n",
    "    x=metric,\n",
    "    y=\"species\",\n",
    "    hue='family',\n",
    "    dodge=False,\n",
    "    data=result,\n",
    "    ax=ax,\n",
    "    linewidth=3,\n",
    "    edgecolor=\"0\",\n",
    "    order=result['species'],\n",
    "    #log=True,\n",
    "    #width = 1,\n",
    "    palette = sns.color_palette('Set1')\n",
    ")\n",
    "ax.set_xlabel('Clusterability ($\\it{ 1 - Hopkin\\'s\\ statistic}$)', fontsize=24)\n",
    "ax.set_ylabel('')\n",
    "ax.get_legend().remove()\n",
    "\n",
    "for axis in ['top','left','right']:\n",
    "    ax.spines[axis].set_linewidth(0)\n",
    "ax.spines['bottom'].set_linewidth(5)\n",
    "ax.set_xscale('log')\n",
    "\n",
    "ylim = ax.get_ylim()\n",
    "ax.set_ylim([ylim[0]+.25, ylim[1]])\n",
    "#ax.set_xlim([0.5,1])\n",
    "\n",
    "#save_fig(FIGURE_DIR / 'hopkins_comparison', dpi=300, save_jpg=False, save_png=True)"
   ]
  },
  {
   "cell_type": "code",
   "execution_count": null,
   "metadata": {
    "ExecuteTime": {
     "end_time": "2019-11-13T18:57:38.505668Z",
     "start_time": "2019-11-13T18:57:37.237521Z"
    }
   },
   "outputs": [],
   "source": [
    "sns.set(style='white', font_scale=2)\n",
    "\n",
    "metric = 'spec_hopkins_0.1'\n",
    "\n",
    "fig, ax = plt.subplots(ncols=1, figsize=(15, 8))\n",
    "\n",
    "# log scale\n",
    "result = clusterability_df.groupby([\"species\", 'family'])[metric].aggregate(\n",
    "    np.median).reset_index().sort_values(metric)\n",
    "result[metric] = (1 - result[metric])\n",
    "\n",
    "# create bar chart\n",
    "bar = sns.barplot(\n",
    "    x=metric,\n",
    "    y=\"species\",\n",
    "    hue='family',\n",
    "    dodge=False,\n",
    "    data=result,\n",
    "    ax=ax,\n",
    "    linewidth=3,\n",
    "    edgecolor=\"0\",\n",
    "    order=result['species'],\n",
    "    #log=True,\n",
    "    #width = 1,\n",
    "    palette = sns.color_palette('Set1')\n",
    ")\n",
    "ax.set_xlabel('Clusterability ($\\it{ 1 - Hopkin\\'s\\ statistic}$)', fontsize=24)\n",
    "ax.set_ylabel('')\n",
    "ax.get_legend().remove()\n",
    "\n",
    "for axis in ['top','left','right']:\n",
    "    ax.spines[axis].set_linewidth(0)\n",
    "ax.spines['bottom'].set_linewidth(5)\n",
    "ax.set_xscale('log')\n",
    "\n",
    "ylim = ax.get_ylim()\n",
    "ax.set_ylim([ylim[0]+.25, ylim[1]])\n",
    "#ax.set_xlim([0.5,1])\n",
    "\n",
    "#save_fig(FIGURE_DIR / 'hopkins_comparison', dpi=300, save_jpg=False, save_png=True)"
   ]
  },
  {
   "cell_type": "code",
   "execution_count": null,
   "metadata": {
    "ExecuteTime": {
     "end_time": "2019-11-13T04:13:00.353108Z",
     "start_time": "2019-11-13T04:12:59.615485Z"
    }
   },
   "outputs": [],
   "source": [
    "sns.set(style='white', font_scale=2)\n",
    "\n",
    "metric = 'hopkins_statistic'\n",
    "\n",
    "fig, ax = plt.subplots(ncols=1, figsize=(15, 8))\n",
    "\n",
    "# log scale\n",
    "result = clusterability_df.groupby([\"species\", 'family'])[metric].aggregate(\n",
    "    np.median).reset_index().sort_values(metric)\n",
    "result[metric] = -np.log(1 - result[metric])\n",
    "\n",
    "# create bar chart\n",
    "bar = sns.barplot(\n",
    "    x=metric,\n",
    "    y=\"species\",\n",
    "    hue='family',\n",
    "    dodge=False,\n",
    "    data=result,\n",
    "    ax=ax,\n",
    "    linewidth=3,\n",
    "    edgecolor=\"0\",\n",
    "    order=result['species'],\n",
    "    #log=True,\n",
    "    #width = 1,\n",
    "    palette = sns.color_palette('Set1')\n",
    ")\n",
    "ax.set_xlabel('Clusterability ($\\it{-log(Hopkin\\'s\\ metric)}$)', fontsize=24)\n",
    "ax.set_ylabel('')\n",
    "ax.get_legend().remove()\n",
    "\n",
    "for axis in ['top','left','right']:\n",
    "    ax.spines[axis].set_linewidth(0)\n",
    "ax.spines['bottom'].set_linewidth(5)\n",
    "\n",
    "ylim = ax.get_ylim()\n",
    "ax.set_ylim([ylim[0]+.25, ylim[1]])\n",
    "#ax.set_xlim([0.5,1])\n",
    "#save_fig(FIGURE_DIR / 'hopkins_comparison', dpi=300, save_jpg=False, save_png=True)"
   ]
  },
  {
   "cell_type": "code",
   "execution_count": null,
   "metadata": {
    "ExecuteTime": {
     "start_time": "2019-11-13T18:27:23.262Z"
    }
   },
   "outputs": [],
   "source": [
    "sns.set(style='white', font_scale=2)\n",
    "\n",
    "metric = 'hopkins_statistic_flip'\n",
    "\n",
    "fig, ax = plt.subplots(ncols=1, figsize=(15, 8))\n",
    "\n",
    "# log scale\n",
    "result = clusterability_df.groupby([\"species\", 'family'])[metric].aggregate(\n",
    "    np.median).reset_index().sort_values(metric)\n",
    "#result[metric] = -np.log(result[metric])\n",
    "\n",
    "# create bar chart\n",
    "bar = sns.barplot(\n",
    "    x=metric,\n",
    "    y=\"species\",\n",
    "    hue='family',\n",
    "    dodge=False,\n",
    "    data=result,\n",
    "    ax=ax,\n",
    "    linewidth=3,\n",
    "    edgecolor=\"0\",\n",
    "    order=result['species'],\n",
    "    #log=True,\n",
    "    #width = 1,\n",
    "    palette = sns.color_palette('Set1')\n",
    ")\n",
    "ax.set_xlabel('Clusterability ($\\it{-log(Hopkin\\'s\\ metric)}$)', fontsize=24)\n",
    "ax.set_ylabel('')\n",
    "ax.get_legend().remove()\n",
    "\n",
    "for axis in ['top','left','right']:\n",
    "    ax.spines[axis].set_linewidth(0)\n",
    "ax.spines['bottom'].set_linewidth(5)\n",
    "\n",
    "ylim = ax.get_ylim()\n",
    "ax.set_ylim([ylim[0]+.25, ylim[1]])\n",
    "axs.set_xscale('log')\n",
    "#ax.set_xlim([0.5,1])\n",
    "#save_fig(FIGURE_DIR / 'hopkins_comparison', dpi=300, save_jpg=False, save_png=True)"
   ]
  },
  {
   "cell_type": "code",
   "execution_count": null,
   "metadata": {
    "ExecuteTime": {
     "end_time": "2019-11-13T04:13:34.299563Z",
     "start_time": "2019-11-13T04:13:33.513165Z"
    }
   },
   "outputs": [],
   "source": [
    "sns.set(style='white', font_scale=2)\n",
    "\n",
    "metric = 'hopkins_statistic_flip'\n",
    "\n",
    "fig, ax = plt.subplots(ncols=1, figsize=(15, 8))\n",
    "\n",
    "# log scale\n",
    "result = clusterability_df.groupby([\"species\", 'family'])[metric].aggregate(\n",
    "    np.median).reset_index().sort_values(metric)\n",
    "result[metric] = -np.log(result[metric])\n",
    "\n",
    "# create bar chart\n",
    "bar = sns.barplot(\n",
    "    x=metric,\n",
    "    y=\"species\",\n",
    "    hue='family',\n",
    "    dodge=False,\n",
    "    data=result,\n",
    "    ax=ax,\n",
    "    linewidth=3,\n",
    "    edgecolor=\"0\",\n",
    "    order=result['species'],\n",
    "    #log=True,\n",
    "    #width = 1,\n",
    "    palette = sns.color_palette('Set1')\n",
    ")\n",
    "ax.set_xlabel('Clusterability ($\\it{-log(Hopkin\\'s\\ metric)}$)', fontsize=24)\n",
    "ax.set_ylabel('')\n",
    "ax.get_legend().remove()\n",
    "\n",
    "for axis in ['top','left','right']:\n",
    "    ax.spines[axis].set_linewidth(0)\n",
    "ax.spines['bottom'].set_linewidth(5)\n",
    "\n",
    "ylim = ax.get_ylim()\n",
    "ax.set_ylim([ylim[0]+.25, ylim[1]])\n",
    "#ax.set_xlim([0.5,1])\n",
    "#save_fig(FIGURE_DIR / 'hopkins_comparison', dpi=300, save_jpg=False, save_png=True)"
   ]
  },
  {
   "cell_type": "code",
   "execution_count": null,
   "metadata": {
    "ExecuteTime": {
     "end_time": "2019-11-13T04:11:18.372538Z",
     "start_time": "2019-11-13T04:11:17.509972Z"
    }
   },
   "outputs": [],
   "source": [
    "metric = 'hopkins_statistic'\n",
    "sns.barplot(x=metric,\n",
    "            y=\"species\",\n",
    "            hue='family',\n",
    "            data=clusterability_df.sort_values(by=metric),\n",
    "            )"
   ]
  },
  {
   "cell_type": "code",
   "execution_count": null,
   "metadata": {
    "ExecuteTime": {
     "end_time": "2019-11-13T04:11:29.164018Z",
     "start_time": "2019-11-13T04:11:18.374847Z"
    },
    "scrolled": false
   },
   "outputs": [],
   "source": [
    "for metric in ['hopkins_10','hopkins_100','hopkins_pct_0.1','hopkins_pct_1','hopkins_pct_5','hopkins_pct_10']:\n",
    "    result = clusterability_df.groupby([\"species\", 'family'])[metric].aggregate(np.median).reset_index().sort_values(metric)\n",
    "    fig, axs = plt.subplots(ncols=2, figsize=(20,5))\n",
    "    sns.barplot(x=metric,\n",
    "                y=\"species\",\n",
    "                hue='family',\n",
    "                data=clusterability_df.sort_values(by=[metric]),\n",
    "                ax=axs[0],\n",
    "                order = result['species']\n",
    "               )\n",
    "    \n",
    "    sns.barplot(x=metric,\n",
    "                y=\"species\",\n",
    "                hue='family',\n",
    "                data=clusterability_df.sort_values(by=metric),\n",
    "                ax=axs[1],\n",
    "                order = result['species']\n",
    "               )\n",
    "    axs[1].set_xscale('log')\n",
    "    plt.tight_layout()\n",
    "    plt.show()"
   ]
  }
 ],
 "metadata": {
  "kernelspec": {
   "display_name": "Python [conda env:anaconda3-py19] *",
   "language": "python",
   "name": "conda-env-anaconda3-py19-py"
  },
  "language_info": {
   "codemirror_mode": {
    "name": "ipython",
    "version": 3
   },
   "file_extension": ".py",
   "mimetype": "text/x-python",
   "name": "python",
   "nbconvert_exporter": "python",
   "pygments_lexer": "ipython3",
   "version": "3.6.7"
  }
 },
 "nbformat": 4,
 "nbformat_minor": 2
}
