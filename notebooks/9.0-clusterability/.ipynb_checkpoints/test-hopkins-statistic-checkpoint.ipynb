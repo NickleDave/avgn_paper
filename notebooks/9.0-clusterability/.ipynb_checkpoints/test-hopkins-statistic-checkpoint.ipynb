{
 "cells": [
  {
   "cell_type": "code",
   "execution_count": 2,
   "metadata": {
    "ExecuteTime": {
     "end_time": "2019-11-12T23:46:43.406978Z",
     "start_time": "2019-11-12T23:46:32.974250Z"
    }
   },
   "outputs": [
    {
     "name": "stderr",
     "output_type": "stream",
     "text": [
      "/home/AD/tsainbur/anaconda3/envs/py19/lib/python3.6/site-packages/tqdm/autonotebook.py:17: TqdmExperimentalWarning: Using `tqdm.autonotebook.tqdm` in notebook mode. Use `tqdm.tqdm` instead to force console mode (e.g. in jupyter console)\n",
      "  \" (e.g. in jupyter console)\", TqdmExperimentalWarning)\n"
     ]
    }
   ],
   "source": [
    "import numpy as np\n",
    "import pandas as pd\n",
    "from avgn.utils.paths import DATA_DIR, most_recent_subdirectory, ensure_dir\n",
    "from sklearn.preprocessing import scale\n",
    "from pyclustertend import hopkins, vat, ivat\n",
    "import matplotlib.pyplot as plt\n",
    "from tqdm.autonotebook import tqdm"
   ]
  },
  {
   "cell_type": "code",
   "execution_count": 3,
   "metadata": {
    "ExecuteTime": {
     "end_time": "2019-11-12T23:46:43.416522Z",
     "start_time": "2019-11-12T23:46:43.409366Z"
    }
   },
   "outputs": [
    {
     "data": {
      "text/plain": [
       "83"
      ]
     },
     "execution_count": 3,
     "metadata": {},
     "output_type": "execute_result"
    }
   ],
   "source": [
    "datasets = list(DATA_DIR.glob('embeddings/*/*.pickle'))\n",
    "len(datasets)"
   ]
  },
  {
   "cell_type": "code",
   "execution_count": 4,
   "metadata": {
    "ExecuteTime": {
     "end_time": "2019-11-12T23:46:43.593978Z",
     "start_time": "2019-11-12T23:46:43.418453Z"
    }
   },
   "outputs": [],
   "source": [
    "from sklearn import datasets\n",
    "X = datasets.load_iris().data"
   ]
  },
  {
   "cell_type": "code",
   "execution_count": 185,
   "metadata": {
    "ExecuteTime": {
     "end_time": "2019-11-13T00:03:56.412883Z",
     "start_time": "2019-11-13T00:03:56.401720Z"
    }
   },
   "outputs": [
    {
     "data": {
      "text/plain": [
       "NearestNeighbors(algorithm='auto', leaf_size=30, metric='minkowski',\n",
       "                 metric_params=None, n_jobs=None, n_neighbors=2, p=2,\n",
       "                 radius=0.4)"
      ]
     },
     "execution_count": 185,
     "metadata": {},
     "output_type": "execute_result"
    }
   ],
   "source": [
    "samples = [[0, 0, 2], [1, 0, 0], [0, 0, 1]]\n",
    "neigh = NearestNeighbors(2, 0.4)\n",
    "neigh.fit(samples)\n",
    "#??neigh.kneighbors"
   ]
  },
  {
   "cell_type": "code",
   "execution_count": 245,
   "metadata": {
    "ExecuteTime": {
     "end_time": "2019-11-13T01:31:36.935910Z",
     "start_time": "2019-11-13T01:31:36.902357Z"
    }
   },
   "outputs": [],
   "source": [
    "from sklearn.neighbors import NearestNeighbors\n",
    "from random import sample\n",
    "from numpy.random import uniform, normal\n",
    "import numpy as np\n",
    "from math import isnan\n",
    "\n",
    "\n",
    "def hopkins_statistic(X, m_prop_n = 0.1, n_neighbors=2, distribution='uniform'):\n",
    "    \"\"\" Computes hopkins statistic over a distribution X\n",
    "    based upon:\n",
    "    - https://matevzkunaver.wordpress.com/2017/06/20/hopkins-test-for-cluster-tendency/\n",
    "    - https://github.com/rflachlan/Luscinia/wiki/Hopkins-statistic\n",
    "    - https://en.wikipedia.org/wiki/Hopkins_statistic\n",
    "    - https://pypi.org/project/pyclustertend/\n",
    "    - \n",
    "    X: The original dataset\n",
    "    m: number of samples in Y\n",
    "    n: number of samples in X\n",
    "    dims: number of dimensions in x\n",
    "    nbrs: nearest neighbor for each value of X\n",
    "    ujd: the distance of y_i from its nearest neighbor in X\n",
    "    wjd: the distance of x_i from its nearest neighbor in X\n",
    "    \n",
    "    \"\"\"\n",
    "    # convert to pandas dataframe\n",
    "    if type(X) == np.ndarray:\n",
    "        X = pd.DataFrame(X)\n",
    "\n",
    "    #print('X shape: {}'.format(X.shape))\n",
    "    \n",
    "    # the nearest neigbor(s) for each element in X\n",
    "    nbrs = NearestNeighbors(n_neighbors=1).fit(X.values)\n",
    "    \n",
    "    # statistics over X (for sampling)\n",
    "    xmin = np.min(X, axis=0)\n",
    "    xmax = np.max(X, axis=0)\n",
    "    loc = np.mean(X, axis=0)\n",
    "    scale = np.std(X, axis=0)\n",
    "    \n",
    "    # number of dimensions\n",
    "    dims = X.shape[1]\n",
    "    # the number of examples\n",
    "    n = len(X) \n",
    "    \n",
    "    # choose how many samples over X\n",
    "    m = int(m_prop_n * n)  # heuristic from article [1]\n",
    "    \n",
    "    # sample from X m times\n",
    "    rand_X = sample(range(0, n, 1), m)\n",
    "    \n",
    "    def sample_dist():\n",
    "        if distribution == 'uniform':\n",
    "            return uniform(xmin, xmax, dims).reshape(1, -1)\n",
    "        elif distribution == 'normal':\n",
    "            return normal(loc, scale, dims).reshape(1, -1)\n",
    "        else:\n",
    "            raise ValueError('distribution must be \"uniform\" or \"normal\"')\n",
    "    \n",
    "    \n",
    "    ujd = [] # distance of y_i from its nearest neighbor in X\n",
    "    wjd = [] # the distance of x_i from its nearest neighbor in X\n",
    "    \n",
    "    # for each sample from X\n",
    "    for j in range(0, m):\n",
    "        # sample Y (since its with replacement, repeat each time)\n",
    "        \n",
    "        Y = sample_dist()\n",
    "        # get distance from Y to nearest neighbors in X\n",
    "        u_dist, _ = nbrs.kneighbors(Y, n_neighbors+1, return_distance=True) \n",
    "        ujd.append(np.mean(u_dist[0][1:]))\n",
    "        \n",
    "        # get the distance from X sample to the nearest neighbors in X\n",
    "        w_dist, _ = nbrs.kneighbors(\n",
    "            X.iloc[rand_X[j]].values.reshape(1, -1), n_neighbors+1, return_distance=True)\n",
    "        wjd.append(np.mean(w_dist[0][1:]))\n",
    "\n",
    "    H = sum(ujd) / (sum(ujd) + sum(wjd))\n",
    "    if isnan(H):\n",
    "        print(ujd, wjd)\n",
    "        H = 0\n",
    "\n",
    "    return H"
   ]
  },
  {
   "cell_type": "code",
   "execution_count": 246,
   "metadata": {
    "ExecuteTime": {
     "end_time": "2019-11-13T01:31:37.121169Z",
     "start_time": "2019-11-13T01:31:37.065635Z"
    }
   },
   "outputs": [
    {
     "data": {
      "text/plain": [
       "0.8324266390855961"
      ]
     },
     "execution_count": 246,
     "metadata": {},
     "output_type": "execute_result"
    }
   ],
   "source": [
    "hopkins_statistic(X, 0.1, 1, 'uniform')"
   ]
  },
  {
   "cell_type": "code",
   "execution_count": 247,
   "metadata": {
    "ExecuteTime": {
     "end_time": "2019-11-13T01:31:37.246116Z",
     "start_time": "2019-11-13T01:31:37.216751Z"
    }
   },
   "outputs": [
    {
     "data": {
      "text/plain": [
       "0.8016255120907336"
      ]
     },
     "execution_count": 247,
     "metadata": {},
     "output_type": "execute_result"
    }
   ],
   "source": [
    "hopkins_statistic(X, 0.1, 1, 'normal')"
   ]
  },
  {
   "cell_type": "code",
   "execution_count": 218,
   "metadata": {
    "ExecuteTime": {
     "end_time": "2019-11-13T00:05:09.107266Z",
     "start_time": "2019-11-13T00:05:06.381168Z"
    }
   },
   "outputs": [
    {
     "data": {
      "text/plain": [
       "(array([ 4.,  8.,  5., 17., 17., 25., 13.,  4.,  3.,  4.]),\n",
       " array([0.49473118, 0.50485837, 0.51498556, 0.52511275, 0.53523993,\n",
       "        0.54536712, 0.55549431, 0.5656215 , 0.57574869, 0.58587587,\n",
       "        0.59600306]),\n",
       " <a list of 10 Patch objects>)"
      ]
     },
     "execution_count": 218,
     "metadata": {},
     "output_type": "execute_result"
    },
    {
     "data": {
      "image/png": "[encoded data removed]",
      "text/plain": [
       "<Figure size 432x288 with 1 Axes>"
      ]
     },
     "metadata": {
      "needs_background": "light"
     },
     "output_type": "display_data"
    }
   ],
   "source": [
    "hs = []\n",
    "for i in tqdm(range(100)):\n",
    "    test = np.random.uniform(low=np.min(X, axis=0), high=np.max(X, axis=0), size = (np.shape(X)))\n",
    "    hs.append(hopkins_statistic(test, 0.1))\n",
    "plt.hist(hs)"
   ]
  },
  {
   "cell_type": "code",
   "execution_count": null,
   "metadata": {
    "ExecuteTime": {
     "start_time": "2019-11-13T01:32:14.342Z"
    }
   },
   "outputs": [
    {
     "data": {
      "application/vnd.jupyter.widget-view+json": {
       "model_id": "acff4a01f4ca4de2b61f2933471ebb1c",
       "version_major": 2,
       "version_minor": 0
      },
      "text/plain": [
       "HBox(children=(IntProgress(value=0, max=1000), HTML(value='')))"
      ]
     },
     "metadata": {},
     "output_type": "display_data"
    }
   ],
   "source": [
    "hs = []\n",
    "for i in tqdm(range(1000)):\n",
    "    test = np.random.normal(size = (np.shape(X)))\n",
    "    hs.append(hopkins_statistic(test, 0.1))\n",
    "plt.hist(hs)"
   ]
  },
  {
   "cell_type": "code",
   "execution_count": null,
   "metadata": {},
   "outputs": [],
   "source": []
  },
  {
   "cell_type": "code",
   "execution_count": null,
   "metadata": {},
   "outputs": [],
   "source": []
  },
  {
   "cell_type": "code",
   "execution_count": null,
   "metadata": {},
   "outputs": [],
   "source": []
  },
  {
   "cell_type": "code",
   "execution_count": null,
   "metadata": {},
   "outputs": [],
   "source": []
  },
  {
   "cell_type": "code",
   "execution_count": null,
   "metadata": {},
   "outputs": [],
   "source": []
  },
  {
   "cell_type": "code",
   "execution_count": null,
   "metadata": {},
   "outputs": [],
   "source": []
  },
  {
   "cell_type": "code",
   "execution_count": null,
   "metadata": {},
   "outputs": [],
   "source": []
  },
  {
   "cell_type": "code",
   "execution_count": null,
   "metadata": {},
   "outputs": [],
   "source": []
  },
  {
   "cell_type": "code",
   "execution_count": null,
   "metadata": {},
   "outputs": [],
   "source": []
  },
  {
   "cell_type": "code",
   "execution_count": 150,
   "metadata": {
    "ExecuteTime": {
     "end_time": "2019-11-12T22:20:37.130607Z",
     "start_time": "2019-11-12T22:20:37.088568Z"
    }
   },
   "outputs": [],
   "source": [
    "from pyclustertend import hopkins, vat, ivat\n",
    "?? hopkins"
   ]
  },
  {
   "cell_type": "code",
   "execution_count": 203,
   "metadata": {
    "ExecuteTime": {
     "end_time": "2019-11-12T23:43:17.528112Z",
     "start_time": "2019-11-12T23:43:17.500816Z"
    }
   },
   "outputs": [],
   "source": [
    "def hopkins(D, sampling_size):\n",
    "    \"\"\"Assess the clusterability of a dataset. A score between 0 and 1, a score around 0.5 express no clusterability and a score tending to 0 express a high cluster tendency.\n",
    "\n",
    "    Parameters\n",
    "    ----------\n",
    "    D : numpy array \n",
    "        The input dataset\n",
    "    sampling_size : int\n",
    "        The sampling size which is used to evaluate the number of DataFrame.\n",
    "\n",
    "    Returns\n",
    "    ---------------------\n",
    "    score : float\n",
    "        The hopkins score of the dataset (between 0 and 1)\n",
    "\n",
    "    Examples\n",
    "    --------\n",
    "    >>> from sklearn import datasets\n",
    "    >>> from pyclustertend import hopkins\n",
    "    >>> X = datasets.load_iris().data\n",
    "    >>> hopkins(X,150)\n",
    "    0.16\n",
    "\n",
    "    \"\"\"\n",
    "\n",
    "    if type(D) == np.ndarray:\n",
    "        D = pd.DataFrame(D)\n",
    "\n",
    "    # Sample n observations from D : P\n",
    "\n",
    "    if sampling_size > D.shape[0]:\n",
    "        raise Exception(\n",
    "            'The number of sample of sample is superieur than the shape of D')\n",
    "\n",
    "    P = D.sample(n=sampling_size)\n",
    "\n",
    "    # Get the distance to their neirest neighbors in D : X\n",
    "\n",
    "    tree = BallTree(D, leaf_size=2)\n",
    "    dist, _ = tree.query(P, k=2)\n",
    "    X = dist[:, 1]\n",
    "\n",
    "    # Randomly simulate n points with the same variation as in D : Q. \n",
    "\n",
    "    max_D = D.max()\n",
    "    min_D = D.min()\n",
    "\n",
    "    matrix = np.column_stack((np.random.uniform(\n",
    "        min_D[0], max_D[0], sampling_size), np.random.uniform(min_D[1], max_D[1], sampling_size)))\n",
    "    if len(max_D) >= 2:\n",
    "        for i in range(2, len(max_D)):\n",
    "            matrix = np.column_stack(\n",
    "                (matrix, np.random.uniform(min_D[i], max_D[i], sampling_size)))\n",
    "    Q = pd.DataFrame(matrix)\n",
    "\n",
    "    # Get the distance to their neirest neighbors in D : Y\n",
    "\n",
    "    tree = BallTree(D, leaf_size=2)\n",
    "    dist, _ = tree.query(Q, k=1)\n",
    "    Y = dist\n",
    "\n",
    "    # return the hopkins score\n",
    "\n",
    "    x = sum(X)\n",
    "    y = sum(Y)\n",
    "\n",
    "    if (x+y == 0):\n",
    "        raise Exception('The denominator of the hopkins statistics is null')\n",
    "\n",
    "    return x/(x+y)[0]"
   ]
  },
  {
   "cell_type": "code",
   "execution_count": 224,
   "metadata": {
    "ExecuteTime": {
     "end_time": "2019-11-12T23:44:08.653170Z",
     "start_time": "2019-11-12T23:44:08.625299Z"
    }
   },
   "outputs": [],
   "source": [
    "from sklearn.neighbors import BallTree\n",
    "import numpy as np\n",
    "from random import sample\n",
    "import pandas as pd\n",
    "\n",
    "def hopkins(D, sampling_prop = 0.1):\n",
    "    \"\"\"Assess the clusterability of a dataset.  A score between 0 and 1, a score around 0.5 \n",
    "    express no clusterability and a score tending to 0 express a high cluster tendency.\n",
    "\n",
    "    Parameters\n",
    "    ----------\n",
    "    D : numpy array \n",
    "        The input dataset\n",
    "    sampling_size : int\n",
    "        The sampling size which is used to evaluate the number of DataFrame.\n",
    "\n",
    "    Returns\n",
    "    ---------------------\n",
    "    score : float\n",
    "        The hopkins score of the dataset (between 0 and 1)\n",
    "\n",
    "    Examples\n",
    "    --------\n",
    "    >>> from sklearn import datasets\n",
    "    >>> from pyclustertend import hopkins\n",
    "    >>> X = datasets.load_iris().data\n",
    "    >>> hopkins(X,150)\n",
    "    0.16\n",
    "\n",
    "    \"\"\"\n",
    "    \n",
    "    # convert to pandas\n",
    "    if type(D) == np.ndarray:\n",
    "        D = pd.DataFrame(D)\n",
    "    \n",
    "    sampling_size = int(sampling_prop * D.shape[0])\n",
    "    \n",
    "    # Sample n observations from D : P\n",
    "    P = D.sample(n=sampling_size)\n",
    "\n",
    "    # Get the distance to their neirest neighbors in D : X\n",
    "\n",
    "    tree = BallTree(D, leaf_size=2)\n",
    "    dist, _ = tree.query(P, k=2)\n",
    "    X = dist[:, 1]\n",
    "\n",
    "    # Randomly simulate n points with the same variation as in D : Q. \n",
    "\n",
    "    max_D = D.max()\n",
    "    min_D = D.min()\n",
    "    print(max_D)\n",
    "    print(np.shape(D))\n",
    "    #print(max_D)\n",
    "    m1 = np.random.uniform(min_D[0], max_D[0], sampling_size)\n",
    "    m2 = np.random.uniform(min_D[1], max_D[1], sampling_size)\n",
    "    matrix = np.column_stack((m1, m2))\n",
    "    if len(max_D) >= 2:\n",
    "        for i in range(2, len(max_D)):\n",
    "            matrix = np.column_stack(\n",
    "                (matrix, np.random.uniform(min_D[i], max_D[i], sampling_size)))\n",
    "    Q = pd.DataFrame(matrix)\n",
    "\n",
    "    # Get the distance to their neirest neighbors in D : Y\n",
    "\n",
    "    tree = BallTree(D, leaf_size=2)\n",
    "    dist, _ = tree.query(Q, k=1)\n",
    "    Y = dist\n",
    "\n",
    "    # return the hopkins score\n",
    "\n",
    "    x = sum(X)\n",
    "    y = sum(Y)\n",
    "\n",
    "    if (x+y == 0):\n",
    "        raise Exception('The denominator of the hopkins statistics is null')\n",
    "\n",
    "    return x/(x+y)[0]"
   ]
  },
  {
   "cell_type": "code",
   "execution_count": 225,
   "metadata": {
    "ExecuteTime": {
     "end_time": "2019-11-12T23:44:08.807061Z",
     "start_time": "2019-11-12T23:44:08.795554Z"
    }
   },
   "outputs": [],
   "source": [
    "from sklearn import datasets\n",
    "X = datasets.load_iris().data"
   ]
  },
  {
   "cell_type": "code",
   "execution_count": 227,
   "metadata": {
    "ExecuteTime": {
     "end_time": "2019-11-12T23:44:15.286599Z",
     "start_time": "2019-11-12T23:44:15.278600Z"
    }
   },
   "outputs": [
    {
     "data": {
      "text/plain": [
       "(150, 4)"
      ]
     },
     "execution_count": 227,
     "metadata": {},
     "output_type": "execute_result"
    }
   ],
   "source": [
    "np.shape(X)"
   ]
  },
  {
   "cell_type": "code",
   "execution_count": 226,
   "metadata": {
    "ExecuteTime": {
     "end_time": "2019-11-12T23:44:09.077364Z",
     "start_time": "2019-11-12T23:44:09.055540Z"
    }
   },
   "outputs": [
    {
     "name": "stdout",
     "output_type": "stream",
     "text": [
      "0    7.9\n",
      "1    4.4\n",
      "2    6.9\n",
      "3    2.5\n",
      "dtype: float64\n",
      "(150, 4)\n"
     ]
    },
    {
     "data": {
      "text/plain": [
       "0.2066777485855189"
      ]
     },
     "execution_count": 226,
     "metadata": {},
     "output_type": "execute_result"
    }
   ],
   "source": [
    "hopkins(X, 0.1)"
   ]
  },
  {
   "cell_type": "code",
   "execution_count": 217,
   "metadata": {
    "ExecuteTime": {
     "end_time": "2019-11-12T23:43:51.660411Z",
     "start_time": "2019-11-12T23:43:51.380908Z"
    }
   },
   "outputs": [
    {
     "ename": "ValueError",
     "evalue": "Cannot take a larger sample than population when 'replace=False'",
     "output_type": "error",
     "traceback": [
      "\u001b[0;31m---------------------------------------------------------------------------\u001b[0m",
      "\u001b[0;31mValueError\u001b[0m                                Traceback (most recent call last)",
      "\u001b[0;32m<ipython-input-217-b71bff7f779c>\u001b[0m in \u001b[0;36m<module>\u001b[0;34m\u001b[0m\n\u001b[0;32m----> 1\u001b[0;31m \u001b[0mhopkins\u001b[0m\u001b[0;34m(\u001b[0m\u001b[0mX\u001b[0m\u001b[0;34m,\u001b[0m \u001b[0;36m100\u001b[0m\u001b[0;34m)\u001b[0m\u001b[0;34m\u001b[0m\u001b[0;34m\u001b[0m\u001b[0m\n\u001b[0m",
      "\u001b[0;32m<ipython-input-214-0baecd49dfce>\u001b[0m in \u001b[0;36mhopkins\u001b[0;34m(D, sampling_prop)\u001b[0m\n\u001b[1;32m     37\u001b[0m \u001b[0;34m\u001b[0m\u001b[0m\n\u001b[1;32m     38\u001b[0m     \u001b[0;31m# Sample n observations from D : P\u001b[0m\u001b[0;34m\u001b[0m\u001b[0;34m\u001b[0m\u001b[0;34m\u001b[0m\u001b[0m\n\u001b[0;32m---> 39\u001b[0;31m     \u001b[0mP\u001b[0m \u001b[0;34m=\u001b[0m \u001b[0mD\u001b[0m\u001b[0;34m.\u001b[0m\u001b[0msample\u001b[0m\u001b[0;34m(\u001b[0m\u001b[0mn\u001b[0m\u001b[0;34m=\u001b[0m\u001b[0msampling_size\u001b[0m\u001b[0;34m)\u001b[0m\u001b[0;34m\u001b[0m\u001b[0;34m\u001b[0m\u001b[0m\n\u001b[0m\u001b[1;32m     40\u001b[0m \u001b[0;34m\u001b[0m\u001b[0m\n\u001b[1;32m     41\u001b[0m     \u001b[0;31m# Get the distance to their neirest neighbors in D : X\u001b[0m\u001b[0;34m\u001b[0m\u001b[0;34m\u001b[0m\u001b[0;34m\u001b[0m\u001b[0m\n",
      "\u001b[0;32m~/anaconda3/envs/py19/lib/python3.6/site-packages/pandas/core/generic.py\u001b[0m in \u001b[0;36msample\u001b[0;34m(self, n, frac, replace, weights, random_state, axis)\u001b[0m\n\u001b[1;32m   4863\u001b[0m                              \"provide positive value.\")\n\u001b[1;32m   4864\u001b[0m \u001b[0;34m\u001b[0m\u001b[0m\n\u001b[0;32m-> 4865\u001b[0;31m         \u001b[0mlocs\u001b[0m \u001b[0;34m=\u001b[0m \u001b[0mrs\u001b[0m\u001b[0;34m.\u001b[0m\u001b[0mchoice\u001b[0m\u001b[0;34m(\u001b[0m\u001b[0maxis_length\u001b[0m\u001b[0;34m,\u001b[0m \u001b[0msize\u001b[0m\u001b[0;34m=\u001b[0m\u001b[0mn\u001b[0m\u001b[0;34m,\u001b[0m \u001b[0mreplace\u001b[0m\u001b[0;34m=\u001b[0m\u001b[0mreplace\u001b[0m\u001b[0;34m,\u001b[0m \u001b[0mp\u001b[0m\u001b[0;34m=\u001b[0m\u001b[0mweights\u001b[0m\u001b[0;34m)\u001b[0m\u001b[0;34m\u001b[0m\u001b[0;34m\u001b[0m\u001b[0m\n\u001b[0m\u001b[1;32m   4866\u001b[0m         \u001b[0;32mreturn\u001b[0m \u001b[0mself\u001b[0m\u001b[0;34m.\u001b[0m\u001b[0mtake\u001b[0m\u001b[0;34m(\u001b[0m\u001b[0mlocs\u001b[0m\u001b[0;34m,\u001b[0m \u001b[0maxis\u001b[0m\u001b[0;34m=\u001b[0m\u001b[0maxis\u001b[0m\u001b[0;34m,\u001b[0m \u001b[0mis_copy\u001b[0m\u001b[0;34m=\u001b[0m\u001b[0;32mFalse\u001b[0m\u001b[0;34m)\u001b[0m\u001b[0;34m\u001b[0m\u001b[0;34m\u001b[0m\u001b[0m\n\u001b[1;32m   4867\u001b[0m \u001b[0;34m\u001b[0m\u001b[0m\n",
      "\u001b[0;32mmtrand.pyx\u001b[0m in \u001b[0;36mnumpy.random.mtrand.RandomState.choice\u001b[0;34m()\u001b[0m\n",
      "\u001b[0;31mValueError\u001b[0m: Cannot take a larger sample than population when 'replace=False'"
     ]
    }
   ],
   "source": [
    "hopkins(X, 100)"
   ]
  },
  {
   "cell_type": "code",
   "execution_count": 157,
   "metadata": {
    "ExecuteTime": {
     "end_time": "2019-11-12T22:21:05.655942Z",
     "start_time": "2019-11-12T22:21:05.636792Z"
    }
   },
   "outputs": [
    {
     "data": {
      "text/plain": [
       "0.15988856924480785"
      ]
     },
     "execution_count": 157,
     "metadata": {},
     "output_type": "execute_result"
    }
   ],
   "source": [
    "from pyclustertend import hopkins\n",
    "hopkins(X, 100)"
   ]
  }
 ],
 "metadata": {
  "kernelspec": {
   "display_name": "Python [conda env:anaconda3-py19] *",
   "language": "python",
   "name": "conda-env-anaconda3-py19-py"
  },
  "language_info": {
   "codemirror_mode": {
    "name": "ipython",
    "version": 3
   },
   "file_extension": ".py",
   "mimetype": "text/x-python",
   "name": "python",
   "nbconvert_exporter": "python",
   "pygments_lexer": "ipython3",
   "version": "3.6.7"
  }
 },
 "nbformat": 4,
 "nbformat_minor": 2
}
