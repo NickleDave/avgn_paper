{
 "cells": [
  {
   "cell_type": "code",
   "execution_count": 1,
   "metadata": {
    "ExecuteTime": {
     "end_time": "2019-11-13T05:50:32.759201Z",
     "start_time": "2019-11-13T05:50:32.726197Z"
    }
   },
   "outputs": [],
   "source": [
    "%load_ext autoreload\n",
    "%autoreload 2"
   ]
  },
  {
   "cell_type": "code",
   "execution_count": 2,
   "metadata": {
    "ExecuteTime": {
     "end_time": "2019-11-13T05:50:38.589043Z",
     "start_time": "2019-11-13T05:50:32.888885Z"
    }
   },
   "outputs": [
    {
     "name": "stderr",
     "output_type": "stream",
     "text": [
      "/home/AD/tsainbur/anaconda3/envs/py19/lib/python3.6/site-packages/tqdm/autonotebook.py:17: TqdmExperimentalWarning: Using `tqdm.autonotebook.tqdm` in notebook mode. Use `tqdm.tqdm` instead to force console mode (e.g. in jupyter console)\n",
      "  \" (e.g. in jupyter console)\", TqdmExperimentalWarning)\n"
     ]
    }
   ],
   "source": [
    "import numpy as np\n",
    "import pandas as pd\n",
    "from avgn.utils.paths import DATA_DIR, most_recent_subdirectory, ensure_dir\n",
    "from sklearn.preprocessing import scale\n",
    "from pyclustertend import hopkins, vat, ivat\n",
    "import matplotlib.pyplot as plt\n",
    "from tqdm.autonotebook import tqdm"
   ]
  },
  {
   "cell_type": "code",
   "execution_count": 3,
   "metadata": {
    "ExecuteTime": {
     "end_time": "2019-11-13T05:50:38.623489Z",
     "start_time": "2019-11-13T05:50:38.590824Z"
    }
   },
   "outputs": [],
   "source": [
    "from avgn.clusterability.hopkins import hopkins_statistic"
   ]
  },
  {
   "cell_type": "code",
   "execution_count": 4,
   "metadata": {
    "ExecuteTime": {
     "end_time": "2019-11-13T05:50:38.767248Z",
     "start_time": "2019-11-13T05:50:38.625587Z"
    }
   },
   "outputs": [],
   "source": [
    "from avgn.clusterability.VAT import ordered_dissimilarity_matrix, ivat_ordered_dissimilarity_matrix"
   ]
  },
  {
   "cell_type": "code",
   "execution_count": 5,
   "metadata": {
    "ExecuteTime": {
     "end_time": "2019-11-13T05:50:38.854254Z",
     "start_time": "2019-11-13T05:50:38.769256Z"
    }
   },
   "outputs": [
    {
     "data": {
      "text/plain": [
       "83"
      ]
     },
     "execution_count": 5,
     "metadata": {},
     "output_type": "execute_result"
    }
   ],
   "source": [
    "datasets = list(DATA_DIR.glob('embeddings/*/*.pickle'))\n",
    "len(datasets)"
   ]
  },
  {
   "cell_type": "code",
   "execution_count": 6,
   "metadata": {
    "ExecuteTime": {
     "end_time": "2019-11-13T05:50:38.935989Z",
     "start_time": "2019-11-13T05:50:38.855857Z"
    }
   },
   "outputs": [],
   "source": [
    "def remove_outliers(z, pct = 99.5):\n",
    "    \"\"\" GPU based UMAP algorithm produces some outliers that UMAP does not, but is much faster\n",
    "    this is a quick fix for that. \n",
    "    \"\"\"\n",
    "    _min = np.percentile(z, (100-pct), axis=0)\n",
    "    _max = np.percentile(z, pct, axis=0)\n",
    "    for col in range(np.shape(z)[1]):\n",
    "        mask = z[:,col] < _min[col]\n",
    "        z[mask,col] = _min[col]\n",
    "        mask = z[:,col] > _max[col]\n",
    "        z[mask,col] = _max[col]\n",
    "    return z"
   ]
  },
  {
   "cell_type": "code",
   "execution_count": 7,
   "metadata": {
    "ExecuteTime": {
     "end_time": "2019-11-13T05:50:39.019404Z",
     "start_time": "2019-11-13T05:50:38.937848Z"
    }
   },
   "outputs": [],
   "source": [
    "species_dict = {\n",
    "    'castellucci_mouse_usv_segmented': {\n",
    "        'species': 'Mouse',\n",
    "        'group': 'mammal'\n",
    "    },\n",
    "    'BIRD_DB_Vireo_cassinii': {\n",
    "        'species': 'Cassin\\'s vireo',\n",
    "        'group': 'songbird'\n",
    "    },\n",
    "    'gibbon_morita_segmented': {\n",
    "        'species': 'Gibbon',\n",
    "        'group': 'mammal'\n",
    "    },\n",
    "    'bengalese_finch_sober': {\n",
    "        'species': 'Bengalese finch',\n",
    "        'group': 'songbird'\n",
    "    },\n",
    "    'buckeye': {\n",
    "        'species': 'Human (English)',\n",
    "        'group': 'mammal'\n",
    "    },\n",
    "    'swamp_sparrow': {\n",
    "        'species': 'Swamp sparrow',\n",
    "        'group': 'songbird'\n",
    "    },\n",
    "    'mobysound_humpback_whale': {\n",
    "        'species': 'Humpback whale',\n",
    "        'group': 'mammal'\n",
    "    },\n",
    "    'koumura_bengalese_finch': {\n",
    "        'species': 'Bengalese finch',\n",
    "        'group': 'songbird'\n",
    "    },\n",
    "    'giant_otter': {\n",
    "        'species': 'Giant otter',\n",
    "        'group': 'mammal'\n",
    "    },\n",
    "    'BIRD_DB_Toxostoma_redivivum': {\n",
    "        'species': 'California thrasher',\n",
    "        'group': 'songbird'\n",
    "    },\n",
    "    'zebra_finch_gardner_segmented': {\n",
    "        'species': 'Zebra finch',\n",
    "        'group': 'songbird'\n",
    "    },\n",
    "    'katahira_white_munia_segmented': {\n",
    "        'species': 'White-rumped munia',\n",
    "        'group': 'songbird'\n",
    "    },\n",
    "    'european_starling_gentner_segmented': {\n",
    "        'species': 'European starling',\n",
    "        'group': 'songbird'\n",
    "    },\n",
    "}"
   ]
  },
  {
   "cell_type": "code",
   "execution_count": null,
   "metadata": {
    "ExecuteTime": {
     "start_time": "2019-11-13T06:05:49.190Z"
    },
    "scrolled": false
   },
   "outputs": [],
   "source": [
    "ds_list = []\n",
    "nex_max = 10000\n",
    "clusterability_df = pd.DataFrame(columns=[\n",
    "    'df', 'dataset', 'indv', 'sampled_indices', 'VAT', 'iVAT', 'order'\n",
    "])\n",
    "for dataset in tqdm(datasets):\n",
    "    if dataset.parent.stem  in ds_list:\n",
    "        continue\n",
    "    ds_list.append(dataset.parent.stem)\n",
    "    print(dataset.parent.stem)\n",
    "    specs = np.stack(pd.read_pickle(dataset)[['spectrogram']].spectrogram.values)\n",
    "    specs = specs.reshape(len(specs),-1)\n",
    "    specs = scale(specs)\n",
    "    print(dataset, np.shape(specs))\n",
    "    if len(specs) <= nex_max:\n",
    "        samples = np.arange(len(specs))\n",
    "    else:\n",
    "        samples = np.random.choice(np.arange(len(specs)), nex_max)\n",
    "    VAT, order = ordered_dissimilarity_matrix(specs[samples])\n",
    "    iVAT = ivat_ordered_dissimilarity_matrix(VAT)\n",
    "    \n",
    "    fig, axs = plt.subplots(ncols = 3, figsize=(15,5))\n",
    "    axs[0].matshow(np.log(VAT))\n",
    "    axs[1].matshow(VAT)\n",
    "    axs[2].matshow(iVAT)\n",
    "    plt.show()\n",
    "\n",
    "    clusterability_df.loc[len(clusterability_df)] = [\n",
    "        dataset, dataset.parent.stem, dataset.stem, samples, VAT, iVAT, order\n",
    "    ]"
   ]
  },
  {
   "cell_type": "code",
   "execution_count": null,
   "metadata": {
    "ExecuteTime": {
     "end_time": "2019-11-13T05:07:18.841338Z",
     "start_time": "2019-11-13T05:07:01.009Z"
    }
   },
   "outputs": [],
   "source": [
    "fig, axs = plt.subplots(ncols = 3, figsize=(15,5))\n",
    "axs[0].scatter(umap_proj[:, 0], umap_proj[:, 1], s=1, color='k', alpha=0.1)\n",
    "axs[1].matshow(VAT)\n",
    "axs[2].matshow(iVAT)\n",
    "plt.show()"
   ]
  },
  {
   "cell_type": "code",
   "execution_count": null,
   "metadata": {
    "ExecuteTime": {
     "end_time": "2019-11-13T05:07:18.842758Z",
     "start_time": "2019-11-13T05:07:01.010Z"
    }
   },
   "outputs": [],
   "source": [
    "np.shape(umap_proj)"
   ]
  },
  {
   "cell_type": "code",
   "execution_count": null,
   "metadata": {
    "ExecuteTime": {
     "end_time": "2019-11-13T05:07:18.843963Z",
     "start_time": "2019-11-13T05:07:01.012Z"
    }
   },
   "outputs": [],
   "source": [
    "clusterability_df[:3]"
   ]
  },
  {
   "cell_type": "code",
   "execution_count": null,
   "metadata": {
    "ExecuteTime": {
     "end_time": "2019-11-13T05:07:18.845334Z",
     "start_time": "2019-11-13T05:07:01.013Z"
    }
   },
   "outputs": [],
   "source": [
    "clusterability_df.dataset.unique()"
   ]
  },
  {
   "cell_type": "code",
   "execution_count": null,
   "metadata": {
    "ExecuteTime": {
     "end_time": "2019-11-13T05:07:18.846602Z",
     "start_time": "2019-11-13T05:07:01.014Z"
    }
   },
   "outputs": [],
   "source": []
  },
  {
   "cell_type": "code",
   "execution_count": null,
   "metadata": {
    "ExecuteTime": {
     "end_time": "2019-11-13T05:07:18.847843Z",
     "start_time": "2019-11-13T05:07:01.015Z"
    }
   },
   "outputs": [],
   "source": [
    "clusterability_df['species'] = [species_dict[ds]['species']  for ds in clusterability_df['dataset'].values]\n",
    "clusterability_df['family'] = [species_dict[ds]['group']  for ds in clusterability_df['dataset'].values]"
   ]
  },
  {
   "cell_type": "code",
   "execution_count": null,
   "metadata": {
    "ExecuteTime": {
     "end_time": "2019-11-13T05:07:18.849081Z",
     "start_time": "2019-11-13T05:07:01.017Z"
    }
   },
   "outputs": [],
   "source": [
    "import seaborn as sns"
   ]
  },
  {
   "cell_type": "code",
   "execution_count": null,
   "metadata": {
    "ExecuteTime": {
     "end_time": "2019-11-13T05:07:18.850335Z",
     "start_time": "2019-11-13T05:07:01.020Z"
    }
   },
   "outputs": [],
   "source": [
    "metric = 'hopkins_statistic'\n",
    "sns.barplot(x=metric,\n",
    "            y=\"species\",\n",
    "            hue='family',\n",
    "            data=clusterability_df.sort_values(by=metric),\n",
    "            )"
   ]
  }
 ],
 "metadata": {
  "kernelspec": {
   "display_name": "Python [conda env:anaconda3-py19] *",
   "language": "python",
   "name": "conda-env-anaconda3-py19-py"
  },
  "language_info": {
   "codemirror_mode": {
    "name": "ipython",
    "version": 3
   },
   "file_extension": ".py",
   "mimetype": "text/x-python",
   "name": "python",
   "nbconvert_exporter": "python",
   "pygments_lexer": "ipython3",
   "version": "3.6.7"
  }
 },
 "nbformat": 4,
 "nbformat_minor": 2
}
